{
 "cells": [
  {
   "cell_type": "code",
   "execution_count": 1,
   "metadata": {},
   "outputs": [],
   "source": [
    "%matplotlib inline\n",
    "%load_ext autoreload\n",
    "%autoreload 2"
   ]
  },
  {
   "cell_type": "code",
   "execution_count": 2,
   "metadata": {},
   "outputs": [],
   "source": [
    "import pickle\n",
    "import pandas as pd\n",
    "import numpy as np\n",
    "import matplotlib.pyplot as plt\n",
    "import matplotlib"
   ]
  },
  {
   "cell_type": "code",
   "execution_count": 3,
   "metadata": {},
   "outputs": [],
   "source": [
    "import torch\n",
    "import torch.nn as nn\n",
    "import torch.backends.cudnn as cudnn\n",
    "import torch.optim as optim\n",
    "import torch.nn.functional as F\n",
    "import torch.optim.lr_scheduler as lr_scheduler\n",
    "from torchvision import transforms, utils, models, datasets\n",
    "from torch.utils.data import Dataset, DataLoader"
   ]
  },
  {
   "cell_type": "code",
   "execution_count": 4,
   "metadata": {},
   "outputs": [],
   "source": [
    "from synthetic_utils import *"
   ]
  },
  {
   "cell_type": "code",
   "execution_count": 5,
   "metadata": {},
   "outputs": [],
   "source": [
    "from trainer_dataloader import *\n",
    "from networks import *\n",
    "from losses import *"
   ]
  },
  {
   "cell_type": "code",
   "execution_count": 6,
   "metadata": {},
   "outputs": [],
   "source": [
    "input_size = 96\n",
    "batch_size = 128\n",
    "num_workers = 4\n",
    "num_epochs = 20"
   ]
  },
  {
   "cell_type": "code",
   "execution_count": 7,
   "metadata": {},
   "outputs": [
    {
     "name": "stdout",
     "output_type": "stream",
     "text": [
      "Device set: cuda\n"
     ]
    }
   ],
   "source": [
    "cuda = False\n",
    "pin_memory = False\n",
    "if torch.cuda.is_available():\n",
    "    device = torch.device(\"cuda\")\n",
    "    torch.set_default_tensor_type('torch.cuda.FloatTensor')\n",
    "    cuda = True\n",
    "    cudnn.benchmark = True\n",
    "    pin_memory = True\n",
    "else:\n",
    "    device = torch.device(\"cpu\")\n",
    "\n",
    "print('Device set: {}'.format(device))"
   ]
  },
  {
   "cell_type": "code",
   "execution_count": 8,
   "metadata": {},
   "outputs": [],
   "source": [
    "data_transforms = {\n",
    "        'train': transforms.Compose([\n",
    "            transforms.Resize((input_size, input_size)),\n",
    "#             transforms.RandomRotation(10),\n",
    "            transforms.ToTensor(),\n",
    "            transforms.Normalize((0.5, 0.5, 0.5), (0.5, 0.5, 0.5))\n",
    "        ]),\n",
    "        'val': transforms.Compose([\n",
    "            transforms.Resize((input_size, input_size)),\n",
    "            transforms.ToTensor(),\n",
    "            transforms.Normalize((0.5, 0.5, 0.5), (0.5, 0.5, 0.5))])\n",
    "}"
   ]
  },
  {
   "cell_type": "code",
   "execution_count": 9,
   "metadata": {},
   "outputs": [],
   "source": [
    "# DATA_PATH = '/home/s1791387/diss/gen_shapes/'\n",
    "DATA_PATH = '/home/var/synthetic_data/dependent_gen/'\n",
    "TRAIN_PATH = os.path.join(DATA_PATH, 'train')\n",
    "VAL_PATH = os.path.join(DATA_PATH, 'valid')\n",
    "TEST_PATH = os.path.join(DATA_PATH, 'test')"
   ]
  },
  {
   "cell_type": "code",
   "execution_count": 10,
   "metadata": {},
   "outputs": [],
   "source": [
    "train_df = datasets.ImageFolder(root=TRAIN_PATH, transform=data_transforms['train'])\n",
    "val_df = datasets.ImageFolder(root=VAL_PATH, transform=data_transforms['val'])\n",
    "test_df = datasets.ImageFolder(root=TEST_PATH, transform=data_transforms['val'])"
   ]
  },
  {
   "cell_type": "code",
   "execution_count": 11,
   "metadata": {},
   "outputs": [],
   "source": [
    "train_loader = DataLoader(train_df, batch_size=batch_size, shuffle=True, num_workers=num_workers, pin_memory=pin_memory)\n",
    "val_loader = DataLoader(val_df, batch_size=batch_size, shuffle=False, num_workers=num_workers, pin_memory=pin_memory)\n",
    "test_loader = DataLoader(test_df, batch_size=batch_size, shuffle=False, num_workers=num_workers, pin_memory=pin_memory)"
   ]
  },
  {
   "cell_type": "code",
   "execution_count": null,
   "metadata": {},
   "outputs": [],
   "source": []
  },
  {
   "cell_type": "markdown",
   "metadata": {},
   "source": [
    "## Train only encoder first\n"
   ]
  },
  {
   "cell_type": "code",
   "execution_count": 12,
   "metadata": {},
   "outputs": [],
   "source": [
    "encoder = LeNet()\n",
    "classifier = ClassNet()"
   ]
  },
  {
   "cell_type": "code",
   "execution_count": 13,
   "metadata": {},
   "outputs": [
    {
     "data": {
      "text/plain": [
       "ClassNet(\n",
       "  (fc1): Linear(in_features=128, out_features=8, bias=True)\n",
       "  (fc2): Linear(in_features=8, out_features=1, bias=True)\n",
       "  (out_acc): Sigmoid()\n",
       ")"
      ]
     },
     "execution_count": 13,
     "metadata": {},
     "output_type": "execute_result"
    }
   ],
   "source": [
    "encoder.to(device)\n",
    "classifier.to(device)"
   ]
  },
  {
   "cell_type": "code",
   "execution_count": 14,
   "metadata": {},
   "outputs": [],
   "source": [
    "criterion = nn.BCELoss()\n",
    "opt_cls = optim.Adam(classifier.parameters(), lr=0.001, betas=(0.9, 0.999))\n",
    "opt_enc = optim.Adam(encoder.parameters(), lr=0.001, betas=(0.9, 0.999))\n",
    "scheduler_cls = lr_scheduler.StepLR(optimizer=opt_cls, gamma=0.99, step_size=1)\n",
    "scheduler_enc = lr_scheduler.StepLR(optimizer=opt_enc, gamma=0.99, step_size=1)"
   ]
  },
  {
   "cell_type": "code",
   "execution_count": 15,
   "metadata": {},
   "outputs": [
    {
     "name": "stdout",
     "output_type": "stream",
     "text": [
      "Epoch: 0/20\n"
     ]
    },
    {
     "name": "stderr",
     "output_type": "stream",
     "text": [
      "/home/var/anaconda3/envs/diss/lib/python3.6/site-packages/torch/nn/functional.py:1594: UserWarning: Using a target size (torch.Size([128])) that is different to the input size (torch.Size([128, 1])) is deprecated. Please ensure they have the same size.\n",
      "  \"Please ensure they have the same size.\".format(target.size(), input.size()))\n"
     ]
    },
    {
     "name": "stdout",
     "output_type": "stream",
     "text": [
      "Batch: [0/40]\tTime 2.323 (2.323)\tLoss 0.7205 (0.7205)\tAccuracy 0.4141 (0.4141)\n",
      "Batch: [10/40]\tTime 0.040 (0.467)\tLoss 0.6171 (0.6736)\tAccuracy 0.6719 (0.5959)\n",
      "Batch: [20/40]\tTime 1.048 (0.441)\tLoss 0.5618 (0.6211)\tAccuracy 0.7656 (0.6726)\n",
      "Batch: [30/40]\tTime 0.071 (0.400)\tLoss 0.4730 (0.5920)\tAccuracy 0.7578 (0.6981)\n",
      "----------\n"
     ]
    },
    {
     "name": "stderr",
     "output_type": "stream",
     "text": [
      "/home/var/anaconda3/envs/diss/lib/python3.6/site-packages/torch/nn/functional.py:1594: UserWarning: Using a target size (torch.Size([8])) that is different to the input size (torch.Size([8, 1])) is deprecated. Please ensure they have the same size.\n",
      "  \"Please ensure they have the same size.\".format(target.size(), input.size()))\n"
     ]
    },
    {
     "name": "stdout",
     "output_type": "stream",
     "text": [
      "Test: [0/4]\tTime 1.927 (1.927)\tLoss 0.5709 (0.5709)\tAccuracy 0.7344 (0.7344)\n",
      "Avg validation loss: 0.507150663137436 \t Accuracy: 0.79\n",
      "--------------------\n",
      "Epoch 0/20\tTime 17.626 sec (17.626 sec)\n",
      "--------------------\n",
      "Epoch: 1/20\n"
     ]
    },
    {
     "name": "stderr",
     "output_type": "stream",
     "text": [
      "/home/var/anaconda3/envs/diss/lib/python3.6/site-packages/torch/nn/functional.py:1594: UserWarning: Using a target size (torch.Size([116])) that is different to the input size (torch.Size([116, 1])) is deprecated. Please ensure they have the same size.\n",
      "  \"Please ensure they have the same size.\".format(target.size(), input.size()))\n"
     ]
    },
    {
     "name": "stdout",
     "output_type": "stream",
     "text": [
      "Batch: [0/40]\tTime 1.658 (1.658)\tLoss 0.4994 (0.4994)\tAccuracy 0.7656 (0.7656)\n",
      "Batch: [10/40]\tTime 0.048 (0.408)\tLoss 0.4255 (0.4456)\tAccuracy 0.8281 (0.8196)\n",
      "Batch: [20/40]\tTime 1.043 (0.376)\tLoss 0.5076 (0.4288)\tAccuracy 0.7500 (0.8162)\n",
      "Batch: [30/40]\tTime 0.052 (0.345)\tLoss 0.4253 (0.4234)\tAccuracy 0.8203 (0.8193)\n",
      "----------\n",
      "Test: [0/4]\tTime 1.764 (1.764)\tLoss 0.5062 (0.5062)\tAccuracy 0.7578 (0.7578)\n",
      "Avg validation loss: 0.4202294108867645 \t Accuracy: 0.824\n",
      "--------------------\n",
      "Epoch 1/20\tTime 15.381 sec (16.504 sec)\n",
      "--------------------\n",
      "Epoch: 2/20\n",
      "Batch: [0/40]\tTime 1.661 (1.661)\tLoss 0.3204 (0.3204)\tAccuracy 0.8828 (0.8828)\n",
      "Batch: [10/40]\tTime 0.048 (0.389)\tLoss 0.3478 (0.3454)\tAccuracy 0.8516 (0.8587)\n",
      "Batch: [20/40]\tTime 0.246 (0.337)\tLoss 0.3074 (0.3226)\tAccuracy 0.9141 (0.8743)\n",
      "Batch: [30/40]\tTime 0.280 (0.337)\tLoss 0.2625 (0.3150)\tAccuracy 0.8906 (0.8773)\n",
      "----------\n",
      "Test: [0/4]\tTime 2.551 (2.551)\tLoss 0.2694 (0.2694)\tAccuracy 0.9375 (0.9375)\n",
      "Avg validation loss: 0.26919303035736086 \t Accuracy: 0.912\n",
      "--------------------\n",
      "Epoch 2/20\tTime 16.484 sec (16.497 sec)\n",
      "--------------------\n",
      "Epoch: 3/20\n",
      "Batch: [0/40]\tTime 2.655 (2.655)\tLoss 0.1803 (0.1803)\tAccuracy 0.9609 (0.9609)\n",
      "Batch: [10/40]\tTime 0.062 (0.636)\tLoss 0.1181 (0.2021)\tAccuracy 0.9766 (0.9339)\n",
      "Batch: [20/40]\tTime 1.831 (0.600)\tLoss 0.2202 (0.2027)\tAccuracy 0.8828 (0.9249)\n",
      "Batch: [30/40]\tTime 0.048 (0.529)\tLoss 0.2372 (0.1917)\tAccuracy 0.9062 (0.9299)\n",
      "----------\n",
      "Test: [0/4]\tTime 2.669 (2.669)\tLoss 0.1200 (0.1200)\tAccuracy 0.9531 (0.9531)\n",
      "Avg validation loss: 0.2194497287273407 \t Accuracy: 0.912\n",
      "--------------------\n",
      "Epoch 3/20\tTime 22.843 sec (18.084 sec)\n",
      "--------------------\n",
      "Epoch: 4/20\n",
      "Batch: [0/40]\tTime 2.605 (2.605)\tLoss 0.1587 (0.1587)\tAccuracy 0.9453 (0.9453)\n",
      "Batch: [10/40]\tTime 0.081 (0.645)\tLoss 0.1287 (0.1179)\tAccuracy 0.9531 (0.9609)\n",
      "Batch: [20/40]\tTime 1.800 (0.606)\tLoss 0.1137 (0.1293)\tAccuracy 0.9453 (0.9550)\n",
      "Batch: [30/40]\tTime 0.240 (0.527)\tLoss 0.0511 (0.1185)\tAccuracy 0.9766 (0.9584)\n",
      "----------\n",
      "Test: [0/4]\tTime 2.689 (2.689)\tLoss 0.0429 (0.0429)\tAccuracy 0.9844 (0.9844)\n",
      "Avg validation loss: 0.11090367174148559 \t Accuracy: 0.958\n",
      "--------------------\n",
      "Epoch 4/20\tTime 22.996 sec (19.066 sec)\n",
      "--------------------\n",
      "Epoch: 5/20\n",
      "Batch: [0/40]\tTime 2.482 (2.482)\tLoss 0.0513 (0.0513)\tAccuracy 0.9766 (0.9766)\n",
      "Batch: [10/40]\tTime 0.063 (0.638)\tLoss 0.0206 (0.0501)\tAccuracy 1.0000 (0.9830)\n",
      "Batch: [20/40]\tTime 1.730 (0.604)\tLoss 0.0251 (0.0440)\tAccuracy 1.0000 (0.9851)\n",
      "Batch: [30/40]\tTime 0.069 (0.539)\tLoss 0.0223 (0.0388)\tAccuracy 0.9922 (0.9869)\n",
      "----------\n",
      "Test: [0/4]\tTime 2.774 (2.774)\tLoss 0.1395 (0.1395)\tAccuracy 0.9375 (0.9375)\n",
      "Avg validation loss: 0.09738448569178582 \t Accuracy: 0.97\n",
      "--------------------\n",
      "Epoch 5/20\tTime 23.513 sec (19.807 sec)\n",
      "--------------------\n",
      "Epoch: 6/20\n",
      "Batch: [0/40]\tTime 2.611 (2.611)\tLoss 0.0494 (0.0494)\tAccuracy 0.9844 (0.9844)\n",
      "Batch: [10/40]\tTime 0.048 (0.637)\tLoss 0.0673 (0.0247)\tAccuracy 0.9766 (0.9922)\n",
      "Batch: [20/40]\tTime 1.482 (0.577)\tLoss 0.0091 (0.0185)\tAccuracy 0.9922 (0.9948)\n",
      "Batch: [30/40]\tTime 0.056 (0.527)\tLoss 0.0095 (0.0173)\tAccuracy 1.0000 (0.9950)\n",
      "----------\n",
      "Test: [0/4]\tTime 2.657 (2.657)\tLoss 0.0719 (0.0719)\tAccuracy 0.9766 (0.9766)\n",
      "Avg validation loss: 0.07039772020280362 \t Accuracy: 0.982\n",
      "--------------------\n",
      "Epoch 6/20\tTime 22.931 sec (20.254 sec)\n",
      "--------------------\n",
      "Epoch: 7/20\n",
      "Batch: [0/40]\tTime 2.705 (2.705)\tLoss 0.0022 (0.0022)\tAccuracy 1.0000 (1.0000)\n",
      "Batch: [10/40]\tTime 0.094 (0.637)\tLoss 0.0043 (0.0064)\tAccuracy 1.0000 (0.9979)\n",
      "Batch: [20/40]\tTime 1.893 (0.601)\tLoss 0.0014 (0.0064)\tAccuracy 1.0000 (0.9981)\n",
      "Batch: [30/40]\tTime 0.049 (0.525)\tLoss 0.0028 (0.0070)\tAccuracy 1.0000 (0.9980)\n",
      "----------\n",
      "Test: [0/4]\tTime 2.577 (2.577)\tLoss 0.0419 (0.0419)\tAccuracy 0.9844 (0.9844)\n",
      "Avg validation loss: 0.06616096644103527 \t Accuracy: 0.982\n",
      "--------------------\n",
      "Epoch 7/20\tTime 22.720 sec (20.562 sec)\n",
      "--------------------\n",
      "Epoch: 8/20\n",
      "Batch: [0/40]\tTime 2.617 (2.617)\tLoss 0.0012 (0.0012)\tAccuracy 1.0000 (1.0000)\n",
      "Batch: [10/40]\tTime 0.064 (0.633)\tLoss 0.0022 (0.0031)\tAccuracy 1.0000 (1.0000)\n",
      "Batch: [20/40]\tTime 1.602 (0.599)\tLoss 0.0038 (0.0027)\tAccuracy 1.0000 (1.0000)\n",
      "Batch: [30/40]\tTime 0.175 (0.536)\tLoss 0.0007 (0.0028)\tAccuracy 1.0000 (0.9997)\n",
      "----------\n",
      "Test: [0/4]\tTime 2.647 (2.647)\tLoss 0.0217 (0.0217)\tAccuracy 0.9922 (0.9922)\n",
      "Avg validation loss: 0.05665653628110886 \t Accuracy: 0.988\n",
      "--------------------\n",
      "Epoch 8/20\tTime 23.192 sec (20.854 sec)\n",
      "--------------------\n",
      "Epoch: 9/20\n",
      "Batch: [0/40]\tTime 2.709 (2.709)\tLoss 0.0004 (0.0004)\tAccuracy 1.0000 (1.0000)\n",
      "Batch: [10/40]\tTime 0.056 (0.634)\tLoss 0.0004 (0.0013)\tAccuracy 1.0000 (1.0000)\n",
      "Batch: [20/40]\tTime 1.713 (0.597)\tLoss 0.0042 (0.0012)\tAccuracy 1.0000 (1.0000)\n",
      "Batch: [30/40]\tTime 0.076 (0.533)\tLoss 0.0007 (0.0026)\tAccuracy 1.0000 (0.9997)\n",
      "----------\n",
      "Test: [0/4]\tTime 2.523 (2.523)\tLoss 0.0759 (0.0759)\tAccuracy 0.9688 (0.9688)\n",
      "Avg validation loss: 0.08816772249341011 \t Accuracy: 0.982\n",
      "--------------------\n",
      "Epoch 9/20\tTime 23.148 sec (21.083 sec)\n",
      "--------------------\n",
      "Epoch: 10/20\n",
      "Batch: [0/40]\tTime 2.697 (2.697)\tLoss 0.0014 (0.0014)\tAccuracy 1.0000 (1.0000)\n",
      "Batch: [10/40]\tTime 0.059 (0.627)\tLoss 0.0003 (0.0008)\tAccuracy 1.0000 (1.0000)\n",
      "Batch: [20/40]\tTime 1.752 (0.608)\tLoss 0.0004 (0.0007)\tAccuracy 1.0000 (1.0000)\n",
      "Batch: [30/40]\tTime 0.476 (0.537)\tLoss 0.0059 (0.0008)\tAccuracy 1.0000 (1.0000)\n",
      "----------\n",
      "Test: [0/4]\tTime 2.556 (2.556)\tLoss 0.0645 (0.0645)\tAccuracy 0.9688 (0.9688)\n",
      "Avg validation loss: 0.08545653630793094 \t Accuracy: 0.982\n",
      "--------------------\n",
      "Epoch 10/20\tTime 23.082 sec (21.265 sec)\n",
      "--------------------\n",
      "Epoch: 11/20\n",
      "Batch: [0/40]\tTime 2.849 (2.849)\tLoss 0.0034 (0.0034)\tAccuracy 1.0000 (1.0000)\n",
      "Batch: [10/40]\tTime 0.060 (0.647)\tLoss 0.0002 (0.0007)\tAccuracy 1.0000 (1.0000)\n",
      "Batch: [20/40]\tTime 1.544 (0.607)\tLoss 0.0001 (0.0005)\tAccuracy 1.0000 (1.0000)\n",
      "Batch: [30/40]\tTime 0.210 (0.541)\tLoss 0.0001 (0.0005)\tAccuracy 1.0000 (1.0000)\n",
      "----------\n",
      "Test: [0/4]\tTime 2.867 (2.867)\tLoss 0.0618 (0.0618)\tAccuracy 0.9766 (0.9766)\n",
      "Avg validation loss: 0.08452739453315734 \t Accuracy: 0.984\n",
      "--------------------\n",
      "Epoch 11/20\tTime 23.695 sec (21.468 sec)\n",
      "--------------------\n",
      "Epoch: 12/20\n",
      "Batch: [0/40]\tTime 2.904 (2.904)\tLoss 0.0001 (0.0001)\tAccuracy 1.0000 (1.0000)\n",
      "Batch: [10/40]\tTime 0.065 (0.652)\tLoss 0.0002 (0.0003)\tAccuracy 1.0000 (1.0000)\n",
      "Batch: [20/40]\tTime 1.685 (0.608)\tLoss 0.0000 (0.0003)\tAccuracy 1.0000 (1.0000)\n",
      "Batch: [30/40]\tTime 0.360 (0.538)\tLoss 0.0003 (0.0002)\tAccuracy 1.0000 (1.0000)\n",
      "----------\n",
      "Test: [0/4]\tTime 2.699 (2.699)\tLoss 0.0416 (0.0416)\tAccuracy 0.9844 (0.9844)\n",
      "Avg validation loss: 0.07537699703872204 \t Accuracy: 0.986\n",
      "--------------------\n",
      "Epoch 12/20\tTime 23.320 sec (21.610 sec)\n",
      "--------------------\n",
      "Epoch: 13/20\n",
      "Batch: [0/40]\tTime 2.458 (2.458)\tLoss 0.0003 (0.0003)\tAccuracy 1.0000 (1.0000)\n",
      "Batch: [10/40]\tTime 0.076 (0.617)\tLoss 0.0001 (0.0001)\tAccuracy 1.0000 (1.0000)\n",
      "Batch: [20/40]\tTime 1.411 (0.572)\tLoss 0.0001 (0.0001)\tAccuracy 1.0000 (1.0000)\n",
      "Batch: [30/40]\tTime 0.056 (0.521)\tLoss 0.0002 (0.0001)\tAccuracy 1.0000 (1.0000)\n",
      "----------\n",
      "Test: [0/4]\tTime 2.593 (2.593)\tLoss 0.0376 (0.0376)\tAccuracy 0.9844 (0.9844)\n",
      "Avg validation loss: 0.09888705903291703 \t Accuracy: 0.986\n",
      "--------------------\n",
      "Epoch 13/20\tTime 22.610 sec (21.682 sec)\n",
      "--------------------\n",
      "Epoch: 14/20\n",
      "Batch: [0/40]\tTime 2.682 (2.682)\tLoss 0.0001 (0.0001)\tAccuracy 1.0000 (1.0000)\n",
      "Batch: [10/40]\tTime 0.082 (0.622)\tLoss 0.0000 (0.0001)\tAccuracy 1.0000 (1.0000)\n",
      "Batch: [20/40]\tTime 1.696 (0.588)\tLoss 0.0001 (0.0001)\tAccuracy 1.0000 (1.0000)\n",
      "Batch: [30/40]\tTime 0.089 (0.537)\tLoss 0.0001 (0.0001)\tAccuracy 1.0000 (1.0000)\n",
      "----------\n",
      "Test: [0/4]\tTime 2.541 (2.541)\tLoss 0.0355 (0.0355)\tAccuracy 0.9844 (0.9844)\n",
      "Avg validation loss: 0.09925809217989445 \t Accuracy: 0.986\n",
      "--------------------\n",
      "Epoch 14/20\tTime 22.865 sec (21.760 sec)\n",
      "--------------------\n",
      "Epoch: 15/20\n",
      "Batch: [0/40]\tTime 2.832 (2.832)\tLoss 0.0002 (0.0002)\tAccuracy 1.0000 (1.0000)\n",
      "Batch: [10/40]\tTime 0.078 (0.652)\tLoss 0.0000 (0.0001)\tAccuracy 1.0000 (1.0000)\n",
      "Batch: [20/40]\tTime 1.614 (0.604)\tLoss 0.0001 (0.0001)\tAccuracy 1.0000 (1.0000)\n",
      "Batch: [30/40]\tTime 0.070 (0.539)\tLoss 0.0001 (0.0001)\tAccuracy 1.0000 (1.0000)\n",
      "----------\n",
      "Test: [0/4]\tTime 2.644 (2.644)\tLoss 0.0368 (0.0368)\tAccuracy 0.9844 (0.9844)\n",
      "Avg validation loss: 0.10043090391159058 \t Accuracy: 0.986\n",
      "--------------------\n",
      "Epoch 15/20\tTime 23.002 sec (21.838 sec)\n",
      "--------------------\n",
      "Epoch: 16/20\n",
      "Batch: [0/40]\tTime 2.733 (2.733)\tLoss 0.0000 (0.0000)\tAccuracy 1.0000 (1.0000)\n",
      "Batch: [10/40]\tTime 0.084 (0.645)\tLoss 0.0000 (0.0000)\tAccuracy 1.0000 (1.0000)\n",
      "Batch: [20/40]\tTime 1.806 (0.601)\tLoss 0.0003 (0.0001)\tAccuracy 1.0000 (1.0000)\n",
      "Batch: [30/40]\tTime 0.056 (0.537)\tLoss 0.0001 (0.0001)\tAccuracy 1.0000 (1.0000)\n",
      "----------\n",
      "Test: [0/4]\tTime 2.601 (2.601)\tLoss 0.0367 (0.0367)\tAccuracy 0.9844 (0.9844)\n",
      "Avg validation loss: 0.10115174324810505 \t Accuracy: 0.986\n",
      "--------------------\n",
      "Epoch 16/20\tTime 22.994 sec (21.906 sec)\n",
      "--------------------\n",
      "Epoch: 17/20\n",
      "Batch: [0/40]\tTime 2.558 (2.558)\tLoss 0.0001 (0.0001)\tAccuracy 1.0000 (1.0000)\n",
      "Batch: [10/40]\tTime 0.050 (0.632)\tLoss 0.0001 (0.0001)\tAccuracy 1.0000 (1.0000)\n",
      "Batch: [20/40]\tTime 1.752 (0.611)\tLoss 0.0000 (0.0001)\tAccuracy 1.0000 (1.0000)\n",
      "Batch: [30/40]\tTime 0.068 (0.553)\tLoss 0.0000 (0.0001)\tAccuracy 1.0000 (1.0000)\n",
      "----------\n",
      "Test: [0/4]\tTime 2.511 (2.511)\tLoss 0.0365 (0.0365)\tAccuracy 0.9844 (0.9844)\n",
      "Avg validation loss: 0.10138569140434266 \t Accuracy: 0.986\n",
      "--------------------\n",
      "Epoch 17/20\tTime 23.149 sec (21.975 sec)\n",
      "--------------------\n",
      "Epoch: 18/20\n",
      "Batch: [0/40]\tTime 2.663 (2.663)\tLoss 0.0000 (0.0000)\tAccuracy 1.0000 (1.0000)\n",
      "Batch: [10/40]\tTime 0.074 (0.638)\tLoss 0.0000 (0.0001)\tAccuracy 1.0000 (1.0000)\n",
      "Batch: [20/40]\tTime 1.992 (0.609)\tLoss 0.0000 (0.0001)\tAccuracy 1.0000 (1.0000)\n",
      "Batch: [30/40]\tTime 0.044 (0.548)\tLoss 0.0001 (0.0001)\tAccuracy 1.0000 (1.0000)\n",
      "----------\n",
      "Test: [0/4]\tTime 2.572 (2.572)\tLoss 0.0360 (0.0360)\tAccuracy 0.9844 (0.9844)\n",
      "Avg validation loss: 0.10190004821121693 \t Accuracy: 0.986\n",
      "--------------------\n",
      "Epoch 18/20\tTime 23.638 sec (22.063 sec)\n",
      "--------------------\n",
      "Epoch: 19/20\n",
      "Batch: [0/40]\tTime 2.464 (2.464)\tLoss 0.0001 (0.0001)\tAccuracy 1.0000 (1.0000)\n",
      "Batch: [10/40]\tTime 0.148 (0.621)\tLoss 0.0000 (0.0000)\tAccuracy 1.0000 (1.0000)\n",
      "Batch: [20/40]\tTime 1.579 (0.578)\tLoss 0.0001 (0.0000)\tAccuracy 1.0000 (1.0000)\n",
      "Batch: [30/40]\tTime 0.062 (0.523)\tLoss 0.0000 (0.0000)\tAccuracy 1.0000 (1.0000)\n",
      "----------\n",
      "Test: [0/4]\tTime 2.335 (2.335)\tLoss 0.0374 (0.0374)\tAccuracy 0.9844 (0.9844)\n",
      "Avg validation loss: 0.10248762433230876 \t Accuracy: 0.986\n",
      "--------------------\n",
      "Epoch 19/20\tTime 22.363 sec (22.078 sec)\n",
      "--------------------\n"
     ]
    }
   ],
   "source": [
    "train_losses = []\n",
    "train_accs = []\n",
    "val_losses = []\n",
    "val_accs = []\n",
    "epoch_time = AverageMeter()\n",
    "ep_end = time.time()\n",
    "for epoch in range(0, num_epochs):\n",
    "        print('Epoch: {}/{}'.format(epoch, num_epochs))\n",
    "        scheduler_cls.step()\n",
    "        scheduler_enc.step()\n",
    "        # train\n",
    "        train_loss, train_acc = train_encoder_classifier_epoch(train_loader, encoder,\n",
    "                                classifier, opt_enc,\n",
    "                                opt_cls, criterion, device)\n",
    "        train_losses.append(train_loss)\n",
    "        train_accs.append(train_acc)\n",
    "        # validate\n",
    "        print('-'*10)\n",
    "        val_loss, val_acc = validate_encoder_classifier_epoch(val_loader, encoder, classifier,\n",
    "                                 criterion, device)\n",
    "\n",
    "        print('Avg validation loss: {} \\t Accuracy: {}'.format(val_loss, val_acc))\n",
    "        val_losses.append(val_loss)\n",
    "        val_accs.append(val_acc)\n",
    "        \n",
    "        print('-' * 20)\n",
    "        epoch_time.update(time.time() - ep_end)\n",
    "        ep_end = time.time()\n",
    "        print('Epoch {}/{}\\t'\n",
    "              'Time {epoch_time.val:.3f} sec ({epoch_time.avg:.3f} sec)'.format(epoch, num_epochs, epoch_time=epoch_time))\n",
    "        print('-'*20)"
   ]
  },
  {
   "cell_type": "code",
   "execution_count": 16,
   "metadata": {},
   "outputs": [
    {
     "name": "stdout",
     "output_type": "stream",
     "text": [
      "Test: [0/4]\tTime 2.616 (2.616)\tLoss 0.2628 (0.2628)\tAccuracy 0.9766 (0.9766)\n"
     ]
    },
    {
     "name": "stderr",
     "output_type": "stream",
     "text": [
      "/home/var/anaconda3/envs/diss/lib/python3.6/site-packages/torch/nn/functional.py:1594: UserWarning: Using a target size (torch.Size([128])) that is different to the input size (torch.Size([128, 1])) is deprecated. Please ensure they have the same size.\n",
      "  \"Please ensure they have the same size.\".format(target.size(), input.size()))\n",
      "/home/var/anaconda3/envs/diss/lib/python3.6/site-packages/torch/nn/functional.py:1594: UserWarning: Using a target size (torch.Size([116])) that is different to the input size (torch.Size([116, 1])) is deprecated. Please ensure they have the same size.\n",
      "  \"Please ensure they have the same size.\".format(target.size(), input.size()))\n"
     ]
    },
    {
     "data": {
      "text/plain": [
       "(0.16127669563889505, 0.976)"
      ]
     },
     "execution_count": 16,
     "metadata": {},
     "output_type": "execute_result"
    }
   ],
   "source": [
    "validate_encoder_classifier_epoch(test_loader, encoder, classifier,\n",
    "                                 criterion, device)"
   ]
  },
  {
   "cell_type": "code",
   "execution_count": 17,
   "metadata": {},
   "outputs": [],
   "source": [
    "import matplotlib.pyplot as plt"
   ]
  },
  {
   "cell_type": "code",
   "execution_count": 18,
   "metadata": {},
   "outputs": [
    {
     "data": {
      "text/plain": [
       "[<matplotlib.lines.Line2D at 0x7f0b003de518>]"
      ]
     },
     "execution_count": 18,
     "metadata": {},
     "output_type": "execute_result"
    },
    {
     "data": {
      "image/png": "[encoded data removed]",
      "text/plain": [
       "<Figure size 432x288 with 4 Axes>"
      ]
     },
     "metadata": {},
     "output_type": "display_data"
    }
   ],
   "source": [
    "plt.subplot(221)\n",
    "plt.title('training classification loss')\n",
    "plt.plot(train_losses)\n",
    "plt.subplot(222)\n",
    "plt.title('training accuracy')\n",
    "plt.plot(train_accs)\n",
    "plt.subplot(223)\n",
    "plt.title('validation loss')\n",
    "plt.plot(val_losses)\n",
    "plt.subplot(224)\n",
    "plt.title('validation accuracy')\n",
    "plt.plot(val_accs)"
   ]
  },
  {
   "cell_type": "code",
   "execution_count": 20,
   "metadata": {},
   "outputs": [],
   "source": [
    "from synthetic_dataloader import *"
   ]
  },
  {
   "cell_type": "code",
   "execution_count": 21,
   "metadata": {},
   "outputs": [],
   "source": [
    "gender_train = GenderDataset(train_df)\n",
    "gender_valid = GenderDataset(val_df)\n",
    "gender_test = GenderDataset(test_df)"
   ]
  },
  {
   "cell_type": "code",
   "execution_count": 22,
   "metadata": {},
   "outputs": [],
   "source": [
    "advtrain_loader = DataLoader(gender_train, batch_size=batch_size, shuffle=True, num_workers=num_workers, pin_memory=pin_memory)\n",
    "advval_loader = DataLoader(gender_valid, batch_size=batch_size, shuffle=False, num_workers=num_workers, pin_memory=pin_memory)\n",
    "advtest_loader = DataLoader(gender_test, batch_size=batch_size, shuffle=False, num_workers=num_workers, pin_memory=pin_memory)"
   ]
  },
  {
   "cell_type": "code",
   "execution_count": null,
   "metadata": {},
   "outputs": [],
   "source": []
  },
  {
   "cell_type": "code",
   "execution_count": 23,
   "metadata": {},
   "outputs": [],
   "source": [
    "encoder = LeNet()\n",
    "adversary = ClassNet()"
   ]
  },
  {
   "cell_type": "code",
   "execution_count": 24,
   "metadata": {},
   "outputs": [
    {
     "data": {
      "text/plain": [
       "ClassNet(\n",
       "  (fc1): Linear(in_features=128, out_features=8, bias=True)\n",
       "  (fc2): Linear(in_features=8, out_features=1, bias=True)\n",
       "  (out_acc): Sigmoid()\n",
       ")"
      ]
     },
     "execution_count": 24,
     "metadata": {},
     "output_type": "execute_result"
    }
   ],
   "source": [
    "encoder.to(device)\n",
    "adversary.to(device)"
   ]
  },
  {
   "cell_type": "code",
   "execution_count": 25,
   "metadata": {},
   "outputs": [],
   "source": [
    "criterion = nn.BCELoss()\n",
    "opt_cls = optim.Adam(classifier.parameters(), lr=0.001, betas=(0.9, 0.999))\n",
    "opt_enc = optim.Adam(adversary.parameters(), lr=0.001, betas=(0.9, 0.999))\n",
    "scheduler_cls = lr_scheduler.StepLR(optimizer=opt_cls, gamma=0.99, step_size=1)\n",
    "scheduler_enc = lr_scheduler.StepLR(optimizer=opt_enc, gamma=0.99, step_size=1)"
   ]
  },
  {
   "cell_type": "code",
   "execution_count": 26,
   "metadata": {},
   "outputs": [
    {
     "name": "stdout",
     "output_type": "stream",
     "text": [
      "Epoch: 0/20\n"
     ]
    },
    {
     "name": "stderr",
     "output_type": "stream",
     "text": [
      "/home/var/anaconda3/envs/diss/lib/python3.6/site-packages/torch/nn/functional.py:1594: UserWarning: Using a target size (torch.Size([128])) that is different to the input size (torch.Size([128, 1])) is deprecated. Please ensure they have the same size.\n",
      "  \"Please ensure they have the same size.\".format(target.size(), input.size()))\n"
     ]
    },
    {
     "name": "stdout",
     "output_type": "stream",
     "text": [
      "Batch: [0/40]\tTime 1.828 (1.828)\tLoss 0.6996 (0.6996)\tAccuracy 0.4141 (0.4141)\n",
      "Batch: [10/40]\tTime 0.062 (0.420)\tLoss 0.6913 (0.6927)\tAccuracy 0.4922 (0.4922)\n",
      "Batch: [20/40]\tTime 0.790 (0.372)\tLoss 0.6868 (0.6912)\tAccuracy 0.5625 (0.5056)\n",
      "Batch: [30/40]\tTime 0.067 (0.354)\tLoss 0.6895 (0.6904)\tAccuracy 0.5078 (0.5129)\n",
      "----------\n"
     ]
    },
    {
     "name": "stderr",
     "output_type": "stream",
     "text": [
      "/home/var/anaconda3/envs/diss/lib/python3.6/site-packages/torch/nn/functional.py:1594: UserWarning: Using a target size (torch.Size([8])) that is different to the input size (torch.Size([8, 1])) is deprecated. Please ensure they have the same size.\n",
      "  \"Please ensure they have the same size.\".format(target.size(), input.size()))\n"
     ]
    },
    {
     "name": "stdout",
     "output_type": "stream",
     "text": [
      "Test: [0/4]\tTime 1.887 (1.887)\tLoss 0.6796 (0.6796)\tAccuracy 0.8672 (0.8672)\n",
      "Avg validation loss: 0.6834851284027099 \t Accuracy: 0.754\n",
      "--------------------\n",
      "Epoch 0/20\tTime 15.428 sec (15.428 sec)\n",
      "--------------------\n",
      "Epoch: 1/20\n"
     ]
    },
    {
     "name": "stderr",
     "output_type": "stream",
     "text": [
      "/home/var/anaconda3/envs/diss/lib/python3.6/site-packages/torch/nn/functional.py:1594: UserWarning: Using a target size (torch.Size([116])) that is different to the input size (torch.Size([116, 1])) is deprecated. Please ensure they have the same size.\n",
      "  \"Please ensure they have the same size.\".format(target.size(), input.size()))\n"
     ]
    },
    {
     "name": "stdout",
     "output_type": "stream",
     "text": [
      "Batch: [0/40]\tTime 1.629 (1.629)\tLoss 0.6853 (0.6853)\tAccuracy 0.6641 (0.6641)\n",
      "Batch: [10/40]\tTime 0.059 (0.420)\tLoss 0.6818 (0.6833)\tAccuracy 0.7500 (0.7443)\n",
      "Batch: [20/40]\tTime 0.456 (0.358)\tLoss 0.6749 (0.6813)\tAccuracy 0.7969 (0.7571)\n",
      "Batch: [30/40]\tTime 0.317 (0.346)\tLoss 0.6753 (0.6796)\tAccuracy 0.7188 (0.7578)\n",
      "----------\n",
      "Test: [0/4]\tTime 1.793 (1.793)\tLoss 0.6831 (0.6831)\tAccuracy 0.6172 (0.6172)\n",
      "Avg validation loss: 0.6717818779945374 \t Accuracy: 0.716\n",
      "--------------------\n",
      "Epoch 1/20\tTime 15.081 sec (15.255 sec)\n",
      "--------------------\n",
      "Epoch: 2/20\n",
      "Batch: [0/40]\tTime 1.746 (1.746)\tLoss 0.6735 (0.6735)\tAccuracy 0.6953 (0.6953)\n",
      "Batch: [10/40]\tTime 0.046 (0.418)\tLoss 0.6611 (0.6697)\tAccuracy 0.7656 (0.7209)\n",
      "Batch: [20/40]\tTime 0.807 (0.380)\tLoss 0.6707 (0.6675)\tAccuracy 0.6719 (0.7329)\n",
      "Batch: [30/40]\tTime 0.214 (0.357)\tLoss 0.6621 (0.6664)\tAccuracy 0.7578 (0.7286)\n",
      "----------\n",
      "Test: [0/4]\tTime 1.691 (1.691)\tLoss 0.6700 (0.6700)\tAccuracy 0.6719 (0.6719)\n",
      "Avg validation loss: 0.655956341266632 \t Accuracy: 0.754\n",
      "--------------------\n",
      "Epoch 2/20\tTime 15.515 sec (15.342 sec)\n",
      "--------------------\n",
      "Epoch: 3/20\n",
      "Batch: [0/40]\tTime 1.809 (1.809)\tLoss 0.6634 (0.6634)\tAccuracy 0.7109 (0.7109)\n",
      "Batch: [10/40]\tTime 0.056 (0.439)\tLoss 0.6502 (0.6543)\tAccuracy 0.7812 (0.7528)\n",
      "Batch: [20/40]\tTime 1.299 (0.404)\tLoss 0.6393 (0.6512)\tAccuracy 0.8359 (0.7604)\n",
      "Batch: [30/40]\tTime 0.064 (0.373)\tLoss 0.6391 (0.6486)\tAccuracy 0.8047 (0.7634)\n",
      "----------\n",
      "Test: [0/4]\tTime 1.825 (1.825)\tLoss 0.6494 (0.6494)\tAccuracy 0.7422 (0.7422)\n",
      "Avg validation loss: 0.6362905931472779 \t Accuracy: 0.78\n",
      "--------------------\n",
      "Epoch 3/20\tTime 15.718 sec (15.436 sec)\n",
      "--------------------\n",
      "Epoch: 4/20\n",
      "Batch: [0/40]\tTime 1.715 (1.715)\tLoss 0.6383 (0.6383)\tAccuracy 0.7812 (0.7812)\n",
      "Batch: [10/40]\tTime 0.064 (0.388)\tLoss 0.6368 (0.6365)\tAccuracy 0.7656 (0.7827)\n",
      "Batch: [20/40]\tTime 0.228 (0.350)\tLoss 0.6294 (0.6311)\tAccuracy 0.8203 (0.7980)\n",
      "Batch: [30/40]\tTime 0.029 (0.336)\tLoss 0.6286 (0.6281)\tAccuracy 0.7812 (0.8002)\n",
      "----------\n",
      "Test: [0/4]\tTime 1.607 (1.607)\tLoss 0.6269 (0.6269)\tAccuracy 0.7500 (0.7500)\n",
      "Avg validation loss: 0.614300087928772 \t Accuracy: 0.784\n",
      "--------------------\n",
      "Epoch 4/20\tTime 14.735 sec (15.296 sec)\n",
      "--------------------\n",
      "Epoch: 5/20\n",
      "Batch: [0/40]\tTime 1.835 (1.835)\tLoss 0.6133 (0.6133)\tAccuracy 0.7891 (0.7891)\n",
      "Batch: [10/40]\tTime 0.050 (0.433)\tLoss 0.6016 (0.6121)\tAccuracy 0.7578 (0.7940)\n",
      "Batch: [20/40]\tTime 1.106 (0.392)\tLoss 0.5801 (0.6052)\tAccuracy 0.8203 (0.7999)\n",
      "Batch: [30/40]\tTime 0.044 (0.360)\tLoss 0.5808 (0.5998)\tAccuracy 0.8125 (0.8014)\n",
      "----------\n",
      "Test: [0/4]\tTime 1.766 (1.766)\tLoss 0.5705 (0.5705)\tAccuracy 0.8672 (0.8672)\n",
      "Avg validation loss: 0.578399655342102 \t Accuracy: 0.806\n",
      "--------------------\n",
      "Epoch 5/20\tTime 15.640 sec (15.353 sec)\n",
      "--------------------\n",
      "Epoch: 6/20\n",
      "Batch: [0/40]\tTime 1.786 (1.786)\tLoss 0.5774 (0.5774)\tAccuracy 0.7891 (0.7891)\n",
      "Batch: [10/40]\tTime 0.046 (0.414)\tLoss 0.5666 (0.5733)\tAccuracy 0.8125 (0.8089)\n",
      "Batch: [20/40]\tTime 0.978 (0.374)\tLoss 0.5620 (0.5724)\tAccuracy 0.8516 (0.8136)\n",
      "Batch: [30/40]\tTime 0.066 (0.350)\tLoss 0.5687 (0.5698)\tAccuracy 0.7656 (0.8087)\n",
      "----------\n",
      "Test: [0/4]\tTime 1.819 (1.819)\tLoss 0.5416 (0.5416)\tAccuracy 0.8672 (0.8672)\n",
      "Avg validation loss: 0.5501419024467469 \t Accuracy: 0.81\n",
      "--------------------\n",
      "Epoch 6/20\tTime 15.420 sec (15.363 sec)\n",
      "--------------------\n",
      "Epoch: 7/20\n",
      "Batch: [0/40]\tTime 1.953 (1.953)\tLoss 0.5189 (0.5189)\tAccuracy 0.8516 (0.8516)\n",
      "Batch: [10/40]\tTime 0.088 (0.404)\tLoss 0.5535 (0.5470)\tAccuracy 0.7734 (0.8097)\n",
      "Batch: [20/40]\tTime 0.710 (0.357)\tLoss 0.5627 (0.5452)\tAccuracy 0.7734 (0.8095)\n",
      "Batch: [30/40]\tTime 0.048 (0.344)\tLoss 0.5162 (0.5415)\tAccuracy 0.8594 (0.8110)\n",
      "----------\n",
      "Test: [0/4]\tTime 1.740 (1.740)\tLoss 0.5032 (0.5032)\tAccuracy 0.8906 (0.8906)\n",
      "Avg validation loss: 0.5234192924499512 \t Accuracy: 0.822\n",
      "--------------------\n",
      "Epoch 7/20\tTime 15.172 sec (15.339 sec)\n",
      "--------------------\n",
      "Epoch: 8/20\n",
      "Batch: [0/40]\tTime 1.763 (1.763)\tLoss 0.5531 (0.5531)\tAccuracy 0.7891 (0.7891)\n",
      "Batch: [10/40]\tTime 0.068 (0.432)\tLoss 0.4962 (0.5281)\tAccuracy 0.8359 (0.8104)\n",
      "Batch: [20/40]\tTime 0.587 (0.370)\tLoss 0.5087 (0.5249)\tAccuracy 0.7891 (0.8028)\n",
      "Batch: [30/40]\tTime 0.431 (0.358)\tLoss 0.4928 (0.5191)\tAccuracy 0.8359 (0.8105)\n",
      "----------\n",
      "Test: [0/4]\tTime 1.605 (1.605)\tLoss 0.4690 (0.4690)\tAccuracy 0.8750 (0.8750)\n",
      "Avg validation loss: 0.4922025742530823 \t Accuracy: 0.824\n",
      "--------------------\n",
      "Epoch 8/20\tTime 15.312 sec (15.336 sec)\n",
      "--------------------\n",
      "Epoch: 9/20\n",
      "Batch: [0/40]\tTime 1.715 (1.715)\tLoss 0.4712 (0.4712)\tAccuracy 0.8359 (0.8359)\n",
      "Batch: [10/40]\tTime 0.050 (0.414)\tLoss 0.4747 (0.4765)\tAccuracy 0.8359 (0.8381)\n",
      "Batch: [20/40]\tTime 1.200 (0.403)\tLoss 0.5036 (0.4815)\tAccuracy 0.7812 (0.8229)\n",
      "Batch: [30/40]\tTime 0.080 (0.371)\tLoss 0.4533 (0.4806)\tAccuracy 0.8281 (0.8188)\n",
      "----------\n",
      "Test: [0/4]\tTime 1.668 (1.668)\tLoss 0.3869 (0.3869)\tAccuracy 0.9062 (0.9062)\n",
      "Avg validation loss: 0.4463636269569397 \t Accuracy: 0.826\n",
      "--------------------\n",
      "Epoch 9/20\tTime 15.612 sec (15.363 sec)\n",
      "--------------------\n",
      "Epoch: 10/20\n",
      "Batch: [0/40]\tTime 1.856 (1.856)\tLoss 0.4483 (0.4483)\tAccuracy 0.8438 (0.8438)\n",
      "Batch: [10/40]\tTime 0.055 (0.404)\tLoss 0.4258 (0.4419)\tAccuracy 0.8281 (0.8189)\n",
      "Batch: [20/40]\tTime 1.247 (0.378)\tLoss 0.3999 (0.4448)\tAccuracy 0.8672 (0.8170)\n",
      "Batch: [30/40]\tTime 0.044 (0.345)\tLoss 0.4403 (0.4464)\tAccuracy 0.8594 (0.8196)\n",
      "----------\n",
      "Test: [0/4]\tTime 1.495 (1.495)\tLoss 0.3860 (0.3860)\tAccuracy 0.8906 (0.8906)\n",
      "Avg validation loss: 0.4265216989517212 \t Accuracy: 0.836\n",
      "--------------------\n",
      "Epoch 10/20\tTime 14.905 sec (15.322 sec)\n",
      "--------------------\n",
      "Epoch: 11/20\n",
      "Batch: [0/40]\tTime 1.577 (1.577)\tLoss 0.4449 (0.4449)\tAccuracy 0.8516 (0.8516)\n",
      "Batch: [10/40]\tTime 0.064 (0.388)\tLoss 0.3861 (0.4203)\tAccuracy 0.8359 (0.8430)\n",
      "Batch: [20/40]\tTime 0.542 (0.343)\tLoss 0.4031 (0.4177)\tAccuracy 0.8516 (0.8426)\n",
      "Batch: [30/40]\tTime 0.087 (0.333)\tLoss 0.3902 (0.4191)\tAccuracy 0.8672 (0.8407)\n",
      "----------\n",
      "Test: [0/4]\tTime 1.664 (1.664)\tLoss 0.3578 (0.3578)\tAccuracy 0.8906 (0.8906)\n",
      "Avg validation loss: 0.40929767608642575 \t Accuracy: 0.836\n",
      "--------------------\n",
      "Epoch 11/20\tTime 14.685 sec (15.269 sec)\n",
      "--------------------\n",
      "Epoch: 12/20\n",
      "Batch: [0/40]\tTime 1.765 (1.765)\tLoss 0.4761 (0.4761)\tAccuracy 0.7500 (0.7500)\n",
      "Batch: [10/40]\tTime 0.348 (0.431)\tLoss 0.3981 (0.4172)\tAccuracy 0.8594 (0.8366)\n",
      "Batch: [20/40]\tTime 0.780 (0.366)\tLoss 0.4241 (0.4140)\tAccuracy 0.8516 (0.8411)\n",
      "Batch: [30/40]\tTime 0.239 (0.345)\tLoss 0.4041 (0.4085)\tAccuracy 0.8047 (0.8425)\n",
      "----------\n",
      "Test: [0/4]\tTime 1.755 (1.755)\tLoss 0.3463 (0.3463)\tAccuracy 0.8828 (0.8828)\n",
      "Avg validation loss: 0.3962965033054352 \t Accuracy: 0.838\n",
      "--------------------\n",
      "Epoch 12/20\tTime 15.139 sec (15.259 sec)\n",
      "--------------------\n",
      "Epoch: 13/20\n",
      "Batch: [0/40]\tTime 1.705 (1.705)\tLoss 0.4417 (0.4417)\tAccuracy 0.7891 (0.7891)\n",
      "Batch: [10/40]\tTime 0.052 (0.436)\tLoss 0.4098 (0.3978)\tAccuracy 0.8359 (0.8388)\n",
      "Batch: [20/40]\tTime 0.955 (0.393)\tLoss 0.4300 (0.4009)\tAccuracy 0.8125 (0.8452)\n",
      "Batch: [30/40]\tTime 0.040 (0.358)\tLoss 0.3599 (0.3958)\tAccuracy 0.8594 (0.8460)\n",
      "----------\n",
      "Test: [0/4]\tTime 1.709 (1.709)\tLoss 0.3414 (0.3414)\tAccuracy 0.8906 (0.8906)\n",
      "Avg validation loss: 0.3860708191394806 \t Accuracy: 0.848\n",
      "--------------------\n",
      "Epoch 13/20\tTime 15.510 sec (15.277 sec)\n",
      "--------------------\n",
      "Epoch: 14/20\n",
      "Batch: [0/40]\tTime 1.861 (1.861)\tLoss 0.4032 (0.4032)\tAccuracy 0.7969 (0.7969)\n",
      "Batch: [10/40]\tTime 0.060 (0.440)\tLoss 0.3883 (0.3897)\tAccuracy 0.8672 (0.8445)\n",
      "Batch: [20/40]\tTime 0.804 (0.381)\tLoss 0.4030 (0.3874)\tAccuracy 0.8359 (0.8460)\n",
      "Batch: [30/40]\tTime 0.324 (0.363)\tLoss 0.3255 (0.3827)\tAccuracy 0.8828 (0.8523)\n",
      "----------\n",
      "Test: [0/4]\tTime 1.750 (1.750)\tLoss 0.3190 (0.3190)\tAccuracy 0.8828 (0.8828)\n",
      "Avg validation loss: 0.374951069355011 \t Accuracy: 0.836\n",
      "--------------------\n",
      "Epoch 14/20\tTime 15.691 sec (15.304 sec)\n",
      "--------------------\n",
      "Epoch: 15/20\n",
      "Batch: [0/40]\tTime 1.748 (1.748)\tLoss 0.3824 (0.3824)\tAccuracy 0.8984 (0.8984)\n",
      "Batch: [10/40]\tTime 0.048 (0.417)\tLoss 0.3857 (0.3831)\tAccuracy 0.8516 (0.8558)\n",
      "Batch: [20/40]\tTime 1.183 (0.404)\tLoss 0.3986 (0.3816)\tAccuracy 0.7969 (0.8527)\n",
      "Batch: [30/40]\tTime 0.044 (0.362)\tLoss 0.4021 (0.3749)\tAccuracy 0.7891 (0.8551)\n",
      "----------\n",
      "Test: [0/4]\tTime 1.686 (1.686)\tLoss 0.3184 (0.3184)\tAccuracy 0.8906 (0.8906)\n",
      "Avg validation loss: 0.36670792412757874 \t Accuracy: 0.85\n",
      "--------------------\n",
      "Epoch 15/20\tTime 15.389 sec (15.310 sec)\n",
      "--------------------\n",
      "Epoch: 16/20\n",
      "Batch: [0/40]\tTime 1.527 (1.527)\tLoss 0.4216 (0.4216)\tAccuracy 0.8203 (0.8203)\n",
      "Batch: [10/40]\tTime 0.064 (0.410)\tLoss 0.3565 (0.3658)\tAccuracy 0.8750 (0.8601)\n",
      "Batch: [20/40]\tTime 0.708 (0.364)\tLoss 0.3646 (0.3642)\tAccuracy 0.8516 (0.8609)\n",
      "Batch: [30/40]\tTime 0.052 (0.342)\tLoss 0.3247 (0.3599)\tAccuracy 0.9062 (0.8634)\n",
      "----------\n",
      "Test: [0/4]\tTime 1.752 (1.752)\tLoss 0.3122 (0.3122)\tAccuracy 0.8906 (0.8906)\n",
      "Avg validation loss: 0.35866657543182373 \t Accuracy: 0.852\n",
      "--------------------\n",
      "Epoch 16/20\tTime 14.880 sec (15.284 sec)\n",
      "--------------------\n",
      "Epoch: 17/20\n",
      "Batch: [0/40]\tTime 1.592 (1.592)\tLoss 0.3820 (0.3820)\tAccuracy 0.8438 (0.8438)\n",
      "Batch: [10/40]\tTime 0.047 (0.414)\tLoss 0.3865 (0.3553)\tAccuracy 0.8125 (0.8651)\n",
      "Batch: [20/40]\tTime 0.815 (0.375)\tLoss 0.3675 (0.3570)\tAccuracy 0.8516 (0.8612)\n",
      "Batch: [30/40]\tTime 0.054 (0.362)\tLoss 0.3575 (0.3568)\tAccuracy 0.8516 (0.8619)\n",
      "----------\n",
      "Test: [0/4]\tTime 1.827 (1.827)\tLoss 0.2980 (0.2980)\tAccuracy 0.8984 (0.8984)\n",
      "Avg validation loss: 0.35040717458724974 \t Accuracy: 0.852\n",
      "--------------------\n",
      "Epoch 17/20\tTime 15.707 sec (15.308 sec)\n",
      "--------------------\n",
      "Epoch: 18/20\n",
      "Batch: [0/40]\tTime 1.827 (1.827)\tLoss 0.3241 (0.3241)\tAccuracy 0.9062 (0.9062)\n",
      "Batch: [10/40]\tTime 0.049 (0.417)\tLoss 0.4188 (0.3395)\tAccuracy 0.8125 (0.8800)\n",
      "Batch: [20/40]\tTime 1.027 (0.388)\tLoss 0.3890 (0.3425)\tAccuracy 0.8672 (0.8754)\n",
      "Batch: [30/40]\tTime 0.048 (0.349)\tLoss 0.3650 (0.3477)\tAccuracy 0.8359 (0.8697)\n",
      "----------\n",
      "Test: [0/4]\tTime 1.729 (1.729)\tLoss 0.2915 (0.2915)\tAccuracy 0.9062 (0.9062)\n",
      "Avg validation loss: 0.3432892916202545 \t Accuracy: 0.858\n",
      "--------------------\n",
      "Epoch 18/20\tTime 15.369 sec (15.311 sec)\n",
      "--------------------\n",
      "Epoch: 19/20\n",
      "Batch: [0/40]\tTime 1.659 (1.659)\tLoss 0.3744 (0.3744)\tAccuracy 0.8750 (0.8750)\n",
      "Batch: [10/40]\tTime 0.057 (0.401)\tLoss 0.2706 (0.3474)\tAccuracy 0.9375 (0.8615)\n",
      "Batch: [20/40]\tTime 0.431 (0.343)\tLoss 0.4027 (0.3488)\tAccuracy 0.8203 (0.8612)\n",
      "Batch: [30/40]\tTime 0.074 (0.344)\tLoss 0.3468 (0.3446)\tAccuracy 0.8750 (0.8667)\n",
      "----------\n",
      "Test: [0/4]\tTime 1.513 (1.513)\tLoss 0.2841 (0.2841)\tAccuracy 0.9062 (0.9062)\n",
      "Avg validation loss: 0.3366322445869446 \t Accuracy: 0.858\n",
      "--------------------\n",
      "Epoch 19/20\tTime 14.864 sec (15.289 sec)\n",
      "--------------------\n"
     ]
    }
   ],
   "source": [
    "train_losses = []\n",
    "train_accs = []\n",
    "val_losses = []\n",
    "val_accs = []\n",
    "epoch_time = AverageMeter()\n",
    "ep_end = time.time()\n",
    "for epoch in range(0, num_epochs):\n",
    "        print('Epoch: {}/{}'.format(epoch, num_epochs))\n",
    "        scheduler_cls.step()\n",
    "        scheduler_enc.step()\n",
    "        # train\n",
    "        train_loss, train_acc = train_encoder_classifier_epoch(advtrain_loader, encoder,\n",
    "                                adversary, opt_enc,\n",
    "                                opt_cls, criterion, device)\n",
    "        train_losses.append(train_loss)\n",
    "        train_accs.append(train_acc)\n",
    "        # validate\n",
    "        print('-'*10)\n",
    "        val_loss, val_acc = validate_encoder_classifier_epoch(advval_loader, encoder, adversary,\n",
    "                                 criterion, device)\n",
    "\n",
    "        print('Avg validation loss: {} \\t Accuracy: {}'.format(val_loss, val_acc))\n",
    "        val_losses.append(val_loss)\n",
    "        val_accs.append(val_acc)\n",
    "        \n",
    "        print('-' * 20)\n",
    "        epoch_time.update(time.time() - ep_end)\n",
    "        ep_end = time.time()\n",
    "        print('Epoch {}/{}\\t'\n",
    "              'Time {epoch_time.val:.3f} sec ({epoch_time.avg:.3f} sec)'.format(epoch, num_epochs, epoch_time=epoch_time))\n",
    "        print('-'*20)"
   ]
  },
  {
   "cell_type": "code",
   "execution_count": 27,
   "metadata": {},
   "outputs": [
    {
     "name": "stdout",
     "output_type": "stream",
     "text": [
      "Test: [0/4]\tTime 1.526 (1.526)\tLoss 0.3130 (0.3130)\tAccuracy 0.9141 (0.9141)\n"
     ]
    },
    {
     "name": "stderr",
     "output_type": "stream",
     "text": [
      "/home/var/anaconda3/envs/diss/lib/python3.6/site-packages/torch/nn/functional.py:1594: UserWarning: Using a target size (torch.Size([128])) that is different to the input size (torch.Size([128, 1])) is deprecated. Please ensure they have the same size.\n",
      "  \"Please ensure they have the same size.\".format(target.size(), input.size()))\n",
      "/home/var/anaconda3/envs/diss/lib/python3.6/site-packages/torch/nn/functional.py:1594: UserWarning: Using a target size (torch.Size([116])) that is different to the input size (torch.Size([116, 1])) is deprecated. Please ensure they have the same size.\n",
      "  \"Please ensure they have the same size.\".format(target.size(), input.size()))\n"
     ]
    },
    {
     "data": {
      "text/plain": [
       "(0.3632740023136139, 0.872)"
      ]
     },
     "execution_count": 27,
     "metadata": {},
     "output_type": "execute_result"
    }
   ],
   "source": [
    "validate_encoder_classifier_epoch(advtest_loader, encoder, adversary, criterion, device)"
   ]
  },
  {
   "cell_type": "code",
   "execution_count": 28,
   "metadata": {},
   "outputs": [],
   "source": [
    "import matplotlib.pyplot as plt"
   ]
  },
  {
   "cell_type": "code",
   "execution_count": 29,
   "metadata": {},
   "outputs": [
    {
     "data": {
      "text/plain": [
       "[<matplotlib.lines.Line2D at 0x7f0b0027c9e8>]"
      ]
     },
     "execution_count": 29,
     "metadata": {},
     "output_type": "execute_result"
    },
    {
     "data": {
      "image/png": "[encoded data removed]",
      "text/plain": [
       "<Figure size 432x288 with 4 Axes>"
      ]
     },
     "metadata": {},
     "output_type": "display_data"
    }
   ],
   "source": [
    "plt.subplot(221)\n",
    "plt.title('training classification loss')\n",
    "plt.plot(train_losses)\n",
    "plt.subplot(222)\n",
    "plt.title('training accuracy')\n",
    "plt.plot(train_accs)\n",
    "plt.subplot(223)\n",
    "plt.title('validation loss')\n",
    "plt.plot(val_losses)\n",
    "plt.subplot(224)\n",
    "plt.title('validation accuracy')\n",
    "plt.plot(val_accs)"
   ]
  },
  {
   "cell_type": "code",
   "execution_count": null,
   "metadata": {},
   "outputs": [],
   "source": []
  }
 ],
 "metadata": {
  "kernelspec": {
   "display_name": "Python 3",
   "language": "python",
   "name": "python3"
  },
  "language_info": {
   "codemirror_mode": {
    "name": "ipython",
    "version": 3
   },
   "file_extension": ".py",
   "mimetype": "text/x-python",
   "name": "python",
   "nbconvert_exporter": "python",
   "pygments_lexer": "ipython3",
   "version": "3.6.6"
  }
 },
 "nbformat": 4,
 "nbformat_minor": 2
}
