{
 "cells": [
  {
   "cell_type": "code",
   "execution_count": 1,
   "metadata": {},
   "outputs": [],
   "source": [
    "import sys\n",
    "import pandas as pd\n",
    "import imghdr\n",
    "import hashlib\n",
    "import os\n",
    "import numpy as np"
   ]
  },
  {
   "cell_type": "code",
   "execution_count": 2,
   "metadata": {},
   "outputs": [],
   "source": [
    "def remove_missing_files(df, data_path):\n",
    "    count = 0\n",
    "    indices = []\n",
    "    curropt = []\n",
    "    for index, row in df.iterrows():\n",
    "        name = row['name'].replace(' ', '_')\n",
    "        img_id = str(row['image_id'])\n",
    "\n",
    "        # img_name = name + '_' + img_id + '.jpeg'\n",
    "        img_name = hashlib.sha1(\n",
    "            row['url'].encode('utf-8')).hexdigest() + '.jpg'\n",
    "        # print(img_name)\n",
    "        # img_path = os.path.join(data_path, 'images', name, img_name)\n",
    "        img_path = os.path.join(data_path, name, 'face', img_name)\n",
    "        if os.path.isfile(img_path):\n",
    "            if imghdr.what(img_path) is not None:\n",
    "                # print(img_path)\n",
    "                continue\n",
    "            else:\n",
    "                print('Image is corrupt {}'.format(img_path))\n",
    "                count += 1\n",
    "                if \"actor\" in data_path:\n",
    "                    folder = \"actor\"\n",
    "                else:\n",
    "                    folder = \"actress\"\n",
    "                curropt.append(os.path.join(folder, name, img_name))\n",
    "                curropt.append(os.path.join(folder, name, 'face', img_name))\n",
    "                indices.append(index)\n",
    "        else:\n",
    "            count += 1\n",
    "            indices.append(index)\n",
    "            \n",
    "    with open('corrupt_files.txt', 'a') as output:\n",
    "        for fname in curropt:\n",
    "            output.write(fname)\n",
    "            output.write('\\n')\n",
    "    print('corrupt file names written to file')\n",
    "    return df.drop(actors_frame.index[indices]), count"
   ]
  },
  {
   "cell_type": "code",
   "execution_count": 3,
   "metadata": {},
   "outputs": [],
   "source": [
    "def add_name_id(df):\n",
    "    df['person_id'] = pd.Categorical(pd.factorize(df.name)[0] + 1)\n",
    "    return df\n",
    "\n",
    "\n",
    "def data_split(low=1, class_size=265, holdout_frac=0.2, val_test_split=0.5, seed=1791387):\n",
    "    random_state = np.random.RandomState(seed)\n",
    "    all_pids = np.arange(low, low+class_size+1)\n",
    "    holdout_pids = random_state.randint(\n",
    "        low, low+class_size+1, size=int(class_size*holdout_frac))\n",
    "    val_pids = random_state.choice(holdout_pids, size=int(\n",
    "        class_size*holdout_frac*val_test_split), replace=False)\n",
    "    test_pids = np.setdiff1d(holdout_pids, val_pids)\n",
    "    train_pids = np.setdiff1d(all_pids, holdout_pids)\n",
    "    return train_pids, val_pids, test_pids"
   ]
  },
  {
   "cell_type": "code",
   "execution_count": 4,
   "metadata": {},
   "outputs": [],
   "source": [
    "ANNOT_ACTORS_PATH = \"/home/var/facescrub/facescrub_actors.txt\"\n",
    "ANNOT_ACTRESS_PATH = \"/home/var/facescrub/facescrub_actresses.txt\"\n",
    "\n",
    "DATA_PATH = \"/home/var/final-fs-data/\"\n",
    "DATA_ACTORS_PATH = \"/home/var/final-fs-data/actor/\"\n",
    "DATA_ACTRESS_PATH = \"/home/var/final-fs-data/actress/\"\n",
    "\n",
    "SAVE_PATH = \"/home/var/final-fs-data/\""
   ]
  },
  {
   "cell_type": "code",
   "execution_count": 5,
   "metadata": {},
   "outputs": [
    {
     "name": "stdout",
     "output_type": "stream",
     "text": [
      "Before deletion, actors frame\n",
      "            name  image_id  face_id  \\\n",
      "0  Aaron Eckhart         1        1   \n",
      "1  Aaron Eckhart         2        2   \n",
      "2  Aaron Eckhart         3        3   \n",
      "3  Aaron Eckhart         4        4   \n",
      "4  Aaron Eckhart         5        5   \n",
      "\n",
      "                                                 url              bbox  \\\n",
      "0  http://upload.wikimedia.org/wikipedia/commons/...    53,177,418,542   \n",
      "1  http://movies.dosthana.com/sites/default/files...    80,102,260,282   \n",
      "2  http://upload.wikimedia.org/wikipedia/commons/...  203,802,975,1574   \n",
      "3  http://25.media.tumblr.com/nJ2vga5sae9o2ks4Flt...     62,90,231,259   \n",
      "4  http://upload.wikimedia.org/wikipedia/commons/...   276,120,492,336   \n",
      "\n",
      "                                              sha256 gender  \n",
      "0  dec996994cf1eec33b53c203cff0e8f25638829fa2ad71...   male  \n",
      "1  f84d0c3b1b854a51e6bc031bc353e801834e81df795e85...   male  \n",
      "2  8548658ef00f2ac4c384fbfff9d3ae225b4b9e0c2aa45e...   male  \n",
      "3  658d83f35859d2f313ff660c1900427c21eae1c41e3035...   male  \n",
      "4  1fa14fed3371280e8785df42cdc5d0335e7923a38f1b06...   male  \n",
      "Shape: (55742, 7)\n",
      "Number of entries:  55742\n",
      "corrupt file names written to file\n"
     ]
    }
   ],
   "source": [
    "actors_frame = pd.read_csv(ANNOT_ACTORS_PATH, delimiter='\\t')\n",
    "actors_frame['gender'] = 'male'\n",
    "\n",
    "print('Before deletion, actors frame')\n",
    "print(actors_frame.head())\n",
    "print('Shape:', actors_frame.shape)\n",
    "print('Number of entries: ', len(actors_frame))\n",
    "\n",
    "updated_actors_frame, actors_count = remove_missing_files(\n",
    "    actors_frame, DATA_ACTORS_PATH)"
   ]
  },
  {
   "cell_type": "code",
   "execution_count": 10,
   "metadata": {},
   "outputs": [
    {
     "data": {
      "text/plain": [
       "Steve Carell              29.3\n",
       "Alec Baldwin              27.3\n",
       "Bill Hader                27.2\n",
       "Simon Pegg                27.1\n",
       "Ben Stiller               26.9\n",
       "Hugh Grant                26.8\n",
       "Colin Farrell             26.6\n",
       "George Clooney            26.5\n",
       "Ethan Hawke               26.5\n",
       "Colin Firth               26.5\n",
       "Matt Damon                26.4\n",
       "Ben Affleck               26.4\n",
       "James Marsden             26.2\n",
       "Andy Garcia               26.1\n",
       "Josh Brolin               26.0\n",
       "Jon Voight                26.0\n",
       "Victor Garber             25.8\n",
       "Jonah Hill                25.8\n",
       "Nicolas Cage              25.8\n",
       "Mark Ruffalo              25.7\n",
       "Daniel Radcliffe          25.7\n",
       "Bradley Cooper            25.6\n",
       "Taylor Lautner            25.5\n",
       "Matthew Perry             25.5\n",
       "Christian Slater          25.4\n",
       "Charlie Sheen             25.4\n",
       "Emile Hirsch              25.3\n",
       "Billy Burke               25.3\n",
       "Tobey Maguire             25.2\n",
       "Daniel Day-Lewis          25.2\n",
       "                          ... \n",
       "Philip Seymour Hoffman    16.3\n",
       "Patrick Warburton         16.1\n",
       "Clint Eastwood            15.8\n",
       "Jean-Claude Van Damme     15.7\n",
       "Jack Nicholson            15.7\n",
       "Norman Reedus             15.4\n",
       "Woody Allen               15.4\n",
       "Martin Henderson          15.3\n",
       "Bernie Mac                15.1\n",
       "Scott Patterson           15.0\n",
       "Arnold Schwarzenegger     15.0\n",
       "Jean Reno                 14.8\n",
       "Matt Long                 14.7\n",
       "Tom Hanks                 14.6\n",
       "Jensen Ackles             14.6\n",
       "Dwayne Johnson            14.2\n",
       "Kris Kristofferson        13.8\n",
       "Jake Weber                13.7\n",
       "Martin Lawrence           13.5\n",
       "Ian Holm                  13.4\n",
       "Giovanni Ribisi           12.4\n",
       "Charlie Day               11.8\n",
       "Harrison Ford             11.7\n",
       "Bernard Hill              11.6\n",
       "Keanu Reeves              11.3\n",
       "Michael Landes            11.0\n",
       "Adam McKay                10.9\n",
       "Ray Stevenson             10.9\n",
       "Jason Statham             10.9\n",
       "Hugo Weaving               8.9\n",
       "Name: name, Length: 265, dtype: float64"
      ]
     },
     "execution_count": 10,
     "metadata": {},
     "output_type": "execute_result"
    }
   ],
   "source": [
    "actors_frame.name.value_counts()/10"
   ]
  },
  {
   "cell_type": "code",
   "execution_count": null,
   "metadata": {},
   "outputs": [],
   "source": []
  }
 ],
 "metadata": {
  "kernelspec": {
   "display_name": "Python 3",
   "language": "python",
   "name": "python3"
  },
  "language_info": {
   "codemirror_mode": {
    "name": "ipython",
    "version": 3
   },
   "file_extension": ".py",
   "mimetype": "text/x-python",
   "name": "python",
   "nbconvert_exporter": "python",
   "pygments_lexer": "ipython3",
   "version": "3.6.6"
  }
 },
 "nbformat": 4,
 "nbformat_minor": 2
}
