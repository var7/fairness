{
 "cells": [
  {
   "cell_type": "code",
   "execution_count": 1,
   "metadata": {},
   "outputs": [],
   "source": [
    "%matplotlib inline\n",
    "%load_ext autoreload\n",
    "%autoreload 2"
   ]
  },
  {
   "cell_type": "code",
   "execution_count": 194,
   "metadata": {},
   "outputs": [],
   "source": [
    "############## sys imports #############\n",
    "import os\n",
    "import sys\n",
    "import time\n",
    "import copy\n",
    "import argparse\n",
    "import datetime\n",
    "############## basic stats imports #############\n",
    "import pandas as pd\n",
    "import numpy as np\n",
    "import matplotlib.pyplot as plt\n",
    "import matplotlib\n",
    "############## pytorch imports #############\n",
    "import torch\n",
    "import torch.nn as nn\n",
    "import torch.backends.cudnn as cudnn\n",
    "import torch.optim as optim\n",
    "import torch.optim.lr_scheduler as lr_scheduler\n",
    "from torchvision import transforms, utils, models\n",
    "from torch.utils.data import Dataset, DataLoader\n",
    "############## custom imports #############\n",
    "from dataloader import FaceScrubDataset, TripletFaceScrub, SiameseFaceScrub\n",
    "from dataloader import FaceScrubBalancedBatchSampler\n",
    "\n",
    "from networks import *\n",
    "from losses import OnlineTripletLoss\n",
    "\n",
    "from utils import save_checkpoint, save_hyperparams, AverageMeter, HardestNegativeTripletSelector, RandomNegativeTripletSelector, SemihardNegativeTripletSelector"
   ]
  },
  {
   "cell_type": "code",
   "execution_count": 24,
   "metadata": {},
   "outputs": [],
   "source": [
    "DATA_PATH = './new_data/'\n",
    "TRAIN_PATH = os.path.join(DATA_PATH, 'train_full_with_ids.txt')\n",
    "VALID_PATH = os.path.join(DATA_PATH, 'val_full_with_ids.txt')\n",
    "TEST_PATH = os.path.join(DATA_PATH, 'test_full_with_ids.txt')\n",
    "WEIGHTS_PATH = './model_weights/weights_14.pth'"
   ]
  },
  {
   "cell_type": "code",
   "execution_count": 25,
   "metadata": {},
   "outputs": [],
   "source": [
    "batch_size = 8\n",
    "input_size = 299\n",
    "output_dim = 128\n",
    "learning_rate = 1e2\n",
    "num_epochs = 1\n",
    "start_epoch = 0\n",
    "\n",
    "triplet_margin = 1.  # margin\n",
    "triplet_p = 2  # norm degree for distance calculation\n",
    "\n",
    "resume_training = True\n",
    "workers = 4\n",
    "use_cuda = False"
   ]
  },
  {
   "cell_type": "code",
   "execution_count": 26,
   "metadata": {},
   "outputs": [
    {
     "name": "stdout",
     "output_type": "stream",
     "text": [
      "Device set: cpu\n",
      "Training set path: ./new_data/train_full_with_ids.txt\n",
      "Training set Path exists: True\n"
     ]
    }
   ],
   "source": [
    "cuda = False\n",
    "if use_cuda and torch.cuda.is_available():\n",
    "    device = torch.device(\"cuda\")\n",
    "    torch.set_default_tensor_type('torch.cuda.FloatTensor')\n",
    "    cuda = True\n",
    "    cudnn.benchmark = True\n",
    "else:\n",
    "    device = torch.device(\"cpu\")\n",
    "\n",
    "print('Device set: {}'.format(device))\n",
    "print('Training set path: {}'.format(TRAIN_PATH))\n",
    "print('Training set Path exists: {}'.format(os.path.isfile(TRAIN_PATH)))"
   ]
  },
  {
   "cell_type": "code",
   "execution_count": 69,
   "metadata": {},
   "outputs": [
    {
     "name": "stdout",
     "output_type": "stream",
     "text": [
      "Train data loaded from ./new_data/train_full_with_ids.txt. Length: 55029\n",
      "Validation data loaded from ./new_data/val_full_with_ids.txt. Length: 5888\n",
      "Train data converted to triplet form. Length: 55029\n",
      "Validation data converted to triplet form. Length: 5888\n",
      "Train loader created. Length of train loader: 3668\n",
      "Val triplet loader created. Length of val load: 392\n"
     ]
    }
   ],
   "source": [
    "data_transforms = {\n",
    "    'train': transforms.Compose([\n",
    "        transforms.Resize((input_size, input_size)),\n",
    "        transforms.RandomHorizontalFlip(),\n",
    "        transforms.ToTensor(),\n",
    "        transforms.Normalize((0.5, 0.5, 0.5), (0.5, 0.5, 0.5))\n",
    "    ]),\n",
    "    'val': transforms.Compose([\n",
    "        transforms.Resize((input_size, input_size)),\n",
    "        transforms.ToTensor(),\n",
    "        transforms.Normalize((0.5, 0.5, 0.5), (0.5, 0.5, 0.5))])\n",
    "}\n",
    "\n",
    "\n",
    "train_df = FaceScrubDataset(\n",
    "    txt_file=TRAIN_PATH, root_dir=DATA_PATH, transform=data_transforms['train'])\n",
    "\n",
    "val_df = FaceScrubDataset(\n",
    "    txt_file=VALID_PATH, root_dir=DATA_PATH, transform=data_transforms['val'])\n",
    "\n",
    "train_batch_sampler = FaceScrubBalancedBatchSampler(train_df, n_classes=3, n_samples=5)\n",
    "val_batch_sampler = FaceScrubBalancedBatchSampler(val_df, n_classes=3, n_samples=5)\n",
    "\n",
    "print('Train data loaded from {}. Length: {}'.format(TRAIN_PATH, len(train_df)))\n",
    "print('Validation data loaded from {}. Length: {}'.format(VALID_PATH, len(val_df)))\n",
    "\n",
    "triplet_train_df = TripletFaceScrub(train_df, train=True)\n",
    "print('Train data converted to triplet form. Length: {}'.format(len(triplet_train_df)))\n",
    "\n",
    "triplet_val_df=TripletFaceScrub(val_df, train=False)\n",
    "print('Validation data converted to triplet form. Length: {}'.format(\n",
    "    len(triplet_val_df)))\n",
    "\n",
    "online_train_loader = torch.utils.data.DataLoader(train_df, batch_sampler=train_batch_sampler, pin_memory=True, num_workers=workers)\n",
    "\n",
    "print('Train loader created. Length of train loader: {}'.format(\n",
    "    len(online_train_loader)))\n",
    "\n",
    "online_val_loader = torch.utils.data.DataLoader(val_df, batch_sampler=val_batch_sampler, pin_memory=True, num_workers=workers)\n",
    "print('Val triplet loader created. Length of val load: {}'.format(\n",
    "    len(online_val_loader)))\n"
   ]
  },
  {
   "cell_type": "code",
   "execution_count": 28,
   "metadata": {},
   "outputs": [
    {
     "name": "stdout",
     "output_type": "stream",
     "text": [
      "Train data converted to triplet form. Length: 55029\n",
      "Validation data converted to triplet form. Length: 5888\n",
      "Train loader created. Length of train loader: 6879\n",
      "Val triplet loader created. Length of val load: 736\n"
     ]
    }
   ],
   "source": [
    "triplet_train_df = TripletFaceScrub(train_df, train=True)\n",
    "print('Train data converted to triplet form. Length: {}'.format(len(triplet_train_df)))\n",
    "\n",
    "triplet_val_df=TripletFaceScrub(val_df, train=False)\n",
    "print('Validation data converted to triplet form. Length: {}'.format(\n",
    "    len(triplet_val_df)))\n",
    "\n",
    "train_tripletloader=torch.utils.data.DataLoader(\n",
    "    triplet_train_df, batch_size=batch_size, shuffle=True, pin_memory=True, num_workers=workers)\n",
    "print('Train loader created. Length of train loader: {}'.format(\n",
    "    len(train_tripletloader)))\n",
    "\n",
    "val_tripletloader=torch.utils.data.DataLoader(\n",
    "    triplet_val_df, batch_size=batch_size, shuffle=False, pin_memory=True, num_workers=workers)\n",
    "print('Val triplet loader created. Length of val load: {}'.format(\n",
    "    len(val_tripletloader)))"
   ]
  },
  {
   "cell_type": "code",
   "execution_count": 29,
   "metadata": {},
   "outputs": [
    {
     "name": "stdout",
     "output_type": "stream",
     "text": [
      "Number of params in triplet inception: 25374536\n",
      "Triplet margin: 1.0. Norm degree: 2.\n"
     ]
    }
   ],
   "source": [
    "inception=models.inception_v3(pretrained=True)\n",
    "inception.aux_logits=False\n",
    "num_ftrs=inception.fc.in_features\n",
    "inception.fc=nn.Linear(num_ftrs, output_dim)\n",
    "\n",
    "tripletinception=TripletNet(inception)\n",
    "\n",
    "params=sum(p.numel() for p in tripletinception.parameters() if p.requires_grad)\n",
    "print('Number of params in triplet inception: {}'.format(params))\n",
    "\n",
    "############## set up for training #############\n",
    "print('Triplet margin: {}. Norm degree: {}.'.format(triplet_margin, triplet_p))\n",
    "criterion=nn.TripletMarginLoss(margin=triplet_margin, p=triplet_p)\n",
    "\n",
    "optimizer=optim.Adam(tripletinception.parameters(), lr=learning_rate)\n",
    "scheduler=lr_scheduler.StepLR(optimizer, step_size=7, gamma=0.1)"
   ]
  },
  {
   "cell_type": "code",
   "execution_count": 67,
   "metadata": {},
   "outputs": [
    {
     "name": "stdout",
     "output_type": "stream",
     "text": [
      "=> loaded checkpoint './model_weights/weights_14.pth' (trained for 14 epochs)\n"
     ]
    }
   ],
   "source": [
    "if resume_training:\n",
    "    resume_weights=WEIGHTS_PATH\n",
    "    if cuda:\n",
    "        checkpoint=torch.load(resume_weights)\n",
    "    else:\n",
    "        # Load GPU model on CPU\n",
    "        checkpoint=torch.load(resume_weights,\n",
    "                                map_location=lambda storage,\n",
    "                                loc: storage)\n",
    "\n",
    "    start_epoch=checkpoint['epoch']\n",
    "    tripletinception.load_state_dict(checkpoint['state_dict'])\n",
    "#     inception.load_state_dict(checkpoint['state_dict'])\n",
    "    optimizer.load_state_dict(checkpoint['optimizer'])\n",
    "    best_loss = checkpoint['best_loss']\n",
    "    # scheduler.load_state_dict(checkpoint['scheduler'])\n",
    "    print(\"=> loaded checkpoint '{}' (trained for {} epochs)\".format(\n",
    "        resume_weights, checkpoint['epoch']))\n",
    "    for epoch in range(0, start_epoch):\n",
    "        scheduler.step()"
   ]
  },
  {
   "cell_type": "code",
   "execution_count": 32,
   "metadata": {},
   "outputs": [],
   "source": [
    "if cuda:\n",
    "    tripletinception.cuda()\n",
    "    print('Sent model to gpu {}'.format(\n",
    "        next(tripletinception.parameters()).is_cuda))"
   ]
  },
  {
   "cell_type": "code",
   "execution_count": 33,
   "metadata": {},
   "outputs": [],
   "source": [
    "def train(train_loader, model, criterion, optimizer, epoch, device):\n",
    "    batch_time = AverageMeter()\n",
    "    data_time = AverageMeter()\n",
    "    losses = AverageMeter()\n",
    "\n",
    "    # switch to train mode\n",
    "    model.train()\n",
    "\n",
    "    end = time.time()\n",
    "    for batch_idx, (imgs, _) in enumerate(train_loader):\n",
    "        data_time.update(time.time() - end)\n",
    "        imgs = [img.to(device) for img in imgs]\n",
    "\n",
    "        embed_anchor, embed_pos, embed_neg=model(imgs[0], imgs[1], imgs[2])\n",
    "        loss = criterion(embed_anchor, embed_pos, embed_neg)\n",
    "\n",
    "        losses.update(loss.item(), imgs[0].size(0))\n",
    "\n",
    "\n",
    "        optimizer.zero_grad()\n",
    "        loss.backward()\n",
    "        optimizer.step()\n",
    "\n",
    "        # measure elapsed time\n",
    "        batch_time.update(time.time() - end)\n",
    "        end = time.time()\n",
    "\n",
    "        if batch_idx % args.print_freq == 0:\n",
    "            print('Epoch: [{0}][{1}/{2}]\\t'\n",
    "                  'Time {batch_time.val:.3f} ({batch_time.avg:.3f})\\t'\n",
    "                  'Data {data_time.val:.3f} ({data_time.avg:.3f})\\t'\n",
    "                  'Loss {loss.val:.4f} ({loss.avg:.4f})'.format(\n",
    "                   epoch, batch_idx, len(train_loader), batch_time=batch_time,\n",
    "                   data_time=data_time, loss=losses))\n",
    "    return losses.avg\n",
    "\n",
    "def validate(val_loader, model, criterion, device):\n",
    "    batch_time = AverageMeter()\n",
    "    losses = AverageMeter()\n",
    "\n",
    "    # switch to evaluate mode\n",
    "    model.eval()\n",
    "\n",
    "    with torch.no_grad():\n",
    "        end = time.time()\n",
    "        for i, (imgs, _) in enumerate(val_loader):\n",
    "            imgs = [img.to(device) for img in imgs]\n",
    "\n",
    "            embed_anchor, embed_pos, embed_neg=model(imgs[0], imgs[1], imgs[2])\n",
    "\n",
    "            loss = criterion(embed_anchor, embed_pos, embed_neg)\n",
    "\n",
    "            losses.update(loss.item(), imgs[0].size(0))\n",
    "\n",
    "            # measure elapsed time\n",
    "            batch_time.update(time.time() - end)\n",
    "            end = time.time()\n",
    "\n",
    "            if i % args.print_freq == 0:\n",
    "                print('Test: [{0}/{1}]\\t'\n",
    "                      'Time {batch_time.val:.3f} ({batch_time.avg:.3f})\\t'\n",
    "                      'Loss {loss.val:.4f} ({loss.avg:.4f})'.format(\n",
    "                       i, len(val_loader), batch_time=batch_time, loss=losses))\n",
    "\n",
    "    return losses.avg"
   ]
  },
  {
   "cell_type": "code",
   "execution_count": 152,
   "metadata": {},
   "outputs": [],
   "source": [
    "inception.eval()\n",
    "\n",
    "with torch.no_grad():\n",
    "    end = time.time()\n",
    "    for i, (imgs, val_labels) in enumerate(online_train_loader):\n",
    "        imgs = imgs.to(device)\n",
    "        \n",
    "        embeddings = inception(imgs)\n",
    "        break"
   ]
  },
  {
   "cell_type": "code",
   "execution_count": 74,
   "metadata": {},
   "outputs": [
    {
     "data": {
      "text/plain": [
       "torch.Size([15, 3, 299, 299])"
      ]
     },
     "execution_count": 74,
     "metadata": {},
     "output_type": "execute_result"
    }
   ],
   "source": [
    "imgs.shape"
   ]
  },
  {
   "cell_type": "code",
   "execution_count": 75,
   "metadata": {},
   "outputs": [
    {
     "data": {
      "text/plain": [
       "torch.Size([15, 128])"
      ]
     },
     "execution_count": 75,
     "metadata": {},
     "output_type": "execute_result"
    }
   ],
   "source": [
    "embeddings.shape"
   ]
  },
  {
   "cell_type": "code",
   "execution_count": 76,
   "metadata": {},
   "outputs": [
    {
     "data": {
      "text/plain": [
       "tensor([[ 158.8369,  159.4241,  161.4637,  143.5385,  159.2944,  143.5399,\n",
       "          143.5199,  143.5110,  143.5174,  143.5208,  161.3144,  161.5613,\n",
       "          160.6596,  161.2810,  161.4904],\n",
       "        [ 159.4241,  160.0192,  162.0703,  144.0085,  159.8927,  144.0099,\n",
       "          143.9905,  143.9819,  143.9880,  143.9913,  161.9198,  162.1734,\n",
       "          161.2607,  161.8925,  162.0992],\n",
       "        [ 161.4637,  162.0703,  164.1788,  145.6578,  161.9364,  145.6593,\n",
       "          145.6387,  145.6294,  145.6360,  145.6395,  164.0244,  164.2792,\n",
       "          163.3476,  163.9897,  164.2062],\n",
       "        [ 143.5385,  144.0085,  145.6578,  131.1919,  143.8998,  131.1931,\n",
       "          131.1764,  131.1688,  131.1742,  131.1771,  145.5359,  145.7310,\n",
       "          145.0078,  145.5033,  145.6759],\n",
       "        [ 159.2944,  159.8927,  161.9364,  143.8998,  159.7709,  143.9010,\n",
       "          143.8826,  143.8744,  143.8802,  143.8834,  161.7859,  162.0446,\n",
       "          161.1284,  161.7657,  161.9671],\n",
       "        [ 143.5399,  144.0099,  145.6593,  131.1931,  143.9010,  131.1943,\n",
       "          131.1777,  131.1700,  131.1754,  131.1783,  145.5374,  145.7323,\n",
       "          145.0092,  145.5047,  145.6774],\n",
       "        [ 143.5199,  143.9905,  145.6387,  131.1764,  143.8826,  131.1777,\n",
       "          131.1611,  131.1535,  131.1590,  131.1618,  145.5168,  145.7126,\n",
       "          144.9889,  145.4853,  145.6571],\n",
       "        [ 143.5110,  143.9819,  145.6294,  131.1688,  143.8744,  131.1700,\n",
       "          131.1535,  131.1461,  131.1514,  131.1542,  145.5075,  145.7039,\n",
       "          144.9797,  145.4767,  145.6480],\n",
       "        [ 143.5174,  143.9880,  145.6360,  131.1742,  143.8802,  131.1754,\n",
       "          131.1590,  131.1514,  131.1568,  131.1596,  145.5142,  145.7102,\n",
       "          144.9863,  145.4828,  145.6545],\n",
       "        [ 143.5208,  143.9913,  145.6395,  131.1771,  143.8834,  131.1783,\n",
       "          131.1618,  131.1542,  131.1596,  131.1624,  145.5176,  145.7135,\n",
       "          144.9898,  145.4862,  145.6579],\n",
       "        [ 161.3144,  161.9198,  164.0244,  145.5359,  161.7859,  145.5374,\n",
       "          145.5168,  145.5075,  145.5142,  145.5176,  163.8705,  164.1247,\n",
       "          163.1948,  163.8355,  164.0519],\n",
       "        [ 161.5613,  162.1734,  164.2792,  145.7310,  162.0446,  145.7323,\n",
       "          145.7126,  145.7039,  145.7102,  145.7135,  164.1247,  164.3862,\n",
       "          163.4477,  164.0982,  164.3093],\n",
       "        [ 160.6595,  161.2607,  163.3476,  145.0078,  161.1284,  145.0093,\n",
       "          144.9889,  144.9798,  144.9863,  144.9897,  163.1949,  163.4477,\n",
       "          162.5248,  163.1612,  163.3751],\n",
       "        [ 161.2810,  161.8925,  163.9897,  145.5033,  161.7657,  145.5046,\n",
       "          145.4853,  145.4767,  145.4829,  145.4861,  163.8356,  164.0982,\n",
       "          163.1612,  163.8116,  164.0204],\n",
       "        [ 161.4904,  162.0991,  164.2063,  145.6759,  161.9671,  145.6773,\n",
       "          145.6571,  145.6480,  145.6545,  145.6579,  164.0519,  164.3093,\n",
       "          163.3751,  164.0204,  164.2348]])"
      ]
     },
     "execution_count": 76,
     "metadata": {},
     "output_type": "execute_result"
    }
   ],
   "source": [
    "embeddings.mm(torch.t(embeddings))"
   ]
  },
  {
   "cell_type": "code",
   "execution_count": 79,
   "metadata": {},
   "outputs": [],
   "source": [
    "vectors = embeddings"
   ]
  },
  {
   "cell_type": "code",
   "execution_count": 57,
   "metadata": {},
   "outputs": [],
   "source": [
    "pdist = nn.PairwiseDistance(p=2)"
   ]
  },
  {
   "cell_type": "code",
   "execution_count": 102,
   "metadata": {},
   "outputs": [
    {
     "data": {
      "text/plain": [
       "tensor(-0.6377)"
      ]
     },
     "execution_count": 102,
     "metadata": {},
     "output_type": "execute_result"
    }
   ],
   "source": [
    "vectors[2][127].shape"
   ]
  },
  {
   "cell_type": "code",
   "execution_count": 83,
   "metadata": {},
   "outputs": [
    {
     "data": {
      "text/plain": [
       "torch.Size([128, 15])"
      ]
     },
     "execution_count": 83,
     "metadata": {},
     "output_type": "execute_result"
    }
   ],
   "source": [
    "torch.t(vectors).shape"
   ]
  },
  {
   "cell_type": "code",
   "execution_count": 80,
   "metadata": {},
   "outputs": [],
   "source": [
    "distance_matrix = -2 * vectors.mm(torch.t(vectors)) + vectors.pow(2).sum(dim=1).view(1, -1) + vectors.pow(2).sum(\n",
    "        dim=1).view(-1, 1)"
   ]
  },
  {
   "cell_type": "code",
   "execution_count": 119,
   "metadata": {},
   "outputs": [
    {
     "data": {
      "text/plain": [
       "torch.Size([128])"
      ]
     },
     "execution_count": 119,
     "metadata": {},
     "output_type": "execute_result"
    }
   ],
   "source": [
    "vectors.sum(dim=0)"
   ]
  },
  {
   "cell_type": "code",
   "execution_count": 115,
   "metadata": {},
   "outputs": [
    {
     "data": {
      "text/plain": [
       "tensor([[ 158.8369,  160.0193,  164.1788,  131.1919,  159.7709,  131.1943,\n",
       "          131.1611,  131.1460,  131.1568,  131.1624,  163.8705,  164.3863,\n",
       "          162.5248,  163.8117,  164.2348]])"
      ]
     },
     "execution_count": 115,
     "metadata": {},
     "output_type": "execute_result"
    }
   ],
   "source": [
    "vectors.pow(2).sum(dim=1).view(1, -1)"
   ]
  },
  {
   "cell_type": "code",
   "execution_count": 117,
   "metadata": {},
   "outputs": [
    {
     "data": {
      "text/plain": [
       "tensor([[ 158.8369,  159.4241,  161.4637,  143.5385,  159.2944,  143.5399,\n",
       "          143.5199,  143.5110,  143.5174,  143.5208,  161.3144,  161.5613,\n",
       "          160.6596,  161.2810,  161.4904],\n",
       "        [ 159.4241,  160.0192,  162.0703,  144.0085,  159.8927,  144.0099,\n",
       "          143.9905,  143.9819,  143.9880,  143.9913,  161.9198,  162.1734,\n",
       "          161.2607,  161.8925,  162.0992],\n",
       "        [ 161.4637,  162.0703,  164.1788,  145.6578,  161.9364,  145.6593,\n",
       "          145.6387,  145.6294,  145.6360,  145.6395,  164.0244,  164.2792,\n",
       "          163.3476,  163.9897,  164.2062],\n",
       "        [ 143.5385,  144.0085,  145.6578,  131.1919,  143.8998,  131.1931,\n",
       "          131.1764,  131.1688,  131.1742,  131.1771,  145.5359,  145.7310,\n",
       "          145.0078,  145.5033,  145.6759],\n",
       "        [ 159.2944,  159.8927,  161.9364,  143.8998,  159.7709,  143.9010,\n",
       "          143.8826,  143.8744,  143.8802,  143.8834,  161.7859,  162.0446,\n",
       "          161.1284,  161.7657,  161.9671],\n",
       "        [ 143.5399,  144.0099,  145.6593,  131.1931,  143.9010,  131.1943,\n",
       "          131.1777,  131.1700,  131.1754,  131.1783,  145.5374,  145.7323,\n",
       "          145.0092,  145.5047,  145.6774],\n",
       "        [ 143.5199,  143.9905,  145.6387,  131.1764,  143.8826,  131.1777,\n",
       "          131.1611,  131.1535,  131.1590,  131.1618,  145.5168,  145.7126,\n",
       "          144.9889,  145.4853,  145.6571],\n",
       "        [ 143.5110,  143.9819,  145.6294,  131.1688,  143.8744,  131.1700,\n",
       "          131.1535,  131.1461,  131.1514,  131.1542,  145.5075,  145.7039,\n",
       "          144.9797,  145.4767,  145.6480],\n",
       "        [ 143.5174,  143.9880,  145.6360,  131.1742,  143.8802,  131.1754,\n",
       "          131.1590,  131.1514,  131.1568,  131.1596,  145.5142,  145.7102,\n",
       "          144.9863,  145.4828,  145.6545],\n",
       "        [ 143.5208,  143.9913,  145.6395,  131.1771,  143.8834,  131.1783,\n",
       "          131.1618,  131.1542,  131.1596,  131.1624,  145.5176,  145.7135,\n",
       "          144.9898,  145.4862,  145.6579],\n",
       "        [ 161.3144,  161.9198,  164.0244,  145.5359,  161.7859,  145.5374,\n",
       "          145.5168,  145.5075,  145.5142,  145.5176,  163.8705,  164.1247,\n",
       "          163.1948,  163.8355,  164.0519],\n",
       "        [ 161.5613,  162.1734,  164.2792,  145.7310,  162.0446,  145.7323,\n",
       "          145.7126,  145.7039,  145.7102,  145.7135,  164.1247,  164.3862,\n",
       "          163.4477,  164.0982,  164.3093],\n",
       "        [ 160.6595,  161.2607,  163.3476,  145.0078,  161.1284,  145.0093,\n",
       "          144.9889,  144.9798,  144.9863,  144.9897,  163.1949,  163.4477,\n",
       "          162.5248,  163.1612,  163.3751],\n",
       "        [ 161.2810,  161.8925,  163.9897,  145.5033,  161.7657,  145.5046,\n",
       "          145.4853,  145.4767,  145.4829,  145.4861,  163.8356,  164.0982,\n",
       "          163.1612,  163.8116,  164.0204],\n",
       "        [ 161.4904,  162.0991,  164.2063,  145.6759,  161.9671,  145.6773,\n",
       "          145.6571,  145.6480,  145.6545,  145.6579,  164.0519,  164.3093,\n",
       "          163.3751,  164.0204,  164.2348]])"
      ]
     },
     "execution_count": 117,
     "metadata": {},
     "output_type": "execute_result"
    }
   ],
   "source": [
    "vectors.mm(torch.t(vectors))"
   ]
  },
  {
   "cell_type": "code",
   "execution_count": 112,
   "metadata": {},
   "outputs": [
    {
     "data": {
      "text/plain": [
       "tensor([[-0.0000,  0.0081,  0.0883,  2.9518,  0.0190,  2.9514,  2.9581,\n",
       "          2.9608,  2.9590,  2.9578,  0.0787,  0.1007,  0.0426,  0.0866,\n",
       "          0.0910],\n",
       "        [ 0.0081,  0.0000,  0.0574,  3.1940,  0.0048,  3.1938,  3.1993,\n",
       "          3.2015,  3.2000,  3.1990,  0.0501,  0.0587,  0.0227,  0.0460,\n",
       "          0.0557],\n",
       "        [ 0.0883,  0.0574,  0.0000,  4.0550,  0.0769,  4.0545,  4.0624,\n",
       "          4.0660,  4.0635,  4.0622,  0.0006,  0.0068,  0.0084,  0.0110,\n",
       "          0.0012],\n",
       "        [ 2.9518,  3.1940,  4.0550, -0.0001,  3.1631,  0.0000,  0.0001,\n",
       "          0.0003,  0.0002,  0.0001,  3.9905,  4.1162,  3.7010,  3.9969,\n",
       "          4.0749],\n",
       "        [ 0.0190,  0.0048,  0.0769,  3.1631, -0.0001,  3.1631,  3.1669,\n",
       "          3.1682,  3.1673,  3.1665,  0.0697,  0.0681,  0.0390,  0.0511,\n",
       "          0.0715],\n",
       "        [ 2.9514,  3.1938,  4.0545,  0.0000,  3.1631,  0.0000,  0.0001,\n",
       "          0.0003,  0.0002,  0.0002,  3.9900,  4.1159,  3.7006,  3.9966,\n",
       "          4.0744],\n",
       "        [ 2.9581,  3.1993,  4.0624,  0.0001,  3.1669,  0.0001, -0.0001,\n",
       "          0.0000, -0.0000,  0.0000,  3.9980,  4.1221,  3.7081,  4.0021,\n",
       "          4.0817],\n",
       "        [ 2.9608,  3.2015,  4.0660,  0.0003,  3.1682,  0.0003,  0.0000,\n",
       "         -0.0001, -0.0000,  0.0001,  4.0016,  4.1245,  3.7113,  4.0043,\n",
       "          4.0849],\n",
       "        [ 2.9590,  3.2000,  4.0635,  0.0002,  3.1673,  0.0002, -0.0000,\n",
       "         -0.0000,  0.0000, -0.0000,  3.9990,  4.1227,  3.7090,  4.0027,\n",
       "          4.0826],\n",
       "        [ 2.9578,  3.1990,  4.0622,  0.0001,  3.1665,  0.0002,  0.0000,\n",
       "          0.0001, -0.0000,  0.0000,  3.9978,  4.1217,  3.7077,  4.0017,\n",
       "          4.0814],\n",
       "        [ 0.0787,  0.0501,  0.0006,  3.9905,  0.0697,  3.9900,  3.9980,\n",
       "          4.0016,  3.9990,  3.9978,  0.0000,  0.0074,  0.0057,  0.0111,\n",
       "          0.0016],\n",
       "        [ 0.1007,  0.0587,  0.0068,  4.1162,  0.0681,  4.1159,  4.1221,\n",
       "          4.1245,  4.1227,  4.1217,  0.0074,  0.0001,  0.0157,  0.0015,\n",
       "          0.0024],\n",
       "        [ 0.0426,  0.0227,  0.0084,  3.7010,  0.0390,  3.7006,  3.7081,\n",
       "          3.7113,  3.7090,  3.7077,  0.0056,  0.0156,  0.0000,  0.0141,\n",
       "          0.0094],\n",
       "        [ 0.0866,  0.0459,  0.0112,  3.9969,  0.0511,  3.9968,  4.0022,\n",
       "          4.0043,  4.0027,  4.0019,  0.0110,  0.0016,  0.0141,  0.0000,\n",
       "          0.0058],\n",
       "        [ 0.0910,  0.0558,  0.0011,  4.0748,  0.0716,  4.0745,  4.0818,\n",
       "          4.0848,  4.0826,  4.0814,  0.0015,  0.0025,  0.0094,  0.0058,\n",
       "         -0.0000]])"
      ]
     },
     "execution_count": 112,
     "metadata": {},
     "output_type": "execute_result"
    }
   ],
   "source": [
    "distance_matrix"
   ]
  },
  {
   "cell_type": "code",
   "execution_count": 154,
   "metadata": {},
   "outputs": [
    {
     "name": "stdout",
     "output_type": "stream",
     "text": [
      "520\n",
      "[False False False False False False False False False False  True  True\n",
      "  True  True  True]\n",
      "155\n",
      "[False False False False False  True  True  True  True  True False False\n",
      " False False False]\n",
      "485\n",
      "[ True  True  True  True  True False False False False False False False\n",
      " False False False]\n"
     ]
    }
   ],
   "source": [
    "for label in set(val_labels['person_id'].numpy()):\n",
    "    print(label)\n",
    "    print(val_labels['person_id'].numpy() == label)"
   ]
  },
  {
   "cell_type": "code",
   "execution_count": 155,
   "metadata": {},
   "outputs": [],
   "source": [
    "from itertools import combinations"
   ]
  },
  {
   "cell_type": "code",
   "execution_count": 162,
   "metadata": {},
   "outputs": [],
   "source": [
    "def random_hard_negative(loss_values):\n",
    "    hard_negatives = np.where(loss_values > 0)[0]\n",
    "    return np.random.choice(hard_negatives) if len(hard_negatives) > 0 else None"
   ]
  },
  {
   "cell_type": "code",
   "execution_count": 166,
   "metadata": {},
   "outputs": [
    {
     "name": "stdout",
     "output_type": "stream",
     "text": [
      "label mask tensor([ 1,  1,  1,  1,  1,  0,  0,  0,  0,  0,  0,  0,  0,  0,\n",
      "         0], dtype=torch.uint8)\n",
      "label indices [0 1 2 3 4]\n",
      "label mask tensor([ 0,  0,  0,  0,  0,  1,  1,  1,  1,  1,  0,  0,  0,  0,\n",
      "         0], dtype=torch.uint8)\n",
      "label indices [5 6 7 8 9]\n",
      "label mask tensor([ 0,  0,  0,  0,  0,  1,  1,  1,  1,  1,  0,  0,  0,  0,\n",
      "         0], dtype=torch.uint8)\n",
      "label indices [5 6 7 8 9]\n",
      "label mask tensor([ 0,  0,  0,  0,  0,  1,  1,  1,  1,  1,  0,  0,  0,  0,\n",
      "         0], dtype=torch.uint8)\n",
      "label indices [5 6 7 8 9]\n",
      "label mask tensor([ 1,  1,  1,  1,  1,  0,  0,  0,  0,  0,  0,  0,  0,  0,\n",
      "         0], dtype=torch.uint8)\n",
      "label indices [0 1 2 3 4]\n",
      "label mask tensor([ 0,  0,  0,  0,  0,  1,  1,  1,  1,  1,  0,  0,  0,  0,\n",
      "         0], dtype=torch.uint8)\n",
      "label indices [5 6 7 8 9]\n",
      "label mask tensor([ 0,  0,  0,  0,  0,  0,  0,  0,  0,  0,  1,  1,  1,  1,\n",
      "         1], dtype=torch.uint8)\n",
      "label indices [10 11 12 13 14]\n",
      "label mask tensor([ 0,  0,  0,  0,  0,  0,  0,  0,  0,  0,  1,  1,  1,  1,\n",
      "         1], dtype=torch.uint8)\n",
      "label indices [10 11 12 13 14]\n",
      "label mask tensor([ 1,  1,  1,  1,  1,  0,  0,  0,  0,  0,  0,  0,  0,  0,\n",
      "         0], dtype=torch.uint8)\n",
      "label indices [0 1 2 3 4]\n",
      "label mask tensor([ 1,  1,  1,  1,  1,  0,  0,  0,  0,  0,  0,  0,  0,  0,\n",
      "         0], dtype=torch.uint8)\n",
      "label indices [0 1 2 3 4]\n",
      "label mask tensor([ 0,  0,  0,  0,  0,  1,  1,  1,  1,  1,  0,  0,  0,  0,\n",
      "         0], dtype=torch.uint8)\n",
      "label indices [5 6 7 8 9]\n",
      "label mask tensor([ 0,  0,  0,  0,  0,  0,  0,  0,  0,  0,  1,  1,  1,  1,\n",
      "         1], dtype=torch.uint8)\n",
      "label indices [10 11 12 13 14]\n",
      "label mask tensor([ 0,  0,  0,  0,  0,  0,  0,  0,  0,  0,  1,  1,  1,  1,\n",
      "         1], dtype=torch.uint8)\n",
      "label indices [10 11 12 13 14]\n",
      "label mask tensor([ 0,  0,  0,  0,  0,  0,  0,  0,  0,  0,  1,  1,  1,  1,\n",
      "         1], dtype=torch.uint8)\n",
      "label indices [10 11 12 13 14]\n",
      "label mask tensor([ 1,  1,  1,  1,  1,  0,  0,  0,  0,  0,  0,  0,  0,  0,\n",
      "         0], dtype=torch.uint8)\n",
      "label indices [0 1 2 3 4]\n"
     ]
    }
   ],
   "source": [
    "triplets = []\n",
    "labels = val_labels['person_id']\n",
    "negative_selection_fn = random_hard_negative\n",
    "for label in set(labels):\n",
    "    label_mask = (labels == label)\n",
    "    print('label mask {}'.format(label_mask))\n",
    "    label_indices = np.where(label_mask)[0]\n",
    "    print('label indices {}'.format(label_indices))\n",
    "    if len(label_indices) < 2:\n",
    "        continue\n",
    "    negative_indices = np.where(np.logical_not(label_mask))[0]\n",
    "    anchor_positives = list(combinations(label_indices, 2))  # All anchor-positive pairs\n",
    "    anchor_positives = np.array(anchor_positives)\n",
    "    \n",
    "    ap_distances = distance_matrix[anchor_positives[:, 0], anchor_positives[:, 1]]\n",
    "    for anchor_positive, ap_distance in zip(anchor_positives, ap_distances):\n",
    "        loss_values = ap_distance - distance_matrix[torch.LongTensor(np.array([anchor_positive[0]])), torch.LongTensor(negative_indices)] + triplet_margin\n",
    "        loss_values = loss_values.data.cpu().numpy()\n",
    "        hard_negative = negative_selection_fn(loss_values)\n",
    "#         print(hard_negative)\n",
    "        if hard_negative is not None:\n",
    "            hard_negative = negative_indices[hard_negative]\n",
    "            triplets.append([anchor_positive[0], anchor_positive[1], hard_negative])\n",
    "            \n",
    "if len(triplets) == 0:\n",
    "        triplets.append([anchor_positive[0], anchor_positive[1], negative_indices[0]])\n",
    "\n",
    "triplets = np.array(triplets)"
   ]
  },
  {
   "cell_type": "code",
   "execution_count": 172,
   "metadata": {},
   "outputs": [
    {
     "data": {
      "text/plain": [
       "(150, 3)"
      ]
     },
     "execution_count": 172,
     "metadata": {},
     "output_type": "execute_result"
    }
   ],
   "source": [
    "triplets.shape"
   ]
  },
  {
   "cell_type": "code",
   "execution_count": 175,
   "metadata": {},
   "outputs": [
    {
     "data": {
      "text/plain": [
       "tensor([ 485,  485,  485,  485,  485,  155,  155,  155,  155,  155,\n",
       "         520,  520,  520,  520,  520])"
      ]
     },
     "execution_count": 175,
     "metadata": {},
     "output_type": "execute_result"
    }
   ],
   "source": [
    "labels"
   ]
  },
  {
   "cell_type": "code",
   "execution_count": 197,
   "metadata": {},
   "outputs": [
    {
     "data": {
      "text/plain": [
       "array([[ 0,  1, 10],\n",
       "       [ 0,  2, 12],\n",
       "       [ 0,  3,  6],\n",
       "       [ 0,  4, 13],\n",
       "       [ 1,  2, 10],\n",
       "       [ 1,  3, 11],\n",
       "       [ 1,  4, 13],\n",
       "       [ 2,  3,  6],\n",
       "       [ 2,  4, 10],\n",
       "       [ 3,  4, 11],\n",
       "       [ 5,  6,  3],\n",
       "       [ 5,  7,  3],\n",
       "       [ 5,  8,  3],\n",
       "       [ 5,  9,  3],\n",
       "       [ 6,  7,  3],\n",
       "       [ 6,  8,  3],\n",
       "       [ 6,  9,  3],\n",
       "       [ 7,  8,  3],\n",
       "       [ 7,  9,  3],\n",
       "       [ 8,  9,  3],\n",
       "       [ 5,  6,  3],\n",
       "       [ 5,  7,  3],\n",
       "       [ 5,  8,  3],\n",
       "       [ 5,  9,  3],\n",
       "       [ 6,  7,  3],\n",
       "       [ 6,  8,  3],\n",
       "       [ 6,  9,  3],\n",
       "       [ 7,  8,  3],\n",
       "       [ 7,  9,  3],\n",
       "       [ 8,  9,  3],\n",
       "       [ 5,  6,  3],\n",
       "       [ 5,  7,  3],\n",
       "       [ 5,  8,  3],\n",
       "       [ 5,  9,  3],\n",
       "       [ 6,  7,  3],\n",
       "       [ 6,  8,  3],\n",
       "       [ 6,  9,  3],\n",
       "       [ 7,  8,  3],\n",
       "       [ 7,  9,  3],\n",
       "       [ 8,  9,  3],\n",
       "       [ 0,  1, 14],\n",
       "       [ 0,  2, 10],\n",
       "       [ 0,  3,  7],\n",
       "       [ 0,  4, 13],\n",
       "       [ 1,  2, 10],\n",
       "       [ 1,  3,  9],\n",
       "       [ 1,  4, 14],\n",
       "       [ 2,  3, 11],\n",
       "       [ 2,  4, 11],\n",
       "       [ 3,  4,  8],\n",
       "       [ 5,  6,  3],\n",
       "       [ 5,  7,  3],\n",
       "       [ 5,  8,  3],\n",
       "       [ 5,  9,  3],\n",
       "       [ 6,  7,  3],\n",
       "       [ 6,  8,  3],\n",
       "       [ 6,  9,  3],\n",
       "       [ 7,  8,  3],\n",
       "       [ 7,  9,  3],\n",
       "       [ 8,  9,  3],\n",
       "       [10, 11,  1],\n",
       "       [10, 12,  2],\n",
       "       [10, 13,  4],\n",
       "       [10, 14,  4],\n",
       "       [11, 12,  1],\n",
       "       [11, 13,  2],\n",
       "       [11, 14,  4],\n",
       "       [12, 13,  0],\n",
       "       [12, 14,  0],\n",
       "       [13, 14,  2],\n",
       "       [10, 11,  4],\n",
       "       [10, 12,  2],\n",
       "       [10, 13,  4],\n",
       "       [10, 14,  1],\n",
       "       [11, 12,  2],\n",
       "       [11, 13,  1],\n",
       "       [11, 14,  1],\n",
       "       [12, 13,  0],\n",
       "       [12, 14,  0],\n",
       "       [13, 14,  4],\n",
       "       [ 0,  1, 13],\n",
       "       [ 0,  2, 14],\n",
       "       [ 0,  3,  9],\n",
       "       [ 0,  4, 14],\n",
       "       [ 1,  2, 10],\n",
       "       [ 1,  3,  8],\n",
       "       [ 1,  4, 13],\n",
       "       [ 2,  3,  9],\n",
       "       [ 2,  4, 12],\n",
       "       [ 3,  4, 12],\n",
       "       [ 0,  1, 14],\n",
       "       [ 0,  2, 14],\n",
       "       [ 0,  3,  8],\n",
       "       [ 0,  4, 11],\n",
       "       [ 1,  2, 12],\n",
       "       [ 1,  3,  8],\n",
       "       [ 1,  4, 11],\n",
       "       [ 2,  3,  8],\n",
       "       [ 2,  4, 13],\n",
       "       [ 3,  4,  5],\n",
       "       [ 5,  6,  3],\n",
       "       [ 5,  7,  3],\n",
       "       [ 5,  8,  3],\n",
       "       [ 5,  9,  3],\n",
       "       [ 6,  7,  3],\n",
       "       [ 6,  8,  3],\n",
       "       [ 6,  9,  3],\n",
       "       [ 7,  8,  3],\n",
       "       [ 7,  9,  3],\n",
       "       [ 8,  9,  3],\n",
       "       [10, 11,  4],\n",
       "       [10, 12,  2],\n",
       "       [10, 13,  0],\n",
       "       [10, 14,  2],\n",
       "       [11, 12,  2],\n",
       "       [11, 13,  4],\n",
       "       [11, 14,  1],\n",
       "       [12, 13,  4],\n",
       "       [12, 14,  4],\n",
       "       [13, 14,  2],\n",
       "       [10, 11,  4],\n",
       "       [10, 12,  4],\n",
       "       [10, 13,  2],\n",
       "       [10, 14,  0],\n",
       "       [11, 12,  0],\n",
       "       [11, 13,  1],\n",
       "       [11, 14,  4],\n",
       "       [12, 13,  4],\n",
       "       [12, 14,  1],\n",
       "       [13, 14,  2],\n",
       "       [10, 11,  4],\n",
       "       [10, 12,  4],\n",
       "       [10, 13,  0],\n",
       "       [10, 14,  2],\n",
       "       [11, 12,  4],\n",
       "       [11, 13,  2],\n",
       "       [11, 14,  1],\n",
       "       [12, 13,  1],\n",
       "       [12, 14,  2],\n",
       "       [13, 14,  1],\n",
       "       [ 0,  1, 12],\n",
       "       [ 0,  2, 10],\n",
       "       [ 0,  3, 14],\n",
       "       [ 0,  4, 12],\n",
       "       [ 1,  2, 13],\n",
       "       [ 1,  3, 12],\n",
       "       [ 1,  4, 11],\n",
       "       [ 2,  3, 13],\n",
       "       [ 2,  4, 12],\n",
       "       [ 3,  4,  6]])"
      ]
     },
     "execution_count": 197,
     "metadata": {},
     "output_type": "execute_result"
    }
   ],
   "source": [
    "triplets"
   ]
  },
  {
   "cell_type": "code",
   "execution_count": 198,
   "metadata": {},
   "outputs": [],
   "source": [
    "anchor = embeddings[triplets[:, 0]]\n",
    "positive = embeddings[triplets[:, 1]]\n",
    "negative = embeddings[triplets[:, 2]]"
   ]
  },
  {
   "cell_type": "code",
   "execution_count": 200,
   "metadata": {},
   "outputs": [
    {
     "data": {
      "text/plain": [
       "(torch.Size([150, 128]), torch.Size([150, 128]), torch.Size([150, 128]))"
      ]
     },
     "execution_count": 200,
     "metadata": {},
     "output_type": "execute_result"
    }
   ],
   "source": [
    "anchor.shape, positive.shape, negative.shape"
   ]
  },
  {
   "cell_type": "code",
   "execution_count": 203,
   "metadata": {},
   "outputs": [],
   "source": [
    "criterion = nn.TripletMarginLoss(margin=1., p=2)"
   ]
  },
  {
   "cell_type": "code",
   "execution_count": 204,
   "metadata": {},
   "outputs": [
    {
     "data": {
      "text/plain": [
       "tensor(0.5910)"
      ]
     },
     "execution_count": 204,
     "metadata": {},
     "output_type": "execute_result"
    }
   ],
   "source": [
    "criterion(anchor, positive, negative)"
   ]
  },
  {
   "cell_type": "code",
   "execution_count": 217,
   "metadata": {},
   "outputs": [],
   "source": [
    "criterion = OnlineTripletLoss(HardestNegativeTripletSelector(margin=triplet_margin), margin=triplet_margin)"
   ]
  },
  {
   "cell_type": "code",
   "execution_count": 218,
   "metadata": {},
   "outputs": [
    {
     "name": "stdout",
     "output_type": "stream",
     "text": [
      "tensor([[ 6.0362e-01, -2.0809e-01,  4.4231e-01,  ...,  6.3852e-02,\n",
      "         -2.0972e-01, -6.2906e-01],\n",
      "        [ 6.0362e-01, -2.0809e-01,  4.4231e-01,  ...,  6.3852e-02,\n",
      "         -2.0972e-01, -6.2906e-01],\n",
      "        [ 6.0362e-01, -2.0809e-01,  4.4231e-01,  ...,  6.3852e-02,\n",
      "         -2.0972e-01, -6.2906e-01],\n",
      "        ...,\n",
      "        [ 5.9847e-01, -2.4964e-01,  4.4157e-01,  ...,  7.0519e-02,\n",
      "         -2.1295e-01, -7.0095e-01],\n",
      "        [ 5.9847e-01, -2.4964e-01,  4.4157e-01,  ...,  7.0519e-02,\n",
      "         -2.1295e-01, -7.0095e-01],\n",
      "        [ 6.0673e-01, -2.1174e-01,  4.4199e-01,  ...,  5.9695e-02,\n",
      "         -2.0617e-01, -6.2783e-01]]) tensor([[ 6.0826e-01, -2.4533e-01,  4.4131e-01,  ...,  5.8933e-02,\n",
      "         -2.0551e-01, -6.6965e-01],\n",
      "        [ 6.0947e-01, -2.4721e-01,  4.4165e-01,  ...,  5.7329e-02,\n",
      "         -2.0396e-01, -6.7038e-01],\n",
      "        [ 6.0830e-01, -2.2477e-01,  4.4207e-01,  ...,  5.7499e-02,\n",
      "         -2.0308e-01, -6.4336e-01],\n",
      "        ...,\n",
      "        [ 6.0673e-01, -2.1174e-01,  4.4199e-01,  ...,  5.9695e-02,\n",
      "         -2.0617e-01, -6.2783e-01],\n",
      "        [ 6.0778e-01, -2.2251e-01,  4.4132e-01,  ...,  5.9069e-02,\n",
      "         -2.0524e-01, -6.4027e-01],\n",
      "        [ 6.0778e-01, -2.2251e-01,  4.4132e-01,  ...,  5.9069e-02,\n",
      "         -2.0524e-01, -6.4027e-01]]) tensor([[ 6.0844e-01, -2.2720e-01,  4.4145e-01,  ...,  5.8512e-02,\n",
      "         -2.0527e-01, -6.4616e-01],\n",
      "        [ 6.0844e-01, -2.2720e-01,  4.4145e-01,  ...,  5.8512e-02,\n",
      "         -2.0527e-01, -6.4616e-01],\n",
      "        [ 6.0844e-01, -2.2720e-01,  4.4145e-01,  ...,  5.8512e-02,\n",
      "         -2.0527e-01, -6.4616e-01],\n",
      "        ...,\n",
      "        [ 5.9347e-01, -2.0398e-01,  4.4732e-01,  ...,  7.4559e-02,\n",
      "         -2.1211e-01, -6.6749e-01],\n",
      "        [ 5.9347e-01, -2.0398e-01,  4.4732e-01,  ...,  7.4559e-02,\n",
      "         -2.1211e-01, -6.6749e-01],\n",
      "        [ 6.0830e-01, -2.2477e-01,  4.4207e-01,  ...,  5.7499e-02,\n",
      "         -2.0308e-01, -6.4336e-01]])\n"
     ]
    }
   ],
   "source": [
    "loss = criterion(embeddings, labels)"
   ]
  },
  {
   "cell_type": "code",
   "execution_count": 219,
   "metadata": {},
   "outputs": [
    {
     "data": {
      "text/plain": [
       "tensor(0.8875)"
      ]
     },
     "execution_count": 219,
     "metadata": {},
     "output_type": "execute_result"
    }
   ],
   "source": [
    "loss"
   ]
  },
  {
   "cell_type": "code",
   "execution_count": null,
   "metadata": {},
   "outputs": [],
   "source": []
  }
 ],
 "metadata": {
  "kernelspec": {
   "display_name": "Python 3",
   "language": "python",
   "name": "python3"
  },
  "language_info": {
   "codemirror_mode": {
    "name": "ipython",
    "version": 3
   },
   "file_extension": ".py",
   "mimetype": "text/x-python",
   "name": "python",
   "nbconvert_exporter": "python",
   "pygments_lexer": "ipython3",
   "version": "3.6.5"
  }
 },
 "nbformat": 4,
 "nbformat_minor": 2
}
