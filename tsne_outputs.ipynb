{
 "cells": [
  {
   "cell_type": "code",
   "execution_count": 1,
   "metadata": {},
   "outputs": [],
   "source": [
    "%matplotlib inline\n",
    "%load_ext autoreload\n",
    "%autoreload 2"
   ]
  },
  {
   "cell_type": "code",
   "execution_count": 2,
   "metadata": {},
   "outputs": [],
   "source": [
    "############## sys imports #############\n",
    "import os\n",
    "import sys\n",
    "import time\n",
    "import copy\n",
    "import argparse\n",
    "import datetime\n",
    "############## basic stats imports #############\n",
    "import pandas as pd\n",
    "import numpy as np\n",
    "import matplotlib.pyplot as plt\n",
    "import matplotlib\n",
    "############## pytorch imports #############\n",
    "import torch\n",
    "import torch.nn as nn\n",
    "import torch.backends.cudnn as cudnn\n",
    "import torch.optim as optim\n",
    "import torch.optim.lr_scheduler as lr_scheduler\n",
    "from torchvision import transforms, utils, models\n",
    "from torch.utils.data import Dataset, DataLoader"
   ]
  },
  {
   "cell_type": "code",
   "execution_count": 3,
   "metadata": {},
   "outputs": [],
   "source": [
    "############## custom imports #############\n",
    "from dataloader import FaceScrubDataset, TripletFaceScrub, SiameseFaceScrub\n",
    "from dataloader import FaceScrubBalancedBatchSampler\n",
    "\n",
    "from networks import *\n",
    "from losses import OnlineTripletLoss\n",
    "from openface.loadOpenFace import prepareOpenFace\n",
    "from utils import save_checkpoint, save_hyperparams, AverageMeter, HardestNegativeTripletSelector, RandomNegativeTripletSelector, SemihardNegativeTripletSelector"
   ]
  },
  {
   "cell_type": "code",
   "execution_count": 4,
   "metadata": {},
   "outputs": [],
   "source": [
    "# DATA_PATH = '/home/s1791387/facescrub-data/new_data_max/'\n",
    "DATA_PATH = '/home/var/final-fs-data/'\n",
    "TRAIN_PATH = os.path.join(DATA_PATH, 'train_full_with_ids.txt')\n",
    "VALID_PATH = os.path.join(DATA_PATH, 'val_full_with_ids.txt')\n",
    "TEST_PATH = os.path.join(DATA_PATH, 'test_full_with_ids.txt')\n",
    "# WEIGHTS_PATH = '/home/s1791387/facescrub-data/new_data_max/openface_model_weigths/job_semi_std_cos3_Jul_25_1000hrs/weights_75.pth'"
   ]
  },
  {
   "cell_type": "code",
   "execution_count": 5,
   "metadata": {},
   "outputs": [],
   "source": [
    "batch_size = 512\n",
    "input_size = 96\n",
    "output_dim = 128\n",
    "learning_rate = 1e-3\n",
    "num_epochs = 10\n",
    "start_epoch = 0\n",
    "\n",
    "triplet_margin = 1.  # margin\n",
    "triplet_p = 2  # norm degree for distance calculation\n",
    "\n",
    "resume_training = False\n",
    "workers = 4\n",
    "use_cuda = True"
   ]
  },
  {
   "cell_type": "code",
   "execution_count": 6,
   "metadata": {},
   "outputs": [
    {
     "name": "stdout",
     "output_type": "stream",
     "text": [
      "Device set: cuda\n",
      "Training set path: /home/var/final-fs-data/train_full_with_ids.txt\n",
      "Training set Path exists: True\n"
     ]
    }
   ],
   "source": [
    "cuda = False\n",
    "pin_memory = False\n",
    "if use_cuda and torch.cuda.is_available():\n",
    "    device = torch.device(\"cuda\")\n",
    "    torch.set_default_tensor_type('torch.cuda.FloatTensor')\n",
    "    cuda = True\n",
    "    cudnn.benchmark = True\n",
    "    pin_memory = True\n",
    "else:\n",
    "    device = torch.device(\"cpu\")\n",
    "\n",
    "print('Device set: {}'.format(device))\n",
    "print('Training set path: {}'.format(TRAIN_PATH))\n",
    "print('Training set Path exists: {}'.format(os.path.isfile(TRAIN_PATH)))"
   ]
  },
  {
   "cell_type": "code",
   "execution_count": 7,
   "metadata": {},
   "outputs": [
    {
     "name": "stdout",
     "output_type": "stream",
     "text": [
      "Train loader created. Length of train loader: 109\n",
      "Val loader created. Length of train loader: 12\n"
     ]
    }
   ],
   "source": [
    "data_transforms = {\n",
    "    'train': transforms.Compose([\n",
    "        transforms.Resize((input_size, input_size)),\n",
    "        transforms.RandomHorizontalFlip(),\n",
    "        transforms.ToTensor(),\n",
    "        transforms.Normalize((0.5, 0.5, 0.5), (0.5, 0.5, 0.5))\n",
    "    ]),\n",
    "    'val': transforms.Compose([\n",
    "        transforms.Resize((input_size, input_size)),\n",
    "        transforms.ToTensor(),\n",
    "        transforms.Normalize((0.5, 0.5, 0.5), (0.5, 0.5, 0.5))])\n",
    "}\n",
    "\n",
    "\n",
    "train_df = FaceScrubDataset(\n",
    "    txt_file=TRAIN_PATH, root_dir=DATA_PATH, transform=data_transforms['val'])\n",
    "\n",
    "val_df = FaceScrubDataset(\n",
    "    txt_file=VALID_PATH, root_dir=DATA_PATH, transform=data_transforms['val'])\n",
    "\n",
    "# siamese_train_df = SiameseFaceScrub(train_df, train=True)\n",
    "# print('Train data converted to siamese form. Length: {}'.format(len(siamese_train_df)))\n",
    "\n",
    "# siamese_val_df=SiameseFaceScrub(val_df, train=False)\n",
    "# print('Validation data converted to siamese form. Length: {}'.format(\n",
    "#     len(siamese_val_df)))\n",
    "\n",
    "train_loader=torch.utils.data.DataLoader(\n",
    "        train_df, batch_size=batch_size, shuffle=True, pin_memory=pin_memory, num_workers=workers)\n",
    "print('Train loader created. Length of train loader: {}'.format(\n",
    "        len(train_loader)))\n",
    "    \n",
    "val_loader=torch.utils.data.DataLoader(\n",
    "        val_df, batch_size=batch_size, shuffle=False, pin_memory=pin_memory, num_workers=workers)\n",
    "print('Val loader created. Length of train loader: {}'.format(\n",
    "        len(val_loader)))\n",
    "\n"
   ]
  },
  {
   "cell_type": "code",
   "execution_count": 8,
   "metadata": {},
   "outputs": [
    {
     "name": "stdout",
     "output_type": "stream",
     "text": [
      "Sent model to GPU\n",
      "Number of params in network 3733968\n"
     ]
    }
   ],
   "source": [
    "openface = prepareOpenFace(useCuda=cuda)\n",
    "params = sum(p.numel() for p in openface.parameters() if p.requires_grad)\n",
    "print('Number of params in network {}'.format(params))\n",
    "\n",
    "# en_optimizer=optim.Adam(openface.parameters(), lr=learning_rate)"
   ]
  },
  {
   "cell_type": "code",
   "execution_count": 9,
   "metadata": {},
   "outputs": [],
   "source": [
    "if resume_training:\n",
    "    resume_weights=WEIGHTS_PATH\n",
    "    if cuda:\n",
    "        checkpoint=torch.load(resume_weights)\n",
    "    else:\n",
    "        # Load GPU model on CPU\n",
    "        checkpoint=torch.load(resume_weights,\n",
    "                                map_location=lambda storage,\n",
    "                                loc: storage)\n",
    "\n",
    "    start_epoch=checkpoint['epoch']\n",
    "    openface.load_state_dict(checkpoint['state_dict'])\n",
    "    en_optimizer.load_state_dict(checkpoint['optimizer'])\n",
    "    best_loss = checkpoint['best_loss']\n",
    "    # scheduler.load_state_dict(checkpoint['scheduler'])\n",
    "    print(\"=> loaded checkpoint '{}' (trained for {} epochs)\".format(\n",
    "        resume_weights, checkpoint['epoch']))\n",
    "#     for epoch in range(0, start_epoch):\n",
    "#         en_scheduler.step()"
   ]
  },
  {
   "cell_type": "code",
   "execution_count": 10,
   "metadata": {},
   "outputs": [
    {
     "name": "stdout",
     "output_type": "stream",
     "text": [
      "Sent model to gpu True\n"
     ]
    }
   ],
   "source": [
    "if cuda:\n",
    "    openface.cuda()\n",
    "#     classifier.cuda()\n",
    "    print('Sent model to gpu {}'.format(\n",
    "        next(openface.parameters()).is_cuda))"
   ]
  },
  {
   "cell_type": "code",
   "execution_count": 13,
   "metadata": {},
   "outputs": [
    {
     "data": {
      "text/plain": [
       "array(['Adam Brody', 'Adam McKay', 'Adrien Brody', 'Al Pacino',\n",
       "       'Alan Alda', 'Alan Arkin', 'Alan Rickman', 'Alec Baldwin',\n",
       "       'Alexander Skarsgård', 'Alfred Molina', 'Amaury Nolasco',\n",
       "       'Andy Garcia', 'Andy Richter', 'Andy Serkis',\n",
       "       'Anthony Stewart Head', 'Antonio Banderas',\n",
       "       'Arnold Schwarzenegger', 'Arnold Vosloo', 'Ashton Kutcher',\n",
       "       'Ben Affleck', 'Ben McKenzie', 'Ben Stiller', 'Benicio Del Toro',\n",
       "       'Bernard Hill', 'Bernie Mac', 'Bill Murray', 'Bill Nighy',\n",
       "       'Billy Bob Thornton', 'Billy Boyd', 'Billy Burke', 'Billy Zane',\n",
       "       'Brad Garrett', 'Brad Pitt', 'Bradley Cooper', 'Brendan Fraser',\n",
       "       'Bruce Greenwood', 'Bruce Willis', 'Burt Reynolds', 'Cary Elwes',\n",
       "       'Casey Affleck', 'Channing Tatum', 'Charlie Day', 'Charlie Sheen',\n",
       "       'Chazz Palminteri', 'Chris Kattan', 'Chris Klein', 'Chris Noth',\n",
       "       'Christian Bale', 'Christian Slater', 'Christopher Lloyd',\n",
       "       'Christopher Reeve', 'Clint Eastwood', 'Clive Owen',\n",
       "       'Colin Farrell', 'Colin Firth', 'Colin Hanks', 'Dan Lauria',\n",
       "       'Daniel Craig', 'Daniel Day-Lewis', 'Daniel Radcliffe',\n",
       "       'Danny Glover', 'Danny Trejo', 'David Boreanaz', 'David Duchovny',\n",
       "       'David Schwimmer', 'Dean Cain', 'Denzel Washington',\n",
       "       'Dermot Mulroney', 'Desmond Harrington', 'Dominic Monaghan',\n",
       "       'Don Cheadle', 'Ed Harris', 'Edi Gathegi', 'Elijah Wood',\n",
       "       'Emile Hirsch', 'Ethan Hawke', 'Freddy Prinze Jr.',\n",
       "       'Freddy Rodríguez', 'Gabriel Macht', 'Gary Dourdan',\n",
       "       'Gene Hackman', 'George Clooney', 'Gerard Butler',\n",
       "       'Giovanni Ribisi', 'Hal Holbrook', 'Harrison Ford',\n",
       "       'Hayden Christensen', 'Heath Ledger', 'Hugh Grant', 'Hugh Jackman',\n",
       "       'Ian Holm', 'Ioan Gruffudd', 'J.K. Simmons', 'Jack Nicholson',\n",
       "       'Jackie Chan', 'Jackson Rathbone', 'Jaden Smith',\n",
       "       'Jake Gyllenhaal', 'James Brolin', 'James Frain', 'James Franco',\n",
       "       'James Remar', 'Jamie Foxx', 'Jared Padalecki', 'Jason Bateman',\n",
       "       'Jason Behr', 'Jason Biggs', 'Jason Sudeikis', 'Jay Baruchel',\n",
       "       'Jean Reno', 'Jean-Claude Van Damme', 'Jeffrey Tambor',\n",
       "       'Jensen Ackles', 'Jeremy Irons', 'Jerry Seinfeld',\n",
       "       'Jesse Eisenberg', 'Jet Li', 'Jim Beaver', 'Jim Carrey',\n",
       "       'Jim Caviezel', 'Jimmy Fallon', 'Joaquin Phoenix',\n",
       "       'Joe Pantoliano', 'John Cleese', 'John Cusack', 'John Krasinski',\n",
       "       'John Malkovich', 'John Travolta', 'Jon Hamm', 'Jon Voight',\n",
       "       'Jonah Hill', 'Josh Brolin', 'Josh Duhamel', 'Josh Hartnett',\n",
       "       'Joshua Jackson', 'Kal Penn', 'Karl Urban', 'Keanu Reeves',\n",
       "       'Kellan Lutz', 'Ken Watanabe', 'Kerr Smith', 'Kevin Bacon',\n",
       "       'Kevin Connolly', 'Kevin Costner', 'Kevin McKidd',\n",
       "       'Kiefer Sutherland', 'Kris Kristofferson', 'Laurence Fishburne',\n",
       "       'Leonardo DiCaprio', 'Liev Schreiber', 'Luke Wilson',\n",
       "       'Mark Ruffalo', 'Mark Wahlberg', 'Martin Henderson',\n",
       "       'Martin Sheen', 'Matt Czuchry', 'Matt Damon', 'Matt LeBlanc',\n",
       "       'Matt Long', 'Matthew Broderick', 'Matthew Gray Gubler',\n",
       "       'Matthew Lillard', 'Michael Douglas', 'Michael Landes',\n",
       "       'Michael Vartan', 'Michael Weatherly', 'Milo Ventimiglia',\n",
       "       'Misha Collins', 'Neal McDonough', 'Nick Frost', 'Nicolas Cage',\n",
       "       'Norman Reedus', 'Oliver Platt', 'Omid Djalili', 'Orlando Bloom',\n",
       "       'Owen Wilson', 'Patrick Dempsey', 'Patrick Warburton',\n",
       "       'Paul Bettany', 'Paul Walker', 'Peter Sarsgaard',\n",
       "       'Philip Seymour Hoffman', 'Pierce Brosnan', 'Ray Stevenson',\n",
       "       'Richard E. Grant', 'Richard Gere', 'Richard Madden',\n",
       "       'Richard Schiff', 'Rob Schneider', 'Robert Downey Jr.',\n",
       "       'Robert Duvall', 'Robert Knepper', 'Robert Patrick',\n",
       "       'Robert Pattinson', 'Robert Redford', 'Robin Williams',\n",
       "       'Rupert Friend', 'Rupert Grint', 'Russell Crowe', 'Ryan Gosling',\n",
       "       'Ryan Phillippe', 'Ryan Reynolds', 'Samuel L. Jackson',\n",
       "       'Scott Patterson', 'Sean Bean', 'Seth Rogen', 'Shia LaBeouf',\n",
       "       'Simon Pegg', 'Steve Carell', 'T.J. Thyne', 'Taylor Lautner',\n",
       "       'Tobey Maguire', 'Tom Hanks', 'Victor Garber', 'Woody Allen',\n",
       "       'Jonathan Sadowski', 'David Cross', 'Jason Lee', 'Lexi Ainsworth',\n",
       "       'Dianna Agron', 'Kristen Alderson', 'Sasha Alexander',\n",
       "       'Kristian Alfonso', 'Tatyana M. Ali', 'Kirstie Alley',\n",
       "       'Andrea Anders', 'Gillian Anderson', 'Loni Anderson',\n",
       "       'Pamela Anderson', 'Jennifer Aniston', 'Christina Applegate',\n",
       "       'Melissa Archer', 'Taylor Atelian', 'Morena Baccarin',\n",
       "       'Kathy Baker', 'Ashley Benson', 'Adrienne Barbeau',\n",
       "       'Roseanne Barr', 'Amanda Bearse', 'Catherine Bell',\n",
       "       'Lauralee Bell', 'Lourdes Benedicto', 'Melissa Benoist',\n",
       "       'Elizabeth Berkley', 'Julie Marie Berman', 'Crystal Bernard',\n",
       "       'Valerie Bertinelli', 'Mayim Bialik', 'Josie Bissett',\n",
       "       'Jessica Biel', 'Nadia Bjorlin', 'Jolene Blalock',\n",
       "       'Tempestt Bledsoe', 'Yasmine Bleeth', 'Andrea Bogart',\n",
       "       'Lisa Bonet', 'Andrea Bowen', 'Julie Bowen', 'Lara Flynn Boyle',\n",
       "       'Lorraine Bracco', 'Tamara Braun', 'Ciara Bravo', 'Brianna Brown',\n",
       "       'Kimberlin Brown', 'Rebecca Budig', 'Delta Burke', 'Molly Burnett',\n",
       "       'Neve Campbell', 'Jessica Capshaw', 'Barbara Carrera',\n",
       "       'Tia Carrere', 'Diahann Carroll', 'Gabrielle Carteris',\n",
       "       'Sharon Case', 'Kim Cattrall', 'Lacey Chabert', 'Sarah Chalke',\n",
       "       'Erin Chambers', 'Crystal Chappell', 'Margaret Cho', 'Glenn Close',\n",
       "       'Joan Collins', 'Holly Marie Combs', 'Angell Conwell',\n",
       "       'Jeanne Cooper', 'Miranda Cosgrove', 'Eliza Coupe',\n",
       "       'Cathy Lee Crosby', 'Denise Crosby', 'Valerie Cruz',\n",
       "       'Erin Cummings', 'Kaley Cuoco', 'Jane Curtin', \"Olivia d'Abo\",\n",
       "       'Amy Davidson', 'Eileen Davidson', 'Geena Davis', 'Kristin Davis',\n",
       "       'Ellen DeGeneres', 'Kassie DePaiva', 'Joyce DeWitt', 'Kim Delaney',\n",
       "       'Dana Delany', 'Zooey Deschanel', 'Drea de Matteo',\n",
       "       'Caroline Dhavernas', 'Portia Doubleday', 'Lesley-Anne Down',\n",
       "       'Rachel Dratch', 'Sarah Drew', 'Eliza Dushku', 'Bobbie Eakes',\n",
       "       'Melissa Claire Egan', 'Nicole Eggert', 'Jill Eikenberry',\n",
       "       'Carmen Electra', 'Linda Evans', 'Mary Beth Evans', 'Edie Falco',\n",
       "       'Farrah Fawcett', 'Sherilyn Fenn', 'America Ferrera', 'Tina Fey',\n",
       "       'Sally Field', 'Kim Fields', 'Susan Flannery', 'Calista Flockhart',\n",
       "       'Faith Ford', 'Bonnie Franklin', 'Adrienne Frantz',\n",
       "       'Melissa Fumero', 'Carla Gallo', 'Jennifer Gareis', 'Jennie Garth',\n",
       "       'Sarah Michelle Gellar', 'Melissa Gilbert', 'Sara Gilbert',\n",
       "       'Peri Gilpin', 'Summer Glau', 'Sharon Gless', 'Selena Gomez',\n",
       "       'Lecy Goranson', 'Nancy Lee Grahn', 'Linda Gray', 'Ellen Greene',\n",
       "       'Rachel Griffiths', 'Shelley Hack', 'Natalie Hall',\n",
       "       'Veronica Hamel', 'Angie Harmon', 'Valerie Harper',\n",
       "       'Jenilee Harrison', 'Jackee Harry', 'Marg Helgenberger',\n",
       "       'Katherine Helmond', 'Mariel Hemingway', 'Elizabeth Hendrickson',\n",
       "       'Marilu Henner', 'Carolyn Hennesy', 'Jill Hennessy',\n",
       "       'Shelley Hennig', 'Rebecca Herbst', 'Jennifer Love Hewitt',\n",
       "       'Aisha Hinds', 'Lauren Holly', 'Felicity Huffman', 'Helen Hunt',\n",
       "       'Annie Ilonzeh', 'Laura Innes', 'Allison Janney', 'Ashley Johnson',\n",
       "       'Kristen Johnston', 'January Jones', 'Shirley Jones',\n",
       "       'Tamala Jones', 'Victoria Justice', 'Patricia Kalember',\n",
       "       'Melina Kanakaredes', 'Shannon Kane', 'Stana Katic',\n",
       "       'Lauren Koslow', 'Jane Krakowski', 'Alice Krige', 'Ilene Kristen',\n",
       "       'Mila Kunis', 'Swoosie Kurtz', 'Cheryl Ladd', 'Christine Lakin',\n",
       "       'Audrey Landers', 'Katherine Kelly Lang', 'Brooke Langton',\n",
       "       'Jessica Leccia', 'Jane Leeves', 'Laura Leighton', 'Adrianne León',\n",
       "       'Judith Light', 'Christina Bennett Lind', 'Kate Linder',\n",
       "       'Peggy Lipton', 'Natalia Livingston', 'Lisa LoCicero',\n",
       "       'Heather Locklear', 'Jodi Long', 'Shelley Long', 'Eva Longoria',\n",
       "       'Lori Loughlin', 'Tina Louise', 'Julia Louis-Dreyfus',\n",
       "       'Carey Lowell', 'Susan Lucci', 'Jamie Luner', 'Jane Lynch',\n",
       "       'Wendie Malick', 'Vanessa Marcil', 'Julianna Margulies',\n",
       "       'McKayla Maroney', 'Kellie Martin', 'Pamela Sue Martin',\n",
       "       'Natalie Martinez', 'Chase Masterson', 'Debi Mazar', 'Peggy McCay',\n",
       "       'Rue McClanahan', 'Kimberly McCullough', 'Jennette McCurdy',\n",
       "       'Audra McDonald', 'Gates McFadden', 'Danica McKellar',\n",
       "       'Kristy McNichol', 'S. Epatha Merkerson', 'Debra Messing',\n",
       "       'Laurie Metcalf', 'Dina Meyer', 'Lea Michele', 'Alyssa Milano',\n",
       "       'Christa Miller', 'Alley Mills'], dtype=object)"
      ]
     },
     "execution_count": 13,
     "metadata": {},
     "output_type": "execute_result"
    }
   ],
   "source": [
    "train_df.names"
   ]
  },
  {
   "cell_type": "code",
   "execution_count": 19,
   "metadata": {},
   "outputs": [
    {
     "data": {
      "text/plain": [
       "({'Ben Affleck': array([2605, 2606, 2607, 2608, 2609, 2610, 2611, 2612, 2613, 2614, 2615,\n",
       "         2616, 2617, 2618, 2619, 2620, 2621, 2622, 2623, 2624, 2625, 2626,\n",
       "         2627, 2628, 2629, 2630, 2631, 2632, 2633, 2634, 2635, 2636, 2637,\n",
       "         2638, 2639, 2640, 2641, 2642, 2643, 2644, 2645, 2646, 2647, 2648,\n",
       "         2649, 2650, 2651, 2652, 2653, 2654, 2655, 2656, 2657, 2658, 2659,\n",
       "         2660, 2661, 2662, 2663, 2664, 2665, 2666, 2667, 2668, 2669, 2670,\n",
       "         2671, 2672, 2673, 2674, 2675, 2676, 2677, 2678, 2679, 2680, 2681,\n",
       "         2682, 2683, 2684, 2685, 2686, 2687, 2688, 2689, 2690, 2691, 2692,\n",
       "         2693, 2694, 2695, 2696, 2697, 2698, 2699, 2700, 2701, 2702, 2703,\n",
       "         2704, 2705, 2706, 2707, 2708, 2709, 2710, 2711, 2712, 2713, 2714,\n",
       "         2715, 2716, 2717, 2718, 2719, 2720, 2721, 2722, 2723, 2724, 2725,\n",
       "         2726, 2727, 2728, 2729, 2730, 2731, 2732, 2733, 2734, 2735, 2736,\n",
       "         2737, 2738, 2739, 2740, 2741, 2742, 2743, 2744, 2745, 2746, 2747,\n",
       "         2748, 2749, 2750, 2751, 2752, 2753, 2754, 2755, 2756, 2757, 2758,\n",
       "         2759, 2760, 2761, 2762, 2763, 2764, 2765, 2766, 2767, 2768, 2769,\n",
       "         2770, 2771, 2772, 2773, 2774, 2775, 2776, 2777, 2778, 2779, 2780,\n",
       "         2781]),\n",
       "  'Richard Gere': array([25160, 25161, 25162, 25163, 25164, 25165, 25166, 25167, 25168,\n",
       "         25169, 25170, 25171, 25172, 25173, 25174, 25175, 25176, 25177,\n",
       "         25178, 25179, 25180, 25181, 25182, 25183, 25184, 25185, 25186,\n",
       "         25187, 25188, 25189, 25190, 25191, 25192, 25193, 25194, 25195,\n",
       "         25196, 25197, 25198, 25199, 25200, 25201, 25202, 25203, 25204,\n",
       "         25205, 25206, 25207, 25208, 25209, 25210, 25211, 25212, 25213,\n",
       "         25214, 25215, 25216, 25217, 25218, 25219, 25220, 25221, 25222,\n",
       "         25223, 25224, 25225, 25226, 25227, 25228, 25229, 25230, 25231,\n",
       "         25232, 25233, 25234, 25235, 25236, 25237, 25238, 25239, 25240,\n",
       "         25241, 25242, 25243, 25244, 25245, 25246, 25247, 25248, 25249,\n",
       "         25250, 25251, 25252, 25253, 25254, 25255, 25256, 25257, 25258,\n",
       "         25259, 25260, 25261, 25262, 25263, 25264, 25265, 25266, 25267,\n",
       "         25268, 25269, 25270, 25271, 25272, 25273, 25274, 25275, 25276,\n",
       "         25277, 25278, 25279, 25280, 25281, 25282, 25283, 25284, 25285]),\n",
       "  'Josh Brolin': array([17982, 17983, 17984, 17985, 17986, 17987, 17988, 17989, 17990,\n",
       "         17991, 17992, 17993, 17994, 17995, 17996, 17997, 17998, 17999,\n",
       "         18000, 18001, 18002, 18003, 18004, 18005, 18006, 18007, 18008,\n",
       "         18009, 18010, 18011, 18012, 18013, 18014, 18015, 18016, 18017,\n",
       "         18018, 18019, 18020, 18021, 18022, 18023, 18024, 18025, 18026,\n",
       "         18027, 18028, 18029, 18030, 18031, 18032, 18033, 18034, 18035,\n",
       "         18036, 18037, 18038, 18039, 18040, 18041, 18042, 18043, 18044,\n",
       "         18045, 18046, 18047, 18048, 18049, 18050, 18051, 18052, 18053,\n",
       "         18054, 18055, 18056, 18057, 18058, 18059, 18060, 18061, 18062,\n",
       "         18063, 18064, 18065, 18066, 18067, 18068, 18069, 18070, 18071,\n",
       "         18072, 18073, 18074, 18075, 18076, 18077, 18078, 18079, 18080,\n",
       "         18081, 18082, 18083, 18084, 18085, 18086, 18087, 18088, 18089,\n",
       "         18090, 18091, 18092, 18093, 18094, 18095, 18096, 18097, 18098,\n",
       "         18099, 18100, 18101, 18102, 18103, 18104, 18105, 18106, 18107,\n",
       "         18108, 18109, 18110, 18111, 18112, 18113, 18114, 18115, 18116,\n",
       "         18117, 18118, 18119, 18120, 18121, 18122, 18123, 18124, 18125,\n",
       "         18126, 18127, 18128, 18129, 18130, 18131, 18132, 18133, 18134,\n",
       "         18135, 18136, 18137, 18138, 18139, 18140, 18141, 18142, 18143,\n",
       "         18144, 18145]),\n",
       "  'Ian Holm': array([12513, 12514, 12515, 12516, 12517, 12518, 12519, 12520, 12521,\n",
       "         12522, 12523, 12524, 12525, 12526, 12527, 12528, 12529, 12530,\n",
       "         12531, 12532, 12533, 12534, 12535, 12536, 12537, 12538, 12539,\n",
       "         12540, 12541, 12542, 12543, 12544, 12545, 12546, 12547, 12548,\n",
       "         12549, 12550, 12551, 12552, 12553, 12554, 12555, 12556, 12557,\n",
       "         12558, 12559, 12560, 12561, 12562, 12563, 12564, 12565, 12566,\n",
       "         12567, 12568, 12569, 12570, 12571, 12572, 12573, 12574, 12575,\n",
       "         12576, 12577, 12578, 12579, 12580, 12581, 12582, 12583, 12584,\n",
       "         12585, 12586, 12587, 12588, 12589, 12590, 12591, 12592, 12593,\n",
       "         12594, 12595, 12596, 12597, 12598, 12599, 12600, 12601, 12602,\n",
       "         12603, 12604, 12605, 12606, 12607, 12608, 12609, 12610]),\n",
       "  'Melissa Fumero': array([43114, 43115, 43116, 43117, 43118, 43119, 43120, 43121, 43122,\n",
       "         43123, 43124, 43125, 43126, 43127, 43128, 43129, 43130, 43131,\n",
       "         43132, 43133, 43134, 43135, 43136, 43137, 43138, 43139, 43140,\n",
       "         43141, 43142, 43143, 43144, 43145, 43146, 43147, 43148, 43149,\n",
       "         43150, 43151, 43152, 43153, 43154, 43155, 43156, 43157, 43158,\n",
       "         43159, 43160, 43161, 43162, 43163, 43164, 43165, 43166, 43167,\n",
       "         43168, 43169, 43170, 43171, 43172, 43173, 43174, 43175, 43176,\n",
       "         43177, 43178, 43179, 43180, 43181, 43182, 43183, 43184, 43185,\n",
       "         43186, 43187, 43188, 43189, 43190, 43191, 43192, 43193, 43194,\n",
       "         43195, 43196, 43197, 43198, 43199, 43200, 43201, 43202]),\n",
       "  'Chase Masterson': array([53439, 53440, 53441, 53442, 53443, 53444, 53445, 53446, 53447,\n",
       "         53448, 53449, 53450, 53451, 53452, 53453, 53454, 53455, 53456,\n",
       "         53457, 53458, 53459, 53460, 53461, 53462, 53463, 53464, 53465,\n",
       "         53466, 53467, 53468, 53469, 53470, 53471, 53472, 53473, 53474,\n",
       "         53475, 53476, 53477, 53478, 53479, 53480, 53481, 53482, 53483,\n",
       "         53484, 53485, 53486, 53487, 53488, 53489, 53490, 53491, 53492,\n",
       "         53493, 53494, 53495, 53496, 53497, 53498, 53499, 53500, 53501,\n",
       "         53502, 53503, 53504, 53505, 53506, 53507, 53508, 53509, 53510,\n",
       "         53511, 53512, 53513, 53514, 53515, 53516, 53517, 53518, 53519,\n",
       "         53520, 53521, 53522, 53523, 53524, 53525, 53526, 53527, 53528,\n",
       "         53529, 53530, 53531, 53532, 53533, 53534, 53535, 53536, 53537,\n",
       "         53538, 53539, 53540, 53541, 53542, 53543, 53544, 53545, 53546,\n",
       "         53547, 53548, 53549, 53550, 53551, 53552, 53553, 53554, 53555,\n",
       "         53556, 53557]),\n",
       "  'Selena Gomez': array([44314, 44315, 44316, 44317, 44318, 44319, 44320, 44321, 44322,\n",
       "         44323, 44324, 44325, 44326, 44327, 44328, 44329, 44330, 44331,\n",
       "         44332, 44333, 44334, 44335, 44336, 44337, 44338, 44339, 44340,\n",
       "         44341, 44342, 44343, 44344, 44345, 44346, 44347, 44348, 44349,\n",
       "         44350, 44351, 44352, 44353, 44354, 44355, 44356, 44357, 44358,\n",
       "         44359, 44360, 44361, 44362, 44363, 44364, 44365, 44366, 44367,\n",
       "         44368, 44369, 44370, 44371, 44372, 44373, 44374, 44375, 44376,\n",
       "         44377, 44378, 44379, 44380, 44381, 44382, 44383, 44384, 44385,\n",
       "         44386, 44387, 44388, 44389, 44390, 44391, 44392, 44393, 44394,\n",
       "         44395, 44396, 44397, 44398, 44399, 44400, 44401, 44402, 44403,\n",
       "         44404, 44405, 44406, 44407, 44408, 44409, 44410, 44411, 44412,\n",
       "         44413, 44414, 44415, 44416, 44417, 44418, 44419, 44420, 44421,\n",
       "         44422, 44423, 44424, 44425, 44426, 44427, 44428, 44429, 44430,\n",
       "         44431, 44432, 44433, 44434, 44435, 44436, 44437, 44438, 44439,\n",
       "         44440, 44441, 44442, 44443, 44444, 44445, 44446, 44447, 44448,\n",
       "         44449, 44450]),\n",
       "  'Peggy McCay': array([53701, 53702, 53703, 53704, 53705, 53706, 53707, 53708, 53709,\n",
       "         53710, 53711, 53712, 53713, 53714, 53715, 53716, 53717, 53718,\n",
       "         53719, 53720, 53721, 53722, 53723, 53724, 53725, 53726, 53727,\n",
       "         53728, 53729, 53730, 53731, 53732, 53733, 53734, 53735, 53736,\n",
       "         53737, 53738, 53739, 53740, 53741, 53742, 53743, 53744, 53745,\n",
       "         53746, 53747, 53748, 53749, 53750, 53751, 53752, 53753, 53754,\n",
       "         53755, 53756, 53757, 53758, 53759, 53760, 53761, 53762, 53763,\n",
       "         53764, 53765, 53766])},\n",
       " {'Ben Affleck': 'male',\n",
       "  'Richard Gere': 'male',\n",
       "  'Josh Brolin': 'male',\n",
       "  'Ian Holm': 'male',\n",
       "  'Melissa Fumero': 'female',\n",
       "  'Chase Masterson': 'female',\n",
       "  'Selena Gomez': 'female',\n",
       "  'Peggy McCay': 'female'})"
      ]
     },
     "execution_count": 19,
     "metadata": {},
     "output_type": "execute_result"
    }
   ],
   "source": [
    "# names = np.random.choice(train_df.names, 3)\n",
    "select_names = ['Ben Affleck', 'Richard Gere', 'Josh Brolin', 'Ian Holm', 'Melissa Fumero', 'Chase Masterson', 'Selena Gomez', 'Peggy McCay']\n",
    "names_to_indices = {n: np.where(train_df.faces_frame.name == n)[0] for n in select_names}\n",
    "name_to_gender = dict(zip(select_names, ['male', 'male', 'male', 'male', 'female', 'female', 'female', 'female']))\n",
    "names_to_indices, name_to_gender"
   ]
  },
  {
   "cell_type": "code",
   "execution_count": 12,
   "metadata": {},
   "outputs": [
    {
     "name": "stdout",
     "output_type": "stream",
     "text": [
      "Richard Gere\n",
      "Ian Holm\n",
      "Melissa Fumero\n",
      "Selena Gomez\n"
     ]
    }
   ],
   "source": [
    "for n in select_names:\n",
    "    print(n)"
   ]
  },
  {
   "cell_type": "code",
   "execution_count": 20,
   "metadata": {},
   "outputs": [
    {
     "name": "stdout",
     "output_type": "stream",
     "text": [
      "---Ben Affleck----\n",
      "---Richard Gere----\n",
      "---Josh Brolin----\n",
      "---Ian Holm----\n",
      "---Melissa Fumero----\n",
      "---Chase Masterson----\n",
      "---Selena Gomez----\n",
      "---Peggy McCay----\n"
     ]
    }
   ],
   "source": [
    "reps = []\n",
    "names = []\n",
    "gender = []\n",
    "openface.eval()\n",
    "k = 0\n",
    "with torch.no_grad():\n",
    "    for n in select_names:\n",
    "        print('---{}----'.format(n))\n",
    "        ind = names_to_indices[n]\n",
    "        k += 1\n",
    "        for i in ind:\n",
    "            img, label = train_df[i]\n",
    "            img = img.to(device)\n",
    "            img.unsqueeze_(0)\n",
    "            encoding, _ = openface(img)\n",
    "            reps.append(encoding[0].cpu().numpy())\n",
    "            names.append(k)\n",
    "            gender.append(name_to_gender[n])\n",
    "            if i == 0: \n",
    "                print(i)"
   ]
  },
  {
   "cell_type": "code",
   "execution_count": 21,
   "metadata": {},
   "outputs": [],
   "source": [
    "y = pd.DataFrame(names)\n",
    "s = pd.DataFrame(gender)\n",
    "X = pd.DataFrame(reps)"
   ]
  },
  {
   "cell_type": "code",
   "execution_count": 54,
   "metadata": {},
   "outputs": [],
   "source": [
    "def gender(x):\n",
    "    if \"female\" in x:\n",
    "        return 1\n",
    "    else:\n",
    "        return 0\n",
    "s_num = s[0].apply(gender)"
   ]
  },
  {
   "cell_type": "code",
   "execution_count": 55,
   "metadata": {},
   "outputs": [],
   "source": [
    "y.to_csv('names_8.csv')\n",
    "s.to_csv('gender_8.csv')\n",
    "X.to_csv('reps_8.csv')\n",
    "s_num.to_csv('gender_8_num.csv')"
   ]
  },
  {
   "cell_type": "code",
   "execution_count": 25,
   "metadata": {},
   "outputs": [],
   "source": [
    "import matplotlib.cm as cm\n",
    "plt.style.use('bmh')"
   ]
  },
  {
   "cell_type": "code",
   "execution_count": 26,
   "metadata": {},
   "outputs": [],
   "source": [
    "colors = cm.Dark2(np.linspace(0, 1, len(select_names)))"
   ]
  },
  {
   "cell_type": "code",
   "execution_count": 27,
   "metadata": {},
   "outputs": [],
   "source": [
    "from sklearn.decomposition import PCA\n",
    "from sklearn.manifold import TSNE"
   ]
  },
  {
   "cell_type": "code",
   "execution_count": 28,
   "metadata": {},
   "outputs": [],
   "source": [
    "X_pca = PCA(n_components=50).fit_transform(X, X)\n",
    "tsne = TSNE(n_components=2, init='random', random_state=0)\n",
    "X_r = tsne.fit_transform(X_pca)"
   ]
  },
  {
   "cell_type": "code",
   "execution_count": 29,
   "metadata": {},
   "outputs": [
    {
     "data": {
      "image/png": "[encoded data removed]",
      "text/plain": [
       "<Figure size 432x288 with 1 Axes>"
      ]
     },
     "metadata": {},
     "output_type": "display_data"
    }
   ],
   "source": [
    "for c, i, target_name in zip(colors,\n",
    "                             list(range(1, len(select_names) + 1)),\n",
    "                             select_names):\n",
    "    plt.scatter(X_r[(y == i)[0], 0], X_r[(y == i)[0], 1],\n",
    "                c=c, label=target_name)\n",
    "plt.legend()\n",
    "plt.show()"
   ]
  },
  {
   "cell_type": "code",
   "execution_count": 155,
   "metadata": {},
   "outputs": [
    {
     "name": "stdout",
     "output_type": "stream",
     "text": [
      "Saved to: tsne.pdf\n"
     ]
    },
    {
     "data": {
      "text/plain": [
       "<Figure size 432x288 with 0 Axes>"
      ]
     },
     "metadata": {},
     "output_type": "display_data"
    }
   ],
   "source": [
    "out = \"tsne_8.pdf\"\n",
    "plt.savefig(out)\n",
    "print(\"Saved to: {}\".format(out))"
   ]
  },
  {
   "cell_type": "code",
   "execution_count": 32,
   "metadata": {},
   "outputs": [],
   "source": [
    "colors = cm.Dark2(np.linspace(0, 1, 2))"
   ]
  },
  {
   "cell_type": "code",
   "execution_count": 35,
   "metadata": {},
   "outputs": [
    {
     "data": {
      "image/png": "[encoded data removed]",
      "text/plain": [
       "<Figure size 432x288 with 1 Axes>"
      ]
     },
     "metadata": {},
     "output_type": "display_data"
    }
   ],
   "source": [
    "for c, target_name in zip(colors,\n",
    "                             ['male', 'female']):\n",
    "    plt.scatter(X_r[(s == target_name)[0], 0], X_r[(s == target_name)[0], 1],\n",
    "                c=c, label=target_name)\n",
    "plt.legend()\n",
    "plt.show()"
   ]
  },
  {
   "cell_type": "code",
   "execution_count": 38,
   "metadata": {},
   "outputs": [
    {
     "name": "stdout",
     "output_type": "stream",
     "text": [
      "Saved to: tsne_8_gender.pdf\n"
     ]
    },
    {
     "data": {
      "text/plain": [
       "<Figure size 432x288 with 0 Axes>"
      ]
     },
     "metadata": {},
     "output_type": "display_data"
    }
   ],
   "source": [
    "out = \"tsne_8_gender.pdf\"\n",
    "plt.savefig(out)\n",
    "print(\"Saved to: {}\".format(out))"
   ]
  },
  {
   "cell_type": "code",
   "execution_count": 51,
   "metadata": {},
   "outputs": [],
   "source": [
    "X_pca_gender = PCA(n_components=2).fit_transform(X, s_num)"
   ]
  },
  {
   "cell_type": "code",
   "execution_count": 52,
   "metadata": {},
   "outputs": [
    {
     "data": {
      "text/plain": [
       "(976, 2)"
      ]
     },
     "execution_count": 52,
     "metadata": {},
     "output_type": "execute_result"
    }
   ],
   "source": [
    "X_pca_gender.shape"
   ]
  },
  {
   "cell_type": "code",
   "execution_count": 53,
   "metadata": {},
   "outputs": [
    {
     "data": {
      "text/plain": [
       "array([[ 0.35575513, -0.02334388],\n",
       "       [ 0.23660944, -0.10369195],\n",
       "       [ 0.1450529 , -0.3687786 ],\n",
       "       ...,\n",
       "       [-0.48712095, -0.15050258],\n",
       "       [ 0.70492446,  0.20068833],\n",
       "       [-0.07966208, -0.36565251]])"
      ]
     },
     "execution_count": 53,
     "metadata": {},
     "output_type": "execute_result"
    }
   ],
   "source": [
    "X_pca_gender"
   ]
  }
 ],
 "metadata": {
  "kernelspec": {
   "display_name": "Python 3",
   "language": "python",
   "name": "python3"
  },
  "language_info": {
   "codemirror_mode": {
    "name": "ipython",
    "version": 3
   },
   "file_extension": ".py",
   "mimetype": "text/x-python",
   "name": "python",
   "nbconvert_exporter": "python",
   "pygments_lexer": "ipython3",
   "version": "3.6.5"
  }
 },
 "nbformat": 4,
 "nbformat_minor": 2
}
