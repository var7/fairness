{
 "cells": [
  {
   "cell_type": "code",
   "execution_count": 1,
   "metadata": {},
   "outputs": [],
   "source": [
    "import os\n",
    "import sys\n",
    "import time\n",
    "import copy\n",
    "import argparse\n",
    "import datetime"
   ]
  },
  {
   "cell_type": "code",
   "execution_count": 2,
   "metadata": {},
   "outputs": [],
   "source": [
    "import pandas as pd\n",
    "import numpy as np\n",
    "import matplotlib.pyplot as plt\n",
    "import matplotlib\n",
    "from numpy.random import RandomState\n",
    "plt.style.use('dark_background')"
   ]
  },
  {
   "cell_type": "code",
   "execution_count": 3,
   "metadata": {},
   "outputs": [],
   "source": [
    "from sklearn.linear_model import LogisticRegression, LogisticRegressionCV\n",
    "from sklearn.metrics import accuracy_score, confusion_matrix, make_scorer, precision_recall_fscore_support, roc_auc_score\n",
    "from sklearn.model_selection import GridSearchCV, StratifiedKFold, train_test_split\n",
    "from sklearn.pipeline import Pipeline\n",
    "from sklearn.preprocessing import RobustScaler, StandardScaler"
   ]
  },
  {
   "cell_type": "code",
   "execution_count": 4,
   "metadata": {},
   "outputs": [],
   "source": [
    "import torch\n",
    "import torch.nn as nn\n",
    "import torch.backends.cudnn as cudnn\n",
    "import torch.optim as optim\n",
    "import torch.optim.lr_scheduler as lr_scheduler\n",
    "import torch.functional as F\n",
    "from torchvision import transforms, utils, models\n",
    "from torch.utils.data import Dataset, DataLoader\n",
    "from torch.nn.modules.activation import Sigmoid, LeakyReLU"
   ]
  },
  {
   "cell_type": "code",
   "execution_count": 5,
   "metadata": {},
   "outputs": [],
   "source": [
    "rs = RandomState(1791387)"
   ]
  },
  {
   "cell_type": "code",
   "execution_count": 6,
   "metadata": {},
   "outputs": [],
   "source": [
    "DATA_PATH = './uci_adult/'\n",
    "TRAIN_PATH = os.path.join(DATA_PATH, 'adult.data')\n",
    "TEST_PATH = os.path.join(DATA_PATH, 'adult.test')\n",
    "header = [\"Age\", \"WorkClass\", \"fnlwgt\", \"Education\", \"EducationNum\",\n",
    "    \"MaritalStatus\", \"Occupation\", \"Relationship\", \"Race\", \"Gender\",\n",
    "    \"CapitalGain\", \"CapitalLoss\", \"HoursPerWeek\", \"NativeCountry\", \"Income\"]"
   ]
  },
  {
   "cell_type": "code",
   "execution_count": 7,
   "metadata": {},
   "outputs": [
    {
     "name": "stderr",
     "output_type": "stream",
     "text": [
      "/Users/var/anaconda/envs/pytorch/lib/python3.6/site-packages/ipykernel_launcher.py:1: ParserWarning: Falling back to the 'python' engine because the 'c' engine does not support regex separators (separators > 1 char and different from '\\s+' are interpreted as regex); you can avoid this warning by specifying engine='python'.\n",
      "  \"\"\"Entry point for launching an IPython kernel.\n"
     ]
    }
   ],
   "source": [
    "df = pd.read_csv(TRAIN_PATH, header=None, names=header, sep=',\\s', na_values=[\"?\"])"
   ]
  },
  {
   "cell_type": "code",
   "execution_count": 8,
   "metadata": {},
   "outputs": [
    {
     "data": {
      "text/html": [
       "<div>\n",
       "<style scoped>\n",
       "    .dataframe tbody tr th:only-of-type {\n",
       "        vertical-align: middle;\n",
       "    }\n",
       "\n",
       "    .dataframe tbody tr th {\n",
       "        vertical-align: top;\n",
       "    }\n",
       "\n",
       "    .dataframe thead th {\n",
       "        text-align: right;\n",
       "    }\n",
       "</style>\n",
       "<table border=\"1\" class=\"dataframe\">\n",
       "  <thead>\n",
       "    <tr style=\"text-align: right;\">\n",
       "      <th></th>\n",
       "      <th>Age</th>\n",
       "      <th>WorkClass</th>\n",
       "      <th>fnlwgt</th>\n",
       "      <th>Education</th>\n",
       "      <th>EducationNum</th>\n",
       "      <th>MaritalStatus</th>\n",
       "      <th>Occupation</th>\n",
       "      <th>Relationship</th>\n",
       "      <th>Race</th>\n",
       "      <th>Gender</th>\n",
       "      <th>CapitalGain</th>\n",
       "      <th>CapitalLoss</th>\n",
       "      <th>HoursPerWeek</th>\n",
       "      <th>NativeCountry</th>\n",
       "      <th>Income</th>\n",
       "    </tr>\n",
       "  </thead>\n",
       "  <tbody>\n",
       "    <tr>\n",
       "      <th>0</th>\n",
       "      <td>39</td>\n",
       "      <td>State-gov</td>\n",
       "      <td>77516</td>\n",
       "      <td>Bachelors</td>\n",
       "      <td>13</td>\n",
       "      <td>Never-married</td>\n",
       "      <td>Adm-clerical</td>\n",
       "      <td>Not-in-family</td>\n",
       "      <td>White</td>\n",
       "      <td>Male</td>\n",
       "      <td>2174</td>\n",
       "      <td>0</td>\n",
       "      <td>40</td>\n",
       "      <td>United-States</td>\n",
       "      <td>&lt;=50K</td>\n",
       "    </tr>\n",
       "    <tr>\n",
       "      <th>1</th>\n",
       "      <td>50</td>\n",
       "      <td>Self-emp-not-inc</td>\n",
       "      <td>83311</td>\n",
       "      <td>Bachelors</td>\n",
       "      <td>13</td>\n",
       "      <td>Married-civ-spouse</td>\n",
       "      <td>Exec-managerial</td>\n",
       "      <td>Husband</td>\n",
       "      <td>White</td>\n",
       "      <td>Male</td>\n",
       "      <td>0</td>\n",
       "      <td>0</td>\n",
       "      <td>13</td>\n",
       "      <td>United-States</td>\n",
       "      <td>&lt;=50K</td>\n",
       "    </tr>\n",
       "    <tr>\n",
       "      <th>2</th>\n",
       "      <td>38</td>\n",
       "      <td>Private</td>\n",
       "      <td>215646</td>\n",
       "      <td>HS-grad</td>\n",
       "      <td>9</td>\n",
       "      <td>Divorced</td>\n",
       "      <td>Handlers-cleaners</td>\n",
       "      <td>Not-in-family</td>\n",
       "      <td>White</td>\n",
       "      <td>Male</td>\n",
       "      <td>0</td>\n",
       "      <td>0</td>\n",
       "      <td>40</td>\n",
       "      <td>United-States</td>\n",
       "      <td>&lt;=50K</td>\n",
       "    </tr>\n",
       "    <tr>\n",
       "      <th>3</th>\n",
       "      <td>53</td>\n",
       "      <td>Private</td>\n",
       "      <td>234721</td>\n",
       "      <td>11th</td>\n",
       "      <td>7</td>\n",
       "      <td>Married-civ-spouse</td>\n",
       "      <td>Handlers-cleaners</td>\n",
       "      <td>Husband</td>\n",
       "      <td>Black</td>\n",
       "      <td>Male</td>\n",
       "      <td>0</td>\n",
       "      <td>0</td>\n",
       "      <td>40</td>\n",
       "      <td>United-States</td>\n",
       "      <td>&lt;=50K</td>\n",
       "    </tr>\n",
       "    <tr>\n",
       "      <th>4</th>\n",
       "      <td>28</td>\n",
       "      <td>Private</td>\n",
       "      <td>338409</td>\n",
       "      <td>Bachelors</td>\n",
       "      <td>13</td>\n",
       "      <td>Married-civ-spouse</td>\n",
       "      <td>Prof-specialty</td>\n",
       "      <td>Wife</td>\n",
       "      <td>Black</td>\n",
       "      <td>Female</td>\n",
       "      <td>0</td>\n",
       "      <td>0</td>\n",
       "      <td>40</td>\n",
       "      <td>Cuba</td>\n",
       "      <td>&lt;=50K</td>\n",
       "    </tr>\n",
       "  </tbody>\n",
       "</table>\n",
       "</div>"
      ],
      "text/plain": [
       "   Age         WorkClass  fnlwgt  Education  EducationNum       MaritalStatus  \\\n",
       "0   39         State-gov   77516  Bachelors            13       Never-married   \n",
       "1   50  Self-emp-not-inc   83311  Bachelors            13  Married-civ-spouse   \n",
       "2   38           Private  215646    HS-grad             9            Divorced   \n",
       "3   53           Private  234721       11th             7  Married-civ-spouse   \n",
       "4   28           Private  338409  Bachelors            13  Married-civ-spouse   \n",
       "\n",
       "          Occupation   Relationship   Race  Gender  CapitalGain  CapitalLoss  \\\n",
       "0       Adm-clerical  Not-in-family  White    Male         2174            0   \n",
       "1    Exec-managerial        Husband  White    Male            0            0   \n",
       "2  Handlers-cleaners  Not-in-family  White    Male            0            0   \n",
       "3  Handlers-cleaners        Husband  Black    Male            0            0   \n",
       "4     Prof-specialty           Wife  Black  Female            0            0   \n",
       "\n",
       "   HoursPerWeek  NativeCountry Income  \n",
       "0            40  United-States  <=50K  \n",
       "1            13  United-States  <=50K  \n",
       "2            40  United-States  <=50K  \n",
       "3            40  United-States  <=50K  \n",
       "4            40           Cuba  <=50K  "
      ]
     },
     "execution_count": 8,
     "metadata": {},
     "output_type": "execute_result"
    }
   ],
   "source": [
    "df.head()"
   ]
  },
  {
   "cell_type": "code",
   "execution_count": 9,
   "metadata": {},
   "outputs": [
    {
     "data": {
      "text/plain": [
       "True"
      ]
     },
     "execution_count": 9,
     "metadata": {},
     "output_type": "execute_result"
    }
   ],
   "source": [
    "df.isnull().values.any()"
   ]
  },
  {
   "cell_type": "code",
   "execution_count": 10,
   "metadata": {},
   "outputs": [
    {
     "data": {
      "text/html": [
       "<div>\n",
       "<style scoped>\n",
       "    .dataframe tbody tr th:only-of-type {\n",
       "        vertical-align: middle;\n",
       "    }\n",
       "\n",
       "    .dataframe tbody tr th {\n",
       "        vertical-align: top;\n",
       "    }\n",
       "\n",
       "    .dataframe thead th {\n",
       "        text-align: right;\n",
       "    }\n",
       "</style>\n",
       "<table border=\"1\" class=\"dataframe\">\n",
       "  <thead>\n",
       "    <tr style=\"text-align: right;\">\n",
       "      <th></th>\n",
       "      <th>Age</th>\n",
       "      <th>WorkClass</th>\n",
       "      <th>fnlwgt</th>\n",
       "      <th>Education</th>\n",
       "      <th>EducationNum</th>\n",
       "      <th>MaritalStatus</th>\n",
       "      <th>Occupation</th>\n",
       "      <th>Relationship</th>\n",
       "      <th>Race</th>\n",
       "      <th>Gender</th>\n",
       "      <th>CapitalGain</th>\n",
       "      <th>CapitalLoss</th>\n",
       "      <th>HoursPerWeek</th>\n",
       "      <th>NativeCountry</th>\n",
       "      <th>Income</th>\n",
       "    </tr>\n",
       "  </thead>\n",
       "  <tbody>\n",
       "    <tr>\n",
       "      <th>0</th>\n",
       "      <td>39</td>\n",
       "      <td>State-gov</td>\n",
       "      <td>77516</td>\n",
       "      <td>Bachelors</td>\n",
       "      <td>13</td>\n",
       "      <td>Never-married</td>\n",
       "      <td>Adm-clerical</td>\n",
       "      <td>Not-in-family</td>\n",
       "      <td>White</td>\n",
       "      <td>Male</td>\n",
       "      <td>2174</td>\n",
       "      <td>0</td>\n",
       "      <td>40</td>\n",
       "      <td>United-States</td>\n",
       "      <td>&lt;=50K</td>\n",
       "    </tr>\n",
       "    <tr>\n",
       "      <th>1</th>\n",
       "      <td>50</td>\n",
       "      <td>Self-emp-not-inc</td>\n",
       "      <td>83311</td>\n",
       "      <td>Bachelors</td>\n",
       "      <td>13</td>\n",
       "      <td>Married-civ-spouse</td>\n",
       "      <td>Exec-managerial</td>\n",
       "      <td>Husband</td>\n",
       "      <td>White</td>\n",
       "      <td>Male</td>\n",
       "      <td>0</td>\n",
       "      <td>0</td>\n",
       "      <td>13</td>\n",
       "      <td>United-States</td>\n",
       "      <td>&lt;=50K</td>\n",
       "    </tr>\n",
       "    <tr>\n",
       "      <th>2</th>\n",
       "      <td>38</td>\n",
       "      <td>Private</td>\n",
       "      <td>215646</td>\n",
       "      <td>HS-grad</td>\n",
       "      <td>9</td>\n",
       "      <td>Divorced</td>\n",
       "      <td>Handlers-cleaners</td>\n",
       "      <td>Not-in-family</td>\n",
       "      <td>White</td>\n",
       "      <td>Male</td>\n",
       "      <td>0</td>\n",
       "      <td>0</td>\n",
       "      <td>40</td>\n",
       "      <td>United-States</td>\n",
       "      <td>&lt;=50K</td>\n",
       "    </tr>\n",
       "    <tr>\n",
       "      <th>3</th>\n",
       "      <td>53</td>\n",
       "      <td>Private</td>\n",
       "      <td>234721</td>\n",
       "      <td>11th</td>\n",
       "      <td>7</td>\n",
       "      <td>Married-civ-spouse</td>\n",
       "      <td>Handlers-cleaners</td>\n",
       "      <td>Husband</td>\n",
       "      <td>Black</td>\n",
       "      <td>Male</td>\n",
       "      <td>0</td>\n",
       "      <td>0</td>\n",
       "      <td>40</td>\n",
       "      <td>United-States</td>\n",
       "      <td>&lt;=50K</td>\n",
       "    </tr>\n",
       "    <tr>\n",
       "      <th>4</th>\n",
       "      <td>28</td>\n",
       "      <td>Private</td>\n",
       "      <td>338409</td>\n",
       "      <td>Bachelors</td>\n",
       "      <td>13</td>\n",
       "      <td>Married-civ-spouse</td>\n",
       "      <td>Prof-specialty</td>\n",
       "      <td>Wife</td>\n",
       "      <td>Black</td>\n",
       "      <td>Female</td>\n",
       "      <td>0</td>\n",
       "      <td>0</td>\n",
       "      <td>40</td>\n",
       "      <td>Cuba</td>\n",
       "      <td>&lt;=50K</td>\n",
       "    </tr>\n",
       "  </tbody>\n",
       "</table>\n",
       "</div>"
      ],
      "text/plain": [
       "   Age         WorkClass  fnlwgt  Education  EducationNum       MaritalStatus  \\\n",
       "0   39         State-gov   77516  Bachelors            13       Never-married   \n",
       "1   50  Self-emp-not-inc   83311  Bachelors            13  Married-civ-spouse   \n",
       "2   38           Private  215646    HS-grad             9            Divorced   \n",
       "3   53           Private  234721       11th             7  Married-civ-spouse   \n",
       "4   28           Private  338409  Bachelors            13  Married-civ-spouse   \n",
       "\n",
       "          Occupation   Relationship   Race  Gender  CapitalGain  CapitalLoss  \\\n",
       "0       Adm-clerical  Not-in-family  White    Male         2174            0   \n",
       "1    Exec-managerial        Husband  White    Male            0            0   \n",
       "2  Handlers-cleaners  Not-in-family  White    Male            0            0   \n",
       "3  Handlers-cleaners        Husband  Black    Male            0            0   \n",
       "4     Prof-specialty           Wife  Black  Female            0            0   \n",
       "\n",
       "   HoursPerWeek  NativeCountry Income  \n",
       "0            40  United-States  <=50K  \n",
       "1            13  United-States  <=50K  \n",
       "2            40  United-States  <=50K  \n",
       "3            40  United-States  <=50K  \n",
       "4            40           Cuba  <=50K  "
      ]
     },
     "execution_count": 10,
     "metadata": {},
     "output_type": "execute_result"
    }
   ],
   "source": [
    "df = df.dropna()\n",
    "df.head()"
   ]
  },
  {
   "cell_type": "code",
   "execution_count": 11,
   "metadata": {},
   "outputs": [
    {
     "data": {
      "text/plain": [
       "array(['<=50K', '>50K'], dtype=object)"
      ]
     },
     "execution_count": 11,
     "metadata": {},
     "output_type": "execute_result"
    }
   ],
   "source": [
    "df.Income.unique()"
   ]
  },
  {
   "cell_type": "code",
   "execution_count": 12,
   "metadata": {},
   "outputs": [],
   "source": [
    "df[\"Income\"] = df[\"Income\"].map({ \"<=50K\": 0, \">50K\": 1 })"
   ]
  },
  {
   "cell_type": "code",
   "execution_count": 13,
   "metadata": {},
   "outputs": [],
   "source": [
    "y_all = df[\"Income\"].values"
   ]
  },
  {
   "cell_type": "code",
   "execution_count": 14,
   "metadata": {},
   "outputs": [
    {
     "data": {
      "text/plain": [
       "array(['Male', 'Female'], dtype=object)"
      ]
     },
     "execution_count": 14,
     "metadata": {},
     "output_type": "execute_result"
    }
   ],
   "source": [
    "df.Gender.unique()"
   ]
  },
  {
   "cell_type": "code",
   "execution_count": 15,
   "metadata": {},
   "outputs": [],
   "source": [
    "sensitive_all = df[\"Gender\"].map({\"Male\": 0, \"Female\": 1}).values"
   ]
  },
  {
   "cell_type": "code",
   "execution_count": 16,
   "metadata": {},
   "outputs": [],
   "source": [
    "df.drop(\"Income\", axis=1, inplace=True,)"
   ]
  },
  {
   "cell_type": "code",
   "execution_count": 17,
   "metadata": {},
   "outputs": [
    {
     "data": {
      "text/html": [
       "<div>\n",
       "<style scoped>\n",
       "    .dataframe tbody tr th:only-of-type {\n",
       "        vertical-align: middle;\n",
       "    }\n",
       "\n",
       "    .dataframe tbody tr th {\n",
       "        vertical-align: top;\n",
       "    }\n",
       "\n",
       "    .dataframe thead th {\n",
       "        text-align: right;\n",
       "    }\n",
       "</style>\n",
       "<table border=\"1\" class=\"dataframe\">\n",
       "  <thead>\n",
       "    <tr style=\"text-align: right;\">\n",
       "      <th></th>\n",
       "      <th>Age</th>\n",
       "      <th>fnlwgt</th>\n",
       "      <th>EducationNum</th>\n",
       "      <th>CapitalGain</th>\n",
       "      <th>CapitalLoss</th>\n",
       "      <th>HoursPerWeek</th>\n",
       "    </tr>\n",
       "  </thead>\n",
       "  <tbody>\n",
       "    <tr>\n",
       "      <th>count</th>\n",
       "      <td>30162.000000</td>\n",
       "      <td>3.016200e+04</td>\n",
       "      <td>30162.000000</td>\n",
       "      <td>30162.000000</td>\n",
       "      <td>30162.000000</td>\n",
       "      <td>30162.000000</td>\n",
       "    </tr>\n",
       "    <tr>\n",
       "      <th>mean</th>\n",
       "      <td>38.437902</td>\n",
       "      <td>1.897938e+05</td>\n",
       "      <td>10.121312</td>\n",
       "      <td>1092.007858</td>\n",
       "      <td>88.372489</td>\n",
       "      <td>40.931238</td>\n",
       "    </tr>\n",
       "    <tr>\n",
       "      <th>std</th>\n",
       "      <td>13.134665</td>\n",
       "      <td>1.056530e+05</td>\n",
       "      <td>2.549995</td>\n",
       "      <td>7406.346497</td>\n",
       "      <td>404.298370</td>\n",
       "      <td>11.979984</td>\n",
       "    </tr>\n",
       "    <tr>\n",
       "      <th>min</th>\n",
       "      <td>17.000000</td>\n",
       "      <td>1.376900e+04</td>\n",
       "      <td>1.000000</td>\n",
       "      <td>0.000000</td>\n",
       "      <td>0.000000</td>\n",
       "      <td>1.000000</td>\n",
       "    </tr>\n",
       "    <tr>\n",
       "      <th>25%</th>\n",
       "      <td>28.000000</td>\n",
       "      <td>1.176272e+05</td>\n",
       "      <td>9.000000</td>\n",
       "      <td>0.000000</td>\n",
       "      <td>0.000000</td>\n",
       "      <td>40.000000</td>\n",
       "    </tr>\n",
       "    <tr>\n",
       "      <th>50%</th>\n",
       "      <td>37.000000</td>\n",
       "      <td>1.784250e+05</td>\n",
       "      <td>10.000000</td>\n",
       "      <td>0.000000</td>\n",
       "      <td>0.000000</td>\n",
       "      <td>40.000000</td>\n",
       "    </tr>\n",
       "    <tr>\n",
       "      <th>75%</th>\n",
       "      <td>47.000000</td>\n",
       "      <td>2.376285e+05</td>\n",
       "      <td>13.000000</td>\n",
       "      <td>0.000000</td>\n",
       "      <td>0.000000</td>\n",
       "      <td>45.000000</td>\n",
       "    </tr>\n",
       "    <tr>\n",
       "      <th>max</th>\n",
       "      <td>90.000000</td>\n",
       "      <td>1.484705e+06</td>\n",
       "      <td>16.000000</td>\n",
       "      <td>99999.000000</td>\n",
       "      <td>4356.000000</td>\n",
       "      <td>99.000000</td>\n",
       "    </tr>\n",
       "  </tbody>\n",
       "</table>\n",
       "</div>"
      ],
      "text/plain": [
       "                Age        fnlwgt  EducationNum   CapitalGain   CapitalLoss  \\\n",
       "count  30162.000000  3.016200e+04  30162.000000  30162.000000  30162.000000   \n",
       "mean      38.437902  1.897938e+05     10.121312   1092.007858     88.372489   \n",
       "std       13.134665  1.056530e+05      2.549995   7406.346497    404.298370   \n",
       "min       17.000000  1.376900e+04      1.000000      0.000000      0.000000   \n",
       "25%       28.000000  1.176272e+05      9.000000      0.000000      0.000000   \n",
       "50%       37.000000  1.784250e+05     10.000000      0.000000      0.000000   \n",
       "75%       47.000000  2.376285e+05     13.000000      0.000000      0.000000   \n",
       "max       90.000000  1.484705e+06     16.000000  99999.000000   4356.000000   \n",
       "\n",
       "       HoursPerWeek  \n",
       "count  30162.000000  \n",
       "mean      40.931238  \n",
       "std       11.979984  \n",
       "min        1.000000  \n",
       "25%       40.000000  \n",
       "50%       40.000000  \n",
       "75%       45.000000  \n",
       "max       99.000000  "
      ]
     },
     "execution_count": 17,
     "metadata": {},
     "output_type": "execute_result"
    }
   ],
   "source": [
    "df.describe()"
   ]
  },
  {
   "cell_type": "code",
   "execution_count": 18,
   "metadata": {},
   "outputs": [],
   "source": [
    "df.drop(\"CapitalGain\", axis=1, inplace=True)\n",
    "df.drop(\"CapitalLoss\", axis=1, inplace=True)"
   ]
  },
  {
   "cell_type": "code",
   "execution_count": 19,
   "metadata": {},
   "outputs": [],
   "source": [
    "df = pd.get_dummies(df, columns=[\n",
    "    \"WorkClass\", \"Education\", \"MaritalStatus\", \"Occupation\", \"Relationship\",\n",
    "    \"Race\", \"Gender\", \"NativeCountry\",\n",
    "])"
   ]
  },
  {
   "cell_type": "code",
   "execution_count": 20,
   "metadata": {},
   "outputs": [
    {
     "data": {
      "text/plain": [
       "(30162, 102)"
      ]
     },
     "execution_count": 20,
     "metadata": {},
     "output_type": "execute_result"
    }
   ],
   "source": [
    "df.shape"
   ]
  },
  {
   "cell_type": "code",
   "execution_count": 21,
   "metadata": {},
   "outputs": [
    {
     "data": {
      "text/plain": [
       "0    22654\n",
       "1     7508\n",
       "dtype: int64"
      ]
     },
     "execution_count": 21,
     "metadata": {},
     "output_type": "execute_result"
    }
   ],
   "source": [
    "pd.value_counts(pd.Series(y_all))"
   ]
  },
  {
   "cell_type": "code",
   "execution_count": 22,
   "metadata": {},
   "outputs": [
    {
     "data": {
      "text/plain": [
       "Index(['Age', 'fnlwgt', 'EducationNum', 'HoursPerWeek',\n",
       "       'WorkClass_Federal-gov', 'WorkClass_Local-gov', 'WorkClass_Private',\n",
       "       'WorkClass_Self-emp-inc', 'WorkClass_Self-emp-not-inc',\n",
       "       'WorkClass_State-gov',\n",
       "       ...\n",
       "       'NativeCountry_Portugal', 'NativeCountry_Puerto-Rico',\n",
       "       'NativeCountry_Scotland', 'NativeCountry_South', 'NativeCountry_Taiwan',\n",
       "       'NativeCountry_Thailand', 'NativeCountry_Trinadad&Tobago',\n",
       "       'NativeCountry_United-States', 'NativeCountry_Vietnam',\n",
       "       'NativeCountry_Yugoslavia'],\n",
       "      dtype='object', length=102)"
      ]
     },
     "execution_count": 22,
     "metadata": {},
     "output_type": "execute_result"
    }
   ],
   "source": [
    "df.columns"
   ]
  },
  {
   "cell_type": "code",
   "execution_count": 23,
   "metadata": {},
   "outputs": [
    {
     "name": "stderr",
     "output_type": "stream",
     "text": [
      "/Users/var/anaconda/envs/pytorch/lib/python3.6/site-packages/sklearn/utils/validation.py:475: DataConversionWarning: Data with input dtype int64 was converted to float64 by StandardScaler.\n",
      "  warnings.warn(msg, DataConversionWarning)\n"
     ]
    }
   ],
   "source": [
    "standard_scaler_cols = [\"Age\", \"fnlwgt\", \"EducationNum\", \"HoursPerWeek\",]\n",
    "scaler = StandardScaler()\n",
    "vals = df[standard_scaler_cols].values\n",
    "scaled_x = scaler.fit_transform(vals)\n",
    "df[standard_scaler_cols] = scaled_x\n",
    "# for colname in standard_scaler_cols:\n",
    "#     x = df[colname].values.astype(float)\n",
    "#     scaled_x = scaler.fit(x)\n",
    "#     df[colname] = scaled_x"
   ]
  },
  {
   "cell_type": "code",
   "execution_count": 24,
   "metadata": {},
   "outputs": [
    {
     "data": {
      "text/html": [
       "<div>\n",
       "<style scoped>\n",
       "    .dataframe tbody tr th:only-of-type {\n",
       "        vertical-align: middle;\n",
       "    }\n",
       "\n",
       "    .dataframe tbody tr th {\n",
       "        vertical-align: top;\n",
       "    }\n",
       "\n",
       "    .dataframe thead th {\n",
       "        text-align: right;\n",
       "    }\n",
       "</style>\n",
       "<table border=\"1\" class=\"dataframe\">\n",
       "  <thead>\n",
       "    <tr style=\"text-align: right;\">\n",
       "      <th></th>\n",
       "      <th>Age</th>\n",
       "      <th>fnlwgt</th>\n",
       "      <th>EducationNum</th>\n",
       "      <th>HoursPerWeek</th>\n",
       "      <th>WorkClass_Federal-gov</th>\n",
       "      <th>WorkClass_Local-gov</th>\n",
       "      <th>WorkClass_Private</th>\n",
       "      <th>WorkClass_Self-emp-inc</th>\n",
       "      <th>WorkClass_Self-emp-not-inc</th>\n",
       "      <th>WorkClass_State-gov</th>\n",
       "      <th>...</th>\n",
       "      <th>NativeCountry_Portugal</th>\n",
       "      <th>NativeCountry_Puerto-Rico</th>\n",
       "      <th>NativeCountry_Scotland</th>\n",
       "      <th>NativeCountry_South</th>\n",
       "      <th>NativeCountry_Taiwan</th>\n",
       "      <th>NativeCountry_Thailand</th>\n",
       "      <th>NativeCountry_Trinadad&amp;Tobago</th>\n",
       "      <th>NativeCountry_United-States</th>\n",
       "      <th>NativeCountry_Vietnam</th>\n",
       "      <th>NativeCountry_Yugoslavia</th>\n",
       "    </tr>\n",
       "  </thead>\n",
       "  <tbody>\n",
       "    <tr>\n",
       "      <th>count</th>\n",
       "      <td>3.016200e+04</td>\n",
       "      <td>3.016200e+04</td>\n",
       "      <td>3.016200e+04</td>\n",
       "      <td>3.016200e+04</td>\n",
       "      <td>30162.000000</td>\n",
       "      <td>30162.000000</td>\n",
       "      <td>30162.000000</td>\n",
       "      <td>30162.000000</td>\n",
       "      <td>30162.000000</td>\n",
       "      <td>30162.000000</td>\n",
       "      <td>...</td>\n",
       "      <td>30162.000000</td>\n",
       "      <td>30162.000000</td>\n",
       "      <td>30162.000000</td>\n",
       "      <td>30162.000000</td>\n",
       "      <td>30162.000000</td>\n",
       "      <td>30162.000000</td>\n",
       "      <td>30162.000000</td>\n",
       "      <td>30162.000000</td>\n",
       "      <td>30162.000000</td>\n",
       "      <td>30162.000000</td>\n",
       "    </tr>\n",
       "    <tr>\n",
       "      <th>mean</th>\n",
       "      <td>1.535952e-16</td>\n",
       "      <td>1.684365e-17</td>\n",
       "      <td>-3.053058e-16</td>\n",
       "      <td>-2.833973e-16</td>\n",
       "      <td>0.031265</td>\n",
       "      <td>0.068530</td>\n",
       "      <td>0.738877</td>\n",
       "      <td>0.035608</td>\n",
       "      <td>0.082853</td>\n",
       "      <td>0.042404</td>\n",
       "      <td>...</td>\n",
       "      <td>0.001127</td>\n",
       "      <td>0.003614</td>\n",
       "      <td>0.000365</td>\n",
       "      <td>0.002354</td>\n",
       "      <td>0.001392</td>\n",
       "      <td>0.000564</td>\n",
       "      <td>0.000597</td>\n",
       "      <td>0.911876</td>\n",
       "      <td>0.002122</td>\n",
       "      <td>0.000530</td>\n",
       "    </tr>\n",
       "    <tr>\n",
       "      <th>std</th>\n",
       "      <td>1.000017e+00</td>\n",
       "      <td>1.000017e+00</td>\n",
       "      <td>1.000017e+00</td>\n",
       "      <td>1.000017e+00</td>\n",
       "      <td>0.174035</td>\n",
       "      <td>0.252657</td>\n",
       "      <td>0.439254</td>\n",
       "      <td>0.185313</td>\n",
       "      <td>0.275664</td>\n",
       "      <td>0.201513</td>\n",
       "      <td>...</td>\n",
       "      <td>0.033556</td>\n",
       "      <td>0.060007</td>\n",
       "      <td>0.019094</td>\n",
       "      <td>0.048461</td>\n",
       "      <td>0.037291</td>\n",
       "      <td>0.023734</td>\n",
       "      <td>0.024422</td>\n",
       "      <td>0.283480</td>\n",
       "      <td>0.046016</td>\n",
       "      <td>0.023026</td>\n",
       "    </tr>\n",
       "    <tr>\n",
       "      <th>min</th>\n",
       "      <td>-1.632189e+00</td>\n",
       "      <td>-1.666094e+00</td>\n",
       "      <td>-3.577051e+00</td>\n",
       "      <td>-3.333218e+00</td>\n",
       "      <td>0.000000</td>\n",
       "      <td>0.000000</td>\n",
       "      <td>0.000000</td>\n",
       "      <td>0.000000</td>\n",
       "      <td>0.000000</td>\n",
       "      <td>0.000000</td>\n",
       "      <td>...</td>\n",
       "      <td>0.000000</td>\n",
       "      <td>0.000000</td>\n",
       "      <td>0.000000</td>\n",
       "      <td>0.000000</td>\n",
       "      <td>0.000000</td>\n",
       "      <td>0.000000</td>\n",
       "      <td>0.000000</td>\n",
       "      <td>0.000000</td>\n",
       "      <td>0.000000</td>\n",
       "      <td>0.000000</td>\n",
       "    </tr>\n",
       "    <tr>\n",
       "      <th>25%</th>\n",
       "      <td>-7.946967e-01</td>\n",
       "      <td>-6.830644e-01</td>\n",
       "      <td>-4.397382e-01</td>\n",
       "      <td>-7.773411e-02</td>\n",
       "      <td>0.000000</td>\n",
       "      <td>0.000000</td>\n",
       "      <td>0.000000</td>\n",
       "      <td>0.000000</td>\n",
       "      <td>0.000000</td>\n",
       "      <td>0.000000</td>\n",
       "      <td>...</td>\n",
       "      <td>0.000000</td>\n",
       "      <td>0.000000</td>\n",
       "      <td>0.000000</td>\n",
       "      <td>0.000000</td>\n",
       "      <td>0.000000</td>\n",
       "      <td>0.000000</td>\n",
       "      <td>0.000000</td>\n",
       "      <td>1.000000</td>\n",
       "      <td>0.000000</td>\n",
       "      <td>0.000000</td>\n",
       "    </tr>\n",
       "    <tr>\n",
       "      <th>50%</th>\n",
       "      <td>-1.094756e-01</td>\n",
       "      <td>-1.076072e-01</td>\n",
       "      <td>-4.757405e-02</td>\n",
       "      <td>-7.773411e-02</td>\n",
       "      <td>0.000000</td>\n",
       "      <td>0.000000</td>\n",
       "      <td>1.000000</td>\n",
       "      <td>0.000000</td>\n",
       "      <td>0.000000</td>\n",
       "      <td>0.000000</td>\n",
       "      <td>...</td>\n",
       "      <td>0.000000</td>\n",
       "      <td>0.000000</td>\n",
       "      <td>0.000000</td>\n",
       "      <td>0.000000</td>\n",
       "      <td>0.000000</td>\n",
       "      <td>0.000000</td>\n",
       "      <td>0.000000</td>\n",
       "      <td>1.000000</td>\n",
       "      <td>0.000000</td>\n",
       "      <td>0.000000</td>\n",
       "    </tr>\n",
       "    <tr>\n",
       "      <th>75%</th>\n",
       "      <td>6.518811e-01</td>\n",
       "      <td>4.527602e-01</td>\n",
       "      <td>1.128918e+00</td>\n",
       "      <td>3.396356e-01</td>\n",
       "      <td>0.000000</td>\n",
       "      <td>0.000000</td>\n",
       "      <td>1.000000</td>\n",
       "      <td>0.000000</td>\n",
       "      <td>0.000000</td>\n",
       "      <td>0.000000</td>\n",
       "      <td>...</td>\n",
       "      <td>0.000000</td>\n",
       "      <td>0.000000</td>\n",
       "      <td>0.000000</td>\n",
       "      <td>0.000000</td>\n",
       "      <td>0.000000</td>\n",
       "      <td>0.000000</td>\n",
       "      <td>0.000000</td>\n",
       "      <td>1.000000</td>\n",
       "      <td>0.000000</td>\n",
       "      <td>0.000000</td>\n",
       "    </tr>\n",
       "    <tr>\n",
       "      <th>max</th>\n",
       "      <td>3.925715e+00</td>\n",
       "      <td>1.225647e+01</td>\n",
       "      <td>2.305411e+00</td>\n",
       "      <td>4.847229e+00</td>\n",
       "      <td>1.000000</td>\n",
       "      <td>1.000000</td>\n",
       "      <td>1.000000</td>\n",
       "      <td>1.000000</td>\n",
       "      <td>1.000000</td>\n",
       "      <td>1.000000</td>\n",
       "      <td>...</td>\n",
       "      <td>1.000000</td>\n",
       "      <td>1.000000</td>\n",
       "      <td>1.000000</td>\n",
       "      <td>1.000000</td>\n",
       "      <td>1.000000</td>\n",
       "      <td>1.000000</td>\n",
       "      <td>1.000000</td>\n",
       "      <td>1.000000</td>\n",
       "      <td>1.000000</td>\n",
       "      <td>1.000000</td>\n",
       "    </tr>\n",
       "  </tbody>\n",
       "</table>\n",
       "<p>8 rows × 102 columns</p>\n",
       "</div>"
      ],
      "text/plain": [
       "                Age        fnlwgt  EducationNum  HoursPerWeek  \\\n",
       "count  3.016200e+04  3.016200e+04  3.016200e+04  3.016200e+04   \n",
       "mean   1.535952e-16  1.684365e-17 -3.053058e-16 -2.833973e-16   \n",
       "std    1.000017e+00  1.000017e+00  1.000017e+00  1.000017e+00   \n",
       "min   -1.632189e+00 -1.666094e+00 -3.577051e+00 -3.333218e+00   \n",
       "25%   -7.946967e-01 -6.830644e-01 -4.397382e-01 -7.773411e-02   \n",
       "50%   -1.094756e-01 -1.076072e-01 -4.757405e-02 -7.773411e-02   \n",
       "75%    6.518811e-01  4.527602e-01  1.128918e+00  3.396356e-01   \n",
       "max    3.925715e+00  1.225647e+01  2.305411e+00  4.847229e+00   \n",
       "\n",
       "       WorkClass_Federal-gov  WorkClass_Local-gov  WorkClass_Private  \\\n",
       "count           30162.000000         30162.000000       30162.000000   \n",
       "mean                0.031265             0.068530           0.738877   \n",
       "std                 0.174035             0.252657           0.439254   \n",
       "min                 0.000000             0.000000           0.000000   \n",
       "25%                 0.000000             0.000000           0.000000   \n",
       "50%                 0.000000             0.000000           1.000000   \n",
       "75%                 0.000000             0.000000           1.000000   \n",
       "max                 1.000000             1.000000           1.000000   \n",
       "\n",
       "       WorkClass_Self-emp-inc  WorkClass_Self-emp-not-inc  \\\n",
       "count            30162.000000                30162.000000   \n",
       "mean                 0.035608                    0.082853   \n",
       "std                  0.185313                    0.275664   \n",
       "min                  0.000000                    0.000000   \n",
       "25%                  0.000000                    0.000000   \n",
       "50%                  0.000000                    0.000000   \n",
       "75%                  0.000000                    0.000000   \n",
       "max                  1.000000                    1.000000   \n",
       "\n",
       "       WorkClass_State-gov            ...             NativeCountry_Portugal  \\\n",
       "count         30162.000000            ...                       30162.000000   \n",
       "mean              0.042404            ...                           0.001127   \n",
       "std               0.201513            ...                           0.033556   \n",
       "min               0.000000            ...                           0.000000   \n",
       "25%               0.000000            ...                           0.000000   \n",
       "50%               0.000000            ...                           0.000000   \n",
       "75%               0.000000            ...                           0.000000   \n",
       "max               1.000000            ...                           1.000000   \n",
       "\n",
       "       NativeCountry_Puerto-Rico  NativeCountry_Scotland  NativeCountry_South  \\\n",
       "count               30162.000000            30162.000000         30162.000000   \n",
       "mean                    0.003614                0.000365             0.002354   \n",
       "std                     0.060007                0.019094             0.048461   \n",
       "min                     0.000000                0.000000             0.000000   \n",
       "25%                     0.000000                0.000000             0.000000   \n",
       "50%                     0.000000                0.000000             0.000000   \n",
       "75%                     0.000000                0.000000             0.000000   \n",
       "max                     1.000000                1.000000             1.000000   \n",
       "\n",
       "       NativeCountry_Taiwan  NativeCountry_Thailand  \\\n",
       "count          30162.000000            30162.000000   \n",
       "mean               0.001392                0.000564   \n",
       "std                0.037291                0.023734   \n",
       "min                0.000000                0.000000   \n",
       "25%                0.000000                0.000000   \n",
       "50%                0.000000                0.000000   \n",
       "75%                0.000000                0.000000   \n",
       "max                1.000000                1.000000   \n",
       "\n",
       "       NativeCountry_Trinadad&Tobago  NativeCountry_United-States  \\\n",
       "count                   30162.000000                 30162.000000   \n",
       "mean                        0.000597                     0.911876   \n",
       "std                         0.024422                     0.283480   \n",
       "min                         0.000000                     0.000000   \n",
       "25%                         0.000000                     1.000000   \n",
       "50%                         0.000000                     1.000000   \n",
       "75%                         0.000000                     1.000000   \n",
       "max                         1.000000                     1.000000   \n",
       "\n",
       "       NativeCountry_Vietnam  NativeCountry_Yugoslavia  \n",
       "count           30162.000000              30162.000000  \n",
       "mean                0.002122                  0.000530  \n",
       "std                 0.046016                  0.023026  \n",
       "min                 0.000000                  0.000000  \n",
       "25%                 0.000000                  0.000000  \n",
       "50%                 0.000000                  0.000000  \n",
       "75%                 0.000000                  0.000000  \n",
       "max                 1.000000                  1.000000  \n",
       "\n",
       "[8 rows x 102 columns]"
      ]
     },
     "execution_count": 24,
     "metadata": {},
     "output_type": "execute_result"
    }
   ],
   "source": [
    "df.describe()"
   ]
  },
  {
   "cell_type": "code",
   "execution_count": 25,
   "metadata": {},
   "outputs": [],
   "source": [
    "X_train, X_test, y_train, y_test = train_test_split(\n",
    "    df, y_all, test_size=0.25, stratify=y_all, random_state=rs,\n",
    ")"
   ]
  },
  {
   "cell_type": "code",
   "execution_count": 26,
   "metadata": {},
   "outputs": [
    {
     "data": {
      "text/plain": [
       "pandas.core.frame.DataFrame"
      ]
     },
     "execution_count": 26,
     "metadata": {},
     "output_type": "execute_result"
    }
   ],
   "source": [
    "type(X_train)"
   ]
  },
  {
   "cell_type": "code",
   "execution_count": 27,
   "metadata": {},
   "outputs": [],
   "source": [
    "class SingleNet(nn.Module):\n",
    "\n",
    "    def __init__(self, input_size):\n",
    "        super(SingleNet, self).__init__()\n",
    "\n",
    "        self.fc1 = nn.Linear(input_size, 8)\n",
    "#         self.dout = nn.Dropout(0.2)\n",
    "#         self.fc2 = nn.Linear(50, 100)\n",
    "#         self.prelu = nn.PReLU(1)\n",
    "        self.lrelu = LeakyReLU()\n",
    "        self.out = nn.Linear(8, 1)\n",
    "        self.out_act = Sigmoid()\n",
    "\n",
    "    def forward(self, x):\n",
    "        x = self.lrelu(self.fc1(x))\n",
    "        x = self.out_act(self.out(x))\n",
    "        return x"
   ]
  },
  {
   "cell_type": "code",
   "execution_count": 28,
   "metadata": {},
   "outputs": [],
   "source": [
    "class EncodingNet(nn.Module):\n",
    "    \n",
    "    def __init__(self, input_size):\n",
    "        super(EncodingNet, self).__init__()\n",
    "        self.fc = nn.Linear(input_size, 8)\n",
    "        self.out = nn.Linear(8, 8)\n",
    "        self.lrelu = LeakyReLU()\n",
    "        \n",
    "    def forward(self, x):\n",
    "        x = self.lrelu(self.fc(x))\n",
    "        x = self.lrelu(self.out(x))\n",
    "        return x"
   ]
  },
  {
   "cell_type": "code",
   "execution_count": 29,
   "metadata": {},
   "outputs": [],
   "source": [
    "class OneNet(nn.Module):\n",
    "    \n",
    "    def __init__(self, input_size):\n",
    "        self.fc = nn.Linear(input_size, 1)\n",
    "        \n",
    "    def forward(self, x):\n",
    "        x = Sigmoid(self.fc(x))\n",
    "        return x"
   ]
  },
  {
   "cell_type": "code",
   "execution_count": 30,
   "metadata": {},
   "outputs": [],
   "source": [
    "class Net(nn.Module):\n",
    "    \n",
    "    def __init__(self, input_size):\n",
    "        super().__init__()\n",
    "        self.fc1 = nn.Linear(input_size, 50)\n",
    "        self.relu1 = nn.ReLU()\n",
    "        self.dout = nn.Dropout(0.2)\n",
    "        self.fc2 = nn.Linear(50, 100)\n",
    "        self.prelu = nn.PReLU(1)\n",
    "        self.out = nn.Linear(100, 1)\n",
    "        self.out_act = nn.Sigmoid()\n",
    "        \n",
    "    def forward(self, input_):\n",
    "        a1 = self.fc1(input_)\n",
    "        h1 = self.relu1(a1)\n",
    "        dout = self.dout(h1)\n",
    "        a2 = self.fc2(dout)\n",
    "        h2 = self.prelu(a2)\n",
    "        a3 = self.out(h2)\n",
    "        y = self.out_act(a3)\n",
    "        return y"
   ]
  },
  {
   "cell_type": "code",
   "execution_count": 31,
   "metadata": {},
   "outputs": [],
   "source": [
    "input_size = X_train.shape[1]\n",
    "classifier = SingleNet(input_size)\n",
    "opt = optim.Adam(classifier.parameters(), lr=0.001, betas=(0.9, 0.999))\n",
    "criterion = nn.BCELoss()"
   ]
  },
  {
   "cell_type": "code",
   "execution_count": 32,
   "metadata": {},
   "outputs": [],
   "source": [
    "if torch.cuda.is_available():\n",
    "    device=\"cuda\"\n",
    "    torch.set_default_tensor_type('torch.cuda.FloatTensor')\n",
    "else:\n",
    "    device=\"cpu\"\n",
    "    torch.set_default_tensor_type('torch.FloatTensor')"
   ]
  },
  {
   "cell_type": "code",
   "execution_count": 33,
   "metadata": {},
   "outputs": [],
   "source": [
    "def train_epoch(model, X, Y, opt, criterion, batch_size=64):\n",
    "    model.train()\n",
    "    losses = []\n",
    "    acc = []\n",
    "    for beg_i in range(0, X.shape[0], batch_size):\n",
    "        x_batch = X.iloc[beg_i:beg_i + batch_size].values\n",
    "        y_batch = Y[beg_i:beg_i + batch_size]\n",
    "        x_batch = torch.from_numpy(x_batch).to(device).float()\n",
    "        y_batch = torch.from_numpy(y_batch).to(device).float()\n",
    "        \n",
    "        opt.zero_grad()\n",
    "        # (1) Forward\n",
    "        y_hat = model(x_batch)\n",
    "        # (2) Compute diff\n",
    "        loss = criterion(y_hat, y_batch)\n",
    "        # (3) Compute gradients\n",
    "        loss.backward()\n",
    "        # (4) update weights\n",
    "        opt.step()        \n",
    "        \n",
    "        losses.append(loss.item())\n",
    "        \n",
    "        preds = torch.round(y_hat.data).squeeze(1).numpy()\n",
    "        accuracy = sum(preds == y_batch).numpy()/len(y_batch)\n",
    "\n",
    "        acc.append(accuracy)\n",
    "    return losses, acc"
   ]
  },
  {
   "cell_type": "code",
   "execution_count": 34,
   "metadata": {},
   "outputs": [],
   "source": [
    "def validate_epoch(model, X, Y, criterion, batch_size=64):\n",
    "    model.eval()\n",
    "    losses = []\n",
    "    acc = []\n",
    "    for beg_i in range(0, X.shape[0], batch_size):\n",
    "        with torch.no_grad():\n",
    "            x_batch = X.iloc[beg_i:beg_i + batch_size].values\n",
    "            y_batch = Y[beg_i:beg_i + batch_size]\n",
    "            x_batch = torch.from_numpy(x_batch).to(device).float()\n",
    "            y_batch = torch.from_numpy(y_batch).to(device).float()\n",
    "\n",
    "            y_hat = model(x_batch)\n",
    "            # (2) Compute diff\n",
    "            loss = criterion(y_hat, y_batch)\n",
    "            losses.append(loss.item())\n",
    "\n",
    "            preds = torch.round(y_hat.data).squeeze(1).numpy()\n",
    "            accuracy = sum(preds == y_batch).numpy()/len(y_batch)\n",
    "        \n",
    "        acc.append(accuracy)\n",
    "    return losses, acc"
   ]
  },
  {
   "cell_type": "code",
   "execution_count": 35,
   "metadata": {},
   "outputs": [
    {
     "name": "stderr",
     "output_type": "stream",
     "text": [
      "/Users/var/anaconda/envs/pytorch/lib/python3.6/site-packages/torch/nn/functional.py:1474: UserWarning: Using a target size (torch.Size([64])) that is different to the input size (torch.Size([64, 1])) is deprecated. Please ensure they have the same size.\n",
      "  \"Please ensure they have the same size.\".format(target.size(), input.size()))\n",
      "/Users/var/anaconda/envs/pytorch/lib/python3.6/site-packages/torch/nn/functional.py:1474: UserWarning: Using a target size (torch.Size([29])) that is different to the input size (torch.Size([29, 1])) is deprecated. Please ensure they have the same size.\n",
      "  \"Please ensure they have the same size.\".format(target.size(), input.size()))\n",
      "/Users/var/anaconda/envs/pytorch/lib/python3.6/site-packages/torch/nn/functional.py:1474: UserWarning: Using a target size (torch.Size([53])) that is different to the input size (torch.Size([53, 1])) is deprecated. Please ensure they have the same size.\n",
      "  \"Please ensure they have the same size.\".format(target.size(), input.size()))\n"
     ]
    },
    {
     "name": "stdout",
     "output_type": "stream",
     "text": [
      "Epoch: 0 Loss: 0.44714744069145224 Accuracy: 0.7877733537892071\n",
      "Test Epoch: 0 Loss: 0.35875378725892404 Accuracy: 0.8307857970898624\n",
      "Epoch: 1 Loss: 0.36141006130788284 Accuracy: 0.8285131136762127\n",
      "Test Epoch: 1 Loss: 0.3500248222785481 Accuracy: 0.8354203309881675\n",
      "Epoch: 2 Loss: 0.35682534283332235 Accuracy: 0.8323972944671731\n",
      "Test Epoch: 2 Loss: 0.34734075175503554 Accuracy: 0.8366120682763031\n",
      "Epoch: 3 Loss: 0.35437683672723125 Accuracy: 0.8339421390999415\n",
      "Test Epoch: 3 Loss: 0.34558357563564335 Accuracy: 0.8361098896706108\n",
      "Epoch: 4 Loss: 0.3524082234013552 Accuracy: 0.8350014611338399\n",
      "Test Epoch: 4 Loss: 0.3442462807742216 Accuracy: 0.8358450591621363\n",
      "Epoch: 5 Loss: 0.35057683238538645 Accuracy: 0.83645802893045\n",
      "Test Epoch: 5 Loss: 0.34299371921915117 Accuracy: 0.8382560161496642\n",
      "Epoch: 6 Loss: 0.34899437751642054 Accuracy: 0.8368994131112409\n",
      "Test Epoch: 6 Loss: 0.34207851136639966 Accuracy: 0.839210405340582\n",
      "Epoch: 7 Loss: 0.3477332761648011 Accuracy: 0.8377380430547438\n",
      "Test Epoch: 7 Loss: 0.3413899494177204 Accuracy: 0.840137312120243\n",
      "Epoch: 8 Loss: 0.3467231079262529 Accuracy: 0.8386208114163257\n",
      "Test Epoch: 8 Loss: 0.34091812334323335 Accuracy: 0.840534557882955\n",
      "Epoch: 9 Loss: 0.34587630684261267 Accuracy: 0.8392387492694331\n",
      "Test Epoch: 9 Loss: 0.34068075087616 Accuracy: 0.841064218899904\n",
      "Epoch: 10 Loss: 0.3452009482909057 Accuracy: 0.8391946108513539\n",
      "Test Epoch: 10 Loss: 0.3405865938481638 Accuracy: 0.8415938799168532\n",
      "Epoch: 11 Loss: 0.3445678009404301 Accuracy: 0.8393711645236703\n",
      "Test Epoch: 11 Loss: 0.34039659078343437 Accuracy: 0.840534557882955\n",
      "Epoch: 12 Loss: 0.3440246914150351 Accuracy: 0.8397242718683031\n",
      "Test Epoch: 12 Loss: 0.34029791630425693 Accuracy: 0.8407993883914295\n",
      "Epoch: 13 Loss: 0.34355739133674545 Accuracy: 0.840121517631015\n",
      "Test Epoch: 13 Loss: 0.3402637147297293 Accuracy: 0.841461464662616\n",
      "Epoch: 14 Loss: 0.343146657708001 Accuracy: 0.8406511786479641\n",
      "Test Epoch: 14 Loss: 0.34024006267220286 Accuracy: 0.8415938799168532\n",
      "Epoch: 15 Loss: 0.34276806420020467 Accuracy: 0.8406070402298851\n",
      "Test Epoch: 15 Loss: 0.3402611358185946 Accuracy: 0.8407993883914295\n",
      "Epoch: 16 Loss: 0.34243312680115134 Accuracy: 0.8407835939022014\n",
      "Test Epoch: 16 Loss: 0.34031140450703895 Accuracy: 0.8404021426287176\n",
      "Epoch: 17 Loss: 0.34214823305775216 Accuracy: 0.8405629018118059\n",
      "Test Epoch: 17 Loss: 0.3403447416879363 Accuracy: 0.840534557882955\n",
      "Epoch: 18 Loss: 0.3418692593689019 Accuracy: 0.8407394554841223\n",
      "Test Epoch: 18 Loss: 0.34035697352078004 Accuracy: 0.8404021426287176\n",
      "Epoch: 19 Loss: 0.34162348803490566 Accuracy: 0.8407835939022014\n",
      "Test Epoch: 19 Loss: 0.340386221974583 Accuracy: 0.8407993883914295\n",
      "Epoch: 20 Loss: 0.34138746088170735 Accuracy: 0.8411367012468342\n",
      "Test Epoch: 20 Loss: 0.34044324720309954 Accuracy: 0.8404021426287176\n",
      "Epoch: 21 Loss: 0.3411662804625802 Accuracy: 0.8409601475745178\n",
      "Test Epoch: 21 Loss: 0.34043643396284623 Accuracy: 0.840137312120243\n",
      "Epoch: 22 Loss: 0.3409576883676362 Accuracy: 0.8407835939022014\n",
      "Test Epoch: 22 Loss: 0.3404881075277167 Accuracy: 0.840137312120243\n",
      "Epoch: 23 Loss: 0.3407774618116476 Accuracy: 0.8406953170660433\n",
      "Test Epoch: 23 Loss: 0.34054091522249125 Accuracy: 0.840137312120243\n",
      "Epoch: 24 Loss: 0.3406016234792558 Accuracy: 0.8408277323202805\n",
      "Test Epoch: 24 Loss: 0.34056250422687856 Accuracy: 0.840137312120243\n"
     ]
    }
   ],
   "source": [
    "e_losses = []\n",
    "e_accs = []\n",
    "val_losses = []\n",
    "val_accs = []\n",
    "num_epochs = 25\n",
    "for e in range(num_epochs):\n",
    "    e_loss, e_acc = train_epoch(classifier, X_train, y_train, opt, criterion)\n",
    "    print('Epoch: {} Loss: {} Accuracy: {}'.format(e, np.mean(e_loss), np.mean(e_acc)))\n",
    "    e_losses.append(np.mean(e_loss))\n",
    "    e_accs.append(np.mean(e_acc))\n",
    "    val_loss, val_acc = validate_epoch(classifier, X_test, y_test, criterion)\n",
    "    print('Test Epoch: {} Loss: {} Accuracy: {}'.format(e, np.mean(val_loss), np.mean(val_acc)))\n",
    "    val_losses.append(np.mean(val_loss))\n",
    "    val_accs.append(np.mean(val_acc))"
   ]
  },
  {
   "cell_type": "code",
   "execution_count": 36,
   "metadata": {},
   "outputs": [
    {
     "data": {
      "text/plain": [
       "[<matplotlib.lines.Line2D at 0x1a1e51a668>]"
      ]
     },
     "execution_count": 36,
     "metadata": {},
     "output_type": "execute_result"
    },
    {
     "data": {
      "image/png": "[encoded data removed]",
      "text/plain": [
       "<Figure size 720x720 with 4 Axes>"
      ]
     },
     "metadata": {},
     "output_type": "display_data"
    }
   ],
   "source": [
    "plt.figure(figsize=(10,10))\n",
    "plt.subplot(221)\n",
    "plt.plot(e_losses)\n",
    "plt.subplot(222)\n",
    "plt.plot(e_acc)\n",
    "plt.subplot(223)\n",
    "plt.plot(val_losses)\n",
    "plt.subplot(224)\n",
    "plt.plot(val_acc)"
   ]
  },
  {
   "cell_type": "markdown",
   "metadata": {},
   "source": [
    "# Adversary"
   ]
  },
  {
   "cell_type": "code",
   "execution_count": 89,
   "metadata": {},
   "outputs": [],
   "source": [
    "adv_df = df.copy()"
   ]
  },
  {
   "cell_type": "code",
   "execution_count": 90,
   "metadata": {},
   "outputs": [],
   "source": [
    "adv_df.drop(\"Gender_Female\", axis=1, inplace=True)\n",
    "adv_df.drop(\"Gender_Male\", axis=1, inplace=True)"
   ]
  },
  {
   "cell_type": "code",
   "execution_count": 91,
   "metadata": {},
   "outputs": [],
   "source": [
    "advX_train, advX_test, a_train, a_test = train_test_split(\n",
    "    adv_df, sensitive_all, test_size=0.25, stratify=sensitive_all, random_state=rs,\n",
    ")"
   ]
  },
  {
   "cell_type": "code",
   "execution_count": 92,
   "metadata": {},
   "outputs": [
    {
     "data": {
      "text/plain": [
       "(22621,)"
      ]
     },
     "execution_count": 92,
     "metadata": {},
     "output_type": "execute_result"
    }
   ],
   "source": [
    "a_train.shape"
   ]
  },
  {
   "cell_type": "code",
   "execution_count": 93,
   "metadata": {},
   "outputs": [],
   "source": [
    "input_size = advX_train.shape[1]\n",
    "adversary = SingleNet(input_size)\n",
    "advopt = optim.Adam(adversary.parameters(), lr=0.001, betas=(0.9, 0.999))\n",
    "advcriterion = nn.BCELoss()"
   ]
  },
  {
   "cell_type": "code",
   "execution_count": 94,
   "metadata": {},
   "outputs": [],
   "source": [
    "if torch.cuda.is_available():\n",
    "    device=\"cuda\"\n",
    "    torch.set_default_tensor_type('torch.cuda.FloatTensor')\n",
    "else:\n",
    "    device=\"cpu\"\n",
    "    torch.set_default_tensor_type('torch.FloatTensor')"
   ]
  },
  {
   "cell_type": "code",
   "execution_count": 95,
   "metadata": {},
   "outputs": [
    {
     "name": "stderr",
     "output_type": "stream",
     "text": [
      "/Users/var/anaconda/envs/pytorch/lib/python3.6/site-packages/torch/nn/functional.py:1474: UserWarning: Using a target size (torch.Size([64])) that is different to the input size (torch.Size([64, 1])) is deprecated. Please ensure they have the same size.\n",
      "  \"Please ensure they have the same size.\".format(target.size(), input.size()))\n",
      "/Users/var/anaconda/envs/pytorch/lib/python3.6/site-packages/torch/nn/functional.py:1474: UserWarning: Using a target size (torch.Size([29])) that is different to the input size (torch.Size([29, 1])) is deprecated. Please ensure they have the same size.\n",
      "  \"Please ensure they have the same size.\".format(target.size(), input.size()))\n",
      "/Users/var/anaconda/envs/pytorch/lib/python3.6/site-packages/torch/nn/functional.py:1474: UserWarning: Using a target size (torch.Size([53])) that is different to the input size (torch.Size([53, 1])) is deprecated. Please ensure they have the same size.\n",
      "  \"Please ensure they have the same size.\".format(target.size(), input.size()))\n"
     ]
    },
    {
     "name": "stdout",
     "output_type": "stream",
     "text": [
      "Epoch: 0 Loss: 0.48020239165947265 Accuracy: 0.7632658776543931\n",
      "Test Epoch: 0 Loss: 0.35048346398240426 Accuracy: 0.8385758114806524\n",
      "Epoch: 1 Loss: 0.3238842918795381 Accuracy: 0.8408520845509448\n",
      "Test Epoch: 1 Loss: 0.30424046630071383 Accuracy: 0.850200871442277\n",
      "Epoch: 2 Loss: 0.30013902178086804 Accuracy: 0.8475261177673875\n",
      "Test Epoch: 2 Loss: 0.2949184587193748 Accuracy: 0.8497486608570515\n",
      "Epoch: 3 Loss: 0.293777605024098 Accuracy: 0.8493357929086305\n",
      "Test Epoch: 3 Loss: 0.29187337208097264 Accuracy: 0.8504382195394947\n",
      "Epoch: 4 Loss: 0.2910713847663443 Accuracy: 0.8489385471459185\n",
      "Test Epoch: 4 Loss: 0.29044665812940923 Accuracy: 0.8480547449632235\n",
      "Epoch: 5 Loss: 0.28958621625341263 Accuracy: 0.8493799313267095\n",
      "Test Epoch: 5 Loss: 0.2895772238656626 Accuracy: 0.8482920930604413\n",
      "Epoch: 6 Loss: 0.28864133867335184 Accuracy: 0.8506599454510033\n",
      "Test Epoch: 6 Loss: 0.28903113810692804 Accuracy: 0.8488217540773905\n",
      "Epoch: 7 Loss: 0.28800367761803214 Accuracy: 0.8507923607052406\n",
      "Test Epoch: 7 Loss: 0.2885641069230387 Accuracy: 0.8486893388231532\n",
      "Epoch: 8 Loss: 0.28750587869330313 Accuracy: 0.8511104617182934\n",
      "Test Epoch: 8 Loss: 0.28826495184231615 Accuracy: 0.8492189998401023\n",
      "Epoch: 9 Loss: 0.2871119292442408 Accuracy: 0.851375292226768\n",
      "Test Epoch: 9 Loss: 0.2880488358816858 Accuracy: 0.8489541693316278\n",
      "Epoch: 10 Loss: 0.28679098925516433 Accuracy: 0.8515959843171634\n",
      "Test Epoch: 10 Loss: 0.2878699190283226 Accuracy: 0.8494838303485769\n",
      "Epoch: 11 Loss: 0.2865232004031623 Accuracy: 0.8521697837521918\n",
      "Test Epoch: 11 Loss: 0.2877126427020057 Accuracy: 0.8497486608570515\n",
      "Epoch: 12 Loss: 0.2862976659825966 Accuracy: 0.8522139221702708\n",
      "Test Epoch: 12 Loss: 0.28756100128767853 Accuracy: 0.8504382195394947\n",
      "Epoch: 13 Loss: 0.28610023422598163 Accuracy: 0.8522139221702708\n",
      "Test Epoch: 13 Loss: 0.2874524152632487 Accuracy: 0.850570634793732\n",
      "Epoch: 14 Loss: 0.28591095752971996 Accuracy: 0.8524346142606664\n",
      "Test Epoch: 14 Loss: 0.28735878343804405 Accuracy: 0.8501733890310201\n",
      "Epoch: 15 Loss: 0.28575124330608187 Accuracy: 0.8526994447691408\n",
      "Test Epoch: 15 Loss: 0.28727543076216167 Accuracy: 0.8504382195394947\n",
      "Epoch: 16 Loss: 0.2855980363858622 Accuracy: 0.8529642752776154\n",
      "Test Epoch: 16 Loss: 0.28719917975239834 Accuracy: 0.8512327110649184\n",
      "Epoch: 17 Loss: 0.2854530116343229 Accuracy: 0.8530084136956946\n",
      "Test Epoch: 17 Loss: 0.28717467529793916 Accuracy: 0.851497541573393\n",
      "Epoch: 18 Loss: 0.28531906122373324 Accuracy: 0.853184967368011\n",
      "Test Epoch: 18 Loss: 0.2871289957882994 Accuracy: 0.8517623720818676\n",
      "Epoch: 19 Loss: 0.28517837241544564 Accuracy: 0.85322910578609\n",
      "Test Epoch: 19 Loss: 0.2870161626803673 Accuracy: 0.8517623720818676\n",
      "Epoch: 20 Loss: 0.2850184070188447 Accuracy: 0.85322910578609\n",
      "Test Epoch: 20 Loss: 0.2869888388756978 Accuracy: 0.8516299568276303\n",
      "Epoch: 21 Loss: 0.2848758688249157 Accuracy: 0.8531408289499318\n",
      "Test Epoch: 21 Loss: 0.28695725447545617 Accuracy: 0.851497541573393\n",
      "Epoch: 22 Loss: 0.2847325461311529 Accuracy: 0.8530525521137736\n",
      "Test Epoch: 22 Loss: 0.2869232766709085 Accuracy: 0.8518947873361048\n",
      "Epoch: 23 Loss: 0.28459494628306836 Accuracy: 0.8530525521137736\n",
      "Test Epoch: 23 Loss: 0.28688007252196135 Accuracy: 0.8516299568276303\n",
      "Epoch: 24 Loss: 0.28447254263075056 Accuracy: 0.8531408289499318\n",
      "Test Epoch: 24 Loss: 0.2868348675764213 Accuracy: 0.851497541573393\n"
     ]
    }
   ],
   "source": [
    "advTrain_losses = []\n",
    "advTrain_accs = []\n",
    "advVal_losses = []\n",
    "advVal_accs = []\n",
    "num_epochs = 25\n",
    "for e in range(num_epochs):\n",
    "    advTrain_loss, advTrain_acc = train_epoch(adversary, advX_train, a_train, advopt, advcriterion)\n",
    "    print('Epoch: {} Loss: {} Accuracy: {}'.format(e, np.mean(advTrain_loss), np.mean(advTrain_acc)))\n",
    "    advTrain_losses.append(np.mean(advTrain_loss))\n",
    "    advTrain_accs.append(np.mean(advTrain_acc))\n",
    "    advVal_loss, advVal_acc = validate_epoch(adversary, advX_test, a_test, advcriterion)\n",
    "    print('Test Epoch: {} Loss: {} Accuracy: {}'.format(e, np.mean(advVal_loss), np.mean(advVal_acc)))\n",
    "    advVal_losses.append(np.mean(advVal_loss))\n",
    "    advVal_accs.append(np.mean(advVal_acc))"
   ]
  },
  {
   "cell_type": "code",
   "execution_count": 96,
   "metadata": {},
   "outputs": [
    {
     "data": {
      "text/plain": [
       "[<matplotlib.lines.Line2D at 0x1a2a152860>]"
      ]
     },
     "execution_count": 96,
     "metadata": {},
     "output_type": "execute_result"
    },
    {
     "data": {
      "image/png": "[encoded data removed]",
      "text/plain": [
       "<Figure size 720x720 with 4 Axes>"
      ]
     },
     "metadata": {},
     "output_type": "display_data"
    }
   ],
   "source": [
    "plt.figure(figsize=(10,10))\n",
    "plt.subplot(221)\n",
    "plt.plot(advTrain_losses)\n",
    "plt.subplot(222)\n",
    "plt.plot(advTrain_acc)\n",
    "plt.subplot(223)\n",
    "plt.plot(advVal_losses)\n",
    "plt.subplot(224)\n",
    "plt.plot(advVal_acc)"
   ]
  },
  {
   "cell_type": "markdown",
   "metadata": {},
   "source": [
    "# Adv losses"
   ]
  },
  {
   "cell_type": "code",
   "execution_count": 45,
   "metadata": {},
   "outputs": [],
   "source": [
    "class AdvDemographicParityLoss(nn.Module):\n",
    "    def __init__(self, p=1):\n",
    "        super(AdvDemographicParityLoss, self).__init__()\n",
    "        if p == 1:\n",
    "            self.distance = nn.L1Loss()\n",
    "        elif p == 2:\n",
    "            self.distance = nn.MSELoss()\n",
    "        else:\n",
    "            print('P has to be either 1 or 2')\n",
    "        \n",
    "    def forward(self, predicted_sensitive, sensitive):\n",
    "        if not (sensitive.shape[0] == predicted_sensitive.shape[0]):\n",
    "            raise ValueError(\"Target size ({}) must be the same as predicted_sensitive size ({})\".format(target.size(), predicted_sensitive.size()))\n",
    "        \n",
    "        if isinstance(sensitive, np.ndarray):\n",
    "            sensitive = torch.from_numpy(sensitive)\n",
    "            sensitive = sensitive.float()\n",
    "        \n",
    "        predicted_sensitive = predicted_sensitive.squeeze(dim=1)\n",
    "        \n",
    "        a0_mask = (sensitive == 0)\n",
    "        a1_mask = (sensitive == 1)\n",
    "        \n",
    "        predicted_sensitive_group0 = predicted_sensitive[a0_mask]\n",
    "        predicted_sensitive_group1 = predicted_sensitive[a1_mask]\n",
    "        \n",
    "        target_group0 = sensitive[a0_mask]\n",
    "        target_group1 = sensitive[a1_mask]\n",
    "        \n",
    "        loss = 1 - (self.distance(predicted_sensitive_group0, target_group0) + self.distance(predicted_sensitive_group1, target_group1))\n",
    "        return loss\n",
    "        \n",
    "    "
   ]
  },
  {
   "cell_type": "code",
   "execution_count": 46,
   "metadata": {},
   "outputs": [],
   "source": [
    "class AdvEqOddsLoss(nn.Module):\n",
    "    def __init__(self, p=1):\n",
    "        super(AdvEqOddsLoss, self).__init__()\n",
    "        if p == 1:\n",
    "            self.distance = nn.L1Loss()\n",
    "        elif p == 2:\n",
    "            self.distance = nn.MSELoss()\n",
    "        else:\n",
    "            print('P has to be either 1 or 2')\n",
    "        \n",
    "    def forward(self, predicted_sensitive, sensitive, targets):\n",
    "        if not (targets.shape[0] == predicted_sensitive.shape[0]):\n",
    "            raise ValueError(\"Target size ({}) must be the same as predicted_sensitive size ({})\".format(target.size(), predicted_sensitive.size()))\n",
    "        \n",
    "        if isinstance(targets, np.ndarray):\n",
    "            targets = torch.from_numpy(targets)\n",
    "            targets = targets.float()\n",
    "            \n",
    "        if isinstance(sensitive, np.ndarray):\n",
    "            sensitive = torch.from_numpy(sensitive)\n",
    "            sensitive = sensitive.float()\n",
    "        \n",
    "        \n",
    "        predicted_sensitive = predicted_sensitive.squeeze(dim=1)\n",
    "        \n",
    "        a00_mask = ((targets == 0).byte() & (sensitive == 0).byte())\n",
    "        a01_mask = ((targets == 1).byte() & (sensitive == 0).byte())\n",
    "        a10_mask = ((targets == 0).byte() & (sensitive == 1).byte())\n",
    "        a11_mask = ((targets == 1).byte() & (sensitive == 1).byte())\n",
    "\n",
    "        predicted_sensitive_group00 = predicted_sensitive[a00_mask]\n",
    "        predicted_sensitive_group01 = predicted_sensitive[a01_mask]\n",
    "        predicted_sensitive_group10 = predicted_sensitive[a10_mask]\n",
    "        predicted_sensitive_group11 = predicted_sensitive[a11_mask]\n",
    "\n",
    "        true_sensitive_group00 = sensitive[a00_mask]\n",
    "        true_sensitive_group01 = sensitive[a01_mask]\n",
    "        true_sensitive_group10 = sensitive[a10_mask]\n",
    "        true_sensitive_group11 = sensitive[a11_mask]\n",
    "        \n",
    "#         print('Pred: {}\\n{}\\n{}\\n{}'.format(predicted_sensitive_group00, predicted_sensitive_group01, predicted_sensitive_group10, predicted_sensitive_group11))\n",
    "#         print('True: {}\\n{}\\n{}\\n{}'.format(true_sensitive_group00, true_sensitive_group01, true_sensitive_group10, true_sensitive_group11))\n",
    "        \n",
    "        distance00 = 0 if torch.isnan(self.distance(predicted_sensitive_group00, true_sensitive_group00)) else self.distance(predicted_sensitive_group00, true_sensitive_group00)\n",
    "        distance01 = 0 if torch.isnan(self.distance(predicted_sensitive_group01, true_sensitive_group01)) else self.distance(predicted_sensitive_group01, true_sensitive_group01)\n",
    "        distance10 = 0 if torch.isnan(self.distance(predicted_sensitive_group10, true_sensitive_group10)) else self.distance(predicted_sensitive_group10, true_sensitive_group10)\n",
    "        distance11 = 0 if torch.isnan(self.distance(predicted_sensitive_group11, true_sensitive_group11)) else self.distance(predicted_sensitive_group11, true_sensitive_group11)\n",
    "        \n",
    "        loss = 2 - (distance00 + distance01 + distance10 + distance11)\n",
    "\n",
    "#         print('00: {}\\n01: {}\\n10: {}11: \\n{}'.format(self.distance(predicted_sensitive_group00, true_sensitive_group00), \n",
    "#                                                       self.distance(predicted_sensitive_group01, true_sensitive_group01),\n",
    "#                                                       self.distance(predicted_sensitive_group10, true_sensitive_group10), \n",
    "#                                                       self.distance(predicted_sensitive_group11, true_sensitive_group11)))\n",
    "              \n",
    "        return loss"
   ]
  },
  {
   "cell_type": "code",
   "execution_count": 47,
   "metadata": {},
   "outputs": [],
   "source": [
    "input = adversary(torch.from_numpy(advX_test.values).float())\n",
    "targets = a_test"
   ]
  },
  {
   "cell_type": "code",
   "execution_count": 48,
   "metadata": {},
   "outputs": [],
   "source": [
    "AdvDPLoss = AdvDemographicParityLoss()"
   ]
  },
  {
   "cell_type": "code",
   "execution_count": 49,
   "metadata": {},
   "outputs": [
    {
     "data": {
      "text/plain": [
       "tensor(0.5588)"
      ]
     },
     "execution_count": 49,
     "metadata": {},
     "output_type": "execute_result"
    }
   ],
   "source": [
    "AdvDPLoss(input, targets)"
   ]
  },
  {
   "cell_type": "code",
   "execution_count": 50,
   "metadata": {},
   "outputs": [],
   "source": [
    "AdvEOLoss = AdvEqOddsLoss()"
   ]
  },
  {
   "cell_type": "code",
   "execution_count": 51,
   "metadata": {},
   "outputs": [
    {
     "data": {
      "text/plain": [
       "tensor(1.1300)"
      ]
     },
     "execution_count": 51,
     "metadata": {},
     "output_type": "execute_result"
    }
   ],
   "source": [
    "AdvEOLoss(input, a_test, y_test)"
   ]
  },
  {
   "cell_type": "markdown",
   "metadata": {},
   "source": [
    "# LAFTR"
   ]
  },
  {
   "cell_type": "markdown",
   "metadata": {},
   "source": [
    "Training the encoder"
   ]
  },
  {
   "cell_type": "code",
   "execution_count": 52,
   "metadata": {},
   "outputs": [],
   "source": [
    "def laftr_epoch(encoder, classifier, adversary, X, y_cls, y_adv, opt_en, opt_cls, opt_adv, cls_criterion, adv_criterion, batch_size=64):\n",
    "    cls_en_combinedLosses = []\n",
    "    cls_en_accs = []\n",
    "    adv_combinedLosses = []\n",
    "    adv_accs = []\n",
    "    \n",
    "    for beg_i in range(0, X.shape[0], batch_size):\n",
    "        \n",
    "        x_batch = X.iloc[beg_i:beg_i + batch_size].values\n",
    "        y_cls_batch = y_cls[beg_i:beg_i + batch_size]\n",
    "        y_adv_batch = y_adv[beg_i:beg_i + batch_size]        \n",
    "        \n",
    "        x_batch = torch.from_numpy(x_batch).to(device).float()\n",
    "        y_cls_batch = torch.from_numpy(y_cls_batch).to(device).float()\n",
    "        y_adv_batch = torch.from_numpy(y_adv_batch).to(device).float()\n",
    "        \n",
    "        # fix adversary take gradient step with classifier and encoder\n",
    "        encoder.train()\n",
    "        classifier.train()\n",
    "        z = encoder(x_batch)\n",
    "        y_hat = classifier(z)\n",
    "\n",
    "        adversary.eval()\n",
    "        with torch.no_grad():\n",
    "            a_fixed = adversary(z)\n",
    "\n",
    "        opt_cls.zero_grad()\n",
    "        opt_en.zero_grad()\n",
    "        \n",
    "        cls_loss = cls_criterion(y_hat, y_cls_batch)\n",
    "        adv_loss_fixed = adv_criterion(a_fixed, y_adv_batch, y_cls_batch)\n",
    "#         cls_loss.backward()\n",
    "        cls_en_combinedLoss = cls_loss + adv_loss_fixed\n",
    "        cls_en_combinedLoss.backward()\n",
    "#         print(cls_en_combinedLoss.grad_fn)\n",
    "        opt_cls.step()\n",
    "        opt_en.step()\n",
    "        \n",
    "        # fix encoder and classifier and take gradient step with adversary\n",
    "        encoder.eval()\n",
    "        classifier.eval()\n",
    "        with torch.no_grad():\n",
    "            z_fixed = encoder(x_batch)\n",
    "            y_hat_fixed = classifier(z_fixed)\n",
    "        \n",
    "        adversary.train()\n",
    "        a_hat = adversary(z_fixed)\n",
    "        \n",
    "        opt_adv.zero_grad()\n",
    "        \n",
    "        cls_loss_fixed = cls_criterion(y_hat_fixed, y_cls_batch)\n",
    "        adv_loss = adv_criterion(a_hat, y_adv_batch, y_cls_batch)\n",
    "        \n",
    "        adv_combinedLoss = -(cls_loss_fixed + adv_loss)\n",
    "        adv_combinedLoss.backward()\n",
    "        \n",
    "        opt_adv.step()\n",
    "        \n",
    "        cls_en_combinedLosses.append(cls_en_combinedLoss.item())\n",
    "        adv_combinedLosses.append(adv_combinedLoss.item())\n",
    "        \n",
    "        cls_preds = torch.round(y_hat.data).squeeze(1).numpy()\n",
    "        cls_acc = sum(cls_preds == y_cls_batch).numpy()/len(y_cls_batch)\n",
    "        cls_en_accs.append(cls_acc)\n",
    "        \n",
    "        adv_preds = torch.round(a_hat.data).squeeze(1).numpy()\n",
    "        adv_acc = sum(adv_preds == y_adv_batch).numpy()/len(y_adv_batch)\n",
    "        adv_accs.append(adv_acc)\n",
    "\n",
    "    return np.mean(cls_en_combinedLosses), np.mean(cls_en_accs), np.mean(adv_combinedLosses), np.mean(adv_accs)"
   ]
  },
  {
   "cell_type": "code",
   "execution_count": 53,
   "metadata": {},
   "outputs": [],
   "source": [
    "def laftr_validate(encoder, classifier, adversary, X, y_cls, y_adv, loss_cls, loss_adv, batch_size=64):\n",
    "    combined_losses = []\n",
    "    cls_en_losses = []\n",
    "    cls_en_accs = []\n",
    "    adv_losses = []\n",
    "    adv_accs = []\n",
    "    \n",
    "    encoder.eval()\n",
    "    classifier.eval()\n",
    "    adversary.eval()\n",
    "\n",
    "    with torch.no_grad():\n",
    "        for beg_i in range(0, X.shape[0], batch_size):\n",
    "\n",
    "            x_batch = X.iloc[beg_i:beg_i + batch_size].values\n",
    "            y_cls_batch = y_cls[beg_i:beg_i + batch_size]\n",
    "            y_adv_batch = y_adv[beg_i:beg_i + batch_size]        \n",
    "\n",
    "            x_batch = torch.from_numpy(x_batch).to(device).float()\n",
    "            y_cls_batch = torch.from_numpy(y_cls_batch).to(device).float()\n",
    "            y_adv_batch = torch.from_numpy(y_adv_batch).to(device).float()\n",
    "\n",
    "            # fix adversary take gradient step with classifier and encoder\n",
    "            z = encoder(x_batch)\n",
    "            y_hat = classifier(z)\n",
    "\n",
    "            a_hat = adversary(z)\n",
    "        \n",
    "            cls_en_loss = loss_cls(y_hat, y_cls_batch)\n",
    "            adv_loss = loss_adv(a_hat, y_adv_batch, y_cls_batch)\n",
    "            combined_loss = cls_en_loss + adv_loss\n",
    "        \n",
    "            cls_en_losses.append(cls_en_loss.item())\n",
    "            adv_losses.append(adv_loss.item())\n",
    "            combined_losses.append(combined_loss)\n",
    "\n",
    "            cls_preds = torch.round(y_hat.data).squeeze(1).numpy()\n",
    "            cls_acc = sum(cls_preds == y_cls_batch).numpy()/len(y_cls_batch)\n",
    "            cls_en_accs.append(cls_acc)\n",
    "\n",
    "            adv_preds = torch.round(a_hat.data).squeeze(1).numpy()\n",
    "            adv_acc = sum(adv_preds == y_adv_batch).numpy()/len(y_adv_batch)\n",
    "            adv_accs.append(adv_acc)\n",
    "\n",
    "    return np.mean(combined_losses), np.mean(cls_en_losses), np.mean(cls_en_accs), np.mean(adv_losses), np.mean(adv_accs)"
   ]
  },
  {
   "cell_type": "code",
   "execution_count": 54,
   "metadata": {},
   "outputs": [],
   "source": [
    "input_size = X_train.shape[1]\n",
    "encoder = EncodingNet(input_size)\n",
    "output_size = 8\n",
    "classifier = SingleNet(output_size)\n",
    "cls_opt = optim.Adam(classifier.parameters(), lr=0.001, betas=(0.9, 0.999))\n",
    "en_opt = optim.Adam(encoder.parameters(), lr=0.001, betas=(0.9, 0.999))\n",
    "cls_criterion = nn.BCELoss()"
   ]
  },
  {
   "cell_type": "code",
   "execution_count": 55,
   "metadata": {},
   "outputs": [],
   "source": [
    "adversary = SingleNet(output_size)\n",
    "adv_opt = optim.Adam(adversary.parameters(), lr=0.001, betas=(0.9, 0.999))\n",
    "adv_criterion = AdvEqOddsLoss(p=1)"
   ]
  },
  {
   "cell_type": "code",
   "execution_count": 56,
   "metadata": {},
   "outputs": [
    {
     "name": "stderr",
     "output_type": "stream",
     "text": [
      "/Users/var/anaconda/envs/pytorch/lib/python3.6/site-packages/torch/nn/functional.py:1474: UserWarning: Using a target size (torch.Size([64])) that is different to the input size (torch.Size([64, 1])) is deprecated. Please ensure they have the same size.\n",
      "  \"Please ensure they have the same size.\".format(target.size(), input.size()))\n",
      "/Users/var/anaconda/envs/pytorch/lib/python3.6/site-packages/torch/nn/functional.py:1474: UserWarning: Using a target size (torch.Size([29])) that is different to the input size (torch.Size([29, 1])) is deprecated. Please ensure they have the same size.\n",
      "  \"Please ensure they have the same size.\".format(target.size(), input.size()))\n"
     ]
    },
    {
     "name": "stdout",
     "output_type": "stream",
     "text": [
      "Epoch: 0 \n",
      "Combined loss for Cls Enc step: 0.45431571011826144 Classifier Accuracy: 0.7830946814728229\n",
      "Combined loss for Adversary step: -0.4531676252767191 Adversary accuracy 0.6758809419442822\n"
     ]
    },
    {
     "name": "stderr",
     "output_type": "stream",
     "text": [
      "/Users/var/anaconda/envs/pytorch/lib/python3.6/site-packages/torch/nn/functional.py:1474: UserWarning: Using a target size (torch.Size([53])) that is different to the input size (torch.Size([53, 1])) is deprecated. Please ensure they have the same size.\n",
      "  \"Please ensure they have the same size.\".format(target.size(), input.size()))\n"
     ]
    },
    {
     "name": "stdout",
     "output_type": "stream",
     "text": [
      "Test: 0 Combined Loss 0.3551592230796814\n",
      "Cls Enc Loss: 0.3557993493090242 Classifier Accuracy: 0.8301512032299329\n",
      "Adversary Loss: -0.0006401872230788408 Adversary accuracy 0.6755901223217141\n",
      "Epoch: 10 \n",
      "Combined loss for Cls Enc step: 0.3627526416195988 Classifier Accuracy: 0.8402539328852523\n",
      "Combined loss for Adversary step: -0.36206853642302045 Adversary accuracy 0.6284747589129164\n",
      "Test: 10 Combined Loss 0.3683895766735077\n",
      "Cls Enc Loss: 0.3407245428632882 Classifier Accuracy: 0.8422009913655261\n",
      "Adversary Loss: 0.027665049342785852 Adversary accuracy 0.6310436320754718\n",
      "Epoch: 20 \n",
      "Combined loss for Cls Enc step: 0.37159066920900075 Classifier Accuracy: 0.8421960232807325\n",
      "Combined loss for Adversary step: -0.37074678631152136 Adversary accuracy 0.6412398938242744\n",
      "Test: 20 Combined Loss 0.38295960426330566\n",
      "Cls Enc Loss: 0.3417185620736268 Classifier Accuracy: 0.8401098297089862\n",
      "Adversary Loss: 0.041241024510335116 Adversary accuracy 0.6403401822833387\n",
      "Epoch: 30 \n",
      "Combined loss for Cls Enc step: 0.37278144895020177 Classifier Accuracy: 0.8436084526592635\n",
      "Combined loss for Adversary step: -0.3719282375048783 Adversary accuracy 0.6435350915643873\n",
      "Test: 30 Combined Loss 0.3894447684288025\n",
      "Cls Enc Loss: 0.34249689013271006 Classifier Accuracy: 0.8410367364886472\n",
      "Adversary Loss: 0.04694782980417801 Adversary accuracy 0.6436505636392709\n",
      "Epoch: 40 \n",
      "Combined loss for Cls Enc step: 0.3745000200756526 Classifier Accuracy: 0.8448443283654783\n",
      "Combined loss for Adversary step: -0.3736002698203938 Adversary accuracy 0.6444178599259692\n",
      "Test: 40 Combined Loss 0.3922659158706665\n",
      "Cls Enc Loss: 0.34397644511723924 Classifier Accuracy: 0.8403746602174608\n",
      "Adversary Loss: 0.04828946873293084 Adversary accuracy 0.6450021985929006\n",
      "Epoch: 50 \n",
      "Combined loss for Cls Enc step: 0.37466349048634706 Classifier Accuracy: 0.8463891729982466\n",
      "Combined loss for Adversary step: -0.37383243441581726 Adversary accuracy 0.6455213203779466\n",
      "Test: 50 Combined Loss 0.3912244439125061\n",
      "Cls Enc Loss: 0.34503133910692346 Classifier Accuracy: 0.8389180924208506\n",
      "Adversary Loss: 0.04619310771004628 Adversary accuracy 0.6476505036776463\n",
      "Epoch: 60 \n",
      "Combined loss for Cls Enc step: 0.374262366633294 Classifier Accuracy: 0.8472278029417495\n",
      "Combined loss for Adversary step: -0.3733947493430585 Adversary accuracy 0.6457952829729203\n",
      "Test: 60 Combined Loss 0.38901740312576294\n",
      "Cls Enc Loss: 0.34596794603739756 Classifier Accuracy: 0.8378587703869523\n",
      "Adversary Loss: 0.04304944155579907 Adversary accuracy 0.6496367324912057\n",
      "Epoch: 70 \n",
      "Combined loss for Cls Enc step: 0.377312345482872 Classifier Accuracy: 0.8479431497175142\n",
      "Combined loss for Adversary step: -0.376385370300988 Adversary accuracy 0.6508712010520163\n",
      "Test: 70 Combined Loss 0.3899926245212555\n",
      "Cls Enc Loss: 0.3485383554282835 Classifier Accuracy: 0.8359774744163735\n",
      "Adversary Loss: 0.04145419698650554 Adversary accuracy 0.6497966301566996\n",
      "Epoch: 80 \n",
      "Combined loss for Cls Enc step: 0.37714083884227073 Classifier Accuracy: 0.8484286723163842\n",
      "Combined loss for Adversary step: -0.37624428909545565 Adversary accuracy 0.6500767095265926\n",
      "Test: 80 Combined Loss 0.39263421297073364\n",
      "Cls Enc Loss: 0.3499265477313834 Classifier Accuracy: 0.8357900943396227\n",
      "Adversary Loss: 0.042707645286947996 Adversary accuracy 0.6497691477454429\n",
      "Epoch: 90 \n",
      "Combined loss for Cls Enc step: 0.37611991832148556 Classifier Accuracy: 0.8490466101694916\n",
      "Combined loss for Adversary step: -0.3753244605778301 Adversary accuracy 0.6499001558542762\n",
      "Test: 90 Combined Loss 0.39441555738449097\n",
      "Cls Enc Loss: 0.35016448871564054 Classifier Accuracy: 0.8352879157339302\n",
      "Adversary Loss: 0.04425102674354941 Adversary accuracy 0.6497691477454429\n",
      "Epoch: 100 \n",
      "Combined loss for Cls Enc step: 0.3758881397250682 Classifier Accuracy: 0.8491790254237288\n",
      "Combined loss for Adversary step: -0.37498252725197095 Adversary accuracy 0.6498910237677772\n",
      "Test: 100 Combined Loss 0.39666587114334106\n",
      "Cls Enc Loss: 0.3505802778369289 Classifier Accuracy: 0.8343610089542692\n",
      "Adversary Loss: 0.04608557486938218 Adversary accuracy 0.6499015629996803\n",
      "Epoch: 110 \n",
      "Combined loss for Cls Enc step: 0.3774561525906547 Classifier Accuracy: 0.8494438559322034\n",
      "Combined loss for Adversary step: -0.3764339245140216 Adversary accuracy 0.6505180937073836\n",
      "Test: 110 Combined Loss 0.39440223574638367\n",
      "Cls Enc Loss: 0.35091884914091076 Classifier Accuracy: 0.8355527462424048\n",
      "Adversary Loss: 0.043483398728451486 Adversary accuracy 0.6492394867284939\n",
      "Epoch: 120 \n",
      "Combined loss for Cls Enc step: 0.3781771823595473 Classifier Accuracy: 0.8496204096045198\n",
      "Combined loss for Adversary step: -0.3772145215064119 Adversary accuracy 0.6510127483927528\n",
      "Test: 120 Combined Loss 0.393624871969223\n",
      "Cls Enc Loss: 0.35124782409708377 Classifier Accuracy: 0.8339637631915574\n",
      "Adversary Loss: 0.042377045599080745 Adversary accuracy 0.6501663935081549\n",
      "Epoch: 130 \n",
      "Combined loss for Cls Enc step: 0.377543685168533 Classifier Accuracy: 0.849223163841808\n",
      "Combined loss for Adversary step: -0.3766792196422647 Adversary accuracy 0.6500858416130918\n",
      "Test: 130 Combined Loss 0.39373764395713806\n",
      "Cls Enc Loss: 0.35245357062351906 Classifier Accuracy: 0.83383134793732\n",
      "Adversary Loss: 0.04128406714584868 Adversary accuracy 0.6493719019827311\n",
      "Epoch: 140 \n",
      "Combined loss for Cls Enc step: 0.37844575314366885 Classifier Accuracy: 0.8493997175141242\n",
      "Combined loss for Adversary step: -0.37752779219615257 Adversary accuracy 0.6507479178842782\n",
      "Test: 140 Combined Loss 0.39307087659835815\n",
      "Cls Enc Loss: 0.35301764385174894 Classifier Accuracy: 0.8336989326830828\n",
      "Adversary Loss: 0.04005318273932247 Adversary accuracy 0.6483125799488328\n",
      "Epoch: 150 \n",
      "Combined loss for Cls Enc step: 0.3779412358157379 Classifier Accuracy: 0.8496645480225988\n",
      "Combined loss for Adversary step: -0.37694913304626604 Adversary accuracy 0.6505713642119618\n",
      "Test: 150 Combined Loss 0.39263930916786194\n",
      "Cls Enc Loss: 0.3534732583468243 Classifier Accuracy: 0.8322423648864726\n",
      "Adversary Loss: 0.039166070647158865 Adversary accuracy 0.6496367324912057\n",
      "Epoch: 160 \n",
      "Combined loss for Cls Enc step: 0.3778639383151033 Classifier Accuracy: 0.8505473163841808\n",
      "Combined loss for Adversary step: -0.3769003672283248 Adversary accuracy 0.6496003190142217\n",
      "Test: 160 Combined Loss 0.3932758867740631\n",
      "Cls Enc Loss: 0.3539907651937614 Classifier Accuracy: 0.8323747801407099\n",
      "Adversary Loss: 0.03928515769667545 Adversary accuracy 0.6488422409657819\n",
      "Epoch: 170 \n",
      "Combined loss for Cls Enc step: 0.3787227985633295 Classifier Accuracy: 0.8512093926553672\n",
      "Combined loss for Adversary step: -0.37765267099869454 Adversary accuracy 0.649811879018118\n",
      "Test: 170 Combined Loss 0.3946584463119507\n",
      "Cls Enc Loss: 0.35486230241545175 Classifier Accuracy: 0.8338038655260633\n",
      "Adversary Loss: 0.039796170541795635 Adversary accuracy 0.6488422409657819\n",
      "Epoch: 180 \n",
      "Combined loss for Cls Enc step: 0.38128903710235984 Classifier Accuracy: 0.8507238700564972\n",
      "Combined loss for Adversary step: -0.3802440095335077 Adversary accuracy 0.6480904807130333\n",
      "Test: 180 Combined Loss 0.3950033485889435\n",
      "Cls Enc Loss: 0.35602339559187324 Classifier Accuracy: 0.8327445434921651\n",
      "Adversary Loss: 0.038979947566986084 Adversary accuracy 0.6473856731691717\n",
      "Epoch: 190 \n",
      "Combined loss for Cls Enc step: 0.3831998076984438 Classifier Accuracy: 0.8513418079096046\n",
      "Combined loss for Adversary step: -0.38217321071921095 Adversary accuracy 0.6471194355152932\n",
      "Test: 190 Combined Loss 0.3960215747356415\n",
      "Cls Enc Loss: 0.3562217155250452 Classifier Accuracy: 0.8336714502718261\n",
      "Adversary Loss: 0.03979987613225387 Adversary accuracy 0.6471208426606972\n",
      "Epoch: 200 \n",
      "Combined loss for Cls Enc step: 0.3809230016954875 Classifier Accuracy: 0.8513859463276836\n",
      "Combined loss for Adversary step: -0.37986538382404944 Adversary accuracy 0.647031158679135\n",
      "Test: 200 Combined Loss 0.394018292427063\n",
      "Cls Enc Loss: 0.3568884874299421 Classifier Accuracy: 0.8323472977294532\n",
      "Adversary Loss: 0.03712978403447038 Adversary accuracy 0.6481801646945955\n",
      "Epoch: 210 \n",
      "Combined loss for Cls Enc step: 0.3791499511670258 Classifier Accuracy: 0.8511652542372882\n",
      "Combined loss for Adversary step: -0.378190470322714 Adversary accuracy 0.6463158119033704\n",
      "Test: 210 Combined Loss 0.3954128921031952\n",
      "Cls Enc Loss: 0.35755139601937797 Classifier Accuracy: 0.8325071953949472\n",
      "Adversary Loss: 0.037861487622988424 Adversary accuracy 0.6469884274064599\n",
      "Epoch: 220 \n",
      "Combined loss for Cls Enc step: 0.3779070271694728 Classifier Accuracy: 0.8513859463276836\n",
      "Combined loss for Adversary step: -0.3768081819943789 Adversary accuracy 0.6453980372102084\n",
      "Test: 220 Combined Loss 0.39456531405448914\n",
      "Cls Enc Loss: 0.35833383250539586 Classifier Accuracy: 0.8329319235689159\n",
      "Adversary Loss: 0.03623151779174805 Adversary accuracy 0.6465911816437481\n",
      "Epoch: 230 \n",
      "Combined loss for Cls Enc step: 0.3787711588087055 Classifier Accuracy: 0.8512093926553672\n",
      "Combined loss for Adversary step: -0.3777667752093514 Adversary accuracy 0.643809054159361\n",
      "Test: 230 Combined Loss 0.3925655484199524\n",
      "Cls Enc Loss: 0.35893248375189507 Classifier Accuracy: 0.8333291693316278\n",
      "Adversary Loss: 0.033633047241275596 Adversary accuracy 0.6439153941477455\n",
      "Epoch: 240 \n",
      "Combined loss for Cls Enc step: 0.37714280962607283 Classifier Accuracy: 0.8517390536723164\n",
      "Combined loss for Adversary step: -0.3760777105719356 Adversary accuracy 0.642475769530489\n",
      "Test: 240 Combined Loss 0.394595742225647\n",
      "Cls Enc Loss: 0.3600446916485237 Classifier Accuracy: 0.832904441157659\n",
      "Adversary Loss: 0.034551061816134696 Adversary accuracy 0.6434132155420531\n",
      "Epoch: 250 \n",
      "Combined loss for Cls Enc step: 0.38052882557198153 Classifier Accuracy: 0.8518714689265536\n",
      "Combined loss for Adversary step: -0.3795705752941848 Adversary accuracy 0.6446035456847847\n",
      "Test: 250 Combined Loss 0.39866212010383606\n",
      "Cls Enc Loss: 0.361066110432148 Classifier Accuracy: 0.8318451191237608\n",
      "Adversary Loss: 0.03759600247366954 Adversary accuracy 0.6440752918132395\n",
      "Epoch: 260 \n",
      "Combined loss for Cls Enc step: 0.37687313400924544 Classifier Accuracy: 0.8523569915254238\n",
      "Combined loss for Adversary step: -0.3759476664544499 Adversary accuracy 0.64388819890902\n",
      "Test: 260 Combined Loss 0.4053816795349121\n",
      "Cls Enc Loss: 0.3625647708521051 Classifier Accuracy: 0.8322698472977295\n",
      "Adversary Loss: 0.0428169076725588 Adversary accuracy 0.64489726574992\n",
      "Epoch: 270 \n",
      "Combined loss for Cls Enc step: 0.3745514235674998 Classifier Accuracy: 0.8532397598870056\n",
      "Combined loss for Adversary step: -0.3735520172085466 Adversary accuracy 0.6432261226378336\n",
      "Test: 270 Combined Loss 0.41306760907173157\n",
      "Cls Enc Loss: 0.3629612412493108 Classifier Accuracy: 0.8329319235689159\n",
      "Adversary Loss: 0.05010640116061194 Adversary accuracy 0.6470159098177166\n",
      "Epoch: 280 \n",
      "Combined loss for Cls Enc step: 0.37454833359704853 Classifier Accuracy: 0.8532838983050848\n",
      "Combined loss for Adversary step: -0.3734757597584509 Adversary accuracy 0.6432611289694136\n",
      "Test: 280 Combined Loss 0.4170548915863037\n",
      "Cls Enc Loss: 0.36344075518644464 Classifier Accuracy: 0.8321374320434922\n",
      "Adversary Loss: 0.05361413450564368 Adversary accuracy 0.6464587663895107\n",
      "Epoch: 290 \n",
      "Combined loss for Cls Enc step: 0.3722726098645878 Classifier Accuracy: 0.852974929378531\n",
      "Combined loss for Adversary step: -0.37111110374920786 Adversary accuracy 0.6445411430937074\n",
      "Test: 290 Combined Loss 0.4154842793941498\n",
      "Cls Enc Loss: 0.3615518639148292 Classifier Accuracy: 0.8331967540773905\n",
      "Adversary Loss: 0.053932412196013885 Adversary accuracy 0.643253317876559\n",
      "Epoch: 300 \n",
      "Combined loss for Cls Enc step: 0.3745255746831328 Classifier Accuracy: 0.8527542372881356\n",
      "Combined loss for Adversary step: -0.37330899682253765 Adversary accuracy 0.6437907899863627\n",
      "Test: 300 Combined Loss 0.41815266013145447\n",
      "Cls Enc Loss: 0.3626138422701318 Classifier Accuracy: 0.8341236608570515\n",
      "Adversary Loss: 0.05553887658200021 Adversary accuracy 0.6452395466901183\n",
      "Epoch: 310 \n",
      "Combined loss for Cls Enc step: 0.3733363391905181 Classifier Accuracy: 0.8531073446327684\n",
      "Combined loss for Adversary step: -0.37221185564152937 Adversary accuracy 0.6418928380089616\n",
      "Test: 310 Combined Loss 0.4198237657546997\n",
      "Cls Enc Loss: 0.36343634103314354 Classifier Accuracy: 0.8326670930604413\n",
      "Adversary Loss: 0.056387419417753055 Adversary accuracy 0.6415594019827311\n",
      "Epoch: 320 \n",
      "Combined loss for Cls Enc step: 0.3769064165946454 Classifier Accuracy: 0.852489406779661\n",
      "Combined loss for Adversary step: -0.3756873267939535 Adversary accuracy 0.642510775862069\n",
      "Test: 320 Combined Loss 0.41907161474227905\n",
      "Cls Enc Loss: 0.3635029963265031 Classifier Accuracy: 0.8346533218740007\n",
      "Adversary Loss: 0.055568613238253836 Adversary accuracy 0.6415594019827311\n",
      "Epoch: 330 \n",
      "Combined loss for Cls Enc step: 0.37748745971985453 Classifier Accuracy: 0.8520921610169492\n",
      "Combined loss for Adversary step: -0.376217480980407 Adversary accuracy 0.6423342221897526\n",
      "Test: 330 Combined Loss 0.4178459048271179\n",
      "Cls Enc Loss: 0.3641405229346227 Classifier Accuracy: 0.8338588303485769\n",
      "Adversary Loss: 0.05370538113480908 Adversary accuracy 0.6405000799488328\n",
      "Epoch: 340 \n",
      "Combined loss for Cls Enc step: 0.37603508525312285 Classifier Accuracy: 0.8526218220338984\n",
      "Combined loss for Adversary step: -0.37474915111637386 Adversary accuracy 0.641142484901617\n",
      "Test: 340 Combined Loss 0.4199349880218506\n",
      "Cls Enc Loss: 0.36529322738869713 Classifier Accuracy: 0.8344159737767828\n",
      "Adversary Loss: 0.05464172666355715 Adversary accuracy 0.6422214782539175\n",
      "Epoch: 350 \n",
      "Combined loss for Cls Enc step: 0.37391718961088 Classifier Accuracy: 0.8534604519774012\n",
      "Combined loss for Adversary step: -0.3727001540236554 Adversary accuracy 0.6410542080654588\n",
      "Test: 350 Combined Loss 0.4222087562084198\n",
      "Cls Enc Loss: 0.3673690275873168 Classifier Accuracy: 0.8350780500479692\n",
      "Adversary Loss: 0.054839733293500996 Adversary accuracy 0.6412945714742565\n",
      "Epoch: 360 \n",
      "Combined loss for Cls Enc step: 0.37707300618880213 Classifier Accuracy: 0.8527100988700564\n",
      "Combined loss for Adversary step: -0.3757040304905277 Adversary accuracy 0.6408335159750633\n",
      "Test: 360 Combined Loss 0.4230865240097046\n",
      "Cls Enc Loss: 0.36676522609540974 Classifier Accuracy: 0.8341236608570515\n",
      "Adversary Loss: 0.056321279477264924 Adversary accuracy 0.6406324952030701\n",
      "Epoch: 370 \n",
      "Combined loss for Cls Enc step: 0.37247522558364493 Classifier Accuracy: 0.8523128531073446\n",
      "Combined loss for Adversary step: -0.37121116992949094 Adversary accuracy 0.6392445329242159\n",
      "Test: 370 Combined Loss 0.4195488691329956\n",
      "Cls Enc Loss: 0.3656137398744034 Classifier Accuracy: 0.8353153981451871\n",
      "Adversary Loss: 0.053935112589496674 Adversary accuracy 0.6393083426606972\n",
      "Epoch: 380 \n",
      "Combined loss for Cls Enc step: 0.37167526857327604 Classifier Accuracy: 0.8529657972920319\n",
      "Combined loss for Adversary step: -0.3702119302614934 Adversary accuracy 0.6403479933761933\n",
      "Test: 380 Combined Loss 0.4202319383621216\n",
      "Cls Enc Loss: 0.3684259683398877 Classifier Accuracy: 0.8335939998401023\n",
      "Adversary Loss: 0.05180594880702132 Adversary accuracy 0.6383814358810361\n",
      "Epoch: 390 \n",
      "Combined loss for Cls Enc step: 0.3742325167029591 Classifier Accuracy: 0.85208302893045\n",
      "Combined loss for Adversary step: -0.3728292599572974 Adversary accuracy 0.6414514538281707\n",
      "Test: 390 Combined Loss 0.42159298062324524\n",
      "Cls Enc Loss: 0.3680148208040302 Classifier Accuracy: 0.8322698472977295\n",
      "Adversary Loss: 0.05357816562814228 Adversary accuracy 0.6397055884234091\n",
      "Epoch: 400 \n",
      "Combined loss for Cls Enc step: 0.37771484352606166 Classifier Accuracy: 0.8521271673485291\n",
      "Combined loss for Adversary step: -0.3764411265735572 Adversary accuracy 0.6413631769920125\n",
      "Test: 400 Combined Loss 0.4208003878593445\n",
      "Cls Enc Loss: 0.37100230296284464 Classifier Accuracy: 0.8318451191237608\n",
      "Adversary Loss: 0.049798065322940635 Adversary accuracy 0.6405000799488328\n",
      "Epoch: 410 \n",
      "Combined loss for Cls Enc step: 0.3785148851868123 Classifier Accuracy: 0.8534954583089811\n",
      "Combined loss for Adversary step: -0.3771367970496248 Adversary accuracy 0.6415397306643289\n",
      "Test: 410 Combined Loss 0.41463205218315125\n",
      "Cls Enc Loss: 0.37005709099062417 Classifier Accuracy: 0.8309456947553566\n",
      "Adversary Loss: 0.044574991121130475 Adversary accuracy 0.6390435121522227\n",
      "Epoch: 420 \n",
      "Combined loss for Cls Enc step: 0.37931235319813766 Classifier Accuracy: 0.8532306278005065\n",
      "Combined loss for Adversary step: -0.3777570916013529 Adversary accuracy 0.6424224990259108\n",
      "Test: 420 Combined Loss 0.41370245814323425\n",
      "Cls Enc Loss: 0.37081112409547223 Classifier Accuracy: 0.8312105252638312\n",
      "Adversary Loss: 0.04289134478164931 Adversary accuracy 0.6393083426606972\n",
      "Epoch: 430 \n",
      "Combined loss for Cls Enc step: 0.38203314695991364 Classifier Accuracy: 0.8529657972920319\n",
      "Combined loss for Adversary step: -0.38069828469200995 Adversary accuracy 0.6436675068186246\n",
      "Test: 430 Combined Loss 0.40133821964263916\n",
      "Cls Enc Loss: 0.37142972345069303 Classifier Accuracy: 0.830123720818676\n",
      "Adversary Loss: 0.02990850755723856 Adversary accuracy 0.6387786816437481\n",
      "Epoch: 440 \n",
      "Combined loss for Cls Enc step: 0.38436285179045243 Classifier Accuracy: 0.8535837351451393\n",
      "Combined loss for Adversary step: -0.38313849156690855 Adversary accuracy 0.645256489869472\n",
      "Test: 440 Combined Loss 0.3970381021499634\n",
      "Cls Enc Loss: 0.3702779202643087 Classifier Accuracy: 0.8306533818356252\n",
      "Adversary Loss: 0.026760126574564787 Adversary accuracy 0.6397330708346658\n",
      "Epoch: 450 \n",
      "Combined loss for Cls Enc step: 0.3861680169310947 Classifier Accuracy: 0.8535395967270601\n",
      "Combined loss for Adversary step: -0.38471907911832726 Adversary accuracy 0.6448151056886811\n",
      "Test: 450 Combined Loss 0.403036504983902\n",
      "Cls Enc Loss: 0.3725840439230709 Classifier Accuracy: 0.8307857970898624\n",
      "Adversary Loss: 0.03045249389389814 Adversary accuracy 0.6372171810041574\n",
      "Epoch: 460 \n",
      "Combined loss for Cls Enc step: 0.3859512191791992 Classifier Accuracy: 0.8524361362750827\n",
      "Combined loss for Adversary step: -0.3845867670777827 Adversary accuracy 0.6457861508864212\n",
      "Test: 460 Combined Loss 0.3990611732006073\n",
      "Cls Enc Loss: 0.3747684112039663 Classifier Accuracy: 0.8285347377678286\n",
      "Adversary Loss: 0.0242927316891945 Adversary accuracy 0.6373221138471379\n",
      "Epoch: 470 \n",
      "Combined loss for Cls Enc step: 0.3849919211056273 Classifier Accuracy: 0.8531423509643483\n",
      "Combined loss for Adversary step: -0.38374093734780274 Adversary accuracy 0.6448592441067602\n",
      "Test: 470 Combined Loss 0.4025147259235382\n",
      "Cls Enc Loss: 0.37369106166948707 Classifier Accuracy: 0.8281374920051167\n",
      "Adversary Loss: 0.02882370706331932 Adversary accuracy 0.6369523504956828\n",
      "Epoch: 480 \n",
      "Combined loss for Cls Enc step: 0.3852053441654491 Classifier Accuracy: 0.8545106419248003\n",
      "Combined loss for Adversary step: -0.38399336849060434 Adversary accuracy 0.6464923655756868\n",
      "Test: 480 Combined Loss 0.40487807989120483\n",
      "Cls Enc Loss: 0.37603182383513045 Classifier Accuracy: 0.8278726614966421\n",
      "Adversary Loss: 0.028846227516562253 Adversary accuracy 0.6385138511352735\n",
      "Epoch: 490 \n",
      "Combined loss for Cls Enc step: 0.3830219314849309 Classifier Accuracy: 0.8521713057666082\n",
      "Combined loss for Adversary step: -0.38216173190013164 Adversary accuracy 0.646139258231054\n",
      "Test: 490 Combined Loss 0.4033624827861786\n",
      "Cls Enc Loss: 0.375311782173181 Classifier Accuracy: 0.8270781699712184\n",
      "Adversary Loss: 0.02805073180441129 Adversary accuracy 0.639335825071954\n"
     ]
    }
   ],
   "source": [
    "clsTrain_losses = []\n",
    "clsTrain_accs = []\n",
    "advTrain_losses = []\n",
    "advTrain_accs = []\n",
    "\n",
    "combinedVal_losses = []\n",
    "clsVal_losses = []\n",
    "clsVal_accs = []\n",
    "advVal_losses = []\n",
    "advVal_accs = []\n",
    "\n",
    "num_epochs = 500\n",
    "\n",
    "for e in range(num_epochs):\n",
    "    clsTrain_loss, clsTrain_acc, advTrain_loss, advTrain_acc = laftr_epoch(encoder, classifier, adversary, X_train, y_train, a_train, en_opt, cls_opt, adv_opt, cls_criterion, adv_criterion)\n",
    "\n",
    "    if e % 10 == 0:\n",
    "        print('Epoch: {} \\nCombined loss for Cls Enc step: {} Classifier Accuracy: {}'\n",
    "          '\\nCombined loss for Adversary step: {} Adversary accuracy {}'.format(e, clsTrain_loss, clsTrain_acc, advTrain_loss, advTrain_acc))\n",
    "    \n",
    "    clsTrain_losses.append(clsTrain_loss)\n",
    "    clsTrain_accs.append(clsTrain_acc)\n",
    "    advTrain_losses.append(advTrain_loss)\n",
    "    advTrain_accs.append(advTrain_acc)\n",
    "    \n",
    "    combinedVal_loss, clsVal_loss, clsVal_acc, advVal_loss, advVal_acc = laftr_validate(encoder, classifier, adversary, X_test, y_test, a_test, cls_criterion, adv_criterion)\n",
    "    \n",
    "    if e % 10 == 0:\n",
    "        print('Test: {} Combined Loss {}\\nCls Enc Loss: {} Classifier Accuracy: {}'\n",
    "          '\\nAdversary Loss: {} Adversary accuracy {}'.format(e, combinedVal_loss, clsVal_loss, clsVal_acc, advVal_loss, advVal_acc))\n",
    "    \n",
    "    combinedVal_losses.append(combinedVal_loss)\n",
    "    clsVal_losses.append(clsVal_loss)\n",
    "    clsVal_accs.append(clsVal_acc)\n",
    "    advVal_losses.append(advVal_loss)\n",
    "    advVal_accs.append(advVal_acc)\n",
    "    "
   ]
  },
  {
   "cell_type": "code",
   "execution_count": 57,
   "metadata": {},
   "outputs": [
    {
     "data": {
      "text/plain": [
       "[<matplotlib.lines.Line2D at 0x1a1ef82eb8>]"
      ]
     },
     "execution_count": 57,
     "metadata": {},
     "output_type": "execute_result"
    },
    {
     "data": {
      "image/png": "[encoded data removed]",
      "text/plain": [
       "<Figure size 1440x720 with 8 Axes>"
      ]
     },
     "metadata": {},
     "output_type": "display_data"
    }
   ],
   "source": [
    "plt.figure(figsize=(20,10))\n",
    "plt.subplot(241)\n",
    "plt.title('Combined Cls-Enc-Adv Train Loss for Cls-Enc Step')\n",
    "plt.plot(clsTrain_losses)\n",
    "plt.subplot(242)\n",
    "plt.title('Cls-Enc Train Accuracy')\n",
    "plt.plot(clsTrain_accs)\n",
    "plt.subplot(243)\n",
    "plt.title('Combined Cls-Enc-Adv Train Loss for Adv Step')\n",
    "plt.plot(advTrain_losses)\n",
    "plt.subplot(244)\n",
    "plt.title('Adv Train Accuracy')\n",
    "plt.plot(advTrain_accs)\n",
    "\n",
    "plt.subplot(245)\n",
    "plt.title('Cls-Enc Val Losses')\n",
    "plt.plot(clsVal_losses)\n",
    "plt.subplot(246)\n",
    "plt.title('Cls-Enc Val Accuracy')\n",
    "plt.plot(clsVal_accs)\n",
    "plt.subplot(247)\n",
    "plt.title('Adv Val Losses')\n",
    "plt.plot(advVal_losses)\n",
    "plt.subplot(248)\n",
    "plt.title('Adv Val Accuracy')\n",
    "plt.plot(advVal_accs)"
   ]
  },
  {
   "cell_type": "code",
   "execution_count": 58,
   "metadata": {},
   "outputs": [
    {
     "data": {
      "text/plain": [
       "[<matplotlib.lines.Line2D at 0x1a1fc0d2e8>]"
      ]
     },
     "execution_count": 58,
     "metadata": {},
     "output_type": "execute_result"
    },
    {
     "data": {
      "image/png": "[encoded data removed]",
      "text/plain": [
       "<Figure size 432x288 with 1 Axes>"
      ]
     },
     "metadata": {},
     "output_type": "display_data"
    }
   ],
   "source": [
    "plt.title('Combined validation losses')\n",
    "plt.plot(combinedVal_losses)"
   ]
  },
  {
   "cell_type": "markdown",
   "metadata": {},
   "source": [
    "Testing"
   ]
  },
  {
   "cell_type": "code",
   "execution_count": 118,
   "metadata": {},
   "outputs": [],
   "source": [
    "with torch.no_grad():\n",
    "    z_train = encoder(torch.from_numpy(X_train.values).float())\n",
    "    z_test = encoder(torch.from_numpy(X_test.values).float())"
   ]
  },
  {
   "cell_type": "code",
   "execution_count": 119,
   "metadata": {},
   "outputs": [],
   "source": [
    "z_train = pd.DataFrame(z_train.numpy())\n",
    "z_test = pd.DataFrame(z_test.numpy())"
   ]
  },
  {
   "cell_type": "code",
   "execution_count": 120,
   "metadata": {},
   "outputs": [],
   "source": [
    "adversary_test = SingleNet(8)\n",
    "tadv_opt = optim.Adam(adversary_test.parameters(), lr=0.001, betas=(0.9, 0.999))\n",
    "tadv_criterion = nn.BCELoss()"
   ]
  },
  {
   "cell_type": "code",
   "execution_count": 123,
   "metadata": {},
   "outputs": [
    {
     "name": "stderr",
     "output_type": "stream",
     "text": [
      "/Users/var/anaconda/envs/pytorch/lib/python3.6/site-packages/torch/nn/functional.py:1474: UserWarning: Using a target size (torch.Size([64])) that is different to the input size (torch.Size([64, 1])) is deprecated. Please ensure they have the same size.\n",
      "  \"Please ensure they have the same size.\".format(target.size(), input.size()))\n",
      "/Users/var/anaconda/envs/pytorch/lib/python3.6/site-packages/torch/nn/functional.py:1474: UserWarning: Using a target size (torch.Size([29])) that is different to the input size (torch.Size([29, 1])) is deprecated. Please ensure they have the same size.\n",
      "  \"Please ensure they have the same size.\".format(target.size(), input.size()))\n",
      "/Users/var/anaconda/envs/pytorch/lib/python3.6/site-packages/torch/nn/functional.py:1474: UserWarning: Using a target size (torch.Size([53])) that is different to the input size (torch.Size([53, 1])) is deprecated. Please ensure they have the same size.\n",
      "  \"Please ensure they have the same size.\".format(target.size(), input.size()))\n"
     ]
    },
    {
     "name": "stdout",
     "output_type": "stream",
     "text": [
      "Epoch: 0 Loss: 0.6298609254723888 Accuracy: 0.6756678599259692\n",
      "Test Epoch: 0 Loss: 0.6301985691159459 Accuracy: 0.6754577070674769\n",
      "Epoch: 1 Loss: 0.629848674697391 Accuracy: 0.6756678599259692\n",
      "Test Epoch: 1 Loss: 0.6302265358173241 Accuracy: 0.6754577070674769\n",
      "Epoch: 2 Loss: 0.6298401980413555 Accuracy: 0.6756678599259692\n",
      "Test Epoch: 2 Loss: 0.6302101652500993 Accuracy: 0.6754577070674769\n",
      "Epoch: 3 Loss: 0.6298372718573964 Accuracy: 0.6756678599259692\n",
      "Test Epoch: 3 Loss: 0.6301992030467017 Accuracy: 0.6754577070674769\n",
      "Epoch: 4 Loss: 0.6298322556382518 Accuracy: 0.6756678599259692\n",
      "Test Epoch: 4 Loss: 0.6302057974419352 Accuracy: 0.6754577070674769\n",
      "Epoch: 5 Loss: 0.6298244526494021 Accuracy: 0.6756678599259692\n",
      "Test Epoch: 5 Loss: 0.6301967996661946 Accuracy: 0.6754577070674769\n",
      "Epoch: 6 Loss: 0.6298211146209199 Accuracy: 0.6756678599259692\n",
      "Test Epoch: 6 Loss: 0.6301943437527802 Accuracy: 0.6754577070674769\n",
      "Epoch: 7 Loss: 0.6298175735325463 Accuracy: 0.6756678599259692\n",
      "Test Epoch: 7 Loss: 0.6301949463658414 Accuracy: 0.6754577070674769\n",
      "Epoch: 8 Loss: 0.6298204421323571 Accuracy: 0.6756678599259692\n",
      "Test Epoch: 8 Loss: 0.6301898340047416 Accuracy: 0.6754577070674769\n",
      "Epoch: 9 Loss: 0.6298045655765102 Accuracy: 0.6756678599259692\n",
      "Test Epoch: 9 Loss: 0.6302210451182673 Accuracy: 0.6753252918132395\n",
      "Epoch: 10 Loss: 0.6298206204411674 Accuracy: 0.6756678599259692\n",
      "Test Epoch: 10 Loss: 0.630229045273894 Accuracy: 0.6754577070674769\n",
      "Epoch: 11 Loss: 0.6298202495116972 Accuracy: 0.6756678599259692\n",
      "Test Epoch: 11 Loss: 0.630207695698334 Accuracy: 0.6754577070674769\n",
      "Epoch: 12 Loss: 0.6298060930718137 Accuracy: 0.6756678599259692\n",
      "Test Epoch: 12 Loss: 0.6302243622682863 Accuracy: 0.6753252918132395\n",
      "Epoch: 13 Loss: 0.6298033780297317 Accuracy: 0.6756678599259692\n",
      "Test Epoch: 13 Loss: 0.6302076386193097 Accuracy: 0.6754577070674769\n",
      "Epoch: 14 Loss: 0.6298031904603129 Accuracy: 0.6756678599259692\n",
      "Test Epoch: 14 Loss: 0.6302176269434266 Accuracy: 0.6754577070674769\n",
      "Epoch: 15 Loss: 0.6297919240038273 Accuracy: 0.6756678599259692\n",
      "Test Epoch: 15 Loss: 0.6302072825068135 Accuracy: 0.6753252918132395\n",
      "Epoch: 16 Loss: 0.6297810709072371 Accuracy: 0.6756678599259692\n",
      "Test Epoch: 16 Loss: 0.6302173127562313 Accuracy: 0.6753252918132395\n",
      "Epoch: 17 Loss: 0.629786298773383 Accuracy: 0.6756678599259692\n",
      "Test Epoch: 17 Loss: 0.6302076335680686 Accuracy: 0.6753252918132395\n",
      "Epoch: 18 Loss: 0.6297771949215797 Accuracy: 0.6756678599259692\n",
      "Test Epoch: 18 Loss: 0.6302007780236712 Accuracy: 0.6753252918132395\n",
      "Epoch: 19 Loss: 0.6297679169703339 Accuracy: 0.6756678599259692\n",
      "Test Epoch: 19 Loss: 0.6301964743662689 Accuracy: 0.6754577070674769\n",
      "Epoch: 20 Loss: 0.6297570083100917 Accuracy: 0.6756678599259692\n",
      "Test Epoch: 20 Loss: 0.6302028379197848 Accuracy: 0.6754577070674769\n",
      "Epoch: 21 Loss: 0.6297601855407327 Accuracy: 0.6756678599259692\n",
      "Test Epoch: 21 Loss: 0.6302203071319451 Accuracy: 0.6753252918132395\n",
      "Epoch: 22 Loss: 0.6297444305514212 Accuracy: 0.6756678599259692\n",
      "Test Epoch: 22 Loss: 0.6302165990158662 Accuracy: 0.6753252918132395\n",
      "Epoch: 23 Loss: 0.6297349451625415 Accuracy: 0.6756678599259692\n",
      "Test Epoch: 23 Loss: 0.6302171137373326 Accuracy: 0.6753252918132395\n",
      "Epoch: 24 Loss: 0.6297363707911496 Accuracy: 0.6756678599259692\n",
      "Test Epoch: 24 Loss: 0.6302190140142279 Accuracy: 0.6753252918132395\n"
     ]
    }
   ],
   "source": [
    "tadvTrain_losses = []\n",
    "tadvTrain_accs = []\n",
    "tadvVal_losses = []\n",
    "tadvVal_accs = []\n",
    "num_epochs = 25\n",
    "for e in range(num_epochs):\n",
    "    tadvTrain_loss, tadvTrain_acc = train_epoch(adversary_test, z_train, a_train, tadv_opt, tadv_criterion)\n",
    "    print('Epoch: {} Loss: {} Accuracy: {}'.format(e, np.mean(tadvTrain_loss), np.mean(tadvTrain_acc)))\n",
    "    tadvTrain_losses.append(np.mean(tadvTrain_loss))\n",
    "    tadvTrain_accs.append(np.mean(tadvTrain_acc))\n",
    "    tadvVal_loss, tadvVal_acc = validate_epoch(adversary_test, z_test, a_test, tadv_criterion)\n",
    "    print('Test Epoch: {} Loss: {} Accuracy: {}'.format(e, np.mean(tadvVal_loss), np.mean(tadvVal_acc)))\n",
    "    tadvVal_losses.append(np.mean(tadvVal_loss))\n",
    "    tadvVal_accs.append(np.mean(tadvVal_acc))"
   ]
  },
  {
   "cell_type": "code",
   "execution_count": 122,
   "metadata": {},
   "outputs": [
    {
     "data": {
      "text/plain": [
       "[<matplotlib.lines.Line2D at 0x1a25fb0860>]"
      ]
     },
     "execution_count": 122,
     "metadata": {},
     "output_type": "execute_result"
    },
    {
     "data": {
      "image/png": "[encoded data removed]",
      "text/plain": [
       "<Figure size 720x720 with 4 Axes>"
      ]
     },
     "metadata": {},
     "output_type": "display_data"
    }
   ],
   "source": [
    "plt.figure(figsize=(10,10))\n",
    "plt.subplot(221)\n",
    "plt.plot(tadvTrain_losses)\n",
    "plt.subplot(222)\n",
    "plt.plot(tadvTrain_accs)\n",
    "plt.subplot(223)\n",
    "plt.plot(tadvVal_losses)\n",
    "plt.subplot(224)\n",
    "plt.plot(tadvVal_accs)"
   ]
  },
  {
   "cell_type": "code",
   "execution_count": 128,
   "metadata": {},
   "outputs": [
    {
     "ename": "TypeError",
     "evalue": "append() takes exactly one argument (0 given)",
     "output_type": "error",
     "traceback": [
      "\u001b[0;31m---------------------------------------------------------------------------\u001b[0m",
      "\u001b[0;31mTypeError\u001b[0m                                 Traceback (most recent call last)",
      "\u001b[0;32m<ipython-input-128-3f619a25d2e8>\u001b[0m in \u001b[0;36m<module>\u001b[0;34m()\u001b[0m\n\u001b[1;32m      1\u001b[0m \u001b[0ml\u001b[0m \u001b[0;34m=\u001b[0m \u001b[0;34m[\u001b[0m\u001b[0;34m]\u001b[0m\u001b[0;34m\u001b[0m\u001b[0m\n\u001b[0;32m----> 2\u001b[0;31m \u001b[0ml\u001b[0m\u001b[0;34m.\u001b[0m\u001b[0mappend\u001b[0m\u001b[0;34m(\u001b[0m\u001b[0;34m)\u001b[0m\u001b[0;34m\u001b[0m\u001b[0m\n\u001b[0m",
      "\u001b[0;31mTypeError\u001b[0m: append() takes exactly one argument (0 given)"
     ]
    }
   ],
   "source": []
  },
  {
   "cell_type": "code",
   "execution_count": null,
   "metadata": {},
   "outputs": [],
   "source": []
  }
 ],
 "metadata": {
  "kernelspec": {
   "display_name": "Python 3",
   "language": "python",
   "name": "python3"
  },
  "language_info": {
   "codemirror_mode": {
    "name": "ipython",
    "version": 3
   },
   "file_extension": ".py",
   "mimetype": "text/x-python",
   "name": "python",
   "nbconvert_exporter": "python",
   "pygments_lexer": "ipython3",
   "version": "3.6.5"
  }
 },
 "nbformat": 4,
 "nbformat_minor": 2
}
