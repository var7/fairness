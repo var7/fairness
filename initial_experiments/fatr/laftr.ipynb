{
 "cells": [
  {
   "cell_type": "code",
   "execution_count": 1,
   "metadata": {},
   "outputs": [],
   "source": [
    "import os\n",
    "import sys\n",
    "import time\n",
    "import copy\n",
    "import argparse\n",
    "import datetime"
   ]
  },
  {
   "cell_type": "code",
   "execution_count": 2,
   "metadata": {},
   "outputs": [],
   "source": [
    "import pandas as pd\n",
    "import numpy as np\n",
    "import matplotlib.pyplot as plt\n",
    "import matplotlib\n",
    "from numpy.random import RandomState\n",
    "plt.style.use('dark_background')"
   ]
  },
  {
   "cell_type": "code",
   "execution_count": 3,
   "metadata": {},
   "outputs": [],
   "source": [
    "from sklearn.linear_model import LogisticRegression, LogisticRegressionCV\n",
    "from sklearn.metrics import accuracy_score, confusion_matrix, make_scorer, precision_recall_fscore_support, roc_auc_score\n",
    "from sklearn.model_selection import GridSearchCV, StratifiedKFold, train_test_split\n",
    "from sklearn.pipeline import Pipeline\n",
    "from sklearn.preprocessing import RobustScaler, StandardScaler"
   ]
  },
  {
   "cell_type": "code",
   "execution_count": 4,
   "metadata": {},
   "outputs": [],
   "source": [
    "import torch\n",
    "import torch.nn as nn\n",
    "import torch.backends.cudnn as cudnn\n",
    "import torch.optim as optim\n",
    "import torch.optim.lr_scheduler as lr_scheduler\n",
    "import torch.functional as F\n",
    "from torchvision import transforms, utils, models\n",
    "from torch.utils.data import Dataset, DataLoader\n",
    "from torch.nn.modules.activation import Sigmoid, LeakyReLU"
   ]
  },
  {
   "cell_type": "code",
   "execution_count": 5,
   "metadata": {},
   "outputs": [],
   "source": [
    "rs = RandomState(1791387)"
   ]
  },
  {
   "cell_type": "code",
   "execution_count": 6,
   "metadata": {},
   "outputs": [],
   "source": [
    "DATA_PATH = './uci_adult/'\n",
    "TRAIN_PATH = os.path.join(DATA_PATH, 'adult.data')\n",
    "TEST_PATH = os.path.join(DATA_PATH, 'adult.test')\n",
    "header = [\"Age\", \"WorkClass\", \"fnlwgt\", \"Education\", \"EducationNum\",\n",
    "    \"MaritalStatus\", \"Occupation\", \"Relationship\", \"Race\", \"Gender\",\n",
    "    \"CapitalGain\", \"CapitalLoss\", \"HoursPerWeek\", \"NativeCountry\", \"Income\"]"
   ]
  },
  {
   "cell_type": "code",
   "execution_count": 7,
   "metadata": {},
   "outputs": [
    {
     "name": "stderr",
     "output_type": "stream",
     "text": [
      "/Users/var/anaconda/envs/pytorch/lib/python3.6/site-packages/ipykernel_launcher.py:1: ParserWarning: Falling back to the 'python' engine because the 'c' engine does not support regex separators (separators > 1 char and different from '\\s+' are interpreted as regex); you can avoid this warning by specifying engine='python'.\n",
      "  \"\"\"Entry point for launching an IPython kernel.\n"
     ]
    }
   ],
   "source": [
    "df = pd.read_csv(TRAIN_PATH, header=None, names=header, sep=',\\s', na_values=[\"?\"])"
   ]
  },
  {
   "cell_type": "code",
   "execution_count": 8,
   "metadata": {},
   "outputs": [
    {
     "data": {
      "text/html": [
       "<div>\n",
       "<style scoped>\n",
       "    .dataframe tbody tr th:only-of-type {\n",
       "        vertical-align: middle;\n",
       "    }\n",
       "\n",
       "    .dataframe tbody tr th {\n",
       "        vertical-align: top;\n",
       "    }\n",
       "\n",
       "    .dataframe thead th {\n",
       "        text-align: right;\n",
       "    }\n",
       "</style>\n",
       "<table border=\"1\" class=\"dataframe\">\n",
       "  <thead>\n",
       "    <tr style=\"text-align: right;\">\n",
       "      <th></th>\n",
       "      <th>Age</th>\n",
       "      <th>WorkClass</th>\n",
       "      <th>fnlwgt</th>\n",
       "      <th>Education</th>\n",
       "      <th>EducationNum</th>\n",
       "      <th>MaritalStatus</th>\n",
       "      <th>Occupation</th>\n",
       "      <th>Relationship</th>\n",
       "      <th>Race</th>\n",
       "      <th>Gender</th>\n",
       "      <th>CapitalGain</th>\n",
       "      <th>CapitalLoss</th>\n",
       "      <th>HoursPerWeek</th>\n",
       "      <th>NativeCountry</th>\n",
       "      <th>Income</th>\n",
       "    </tr>\n",
       "  </thead>\n",
       "  <tbody>\n",
       "    <tr>\n",
       "      <th>0</th>\n",
       "      <td>39</td>\n",
       "      <td>State-gov</td>\n",
       "      <td>77516</td>\n",
       "      <td>Bachelors</td>\n",
       "      <td>13</td>\n",
       "      <td>Never-married</td>\n",
       "      <td>Adm-clerical</td>\n",
       "      <td>Not-in-family</td>\n",
       "      <td>White</td>\n",
       "      <td>Male</td>\n",
       "      <td>2174</td>\n",
       "      <td>0</td>\n",
       "      <td>40</td>\n",
       "      <td>United-States</td>\n",
       "      <td>&lt;=50K</td>\n",
       "    </tr>\n",
       "    <tr>\n",
       "      <th>1</th>\n",
       "      <td>50</td>\n",
       "      <td>Self-emp-not-inc</td>\n",
       "      <td>83311</td>\n",
       "      <td>Bachelors</td>\n",
       "      <td>13</td>\n",
       "      <td>Married-civ-spouse</td>\n",
       "      <td>Exec-managerial</td>\n",
       "      <td>Husband</td>\n",
       "      <td>White</td>\n",
       "      <td>Male</td>\n",
       "      <td>0</td>\n",
       "      <td>0</td>\n",
       "      <td>13</td>\n",
       "      <td>United-States</td>\n",
       "      <td>&lt;=50K</td>\n",
       "    </tr>\n",
       "    <tr>\n",
       "      <th>2</th>\n",
       "      <td>38</td>\n",
       "      <td>Private</td>\n",
       "      <td>215646</td>\n",
       "      <td>HS-grad</td>\n",
       "      <td>9</td>\n",
       "      <td>Divorced</td>\n",
       "      <td>Handlers-cleaners</td>\n",
       "      <td>Not-in-family</td>\n",
       "      <td>White</td>\n",
       "      <td>Male</td>\n",
       "      <td>0</td>\n",
       "      <td>0</td>\n",
       "      <td>40</td>\n",
       "      <td>United-States</td>\n",
       "      <td>&lt;=50K</td>\n",
       "    </tr>\n",
       "    <tr>\n",
       "      <th>3</th>\n",
       "      <td>53</td>\n",
       "      <td>Private</td>\n",
       "      <td>234721</td>\n",
       "      <td>11th</td>\n",
       "      <td>7</td>\n",
       "      <td>Married-civ-spouse</td>\n",
       "      <td>Handlers-cleaners</td>\n",
       "      <td>Husband</td>\n",
       "      <td>Black</td>\n",
       "      <td>Male</td>\n",
       "      <td>0</td>\n",
       "      <td>0</td>\n",
       "      <td>40</td>\n",
       "      <td>United-States</td>\n",
       "      <td>&lt;=50K</td>\n",
       "    </tr>\n",
       "    <tr>\n",
       "      <th>4</th>\n",
       "      <td>28</td>\n",
       "      <td>Private</td>\n",
       "      <td>338409</td>\n",
       "      <td>Bachelors</td>\n",
       "      <td>13</td>\n",
       "      <td>Married-civ-spouse</td>\n",
       "      <td>Prof-specialty</td>\n",
       "      <td>Wife</td>\n",
       "      <td>Black</td>\n",
       "      <td>Female</td>\n",
       "      <td>0</td>\n",
       "      <td>0</td>\n",
       "      <td>40</td>\n",
       "      <td>Cuba</td>\n",
       "      <td>&lt;=50K</td>\n",
       "    </tr>\n",
       "  </tbody>\n",
       "</table>\n",
       "</div>"
      ],
      "text/plain": [
       "   Age         WorkClass  fnlwgt  Education  EducationNum       MaritalStatus  \\\n",
       "0   39         State-gov   77516  Bachelors            13       Never-married   \n",
       "1   50  Self-emp-not-inc   83311  Bachelors            13  Married-civ-spouse   \n",
       "2   38           Private  215646    HS-grad             9            Divorced   \n",
       "3   53           Private  234721       11th             7  Married-civ-spouse   \n",
       "4   28           Private  338409  Bachelors            13  Married-civ-spouse   \n",
       "\n",
       "          Occupation   Relationship   Race  Gender  CapitalGain  CapitalLoss  \\\n",
       "0       Adm-clerical  Not-in-family  White    Male         2174            0   \n",
       "1    Exec-managerial        Husband  White    Male            0            0   \n",
       "2  Handlers-cleaners  Not-in-family  White    Male            0            0   \n",
       "3  Handlers-cleaners        Husband  Black    Male            0            0   \n",
       "4     Prof-specialty           Wife  Black  Female            0            0   \n",
       "\n",
       "   HoursPerWeek  NativeCountry Income  \n",
       "0            40  United-States  <=50K  \n",
       "1            13  United-States  <=50K  \n",
       "2            40  United-States  <=50K  \n",
       "3            40  United-States  <=50K  \n",
       "4            40           Cuba  <=50K  "
      ]
     },
     "execution_count": 8,
     "metadata": {},
     "output_type": "execute_result"
    }
   ],
   "source": [
    "df.head()"
   ]
  },
  {
   "cell_type": "code",
   "execution_count": 9,
   "metadata": {},
   "outputs": [
    {
     "data": {
      "text/plain": [
       "True"
      ]
     },
     "execution_count": 9,
     "metadata": {},
     "output_type": "execute_result"
    }
   ],
   "source": [
    "df.isnull().values.any()"
   ]
  },
  {
   "cell_type": "code",
   "execution_count": 10,
   "metadata": {},
   "outputs": [
    {
     "data": {
      "text/html": [
       "<div>\n",
       "<style scoped>\n",
       "    .dataframe tbody tr th:only-of-type {\n",
       "        vertical-align: middle;\n",
       "    }\n",
       "\n",
       "    .dataframe tbody tr th {\n",
       "        vertical-align: top;\n",
       "    }\n",
       "\n",
       "    .dataframe thead th {\n",
       "        text-align: right;\n",
       "    }\n",
       "</style>\n",
       "<table border=\"1\" class=\"dataframe\">\n",
       "  <thead>\n",
       "    <tr style=\"text-align: right;\">\n",
       "      <th></th>\n",
       "      <th>Age</th>\n",
       "      <th>WorkClass</th>\n",
       "      <th>fnlwgt</th>\n",
       "      <th>Education</th>\n",
       "      <th>EducationNum</th>\n",
       "      <th>MaritalStatus</th>\n",
       "      <th>Occupation</th>\n",
       "      <th>Relationship</th>\n",
       "      <th>Race</th>\n",
       "      <th>Gender</th>\n",
       "      <th>CapitalGain</th>\n",
       "      <th>CapitalLoss</th>\n",
       "      <th>HoursPerWeek</th>\n",
       "      <th>NativeCountry</th>\n",
       "      <th>Income</th>\n",
       "    </tr>\n",
       "  </thead>\n",
       "  <tbody>\n",
       "    <tr>\n",
       "      <th>0</th>\n",
       "      <td>39</td>\n",
       "      <td>State-gov</td>\n",
       "      <td>77516</td>\n",
       "      <td>Bachelors</td>\n",
       "      <td>13</td>\n",
       "      <td>Never-married</td>\n",
       "      <td>Adm-clerical</td>\n",
       "      <td>Not-in-family</td>\n",
       "      <td>White</td>\n",
       "      <td>Male</td>\n",
       "      <td>2174</td>\n",
       "      <td>0</td>\n",
       "      <td>40</td>\n",
       "      <td>United-States</td>\n",
       "      <td>&lt;=50K</td>\n",
       "    </tr>\n",
       "    <tr>\n",
       "      <th>1</th>\n",
       "      <td>50</td>\n",
       "      <td>Self-emp-not-inc</td>\n",
       "      <td>83311</td>\n",
       "      <td>Bachelors</td>\n",
       "      <td>13</td>\n",
       "      <td>Married-civ-spouse</td>\n",
       "      <td>Exec-managerial</td>\n",
       "      <td>Husband</td>\n",
       "      <td>White</td>\n",
       "      <td>Male</td>\n",
       "      <td>0</td>\n",
       "      <td>0</td>\n",
       "      <td>13</td>\n",
       "      <td>United-States</td>\n",
       "      <td>&lt;=50K</td>\n",
       "    </tr>\n",
       "    <tr>\n",
       "      <th>2</th>\n",
       "      <td>38</td>\n",
       "      <td>Private</td>\n",
       "      <td>215646</td>\n",
       "      <td>HS-grad</td>\n",
       "      <td>9</td>\n",
       "      <td>Divorced</td>\n",
       "      <td>Handlers-cleaners</td>\n",
       "      <td>Not-in-family</td>\n",
       "      <td>White</td>\n",
       "      <td>Male</td>\n",
       "      <td>0</td>\n",
       "      <td>0</td>\n",
       "      <td>40</td>\n",
       "      <td>United-States</td>\n",
       "      <td>&lt;=50K</td>\n",
       "    </tr>\n",
       "    <tr>\n",
       "      <th>3</th>\n",
       "      <td>53</td>\n",
       "      <td>Private</td>\n",
       "      <td>234721</td>\n",
       "      <td>11th</td>\n",
       "      <td>7</td>\n",
       "      <td>Married-civ-spouse</td>\n",
       "      <td>Handlers-cleaners</td>\n",
       "      <td>Husband</td>\n",
       "      <td>Black</td>\n",
       "      <td>Male</td>\n",
       "      <td>0</td>\n",
       "      <td>0</td>\n",
       "      <td>40</td>\n",
       "      <td>United-States</td>\n",
       "      <td>&lt;=50K</td>\n",
       "    </tr>\n",
       "    <tr>\n",
       "      <th>4</th>\n",
       "      <td>28</td>\n",
       "      <td>Private</td>\n",
       "      <td>338409</td>\n",
       "      <td>Bachelors</td>\n",
       "      <td>13</td>\n",
       "      <td>Married-civ-spouse</td>\n",
       "      <td>Prof-specialty</td>\n",
       "      <td>Wife</td>\n",
       "      <td>Black</td>\n",
       "      <td>Female</td>\n",
       "      <td>0</td>\n",
       "      <td>0</td>\n",
       "      <td>40</td>\n",
       "      <td>Cuba</td>\n",
       "      <td>&lt;=50K</td>\n",
       "    </tr>\n",
       "  </tbody>\n",
       "</table>\n",
       "</div>"
      ],
      "text/plain": [
       "   Age         WorkClass  fnlwgt  Education  EducationNum       MaritalStatus  \\\n",
       "0   39         State-gov   77516  Bachelors            13       Never-married   \n",
       "1   50  Self-emp-not-inc   83311  Bachelors            13  Married-civ-spouse   \n",
       "2   38           Private  215646    HS-grad             9            Divorced   \n",
       "3   53           Private  234721       11th             7  Married-civ-spouse   \n",
       "4   28           Private  338409  Bachelors            13  Married-civ-spouse   \n",
       "\n",
       "          Occupation   Relationship   Race  Gender  CapitalGain  CapitalLoss  \\\n",
       "0       Adm-clerical  Not-in-family  White    Male         2174            0   \n",
       "1    Exec-managerial        Husband  White    Male            0            0   \n",
       "2  Handlers-cleaners  Not-in-family  White    Male            0            0   \n",
       "3  Handlers-cleaners        Husband  Black    Male            0            0   \n",
       "4     Prof-specialty           Wife  Black  Female            0            0   \n",
       "\n",
       "   HoursPerWeek  NativeCountry Income  \n",
       "0            40  United-States  <=50K  \n",
       "1            13  United-States  <=50K  \n",
       "2            40  United-States  <=50K  \n",
       "3            40  United-States  <=50K  \n",
       "4            40           Cuba  <=50K  "
      ]
     },
     "execution_count": 10,
     "metadata": {},
     "output_type": "execute_result"
    }
   ],
   "source": [
    "df = df.dropna()\n",
    "df.head()"
   ]
  },
  {
   "cell_type": "code",
   "execution_count": 11,
   "metadata": {},
   "outputs": [
    {
     "data": {
      "text/plain": [
       "array(['<=50K', '>50K'], dtype=object)"
      ]
     },
     "execution_count": 11,
     "metadata": {},
     "output_type": "execute_result"
    }
   ],
   "source": [
    "df.Income.unique()"
   ]
  },
  {
   "cell_type": "code",
   "execution_count": 12,
   "metadata": {},
   "outputs": [],
   "source": [
    "df[\"Income\"] = df[\"Income\"].map({ \"<=50K\": 0, \">50K\": 1 })"
   ]
  },
  {
   "cell_type": "code",
   "execution_count": 13,
   "metadata": {},
   "outputs": [],
   "source": [
    "y_all = df[\"Income\"].values"
   ]
  },
  {
   "cell_type": "code",
   "execution_count": 14,
   "metadata": {},
   "outputs": [
    {
     "data": {
      "text/plain": [
       "array(['Male', 'Female'], dtype=object)"
      ]
     },
     "execution_count": 14,
     "metadata": {},
     "output_type": "execute_result"
    }
   ],
   "source": [
    "df.Gender.unique()"
   ]
  },
  {
   "cell_type": "code",
   "execution_count": 15,
   "metadata": {},
   "outputs": [],
   "source": [
    "sensitive_all = df[\"Gender\"].map({\"Male\": 0, \"Female\": 1}).values"
   ]
  },
  {
   "cell_type": "code",
   "execution_count": 16,
   "metadata": {},
   "outputs": [],
   "source": [
    "df.drop(\"Income\", axis=1, inplace=True,)"
   ]
  },
  {
   "cell_type": "code",
   "execution_count": 17,
   "metadata": {},
   "outputs": [
    {
     "data": {
      "text/html": [
       "<div>\n",
       "<style scoped>\n",
       "    .dataframe tbody tr th:only-of-type {\n",
       "        vertical-align: middle;\n",
       "    }\n",
       "\n",
       "    .dataframe tbody tr th {\n",
       "        vertical-align: top;\n",
       "    }\n",
       "\n",
       "    .dataframe thead th {\n",
       "        text-align: right;\n",
       "    }\n",
       "</style>\n",
       "<table border=\"1\" class=\"dataframe\">\n",
       "  <thead>\n",
       "    <tr style=\"text-align: right;\">\n",
       "      <th></th>\n",
       "      <th>Age</th>\n",
       "      <th>fnlwgt</th>\n",
       "      <th>EducationNum</th>\n",
       "      <th>CapitalGain</th>\n",
       "      <th>CapitalLoss</th>\n",
       "      <th>HoursPerWeek</th>\n",
       "    </tr>\n",
       "  </thead>\n",
       "  <tbody>\n",
       "    <tr>\n",
       "      <th>count</th>\n",
       "      <td>30162.000000</td>\n",
       "      <td>3.016200e+04</td>\n",
       "      <td>30162.000000</td>\n",
       "      <td>30162.000000</td>\n",
       "      <td>30162.000000</td>\n",
       "      <td>30162.000000</td>\n",
       "    </tr>\n",
       "    <tr>\n",
       "      <th>mean</th>\n",
       "      <td>38.437902</td>\n",
       "      <td>1.897938e+05</td>\n",
       "      <td>10.121312</td>\n",
       "      <td>1092.007858</td>\n",
       "      <td>88.372489</td>\n",
       "      <td>40.931238</td>\n",
       "    </tr>\n",
       "    <tr>\n",
       "      <th>std</th>\n",
       "      <td>13.134665</td>\n",
       "      <td>1.056530e+05</td>\n",
       "      <td>2.549995</td>\n",
       "      <td>7406.346497</td>\n",
       "      <td>404.298370</td>\n",
       "      <td>11.979984</td>\n",
       "    </tr>\n",
       "    <tr>\n",
       "      <th>min</th>\n",
       "      <td>17.000000</td>\n",
       "      <td>1.376900e+04</td>\n",
       "      <td>1.000000</td>\n",
       "      <td>0.000000</td>\n",
       "      <td>0.000000</td>\n",
       "      <td>1.000000</td>\n",
       "    </tr>\n",
       "    <tr>\n",
       "      <th>25%</th>\n",
       "      <td>28.000000</td>\n",
       "      <td>1.176272e+05</td>\n",
       "      <td>9.000000</td>\n",
       "      <td>0.000000</td>\n",
       "      <td>0.000000</td>\n",
       "      <td>40.000000</td>\n",
       "    </tr>\n",
       "    <tr>\n",
       "      <th>50%</th>\n",
       "      <td>37.000000</td>\n",
       "      <td>1.784250e+05</td>\n",
       "      <td>10.000000</td>\n",
       "      <td>0.000000</td>\n",
       "      <td>0.000000</td>\n",
       "      <td>40.000000</td>\n",
       "    </tr>\n",
       "    <tr>\n",
       "      <th>75%</th>\n",
       "      <td>47.000000</td>\n",
       "      <td>2.376285e+05</td>\n",
       "      <td>13.000000</td>\n",
       "      <td>0.000000</td>\n",
       "      <td>0.000000</td>\n",
       "      <td>45.000000</td>\n",
       "    </tr>\n",
       "    <tr>\n",
       "      <th>max</th>\n",
       "      <td>90.000000</td>\n",
       "      <td>1.484705e+06</td>\n",
       "      <td>16.000000</td>\n",
       "      <td>99999.000000</td>\n",
       "      <td>4356.000000</td>\n",
       "      <td>99.000000</td>\n",
       "    </tr>\n",
       "  </tbody>\n",
       "</table>\n",
       "</div>"
      ],
      "text/plain": [
       "                Age        fnlwgt  EducationNum   CapitalGain   CapitalLoss  \\\n",
       "count  30162.000000  3.016200e+04  30162.000000  30162.000000  30162.000000   \n",
       "mean      38.437902  1.897938e+05     10.121312   1092.007858     88.372489   \n",
       "std       13.134665  1.056530e+05      2.549995   7406.346497    404.298370   \n",
       "min       17.000000  1.376900e+04      1.000000      0.000000      0.000000   \n",
       "25%       28.000000  1.176272e+05      9.000000      0.000000      0.000000   \n",
       "50%       37.000000  1.784250e+05     10.000000      0.000000      0.000000   \n",
       "75%       47.000000  2.376285e+05     13.000000      0.000000      0.000000   \n",
       "max       90.000000  1.484705e+06     16.000000  99999.000000   4356.000000   \n",
       "\n",
       "       HoursPerWeek  \n",
       "count  30162.000000  \n",
       "mean      40.931238  \n",
       "std       11.979984  \n",
       "min        1.000000  \n",
       "25%       40.000000  \n",
       "50%       40.000000  \n",
       "75%       45.000000  \n",
       "max       99.000000  "
      ]
     },
     "execution_count": 17,
     "metadata": {},
     "output_type": "execute_result"
    }
   ],
   "source": [
    "df.describe()"
   ]
  },
  {
   "cell_type": "code",
   "execution_count": 18,
   "metadata": {},
   "outputs": [],
   "source": [
    "df.drop(\"CapitalGain\", axis=1, inplace=True)\n",
    "df.drop(\"CapitalLoss\", axis=1, inplace=True)"
   ]
  },
  {
   "cell_type": "code",
   "execution_count": 19,
   "metadata": {},
   "outputs": [],
   "source": [
    "df = pd.get_dummies(df, columns=[\n",
    "    \"WorkClass\", \"Education\", \"MaritalStatus\", \"Occupation\", \"Relationship\",\n",
    "    \"Race\", \"Gender\", \"NativeCountry\",\n",
    "])"
   ]
  },
  {
   "cell_type": "code",
   "execution_count": 20,
   "metadata": {},
   "outputs": [
    {
     "data": {
      "text/plain": [
       "(30162, 102)"
      ]
     },
     "execution_count": 20,
     "metadata": {},
     "output_type": "execute_result"
    }
   ],
   "source": [
    "df.shape"
   ]
  },
  {
   "cell_type": "code",
   "execution_count": 21,
   "metadata": {},
   "outputs": [
    {
     "data": {
      "text/plain": [
       "0    22654\n",
       "1     7508\n",
       "dtype: int64"
      ]
     },
     "execution_count": 21,
     "metadata": {},
     "output_type": "execute_result"
    }
   ],
   "source": [
    "pd.value_counts(pd.Series(y_all))"
   ]
  },
  {
   "cell_type": "code",
   "execution_count": 22,
   "metadata": {},
   "outputs": [
    {
     "data": {
      "text/plain": [
       "Index(['Age', 'fnlwgt', 'EducationNum', 'HoursPerWeek',\n",
       "       'WorkClass_Federal-gov', 'WorkClass_Local-gov', 'WorkClass_Private',\n",
       "       'WorkClass_Self-emp-inc', 'WorkClass_Self-emp-not-inc',\n",
       "       'WorkClass_State-gov',\n",
       "       ...\n",
       "       'NativeCountry_Portugal', 'NativeCountry_Puerto-Rico',\n",
       "       'NativeCountry_Scotland', 'NativeCountry_South', 'NativeCountry_Taiwan',\n",
       "       'NativeCountry_Thailand', 'NativeCountry_Trinadad&Tobago',\n",
       "       'NativeCountry_United-States', 'NativeCountry_Vietnam',\n",
       "       'NativeCountry_Yugoslavia'],\n",
       "      dtype='object', length=102)"
      ]
     },
     "execution_count": 22,
     "metadata": {},
     "output_type": "execute_result"
    }
   ],
   "source": [
    "df.columns"
   ]
  },
  {
   "cell_type": "code",
   "execution_count": 23,
   "metadata": {},
   "outputs": [
    {
     "name": "stderr",
     "output_type": "stream",
     "text": [
      "/Users/var/anaconda/envs/pytorch/lib/python3.6/site-packages/sklearn/utils/validation.py:475: DataConversionWarning: Data with input dtype int64 was converted to float64 by StandardScaler.\n",
      "  warnings.warn(msg, DataConversionWarning)\n"
     ]
    }
   ],
   "source": [
    "standard_scaler_cols = [\"Age\", \"fnlwgt\", \"EducationNum\", \"HoursPerWeek\",]\n",
    "scaler = StandardScaler()\n",
    "vals = df[standard_scaler_cols].values\n",
    "scaled_x = scaler.fit_transform(vals)\n",
    "df[standard_scaler_cols] = scaled_x\n",
    "# for colname in standard_scaler_cols:\n",
    "#     x = df[colname].values.astype(float)\n",
    "#     scaled_x = scaler.fit(x)\n",
    "#     df[colname] = scaled_x"
   ]
  },
  {
   "cell_type": "code",
   "execution_count": 24,
   "metadata": {},
   "outputs": [
    {
     "data": {
      "text/html": [
       "<div>\n",
       "<style scoped>\n",
       "    .dataframe tbody tr th:only-of-type {\n",
       "        vertical-align: middle;\n",
       "    }\n",
       "\n",
       "    .dataframe tbody tr th {\n",
       "        vertical-align: top;\n",
       "    }\n",
       "\n",
       "    .dataframe thead th {\n",
       "        text-align: right;\n",
       "    }\n",
       "</style>\n",
       "<table border=\"1\" class=\"dataframe\">\n",
       "  <thead>\n",
       "    <tr style=\"text-align: right;\">\n",
       "      <th></th>\n",
       "      <th>Age</th>\n",
       "      <th>fnlwgt</th>\n",
       "      <th>EducationNum</th>\n",
       "      <th>HoursPerWeek</th>\n",
       "      <th>WorkClass_Federal-gov</th>\n",
       "      <th>WorkClass_Local-gov</th>\n",
       "      <th>WorkClass_Private</th>\n",
       "      <th>WorkClass_Self-emp-inc</th>\n",
       "      <th>WorkClass_Self-emp-not-inc</th>\n",
       "      <th>WorkClass_State-gov</th>\n",
       "      <th>...</th>\n",
       "      <th>NativeCountry_Portugal</th>\n",
       "      <th>NativeCountry_Puerto-Rico</th>\n",
       "      <th>NativeCountry_Scotland</th>\n",
       "      <th>NativeCountry_South</th>\n",
       "      <th>NativeCountry_Taiwan</th>\n",
       "      <th>NativeCountry_Thailand</th>\n",
       "      <th>NativeCountry_Trinadad&amp;Tobago</th>\n",
       "      <th>NativeCountry_United-States</th>\n",
       "      <th>NativeCountry_Vietnam</th>\n",
       "      <th>NativeCountry_Yugoslavia</th>\n",
       "    </tr>\n",
       "  </thead>\n",
       "  <tbody>\n",
       "    <tr>\n",
       "      <th>count</th>\n",
       "      <td>3.016200e+04</td>\n",
       "      <td>3.016200e+04</td>\n",
       "      <td>3.016200e+04</td>\n",
       "      <td>3.016200e+04</td>\n",
       "      <td>30162.000000</td>\n",
       "      <td>30162.000000</td>\n",
       "      <td>30162.000000</td>\n",
       "      <td>30162.000000</td>\n",
       "      <td>30162.000000</td>\n",
       "      <td>30162.000000</td>\n",
       "      <td>...</td>\n",
       "      <td>30162.000000</td>\n",
       "      <td>30162.000000</td>\n",
       "      <td>30162.000000</td>\n",
       "      <td>30162.000000</td>\n",
       "      <td>30162.000000</td>\n",
       "      <td>30162.000000</td>\n",
       "      <td>30162.000000</td>\n",
       "      <td>30162.000000</td>\n",
       "      <td>30162.000000</td>\n",
       "      <td>30162.000000</td>\n",
       "    </tr>\n",
       "    <tr>\n",
       "      <th>mean</th>\n",
       "      <td>1.535952e-16</td>\n",
       "      <td>1.684365e-17</td>\n",
       "      <td>-3.053058e-16</td>\n",
       "      <td>-2.833973e-16</td>\n",
       "      <td>0.031265</td>\n",
       "      <td>0.068530</td>\n",
       "      <td>0.738877</td>\n",
       "      <td>0.035608</td>\n",
       "      <td>0.082853</td>\n",
       "      <td>0.042404</td>\n",
       "      <td>...</td>\n",
       "      <td>0.001127</td>\n",
       "      <td>0.003614</td>\n",
       "      <td>0.000365</td>\n",
       "      <td>0.002354</td>\n",
       "      <td>0.001392</td>\n",
       "      <td>0.000564</td>\n",
       "      <td>0.000597</td>\n",
       "      <td>0.911876</td>\n",
       "      <td>0.002122</td>\n",
       "      <td>0.000530</td>\n",
       "    </tr>\n",
       "    <tr>\n",
       "      <th>std</th>\n",
       "      <td>1.000017e+00</td>\n",
       "      <td>1.000017e+00</td>\n",
       "      <td>1.000017e+00</td>\n",
       "      <td>1.000017e+00</td>\n",
       "      <td>0.174035</td>\n",
       "      <td>0.252657</td>\n",
       "      <td>0.439254</td>\n",
       "      <td>0.185313</td>\n",
       "      <td>0.275664</td>\n",
       "      <td>0.201513</td>\n",
       "      <td>...</td>\n",
       "      <td>0.033556</td>\n",
       "      <td>0.060007</td>\n",
       "      <td>0.019094</td>\n",
       "      <td>0.048461</td>\n",
       "      <td>0.037291</td>\n",
       "      <td>0.023734</td>\n",
       "      <td>0.024422</td>\n",
       "      <td>0.283480</td>\n",
       "      <td>0.046016</td>\n",
       "      <td>0.023026</td>\n",
       "    </tr>\n",
       "    <tr>\n",
       "      <th>min</th>\n",
       "      <td>-1.632189e+00</td>\n",
       "      <td>-1.666094e+00</td>\n",
       "      <td>-3.577051e+00</td>\n",
       "      <td>-3.333218e+00</td>\n",
       "      <td>0.000000</td>\n",
       "      <td>0.000000</td>\n",
       "      <td>0.000000</td>\n",
       "      <td>0.000000</td>\n",
       "      <td>0.000000</td>\n",
       "      <td>0.000000</td>\n",
       "      <td>...</td>\n",
       "      <td>0.000000</td>\n",
       "      <td>0.000000</td>\n",
       "      <td>0.000000</td>\n",
       "      <td>0.000000</td>\n",
       "      <td>0.000000</td>\n",
       "      <td>0.000000</td>\n",
       "      <td>0.000000</td>\n",
       "      <td>0.000000</td>\n",
       "      <td>0.000000</td>\n",
       "      <td>0.000000</td>\n",
       "    </tr>\n",
       "    <tr>\n",
       "      <th>25%</th>\n",
       "      <td>-7.946967e-01</td>\n",
       "      <td>-6.830644e-01</td>\n",
       "      <td>-4.397382e-01</td>\n",
       "      <td>-7.773411e-02</td>\n",
       "      <td>0.000000</td>\n",
       "      <td>0.000000</td>\n",
       "      <td>0.000000</td>\n",
       "      <td>0.000000</td>\n",
       "      <td>0.000000</td>\n",
       "      <td>0.000000</td>\n",
       "      <td>...</td>\n",
       "      <td>0.000000</td>\n",
       "      <td>0.000000</td>\n",
       "      <td>0.000000</td>\n",
       "      <td>0.000000</td>\n",
       "      <td>0.000000</td>\n",
       "      <td>0.000000</td>\n",
       "      <td>0.000000</td>\n",
       "      <td>1.000000</td>\n",
       "      <td>0.000000</td>\n",
       "      <td>0.000000</td>\n",
       "    </tr>\n",
       "    <tr>\n",
       "      <th>50%</th>\n",
       "      <td>-1.094756e-01</td>\n",
       "      <td>-1.076072e-01</td>\n",
       "      <td>-4.757405e-02</td>\n",
       "      <td>-7.773411e-02</td>\n",
       "      <td>0.000000</td>\n",
       "      <td>0.000000</td>\n",
       "      <td>1.000000</td>\n",
       "      <td>0.000000</td>\n",
       "      <td>0.000000</td>\n",
       "      <td>0.000000</td>\n",
       "      <td>...</td>\n",
       "      <td>0.000000</td>\n",
       "      <td>0.000000</td>\n",
       "      <td>0.000000</td>\n",
       "      <td>0.000000</td>\n",
       "      <td>0.000000</td>\n",
       "      <td>0.000000</td>\n",
       "      <td>0.000000</td>\n",
       "      <td>1.000000</td>\n",
       "      <td>0.000000</td>\n",
       "      <td>0.000000</td>\n",
       "    </tr>\n",
       "    <tr>\n",
       "      <th>75%</th>\n",
       "      <td>6.518811e-01</td>\n",
       "      <td>4.527602e-01</td>\n",
       "      <td>1.128918e+00</td>\n",
       "      <td>3.396356e-01</td>\n",
       "      <td>0.000000</td>\n",
       "      <td>0.000000</td>\n",
       "      <td>1.000000</td>\n",
       "      <td>0.000000</td>\n",
       "      <td>0.000000</td>\n",
       "      <td>0.000000</td>\n",
       "      <td>...</td>\n",
       "      <td>0.000000</td>\n",
       "      <td>0.000000</td>\n",
       "      <td>0.000000</td>\n",
       "      <td>0.000000</td>\n",
       "      <td>0.000000</td>\n",
       "      <td>0.000000</td>\n",
       "      <td>0.000000</td>\n",
       "      <td>1.000000</td>\n",
       "      <td>0.000000</td>\n",
       "      <td>0.000000</td>\n",
       "    </tr>\n",
       "    <tr>\n",
       "      <th>max</th>\n",
       "      <td>3.925715e+00</td>\n",
       "      <td>1.225647e+01</td>\n",
       "      <td>2.305411e+00</td>\n",
       "      <td>4.847229e+00</td>\n",
       "      <td>1.000000</td>\n",
       "      <td>1.000000</td>\n",
       "      <td>1.000000</td>\n",
       "      <td>1.000000</td>\n",
       "      <td>1.000000</td>\n",
       "      <td>1.000000</td>\n",
       "      <td>...</td>\n",
       "      <td>1.000000</td>\n",
       "      <td>1.000000</td>\n",
       "      <td>1.000000</td>\n",
       "      <td>1.000000</td>\n",
       "      <td>1.000000</td>\n",
       "      <td>1.000000</td>\n",
       "      <td>1.000000</td>\n",
       "      <td>1.000000</td>\n",
       "      <td>1.000000</td>\n",
       "      <td>1.000000</td>\n",
       "    </tr>\n",
       "  </tbody>\n",
       "</table>\n",
       "<p>8 rows × 102 columns</p>\n",
       "</div>"
      ],
      "text/plain": [
       "                Age        fnlwgt  EducationNum  HoursPerWeek  \\\n",
       "count  3.016200e+04  3.016200e+04  3.016200e+04  3.016200e+04   \n",
       "mean   1.535952e-16  1.684365e-17 -3.053058e-16 -2.833973e-16   \n",
       "std    1.000017e+00  1.000017e+00  1.000017e+00  1.000017e+00   \n",
       "min   -1.632189e+00 -1.666094e+00 -3.577051e+00 -3.333218e+00   \n",
       "25%   -7.946967e-01 -6.830644e-01 -4.397382e-01 -7.773411e-02   \n",
       "50%   -1.094756e-01 -1.076072e-01 -4.757405e-02 -7.773411e-02   \n",
       "75%    6.518811e-01  4.527602e-01  1.128918e+00  3.396356e-01   \n",
       "max    3.925715e+00  1.225647e+01  2.305411e+00  4.847229e+00   \n",
       "\n",
       "       WorkClass_Federal-gov  WorkClass_Local-gov  WorkClass_Private  \\\n",
       "count           30162.000000         30162.000000       30162.000000   \n",
       "mean                0.031265             0.068530           0.738877   \n",
       "std                 0.174035             0.252657           0.439254   \n",
       "min                 0.000000             0.000000           0.000000   \n",
       "25%                 0.000000             0.000000           0.000000   \n",
       "50%                 0.000000             0.000000           1.000000   \n",
       "75%                 0.000000             0.000000           1.000000   \n",
       "max                 1.000000             1.000000           1.000000   \n",
       "\n",
       "       WorkClass_Self-emp-inc  WorkClass_Self-emp-not-inc  \\\n",
       "count            30162.000000                30162.000000   \n",
       "mean                 0.035608                    0.082853   \n",
       "std                  0.185313                    0.275664   \n",
       "min                  0.000000                    0.000000   \n",
       "25%                  0.000000                    0.000000   \n",
       "50%                  0.000000                    0.000000   \n",
       "75%                  0.000000                    0.000000   \n",
       "max                  1.000000                    1.000000   \n",
       "\n",
       "       WorkClass_State-gov            ...             NativeCountry_Portugal  \\\n",
       "count         30162.000000            ...                       30162.000000   \n",
       "mean              0.042404            ...                           0.001127   \n",
       "std               0.201513            ...                           0.033556   \n",
       "min               0.000000            ...                           0.000000   \n",
       "25%               0.000000            ...                           0.000000   \n",
       "50%               0.000000            ...                           0.000000   \n",
       "75%               0.000000            ...                           0.000000   \n",
       "max               1.000000            ...                           1.000000   \n",
       "\n",
       "       NativeCountry_Puerto-Rico  NativeCountry_Scotland  NativeCountry_South  \\\n",
       "count               30162.000000            30162.000000         30162.000000   \n",
       "mean                    0.003614                0.000365             0.002354   \n",
       "std                     0.060007                0.019094             0.048461   \n",
       "min                     0.000000                0.000000             0.000000   \n",
       "25%                     0.000000                0.000000             0.000000   \n",
       "50%                     0.000000                0.000000             0.000000   \n",
       "75%                     0.000000                0.000000             0.000000   \n",
       "max                     1.000000                1.000000             1.000000   \n",
       "\n",
       "       NativeCountry_Taiwan  NativeCountry_Thailand  \\\n",
       "count          30162.000000            30162.000000   \n",
       "mean               0.001392                0.000564   \n",
       "std                0.037291                0.023734   \n",
       "min                0.000000                0.000000   \n",
       "25%                0.000000                0.000000   \n",
       "50%                0.000000                0.000000   \n",
       "75%                0.000000                0.000000   \n",
       "max                1.000000                1.000000   \n",
       "\n",
       "       NativeCountry_Trinadad&Tobago  NativeCountry_United-States  \\\n",
       "count                   30162.000000                 30162.000000   \n",
       "mean                        0.000597                     0.911876   \n",
       "std                         0.024422                     0.283480   \n",
       "min                         0.000000                     0.000000   \n",
       "25%                         0.000000                     1.000000   \n",
       "50%                         0.000000                     1.000000   \n",
       "75%                         0.000000                     1.000000   \n",
       "max                         1.000000                     1.000000   \n",
       "\n",
       "       NativeCountry_Vietnam  NativeCountry_Yugoslavia  \n",
       "count           30162.000000              30162.000000  \n",
       "mean                0.002122                  0.000530  \n",
       "std                 0.046016                  0.023026  \n",
       "min                 0.000000                  0.000000  \n",
       "25%                 0.000000                  0.000000  \n",
       "50%                 0.000000                  0.000000  \n",
       "75%                 0.000000                  0.000000  \n",
       "max                 1.000000                  1.000000  \n",
       "\n",
       "[8 rows x 102 columns]"
      ]
     },
     "execution_count": 24,
     "metadata": {},
     "output_type": "execute_result"
    }
   ],
   "source": [
    "df.describe()"
   ]
  },
  {
   "cell_type": "code",
   "execution_count": 25,
   "metadata": {},
   "outputs": [],
   "source": [
    "X_train, X_test, y_train, y_test = train_test_split(\n",
    "    df, y_all, test_size=0.25, stratify=y_all, random_state=rs,\n",
    ")"
   ]
  },
  {
   "cell_type": "code",
   "execution_count": 26,
   "metadata": {},
   "outputs": [
    {
     "data": {
      "text/plain": [
       "pandas.core.frame.DataFrame"
      ]
     },
     "execution_count": 26,
     "metadata": {},
     "output_type": "execute_result"
    }
   ],
   "source": [
    "type(X_train)"
   ]
  },
  {
   "cell_type": "code",
   "execution_count": 27,
   "metadata": {},
   "outputs": [],
   "source": [
    "class SingleNet(nn.Module):\n",
    "\n",
    "    def __init__(self, input_size):\n",
    "        super(SingleNet, self).__init__()\n",
    "\n",
    "        self.fc1 = nn.Linear(input_size, 8)\n",
    "#         self.dout = nn.Dropout(0.2)\n",
    "#         self.fc2 = nn.Linear(50, 100)\n",
    "#         self.prelu = nn.PReLU(1)\n",
    "        self.lrelu = LeakyReLU()\n",
    "        self.out = nn.Linear(8, 1)\n",
    "        self.out_act = Sigmoid()\n",
    "\n",
    "    def forward(self, x):\n",
    "        x = self.lrelu(self.fc1(x))\n",
    "        x = self.out_act(self.out(x))\n",
    "        return x"
   ]
  },
  {
   "cell_type": "code",
   "execution_count": 28,
   "metadata": {},
   "outputs": [],
   "source": [
    "class EncodingNet(nn.Module):\n",
    "    \n",
    "    def __init__(self, input_size):\n",
    "        super(Net, self).__init__()\n",
    "        self.fc = nn.Linear(input_size, 8)\n",
    "        self.out = nn.Linear(8, 8)\n",
    "        self.lrelu = LeakyReLU()\n",
    "        \n",
    "    def forward(self, x):\n",
    "        x = self.lrelu(self.fc(x))\n",
    "        x = self.lrelu(self.out(x))\n",
    "        return x"
   ]
  },
  {
   "cell_type": "code",
   "execution_count": 29,
   "metadata": {},
   "outputs": [],
   "source": [
    "class OneNet(nn.Module):\n",
    "    \n",
    "    def __init__(self, input_size):\n",
    "        self.fc = nn.Linear(input_size, 1)\n",
    "        \n",
    "    def forward(self, x):\n",
    "        x = Sigmoid(self.fc(x))\n",
    "        return x"
   ]
  },
  {
   "cell_type": "code",
   "execution_count": 30,
   "metadata": {},
   "outputs": [],
   "source": [
    "class Net(nn.Module):\n",
    "    \n",
    "    def __init__(self, input_size):\n",
    "        super().__init__()\n",
    "        self.fc1 = nn.Linear(input_size, 50)\n",
    "        self.relu1 = nn.ReLU()\n",
    "        self.dout = nn.Dropout(0.2)\n",
    "        self.fc2 = nn.Linear(50, 100)\n",
    "        self.prelu = nn.PReLU(1)\n",
    "        self.out = nn.Linear(100, 1)\n",
    "        self.out_act = nn.Sigmoid()\n",
    "        \n",
    "    def forward(self, input_):\n",
    "        a1 = self.fc1(input_)\n",
    "        h1 = self.relu1(a1)\n",
    "        dout = self.dout(h1)\n",
    "        a2 = self.fc2(dout)\n",
    "        h2 = self.prelu(a2)\n",
    "        a3 = self.out(h2)\n",
    "        y = self.out_act(a3)\n",
    "        return y"
   ]
  },
  {
   "cell_type": "code",
   "execution_count": 31,
   "metadata": {},
   "outputs": [],
   "source": [
    "input_size = X_train.shape[1]\n",
    "classifier = SingleNet(input_size)\n",
    "opt = optim.Adam(classifier.parameters(), lr=0.001, betas=(0.9, 0.999))\n",
    "criterion = nn.BCELoss()"
   ]
  },
  {
   "cell_type": "code",
   "execution_count": 32,
   "metadata": {},
   "outputs": [],
   "source": [
    "if torch.cuda.is_available():\n",
    "    device=\"cuda\"\n",
    "    torch.set_default_tensor_type('torch.cuda.FloatTensor')\n",
    "else:\n",
    "    device=\"cpu\"\n",
    "    torch.set_default_tensor_type('torch.FloatTensor')"
   ]
  },
  {
   "cell_type": "code",
   "execution_count": 33,
   "metadata": {},
   "outputs": [],
   "source": [
    "def train_epoch(model, X, Y, opt, criterion, batch_size=64):\n",
    "    model.train()\n",
    "    losses = []\n",
    "    acc = []\n",
    "    for beg_i in range(0, X.shape[0], batch_size):\n",
    "        x_batch = X.iloc[beg_i:beg_i + batch_size].values\n",
    "        y_batch = Y[beg_i:beg_i + batch_size]\n",
    "        x_batch = torch.from_numpy(x_batch).to(device).float()\n",
    "        y_batch = torch.from_numpy(y_batch).to(device).float()\n",
    "        \n",
    "        opt.zero_grad()\n",
    "        # (1) Forward\n",
    "        y_hat = model(x_batch)\n",
    "        # (2) Compute diff\n",
    "        loss = criterion(y_hat, y_batch)\n",
    "        # (3) Compute gradients\n",
    "        loss.backward()\n",
    "        # (4) update weights\n",
    "        opt.step()        \n",
    "        \n",
    "        losses.append(loss.item())\n",
    "        \n",
    "        preds = torch.round(y_hat.data).squeeze(1).numpy()\n",
    "        accuracy = sum(preds == y_batch).numpy()/len(y_batch)\n",
    "\n",
    "        acc.append(accuracy)\n",
    "    return losses, acc"
   ]
  },
  {
   "cell_type": "code",
   "execution_count": 34,
   "metadata": {},
   "outputs": [],
   "source": [
    "def validate_epoch(model, X, Y, criterion, batch_size=64):\n",
    "    model.eval()\n",
    "    losses = []\n",
    "    acc = []\n",
    "    for beg_i in range(0, X.shape[0], batch_size):\n",
    "        with torch.no_grad():\n",
    "            x_batch = X.iloc[beg_i:beg_i + batch_size].values\n",
    "            y_batch = Y[beg_i:beg_i + batch_size]\n",
    "            x_batch = torch.from_numpy(x_batch).to(device).float()\n",
    "            y_batch = torch.from_numpy(y_batch).to(device).float()\n",
    "\n",
    "            y_hat = model(x_batch)\n",
    "            # (2) Compute diff\n",
    "            loss = criterion(y_hat, y_batch)\n",
    "            losses.append(loss.item())\n",
    "\n",
    "            preds = torch.round(y_hat.data).squeeze(1).numpy()\n",
    "            accuracy = sum(preds == y_batch).numpy()/len(y_batch)\n",
    "        \n",
    "        acc.append(accuracy)\n",
    "    return losses, acc"
   ]
  },
  {
   "cell_type": "code",
   "execution_count": 35,
   "metadata": {},
   "outputs": [
    {
     "name": "stderr",
     "output_type": "stream",
     "text": [
      "/Users/var/anaconda/envs/pytorch/lib/python3.6/site-packages/torch/nn/functional.py:1474: UserWarning: Using a target size (torch.Size([64])) that is different to the input size (torch.Size([64, 1])) is deprecated. Please ensure they have the same size.\n",
      "  \"Please ensure they have the same size.\".format(target.size(), input.size()))\n",
      "/Users/var/anaconda/envs/pytorch/lib/python3.6/site-packages/torch/nn/functional.py:1474: UserWarning: Using a target size (torch.Size([29])) that is different to the input size (torch.Size([29, 1])) is deprecated. Please ensure they have the same size.\n",
      "  \"Please ensure they have the same size.\".format(target.size(), input.size()))\n",
      "/Users/var/anaconda/envs/pytorch/lib/python3.6/site-packages/torch/nn/functional.py:1474: UserWarning: Using a target size (torch.Size([53])) that is different to the input size (torch.Size([53, 1])) is deprecated. Please ensure they have the same size.\n",
      "  \"Please ensure they have the same size.\".format(target.size(), input.size()))\n"
     ]
    },
    {
     "name": "stdout",
     "output_type": "stream",
     "text": [
      "Epoch: 0 Loss: 0.46018599857718256 Accuracy: 0.7913485656536139\n",
      "Test Epoch: 0 Loss: 0.36187617720688803 Accuracy: 0.8278726614966421\n",
      "Epoch: 1 Loss: 0.36312497104123487 Accuracy: 0.8265710232807325\n",
      "Test Epoch: 1 Loss: 0.3516854205626552 Accuracy: 0.8340961784457946\n",
      "Epoch: 2 Loss: 0.3580667464073095 Accuracy: 0.8303227888174557\n",
      "Test Epoch: 2 Loss: 0.3485037032830513 Accuracy: 0.8358175767508794\n",
      "Epoch: 3 Loss: 0.3555833489376273 Accuracy: 0.8328828170660433\n",
      "Test Epoch: 3 Loss: 0.34678545215372314 Accuracy: 0.8373016269587464\n",
      "Epoch: 4 Loss: 0.35380739663953836 Accuracy: 0.8342952464445743\n",
      "Test Epoch: 4 Loss: 0.3454899025165429 Accuracy: 0.8382285337384074\n",
      "Epoch: 5 Loss: 0.3521721256991564 Accuracy: 0.8354869837327099\n",
      "Test Epoch: 5 Loss: 0.3443232235514512 Accuracy: 0.8387581947553566\n",
      "Epoch: 6 Loss: 0.3506268959934429 Accuracy: 0.8368552746931619\n",
      "Test Epoch: 6 Loss: 0.3433879339846514 Accuracy: 0.8401098297089862\n",
      "Epoch: 7 Loss: 0.3492543781544529 Accuracy: 0.8372083820377947\n",
      "Test Epoch: 7 Loss: 0.34251744426408054 Accuracy: 0.8399774144547489\n",
      "Epoch: 8 Loss: 0.34801838437547794 Accuracy: 0.8372966588739529\n",
      "Test Epoch: 8 Loss: 0.34180126743296446 Accuracy: 0.8397125839462743\n",
      "Epoch: 9 Loss: 0.34695374048025596 Accuracy: 0.8377821814728229\n",
      "Test Epoch: 9 Loss: 0.3412817311236414 Accuracy: 0.8399774144547489\n",
      "Epoch: 10 Loss: 0.34603706519987626 Accuracy: 0.8381352888174557\n",
      "Test Epoch: 10 Loss: 0.3408504862148883 Accuracy: 0.84090432123441\n",
      "Epoch: 11 Loss: 0.3452003335969596 Accuracy: 0.8393270261055913\n",
      "Test Epoch: 11 Loss: 0.340473678531283 Accuracy: 0.84090432123441\n",
      "Epoch: 12 Loss: 0.3444352917752023 Accuracy: 0.8399008255406195\n",
      "Test Epoch: 12 Loss: 0.3402084133635133 Accuracy: 0.8418587104253278\n",
      "Epoch: 13 Loss: 0.34377694020500293 Accuracy: 0.8403422097214105\n",
      "Test Epoch: 13 Loss: 0.3400211764846818 Accuracy: 0.8422559561880396\n",
      "Epoch: 14 Loss: 0.34321079074831334 Accuracy: 0.841048424410676\n",
      "Test Epoch: 14 Loss: 0.3399155046475136 Accuracy: 0.842388371442277\n",
      "Epoch: 15 Loss: 0.3426900856238974 Accuracy: 0.8417987775180207\n",
      "Test Epoch: 15 Loss: 0.33984437824810965 Accuracy: 0.8434476934761752\n",
      "Epoch: 16 Loss: 0.3422194046657638 Accuracy: 0.8412691165010715\n",
      "Test Epoch: 16 Loss: 0.3398513152437695 Accuracy: 0.8425207866965142\n",
      "Epoch: 17 Loss: 0.34179955384152083 Accuracy: 0.8413132549191505\n",
      "Test Epoch: 17 Loss: 0.3398569284354226 Accuracy: 0.8425207866965142\n",
      "Epoch: 18 Loss: 0.3414173425927674 Accuracy: 0.8415780854276251\n",
      "Test Epoch: 18 Loss: 0.3398712456731473 Accuracy: 0.842388371442277\n",
      "Epoch: 19 Loss: 0.34106004722205935 Accuracy: 0.8417987775180207\n",
      "Test Epoch: 19 Loss: 0.3399282553690975 Accuracy: 0.8422559561880396\n",
      "Epoch: 20 Loss: 0.3407351923948627 Accuracy: 0.8421077464445743\n",
      "Test Epoch: 20 Loss: 0.34001818223524904 Accuracy: 0.842388371442277\n",
      "Epoch: 21 Loss: 0.34044508299248366 Accuracy: 0.8420194696084161\n",
      "Test Epoch: 21 Loss: 0.3400792863409398 Accuracy: 0.8425207866965142\n",
      "Epoch: 22 Loss: 0.34017677558849085 Accuracy: 0.8420636080264952\n",
      "Test Epoch: 22 Loss: 0.34010158340304586 Accuracy: 0.8429180324592261\n",
      "Epoch: 23 Loss: 0.339904939092822 Accuracy: 0.8420636080264952\n",
      "Test Epoch: 23 Loss: 0.3401424790085372 Accuracy: 0.8430504477134634\n",
      "Epoch: 24 Loss: 0.3396599065870215 Accuracy: 0.8422401616988116\n",
      "Test Epoch: 24 Loss: 0.34021417430396805 Accuracy: 0.8426532019507516\n"
     ]
    }
   ],
   "source": [
    "e_losses = []\n",
    "e_accs = []\n",
    "val_losses = []\n",
    "val_accs = []\n",
    "num_epochs = 25\n",
    "for e in range(num_epochs):\n",
    "    e_loss, e_acc = train_epoch(classifier, X_train, y_train, opt, criterion)\n",
    "    print('Epoch: {} Loss: {} Accuracy: {}'.format(e, np.mean(e_loss), np.mean(e_acc)))\n",
    "    e_losses.append(np.mean(e_loss))\n",
    "    e_accs.append(np.mean(e_acc))\n",
    "    val_loss, val_acc = validate_epoch(classifier, X_test, y_test, criterion)\n",
    "    print('Test Epoch: {} Loss: {} Accuracy: {}'.format(e, np.mean(val_loss), np.mean(val_acc)))\n",
    "    val_losses.append(np.mean(val_loss))\n",
    "    val_accs.append(np.mean(val_acc))"
   ]
  },
  {
   "cell_type": "code",
   "execution_count": 36,
   "metadata": {},
   "outputs": [
    {
     "data": {
      "text/plain": [
       "[<matplotlib.lines.Line2D at 0x10c2c4588>]"
      ]
     },
     "execution_count": 36,
     "metadata": {},
     "output_type": "execute_result"
    },
    {
     "data": {
      "image/png": "[encoded data removed]",
      "text/plain": [
       "<Figure size 720x720 with 4 Axes>"
      ]
     },
     "metadata": {},
     "output_type": "display_data"
    }
   ],
   "source": [
    "plt.figure(figsize=(10,10))\n",
    "plt.subplot(221)\n",
    "plt.plot(e_losses)\n",
    "plt.subplot(222)\n",
    "plt.plot(e_acc)\n",
    "plt.subplot(223)\n",
    "plt.plot(val_losses)\n",
    "plt.subplot(224)\n",
    "plt.plot(val_acc)"
   ]
  },
  {
   "cell_type": "markdown",
   "metadata": {},
   "source": [
    "# Adversary"
   ]
  },
  {
   "cell_type": "code",
   "execution_count": 37,
   "metadata": {},
   "outputs": [],
   "source": [
    "adv_df = df.copy()"
   ]
  },
  {
   "cell_type": "code",
   "execution_count": 38,
   "metadata": {},
   "outputs": [],
   "source": [
    "adv_df.drop(\"Gender_Female\", axis=1, inplace=True)\n",
    "adv_df.drop(\"Gender_Male\", axis=1, inplace=True)"
   ]
  },
  {
   "cell_type": "code",
   "execution_count": 39,
   "metadata": {},
   "outputs": [],
   "source": [
    "advX_train, advX_test, a_train, a_test = train_test_split(\n",
    "    adv_df, sensitive_all, test_size=0.25, stratify=sensitive_all, random_state=rs,\n",
    ")"
   ]
  },
  {
   "cell_type": "code",
   "execution_count": 40,
   "metadata": {},
   "outputs": [
    {
     "data": {
      "text/plain": [
       "(22621,)"
      ]
     },
     "execution_count": 40,
     "metadata": {},
     "output_type": "execute_result"
    }
   ],
   "source": [
    "a_train.shape"
   ]
  },
  {
   "cell_type": "code",
   "execution_count": 41,
   "metadata": {},
   "outputs": [],
   "source": [
    "input_size = advX_train.shape[1]\n",
    "adversary = SingleNet(input_size)\n",
    "advopt = optim.Adam(adversary.parameters(), lr=0.001, betas=(0.9, 0.999))\n",
    "advcriterion = nn.BCELoss()"
   ]
  },
  {
   "cell_type": "code",
   "execution_count": 42,
   "metadata": {},
   "outputs": [],
   "source": [
    "if torch.cuda.is_available():\n",
    "    device=\"cuda\"\n",
    "    torch.set_default_tensor_type('torch.cuda.FloatTensor')\n",
    "else:\n",
    "    device=\"cpu\"\n",
    "    torch.set_default_tensor_type('torch.FloatTensor')"
   ]
  },
  {
   "cell_type": "code",
   "execution_count": 43,
   "metadata": {},
   "outputs": [
    {
     "name": "stderr",
     "output_type": "stream",
     "text": [
      "/Users/var/anaconda/envs/pytorch/lib/python3.6/site-packages/torch/nn/functional.py:1474: UserWarning: Using a target size (torch.Size([64])) that is different to the input size (torch.Size([64, 1])) is deprecated. Please ensure they have the same size.\n",
      "  \"Please ensure they have the same size.\".format(target.size(), input.size()))\n",
      "/Users/var/anaconda/envs/pytorch/lib/python3.6/site-packages/torch/nn/functional.py:1474: UserWarning: Using a target size (torch.Size([29])) that is different to the input size (torch.Size([29, 1])) is deprecated. Please ensure they have the same size.\n",
      "  \"Please ensure they have the same size.\".format(target.size(), input.size()))\n",
      "/Users/var/anaconda/envs/pytorch/lib/python3.6/site-packages/torch/nn/functional.py:1474: UserWarning: Using a target size (torch.Size([53])) that is different to the input size (torch.Size([53, 1])) is deprecated. Please ensure they have the same size.\n",
      "  \"Please ensure they have the same size.\".format(target.size(), input.size()))\n"
     ]
    },
    {
     "name": "stdout",
     "output_type": "stream",
     "text": [
      "Epoch: 0 Loss: 0.5270174274505195 Accuracy: 0.7168946644262615\n",
      "Test Epoch: 0 Loss: 0.36573881681187675 Accuracy: 0.8326171250399744\n",
      "Epoch: 1 Loss: 0.3275177652216227 Accuracy: 0.8418505260081824\n",
      "Test Epoch: 1 Loss: 0.30718901677656985 Accuracy: 0.8491965142308923\n",
      "Epoch: 2 Loss: 0.299763841817608 Accuracy: 0.8483038671342295\n",
      "Test Epoch: 2 Loss: 0.29704090649798764 Accuracy: 0.8493289294851295\n",
      "Epoch: 3 Loss: 0.29317553964375104 Accuracy: 0.849495604422365\n",
      "Test Epoch: 3 Loss: 0.2940826527142929 Accuracy: 0.8502558362647905\n",
      "Epoch: 4 Loss: 0.2905849629623742 Accuracy: 0.8499811270212351\n",
      "Test Epoch: 4 Loss: 0.29291221865658035 Accuracy: 0.8490640989766549\n",
      "Epoch: 5 Loss: 0.2892524652646086 Accuracy: 0.8503783727839469\n",
      "Test Epoch: 5 Loss: 0.29236645226256325 Accuracy: 0.8487992684681803\n",
      "Epoch: 6 Loss: 0.28845844375716767 Accuracy: 0.8505990648743424\n",
      "Test Epoch: 6 Loss: 0.292094984170744 Accuracy: 0.8487992684681803\n",
      "Epoch: 7 Loss: 0.2879433638211024 Accuracy: 0.8505990648743424\n",
      "Test Epoch: 7 Loss: 0.29195661451351845 Accuracy: 0.8492239966421491\n",
      "Epoch: 8 Loss: 0.28758629714533435 Accuracy: 0.8509080338008961\n",
      "Test Epoch: 8 Loss: 0.2918855014999034 Accuracy: 0.8488267508794372\n",
      "Epoch: 9 Loss: 0.2873279660687608 Accuracy: 0.8506873417105006\n",
      "Test Epoch: 9 Loss: 0.29185246853000024 Accuracy: 0.8486943356251999\n",
      "Epoch: 10 Loss: 0.2871346785187048 Accuracy: 0.8507314801285797\n",
      "Test Epoch: 10 Loss: 0.29183970896874445 Accuracy: 0.8482970898624881\n",
      "Epoch: 11 Loss: 0.28698611890865583 Accuracy: 0.8509963106370543\n",
      "Test Epoch: 11 Loss: 0.29183873748880323 Accuracy: 0.8484295051167253\n",
      "Epoch: 12 Loss: 0.28686813551322216 Accuracy: 0.8509963106370543\n",
      "Test Epoch: 12 Loss: 0.2918462393394971 Accuracy: 0.8482970898624881\n",
      "Epoch: 13 Loss: 0.2867737863275964 Accuracy: 0.8509963106370543\n",
      "Test Epoch: 13 Loss: 0.2918547586364261 Accuracy: 0.8482970898624881\n",
      "Epoch: 14 Loss: 0.28669473415209074 Accuracy: 0.8511287258912915\n",
      "Test Epoch: 14 Loss: 0.2918661950250803 Accuracy: 0.8482970898624881\n",
      "Epoch: 15 Loss: 0.28662911777274086 Accuracy: 0.8510404490551333\n",
      "Test Epoch: 15 Loss: 0.29187711315639947 Accuracy: 0.8482970898624881\n",
      "Epoch: 16 Loss: 0.28657170494565853 Accuracy: 0.8510845874732125\n",
      "Test Epoch: 16 Loss: 0.29189105066707577 Accuracy: 0.8481646746082507\n",
      "Epoch: 17 Loss: 0.28652289833894556 Accuracy: 0.8511287258912915\n",
      "Test Epoch: 17 Loss: 0.2919014298309714 Accuracy: 0.8482970898624881\n",
      "Epoch: 18 Loss: 0.2864791688609258 Accuracy: 0.8510845874732125\n",
      "Test Epoch: 18 Loss: 0.29191261795112644 Accuracy: 0.8482970898624881\n",
      "Epoch: 19 Loss: 0.2864411371407536 Accuracy: 0.8511287258912915\n",
      "Test Epoch: 19 Loss: 0.2919252797708673 Accuracy: 0.8482970898624881\n",
      "Epoch: 20 Loss: 0.28640690580599726 Accuracy: 0.8512170027274497\n",
      "Test Epoch: 20 Loss: 0.2919351842443822 Accuracy: 0.8481646746082507\n",
      "Epoch: 21 Loss: 0.2863729827653217 Accuracy: 0.8512611411455289\n",
      "Test Epoch: 21 Loss: 0.2919449330133907 Accuracy: 0.8481646746082507\n",
      "Epoch: 22 Loss: 0.2863420873964574 Accuracy: 0.8512611411455289\n",
      "Test Epoch: 22 Loss: 0.29195421567912827 Accuracy: 0.8482970898624881\n",
      "Epoch: 23 Loss: 0.28631495642291627 Accuracy: 0.8512611411455289\n",
      "Test Epoch: 23 Loss: 0.291960704250861 Accuracy: 0.8484295051167253\n",
      "Epoch: 24 Loss: 0.2862903671497006 Accuracy: 0.8513052795636079\n",
      "Test Epoch: 24 Loss: 0.2919653118666956 Accuracy: 0.8481646746082507\n"
     ]
    }
   ],
   "source": [
    "advTrain_losses = []\n",
    "advTrain_accs = []\n",
    "advVal_losses = []\n",
    "advVal_accs = []\n",
    "num_epochs = 25\n",
    "for e in range(num_epochs):\n",
    "    advTrain_loss, advTrain_acc = train_epoch(adversary, advX_train, a_train, advopt, advcriterion)\n",
    "    print('Epoch: {} Loss: {} Accuracy: {}'.format(e, np.mean(advTrain_loss), np.mean(advTrain_acc)))\n",
    "    advTrain_losses.append(np.mean(advTrain_loss))\n",
    "    advTrain_accs.append(np.mean(advTrain_acc))\n",
    "    advVal_loss, advVal_acc = validate_epoch(adversary, advX_test, a_test, advcriterion)\n",
    "    print('Test Epoch: {} Loss: {} Accuracy: {}'.format(e, np.mean(advVal_loss), np.mean(advVal_acc)))\n",
    "    advVal_losses.append(np.mean(advVal_loss))\n",
    "    advVal_accs.append(np.mean(advVal_acc))"
   ]
  },
  {
   "cell_type": "code",
   "execution_count": 44,
   "metadata": {},
   "outputs": [
    {
     "data": {
      "text/plain": [
       "[<matplotlib.lines.Line2D at 0x10c610710>]"
      ]
     },
     "execution_count": 44,
     "metadata": {},
     "output_type": "execute_result"
    },
    {
     "data": {
      "image/png": "[encoded data removed]",
      "text/plain": [
       "<Figure size 720x720 with 4 Axes>"
      ]
     },
     "metadata": {},
     "output_type": "display_data"
    }
   ],
   "source": [
    "plt.figure(figsize=(10,10))\n",
    "plt.subplot(221)\n",
    "plt.plot(advTrain_losses)\n",
    "plt.subplot(222)\n",
    "plt.plot(advTrain_acc)\n",
    "plt.subplot(223)\n",
    "plt.plot(advVal_losses)\n",
    "plt.subplot(224)\n",
    "plt.plot(advVal_acc)"
   ]
  },
  {
   "cell_type": "markdown",
   "metadata": {},
   "source": [
    "# Adv losses"
   ]
  },
  {
   "cell_type": "code",
   "execution_count": 45,
   "metadata": {},
   "outputs": [],
   "source": [
    "class AdvDemographicParityLoss(nn.Module):\n",
    "    def __init__(self):\n",
    "        super(AdvDemographicParityLoss, self).__init__()\n",
    "        self.L1_distance = nn.L1Loss()\n",
    "        \n",
    "    def forward(self, input, sensitive):\n",
    "        if not (sensitive.shape[0] == input.shape[0]):\n",
    "            raise ValueError(\"Target size ({}) must be the same as input size ({})\".format(target.size(), input.size()))\n",
    "        \n",
    "        if isinstance(sensitive, np.ndarray):\n",
    "            sensitive = torch.from_numpy(sensitive)\n",
    "            sensitive = sensitive.float()\n",
    "        \n",
    "        input = input.squeeze(dim=1)\n",
    "        \n",
    "        a0_mask = (sensitive == 0)\n",
    "        a1_mask = (sensitive == 1)\n",
    "        \n",
    "        input_group0 = input[a0_mask]\n",
    "        input_group1 = input[a1_mask]\n",
    "        \n",
    "        target_group0 = sensitive[a0_mask]\n",
    "        target_group1 = sensitive[a1_mask]\n",
    "        \n",
    "        loss = 1 - (self.L1_distance(input_group0, target_group0) + self.L1_distance(input_group1, target_group1))\n",
    "        return loss\n",
    "        \n",
    "    "
   ]
  },
  {
   "cell_type": "code",
   "execution_count": 53,
   "metadata": {},
   "outputs": [],
   "source": [
    "class AdvEqOddsLoss(nn.Module):\n",
    "    def __init__(self):\n",
    "        super(AdvEqOddsLoss, self).__init__()\n",
    "        self.L1_distance = nn.L1Loss()\n",
    "        \n",
    "    def forward(self, input, sensitive, targets):\n",
    "        if not (targets.shape[0] == input.shape[0]):\n",
    "            raise ValueError(\"Target size ({}) must be the same as input size ({})\".format(target.size(), input.size()))\n",
    "        \n",
    "        if isinstance(targets, np.ndarray):\n",
    "            targets = torch.from_numpy(targets)\n",
    "            targets = targets.float()\n",
    "            \n",
    "        if isinstance(sensitive, np.ndarray):\n",
    "            sensitive = torch.from_numpy(sensitive)\n",
    "            sensitive = sensitive.float()\n",
    "        \n",
    "        \n",
    "        input = input.squeeze(dim=1)\n",
    "        \n",
    "        a00_mask = ((targets == 0).byte() & (sensitive == 0).byte())\n",
    "        a01_mask = ((targets == 1).byte() & (sensitive == 0).byte())\n",
    "        a10_mask = ((targets == 0).byte() & (sensitive == 1).byte())\n",
    "        a11_mask = ((targets == 1).byte() & (sensitive == 1).byte())\n",
    "\n",
    "        input_group00 = input[a00_mask]\n",
    "        input_group01 = input[a01_mask]\n",
    "        input_group10 = input[a10_mask]\n",
    "        input_group11 = input[a11_mask]\n",
    "\n",
    "        target_group00 = targets[a00_mask]\n",
    "        target_group01 = targets[a01_mask]\n",
    "        target_group10 = targets[a10_mask]\n",
    "        target_group11 = targets[a11_mask]\n",
    "\n",
    "        loss = 2 - (self.L1_distance(input_group00, target_group00) + self.L1_distance(input_group01, target_group01)\n",
    "                   + self.L1_distance(input_group10, target_group10) + self.L1_distance(input_group11, target_group11))\n",
    "    \n",
    "        return loss"
   ]
  },
  {
   "cell_type": "code",
   "execution_count": 54,
   "metadata": {},
   "outputs": [],
   "source": [
    "input = adversary(torch.from_numpy(advX_test.values).float())\n",
    "targets = a_test"
   ]
  },
  {
   "cell_type": "code",
   "execution_count": 55,
   "metadata": {},
   "outputs": [],
   "source": [
    "AdvDPLoss = AdvDemographicParityLoss()"
   ]
  },
  {
   "cell_type": "code",
   "execution_count": 56,
   "metadata": {},
   "outputs": [
    {
     "data": {
      "text/plain": [
       "tensor(0.5524)"
      ]
     },
     "execution_count": 56,
     "metadata": {},
     "output_type": "execute_result"
    }
   ],
   "source": [
    "AdvDPLoss(input, targets)"
   ]
  },
  {
   "cell_type": "code",
   "execution_count": 57,
   "metadata": {},
   "outputs": [],
   "source": [
    "AdvEOLoss = AdvEqOddsLoss()"
   ]
  },
  {
   "cell_type": "code",
   "execution_count": 58,
   "metadata": {},
   "outputs": [
    {
     "data": {
      "text/plain": [
       "tensor(1.00000e-02 *\n",
       "       -1.4060)"
      ]
     },
     "execution_count": 58,
     "metadata": {},
     "output_type": "execute_result"
    }
   ],
   "source": [
    "AdvEOLoss(input, a_test, y_test)"
   ]
  },
  {
   "cell_type": "markdown",
   "metadata": {},
   "source": [
    "# LAFTR"
   ]
  },
  {
   "cell_type": "markdown",
   "metadata": {},
   "source": [
    "Training the encoder"
   ]
  },
  {
   "cell_type": "code",
   "execution_count": 59,
   "metadata": {},
   "outputs": [],
   "source": [
    "input_size = X_train.shape[1]\n",
    "classifier = SingleNet(input_size)\n",
    "opt = optim.Adam(classifier.parameters(), lr=0.001, betas=(0.9, 0.999))\n",
    "criterion = nn.BCELoss()"
   ]
  },
  {
   "cell_type": "code",
   "execution_count": 60,
   "metadata": {},
   "outputs": [],
   "source": [
    "input_size2 = advX_train.shape[1]\n",
    "adversary = SingleNet(input_size2)\n",
    "advopt = optim.Adam(adversary.parameters(), lr=0.001, betas=(0.9, 0.999))\n",
    "advcriterion = AdvEqOddsLoss()"
   ]
  },
  {
   "cell_type": "code",
   "execution_count": null,
   "metadata": {},
   "outputs": [],
   "source": [
    "advTrain_losses = []\n",
    "advTrain_accs = []\n",
    "advVal_losses = []\n",
    "advVal_accs = []\n",
    "num_epochs = 25\n",
    "for e in range(num_epochs):\n",
    "    \n",
    "    advTrain_loss, advTrain_acc = train_epoch(adversary, advX_train, a_train, advopt, advcriterion)\n",
    "    print('Epoch: {} Loss: {} Accuracy: {}'.format(e, np.mean(advTrain_loss), np.mean(advTrain_acc)))\n",
    "    advTrain_losses.append(np.mean(advTrain_loss))\n",
    "    advTrain_accs.append(np.mean(advTrain_acc))\n",
    "    advVal_loss, advVal_acc = validate_epoch(adversary, advX_test, a_test, advcriterion)\n",
    "    print('Test Epoch: {} Loss: {} Accuracy: {}'.format(e, np.mean(advVal_loss), np.mean(advVal_acc)))\n",
    "    advVal_losses.append(np.mean(advVal_loss))\n",
    "    advVal_accs.append(np.mean(advVal_acc))"
   ]
  },
  {
   "cell_type": "code",
   "execution_count": null,
   "metadata": {},
   "outputs": [],
   "source": [
    "def laftr_epoch(classifier, X_cls, y_cls, opt_cls, loss_cls, adversary, X_adv, y_adv, opt_cls, loss_adv, batch_size=64):\n",
    "    classifier.train()\n",
    "    adversary.train()\n",
    "    cls_losses = []\n",
    "    cls_acc = []\n",
    "    adv_losses = []\n",
    "    adv_acc = []\n",
    "    if X_cls.shape[0] != X_adv.shape[0]: \n",
    "        print('Different lengths for training data')\n",
    "        return 0\n",
    "    \n",
    "    for beg_i in range(0, X_cls.shape[0], batch_size):\n",
    "        \n",
    "        x_batch = X.iloc[beg_i:beg_i + batch_size].values\n",
    "        y_batch = Y[beg_i:beg_i + batch_size]\n",
    "        \n",
    "        x_batch = torch.from_numpy(x_batch).to(device).float()\n",
    "        y_batch = torch.from_numpy(y_batch).to(device).float()\n",
    "        \n",
    "        cls_opt.zero_grad()\n",
    "        # (1) Forward\n",
    "        y_hat = classifier(x_batch)\n",
    "        # (2) Compute diff\n",
    "        cls_loss = loss_cls(y_hat, y_batch)\n",
    "        adv_loss = \n",
    "        # (3) Compute gradients\n",
    "        loss.backward()\n",
    "        # (4) update weights\n",
    "        opt.step()        \n",
    "        \n",
    "        losses.append(loss.item())\n",
    "        \n",
    "        preds = torch.round(y_hat.data).squeeze(1).numpy()\n",
    "        accuracy = sum(preds == y_batch).numpy()/len(y_batch)\n",
    "\n",
    "        acc.append(accuracy)\n",
    "    return losses, acc"
   ]
  }
 ],
 "metadata": {
  "kernelspec": {
   "display_name": "Python 3",
   "language": "python",
   "name": "python3"
  },
  "language_info": {
   "codemirror_mode": {
    "name": "ipython",
    "version": 3
   },
   "file_extension": ".py",
   "mimetype": "text/x-python",
   "name": "python",
   "nbconvert_exporter": "python",
   "pygments_lexer": "ipython3",
   "version": "3.6.6"
  }
 },
 "nbformat": 4,
 "nbformat_minor": 2
}
