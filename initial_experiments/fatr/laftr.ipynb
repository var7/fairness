{
 "cells": [
  {
   "cell_type": "code",
   "execution_count": 1,
   "metadata": {},
   "outputs": [],
   "source": [
    "import os\n",
    "import sys\n",
    "import time\n",
    "import copy\n",
    "import argparse\n",
    "import datetime"
   ]
  },
  {
   "cell_type": "code",
   "execution_count": 2,
   "metadata": {},
   "outputs": [],
   "source": [
    "import pandas as pd\n",
    "import numpy as np\n",
    "import matplotlib.pyplot as plt\n",
    "import matplotlib\n",
    "from numpy.random import RandomState\n",
    "plt.style.use('dark_background')"
   ]
  },
  {
   "cell_type": "code",
   "execution_count": 3,
   "metadata": {},
   "outputs": [],
   "source": [
    "from sklearn.linear_model import LogisticRegression, LogisticRegressionCV\n",
    "from sklearn.metrics import accuracy_score, confusion_matrix, make_scorer, precision_recall_fscore_support, roc_auc_score\n",
    "from sklearn.model_selection import GridSearchCV, StratifiedKFold, train_test_split\n",
    "from sklearn.pipeline import Pipeline\n",
    "from sklearn.preprocessing import RobustScaler, StandardScaler"
   ]
  },
  {
   "cell_type": "code",
   "execution_count": 4,
   "metadata": {},
   "outputs": [],
   "source": [
    "import torch\n",
    "import torch.nn as nn\n",
    "import torch.backends.cudnn as cudnn\n",
    "import torch.optim as optim\n",
    "import torch.optim.lr_scheduler as lr_scheduler\n",
    "import torch.functional as F\n",
    "from torchvision import transforms, utils, models\n",
    "from torch.utils.data import Dataset, DataLoader\n",
    "from torch.nn.modules.activation import Sigmoid, LeakyReLU"
   ]
  },
  {
   "cell_type": "code",
   "execution_count": 5,
   "metadata": {},
   "outputs": [],
   "source": [
    "rs = RandomState(1791387)"
   ]
  },
  {
   "cell_type": "code",
   "execution_count": 6,
   "metadata": {},
   "outputs": [],
   "source": [
    "DATA_PATH = './uci_adult/'\n",
    "TRAIN_PATH = os.path.join(DATA_PATH, 'adult.data')\n",
    "TEST_PATH = os.path.join(DATA_PATH, 'adult.test')\n",
    "header = [\"Age\", \"WorkClass\", \"fnlwgt\", \"Education\", \"EducationNum\",\n",
    "    \"MaritalStatus\", \"Occupation\", \"Relationship\", \"Race\", \"Gender\",\n",
    "    \"CapitalGain\", \"CapitalLoss\", \"HoursPerWeek\", \"NativeCountry\", \"Income\"]"
   ]
  },
  {
   "cell_type": "code",
   "execution_count": 7,
   "metadata": {},
   "outputs": [
    {
     "name": "stderr",
     "output_type": "stream",
     "text": [
      "/Users/var/anaconda/envs/pytorch/lib/python3.6/site-packages/ipykernel_launcher.py:1: ParserWarning: Falling back to the 'python' engine because the 'c' engine does not support regex separators (separators > 1 char and different from '\\s+' are interpreted as regex); you can avoid this warning by specifying engine='python'.\n",
      "  \"\"\"Entry point for launching an IPython kernel.\n"
     ]
    }
   ],
   "source": [
    "df = pd.read_csv(TRAIN_PATH, header=None, names=header, sep=',\\s', na_values=[\"?\"])"
   ]
  },
  {
   "cell_type": "code",
   "execution_count": 8,
   "metadata": {},
   "outputs": [
    {
     "data": {
      "text/html": [
       "<div>\n",
       "<style scoped>\n",
       "    .dataframe tbody tr th:only-of-type {\n",
       "        vertical-align: middle;\n",
       "    }\n",
       "\n",
       "    .dataframe tbody tr th {\n",
       "        vertical-align: top;\n",
       "    }\n",
       "\n",
       "    .dataframe thead th {\n",
       "        text-align: right;\n",
       "    }\n",
       "</style>\n",
       "<table border=\"1\" class=\"dataframe\">\n",
       "  <thead>\n",
       "    <tr style=\"text-align: right;\">\n",
       "      <th></th>\n",
       "      <th>Age</th>\n",
       "      <th>WorkClass</th>\n",
       "      <th>fnlwgt</th>\n",
       "      <th>Education</th>\n",
       "      <th>EducationNum</th>\n",
       "      <th>MaritalStatus</th>\n",
       "      <th>Occupation</th>\n",
       "      <th>Relationship</th>\n",
       "      <th>Race</th>\n",
       "      <th>Gender</th>\n",
       "      <th>CapitalGain</th>\n",
       "      <th>CapitalLoss</th>\n",
       "      <th>HoursPerWeek</th>\n",
       "      <th>NativeCountry</th>\n",
       "      <th>Income</th>\n",
       "    </tr>\n",
       "  </thead>\n",
       "  <tbody>\n",
       "    <tr>\n",
       "      <th>0</th>\n",
       "      <td>39</td>\n",
       "      <td>State-gov</td>\n",
       "      <td>77516</td>\n",
       "      <td>Bachelors</td>\n",
       "      <td>13</td>\n",
       "      <td>Never-married</td>\n",
       "      <td>Adm-clerical</td>\n",
       "      <td>Not-in-family</td>\n",
       "      <td>White</td>\n",
       "      <td>Male</td>\n",
       "      <td>2174</td>\n",
       "      <td>0</td>\n",
       "      <td>40</td>\n",
       "      <td>United-States</td>\n",
       "      <td>&lt;=50K</td>\n",
       "    </tr>\n",
       "    <tr>\n",
       "      <th>1</th>\n",
       "      <td>50</td>\n",
       "      <td>Self-emp-not-inc</td>\n",
       "      <td>83311</td>\n",
       "      <td>Bachelors</td>\n",
       "      <td>13</td>\n",
       "      <td>Married-civ-spouse</td>\n",
       "      <td>Exec-managerial</td>\n",
       "      <td>Husband</td>\n",
       "      <td>White</td>\n",
       "      <td>Male</td>\n",
       "      <td>0</td>\n",
       "      <td>0</td>\n",
       "      <td>13</td>\n",
       "      <td>United-States</td>\n",
       "      <td>&lt;=50K</td>\n",
       "    </tr>\n",
       "    <tr>\n",
       "      <th>2</th>\n",
       "      <td>38</td>\n",
       "      <td>Private</td>\n",
       "      <td>215646</td>\n",
       "      <td>HS-grad</td>\n",
       "      <td>9</td>\n",
       "      <td>Divorced</td>\n",
       "      <td>Handlers-cleaners</td>\n",
       "      <td>Not-in-family</td>\n",
       "      <td>White</td>\n",
       "      <td>Male</td>\n",
       "      <td>0</td>\n",
       "      <td>0</td>\n",
       "      <td>40</td>\n",
       "      <td>United-States</td>\n",
       "      <td>&lt;=50K</td>\n",
       "    </tr>\n",
       "    <tr>\n",
       "      <th>3</th>\n",
       "      <td>53</td>\n",
       "      <td>Private</td>\n",
       "      <td>234721</td>\n",
       "      <td>11th</td>\n",
       "      <td>7</td>\n",
       "      <td>Married-civ-spouse</td>\n",
       "      <td>Handlers-cleaners</td>\n",
       "      <td>Husband</td>\n",
       "      <td>Black</td>\n",
       "      <td>Male</td>\n",
       "      <td>0</td>\n",
       "      <td>0</td>\n",
       "      <td>40</td>\n",
       "      <td>United-States</td>\n",
       "      <td>&lt;=50K</td>\n",
       "    </tr>\n",
       "    <tr>\n",
       "      <th>4</th>\n",
       "      <td>28</td>\n",
       "      <td>Private</td>\n",
       "      <td>338409</td>\n",
       "      <td>Bachelors</td>\n",
       "      <td>13</td>\n",
       "      <td>Married-civ-spouse</td>\n",
       "      <td>Prof-specialty</td>\n",
       "      <td>Wife</td>\n",
       "      <td>Black</td>\n",
       "      <td>Female</td>\n",
       "      <td>0</td>\n",
       "      <td>0</td>\n",
       "      <td>40</td>\n",
       "      <td>Cuba</td>\n",
       "      <td>&lt;=50K</td>\n",
       "    </tr>\n",
       "  </tbody>\n",
       "</table>\n",
       "</div>"
      ],
      "text/plain": [
       "   Age         WorkClass  fnlwgt  Education  EducationNum       MaritalStatus  \\\n",
       "0   39         State-gov   77516  Bachelors            13       Never-married   \n",
       "1   50  Self-emp-not-inc   83311  Bachelors            13  Married-civ-spouse   \n",
       "2   38           Private  215646    HS-grad             9            Divorced   \n",
       "3   53           Private  234721       11th             7  Married-civ-spouse   \n",
       "4   28           Private  338409  Bachelors            13  Married-civ-spouse   \n",
       "\n",
       "          Occupation   Relationship   Race  Gender  CapitalGain  CapitalLoss  \\\n",
       "0       Adm-clerical  Not-in-family  White    Male         2174            0   \n",
       "1    Exec-managerial        Husband  White    Male            0            0   \n",
       "2  Handlers-cleaners  Not-in-family  White    Male            0            0   \n",
       "3  Handlers-cleaners        Husband  Black    Male            0            0   \n",
       "4     Prof-specialty           Wife  Black  Female            0            0   \n",
       "\n",
       "   HoursPerWeek  NativeCountry Income  \n",
       "0            40  United-States  <=50K  \n",
       "1            13  United-States  <=50K  \n",
       "2            40  United-States  <=50K  \n",
       "3            40  United-States  <=50K  \n",
       "4            40           Cuba  <=50K  "
      ]
     },
     "execution_count": 8,
     "metadata": {},
     "output_type": "execute_result"
    }
   ],
   "source": [
    "df.head()"
   ]
  },
  {
   "cell_type": "code",
   "execution_count": 9,
   "metadata": {},
   "outputs": [
    {
     "data": {
      "text/plain": [
       "True"
      ]
     },
     "execution_count": 9,
     "metadata": {},
     "output_type": "execute_result"
    }
   ],
   "source": [
    "df.isnull().values.any()"
   ]
  },
  {
   "cell_type": "code",
   "execution_count": 10,
   "metadata": {},
   "outputs": [
    {
     "data": {
      "text/html": [
       "<div>\n",
       "<style scoped>\n",
       "    .dataframe tbody tr th:only-of-type {\n",
       "        vertical-align: middle;\n",
       "    }\n",
       "\n",
       "    .dataframe tbody tr th {\n",
       "        vertical-align: top;\n",
       "    }\n",
       "\n",
       "    .dataframe thead th {\n",
       "        text-align: right;\n",
       "    }\n",
       "</style>\n",
       "<table border=\"1\" class=\"dataframe\">\n",
       "  <thead>\n",
       "    <tr style=\"text-align: right;\">\n",
       "      <th></th>\n",
       "      <th>Age</th>\n",
       "      <th>WorkClass</th>\n",
       "      <th>fnlwgt</th>\n",
       "      <th>Education</th>\n",
       "      <th>EducationNum</th>\n",
       "      <th>MaritalStatus</th>\n",
       "      <th>Occupation</th>\n",
       "      <th>Relationship</th>\n",
       "      <th>Race</th>\n",
       "      <th>Gender</th>\n",
       "      <th>CapitalGain</th>\n",
       "      <th>CapitalLoss</th>\n",
       "      <th>HoursPerWeek</th>\n",
       "      <th>NativeCountry</th>\n",
       "      <th>Income</th>\n",
       "    </tr>\n",
       "  </thead>\n",
       "  <tbody>\n",
       "    <tr>\n",
       "      <th>0</th>\n",
       "      <td>39</td>\n",
       "      <td>State-gov</td>\n",
       "      <td>77516</td>\n",
       "      <td>Bachelors</td>\n",
       "      <td>13</td>\n",
       "      <td>Never-married</td>\n",
       "      <td>Adm-clerical</td>\n",
       "      <td>Not-in-family</td>\n",
       "      <td>White</td>\n",
       "      <td>Male</td>\n",
       "      <td>2174</td>\n",
       "      <td>0</td>\n",
       "      <td>40</td>\n",
       "      <td>United-States</td>\n",
       "      <td>&lt;=50K</td>\n",
       "    </tr>\n",
       "    <tr>\n",
       "      <th>1</th>\n",
       "      <td>50</td>\n",
       "      <td>Self-emp-not-inc</td>\n",
       "      <td>83311</td>\n",
       "      <td>Bachelors</td>\n",
       "      <td>13</td>\n",
       "      <td>Married-civ-spouse</td>\n",
       "      <td>Exec-managerial</td>\n",
       "      <td>Husband</td>\n",
       "      <td>White</td>\n",
       "      <td>Male</td>\n",
       "      <td>0</td>\n",
       "      <td>0</td>\n",
       "      <td>13</td>\n",
       "      <td>United-States</td>\n",
       "      <td>&lt;=50K</td>\n",
       "    </tr>\n",
       "    <tr>\n",
       "      <th>2</th>\n",
       "      <td>38</td>\n",
       "      <td>Private</td>\n",
       "      <td>215646</td>\n",
       "      <td>HS-grad</td>\n",
       "      <td>9</td>\n",
       "      <td>Divorced</td>\n",
       "      <td>Handlers-cleaners</td>\n",
       "      <td>Not-in-family</td>\n",
       "      <td>White</td>\n",
       "      <td>Male</td>\n",
       "      <td>0</td>\n",
       "      <td>0</td>\n",
       "      <td>40</td>\n",
       "      <td>United-States</td>\n",
       "      <td>&lt;=50K</td>\n",
       "    </tr>\n",
       "    <tr>\n",
       "      <th>3</th>\n",
       "      <td>53</td>\n",
       "      <td>Private</td>\n",
       "      <td>234721</td>\n",
       "      <td>11th</td>\n",
       "      <td>7</td>\n",
       "      <td>Married-civ-spouse</td>\n",
       "      <td>Handlers-cleaners</td>\n",
       "      <td>Husband</td>\n",
       "      <td>Black</td>\n",
       "      <td>Male</td>\n",
       "      <td>0</td>\n",
       "      <td>0</td>\n",
       "      <td>40</td>\n",
       "      <td>United-States</td>\n",
       "      <td>&lt;=50K</td>\n",
       "    </tr>\n",
       "    <tr>\n",
       "      <th>4</th>\n",
       "      <td>28</td>\n",
       "      <td>Private</td>\n",
       "      <td>338409</td>\n",
       "      <td>Bachelors</td>\n",
       "      <td>13</td>\n",
       "      <td>Married-civ-spouse</td>\n",
       "      <td>Prof-specialty</td>\n",
       "      <td>Wife</td>\n",
       "      <td>Black</td>\n",
       "      <td>Female</td>\n",
       "      <td>0</td>\n",
       "      <td>0</td>\n",
       "      <td>40</td>\n",
       "      <td>Cuba</td>\n",
       "      <td>&lt;=50K</td>\n",
       "    </tr>\n",
       "  </tbody>\n",
       "</table>\n",
       "</div>"
      ],
      "text/plain": [
       "   Age         WorkClass  fnlwgt  Education  EducationNum       MaritalStatus  \\\n",
       "0   39         State-gov   77516  Bachelors            13       Never-married   \n",
       "1   50  Self-emp-not-inc   83311  Bachelors            13  Married-civ-spouse   \n",
       "2   38           Private  215646    HS-grad             9            Divorced   \n",
       "3   53           Private  234721       11th             7  Married-civ-spouse   \n",
       "4   28           Private  338409  Bachelors            13  Married-civ-spouse   \n",
       "\n",
       "          Occupation   Relationship   Race  Gender  CapitalGain  CapitalLoss  \\\n",
       "0       Adm-clerical  Not-in-family  White    Male         2174            0   \n",
       "1    Exec-managerial        Husband  White    Male            0            0   \n",
       "2  Handlers-cleaners  Not-in-family  White    Male            0            0   \n",
       "3  Handlers-cleaners        Husband  Black    Male            0            0   \n",
       "4     Prof-specialty           Wife  Black  Female            0            0   \n",
       "\n",
       "   HoursPerWeek  NativeCountry Income  \n",
       "0            40  United-States  <=50K  \n",
       "1            13  United-States  <=50K  \n",
       "2            40  United-States  <=50K  \n",
       "3            40  United-States  <=50K  \n",
       "4            40           Cuba  <=50K  "
      ]
     },
     "execution_count": 10,
     "metadata": {},
     "output_type": "execute_result"
    }
   ],
   "source": [
    "df = df.dropna()\n",
    "df.head()"
   ]
  },
  {
   "cell_type": "code",
   "execution_count": 11,
   "metadata": {},
   "outputs": [
    {
     "data": {
      "text/plain": [
       "array(['<=50K', '>50K'], dtype=object)"
      ]
     },
     "execution_count": 11,
     "metadata": {},
     "output_type": "execute_result"
    }
   ],
   "source": [
    "df.Income.unique()"
   ]
  },
  {
   "cell_type": "code",
   "execution_count": 12,
   "metadata": {},
   "outputs": [],
   "source": [
    "df[\"Income\"] = df[\"Income\"].map({ \"<=50K\": 0, \">50K\": 1 })"
   ]
  },
  {
   "cell_type": "code",
   "execution_count": 13,
   "metadata": {},
   "outputs": [],
   "source": [
    "y_all = df[\"Income\"].values"
   ]
  },
  {
   "cell_type": "code",
   "execution_count": 14,
   "metadata": {},
   "outputs": [
    {
     "data": {
      "text/plain": [
       "array(['Male', 'Female'], dtype=object)"
      ]
     },
     "execution_count": 14,
     "metadata": {},
     "output_type": "execute_result"
    }
   ],
   "source": [
    "df.Gender.unique()"
   ]
  },
  {
   "cell_type": "code",
   "execution_count": 15,
   "metadata": {},
   "outputs": [],
   "source": [
    "sensitive_all = df[\"Gender\"].map({\"Male\": 0, \"Female\": 1}).values"
   ]
  },
  {
   "cell_type": "code",
   "execution_count": 16,
   "metadata": {},
   "outputs": [],
   "source": [
    "df.drop(\"Income\", axis=1, inplace=True,)"
   ]
  },
  {
   "cell_type": "code",
   "execution_count": 17,
   "metadata": {},
   "outputs": [
    {
     "data": {
      "text/html": [
       "<div>\n",
       "<style scoped>\n",
       "    .dataframe tbody tr th:only-of-type {\n",
       "        vertical-align: middle;\n",
       "    }\n",
       "\n",
       "    .dataframe tbody tr th {\n",
       "        vertical-align: top;\n",
       "    }\n",
       "\n",
       "    .dataframe thead th {\n",
       "        text-align: right;\n",
       "    }\n",
       "</style>\n",
       "<table border=\"1\" class=\"dataframe\">\n",
       "  <thead>\n",
       "    <tr style=\"text-align: right;\">\n",
       "      <th></th>\n",
       "      <th>Age</th>\n",
       "      <th>fnlwgt</th>\n",
       "      <th>EducationNum</th>\n",
       "      <th>CapitalGain</th>\n",
       "      <th>CapitalLoss</th>\n",
       "      <th>HoursPerWeek</th>\n",
       "    </tr>\n",
       "  </thead>\n",
       "  <tbody>\n",
       "    <tr>\n",
       "      <th>count</th>\n",
       "      <td>30162.000000</td>\n",
       "      <td>3.016200e+04</td>\n",
       "      <td>30162.000000</td>\n",
       "      <td>30162.000000</td>\n",
       "      <td>30162.000000</td>\n",
       "      <td>30162.000000</td>\n",
       "    </tr>\n",
       "    <tr>\n",
       "      <th>mean</th>\n",
       "      <td>38.437902</td>\n",
       "      <td>1.897938e+05</td>\n",
       "      <td>10.121312</td>\n",
       "      <td>1092.007858</td>\n",
       "      <td>88.372489</td>\n",
       "      <td>40.931238</td>\n",
       "    </tr>\n",
       "    <tr>\n",
       "      <th>std</th>\n",
       "      <td>13.134665</td>\n",
       "      <td>1.056530e+05</td>\n",
       "      <td>2.549995</td>\n",
       "      <td>7406.346497</td>\n",
       "      <td>404.298370</td>\n",
       "      <td>11.979984</td>\n",
       "    </tr>\n",
       "    <tr>\n",
       "      <th>min</th>\n",
       "      <td>17.000000</td>\n",
       "      <td>1.376900e+04</td>\n",
       "      <td>1.000000</td>\n",
       "      <td>0.000000</td>\n",
       "      <td>0.000000</td>\n",
       "      <td>1.000000</td>\n",
       "    </tr>\n",
       "    <tr>\n",
       "      <th>25%</th>\n",
       "      <td>28.000000</td>\n",
       "      <td>1.176272e+05</td>\n",
       "      <td>9.000000</td>\n",
       "      <td>0.000000</td>\n",
       "      <td>0.000000</td>\n",
       "      <td>40.000000</td>\n",
       "    </tr>\n",
       "    <tr>\n",
       "      <th>50%</th>\n",
       "      <td>37.000000</td>\n",
       "      <td>1.784250e+05</td>\n",
       "      <td>10.000000</td>\n",
       "      <td>0.000000</td>\n",
       "      <td>0.000000</td>\n",
       "      <td>40.000000</td>\n",
       "    </tr>\n",
       "    <tr>\n",
       "      <th>75%</th>\n",
       "      <td>47.000000</td>\n",
       "      <td>2.376285e+05</td>\n",
       "      <td>13.000000</td>\n",
       "      <td>0.000000</td>\n",
       "      <td>0.000000</td>\n",
       "      <td>45.000000</td>\n",
       "    </tr>\n",
       "    <tr>\n",
       "      <th>max</th>\n",
       "      <td>90.000000</td>\n",
       "      <td>1.484705e+06</td>\n",
       "      <td>16.000000</td>\n",
       "      <td>99999.000000</td>\n",
       "      <td>4356.000000</td>\n",
       "      <td>99.000000</td>\n",
       "    </tr>\n",
       "  </tbody>\n",
       "</table>\n",
       "</div>"
      ],
      "text/plain": [
       "                Age        fnlwgt  EducationNum   CapitalGain   CapitalLoss  \\\n",
       "count  30162.000000  3.016200e+04  30162.000000  30162.000000  30162.000000   \n",
       "mean      38.437902  1.897938e+05     10.121312   1092.007858     88.372489   \n",
       "std       13.134665  1.056530e+05      2.549995   7406.346497    404.298370   \n",
       "min       17.000000  1.376900e+04      1.000000      0.000000      0.000000   \n",
       "25%       28.000000  1.176272e+05      9.000000      0.000000      0.000000   \n",
       "50%       37.000000  1.784250e+05     10.000000      0.000000      0.000000   \n",
       "75%       47.000000  2.376285e+05     13.000000      0.000000      0.000000   \n",
       "max       90.000000  1.484705e+06     16.000000  99999.000000   4356.000000   \n",
       "\n",
       "       HoursPerWeek  \n",
       "count  30162.000000  \n",
       "mean      40.931238  \n",
       "std       11.979984  \n",
       "min        1.000000  \n",
       "25%       40.000000  \n",
       "50%       40.000000  \n",
       "75%       45.000000  \n",
       "max       99.000000  "
      ]
     },
     "execution_count": 17,
     "metadata": {},
     "output_type": "execute_result"
    }
   ],
   "source": [
    "df.describe()"
   ]
  },
  {
   "cell_type": "code",
   "execution_count": 18,
   "metadata": {},
   "outputs": [],
   "source": [
    "df.drop(\"CapitalGain\", axis=1, inplace=True)\n",
    "df.drop(\"CapitalLoss\", axis=1, inplace=True)"
   ]
  },
  {
   "cell_type": "code",
   "execution_count": 19,
   "metadata": {},
   "outputs": [],
   "source": [
    "df = pd.get_dummies(df, columns=[\n",
    "    \"WorkClass\", \"Education\", \"MaritalStatus\", \"Occupation\", \"Relationship\",\n",
    "    \"Race\", \"Gender\", \"NativeCountry\",\n",
    "])"
   ]
  },
  {
   "cell_type": "code",
   "execution_count": 20,
   "metadata": {},
   "outputs": [
    {
     "data": {
      "text/plain": [
       "(30162, 102)"
      ]
     },
     "execution_count": 20,
     "metadata": {},
     "output_type": "execute_result"
    }
   ],
   "source": [
    "df.shape"
   ]
  },
  {
   "cell_type": "code",
   "execution_count": 21,
   "metadata": {},
   "outputs": [
    {
     "data": {
      "text/plain": [
       "0    22654\n",
       "1     7508\n",
       "dtype: int64"
      ]
     },
     "execution_count": 21,
     "metadata": {},
     "output_type": "execute_result"
    }
   ],
   "source": [
    "pd.value_counts(pd.Series(y_all))"
   ]
  },
  {
   "cell_type": "code",
   "execution_count": 22,
   "metadata": {},
   "outputs": [
    {
     "data": {
      "text/plain": [
       "Index(['Age', 'fnlwgt', 'EducationNum', 'HoursPerWeek',\n",
       "       'WorkClass_Federal-gov', 'WorkClass_Local-gov', 'WorkClass_Private',\n",
       "       'WorkClass_Self-emp-inc', 'WorkClass_Self-emp-not-inc',\n",
       "       'WorkClass_State-gov',\n",
       "       ...\n",
       "       'NativeCountry_Portugal', 'NativeCountry_Puerto-Rico',\n",
       "       'NativeCountry_Scotland', 'NativeCountry_South', 'NativeCountry_Taiwan',\n",
       "       'NativeCountry_Thailand', 'NativeCountry_Trinadad&Tobago',\n",
       "       'NativeCountry_United-States', 'NativeCountry_Vietnam',\n",
       "       'NativeCountry_Yugoslavia'],\n",
       "      dtype='object', length=102)"
      ]
     },
     "execution_count": 22,
     "metadata": {},
     "output_type": "execute_result"
    }
   ],
   "source": [
    "df.columns"
   ]
  },
  {
   "cell_type": "code",
   "execution_count": 23,
   "metadata": {},
   "outputs": [
    {
     "name": "stderr",
     "output_type": "stream",
     "text": [
      "/Users/var/anaconda/envs/pytorch/lib/python3.6/site-packages/sklearn/utils/validation.py:475: DataConversionWarning: Data with input dtype int64 was converted to float64 by StandardScaler.\n",
      "  warnings.warn(msg, DataConversionWarning)\n"
     ]
    }
   ],
   "source": [
    "standard_scaler_cols = [\"Age\", \"fnlwgt\", \"EducationNum\", \"HoursPerWeek\",]\n",
    "scaler = StandardScaler()\n",
    "vals = df[standard_scaler_cols].values\n",
    "scaled_x = scaler.fit_transform(vals)\n",
    "df[standard_scaler_cols] = scaled_x\n",
    "# for colname in standard_scaler_cols:\n",
    "#     x = df[colname].values.astype(float)\n",
    "#     scaled_x = scaler.fit(x)\n",
    "#     df[colname] = scaled_x"
   ]
  },
  {
   "cell_type": "code",
   "execution_count": 24,
   "metadata": {},
   "outputs": [
    {
     "data": {
      "text/html": [
       "<div>\n",
       "<style scoped>\n",
       "    .dataframe tbody tr th:only-of-type {\n",
       "        vertical-align: middle;\n",
       "    }\n",
       "\n",
       "    .dataframe tbody tr th {\n",
       "        vertical-align: top;\n",
       "    }\n",
       "\n",
       "    .dataframe thead th {\n",
       "        text-align: right;\n",
       "    }\n",
       "</style>\n",
       "<table border=\"1\" class=\"dataframe\">\n",
       "  <thead>\n",
       "    <tr style=\"text-align: right;\">\n",
       "      <th></th>\n",
       "      <th>Age</th>\n",
       "      <th>fnlwgt</th>\n",
       "      <th>EducationNum</th>\n",
       "      <th>HoursPerWeek</th>\n",
       "      <th>WorkClass_Federal-gov</th>\n",
       "      <th>WorkClass_Local-gov</th>\n",
       "      <th>WorkClass_Private</th>\n",
       "      <th>WorkClass_Self-emp-inc</th>\n",
       "      <th>WorkClass_Self-emp-not-inc</th>\n",
       "      <th>WorkClass_State-gov</th>\n",
       "      <th>...</th>\n",
       "      <th>NativeCountry_Portugal</th>\n",
       "      <th>NativeCountry_Puerto-Rico</th>\n",
       "      <th>NativeCountry_Scotland</th>\n",
       "      <th>NativeCountry_South</th>\n",
       "      <th>NativeCountry_Taiwan</th>\n",
       "      <th>NativeCountry_Thailand</th>\n",
       "      <th>NativeCountry_Trinadad&amp;Tobago</th>\n",
       "      <th>NativeCountry_United-States</th>\n",
       "      <th>NativeCountry_Vietnam</th>\n",
       "      <th>NativeCountry_Yugoslavia</th>\n",
       "    </tr>\n",
       "  </thead>\n",
       "  <tbody>\n",
       "    <tr>\n",
       "      <th>count</th>\n",
       "      <td>3.016200e+04</td>\n",
       "      <td>3.016200e+04</td>\n",
       "      <td>3.016200e+04</td>\n",
       "      <td>3.016200e+04</td>\n",
       "      <td>30162.000000</td>\n",
       "      <td>30162.000000</td>\n",
       "      <td>30162.000000</td>\n",
       "      <td>30162.000000</td>\n",
       "      <td>30162.000000</td>\n",
       "      <td>30162.000000</td>\n",
       "      <td>...</td>\n",
       "      <td>30162.000000</td>\n",
       "      <td>30162.000000</td>\n",
       "      <td>30162.000000</td>\n",
       "      <td>30162.000000</td>\n",
       "      <td>30162.000000</td>\n",
       "      <td>30162.000000</td>\n",
       "      <td>30162.000000</td>\n",
       "      <td>30162.000000</td>\n",
       "      <td>30162.000000</td>\n",
       "      <td>30162.000000</td>\n",
       "    </tr>\n",
       "    <tr>\n",
       "      <th>mean</th>\n",
       "      <td>1.535952e-16</td>\n",
       "      <td>1.684365e-17</td>\n",
       "      <td>-3.053058e-16</td>\n",
       "      <td>-2.833973e-16</td>\n",
       "      <td>0.031265</td>\n",
       "      <td>0.068530</td>\n",
       "      <td>0.738877</td>\n",
       "      <td>0.035608</td>\n",
       "      <td>0.082853</td>\n",
       "      <td>0.042404</td>\n",
       "      <td>...</td>\n",
       "      <td>0.001127</td>\n",
       "      <td>0.003614</td>\n",
       "      <td>0.000365</td>\n",
       "      <td>0.002354</td>\n",
       "      <td>0.001392</td>\n",
       "      <td>0.000564</td>\n",
       "      <td>0.000597</td>\n",
       "      <td>0.911876</td>\n",
       "      <td>0.002122</td>\n",
       "      <td>0.000530</td>\n",
       "    </tr>\n",
       "    <tr>\n",
       "      <th>std</th>\n",
       "      <td>1.000017e+00</td>\n",
       "      <td>1.000017e+00</td>\n",
       "      <td>1.000017e+00</td>\n",
       "      <td>1.000017e+00</td>\n",
       "      <td>0.174035</td>\n",
       "      <td>0.252657</td>\n",
       "      <td>0.439254</td>\n",
       "      <td>0.185313</td>\n",
       "      <td>0.275664</td>\n",
       "      <td>0.201513</td>\n",
       "      <td>...</td>\n",
       "      <td>0.033556</td>\n",
       "      <td>0.060007</td>\n",
       "      <td>0.019094</td>\n",
       "      <td>0.048461</td>\n",
       "      <td>0.037291</td>\n",
       "      <td>0.023734</td>\n",
       "      <td>0.024422</td>\n",
       "      <td>0.283480</td>\n",
       "      <td>0.046016</td>\n",
       "      <td>0.023026</td>\n",
       "    </tr>\n",
       "    <tr>\n",
       "      <th>min</th>\n",
       "      <td>-1.632189e+00</td>\n",
       "      <td>-1.666094e+00</td>\n",
       "      <td>-3.577051e+00</td>\n",
       "      <td>-3.333218e+00</td>\n",
       "      <td>0.000000</td>\n",
       "      <td>0.000000</td>\n",
       "      <td>0.000000</td>\n",
       "      <td>0.000000</td>\n",
       "      <td>0.000000</td>\n",
       "      <td>0.000000</td>\n",
       "      <td>...</td>\n",
       "      <td>0.000000</td>\n",
       "      <td>0.000000</td>\n",
       "      <td>0.000000</td>\n",
       "      <td>0.000000</td>\n",
       "      <td>0.000000</td>\n",
       "      <td>0.000000</td>\n",
       "      <td>0.000000</td>\n",
       "      <td>0.000000</td>\n",
       "      <td>0.000000</td>\n",
       "      <td>0.000000</td>\n",
       "    </tr>\n",
       "    <tr>\n",
       "      <th>25%</th>\n",
       "      <td>-7.946967e-01</td>\n",
       "      <td>-6.830644e-01</td>\n",
       "      <td>-4.397382e-01</td>\n",
       "      <td>-7.773411e-02</td>\n",
       "      <td>0.000000</td>\n",
       "      <td>0.000000</td>\n",
       "      <td>0.000000</td>\n",
       "      <td>0.000000</td>\n",
       "      <td>0.000000</td>\n",
       "      <td>0.000000</td>\n",
       "      <td>...</td>\n",
       "      <td>0.000000</td>\n",
       "      <td>0.000000</td>\n",
       "      <td>0.000000</td>\n",
       "      <td>0.000000</td>\n",
       "      <td>0.000000</td>\n",
       "      <td>0.000000</td>\n",
       "      <td>0.000000</td>\n",
       "      <td>1.000000</td>\n",
       "      <td>0.000000</td>\n",
       "      <td>0.000000</td>\n",
       "    </tr>\n",
       "    <tr>\n",
       "      <th>50%</th>\n",
       "      <td>-1.094756e-01</td>\n",
       "      <td>-1.076072e-01</td>\n",
       "      <td>-4.757405e-02</td>\n",
       "      <td>-7.773411e-02</td>\n",
       "      <td>0.000000</td>\n",
       "      <td>0.000000</td>\n",
       "      <td>1.000000</td>\n",
       "      <td>0.000000</td>\n",
       "      <td>0.000000</td>\n",
       "      <td>0.000000</td>\n",
       "      <td>...</td>\n",
       "      <td>0.000000</td>\n",
       "      <td>0.000000</td>\n",
       "      <td>0.000000</td>\n",
       "      <td>0.000000</td>\n",
       "      <td>0.000000</td>\n",
       "      <td>0.000000</td>\n",
       "      <td>0.000000</td>\n",
       "      <td>1.000000</td>\n",
       "      <td>0.000000</td>\n",
       "      <td>0.000000</td>\n",
       "    </tr>\n",
       "    <tr>\n",
       "      <th>75%</th>\n",
       "      <td>6.518811e-01</td>\n",
       "      <td>4.527602e-01</td>\n",
       "      <td>1.128918e+00</td>\n",
       "      <td>3.396356e-01</td>\n",
       "      <td>0.000000</td>\n",
       "      <td>0.000000</td>\n",
       "      <td>1.000000</td>\n",
       "      <td>0.000000</td>\n",
       "      <td>0.000000</td>\n",
       "      <td>0.000000</td>\n",
       "      <td>...</td>\n",
       "      <td>0.000000</td>\n",
       "      <td>0.000000</td>\n",
       "      <td>0.000000</td>\n",
       "      <td>0.000000</td>\n",
       "      <td>0.000000</td>\n",
       "      <td>0.000000</td>\n",
       "      <td>0.000000</td>\n",
       "      <td>1.000000</td>\n",
       "      <td>0.000000</td>\n",
       "      <td>0.000000</td>\n",
       "    </tr>\n",
       "    <tr>\n",
       "      <th>max</th>\n",
       "      <td>3.925715e+00</td>\n",
       "      <td>1.225647e+01</td>\n",
       "      <td>2.305411e+00</td>\n",
       "      <td>4.847229e+00</td>\n",
       "      <td>1.000000</td>\n",
       "      <td>1.000000</td>\n",
       "      <td>1.000000</td>\n",
       "      <td>1.000000</td>\n",
       "      <td>1.000000</td>\n",
       "      <td>1.000000</td>\n",
       "      <td>...</td>\n",
       "      <td>1.000000</td>\n",
       "      <td>1.000000</td>\n",
       "      <td>1.000000</td>\n",
       "      <td>1.000000</td>\n",
       "      <td>1.000000</td>\n",
       "      <td>1.000000</td>\n",
       "      <td>1.000000</td>\n",
       "      <td>1.000000</td>\n",
       "      <td>1.000000</td>\n",
       "      <td>1.000000</td>\n",
       "    </tr>\n",
       "  </tbody>\n",
       "</table>\n",
       "<p>8 rows × 102 columns</p>\n",
       "</div>"
      ],
      "text/plain": [
       "                Age        fnlwgt  EducationNum  HoursPerWeek  \\\n",
       "count  3.016200e+04  3.016200e+04  3.016200e+04  3.016200e+04   \n",
       "mean   1.535952e-16  1.684365e-17 -3.053058e-16 -2.833973e-16   \n",
       "std    1.000017e+00  1.000017e+00  1.000017e+00  1.000017e+00   \n",
       "min   -1.632189e+00 -1.666094e+00 -3.577051e+00 -3.333218e+00   \n",
       "25%   -7.946967e-01 -6.830644e-01 -4.397382e-01 -7.773411e-02   \n",
       "50%   -1.094756e-01 -1.076072e-01 -4.757405e-02 -7.773411e-02   \n",
       "75%    6.518811e-01  4.527602e-01  1.128918e+00  3.396356e-01   \n",
       "max    3.925715e+00  1.225647e+01  2.305411e+00  4.847229e+00   \n",
       "\n",
       "       WorkClass_Federal-gov  WorkClass_Local-gov  WorkClass_Private  \\\n",
       "count           30162.000000         30162.000000       30162.000000   \n",
       "mean                0.031265             0.068530           0.738877   \n",
       "std                 0.174035             0.252657           0.439254   \n",
       "min                 0.000000             0.000000           0.000000   \n",
       "25%                 0.000000             0.000000           0.000000   \n",
       "50%                 0.000000             0.000000           1.000000   \n",
       "75%                 0.000000             0.000000           1.000000   \n",
       "max                 1.000000             1.000000           1.000000   \n",
       "\n",
       "       WorkClass_Self-emp-inc  WorkClass_Self-emp-not-inc  \\\n",
       "count            30162.000000                30162.000000   \n",
       "mean                 0.035608                    0.082853   \n",
       "std                  0.185313                    0.275664   \n",
       "min                  0.000000                    0.000000   \n",
       "25%                  0.000000                    0.000000   \n",
       "50%                  0.000000                    0.000000   \n",
       "75%                  0.000000                    0.000000   \n",
       "max                  1.000000                    1.000000   \n",
       "\n",
       "       WorkClass_State-gov            ...             NativeCountry_Portugal  \\\n",
       "count         30162.000000            ...                       30162.000000   \n",
       "mean              0.042404            ...                           0.001127   \n",
       "std               0.201513            ...                           0.033556   \n",
       "min               0.000000            ...                           0.000000   \n",
       "25%               0.000000            ...                           0.000000   \n",
       "50%               0.000000            ...                           0.000000   \n",
       "75%               0.000000            ...                           0.000000   \n",
       "max               1.000000            ...                           1.000000   \n",
       "\n",
       "       NativeCountry_Puerto-Rico  NativeCountry_Scotland  NativeCountry_South  \\\n",
       "count               30162.000000            30162.000000         30162.000000   \n",
       "mean                    0.003614                0.000365             0.002354   \n",
       "std                     0.060007                0.019094             0.048461   \n",
       "min                     0.000000                0.000000             0.000000   \n",
       "25%                     0.000000                0.000000             0.000000   \n",
       "50%                     0.000000                0.000000             0.000000   \n",
       "75%                     0.000000                0.000000             0.000000   \n",
       "max                     1.000000                1.000000             1.000000   \n",
       "\n",
       "       NativeCountry_Taiwan  NativeCountry_Thailand  \\\n",
       "count          30162.000000            30162.000000   \n",
       "mean               0.001392                0.000564   \n",
       "std                0.037291                0.023734   \n",
       "min                0.000000                0.000000   \n",
       "25%                0.000000                0.000000   \n",
       "50%                0.000000                0.000000   \n",
       "75%                0.000000                0.000000   \n",
       "max                1.000000                1.000000   \n",
       "\n",
       "       NativeCountry_Trinadad&Tobago  NativeCountry_United-States  \\\n",
       "count                   30162.000000                 30162.000000   \n",
       "mean                        0.000597                     0.911876   \n",
       "std                         0.024422                     0.283480   \n",
       "min                         0.000000                     0.000000   \n",
       "25%                         0.000000                     1.000000   \n",
       "50%                         0.000000                     1.000000   \n",
       "75%                         0.000000                     1.000000   \n",
       "max                         1.000000                     1.000000   \n",
       "\n",
       "       NativeCountry_Vietnam  NativeCountry_Yugoslavia  \n",
       "count           30162.000000              30162.000000  \n",
       "mean                0.002122                  0.000530  \n",
       "std                 0.046016                  0.023026  \n",
       "min                 0.000000                  0.000000  \n",
       "25%                 0.000000                  0.000000  \n",
       "50%                 0.000000                  0.000000  \n",
       "75%                 0.000000                  0.000000  \n",
       "max                 1.000000                  1.000000  \n",
       "\n",
       "[8 rows x 102 columns]"
      ]
     },
     "execution_count": 24,
     "metadata": {},
     "output_type": "execute_result"
    }
   ],
   "source": [
    "df.describe()"
   ]
  },
  {
   "cell_type": "code",
   "execution_count": 25,
   "metadata": {},
   "outputs": [],
   "source": [
    "X_train, X_test, y_train, y_test = train_test_split(\n",
    "    df, y_all, test_size=0.25, stratify=y_all, random_state=rs,\n",
    ")"
   ]
  },
  {
   "cell_type": "code",
   "execution_count": 26,
   "metadata": {},
   "outputs": [
    {
     "data": {
      "text/plain": [
       "pandas.core.frame.DataFrame"
      ]
     },
     "execution_count": 26,
     "metadata": {},
     "output_type": "execute_result"
    }
   ],
   "source": [
    "type(X_train)"
   ]
  },
  {
   "cell_type": "code",
   "execution_count": 27,
   "metadata": {},
   "outputs": [],
   "source": [
    "class SingleNet(nn.Module):\n",
    "\n",
    "    def __init__(self, input_size):\n",
    "        super(SingleNet, self).__init__()\n",
    "\n",
    "        self.fc1 = nn.Linear(input_size, 8)\n",
    "#         self.dout = nn.Dropout(0.2)\n",
    "#         self.fc2 = nn.Linear(50, 100)\n",
    "#         self.prelu = nn.PReLU(1)\n",
    "        self.lrelu = LeakyReLU()\n",
    "        self.out = nn.Linear(8, 1)\n",
    "        self.out_act = Sigmoid()\n",
    "\n",
    "    def forward(self, x):\n",
    "        x = self.lrelu(self.fc1(x))\n",
    "        x = self.out_act(self.out(x))\n",
    "        return x"
   ]
  },
  {
   "cell_type": "code",
   "execution_count": 28,
   "metadata": {},
   "outputs": [],
   "source": [
    "class EncodingNet(nn.Module):\n",
    "    \n",
    "    def __init__(self, input_size):\n",
    "        super(Net, self).__init__()\n",
    "        self.fc = nn.Linear(input_size, 16)\n",
    "        self.out = nn.Linear(16, 8)\n",
    "        self.lrelu = LeakyReLU()\n",
    "        \n",
    "    def forward(self, x):\n",
    "        x = self.lrelu(self.fc(x))\n",
    "        x = self.lrelu(self.out(x))\n",
    "        return x"
   ]
  },
  {
   "cell_type": "code",
   "execution_count": 29,
   "metadata": {},
   "outputs": [],
   "source": [
    "class Net(nn.Module):\n",
    "    \n",
    "    def __init__(self, input_size):\n",
    "        super().__init__()\n",
    "        self.fc1 = nn.Linear(input_size, 50)\n",
    "        self.relu1 = nn.ReLU()\n",
    "        self.dout = nn.Dropout(0.2)\n",
    "        self.fc2 = nn.Linear(50, 100)\n",
    "        self.prelu = nn.PReLU(1)\n",
    "        self.out = nn.Linear(100, 1)\n",
    "        self.out_act = nn.Sigmoid()\n",
    "        \n",
    "    def forward(self, input_):\n",
    "        a1 = self.fc1(input_)\n",
    "        h1 = self.relu1(a1)\n",
    "        dout = self.dout(h1)\n",
    "        a2 = self.fc2(dout)\n",
    "        h2 = self.prelu(a2)\n",
    "        a3 = self.out(h2)\n",
    "        y = self.out_act(a3)\n",
    "        return y"
   ]
  },
  {
   "cell_type": "code",
   "execution_count": 31,
   "metadata": {},
   "outputs": [],
   "source": [
    "input_size = X_train.shape[1]\n",
    "classifier = SingleNet(input_size)\n",
    "opt = optim.Adam(classifier.parameters(), lr=0.001, betas=(0.9, 0.999))\n",
    "criterion = nn.BCELoss()"
   ]
  },
  {
   "cell_type": "code",
   "execution_count": 32,
   "metadata": {},
   "outputs": [],
   "source": [
    "if torch.cuda.is_available():\n",
    "    device=\"cuda\"\n",
    "    torch.set_default_tensor_type('torch.cuda.FloatTensor')\n",
    "else:\n",
    "    device=\"cpu\"\n",
    "    torch.set_default_tensor_type('torch.FloatTensor')"
   ]
  },
  {
   "cell_type": "code",
   "execution_count": 33,
   "metadata": {},
   "outputs": [],
   "source": [
    "def train_epoch(model, X, Y, opt, criterion, batch_size=64):\n",
    "    model.train()\n",
    "    losses = []\n",
    "    acc = []\n",
    "    for beg_i in range(0, X.shape[0], batch_size):\n",
    "        x_batch = X.iloc[beg_i:beg_i + batch_size].values\n",
    "        y_batch = Y[beg_i:beg_i + batch_size]\n",
    "        x_batch = torch.from_numpy(x_batch).to(device).float()\n",
    "        y_batch = torch.from_numpy(y_batch).to(device).float()\n",
    "        \n",
    "        opt.zero_grad()\n",
    "        # (1) Forward\n",
    "        y_hat = model(x_batch)\n",
    "        # (2) Compute diff\n",
    "        loss = criterion(y_hat, y_batch)\n",
    "        # (3) Compute gradients\n",
    "        loss.backward()\n",
    "        # (4) update weights\n",
    "        opt.step()        \n",
    "        \n",
    "        losses.append(loss.item())\n",
    "        \n",
    "        preds = torch.round(y_hat.data).squeeze(1).numpy()\n",
    "        accuracy = sum(preds == y_batch).numpy()/len(y_batch)\n",
    "\n",
    "        acc.append(accuracy)\n",
    "    return losses, acc"
   ]
  },
  {
   "cell_type": "code",
   "execution_count": 34,
   "metadata": {},
   "outputs": [],
   "source": [
    "def validate_epoch(model, X, Y, criterion, batch_size=64):\n",
    "    model.eval()\n",
    "    losses = []\n",
    "    acc = []\n",
    "    for beg_i in range(0, X.shape[0], batch_size):\n",
    "        with torch.no_grad():\n",
    "            x_batch = X.iloc[beg_i:beg_i + batch_size].values\n",
    "            y_batch = Y[beg_i:beg_i + batch_size]\n",
    "            x_batch = torch.from_numpy(x_batch).to(device).float()\n",
    "            y_batch = torch.from_numpy(y_batch).to(device).float()\n",
    "\n",
    "            y_hat = model(x_batch)\n",
    "            # (2) Compute diff\n",
    "            loss = criterion(y_hat, y_batch)\n",
    "            losses.append(loss.item())\n",
    "\n",
    "            preds = torch.round(y_hat.data).squeeze(1).numpy()\n",
    "            accuracy = sum(preds == y_batch).numpy()/len(y_batch)\n",
    "        \n",
    "        acc.append(accuracy)\n",
    "    return losses, acc"
   ]
  },
  {
   "cell_type": "code",
   "execution_count": 35,
   "metadata": {},
   "outputs": [
    {
     "name": "stderr",
     "output_type": "stream",
     "text": [
      "/Users/var/anaconda/envs/pytorch/lib/python3.6/site-packages/torch/nn/functional.py:1474: UserWarning: Using a target size (torch.Size([64])) that is different to the input size (torch.Size([64, 1])) is deprecated. Please ensure they have the same size.\n",
      "  \"Please ensure they have the same size.\".format(target.size(), input.size()))\n",
      "/Users/var/anaconda/envs/pytorch/lib/python3.6/site-packages/torch/nn/functional.py:1474: UserWarning: Using a target size (torch.Size([29])) that is different to the input size (torch.Size([29, 1])) is deprecated. Please ensure they have the same size.\n",
      "  \"Please ensure they have the same size.\".format(target.size(), input.size()))\n",
      "/Users/var/anaconda/envs/pytorch/lib/python3.6/site-packages/torch/nn/functional.py:1474: UserWarning: Using a target size (torch.Size([53])) that is different to the input size (torch.Size([53, 1])) is deprecated. Please ensure they have the same size.\n",
      "  \"Please ensure they have the same size.\".format(target.size(), input.size()))\n"
     ]
    },
    {
     "name": "stdout",
     "output_type": "stream",
     "text": [
      "Epoch: 0 Loss: 0.45276655989178155 Accuracy: 0.7920106419248003\n",
      "Test Epoch: 0 Loss: 0.36234141242201046 Accuracy: 0.8286671530220658\n",
      "Epoch: 1 Loss: 0.36335939118417643 Accuracy: 0.8265268848626534\n",
      "Test Epoch: 1 Loss: 0.35163911229978173 Accuracy: 0.8338588303485769\n",
      "Epoch: 2 Loss: 0.357899059894058 Accuracy: 0.8315145261055913\n",
      "Test Epoch: 2 Loss: 0.3477428036473565 Accuracy: 0.8359499920051167\n",
      "Epoch: 3 Loss: 0.35483425405234265 Accuracy: 0.8330593707383596\n",
      "Test Epoch: 3 Loss: 0.34556239161450986 Accuracy: 0.8371417292932523\n",
      "Epoch: 4 Loss: 0.3527905635830373 Accuracy: 0.8350014611338399\n",
      "Test Epoch: 4 Loss: 0.34418642028408536 Accuracy: 0.8383334665813879\n",
      "Epoch: 5 Loss: 0.35124718090571927 Accuracy: 0.8353987068965517\n",
      "Test Epoch: 5 Loss: 0.3432351591981063 Accuracy: 0.8393927886152862\n",
      "Epoch: 6 Loss: 0.34995621122882864 Accuracy: 0.8360166447496591\n",
      "Test Epoch: 6 Loss: 0.34261259209301514 Accuracy: 0.8400823472977295\n",
      "Epoch: 7 Loss: 0.34873504907229524 Accuracy: 0.8360607831677381\n",
      "Test Epoch: 7 Loss: 0.34207739668377374 Accuracy: 0.840507075471698\n",
      "Epoch: 8 Loss: 0.3476519772814492 Accuracy: 0.8370759667835573\n",
      "Test Epoch: 8 Loss: 0.3416751948958736 Accuracy: 0.8402422449632235\n",
      "Epoch: 9 Loss: 0.34669903783643313 Accuracy: 0.8381352888174557\n",
      "Test Epoch: 9 Loss: 0.34136068189548235 Accuracy: 0.8403746602174608\n",
      "Epoch: 10 Loss: 0.34590859328117746 Accuracy: 0.8389739187609585\n",
      "Test Epoch: 10 Loss: 0.34117076242879285 Accuracy: 0.8404021426287176\n",
      "Epoch: 11 Loss: 0.3452289199593377 Accuracy: 0.8388415035067212\n",
      "Test Epoch: 11 Loss: 0.34107560778068285 Accuracy: 0.8411966341541414\n",
      "Epoch: 12 Loss: 0.34462128377566903 Accuracy: 0.8387973650886421\n",
      "Test Epoch: 12 Loss: 0.3409977987156076 Accuracy: 0.8407993883914295\n",
      "Epoch: 13 Loss: 0.34410970565457805 Accuracy: 0.8386208114163257\n",
      "Test Epoch: 13 Loss: 0.34092415654558245 Accuracy: 0.8404021426287176\n",
      "Epoch: 14 Loss: 0.343670364574524 Accuracy: 0.8390180571790375\n",
      "Test Epoch: 14 Loss: 0.3409716869562359 Accuracy: 0.841064218899904\n",
      "Epoch: 15 Loss: 0.34326449327044567 Accuracy: 0.8389739187609585\n",
      "Test Epoch: 15 Loss: 0.34101510691945836 Accuracy: 0.840534557882955\n",
      "Epoch: 16 Loss: 0.34289807893630475 Accuracy: 0.8392828876875121\n",
      "Test Epoch: 16 Loss: 0.341111720113431 Accuracy: 0.8406669731371922\n",
      "Epoch: 17 Loss: 0.34253650899492416 Accuracy: 0.8392828876875121\n",
      "Test Epoch: 17 Loss: 0.34115630337747477 Accuracy: 0.8404021426287176\n",
      "Epoch: 18 Loss: 0.3422115231722088 Accuracy: 0.8395477181959867\n",
      "Test Epoch: 18 Loss: 0.34121023055355426 Accuracy: 0.8409318036456668\n",
      "Epoch: 19 Loss: 0.3419350136050397 Accuracy: 0.8393270261055913\n",
      "Test Epoch: 19 Loss: 0.34128671935049154 Accuracy: 0.8404021426287176\n",
      "Epoch: 20 Loss: 0.34167472167877155 Accuracy: 0.8395918566140659\n",
      "Test Epoch: 20 Loss: 0.341399810576843 Accuracy: 0.8400048968660058\n",
      "Epoch: 21 Loss: 0.3414027495572796 Accuracy: 0.8394153029417495\n",
      "Test Epoch: 21 Loss: 0.34153426059726943 Accuracy: 0.8398724816117684\n",
      "Epoch: 22 Loss: 0.34114127955531 Accuracy: 0.8395035797779077\n",
      "Test Epoch: 22 Loss: 0.3416147017377918 Accuracy: 0.8398724816117684\n",
      "Epoch: 23 Loss: 0.34086969040207943 Accuracy: 0.8399449639586986\n",
      "Test Epoch: 23 Loss: 0.34171713901273276 Accuracy: 0.839210405340582\n",
      "Epoch: 24 Loss: 0.34062962128786045 Accuracy: 0.840121517631015\n",
      "Test Epoch: 24 Loss: 0.3418489964836735 Accuracy: 0.8390779900863448\n"
     ]
    }
   ],
   "source": [
    "e_losses = []\n",
    "e_accs = []\n",
    "val_losses = []\n",
    "val_accs = []\n",
    "num_epochs = 25\n",
    "for e in range(num_epochs):\n",
    "    e_loss, e_acc = train_epoch(classifier, X_train, y_train, opt, criterion)\n",
    "    print('Epoch: {} Loss: {} Accuracy: {}'.format(e, np.mean(e_loss), np.mean(e_acc)))\n",
    "    e_losses.append(np.mean(e_loss))\n",
    "    e_accs.append(np.mean(e_acc))\n",
    "    val_loss, val_acc = validate_epoch(classifier, X_test, y_test, criterion)\n",
    "    print('Test Epoch: {} Loss: {} Accuracy: {}'.format(e, np.mean(val_loss), np.mean(val_acc)))\n",
    "    val_losses.append(np.mean(val_loss))\n",
    "    val_accs.append(np.mean(val_acc))"
   ]
  },
  {
   "cell_type": "code",
   "execution_count": 36,
   "metadata": {},
   "outputs": [
    {
     "data": {
      "text/plain": [
       "[<matplotlib.lines.Line2D at 0x1a1732c5c0>]"
      ]
     },
     "execution_count": 36,
     "metadata": {},
     "output_type": "execute_result"
    },
    {
     "data": {
      "image/png": "[encoded data removed]",
      "text/plain": [
       "<Figure size 720x720 with 4 Axes>"
      ]
     },
     "metadata": {},
     "output_type": "display_data"
    }
   ],
   "source": [
    "plt.figure(figsize=(10,10))\n",
    "plt.subplot(221)\n",
    "plt.plot(e_losses)\n",
    "plt.subplot(222)\n",
    "plt.plot(e_acc)\n",
    "plt.subplot(223)\n",
    "plt.plot(val_losses)\n",
    "plt.subplot(224)\n",
    "plt.plot(val_acc)"
   ]
  },
  {
   "cell_type": "markdown",
   "metadata": {},
   "source": [
    "# Adversary"
   ]
  },
  {
   "cell_type": "code",
   "execution_count": null,
   "metadata": {},
   "outputs": [],
   "source": [
    "adv_df = df.copy()"
   ]
  },
  {
   "cell_type": "code",
   "execution_count": 37,
   "metadata": {},
   "outputs": [],
   "source": [
    "adv_df.drop(\"Gender_Female\", axis=1, inplace=True)\n",
    "adv_df.drop(\"Gender_Male\", axis=1, inplace=True)"
   ]
  },
  {
   "cell_type": "code",
   "execution_count": 38,
   "metadata": {},
   "outputs": [],
   "source": [
    "advX_train, advX_test, a_train, a_test = train_test_split(\n",
    "    adv_df, sensitive_all, test_size=0.25, stratify=sensitive_all, random_state=rs,\n",
    ")"
   ]
  },
  {
   "cell_type": "code",
   "execution_count": 39,
   "metadata": {},
   "outputs": [
    {
     "data": {
      "text/plain": [
       "(22621,)"
      ]
     },
     "execution_count": 39,
     "metadata": {},
     "output_type": "execute_result"
    }
   ],
   "source": [
    "a_train.shape"
   ]
  },
  {
   "cell_type": "code",
   "execution_count": 40,
   "metadata": {},
   "outputs": [],
   "source": [
    "input_size = advX_train.shape[1]\n",
    "adversary = SingleNet(input_size)\n",
    "advopt = optim.Adam(adversary.parameters(), lr=0.001, betas=(0.9, 0.999))\n",
    "advcriterion = nn.BCELoss()"
   ]
  },
  {
   "cell_type": "code",
   "execution_count": 41,
   "metadata": {},
   "outputs": [],
   "source": [
    "if torch.cuda.is_available():\n",
    "    device=\"cuda\"\n",
    "    torch.set_default_tensor_type('torch.cuda.FloatTensor')\n",
    "else:\n",
    "    device=\"cpu\"\n",
    "    torch.set_default_tensor_type('torch.FloatTensor')"
   ]
  },
  {
   "cell_type": "code",
   "execution_count": 42,
   "metadata": {},
   "outputs": [
    {
     "name": "stderr",
     "output_type": "stream",
     "text": [
      "/Users/var/anaconda/envs/pytorch/lib/python3.6/site-packages/torch/nn/functional.py:1474: UserWarning: Using a target size (torch.Size([64])) that is different to the input size (torch.Size([64, 1])) is deprecated. Please ensure they have the same size.\n",
      "  \"Please ensure they have the same size.\".format(target.size(), input.size()))\n",
      "/Users/var/anaconda/envs/pytorch/lib/python3.6/site-packages/torch/nn/functional.py:1474: UserWarning: Using a target size (torch.Size([29])) that is different to the input size (torch.Size([29, 1])) is deprecated. Please ensure they have the same size.\n",
      "  \"Please ensure they have the same size.\".format(target.size(), input.size()))\n",
      "/Users/var/anaconda/envs/pytorch/lib/python3.6/site-packages/torch/nn/functional.py:1474: UserWarning: Using a target size (torch.Size([53])) that is different to the input size (torch.Size([53, 1])) is deprecated. Please ensure they have the same size.\n",
      "  \"Please ensure they have the same size.\".format(target.size(), input.size()))\n"
     ]
    },
    {
     "name": "stdout",
     "output_type": "stream",
     "text": [
      "Epoch: 0 Loss: 0.4974806469544179 Accuracy: 0.7420977011494253\n",
      "Test Epoch: 0 Loss: 0.3496308100678153 Accuracy: 0.8335440318196355\n",
      "Epoch: 1 Loss: 0.3204945838973347 Accuracy: 0.8427774327878435\n",
      "Test Epoch: 1 Loss: 0.30440063218949204 Accuracy: 0.8476075311800447\n",
      "Epoch: 2 Loss: 0.2978754339497642 Accuracy: 0.8487011128969413\n",
      "Test Epoch: 2 Loss: 0.29551955703961647 Accuracy: 0.8491965142308923\n",
      "Epoch: 3 Loss: 0.29181375005150917 Accuracy: 0.8500252654393141\n",
      "Test Epoch: 3 Loss: 0.29269135579214256 Accuracy: 0.8497261752478413\n",
      "Epoch: 4 Loss: 0.2891705152341875 Accuracy: 0.8503783727839469\n",
      "Test Epoch: 4 Loss: 0.2915052491224418 Accuracy: 0.8498585905020787\n",
      "Epoch: 5 Loss: 0.2876675355400743 Accuracy: 0.8507314801285797\n",
      "Test Epoch: 5 Loss: 0.29089744957321784 Accuracy: 0.8490640989766549\n",
      "Epoch: 6 Loss: 0.28672547491088424 Accuracy: 0.8502018191116305\n",
      "Test Epoch: 6 Loss: 0.2905050221893747 Accuracy: 0.8492239966421491\n",
      "Epoch: 7 Loss: 0.28605804996470274 Accuracy: 0.8508638953828169\n",
      "Test Epoch: 7 Loss: 0.29025801069150536 Accuracy: 0.8498860729133355\n",
      "Epoch: 8 Loss: 0.2855292163831366 Accuracy: 0.8511728643093707\n",
      "Test Epoch: 8 Loss: 0.2900991848969864 Accuracy: 0.8500184881675727\n",
      "Epoch: 9 Loss: 0.2851039055040327 Accuracy: 0.8515701100720825\n",
      "Test Epoch: 9 Loss: 0.29000043629084604 Accuracy: 0.8514750559641829\n",
      "Epoch: 10 Loss: 0.2847491888760847 Accuracy: 0.8520556326709525\n",
      "Test Epoch: 10 Loss: 0.28994369039596135 Accuracy: 0.8512102254557083\n",
      "Epoch: 11 Loss: 0.2844422184730654 Accuracy: 0.8520114942528735\n",
      "Test Epoch: 11 Loss: 0.28989333583641863 Accuracy: 0.8506805644387593\n",
      "Epoch: 12 Loss: 0.28414766814580744 Accuracy: 0.8520997710890317\n",
      "Test Epoch: 12 Loss: 0.2898486254073806 Accuracy: 0.8508404621042532\n",
      "Epoch: 13 Loss: 0.28388665166109966 Accuracy: 0.8521439095071107\n",
      "Test Epoch: 13 Loss: 0.2898294814562393 Accuracy: 0.8511052926127278\n",
      "Epoch: 14 Loss: 0.283656674000503 Accuracy: 0.8525411552698227\n",
      "Test Epoch: 14 Loss: 0.28981897449594435 Accuracy: 0.851634953629677\n",
      "Epoch: 15 Loss: 0.28343539087280717 Accuracy: 0.8525411552698227\n",
      "Test Epoch: 15 Loss: 0.2898130943462 Accuracy: 0.8520321993923888\n",
      "Epoch: 16 Loss: 0.28324384132852665 Accuracy: 0.8523204631794271\n",
      "Test Epoch: 16 Loss: 0.28978132949037066 Accuracy: 0.8524569275663576\n",
      "Epoch: 17 Loss: 0.28306126733452586 Accuracy: 0.8523204631794271\n",
      "Test Epoch: 17 Loss: 0.289771211475639 Accuracy: 0.8537810801087304\n",
      "Epoch: 18 Loss: 0.2828718847726698 Accuracy: 0.8524970168517435\n",
      "Test Epoch: 18 Loss: 0.2897940591230231 Accuracy: 0.8536486648544932\n",
      "Epoch: 19 Loss: 0.28270633771257886 Accuracy: 0.8523646015975063\n",
      "Test Epoch: 19 Loss: 0.28977412768339705 Accuracy: 0.8535162496002558\n",
      "Epoch: 20 Loss: 0.28254061415370574 Accuracy: 0.8526294321059809\n",
      "Test Epoch: 20 Loss: 0.2897449654795356 Accuracy: 0.8536486648544932\n",
      "Epoch: 21 Loss: 0.28239138058181534 Accuracy: 0.8532473699590881\n",
      "Test Epoch: 21 Loss: 0.28971475059703244 Accuracy: 0.8535162496002558\n",
      "Epoch: 22 Loss: 0.282237189132615 Accuracy: 0.8530708162867717\n",
      "Test Epoch: 22 Loss: 0.28966570885504705 Accuracy: 0.8536486648544932\n",
      "Epoch: 23 Loss: 0.28208665928598176 Accuracy: 0.8526294321059809\n",
      "Test Epoch: 23 Loss: 0.2895916699100349 Accuracy: 0.8537810801087304\n",
      "Epoch: 24 Loss: 0.2819239826357297 Accuracy: 0.8532032315410091\n",
      "Test Epoch: 24 Loss: 0.28950303224688867 Accuracy: 0.8536486648544932\n"
     ]
    }
   ],
   "source": [
    "advTrain_losses = []\n",
    "advTrain_accs = []\n",
    "advVal_losses = []\n",
    "advVal_accs = []\n",
    "num_epochs = 25\n",
    "for e in range(num_epochs):\n",
    "    advTrain_loss, advTrain_acc = train_epoch(adversary, advX_train, a_train, advopt, advcriterion)\n",
    "    print('Epoch: {} Loss: {} Accuracy: {}'.format(e, np.mean(advTrain_loss), np.mean(advTrain_acc)))\n",
    "    advTrain_losses.append(np.mean(advTrain_loss))\n",
    "    advTrain_accs.append(np.mean(advTrain_acc))\n",
    "    advVal_loss, advVal_acc = validate_epoch(adversary, advX_test, a_test, advcriterion)\n",
    "    print('Test Epoch: {} Loss: {} Accuracy: {}'.format(e, np.mean(advVal_loss), np.mean(advVal_acc)))\n",
    "    advVal_losses.append(np.mean(advVal_loss))\n",
    "    advVal_accs.append(np.mean(advVal_acc))"
   ]
  },
  {
   "cell_type": "code",
   "execution_count": 43,
   "metadata": {},
   "outputs": [
    {
     "data": {
      "text/plain": [
       "[<matplotlib.lines.Line2D at 0x1a188fd240>]"
      ]
     },
     "execution_count": 43,
     "metadata": {},
     "output_type": "execute_result"
    },
    {
     "data": {
      "image/png": "[encoded data removed]",
      "text/plain": [
       "<Figure size 720x720 with 4 Axes>"
      ]
     },
     "metadata": {},
     "output_type": "display_data"
    }
   ],
   "source": [
    "plt.figure(figsize=(10,10))\n",
    "plt.subplot(221)\n",
    "plt.plot(advTrain_losses)\n",
    "plt.subplot(222)\n",
    "plt.plot(advTrain_acc)\n",
    "plt.subplot(223)\n",
    "plt.plot(advVal_losses)\n",
    "plt.subplot(224)\n",
    "plt.plot(advVal_acc)"
   ]
  },
  {
   "cell_type": "markdown",
   "metadata": {},
   "source": [
    "# Adv losses"
   ]
  },
  {
   "cell_type": "code",
   "execution_count": 248,
   "metadata": {},
   "outputs": [],
   "source": [
    "class AdvDemographicParityLoss(nn.Module):\n",
    "    def __init__(self):\n",
    "        super(AdvDemographicParityLoss, self).__init__()\n",
    "        self.L1_distance = nn.L1Loss()\n",
    "        \n",
    "    def forward(self, input, sensitive):\n",
    "        if not (sensitive.shape[0] == input.shape[0]):\n",
    "            raise ValueError(\"Target size ({}) must be the same as input size ({})\".format(target.size(), input.size()))\n",
    "        \n",
    "        if isinstance(sensitive, np.ndarray):\n",
    "            sensitive = torch.from_numpy(sensitive)\n",
    "            sensitive = sensitive.float()\n",
    "        \n",
    "        input = input.squeeze(dim=1)\n",
    "        \n",
    "        a0_mask = (sensitive == 0)\n",
    "        a1_mask = (sensitive == 1)\n",
    "        \n",
    "        input_group0 = input[a0_mask]\n",
    "        input_group1 = input[a1_mask]\n",
    "        \n",
    "        target_group0 = sensitive[a0_mask]\n",
    "        target_group1 = sensitive[a1_mask]\n",
    "        \n",
    "        loss = 1 - (self.L1_distance(input_group0, target_group0) + self.L1_distance(input_group1, target_group1))\n",
    "        return loss\n",
    "        \n",
    "    "
   ]
  },
  {
   "cell_type": "code",
   "execution_count": 249,
   "metadata": {},
   "outputs": [],
   "source": [
    "class AdvEqOddsLoss(nn.Module):\n",
    "    def __init__(self):\n",
    "        super(AdvEqOddsLoss, self).__init__()\n",
    "        self.L1_distance = nn.L1Loss()\n",
    "        \n",
    "    def forward(self, input, sensitive, targets):\n",
    "        if not (targets.shape[0] == input.shape[0]):\n",
    "            raise ValueError(\"Target size ({}) must be the same as input size ({})\".format(target.size(), input.size()))\n",
    "        \n",
    "        if isinstance(targets, np.ndarray):\n",
    "            targets = torch.from_numpy(targets)\n",
    "            targets = targets.float()\n",
    "            \n",
    "        if isinstance(sensitive, np.ndarray):\n",
    "            sensitive = torch.from_numpy(sensitive)\n",
    "            sensitive = sensitive.float()\n",
    "        \n",
    "        \n",
    "        input = input.squeeze(dim=1)\n",
    "        \n",
    "        a00_mask = ((targets == 0).byte() & (sensitive == 0).byte())\n",
    "        a01_mask = ((targets == 1).byte() & (sensitive == 0).byte())\n",
    "        a10_mask = ((targets == 0).byte() & (sensitive == 1).byte())\n",
    "        a11_mask = ((targets == 1).byte() & (sensitive == 1).byte())\n",
    "\n",
    "        input_group00 = input[a00_mask]\n",
    "        input_group01 = input[a01_mask]\n",
    "        input_group10 = input[a10_mask]\n",
    "        input_group11 = input[a11_mask]\n",
    "\n",
    "        target_group00 = targets[a00_mask]\n",
    "        target_group01 = targets[a01_mask]\n",
    "        target_group10 = targets[a10_mask]\n",
    "        target_group11 = targets[a11_mask]\n",
    "\n",
    "        loss = 2 - (L1_distance(input_group00, target_group00) + L1_distance(input_group01, target_group01)\n",
    "                   + L1_distance(input_group10, target_group10) + L1_distance(input_group11, target_group11))\n",
    "    \n",
    "        return loss"
   ]
  },
  {
   "cell_type": "code",
   "execution_count": 250,
   "metadata": {},
   "outputs": [],
   "source": [
    "input = adversary(torch.from_numpy(advX_test.values).float())\n",
    "targets = a_test"
   ]
  },
  {
   "cell_type": "code",
   "execution_count": 251,
   "metadata": {},
   "outputs": [],
   "source": [
    "AdvDPLoss = AdvDemographicParityLoss()"
   ]
  },
  {
   "cell_type": "code",
   "execution_count": 252,
   "metadata": {},
   "outputs": [
    {
     "data": {
      "text/plain": [
       "tensor(0.5580)"
      ]
     },
     "execution_count": 252,
     "metadata": {},
     "output_type": "execute_result"
    }
   ],
   "source": [
    "AdvDPLoss(input, targets)"
   ]
  },
  {
   "cell_type": "code",
   "execution_count": 253,
   "metadata": {},
   "outputs": [],
   "source": [
    "AdvEOLoss = AdvEqOddsLoss()"
   ]
  },
  {
   "cell_type": "code",
   "execution_count": 254,
   "metadata": {},
   "outputs": [
    {
     "data": {
      "text/plain": [
       "tensor(1.00000e-02 *\n",
       "       -1.5772)"
      ]
     },
     "execution_count": 254,
     "metadata": {},
     "output_type": "execute_result"
    }
   ],
   "source": [
    "AdvEOLoss(input, a_test, y_test)"
   ]
  },
  {
   "cell_type": "code",
   "execution_count": null,
   "metadata": {},
   "outputs": [],
   "source": []
  }
 ],
 "metadata": {
  "kernelspec": {
   "display_name": "Python 3",
   "language": "python",
   "name": "python3"
  },
  "language_info": {
   "codemirror_mode": {
    "name": "ipython",
    "version": 3
   },
   "file_extension": ".py",
   "mimetype": "text/x-python",
   "name": "python",
   "nbconvert_exporter": "python",
   "pygments_lexer": "ipython3",
   "version": "3.6.5"
  }
 },
 "nbformat": 4,
 "nbformat_minor": 2
}
