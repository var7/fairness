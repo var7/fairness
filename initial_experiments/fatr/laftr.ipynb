{
 "cells": [
  {
   "cell_type": "code",
   "execution_count": 1,
   "metadata": {},
   "outputs": [],
   "source": [
    "import os\n",
    "import sys\n",
    "import time\n",
    "import copy\n",
    "import argparse\n",
    "import datetime"
   ]
  },
  {
   "cell_type": "code",
   "execution_count": 2,
   "metadata": {},
   "outputs": [],
   "source": [
    "import pandas as pd\n",
    "import numpy as np\n",
    "import matplotlib.pyplot as plt\n",
    "import matplotlib\n",
    "from numpy.random import RandomState\n",
    "plt.style.use('dark_background')"
   ]
  },
  {
   "cell_type": "code",
   "execution_count": 3,
   "metadata": {},
   "outputs": [],
   "source": [
    "from sklearn.linear_model import LogisticRegression, LogisticRegressionCV\n",
    "from sklearn.metrics import accuracy_score, confusion_matrix, make_scorer, precision_recall_fscore_support, roc_auc_score\n",
    "from sklearn.model_selection import GridSearchCV, StratifiedKFold, train_test_split\n",
    "from sklearn.pipeline import Pipeline\n",
    "from sklearn.preprocessing import RobustScaler, StandardScaler"
   ]
  },
  {
   "cell_type": "code",
   "execution_count": 4,
   "metadata": {},
   "outputs": [],
   "source": [
    "import torch\n",
    "import torch.nn as nn\n",
    "import torch.backends.cudnn as cudnn\n",
    "import torch.optim as optim\n",
    "import torch.optim.lr_scheduler as lr_scheduler\n",
    "import torch.functional as F\n",
    "from torchvision import transforms, utils, models\n",
    "from torch.utils.data import Dataset, DataLoader\n",
    "from torch.nn.modules.activation import Sigmoid, LeakyReLU"
   ]
  },
  {
   "cell_type": "code",
   "execution_count": 5,
   "metadata": {},
   "outputs": [],
   "source": [
    "rs = RandomState(1791387)"
   ]
  },
  {
   "cell_type": "code",
   "execution_count": 6,
   "metadata": {},
   "outputs": [],
   "source": [
    "DATA_PATH = './uci_adult/'\n",
    "TRAIN_PATH = os.path.join(DATA_PATH, 'adult.data')\n",
    "TEST_PATH = os.path.join(DATA_PATH, 'adult.test')\n",
    "header = [\"Age\", \"WorkClass\", \"fnlwgt\", \"Education\", \"EducationNum\",\n",
    "    \"MaritalStatus\", \"Occupation\", \"Relationship\", \"Race\", \"Gender\",\n",
    "    \"CapitalGain\", \"CapitalLoss\", \"HoursPerWeek\", \"NativeCountry\", \"Income\"]"
   ]
  },
  {
   "cell_type": "code",
   "execution_count": 7,
   "metadata": {},
   "outputs": [
    {
     "name": "stderr",
     "output_type": "stream",
     "text": [
      "/Users/var/anaconda/envs/pytorch/lib/python3.6/site-packages/ipykernel_launcher.py:1: ParserWarning: Falling back to the 'python' engine because the 'c' engine does not support regex separators (separators > 1 char and different from '\\s+' are interpreted as regex); you can avoid this warning by specifying engine='python'.\n",
      "  \"\"\"Entry point for launching an IPython kernel.\n"
     ]
    }
   ],
   "source": [
    "df = pd.read_csv(TRAIN_PATH, header=None, names=header, sep=',\\s', na_values=[\"?\"])"
   ]
  },
  {
   "cell_type": "code",
   "execution_count": 8,
   "metadata": {},
   "outputs": [
    {
     "data": {
      "text/html": [
       "<div>\n",
       "<style scoped>\n",
       "    .dataframe tbody tr th:only-of-type {\n",
       "        vertical-align: middle;\n",
       "    }\n",
       "\n",
       "    .dataframe tbody tr th {\n",
       "        vertical-align: top;\n",
       "    }\n",
       "\n",
       "    .dataframe thead th {\n",
       "        text-align: right;\n",
       "    }\n",
       "</style>\n",
       "<table border=\"1\" class=\"dataframe\">\n",
       "  <thead>\n",
       "    <tr style=\"text-align: right;\">\n",
       "      <th></th>\n",
       "      <th>Age</th>\n",
       "      <th>WorkClass</th>\n",
       "      <th>fnlwgt</th>\n",
       "      <th>Education</th>\n",
       "      <th>EducationNum</th>\n",
       "      <th>MaritalStatus</th>\n",
       "      <th>Occupation</th>\n",
       "      <th>Relationship</th>\n",
       "      <th>Race</th>\n",
       "      <th>Gender</th>\n",
       "      <th>CapitalGain</th>\n",
       "      <th>CapitalLoss</th>\n",
       "      <th>HoursPerWeek</th>\n",
       "      <th>NativeCountry</th>\n",
       "      <th>Income</th>\n",
       "    </tr>\n",
       "  </thead>\n",
       "  <tbody>\n",
       "    <tr>\n",
       "      <th>0</th>\n",
       "      <td>39</td>\n",
       "      <td>State-gov</td>\n",
       "      <td>77516</td>\n",
       "      <td>Bachelors</td>\n",
       "      <td>13</td>\n",
       "      <td>Never-married</td>\n",
       "      <td>Adm-clerical</td>\n",
       "      <td>Not-in-family</td>\n",
       "      <td>White</td>\n",
       "      <td>Male</td>\n",
       "      <td>2174</td>\n",
       "      <td>0</td>\n",
       "      <td>40</td>\n",
       "      <td>United-States</td>\n",
       "      <td>&lt;=50K</td>\n",
       "    </tr>\n",
       "    <tr>\n",
       "      <th>1</th>\n",
       "      <td>50</td>\n",
       "      <td>Self-emp-not-inc</td>\n",
       "      <td>83311</td>\n",
       "      <td>Bachelors</td>\n",
       "      <td>13</td>\n",
       "      <td>Married-civ-spouse</td>\n",
       "      <td>Exec-managerial</td>\n",
       "      <td>Husband</td>\n",
       "      <td>White</td>\n",
       "      <td>Male</td>\n",
       "      <td>0</td>\n",
       "      <td>0</td>\n",
       "      <td>13</td>\n",
       "      <td>United-States</td>\n",
       "      <td>&lt;=50K</td>\n",
       "    </tr>\n",
       "    <tr>\n",
       "      <th>2</th>\n",
       "      <td>38</td>\n",
       "      <td>Private</td>\n",
       "      <td>215646</td>\n",
       "      <td>HS-grad</td>\n",
       "      <td>9</td>\n",
       "      <td>Divorced</td>\n",
       "      <td>Handlers-cleaners</td>\n",
       "      <td>Not-in-family</td>\n",
       "      <td>White</td>\n",
       "      <td>Male</td>\n",
       "      <td>0</td>\n",
       "      <td>0</td>\n",
       "      <td>40</td>\n",
       "      <td>United-States</td>\n",
       "      <td>&lt;=50K</td>\n",
       "    </tr>\n",
       "    <tr>\n",
       "      <th>3</th>\n",
       "      <td>53</td>\n",
       "      <td>Private</td>\n",
       "      <td>234721</td>\n",
       "      <td>11th</td>\n",
       "      <td>7</td>\n",
       "      <td>Married-civ-spouse</td>\n",
       "      <td>Handlers-cleaners</td>\n",
       "      <td>Husband</td>\n",
       "      <td>Black</td>\n",
       "      <td>Male</td>\n",
       "      <td>0</td>\n",
       "      <td>0</td>\n",
       "      <td>40</td>\n",
       "      <td>United-States</td>\n",
       "      <td>&lt;=50K</td>\n",
       "    </tr>\n",
       "    <tr>\n",
       "      <th>4</th>\n",
       "      <td>28</td>\n",
       "      <td>Private</td>\n",
       "      <td>338409</td>\n",
       "      <td>Bachelors</td>\n",
       "      <td>13</td>\n",
       "      <td>Married-civ-spouse</td>\n",
       "      <td>Prof-specialty</td>\n",
       "      <td>Wife</td>\n",
       "      <td>Black</td>\n",
       "      <td>Female</td>\n",
       "      <td>0</td>\n",
       "      <td>0</td>\n",
       "      <td>40</td>\n",
       "      <td>Cuba</td>\n",
       "      <td>&lt;=50K</td>\n",
       "    </tr>\n",
       "  </tbody>\n",
       "</table>\n",
       "</div>"
      ],
      "text/plain": [
       "   Age         WorkClass  fnlwgt  Education  EducationNum       MaritalStatus  \\\n",
       "0   39         State-gov   77516  Bachelors            13       Never-married   \n",
       "1   50  Self-emp-not-inc   83311  Bachelors            13  Married-civ-spouse   \n",
       "2   38           Private  215646    HS-grad             9            Divorced   \n",
       "3   53           Private  234721       11th             7  Married-civ-spouse   \n",
       "4   28           Private  338409  Bachelors            13  Married-civ-spouse   \n",
       "\n",
       "          Occupation   Relationship   Race  Gender  CapitalGain  CapitalLoss  \\\n",
       "0       Adm-clerical  Not-in-family  White    Male         2174            0   \n",
       "1    Exec-managerial        Husband  White    Male            0            0   \n",
       "2  Handlers-cleaners  Not-in-family  White    Male            0            0   \n",
       "3  Handlers-cleaners        Husband  Black    Male            0            0   \n",
       "4     Prof-specialty           Wife  Black  Female            0            0   \n",
       "\n",
       "   HoursPerWeek  NativeCountry Income  \n",
       "0            40  United-States  <=50K  \n",
       "1            13  United-States  <=50K  \n",
       "2            40  United-States  <=50K  \n",
       "3            40  United-States  <=50K  \n",
       "4            40           Cuba  <=50K  "
      ]
     },
     "execution_count": 8,
     "metadata": {},
     "output_type": "execute_result"
    }
   ],
   "source": [
    "df.head()"
   ]
  },
  {
   "cell_type": "code",
   "execution_count": 9,
   "metadata": {},
   "outputs": [
    {
     "data": {
      "text/plain": [
       "True"
      ]
     },
     "execution_count": 9,
     "metadata": {},
     "output_type": "execute_result"
    }
   ],
   "source": [
    "df.isnull().values.any()"
   ]
  },
  {
   "cell_type": "code",
   "execution_count": 10,
   "metadata": {},
   "outputs": [
    {
     "data": {
      "text/html": [
       "<div>\n",
       "<style scoped>\n",
       "    .dataframe tbody tr th:only-of-type {\n",
       "        vertical-align: middle;\n",
       "    }\n",
       "\n",
       "    .dataframe tbody tr th {\n",
       "        vertical-align: top;\n",
       "    }\n",
       "\n",
       "    .dataframe thead th {\n",
       "        text-align: right;\n",
       "    }\n",
       "</style>\n",
       "<table border=\"1\" class=\"dataframe\">\n",
       "  <thead>\n",
       "    <tr style=\"text-align: right;\">\n",
       "      <th></th>\n",
       "      <th>Age</th>\n",
       "      <th>WorkClass</th>\n",
       "      <th>fnlwgt</th>\n",
       "      <th>Education</th>\n",
       "      <th>EducationNum</th>\n",
       "      <th>MaritalStatus</th>\n",
       "      <th>Occupation</th>\n",
       "      <th>Relationship</th>\n",
       "      <th>Race</th>\n",
       "      <th>Gender</th>\n",
       "      <th>CapitalGain</th>\n",
       "      <th>CapitalLoss</th>\n",
       "      <th>HoursPerWeek</th>\n",
       "      <th>NativeCountry</th>\n",
       "      <th>Income</th>\n",
       "    </tr>\n",
       "  </thead>\n",
       "  <tbody>\n",
       "    <tr>\n",
       "      <th>0</th>\n",
       "      <td>39</td>\n",
       "      <td>State-gov</td>\n",
       "      <td>77516</td>\n",
       "      <td>Bachelors</td>\n",
       "      <td>13</td>\n",
       "      <td>Never-married</td>\n",
       "      <td>Adm-clerical</td>\n",
       "      <td>Not-in-family</td>\n",
       "      <td>White</td>\n",
       "      <td>Male</td>\n",
       "      <td>2174</td>\n",
       "      <td>0</td>\n",
       "      <td>40</td>\n",
       "      <td>United-States</td>\n",
       "      <td>&lt;=50K</td>\n",
       "    </tr>\n",
       "    <tr>\n",
       "      <th>1</th>\n",
       "      <td>50</td>\n",
       "      <td>Self-emp-not-inc</td>\n",
       "      <td>83311</td>\n",
       "      <td>Bachelors</td>\n",
       "      <td>13</td>\n",
       "      <td>Married-civ-spouse</td>\n",
       "      <td>Exec-managerial</td>\n",
       "      <td>Husband</td>\n",
       "      <td>White</td>\n",
       "      <td>Male</td>\n",
       "      <td>0</td>\n",
       "      <td>0</td>\n",
       "      <td>13</td>\n",
       "      <td>United-States</td>\n",
       "      <td>&lt;=50K</td>\n",
       "    </tr>\n",
       "    <tr>\n",
       "      <th>2</th>\n",
       "      <td>38</td>\n",
       "      <td>Private</td>\n",
       "      <td>215646</td>\n",
       "      <td>HS-grad</td>\n",
       "      <td>9</td>\n",
       "      <td>Divorced</td>\n",
       "      <td>Handlers-cleaners</td>\n",
       "      <td>Not-in-family</td>\n",
       "      <td>White</td>\n",
       "      <td>Male</td>\n",
       "      <td>0</td>\n",
       "      <td>0</td>\n",
       "      <td>40</td>\n",
       "      <td>United-States</td>\n",
       "      <td>&lt;=50K</td>\n",
       "    </tr>\n",
       "    <tr>\n",
       "      <th>3</th>\n",
       "      <td>53</td>\n",
       "      <td>Private</td>\n",
       "      <td>234721</td>\n",
       "      <td>11th</td>\n",
       "      <td>7</td>\n",
       "      <td>Married-civ-spouse</td>\n",
       "      <td>Handlers-cleaners</td>\n",
       "      <td>Husband</td>\n",
       "      <td>Black</td>\n",
       "      <td>Male</td>\n",
       "      <td>0</td>\n",
       "      <td>0</td>\n",
       "      <td>40</td>\n",
       "      <td>United-States</td>\n",
       "      <td>&lt;=50K</td>\n",
       "    </tr>\n",
       "    <tr>\n",
       "      <th>4</th>\n",
       "      <td>28</td>\n",
       "      <td>Private</td>\n",
       "      <td>338409</td>\n",
       "      <td>Bachelors</td>\n",
       "      <td>13</td>\n",
       "      <td>Married-civ-spouse</td>\n",
       "      <td>Prof-specialty</td>\n",
       "      <td>Wife</td>\n",
       "      <td>Black</td>\n",
       "      <td>Female</td>\n",
       "      <td>0</td>\n",
       "      <td>0</td>\n",
       "      <td>40</td>\n",
       "      <td>Cuba</td>\n",
       "      <td>&lt;=50K</td>\n",
       "    </tr>\n",
       "  </tbody>\n",
       "</table>\n",
       "</div>"
      ],
      "text/plain": [
       "   Age         WorkClass  fnlwgt  Education  EducationNum       MaritalStatus  \\\n",
       "0   39         State-gov   77516  Bachelors            13       Never-married   \n",
       "1   50  Self-emp-not-inc   83311  Bachelors            13  Married-civ-spouse   \n",
       "2   38           Private  215646    HS-grad             9            Divorced   \n",
       "3   53           Private  234721       11th             7  Married-civ-spouse   \n",
       "4   28           Private  338409  Bachelors            13  Married-civ-spouse   \n",
       "\n",
       "          Occupation   Relationship   Race  Gender  CapitalGain  CapitalLoss  \\\n",
       "0       Adm-clerical  Not-in-family  White    Male         2174            0   \n",
       "1    Exec-managerial        Husband  White    Male            0            0   \n",
       "2  Handlers-cleaners  Not-in-family  White    Male            0            0   \n",
       "3  Handlers-cleaners        Husband  Black    Male            0            0   \n",
       "4     Prof-specialty           Wife  Black  Female            0            0   \n",
       "\n",
       "   HoursPerWeek  NativeCountry Income  \n",
       "0            40  United-States  <=50K  \n",
       "1            13  United-States  <=50K  \n",
       "2            40  United-States  <=50K  \n",
       "3            40  United-States  <=50K  \n",
       "4            40           Cuba  <=50K  "
      ]
     },
     "execution_count": 10,
     "metadata": {},
     "output_type": "execute_result"
    }
   ],
   "source": [
    "df = df.dropna()\n",
    "df.head()"
   ]
  },
  {
   "cell_type": "code",
   "execution_count": 11,
   "metadata": {},
   "outputs": [
    {
     "data": {
      "text/plain": [
       "array(['<=50K', '>50K'], dtype=object)"
      ]
     },
     "execution_count": 11,
     "metadata": {},
     "output_type": "execute_result"
    }
   ],
   "source": [
    "df.Income.unique()"
   ]
  },
  {
   "cell_type": "code",
   "execution_count": 12,
   "metadata": {},
   "outputs": [],
   "source": [
    "df[\"Income\"] = df[\"Income\"].map({ \"<=50K\": 0, \">50K\": 1 })"
   ]
  },
  {
   "cell_type": "code",
   "execution_count": 13,
   "metadata": {},
   "outputs": [],
   "source": [
    "y_all = df[\"Income\"].values"
   ]
  },
  {
   "cell_type": "code",
   "execution_count": 14,
   "metadata": {},
   "outputs": [
    {
     "data": {
      "text/plain": [
       "array(['Male', 'Female'], dtype=object)"
      ]
     },
     "execution_count": 14,
     "metadata": {},
     "output_type": "execute_result"
    }
   ],
   "source": [
    "df.Gender.unique()"
   ]
  },
  {
   "cell_type": "code",
   "execution_count": 15,
   "metadata": {},
   "outputs": [],
   "source": [
    "sensitive_all = df[\"Gender\"].map({\"Male\": 0, \"Female\": 1}).values"
   ]
  },
  {
   "cell_type": "code",
   "execution_count": 16,
   "metadata": {},
   "outputs": [],
   "source": [
    "df.drop(\"Income\", axis=1, inplace=True,)"
   ]
  },
  {
   "cell_type": "code",
   "execution_count": 17,
   "metadata": {},
   "outputs": [
    {
     "data": {
      "text/html": [
       "<div>\n",
       "<style scoped>\n",
       "    .dataframe tbody tr th:only-of-type {\n",
       "        vertical-align: middle;\n",
       "    }\n",
       "\n",
       "    .dataframe tbody tr th {\n",
       "        vertical-align: top;\n",
       "    }\n",
       "\n",
       "    .dataframe thead th {\n",
       "        text-align: right;\n",
       "    }\n",
       "</style>\n",
       "<table border=\"1\" class=\"dataframe\">\n",
       "  <thead>\n",
       "    <tr style=\"text-align: right;\">\n",
       "      <th></th>\n",
       "      <th>Age</th>\n",
       "      <th>fnlwgt</th>\n",
       "      <th>EducationNum</th>\n",
       "      <th>CapitalGain</th>\n",
       "      <th>CapitalLoss</th>\n",
       "      <th>HoursPerWeek</th>\n",
       "    </tr>\n",
       "  </thead>\n",
       "  <tbody>\n",
       "    <tr>\n",
       "      <th>count</th>\n",
       "      <td>30162.000000</td>\n",
       "      <td>3.016200e+04</td>\n",
       "      <td>30162.000000</td>\n",
       "      <td>30162.000000</td>\n",
       "      <td>30162.000000</td>\n",
       "      <td>30162.000000</td>\n",
       "    </tr>\n",
       "    <tr>\n",
       "      <th>mean</th>\n",
       "      <td>38.437902</td>\n",
       "      <td>1.897938e+05</td>\n",
       "      <td>10.121312</td>\n",
       "      <td>1092.007858</td>\n",
       "      <td>88.372489</td>\n",
       "      <td>40.931238</td>\n",
       "    </tr>\n",
       "    <tr>\n",
       "      <th>std</th>\n",
       "      <td>13.134665</td>\n",
       "      <td>1.056530e+05</td>\n",
       "      <td>2.549995</td>\n",
       "      <td>7406.346497</td>\n",
       "      <td>404.298370</td>\n",
       "      <td>11.979984</td>\n",
       "    </tr>\n",
       "    <tr>\n",
       "      <th>min</th>\n",
       "      <td>17.000000</td>\n",
       "      <td>1.376900e+04</td>\n",
       "      <td>1.000000</td>\n",
       "      <td>0.000000</td>\n",
       "      <td>0.000000</td>\n",
       "      <td>1.000000</td>\n",
       "    </tr>\n",
       "    <tr>\n",
       "      <th>25%</th>\n",
       "      <td>28.000000</td>\n",
       "      <td>1.176272e+05</td>\n",
       "      <td>9.000000</td>\n",
       "      <td>0.000000</td>\n",
       "      <td>0.000000</td>\n",
       "      <td>40.000000</td>\n",
       "    </tr>\n",
       "    <tr>\n",
       "      <th>50%</th>\n",
       "      <td>37.000000</td>\n",
       "      <td>1.784250e+05</td>\n",
       "      <td>10.000000</td>\n",
       "      <td>0.000000</td>\n",
       "      <td>0.000000</td>\n",
       "      <td>40.000000</td>\n",
       "    </tr>\n",
       "    <tr>\n",
       "      <th>75%</th>\n",
       "      <td>47.000000</td>\n",
       "      <td>2.376285e+05</td>\n",
       "      <td>13.000000</td>\n",
       "      <td>0.000000</td>\n",
       "      <td>0.000000</td>\n",
       "      <td>45.000000</td>\n",
       "    </tr>\n",
       "    <tr>\n",
       "      <th>max</th>\n",
       "      <td>90.000000</td>\n",
       "      <td>1.484705e+06</td>\n",
       "      <td>16.000000</td>\n",
       "      <td>99999.000000</td>\n",
       "      <td>4356.000000</td>\n",
       "      <td>99.000000</td>\n",
       "    </tr>\n",
       "  </tbody>\n",
       "</table>\n",
       "</div>"
      ],
      "text/plain": [
       "                Age        fnlwgt  EducationNum   CapitalGain   CapitalLoss  \\\n",
       "count  30162.000000  3.016200e+04  30162.000000  30162.000000  30162.000000   \n",
       "mean      38.437902  1.897938e+05     10.121312   1092.007858     88.372489   \n",
       "std       13.134665  1.056530e+05      2.549995   7406.346497    404.298370   \n",
       "min       17.000000  1.376900e+04      1.000000      0.000000      0.000000   \n",
       "25%       28.000000  1.176272e+05      9.000000      0.000000      0.000000   \n",
       "50%       37.000000  1.784250e+05     10.000000      0.000000      0.000000   \n",
       "75%       47.000000  2.376285e+05     13.000000      0.000000      0.000000   \n",
       "max       90.000000  1.484705e+06     16.000000  99999.000000   4356.000000   \n",
       "\n",
       "       HoursPerWeek  \n",
       "count  30162.000000  \n",
       "mean      40.931238  \n",
       "std       11.979984  \n",
       "min        1.000000  \n",
       "25%       40.000000  \n",
       "50%       40.000000  \n",
       "75%       45.000000  \n",
       "max       99.000000  "
      ]
     },
     "execution_count": 17,
     "metadata": {},
     "output_type": "execute_result"
    }
   ],
   "source": [
    "df.describe()"
   ]
  },
  {
   "cell_type": "code",
   "execution_count": 18,
   "metadata": {},
   "outputs": [],
   "source": [
    "df.drop(\"CapitalGain\", axis=1, inplace=True)\n",
    "df.drop(\"CapitalLoss\", axis=1, inplace=True)"
   ]
  },
  {
   "cell_type": "code",
   "execution_count": 19,
   "metadata": {},
   "outputs": [],
   "source": [
    "df = pd.get_dummies(df, columns=[\n",
    "    \"WorkClass\", \"Education\", \"MaritalStatus\", \"Occupation\", \"Relationship\",\n",
    "    \"Race\", \"Gender\", \"NativeCountry\",\n",
    "])"
   ]
  },
  {
   "cell_type": "code",
   "execution_count": 20,
   "metadata": {},
   "outputs": [
    {
     "data": {
      "text/plain": [
       "(30162, 102)"
      ]
     },
     "execution_count": 20,
     "metadata": {},
     "output_type": "execute_result"
    }
   ],
   "source": [
    "df.shape"
   ]
  },
  {
   "cell_type": "code",
   "execution_count": 21,
   "metadata": {},
   "outputs": [
    {
     "data": {
      "text/plain": [
       "0    22654\n",
       "1     7508\n",
       "dtype: int64"
      ]
     },
     "execution_count": 21,
     "metadata": {},
     "output_type": "execute_result"
    }
   ],
   "source": [
    "pd.value_counts(pd.Series(y_all))"
   ]
  },
  {
   "cell_type": "code",
   "execution_count": 22,
   "metadata": {},
   "outputs": [
    {
     "data": {
      "text/plain": [
       "Index(['Age', 'fnlwgt', 'EducationNum', 'HoursPerWeek',\n",
       "       'WorkClass_Federal-gov', 'WorkClass_Local-gov', 'WorkClass_Private',\n",
       "       'WorkClass_Self-emp-inc', 'WorkClass_Self-emp-not-inc',\n",
       "       'WorkClass_State-gov',\n",
       "       ...\n",
       "       'NativeCountry_Portugal', 'NativeCountry_Puerto-Rico',\n",
       "       'NativeCountry_Scotland', 'NativeCountry_South', 'NativeCountry_Taiwan',\n",
       "       'NativeCountry_Thailand', 'NativeCountry_Trinadad&Tobago',\n",
       "       'NativeCountry_United-States', 'NativeCountry_Vietnam',\n",
       "       'NativeCountry_Yugoslavia'],\n",
       "      dtype='object', length=102)"
      ]
     },
     "execution_count": 22,
     "metadata": {},
     "output_type": "execute_result"
    }
   ],
   "source": [
    "df.columns"
   ]
  },
  {
   "cell_type": "code",
   "execution_count": 23,
   "metadata": {},
   "outputs": [
    {
     "name": "stderr",
     "output_type": "stream",
     "text": [
      "/Users/var/anaconda/envs/pytorch/lib/python3.6/site-packages/sklearn/utils/validation.py:475: DataConversionWarning: Data with input dtype int64 was converted to float64 by StandardScaler.\n",
      "  warnings.warn(msg, DataConversionWarning)\n"
     ]
    }
   ],
   "source": [
    "standard_scaler_cols = [\"Age\", \"fnlwgt\", \"EducationNum\", \"HoursPerWeek\",]\n",
    "scaler = StandardScaler()\n",
    "vals = df[standard_scaler_cols].values\n",
    "scaled_x = scaler.fit_transform(vals)\n",
    "df[standard_scaler_cols] = scaled_x\n",
    "# for colname in standard_scaler_cols:\n",
    "#     x = df[colname].values.astype(float)\n",
    "#     scaled_x = scaler.fit(x)\n",
    "#     df[colname] = scaled_x"
   ]
  },
  {
   "cell_type": "code",
   "execution_count": 24,
   "metadata": {},
   "outputs": [
    {
     "data": {
      "text/html": [
       "<div>\n",
       "<style scoped>\n",
       "    .dataframe tbody tr th:only-of-type {\n",
       "        vertical-align: middle;\n",
       "    }\n",
       "\n",
       "    .dataframe tbody tr th {\n",
       "        vertical-align: top;\n",
       "    }\n",
       "\n",
       "    .dataframe thead th {\n",
       "        text-align: right;\n",
       "    }\n",
       "</style>\n",
       "<table border=\"1\" class=\"dataframe\">\n",
       "  <thead>\n",
       "    <tr style=\"text-align: right;\">\n",
       "      <th></th>\n",
       "      <th>Age</th>\n",
       "      <th>fnlwgt</th>\n",
       "      <th>EducationNum</th>\n",
       "      <th>HoursPerWeek</th>\n",
       "      <th>WorkClass_Federal-gov</th>\n",
       "      <th>WorkClass_Local-gov</th>\n",
       "      <th>WorkClass_Private</th>\n",
       "      <th>WorkClass_Self-emp-inc</th>\n",
       "      <th>WorkClass_Self-emp-not-inc</th>\n",
       "      <th>WorkClass_State-gov</th>\n",
       "      <th>...</th>\n",
       "      <th>NativeCountry_Portugal</th>\n",
       "      <th>NativeCountry_Puerto-Rico</th>\n",
       "      <th>NativeCountry_Scotland</th>\n",
       "      <th>NativeCountry_South</th>\n",
       "      <th>NativeCountry_Taiwan</th>\n",
       "      <th>NativeCountry_Thailand</th>\n",
       "      <th>NativeCountry_Trinadad&amp;Tobago</th>\n",
       "      <th>NativeCountry_United-States</th>\n",
       "      <th>NativeCountry_Vietnam</th>\n",
       "      <th>NativeCountry_Yugoslavia</th>\n",
       "    </tr>\n",
       "  </thead>\n",
       "  <tbody>\n",
       "    <tr>\n",
       "      <th>count</th>\n",
       "      <td>3.016200e+04</td>\n",
       "      <td>3.016200e+04</td>\n",
       "      <td>3.016200e+04</td>\n",
       "      <td>3.016200e+04</td>\n",
       "      <td>30162.000000</td>\n",
       "      <td>30162.000000</td>\n",
       "      <td>30162.000000</td>\n",
       "      <td>30162.000000</td>\n",
       "      <td>30162.000000</td>\n",
       "      <td>30162.000000</td>\n",
       "      <td>...</td>\n",
       "      <td>30162.000000</td>\n",
       "      <td>30162.000000</td>\n",
       "      <td>30162.000000</td>\n",
       "      <td>30162.000000</td>\n",
       "      <td>30162.000000</td>\n",
       "      <td>30162.000000</td>\n",
       "      <td>30162.000000</td>\n",
       "      <td>30162.000000</td>\n",
       "      <td>30162.000000</td>\n",
       "      <td>30162.000000</td>\n",
       "    </tr>\n",
       "    <tr>\n",
       "      <th>mean</th>\n",
       "      <td>1.535952e-16</td>\n",
       "      <td>1.684365e-17</td>\n",
       "      <td>-3.053058e-16</td>\n",
       "      <td>-2.833973e-16</td>\n",
       "      <td>0.031265</td>\n",
       "      <td>0.068530</td>\n",
       "      <td>0.738877</td>\n",
       "      <td>0.035608</td>\n",
       "      <td>0.082853</td>\n",
       "      <td>0.042404</td>\n",
       "      <td>...</td>\n",
       "      <td>0.001127</td>\n",
       "      <td>0.003614</td>\n",
       "      <td>0.000365</td>\n",
       "      <td>0.002354</td>\n",
       "      <td>0.001392</td>\n",
       "      <td>0.000564</td>\n",
       "      <td>0.000597</td>\n",
       "      <td>0.911876</td>\n",
       "      <td>0.002122</td>\n",
       "      <td>0.000530</td>\n",
       "    </tr>\n",
       "    <tr>\n",
       "      <th>std</th>\n",
       "      <td>1.000017e+00</td>\n",
       "      <td>1.000017e+00</td>\n",
       "      <td>1.000017e+00</td>\n",
       "      <td>1.000017e+00</td>\n",
       "      <td>0.174035</td>\n",
       "      <td>0.252657</td>\n",
       "      <td>0.439254</td>\n",
       "      <td>0.185313</td>\n",
       "      <td>0.275664</td>\n",
       "      <td>0.201513</td>\n",
       "      <td>...</td>\n",
       "      <td>0.033556</td>\n",
       "      <td>0.060007</td>\n",
       "      <td>0.019094</td>\n",
       "      <td>0.048461</td>\n",
       "      <td>0.037291</td>\n",
       "      <td>0.023734</td>\n",
       "      <td>0.024422</td>\n",
       "      <td>0.283480</td>\n",
       "      <td>0.046016</td>\n",
       "      <td>0.023026</td>\n",
       "    </tr>\n",
       "    <tr>\n",
       "      <th>min</th>\n",
       "      <td>-1.632189e+00</td>\n",
       "      <td>-1.666094e+00</td>\n",
       "      <td>-3.577051e+00</td>\n",
       "      <td>-3.333218e+00</td>\n",
       "      <td>0.000000</td>\n",
       "      <td>0.000000</td>\n",
       "      <td>0.000000</td>\n",
       "      <td>0.000000</td>\n",
       "      <td>0.000000</td>\n",
       "      <td>0.000000</td>\n",
       "      <td>...</td>\n",
       "      <td>0.000000</td>\n",
       "      <td>0.000000</td>\n",
       "      <td>0.000000</td>\n",
       "      <td>0.000000</td>\n",
       "      <td>0.000000</td>\n",
       "      <td>0.000000</td>\n",
       "      <td>0.000000</td>\n",
       "      <td>0.000000</td>\n",
       "      <td>0.000000</td>\n",
       "      <td>0.000000</td>\n",
       "    </tr>\n",
       "    <tr>\n",
       "      <th>25%</th>\n",
       "      <td>-7.946967e-01</td>\n",
       "      <td>-6.830644e-01</td>\n",
       "      <td>-4.397382e-01</td>\n",
       "      <td>-7.773411e-02</td>\n",
       "      <td>0.000000</td>\n",
       "      <td>0.000000</td>\n",
       "      <td>0.000000</td>\n",
       "      <td>0.000000</td>\n",
       "      <td>0.000000</td>\n",
       "      <td>0.000000</td>\n",
       "      <td>...</td>\n",
       "      <td>0.000000</td>\n",
       "      <td>0.000000</td>\n",
       "      <td>0.000000</td>\n",
       "      <td>0.000000</td>\n",
       "      <td>0.000000</td>\n",
       "      <td>0.000000</td>\n",
       "      <td>0.000000</td>\n",
       "      <td>1.000000</td>\n",
       "      <td>0.000000</td>\n",
       "      <td>0.000000</td>\n",
       "    </tr>\n",
       "    <tr>\n",
       "      <th>50%</th>\n",
       "      <td>-1.094756e-01</td>\n",
       "      <td>-1.076072e-01</td>\n",
       "      <td>-4.757405e-02</td>\n",
       "      <td>-7.773411e-02</td>\n",
       "      <td>0.000000</td>\n",
       "      <td>0.000000</td>\n",
       "      <td>1.000000</td>\n",
       "      <td>0.000000</td>\n",
       "      <td>0.000000</td>\n",
       "      <td>0.000000</td>\n",
       "      <td>...</td>\n",
       "      <td>0.000000</td>\n",
       "      <td>0.000000</td>\n",
       "      <td>0.000000</td>\n",
       "      <td>0.000000</td>\n",
       "      <td>0.000000</td>\n",
       "      <td>0.000000</td>\n",
       "      <td>0.000000</td>\n",
       "      <td>1.000000</td>\n",
       "      <td>0.000000</td>\n",
       "      <td>0.000000</td>\n",
       "    </tr>\n",
       "    <tr>\n",
       "      <th>75%</th>\n",
       "      <td>6.518811e-01</td>\n",
       "      <td>4.527602e-01</td>\n",
       "      <td>1.128918e+00</td>\n",
       "      <td>3.396356e-01</td>\n",
       "      <td>0.000000</td>\n",
       "      <td>0.000000</td>\n",
       "      <td>1.000000</td>\n",
       "      <td>0.000000</td>\n",
       "      <td>0.000000</td>\n",
       "      <td>0.000000</td>\n",
       "      <td>...</td>\n",
       "      <td>0.000000</td>\n",
       "      <td>0.000000</td>\n",
       "      <td>0.000000</td>\n",
       "      <td>0.000000</td>\n",
       "      <td>0.000000</td>\n",
       "      <td>0.000000</td>\n",
       "      <td>0.000000</td>\n",
       "      <td>1.000000</td>\n",
       "      <td>0.000000</td>\n",
       "      <td>0.000000</td>\n",
       "    </tr>\n",
       "    <tr>\n",
       "      <th>max</th>\n",
       "      <td>3.925715e+00</td>\n",
       "      <td>1.225647e+01</td>\n",
       "      <td>2.305411e+00</td>\n",
       "      <td>4.847229e+00</td>\n",
       "      <td>1.000000</td>\n",
       "      <td>1.000000</td>\n",
       "      <td>1.000000</td>\n",
       "      <td>1.000000</td>\n",
       "      <td>1.000000</td>\n",
       "      <td>1.000000</td>\n",
       "      <td>...</td>\n",
       "      <td>1.000000</td>\n",
       "      <td>1.000000</td>\n",
       "      <td>1.000000</td>\n",
       "      <td>1.000000</td>\n",
       "      <td>1.000000</td>\n",
       "      <td>1.000000</td>\n",
       "      <td>1.000000</td>\n",
       "      <td>1.000000</td>\n",
       "      <td>1.000000</td>\n",
       "      <td>1.000000</td>\n",
       "    </tr>\n",
       "  </tbody>\n",
       "</table>\n",
       "<p>8 rows × 102 columns</p>\n",
       "</div>"
      ],
      "text/plain": [
       "                Age        fnlwgt  EducationNum  HoursPerWeek  \\\n",
       "count  3.016200e+04  3.016200e+04  3.016200e+04  3.016200e+04   \n",
       "mean   1.535952e-16  1.684365e-17 -3.053058e-16 -2.833973e-16   \n",
       "std    1.000017e+00  1.000017e+00  1.000017e+00  1.000017e+00   \n",
       "min   -1.632189e+00 -1.666094e+00 -3.577051e+00 -3.333218e+00   \n",
       "25%   -7.946967e-01 -6.830644e-01 -4.397382e-01 -7.773411e-02   \n",
       "50%   -1.094756e-01 -1.076072e-01 -4.757405e-02 -7.773411e-02   \n",
       "75%    6.518811e-01  4.527602e-01  1.128918e+00  3.396356e-01   \n",
       "max    3.925715e+00  1.225647e+01  2.305411e+00  4.847229e+00   \n",
       "\n",
       "       WorkClass_Federal-gov  WorkClass_Local-gov  WorkClass_Private  \\\n",
       "count           30162.000000         30162.000000       30162.000000   \n",
       "mean                0.031265             0.068530           0.738877   \n",
       "std                 0.174035             0.252657           0.439254   \n",
       "min                 0.000000             0.000000           0.000000   \n",
       "25%                 0.000000             0.000000           0.000000   \n",
       "50%                 0.000000             0.000000           1.000000   \n",
       "75%                 0.000000             0.000000           1.000000   \n",
       "max                 1.000000             1.000000           1.000000   \n",
       "\n",
       "       WorkClass_Self-emp-inc  WorkClass_Self-emp-not-inc  \\\n",
       "count            30162.000000                30162.000000   \n",
       "mean                 0.035608                    0.082853   \n",
       "std                  0.185313                    0.275664   \n",
       "min                  0.000000                    0.000000   \n",
       "25%                  0.000000                    0.000000   \n",
       "50%                  0.000000                    0.000000   \n",
       "75%                  0.000000                    0.000000   \n",
       "max                  1.000000                    1.000000   \n",
       "\n",
       "       WorkClass_State-gov            ...             NativeCountry_Portugal  \\\n",
       "count         30162.000000            ...                       30162.000000   \n",
       "mean              0.042404            ...                           0.001127   \n",
       "std               0.201513            ...                           0.033556   \n",
       "min               0.000000            ...                           0.000000   \n",
       "25%               0.000000            ...                           0.000000   \n",
       "50%               0.000000            ...                           0.000000   \n",
       "75%               0.000000            ...                           0.000000   \n",
       "max               1.000000            ...                           1.000000   \n",
       "\n",
       "       NativeCountry_Puerto-Rico  NativeCountry_Scotland  NativeCountry_South  \\\n",
       "count               30162.000000            30162.000000         30162.000000   \n",
       "mean                    0.003614                0.000365             0.002354   \n",
       "std                     0.060007                0.019094             0.048461   \n",
       "min                     0.000000                0.000000             0.000000   \n",
       "25%                     0.000000                0.000000             0.000000   \n",
       "50%                     0.000000                0.000000             0.000000   \n",
       "75%                     0.000000                0.000000             0.000000   \n",
       "max                     1.000000                1.000000             1.000000   \n",
       "\n",
       "       NativeCountry_Taiwan  NativeCountry_Thailand  \\\n",
       "count          30162.000000            30162.000000   \n",
       "mean               0.001392                0.000564   \n",
       "std                0.037291                0.023734   \n",
       "min                0.000000                0.000000   \n",
       "25%                0.000000                0.000000   \n",
       "50%                0.000000                0.000000   \n",
       "75%                0.000000                0.000000   \n",
       "max                1.000000                1.000000   \n",
       "\n",
       "       NativeCountry_Trinadad&Tobago  NativeCountry_United-States  \\\n",
       "count                   30162.000000                 30162.000000   \n",
       "mean                        0.000597                     0.911876   \n",
       "std                         0.024422                     0.283480   \n",
       "min                         0.000000                     0.000000   \n",
       "25%                         0.000000                     1.000000   \n",
       "50%                         0.000000                     1.000000   \n",
       "75%                         0.000000                     1.000000   \n",
       "max                         1.000000                     1.000000   \n",
       "\n",
       "       NativeCountry_Vietnam  NativeCountry_Yugoslavia  \n",
       "count           30162.000000              30162.000000  \n",
       "mean                0.002122                  0.000530  \n",
       "std                 0.046016                  0.023026  \n",
       "min                 0.000000                  0.000000  \n",
       "25%                 0.000000                  0.000000  \n",
       "50%                 0.000000                  0.000000  \n",
       "75%                 0.000000                  0.000000  \n",
       "max                 1.000000                  1.000000  \n",
       "\n",
       "[8 rows x 102 columns]"
      ]
     },
     "execution_count": 24,
     "metadata": {},
     "output_type": "execute_result"
    }
   ],
   "source": [
    "df.describe()"
   ]
  },
  {
   "cell_type": "code",
   "execution_count": 25,
   "metadata": {},
   "outputs": [],
   "source": [
    "X_train, X_test, y_train, y_test = train_test_split(\n",
    "    df, y_all, test_size=0.25, stratify=y_all, random_state=rs,\n",
    ")"
   ]
  },
  {
   "cell_type": "code",
   "execution_count": 26,
   "metadata": {},
   "outputs": [
    {
     "data": {
      "text/plain": [
       "pandas.core.frame.DataFrame"
      ]
     },
     "execution_count": 26,
     "metadata": {},
     "output_type": "execute_result"
    }
   ],
   "source": [
    "type(X_train)"
   ]
  },
  {
   "cell_type": "code",
   "execution_count": 27,
   "metadata": {},
   "outputs": [],
   "source": [
    "class SingleNet(nn.Module):\n",
    "\n",
    "    def __init__(self, input_size):\n",
    "        super(SingleNet, self).__init__()\n",
    "\n",
    "        self.fc1 = nn.Linear(input_size, 8)\n",
    "#         self.dout = nn.Dropout(0.2)\n",
    "#         self.fc2 = nn.Linear(50, 100)\n",
    "#         self.prelu = nn.PReLU(1)\n",
    "        self.lrelu = LeakyReLU()\n",
    "        self.out = nn.Linear(8, 1)\n",
    "        self.out_act = Sigmoid()\n",
    "\n",
    "    def forward(self, x):\n",
    "        x = self.lrelu(self.fc1(x))\n",
    "        x = self.out_act(self.out(x))\n",
    "        return x"
   ]
  },
  {
   "cell_type": "code",
   "execution_count": 28,
   "metadata": {},
   "outputs": [],
   "source": [
    "class EncodingNet(nn.Module):\n",
    "    \n",
    "    def __init__(self, input_size):\n",
    "        super(EncodingNet, self).__init__()\n",
    "        self.fc = nn.Linear(input_size, 8)\n",
    "        self.out = nn.Linear(8, 8)\n",
    "        self.lrelu = LeakyReLU()\n",
    "        \n",
    "    def forward(self, x):\n",
    "        x = self.lrelu(self.fc(x))\n",
    "        x = self.lrelu(self.out(x))\n",
    "        return x"
   ]
  },
  {
   "cell_type": "code",
   "execution_count": 29,
   "metadata": {},
   "outputs": [],
   "source": [
    "class OneNet(nn.Module):\n",
    "    \n",
    "    def __init__(self, input_size):\n",
    "        self.fc = nn.Linear(input_size, 1)\n",
    "        \n",
    "    def forward(self, x):\n",
    "        x = Sigmoid(self.fc(x))\n",
    "        return x"
   ]
  },
  {
   "cell_type": "code",
   "execution_count": 30,
   "metadata": {},
   "outputs": [],
   "source": [
    "class Net(nn.Module):\n",
    "    \n",
    "    def __init__(self, input_size):\n",
    "        super().__init__()\n",
    "        self.fc1 = nn.Linear(input_size, 50)\n",
    "        self.relu1 = nn.ReLU()\n",
    "        self.dout = nn.Dropout(0.2)\n",
    "        self.fc2 = nn.Linear(50, 100)\n",
    "        self.prelu = nn.PReLU(1)\n",
    "        self.out = nn.Linear(100, 1)\n",
    "        self.out_act = nn.Sigmoid()\n",
    "        \n",
    "    def forward(self, input_):\n",
    "        a1 = self.fc1(input_)\n",
    "        h1 = self.relu1(a1)\n",
    "        dout = self.dout(h1)\n",
    "        a2 = self.fc2(dout)\n",
    "        h2 = self.prelu(a2)\n",
    "        a3 = self.out(h2)\n",
    "        y = self.out_act(a3)\n",
    "        return y"
   ]
  },
  {
   "cell_type": "code",
   "execution_count": 31,
   "metadata": {},
   "outputs": [],
   "source": [
    "input_size = X_train.shape[1]\n",
    "classifier = SingleNet(input_size)\n",
    "opt = optim.Adam(classifier.parameters(), lr=0.001, betas=(0.9, 0.999))\n",
    "criterion = nn.BCELoss()"
   ]
  },
  {
   "cell_type": "code",
   "execution_count": 32,
   "metadata": {},
   "outputs": [],
   "source": [
    "if torch.cuda.is_available():\n",
    "    device=\"cuda\"\n",
    "    torch.set_default_tensor_type('torch.cuda.FloatTensor')\n",
    "else:\n",
    "    device=\"cpu\"\n",
    "    torch.set_default_tensor_type('torch.FloatTensor')"
   ]
  },
  {
   "cell_type": "code",
   "execution_count": 33,
   "metadata": {},
   "outputs": [],
   "source": [
    "def train_epoch(model, X, Y, opt, criterion, batch_size=64):\n",
    "    model.train()\n",
    "    losses = []\n",
    "    acc = []\n",
    "    for beg_i in range(0, X.shape[0], batch_size):\n",
    "        x_batch = X.iloc[beg_i:beg_i + batch_size].values\n",
    "        y_batch = Y[beg_i:beg_i + batch_size]\n",
    "        x_batch = torch.from_numpy(x_batch).to(device).float()\n",
    "        y_batch = torch.from_numpy(y_batch).to(device).float()\n",
    "        \n",
    "        opt.zero_grad()\n",
    "        # (1) Forward\n",
    "        y_hat = model(x_batch)\n",
    "        # (2) Compute diff\n",
    "        loss = criterion(y_hat, y_batch)\n",
    "        # (3) Compute gradients\n",
    "        loss.backward()\n",
    "        # (4) update weights\n",
    "        opt.step()        \n",
    "        \n",
    "        losses.append(loss.item())\n",
    "        \n",
    "        preds = torch.round(y_hat.data).squeeze(1).numpy()\n",
    "        accuracy = sum(preds == y_batch).numpy()/len(y_batch)\n",
    "\n",
    "        acc.append(accuracy)\n",
    "    return losses, acc"
   ]
  },
  {
   "cell_type": "code",
   "execution_count": 34,
   "metadata": {},
   "outputs": [],
   "source": [
    "def validate_epoch(model, X, Y, criterion, batch_size=64):\n",
    "    model.eval()\n",
    "    losses = []\n",
    "    acc = []\n",
    "    for beg_i in range(0, X.shape[0], batch_size):\n",
    "        with torch.no_grad():\n",
    "            x_batch = X.iloc[beg_i:beg_i + batch_size].values\n",
    "            y_batch = Y[beg_i:beg_i + batch_size]\n",
    "            x_batch = torch.from_numpy(x_batch).to(device).float()\n",
    "            y_batch = torch.from_numpy(y_batch).to(device).float()\n",
    "\n",
    "            y_hat = model(x_batch)\n",
    "            # (2) Compute diff\n",
    "            loss = criterion(y_hat, y_batch)\n",
    "            losses.append(loss.item())\n",
    "\n",
    "            preds = torch.round(y_hat.data).squeeze(1).numpy()\n",
    "            accuracy = sum(preds == y_batch).numpy()/len(y_batch)\n",
    "        \n",
    "        acc.append(accuracy)\n",
    "    return losses, acc"
   ]
  },
  {
   "cell_type": "code",
   "execution_count": 35,
   "metadata": {},
   "outputs": [
    {
     "name": "stderr",
     "output_type": "stream",
     "text": [
      "/Users/var/anaconda/envs/pytorch/lib/python3.6/site-packages/torch/nn/functional.py:1474: UserWarning: Using a target size (torch.Size([64])) that is different to the input size (torch.Size([64, 1])) is deprecated. Please ensure they have the same size.\n",
      "  \"Please ensure they have the same size.\".format(target.size(), input.size()))\n",
      "/Users/var/anaconda/envs/pytorch/lib/python3.6/site-packages/torch/nn/functional.py:1474: UserWarning: Using a target size (torch.Size([29])) that is different to the input size (torch.Size([29, 1])) is deprecated. Please ensure they have the same size.\n",
      "  \"Please ensure they have the same size.\".format(target.size(), input.size()))\n",
      "/Users/var/anaconda/envs/pytorch/lib/python3.6/site-packages/torch/nn/functional.py:1474: UserWarning: Using a target size (torch.Size([53])) that is different to the input size (torch.Size([53, 1])) is deprecated. Please ensure they have the same size.\n",
      "  \"Please ensure they have the same size.\".format(target.size(), input.size()))\n"
     ]
    },
    {
     "name": "stdout",
     "output_type": "stream",
     "text": [
      "Epoch: 0 Loss: 0.44038888534246867 Accuracy: 0.7854781560490941\n",
      "Test Epoch: 0 Loss: 0.3656699137162354 Accuracy: 0.8262836784457946\n",
      "Epoch: 1 Loss: 0.3640191174496365 Accuracy: 0.8265268848626534\n",
      "Test Epoch: 1 Loss: 0.35290995745335596 Accuracy: 0.8343884913655261\n",
      "Epoch: 2 Loss: 0.3585017905228556 Accuracy: 0.8304993424897721\n",
      "Test Epoch: 2 Loss: 0.34914355964983923 Accuracy: 0.8363472377678286\n",
      "Epoch: 3 Loss: 0.3557883927461791 Accuracy: 0.8324855713033313\n",
      "Test Epoch: 3 Loss: 0.347135766835536 Accuracy: 0.8364796530220658\n",
      "Epoch: 4 Loss: 0.35380415260623405 Accuracy: 0.8337214470095461\n",
      "Test Epoch: 4 Loss: 0.3457876812603514 Accuracy: 0.837936220818676\n",
      "Epoch: 5 Loss: 0.3521386975959196 Accuracy: 0.8349573227157607\n",
      "Test Epoch: 5 Loss: 0.3447410141007375 Accuracy: 0.8375389750559642\n",
      "Epoch: 6 Loss: 0.3507129076847249 Accuracy: 0.8350014611338399\n",
      "Test Epoch: 6 Loss: 0.34390230350575207 Accuracy: 0.8391279581068116\n",
      "Epoch: 7 Loss: 0.3494898732014969 Accuracy: 0.8361049215858173\n",
      "Test Epoch: 7 Loss: 0.3432502213676097 Accuracy: 0.8393927886152862\n",
      "Epoch: 8 Loss: 0.3483758231172454 Accuracy: 0.8360166447496591\n",
      "Test Epoch: 8 Loss: 0.34263715312137444 Accuracy: 0.8392878557723057\n",
      "Epoch: 9 Loss: 0.3473306260792549 Accuracy: 0.83645802893045\n",
      "Test Epoch: 9 Loss: 0.3421748642951755 Accuracy: 0.8408493564118964\n",
      "Epoch: 10 Loss: 0.346364250585521 Accuracy: 0.8374732125462692\n",
      "Test Epoch: 10 Loss: 0.3417701546923589 Accuracy: 0.8422009913655261\n",
      "Epoch: 11 Loss: 0.34546954630963544 Accuracy: 0.8381352888174557\n",
      "Test Epoch: 11 Loss: 0.34148309619750006 Accuracy: 0.8419361608570515\n",
      "Epoch: 12 Loss: 0.3446770967484194 Accuracy: 0.8385766729982466\n",
      "Test Epoch: 12 Loss: 0.3413055116089724 Accuracy: 0.8418037456028142\n",
      "Epoch: 13 Loss: 0.3439710909279726 Accuracy: 0.8385325345801675\n",
      "Test Epoch: 13 Loss: 0.3411247953772545 Accuracy: 0.8422009913655261\n",
      "Epoch: 14 Loss: 0.3433372452013237 Accuracy: 0.838753226670563\n",
      "Test Epoch: 14 Loss: 0.3410116098189758 Accuracy: 0.8425982371282379\n",
      "Epoch: 15 Loss: 0.3427718597448478 Accuracy: 0.8394153029417495\n",
      "Test Epoch: 15 Loss: 0.34090140512434103 Accuracy: 0.8418037456028142\n",
      "Epoch: 16 Loss: 0.34225859450923524 Accuracy: 0.8398125487044613\n",
      "Test Epoch: 16 Loss: 0.34082892120389613 Accuracy: 0.8419361608570515\n",
      "Epoch: 17 Loss: 0.34177224826341296 Accuracy: 0.8397684102863822\n",
      "Test Epoch: 17 Loss: 0.340777906952268 Accuracy: 0.8422009913655261\n",
      "Epoch: 18 Loss: 0.34129351095459554 Accuracy: 0.8402097944671731\n",
      "Test Epoch: 18 Loss: 0.3407140405753912 Accuracy: 0.8419361608570515\n",
      "Epoch: 19 Loss: 0.3408698964085283 Accuracy: 0.8402980713033313\n",
      "Test Epoch: 19 Loss: 0.3406770435177674 Accuracy: 0.8418037456028142\n",
      "Epoch: 20 Loss: 0.3404807191615724 Accuracy: 0.8406070402298851\n",
      "Test Epoch: 20 Loss: 0.3406772512500569 Accuracy: 0.8419361608570515\n",
      "Epoch: 21 Loss: 0.340139983611255 Accuracy: 0.8411367012468342\n",
      "Test Epoch: 21 Loss: 0.34072896661394736 Accuracy: 0.8420685761112888\n",
      "Epoch: 22 Loss: 0.3398039861671669 Accuracy: 0.8412691165010715\n",
      "Test Epoch: 22 Loss: 0.34077142305293323 Accuracy: 0.841831228014071\n",
      "Epoch: 23 Loss: 0.33951359827302946 Accuracy: 0.8420194696084161\n",
      "Test Epoch: 23 Loss: 0.3407752965971575 Accuracy: 0.8413015669971218\n",
      "Epoch: 24 Loss: 0.3392274776673586 Accuracy: 0.8421960232807325\n",
      "Test Epoch: 24 Loss: 0.3408584598514993 Accuracy: 0.8419636432683082\n"
     ]
    }
   ],
   "source": [
    "e_losses = []\n",
    "e_accs = []\n",
    "val_losses = []\n",
    "val_accs = []\n",
    "num_epochs = 25\n",
    "for e in range(num_epochs):\n",
    "    e_loss, e_acc = train_epoch(classifier, X_train, y_train, opt, criterion)\n",
    "    print('Epoch: {} Loss: {} Accuracy: {}'.format(e, np.mean(e_loss), np.mean(e_acc)))\n",
    "    e_losses.append(np.mean(e_loss))\n",
    "    e_accs.append(np.mean(e_acc))\n",
    "    val_loss, val_acc = validate_epoch(classifier, X_test, y_test, criterion)\n",
    "    print('Test Epoch: {} Loss: {} Accuracy: {}'.format(e, np.mean(val_loss), np.mean(val_acc)))\n",
    "    val_losses.append(np.mean(val_loss))\n",
    "    val_accs.append(np.mean(val_acc))"
   ]
  },
  {
   "cell_type": "code",
   "execution_count": 36,
   "metadata": {},
   "outputs": [
    {
     "data": {
      "text/plain": [
       "[<matplotlib.lines.Line2D at 0x1130d4630>]"
      ]
     },
     "execution_count": 36,
     "metadata": {},
     "output_type": "execute_result"
    },
    {
     "data": {
      "image/png": "[encoded data removed]",
      "text/plain": [
       "<Figure size 720x720 with 4 Axes>"
      ]
     },
     "metadata": {},
     "output_type": "display_data"
    }
   ],
   "source": [
    "plt.figure(figsize=(10,10))\n",
    "plt.subplot(221)\n",
    "plt.plot(e_losses)\n",
    "plt.subplot(222)\n",
    "plt.plot(e_acc)\n",
    "plt.subplot(223)\n",
    "plt.plot(val_losses)\n",
    "plt.subplot(224)\n",
    "plt.plot(val_acc)"
   ]
  },
  {
   "cell_type": "markdown",
   "metadata": {},
   "source": [
    "# Adversary"
   ]
  },
  {
   "cell_type": "code",
   "execution_count": 37,
   "metadata": {},
   "outputs": [],
   "source": [
    "adv_df = df.copy()"
   ]
  },
  {
   "cell_type": "code",
   "execution_count": 38,
   "metadata": {},
   "outputs": [],
   "source": [
    "adv_df.drop(\"Gender_Female\", axis=1, inplace=True)\n",
    "adv_df.drop(\"Gender_Male\", axis=1, inplace=True)"
   ]
  },
  {
   "cell_type": "code",
   "execution_count": 39,
   "metadata": {},
   "outputs": [],
   "source": [
    "advX_train, advX_test, a_train, a_test = train_test_split(\n",
    "    adv_df, sensitive_all, test_size=0.25, stratify=sensitive_all, random_state=rs,\n",
    ")"
   ]
  },
  {
   "cell_type": "code",
   "execution_count": 40,
   "metadata": {},
   "outputs": [
    {
     "data": {
      "text/plain": [
       "(22621,)"
      ]
     },
     "execution_count": 40,
     "metadata": {},
     "output_type": "execute_result"
    }
   ],
   "source": [
    "a_train.shape"
   ]
  },
  {
   "cell_type": "code",
   "execution_count": 41,
   "metadata": {},
   "outputs": [],
   "source": [
    "input_size = advX_train.shape[1]\n",
    "adversary = SingleNet(input_size)\n",
    "advopt = optim.Adam(adversary.parameters(), lr=0.001, betas=(0.9, 0.999))\n",
    "advcriterion = nn.BCELoss()"
   ]
  },
  {
   "cell_type": "code",
   "execution_count": 42,
   "metadata": {},
   "outputs": [],
   "source": [
    "if torch.cuda.is_available():\n",
    "    device=\"cuda\"\n",
    "    torch.set_default_tensor_type('torch.cuda.FloatTensor')\n",
    "else:\n",
    "    device=\"cpu\"\n",
    "    torch.set_default_tensor_type('torch.FloatTensor')"
   ]
  },
  {
   "cell_type": "code",
   "execution_count": 43,
   "metadata": {},
   "outputs": [
    {
     "name": "stderr",
     "output_type": "stream",
     "text": [
      "/Users/var/anaconda/envs/pytorch/lib/python3.6/site-packages/torch/nn/functional.py:1474: UserWarning: Using a target size (torch.Size([64])) that is different to the input size (torch.Size([64, 1])) is deprecated. Please ensure they have the same size.\n",
      "  \"Please ensure they have the same size.\".format(target.size(), input.size()))\n",
      "/Users/var/anaconda/envs/pytorch/lib/python3.6/site-packages/torch/nn/functional.py:1474: UserWarning: Using a target size (torch.Size([29])) that is different to the input size (torch.Size([29, 1])) is deprecated. Please ensure they have the same size.\n",
      "  \"Please ensure they have the same size.\".format(target.size(), input.size()))\n",
      "/Users/var/anaconda/envs/pytorch/lib/python3.6/site-packages/torch/nn/functional.py:1474: UserWarning: Using a target size (torch.Size([53])) that is different to the input size (torch.Size([53, 1])) is deprecated. Please ensure they have the same size.\n",
      "  \"Please ensure they have the same size.\".format(target.size(), input.size()))\n"
     ]
    },
    {
     "name": "stdout",
     "output_type": "stream",
     "text": [
      "Epoch: 0 Loss: 0.48222171132173913 Accuracy: 0.7597972067991429\n",
      "Test Epoch: 0 Loss: 0.3570124383194972 Accuracy: 0.833279201311161\n",
      "Epoch: 1 Loss: 0.3234541991167823 Accuracy: 0.8432629553867135\n",
      "Test Epoch: 1 Loss: 0.30526517584162244 Accuracy: 0.8486668532139431\n",
      "Epoch: 2 Loss: 0.2984444720007606 Accuracy: 0.8487011128969413\n",
      "Test Epoch: 2 Loss: 0.2962917890083992 Accuracy: 0.8501234210105533\n",
      "Epoch: 3 Loss: 0.2924953478120141 Accuracy: 0.8496721580946813\n",
      "Test Epoch: 3 Loss: 0.2937074056116201 Accuracy: 0.8497261752478413\n",
      "Epoch: 4 Loss: 0.29013360986265085 Accuracy: 0.8498045733489187\n",
      "Test Epoch: 4 Loss: 0.29268831633410214 Accuracy: 0.8499910057563159\n",
      "Epoch: 5 Loss: 0.28891527791649607 Accuracy: 0.8502900959477887\n",
      "Test Epoch: 5 Loss: 0.29221791849803114 Accuracy: 0.8497261752478413\n",
      "Epoch: 6 Loss: 0.28818350453666375 Accuracy: 0.8507314801285797\n",
      "Test Epoch: 6 Loss: 0.29198644764847675 Accuracy: 0.8494888271506237\n",
      "Epoch: 7 Loss: 0.2876941770904482 Accuracy: 0.8509963106370543\n",
      "Test Epoch: 7 Loss: 0.29187928152791526 Accuracy: 0.8494888271506237\n",
      "Epoch: 8 Loss: 0.2873383063801938 Accuracy: 0.8508638953828169\n",
      "Test Epoch: 8 Loss: 0.29180654277235774 Accuracy: 0.8496212424048609\n",
      "Epoch: 9 Loss: 0.2870619451090441 Accuracy: 0.8508638953828169\n",
      "Test Epoch: 9 Loss: 0.29176768269074166 Accuracy: 0.8497536576590983\n",
      "Epoch: 10 Loss: 0.2868459755923115 Accuracy: 0.8507756185466588\n",
      "Test Epoch: 10 Loss: 0.2917424252225181 Accuracy: 0.8492239966421491\n",
      "Epoch: 11 Loss: 0.28666113649552827 Accuracy: 0.8507314801285797\n",
      "Test Epoch: 11 Loss: 0.2917223796248436 Accuracy: 0.8493564118963863\n",
      "Epoch: 12 Loss: 0.2864797339685219 Accuracy: 0.8507756185466588\n",
      "Test Epoch: 12 Loss: 0.29159418506137397 Accuracy: 0.8494888271506237\n",
      "Epoch: 13 Loss: 0.28626635620149515 Accuracy: 0.8506873417105006\n",
      "Test Epoch: 13 Loss: 0.2914260787478948 Accuracy: 0.8488267508794372\n",
      "Epoch: 14 Loss: 0.2860466830306134 Accuracy: 0.8511287258912915\n",
      "Test Epoch: 14 Loss: 0.2913158650873071 Accuracy: 0.8481646746082507\n",
      "Epoch: 15 Loss: 0.2858445819067416 Accuracy: 0.8512170027274497\n",
      "Test Epoch: 15 Loss: 0.2912293883450961 Accuracy: 0.8485619203709627\n",
      "Epoch: 16 Loss: 0.28557791413560424 Accuracy: 0.8515259716540035\n",
      "Test Epoch: 16 Loss: 0.29097010586726463 Accuracy: 0.8488267508794372\n",
      "Epoch: 17 Loss: 0.2853130164456233 Accuracy: 0.8513052795636079\n",
      "Test Epoch: 17 Loss: 0.29070688582072823 Accuracy: 0.8492239966421491\n",
      "Epoch: 18 Loss: 0.2850898577079261 Accuracy: 0.8515701100720825\n",
      "Test Epoch: 18 Loss: 0.29048523205821797 Accuracy: 0.8493564118963863\n",
      "Epoch: 19 Loss: 0.28487304004572206 Accuracy: 0.8512611411455289\n",
      "Test Epoch: 19 Loss: 0.29027677516816025 Accuracy: 0.8489591661336745\n",
      "Epoch: 20 Loss: 0.28465343603474946 Accuracy: 0.8515259716540035\n",
      "Test Epoch: 20 Loss: 0.2901272733332747 Accuracy: 0.8493564118963863\n",
      "Epoch: 21 Loss: 0.28441979546668167 Accuracy: 0.8520556326709525\n",
      "Test Epoch: 21 Loss: 0.28999099400589023 Accuracy: 0.8498860729133355\n",
      "Epoch: 22 Loss: 0.2841808124534828 Accuracy: 0.8524528784336645\n",
      "Test Epoch: 22 Loss: 0.289859390864938 Accuracy: 0.8508129796929965\n",
      "Epoch: 23 Loss: 0.28394482398437243 Accuracy: 0.8528059857782972\n",
      "Test Epoch: 23 Loss: 0.2897868484763776 Accuracy: 0.8506805644387593\n",
      "Epoch: 24 Loss: 0.28372814746226294 Accuracy: 0.8527618473602181\n",
      "Test Epoch: 24 Loss: 0.28972524732856425 Accuracy: 0.8505481491845219\n"
     ]
    }
   ],
   "source": [
    "advTrain_losses = []\n",
    "advTrain_accs = []\n",
    "advVal_losses = []\n",
    "advVal_accs = []\n",
    "num_epochs = 25\n",
    "for e in range(num_epochs):\n",
    "    advTrain_loss, advTrain_acc = train_epoch(adversary, advX_train, a_train, advopt, advcriterion)\n",
    "    print('Epoch: {} Loss: {} Accuracy: {}'.format(e, np.mean(advTrain_loss), np.mean(advTrain_acc)))\n",
    "    advTrain_losses.append(np.mean(advTrain_loss))\n",
    "    advTrain_accs.append(np.mean(advTrain_acc))\n",
    "    advVal_loss, advVal_acc = validate_epoch(adversary, advX_test, a_test, advcriterion)\n",
    "    print('Test Epoch: {} Loss: {} Accuracy: {}'.format(e, np.mean(advVal_loss), np.mean(advVal_acc)))\n",
    "    advVal_losses.append(np.mean(advVal_loss))\n",
    "    advVal_accs.append(np.mean(advVal_acc))"
   ]
  },
  {
   "cell_type": "code",
   "execution_count": 44,
   "metadata": {},
   "outputs": [
    {
     "data": {
      "text/plain": [
       "[<matplotlib.lines.Line2D at 0x113433ba8>]"
      ]
     },
     "execution_count": 44,
     "metadata": {},
     "output_type": "execute_result"
    },
    {
     "data": {
      "image/png": "[encoded data removed]",
      "text/plain": [
       "<Figure size 720x720 with 4 Axes>"
      ]
     },
     "metadata": {},
     "output_type": "display_data"
    }
   ],
   "source": [
    "plt.figure(figsize=(10,10))\n",
    "plt.subplot(221)\n",
    "plt.plot(advTrain_losses)\n",
    "plt.subplot(222)\n",
    "plt.plot(advTrain_acc)\n",
    "plt.subplot(223)\n",
    "plt.plot(advVal_losses)\n",
    "plt.subplot(224)\n",
    "plt.plot(advVal_acc)"
   ]
  },
  {
   "cell_type": "markdown",
   "metadata": {},
   "source": [
    "# Adv losses"
   ]
  },
  {
   "cell_type": "code",
   "execution_count": 45,
   "metadata": {},
   "outputs": [],
   "source": [
    "class AdvDemographicParityLoss(nn.Module):\n",
    "    def __init__(self, p=1):\n",
    "        super(AdvDemographicParityLoss, self).__init__()\n",
    "        if p == 1:\n",
    "            self.distance = nn.L1Loss()\n",
    "        elif p == 2:\n",
    "            self.distance = nn.MSELoss()\n",
    "        else:\n",
    "            print('P has to be either 1 or 2')\n",
    "        \n",
    "    def forward(self, predicted_sensitive, sensitive):\n",
    "        if not (sensitive.shape[0] == predicted_sensitive.shape[0]):\n",
    "            raise ValueError(\"Target size ({}) must be the same as predicted_sensitive size ({})\".format(target.size(), predicted_sensitive.size()))\n",
    "        \n",
    "        if isinstance(sensitive, np.ndarray):\n",
    "            sensitive = torch.from_numpy(sensitive)\n",
    "            sensitive = sensitive.float()\n",
    "        \n",
    "        predicted_sensitive = predicted_sensitive.squeeze(dim=1)\n",
    "        \n",
    "        a0_mask = (sensitive == 0)\n",
    "        a1_mask = (sensitive == 1)\n",
    "        \n",
    "        predicted_sensitive_group0 = predicted_sensitive[a0_mask]\n",
    "        predicted_sensitive_group1 = predicted_sensitive[a1_mask]\n",
    "        \n",
    "        target_group0 = sensitive[a0_mask]\n",
    "        target_group1 = sensitive[a1_mask]\n",
    "        \n",
    "        loss = 1 - (self.distance(predicted_sensitive_group0, target_group0) + self.distance(predicted_sensitive_group1, target_group1))\n",
    "        return loss\n",
    "        \n",
    "    "
   ]
  },
  {
   "cell_type": "code",
   "execution_count": 46,
   "metadata": {},
   "outputs": [],
   "source": [
    "class AdvEqOddsLoss(nn.Module):\n",
    "    def __init__(self, p=1):\n",
    "        super(AdvEqOddsLoss, self).__init__()\n",
    "        if p == 1:\n",
    "            self.distance = nn.L1Loss()\n",
    "        elif p == 2:\n",
    "            self.distance = nn.MSELoss()\n",
    "        else:\n",
    "            print('P has to be either 1 or 2')\n",
    "        \n",
    "    def forward(self, predicted_sensitive, sensitive, targets):\n",
    "        if not (targets.shape[0] == predicted_sensitive.shape[0]):\n",
    "            raise ValueError(\"Target size ({}) must be the same as predicted_sensitive size ({})\".format(target.size(), predicted_sensitive.size()))\n",
    "        \n",
    "        if isinstance(targets, np.ndarray):\n",
    "            targets = torch.from_numpy(targets)\n",
    "            targets = targets.float()\n",
    "            \n",
    "        if isinstance(sensitive, np.ndarray):\n",
    "            sensitive = torch.from_numpy(sensitive)\n",
    "            sensitive = sensitive.float()\n",
    "        \n",
    "        \n",
    "        predicted_sensitive = predicted_sensitive.squeeze(dim=1)\n",
    "        \n",
    "        a00_mask = ((targets == 0).byte() & (sensitive == 0).byte())\n",
    "        a01_mask = ((targets == 1).byte() & (sensitive == 0).byte())\n",
    "        a10_mask = ((targets == 0).byte() & (sensitive == 1).byte())\n",
    "        a11_mask = ((targets == 1).byte() & (sensitive == 1).byte())\n",
    "\n",
    "        predicted_sensitive_group00 = predicted_sensitive[a00_mask]\n",
    "        predicted_sensitive_group01 = predicted_sensitive[a01_mask]\n",
    "        predicted_sensitive_group10 = predicted_sensitive[a10_mask]\n",
    "        predicted_sensitive_group11 = predicted_sensitive[a11_mask]\n",
    "\n",
    "        true_sensitive_group00 = sensitive[a00_mask]\n",
    "        true_sensitive_group01 = sensitive[a01_mask]\n",
    "        true_sensitive_group10 = sensitive[a10_mask]\n",
    "        true_sensitive_group11 = sensitive[a11_mask]\n",
    "        \n",
    "#         print('Pred: {}\\n{}\\n{}\\n{}'.format(predicted_sensitive_group00, predicted_sensitive_group01, predicted_sensitive_group10, predicted_sensitive_group11))\n",
    "#         print('True: {}\\n{}\\n{}\\n{}'.format(true_sensitive_group00, true_sensitive_group01, true_sensitive_group10, true_sensitive_group11))\n",
    "        \n",
    "        distance00 = 0 if torch.isnan(self.distance(predicted_sensitive_group00, true_sensitive_group00)) else self.distance(predicted_sensitive_group00, true_sensitive_group00)\n",
    "        distance01 = 0 if torch.isnan(self.distance(predicted_sensitive_group01, true_sensitive_group01)) else self.distance(predicted_sensitive_group01, true_sensitive_group01)\n",
    "        distance10 = 0 if torch.isnan(self.distance(predicted_sensitive_group10, true_sensitive_group10)) else self.distance(predicted_sensitive_group10, true_sensitive_group10)\n",
    "        distance11 = 0 if torch.isnan(self.distance(predicted_sensitive_group11, true_sensitive_group11)) else self.distance(predicted_sensitive_group11, true_sensitive_group11)\n",
    "        \n",
    "        loss = 2 - (distance00 + distance01 + distance10 + distance11)\n",
    "\n",
    "#         print('00: {}\\n01: {}\\n10: {}11: \\n{}'.format(self.distance(predicted_sensitive_group00, true_sensitive_group00), \n",
    "#                                                       self.distance(predicted_sensitive_group01, true_sensitive_group01),\n",
    "#                                                       self.distance(predicted_sensitive_group10, true_sensitive_group10), \n",
    "#                                                       self.distance(predicted_sensitive_group11, true_sensitive_group11)))\n",
    "              \n",
    "        return loss"
   ]
  },
  {
   "cell_type": "code",
   "execution_count": 47,
   "metadata": {},
   "outputs": [],
   "source": [
    "input = adversary(torch.from_numpy(advX_test.values).float())\n",
    "targets = a_test"
   ]
  },
  {
   "cell_type": "code",
   "execution_count": 48,
   "metadata": {},
   "outputs": [],
   "source": [
    "AdvDPLoss = AdvDemographicParityLoss()"
   ]
  },
  {
   "cell_type": "code",
   "execution_count": 49,
   "metadata": {},
   "outputs": [
    {
     "data": {
      "text/plain": [
       "tensor(0.5536)"
      ]
     },
     "execution_count": 49,
     "metadata": {},
     "output_type": "execute_result"
    }
   ],
   "source": [
    "AdvDPLoss(input, targets)"
   ]
  },
  {
   "cell_type": "code",
   "execution_count": 50,
   "metadata": {},
   "outputs": [],
   "source": [
    "AdvEOLoss = AdvEqOddsLoss()"
   ]
  },
  {
   "cell_type": "code",
   "execution_count": 51,
   "metadata": {},
   "outputs": [
    {
     "data": {
      "text/plain": [
       "tensor(1.1206)"
      ]
     },
     "execution_count": 51,
     "metadata": {},
     "output_type": "execute_result"
    }
   ],
   "source": [
    "AdvEOLoss(input, a_test, y_test)"
   ]
  },
  {
   "cell_type": "markdown",
   "metadata": {},
   "source": [
    "# LAFTR"
   ]
  },
  {
   "cell_type": "markdown",
   "metadata": {},
   "source": [
    "Training the encoder"
   ]
  },
  {
   "cell_type": "code",
   "execution_count": 52,
   "metadata": {},
   "outputs": [],
   "source": [
    "def laftr_epoch(encoder, classifier, adversary, X, y_cls, y_adv, opt_en, opt_cls, opt_adv, cls_criterion, adv_criterion, batch_size=64):\n",
    "    cls_en_combinedLosses = []\n",
    "    cls_en_accs = []\n",
    "    adv_combinedLosses = []\n",
    "    adv_accs = []\n",
    "    \n",
    "    for beg_i in range(0, X.shape[0], batch_size):\n",
    "        \n",
    "        x_batch = X.iloc[beg_i:beg_i + batch_size].values\n",
    "        y_cls_batch = y_cls[beg_i:beg_i + batch_size]\n",
    "        y_adv_batch = y_adv[beg_i:beg_i + batch_size]        \n",
    "        \n",
    "        x_batch = torch.from_numpy(x_batch).to(device).float()\n",
    "        y_cls_batch = torch.from_numpy(y_cls_batch).to(device).float()\n",
    "        y_adv_batch = torch.from_numpy(y_adv_batch).to(device).float()\n",
    "        \n",
    "        # fix adversary take gradient step with classifier and encoder\n",
    "        encoder.train()\n",
    "        classifier.train()\n",
    "        z = encoder(x_batch)\n",
    "        y_hat = classifier(z)\n",
    "\n",
    "        adversary.eval()\n",
    "        with torch.no_grad():\n",
    "            a_fixed = adversary(z)\n",
    "\n",
    "        opt_cls.zero_grad()\n",
    "        opt_en.zero_grad()\n",
    "        \n",
    "        cls_loss = cls_criterion(y_hat, y_cls_batch)\n",
    "        adv_loss_fixed = adv_criterion(a_fixed, y_adv_batch, y_cls_batch)\n",
    "            \n",
    "        cls_en_combinedLoss = cls_loss + adv_loss_fixed\n",
    "        cls_en_combinedLoss.backward()\n",
    "#         print(cls_en_combinedLoss.grad_fn)\n",
    "        opt_cls.step\n",
    "        opt_en.step\n",
    "        \n",
    "        # fix encoder and classifier and take gradient step with adversary\n",
    "        encoder.eval()\n",
    "        classifier.eval()\n",
    "        with torch.no_grad():\n",
    "            z_fixed = encoder(x_batch)\n",
    "            y_hat_fixed = classifier(z_fixed)\n",
    "        \n",
    "        adversary.train()\n",
    "        a_hat = adversary(z_fixed)\n",
    "        \n",
    "        opt_adv.zero_grad()\n",
    "        \n",
    "        cls_loss_fixed = cls_criterion(y_hat_fixed, y_cls_batch)\n",
    "        adv_loss = adv_criterion(a_hat, y_adv_batch, y_cls_batch)\n",
    "        \n",
    "        adv_combinedLoss = -(cls_loss_fixed + adv_loss)\n",
    "        adv_combinedLoss.backward\n",
    "        \n",
    "        opt_adv.step()\n",
    "        \n",
    "        cls_en_combinedLosses.append(cls_en_combinedLoss.item())\n",
    "        adv_combinedLosses.append(adv_combinedLoss.item())\n",
    "        \n",
    "        cls_preds = torch.round(y_hat.data).squeeze(1).numpy()\n",
    "        cls_acc = sum(cls_preds == y_cls_batch).numpy()/len(y_cls_batch)\n",
    "        cls_en_accs.append(cls_acc)\n",
    "        \n",
    "        adv_preds = torch.round(a_hat.data).squeeze(1).numpy()\n",
    "        adv_acc = sum(adv_preds == y_adv_batch).numpy()/len(y_adv_batch)\n",
    "        adv_accs.append(adv_acc)\n",
    "\n",
    "    return np.mean(cls_en_combinedLosses), np.mean(cls_en_accs), np.mean(adv_combinedLosses), np.mean(adv_accs)"
   ]
  },
  {
   "cell_type": "code",
   "execution_count": 53,
   "metadata": {},
   "outputs": [],
   "source": [
    "def laftr_validate(encoder, classifier, adversary, X, y_cls, y_adv, loss_cls, loss_adv, batch_size=64):\n",
    "    combined_losses = []\n",
    "    cls_en_losses = []\n",
    "    cls_en_accs = []\n",
    "    adv_losses = []\n",
    "    adv_accs = []\n",
    "    \n",
    "    encoder.eval()\n",
    "    classifier.eval()\n",
    "    adversary.eval()\n",
    "\n",
    "    with torch.no_grad():\n",
    "        for beg_i in range(0, X.shape[0], batch_size):\n",
    "\n",
    "            x_batch = X.iloc[beg_i:beg_i + batch_size].values\n",
    "            y_cls_batch = y_cls[beg_i:beg_i + batch_size]\n",
    "            y_adv_batch = y_adv[beg_i:beg_i + batch_size]        \n",
    "\n",
    "            x_batch = torch.from_numpy(x_batch).to(device).float()\n",
    "            y_cls_batch = torch.from_numpy(y_cls_batch).to(device).float()\n",
    "            y_adv_batch = torch.from_numpy(y_adv_batch).to(device).float()\n",
    "\n",
    "            # fix adversary take gradient step with classifier and encoder\n",
    "            z = encoder(x_batch)\n",
    "            y_hat = classifier(z)\n",
    "\n",
    "            a_hat = adversary(z)\n",
    "        \n",
    "            cls_en_loss = loss_cls(y_hat, y_cls_batch)\n",
    "            adv_loss = loss_adv(a_hat, y_adv_batch, y_cls_batch)\n",
    "            combined_loss = cls_en_loss + adv_loss\n",
    "        \n",
    "            cls_en_losses.append(cls_en_loss.item())\n",
    "            adv_losses.append(adv_loss.item())\n",
    "            combined_losses.append(combined_loss)\n",
    "\n",
    "            cls_preds = torch.round(y_hat.data).squeeze(1).numpy()\n",
    "            cls_acc = sum(cls_preds == y_cls_batch).numpy()/len(y_cls_batch)\n",
    "            cls_en_accs.append(cls_acc)\n",
    "\n",
    "            adv_preds = torch.round(a_hat.data).squeeze(1).numpy()\n",
    "            adv_acc = sum(adv_preds == y_adv_batch).numpy()/len(y_adv_batch)\n",
    "            adv_accs.append(adv_acc)\n",
    "\n",
    "    return np.mean(combined_losses), np.mean(cls_en_losses), np.mean(cls_en_accs), np.mean(adv_losses), np.mean(adv_accs)"
   ]
  },
  {
   "cell_type": "code",
   "execution_count": 54,
   "metadata": {},
   "outputs": [],
   "source": [
    "input_size = X_train.shape[1]\n",
    "encoder = EncodingNet(input_size)\n",
    "output_size = 8\n",
    "classifier = SingleNet(output_size)\n",
    "cls_opt = optim.Adam(classifier.parameters(), lr=0.001, betas=(0.9, 0.999))\n",
    "en_opt = optim.Adam(encoder.parameters(), lr=0.001, betas=(0.9, 0.999))\n",
    "cls_criterion = nn.BCELoss()"
   ]
  },
  {
   "cell_type": "code",
   "execution_count": 55,
   "metadata": {},
   "outputs": [],
   "source": [
    "adversary = SingleNet(output_size)\n",
    "adv_opt = optim.Adam(adversary.parameters(), lr=0.001, betas=(0.9, 0.999))\n",
    "adv_criterion = AdvEqOddsLoss(p=1)"
   ]
  },
  {
   "cell_type": "code",
   "execution_count": 56,
   "metadata": {},
   "outputs": [
    {
     "name": "stderr",
     "output_type": "stream",
     "text": [
      "/Users/var/anaconda/envs/pytorch/lib/python3.6/site-packages/torch/nn/functional.py:1474: UserWarning: Using a target size (torch.Size([64])) that is different to the input size (torch.Size([64, 1])) is deprecated. Please ensure they have the same size.\n",
      "  \"Please ensure they have the same size.\".format(target.size(), input.size()))\n",
      "/Users/var/anaconda/envs/pytorch/lib/python3.6/site-packages/torch/nn/functional.py:1474: UserWarning: Using a target size (torch.Size([29])) that is different to the input size (torch.Size([29, 1])) is deprecated. Please ensure they have the same size.\n",
      "  \"Please ensure they have the same size.\".format(target.size(), input.size()))\n",
      "/Users/var/anaconda/envs/pytorch/lib/python3.6/site-packages/torch/nn/functional.py:1474: UserWarning: Using a target size (torch.Size([53])) that is different to the input size (torch.Size([53, 1])) is deprecated. Please ensure they have the same size.\n",
      "  \"Please ensure they have the same size.\".format(target.size(), input.size()))\n"
     ]
    },
    {
     "name": "stdout",
     "output_type": "stream",
     "text": [
      "Epoch: 0 \n",
      "Cls Enc step Loss: 0.6621155277483881 Classifier Accuracy: 0.7510836742645627\n",
      "Adversary step Loss: -0.6621155277483881 Adversary accuracy 0.3241190580557179\n",
      "Test: 0 Combined Loss 0.6593762636184692\n",
      "Cls Enc step Loss: 0.6596614768949606 Classifier Accuracy: 0.7509344019827311\n",
      "Adversary step Loss: -0.000285141548867953 Adversary accuracy 0.3244098776782859\n",
      "Epoch: 10 \n",
      "Cls Enc step Loss: 0.6621155277483881 Classifier Accuracy: 0.7510836742645627\n",
      "Adversary step Loss: -0.6621155277483881 Adversary accuracy 0.3241190580557179\n",
      "Test: 10 Combined Loss 0.6593762636184692\n",
      "Cls Enc step Loss: 0.6596614768949606 Classifier Accuracy: 0.7509344019827311\n",
      "Adversary step Loss: -0.000285141548867953 Adversary accuracy 0.3244098776782859\n",
      "Epoch: 20 \n",
      "Cls Enc step Loss: 0.6621155277483881 Classifier Accuracy: 0.7510836742645627\n",
      "Adversary step Loss: -0.6621155277483881 Adversary accuracy 0.3241190580557179\n",
      "Test: 20 Combined Loss 0.6593762636184692\n",
      "Cls Enc step Loss: 0.6596614768949606 Classifier Accuracy: 0.7509344019827311\n",
      "Adversary step Loss: -0.000285141548867953 Adversary accuracy 0.3244098776782859\n",
      "Epoch: 30 \n",
      "Cls Enc step Loss: 0.6621155277483881 Classifier Accuracy: 0.7510836742645627\n",
      "Adversary step Loss: -0.6621155277483881 Adversary accuracy 0.3241190580557179\n",
      "Test: 30 Combined Loss 0.6593762636184692\n",
      "Cls Enc step Loss: 0.6596614768949606 Classifier Accuracy: 0.7509344019827311\n",
      "Adversary step Loss: -0.000285141548867953 Adversary accuracy 0.3244098776782859\n",
      "Epoch: 40 \n",
      "Cls Enc step Loss: 0.6621155277483881 Classifier Accuracy: 0.7510836742645627\n",
      "Adversary step Loss: -0.6621155277483881 Adversary accuracy 0.3241190580557179\n",
      "Test: 40 Combined Loss 0.6593762636184692\n",
      "Cls Enc step Loss: 0.6596614768949606 Classifier Accuracy: 0.7509344019827311\n",
      "Adversary step Loss: -0.000285141548867953 Adversary accuracy 0.3244098776782859\n"
     ]
    }
   ],
   "source": [
    "clsTrain_losses = []\n",
    "clsTrain_accs = []\n",
    "advTrain_losses = []\n",
    "advTrain_accs = []\n",
    "\n",
    "combinedVal_losses = []\n",
    "clsVal_losses = []\n",
    "clsVal_accs = []\n",
    "advVal_losses = []\n",
    "advVal_accs = []\n",
    "\n",
    "num_epochs = 50\n",
    "\n",
    "for e in range(num_epochs):\n",
    "    clsTrain_loss, clsTrain_acc, advTrain_loss, advTrain_acc = laftr_epoch(encoder, classifier, adversary, X_train, y_train, a_train, en_opt, cls_opt, adv_opt, cls_criterion, adv_criterion)\n",
    "    \n",
    "    if e % 10 == 0:\n",
    "        print('Epoch: {} \\nCls Enc step Loss: {} Classifier Accuracy: {}'\n",
    "          '\\nAdversary step Loss: {} Adversary accuracy {}'.format(e, clsTrain_loss, clsTrain_acc, advTrain_loss, advTrain_acc))\n",
    "    \n",
    "    clsTrain_losses.append(clsTrain_loss)\n",
    "    clsTrain_accs.append(clsTrain_acc)\n",
    "    advTrain_losses.append(advTrain_loss)\n",
    "    advTrain_accs.append(advTrain_acc)\n",
    "    \n",
    "    combinedVal_loss, clsVal_loss, clsVal_acc, advVal_loss, advVal_acc = laftr_validate(encoder, classifier, adversary, X_test, y_test, a_test, cls_criterion, adv_criterion)\n",
    "    \n",
    "    if e % 10 == 0:\n",
    "        print('Test: {} Combined Loss {}\\nCls Enc step Loss: {} Classifier Accuracy: {}'\n",
    "          '\\nAdversary step Loss: {} Adversary accuracy {}'.format(e, combinedVal_loss, clsVal_loss, clsVal_acc, advVal_loss, advVal_acc))\n",
    "    \n",
    "    combinedVal_losses.append(combinedVal_loss)\n",
    "    clsVal_losses.append(clsVal_loss)\n",
    "    clsVal_accs.append(clsVal_acc)\n",
    "    advVal_losses.append(advVal_loss)\n",
    "    advVal_accs.append(advVal_acc)\n",
    "    "
   ]
  },
  {
   "cell_type": "code",
   "execution_count": 57,
   "metadata": {},
   "outputs": [
    {
     "data": {
      "text/plain": [
       "[<matplotlib.lines.Line2D at 0x1131cd3c8>]"
      ]
     },
     "execution_count": 57,
     "metadata": {},
     "output_type": "execute_result"
    },
    {
     "data": {
      "image/png": "[encoded data removed]",
      "text/plain": [
       "<Figure size 720x720 with 4 Axes>"
      ]
     },
     "metadata": {},
     "output_type": "display_data"
    }
   ],
   "source": [
    "plt.figure(figsize=(10,10))\n",
    "plt.subplot(221)\n",
    "plt.plot(advTrain_losses)\n",
    "plt.subplot(222)\n",
    "plt.plot(advTrain_acc)\n",
    "plt.subplot(223)\n",
    "plt.plot(advVal_losses)\n",
    "plt.subplot(224)\n",
    "plt.plot(advVal_acc)"
   ]
  },
  {
   "cell_type": "code",
   "execution_count": null,
   "metadata": {},
   "outputs": [],
   "source": []
  }
 ],
 "metadata": {
  "kernelspec": {
   "display_name": "Python 3",
   "language": "python",
   "name": "python3"
  },
  "language_info": {
   "codemirror_mode": {
    "name": "ipython",
    "version": 3
   },
   "file_extension": ".py",
   "mimetype": "text/x-python",
   "name": "python",
   "nbconvert_exporter": "python",
   "pygments_lexer": "ipython3",
   "version": "3.6.5"
  }
 },
 "nbformat": 4,
 "nbformat_minor": 2
}
