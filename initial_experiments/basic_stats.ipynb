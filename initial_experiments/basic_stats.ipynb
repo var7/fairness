{
 "cells": [
  {
   "cell_type": "code",
   "execution_count": 1,
   "metadata": {},
   "outputs": [],
   "source": [
    "%load_ext autoreload\n",
    "%autoreload 2\n",
    "%matplotlib inline"
   ]
  },
  {
   "cell_type": "code",
   "execution_count": 2,
   "metadata": {},
   "outputs": [],
   "source": [
    "from dataloader import *"
   ]
  },
  {
   "cell_type": "code",
   "execution_count": 3,
   "metadata": {},
   "outputs": [],
   "source": [
    "import pandas as pd\n",
    "import numpy as np\n",
    "import torch\n",
    "import torchvision\n",
    "import matplotlib\n",
    "import matplotlib.pyplot as plt\n",
    "plt.style.use('dark_background')"
   ]
  },
  {
   "cell_type": "code",
   "execution_count": 4,
   "metadata": {},
   "outputs": [],
   "source": [
    "ANNOT_PATH = \"new_data/full_facescrub_with_ids.txt\"\n",
    "DATA_PATH = \"new_data/\""
   ]
  },
  {
   "cell_type": "code",
   "execution_count": 5,
   "metadata": {},
   "outputs": [],
   "source": [
    "df = pd.read_csv(ANNOT_PATH, delimiter='\\t')"
   ]
  },
  {
   "cell_type": "code",
   "execution_count": 6,
   "metadata": {},
   "outputs": [
    {
     "data": {
      "text/plain": [
       "53.0"
      ]
     },
     "execution_count": 6,
     "metadata": {},
     "output_type": "execute_result"
    }
   ],
   "source": [
    "265*0.2"
   ]
  },
  {
   "cell_type": "code",
   "execution_count": 19,
   "metadata": {},
   "outputs": [
    {
     "name": "stdout",
     "output_type": "stream",
     "text": [
      "[ 56  97 152 249   4 203   1 152 101 171  31 135 169  85 143 210 110 193\n",
      " 127 158 164 160 123  52  76 203 113  90  30  81  17 170  24 105 235 183\n",
      " 115 197  84 187  31  99 204  84  71 222  45  92 164 107 128 205 203]\n",
      "[123 204  45 183 170 169  90 171 110 160 164 152  52 187  84  92  76  85\n",
      " 210  24  97  84 164 203 152 143]\n",
      "[  1   4  17  30  31  56  71  81  99 101 105 107 113 115 127 128 135 158\n",
      " 193 197 205 222 235 249]\n"
     ]
    }
   ],
   "source": [
    "random_state = np.random.RandomState(1791387)\n",
    "holdout_male_pids = random_state.randint(1, 266, size=int(265*0.2))\n",
    "# holdout_female_pids = random_state.randint(1, 266, size=int(265*0.2))\n",
    "\n",
    "val_male_pids = random_state.choice(holdout_male_pids, size=int(265*0.1), replace=False)\n",
    "# test_male_pids = list(set(holdout_male_pids) - set(val_male_pids))\n",
    "test_male_pids = np.setdiff1d(holdout_male_pids, val_male_pids)\n",
    "print(holdout_male_pids)\n",
    "print(val_male_pids)\n",
    "print(test_male_pids)"
   ]
  },
  {
   "cell_type": "code",
   "execution_count": 47,
   "metadata": {},
   "outputs": [],
   "source": [
    "def data_split(low=1, class_size=265, holdout_frac=0.2, val_test_split=0.5, seed=1791387):\n",
    "    random_state = np.random.RandomState(seed)\n",
    "    all_pids = np.arange(low, low+class_size+1)\n",
    "    holdout_pids = random_state.randint(low, low+class_size+1, size=int(class_size*holdout_frac))\n",
    "    val_pids = random_state.choice(holdout_pids, size=int(class_size*holdout_frac*val_test_split), replace=False)\n",
    "    test_pids = np.setdiff1d(holdout_pids, val_pids)\n",
    "    train_pids = np.setdiff1d(all_pids, holdout_pids)\n",
    "    return train_pids, val_pids, test_pids"
   ]
  },
  {
   "cell_type": "code",
   "execution_count": 48,
   "metadata": {},
   "outputs": [],
   "source": [
    "male_train, male_val, male_test = data_split()\n",
    "female_train, female_val, female_test = data_split(low=265)"
   ]
  },
  {
   "cell_type": "code",
   "execution_count": 61,
   "metadata": {},
   "outputs": [
    {
     "data": {
      "text/plain": [
       "array([  2,   3,   5,   6,   7,   8,   9,  10,  11,  12,  13,  14,  15,\n",
       "        16,  18,  19,  20,  21,  22,  23,  25,  26,  27,  28,  29,  32,\n",
       "        33,  34,  35,  36,  37,  38,  39,  40,  41,  42,  43,  44,  46,\n",
       "        47,  48,  49,  50,  51,  53,  54,  55,  57,  58,  59,  60,  61,\n",
       "        62,  63,  64,  65,  66,  67,  68,  69,  70,  72,  73,  74,  75,\n",
       "        77,  78,  79,  80,  82,  83,  86,  87,  88,  89,  91,  93,  94,\n",
       "        95,  96,  98, 100, 102, 103, 104, 106, 108, 109, 111, 112, 114,\n",
       "       116, 117, 118, 119, 120, 121, 122, 124, 125, 126, 129, 130, 131,\n",
       "       132, 133, 134, 136, 137, 138, 139, 140, 141, 142, 144, 145, 146,\n",
       "       147, 148, 149, 150, 151, 153, 154, 155, 156, 157, 159, 161, 162,\n",
       "       163, 165, 166, 167, 168, 172, 173, 174, 175, 176, 177, 178, 179,\n",
       "       180, 181, 182, 184, 185, 186, 188, 189, 190, 191, 192, 194, 195,\n",
       "       196, 198, 199, 200, 201, 202, 206, 207, 208, 209, 211, 212, 213,\n",
       "       214, 215, 216, 217, 218, 219, 220, 221, 223, 224, 225, 226, 227,\n",
       "       228, 229, 230, 231, 232, 233, 234, 236, 237, 238, 239, 240, 241,\n",
       "       242, 243, 244, 245, 246, 247, 248, 250, 251, 252, 253, 254, 255,\n",
       "       256, 257, 258, 259, 260, 261, 262, 263, 264, 265, 266, 266, 267,\n",
       "       269, 270, 271, 272, 273, 274, 275, 276, 277, 278, 279, 280, 282,\n",
       "       283, 284, 285, 286, 287, 289, 290, 291, 292, 293, 296, 297, 298,\n",
       "       299, 300, 301, 302, 303, 304, 305, 306, 307, 308, 310, 311, 312,\n",
       "       313, 314, 315, 317, 318, 319, 321, 322, 323, 324, 325, 326, 327,\n",
       "       328, 329, 330, 331, 332, 333, 334, 336, 337, 338, 339, 341, 342,\n",
       "       343, 344, 346, 347, 350, 351, 352, 353, 355, 357, 358, 359, 360,\n",
       "       362, 364, 366, 367, 368, 370, 372, 373, 375, 376, 378, 380, 381,\n",
       "       382, 383, 384, 385, 386, 388, 389, 390, 393, 394, 395, 396, 397,\n",
       "       398, 400, 401, 402, 403, 404, 405, 406, 408, 409, 410, 411, 412,\n",
       "       413, 414, 415, 417, 418, 419, 420, 421, 423, 425, 426, 427, 429,\n",
       "       430, 431, 432, 436, 437, 438, 439, 440, 441, 442, 443, 444, 445,\n",
       "       446, 448, 449, 450, 452, 453, 454, 455, 456, 458, 459, 460, 462,\n",
       "       463, 464, 465, 466, 470, 471, 472, 473, 475, 476, 477, 478, 479,\n",
       "       480, 481, 482, 483, 484, 485, 487, 488, 489, 490, 491, 492, 493,\n",
       "       494, 495, 496, 497, 498, 500, 501, 502, 503, 504, 505, 506, 507,\n",
       "       508, 509, 510, 511, 512, 514, 515, 516, 517, 518, 519, 520, 521,\n",
       "       522, 523, 524, 525, 526, 527, 528, 529, 530])"
      ]
     },
     "execution_count": 61,
     "metadata": {},
     "output_type": "execute_result"
    }
   ],
   "source": [
    "np.concatenate((male_train, female_train))"
   ]
  },
  {
   "cell_type": "code",
   "execution_count": 64,
   "metadata": {},
   "outputs": [
    {
     "data": {
      "text/plain": [
       "437"
      ]
     },
     "execution_count": 64,
     "metadata": {},
     "output_type": "execute_result"
    }
   ],
   "source": [
    "train_df = df[df.person_id.isin(np.concatenate((male_train, female_train)))]\n",
    "len(train_df.person_id.unique())"
   ]
  },
  {
   "cell_type": "code",
   "execution_count": 33,
   "metadata": {},
   "outputs": [
    {
     "data": {
      "text/plain": [
       "3"
      ]
     },
     "execution_count": 33,
     "metadata": {},
     "output_type": "execute_result"
    }
   ],
   "source": [
    "pids = df.person_id.unique()\n",
    "pids_to_indices = {ids: np.where(df.person_id == ids)[0] for ids in pids}\n",
    "pids_to_indices[530]\n",
    "pids[2]"
   ]
  },
  {
   "cell_type": "code",
   "execution_count": 76,
   "metadata": {},
   "outputs": [],
   "source": [
    "random_state = np.random.RandomState(1791387)\n",
    "positive_pairs = [[i, random_state.choice(pids_to_indices[df.person_id[i].item()]),1] for i in range(0, len(df), 2)]\n",
    "negative_pairs = [[i, random_state.choice(pids_to_indices[np.random.choice(list(set(pids) - set([df.person_id[i].item()])))]), 0] for i in range(0, len(df), 2)]\n",
    "test_pairs = positive_pairs + negative_pairs"
   ]
  },
  {
   "cell_type": "code",
   "execution_count": 81,
   "metadata": {},
   "outputs": [],
   "source": [
    "triplets = [[i, \n",
    "                   random_state.choice(pids_to_indices[df.person_id[i].item()]),\n",
    "                   random_state.choice(pids_to_indices[np.random.choice(list(set(pids) - set([df.person_id[i].item()])))])\n",
    "                  ] for i in range(0, len(df))]"
   ]
  },
  {
   "cell_type": "code",
   "execution_count": 82,
   "metadata": {},
   "outputs": [
    {
     "data": {
      "text/plain": [
       "[[37910, 37900, 2190],\n",
       " [37911, 37878, 18644],\n",
       " [37912, 37886, 36323],\n",
       " [37913, 37892, 29881],\n",
       " [37914, 37886, 14835]]"
      ]
     },
     "execution_count": 82,
     "metadata": {},
     "output_type": "execute_result"
    }
   ],
   "source": [
    "triplets[-5:]"
   ]
  },
  {
   "cell_type": "code",
   "execution_count": 85,
   "metadata": {},
   "outputs": [
    {
     "name": "stdout",
     "output_type": "stream",
     "text": [
      "name                                                Adam McKay\n",
      "image_id                                                   979\n",
      "face_id                                                    533\n",
      "url          http://www.localbozo.com/wp-content/uploads/20...\n",
      "bbox                                           550,148,671,269\n",
      "sha256       c53dd91b7a5a6460475714aac0338d188dbf7fb4aaeff6...\n",
      "gender                                                    male\n",
      "person_id                                                    3\n",
      "Name: 200, dtype: object\n",
      "name                                                Adam McKay\n",
      "image_id                                                   906\n",
      "face_id                                                    514\n",
      "url          http://www4.pictures.zimbio.com/gi/Adam%252BMc...\n",
      "bbox                                            216,64,414,262\n",
      "sha256       0f9f3ae182a8146dc90478f677783158cedbf4ed35952e...\n",
      "gender                                                    male\n",
      "person_id                                                    3\n",
      "Name: 190, dtype: object\n",
      "name                                             Lecy Goranson\n",
      "image_id                                                 65944\n",
      "face_id                                                  30492\n",
      "url          http://www.angelfire.com/theforce/lecygoranson...\n",
      "bbox                                             68,38,177,147\n",
      "sha256       4fc00075b82463eae1766f146b722c5f30fffd9e2104e4...\n",
      "gender                                                  female\n",
      "person_id                                                  418\n",
      "Name: 30429, dtype: object\n"
     ]
    }
   ],
   "source": [
    "print(df.iloc[triplets[200][0]])\n",
    "print(df.iloc[triplets[200][1]])\n",
    "print(df.iloc[triplets[200][2]])\n"
   ]
  },
  {
   "cell_type": "code",
   "execution_count": 77,
   "metadata": {},
   "outputs": [
    {
     "data": {
      "text/plain": [
       "[[37906, 35182, 0],\n",
       " [37908, 8050, 0],\n",
       " [37910, 27304, 0],\n",
       " [37912, 25201, 0],\n",
       " [37914, 13226, 0]]"
      ]
     },
     "execution_count": 77,
     "metadata": {},
     "output_type": "execute_result"
    }
   ],
   "source": [
    "test_pairs[-5:]"
   ]
  },
  {
   "cell_type": "code",
   "execution_count": 57,
   "metadata": {},
   "outputs": [
    {
     "name": "stdout",
     "output_type": "stream",
     "text": [
      "Chris Kattan\n",
      "Chris Kattan\n"
     ]
    }
   ],
   "source": [
    "print(df.person_id[positive_pairs[2000][0]])\n",
    "print(df.person_id[positive_pairs[2000][1]])"
   ]
  },
  {
   "cell_type": "code",
   "execution_count": 73,
   "metadata": {},
   "outputs": [
    {
     "data": {
      "text/plain": [
       "Index(['name', 'image_id', 'face_id', 'url', 'bbox', 'sha256', 'gender',\n",
       "       'person_id'],\n",
       "      dtype='object')"
      ]
     },
     "execution_count": 73,
     "metadata": {},
     "output_type": "execute_result"
    }
   ],
   "source": [
    "df.columns"
   ]
  },
  {
   "cell_type": "code",
   "execution_count": 74,
   "metadata": {},
   "outputs": [
    {
     "data": {
      "image/png": "[encoded data removed]",
      "text/plain": [
       "<matplotlib.figure.Figure at 0x1c1efa96a0>"
      ]
     },
     "metadata": {},
     "output_type": "display_data"
    },
    {
     "name": "stdout",
     "output_type": "stream",
     "text": [
      "(array([ 15.,  34.,  57., 101., 106., 121.,  64.,  27.,   3.,   2.]), array([ 19. ,  30.8,  42.6,  54.4,  66.2,  78. ,  89.8, 101.6, 113.4,\n",
      "       125.2, 137. ]), <a list of 10 Patch objects>)\n"
     ]
    }
   ],
   "source": [
    "plt.figure(figsize=(25, 5))\n",
    "plt.subplot(131)\n",
    "arr = plt.hist(df.name.value_counts())\n",
    "plt.xlabel('Number of images')\n",
    "plt.ylabel('Number of actors/actresses')\n",
    "plt.title('FaceScrub full dataset')\n",
    "\n",
    "plt.subplot(132)\n",
    "plt.hist(df[df['gender'] == 'male'].name.value_counts())\n",
    "plt.xlabel('Number of images')\n",
    "plt.ylabel('Number of actors')\n",
    "plt.title('FaceScrub full dataset')\n",
    "\n",
    "plt.subplot(133)\n",
    "plt.hist(df[df['gender'] == 'female'].name.value_counts())\n",
    "plt.xlabel('Number of images')\n",
    "plt.ylabel('Number of actresses')\n",
    "plt.title('FaceScrub full dataset')\n",
    "\n",
    "\n",
    "plt.show()\n",
    "\n",
    "print(arr)"
   ]
  },
  {
   "cell_type": "code",
   "execution_count": 75,
   "metadata": {},
   "outputs": [
    {
     "data": {
      "text/plain": [
       "male      19741\n",
       "female    18174\n",
       "Name: gender, dtype: int64"
      ]
     },
     "execution_count": 75,
     "metadata": {},
     "output_type": "execute_result"
    }
   ],
   "source": [
    "gender_counts = df.gender.value_counts()\n",
    "gender_counts"
   ]
  },
  {
   "cell_type": "code",
   "execution_count": 76,
   "metadata": {},
   "outputs": [
    {
     "name": "stdout",
     "output_type": "stream",
     "text": [
      "1567\n"
     ]
    }
   ],
   "source": [
    "males_to_drop = gender_counts['male'] - gender_counts['female']\n",
    "print(males_to_drop)"
   ]
  },
  {
   "cell_type": "code",
   "execution_count": 77,
   "metadata": {},
   "outputs": [
    {
     "data": {
      "text/plain": [
       "female    18174\n",
       "male      18174\n",
       "Name: gender, dtype: int64"
      ]
     },
     "execution_count": 77,
     "metadata": {},
     "output_type": "execute_result"
    }
   ],
   "source": [
    "eq_df = df.copy()\n",
    "eq_df[df['gender'] == 'male'] = df[df['gender']=='male'].sample(n=gender_counts['female'])\n",
    "eq_df.gender.value_counts()"
   ]
  },
  {
   "cell_type": "code",
   "execution_count": 89,
   "metadata": {},
   "outputs": [],
   "source": [
    "eq_df = eq_df.dropna()"
   ]
  },
  {
   "cell_type": "code",
   "execution_count": 90,
   "metadata": {},
   "outputs": [
    {
     "data": {
      "text/plain": [
       "0"
      ]
     },
     "execution_count": 90,
     "metadata": {},
     "output_type": "execute_result"
    }
   ],
   "source": [
    "sum(eq_df.person_id.isna())"
   ]
  },
  {
   "cell_type": "code",
   "execution_count": 91,
   "metadata": {},
   "outputs": [
    {
     "data": {
      "image/png": "[encoded data removed]",
      "text/plain": [
       "<matplotlib.figure.Figure at 0x1c25bb3128>"
      ]
     },
     "metadata": {},
     "output_type": "display_data"
    }
   ],
   "source": [
    "plt.figure(figsize=(25, 5))\n",
    "plt.subplot(131)\n",
    "arr = plt.hist(eq_df.name.value_counts())\n",
    "plt.xlabel('Number of images')\n",
    "plt.ylabel('Number of actors/actresses')\n",
    "plt.title('FaceScrub equalized dataset')\n",
    "\n",
    "plt.subplot(132)\n",
    "plt.hist(eq_df[eq_df['gender'] == 'male'].name.value_counts())\n",
    "plt.xlabel('Number of images')\n",
    "plt.ylabel('Number of actors')\n",
    "plt.title('FaceScrub balanced dataset - actors')\n",
    "\n",
    "plt.subplot(133)\n",
    "plt.hist(eq_df[eq_df['gender'] == 'female'].name.value_counts())\n",
    "plt.xlabel('Number of images')\n",
    "plt.ylabel('Number of actresses')\n",
    "plt.title('FaceScrub balanced dataset - actresses')\n",
    "\n",
    "\n",
    "plt.show()"
   ]
  },
  {
   "cell_type": "code",
   "execution_count": 92,
   "metadata": {},
   "outputs": [
    {
     "data": {
      "text/plain": [
       "0"
      ]
     },
     "execution_count": 92,
     "metadata": {},
     "output_type": "execute_result"
    }
   ],
   "source": [
    "sum(eq_df.person_id.isna())"
   ]
  },
  {
   "cell_type": "code",
   "execution_count": 93,
   "metadata": {},
   "outputs": [
    {
     "data": {
      "image/png": "[encoded data removed]",
      "text/plain": [
       "<matplotlib.figure.Figure at 0x1c26980ac8>"
      ]
     },
     "metadata": {},
     "output_type": "display_data"
    }
   ],
   "source": [
    "plt.figure(figsize=(25, 5))\n",
    "plt.subplot(131)\n",
    "arr = plt.hist(val_set.name.value_counts())\n",
    "plt.xlabel('Number of images')\n",
    "plt.ylabel('Number of actors/actresses')\n",
    "plt.title('FaceScrub equalized dataset')\n",
    "\n",
    "plt.subplot(132)\n",
    "plt.hist(val_set[val_set['gender'] == 'male'].name.value_counts())\n",
    "plt.xlabel('Number of images')\n",
    "plt.ylabel('Number of actors')\n",
    "plt.title('FaceScrub balanced dataset - actors')\n",
    "\n",
    "plt.subplot(133)\n",
    "plt.hist(val_set[val_set['gender'] == 'female'].name.value_counts())\n",
    "plt.xlabel('Number of images')\n",
    "plt.ylabel('Number of actresses')\n",
    "plt.title('FaceScrub balanced dataset - actresses')\n",
    "\n",
    "\n",
    "plt.show()"
   ]
  },
  {
   "cell_type": "code",
   "execution_count": 94,
   "metadata": {},
   "outputs": [
    {
     "data": {
      "text/plain": [
       "female    3684\n",
       "male      3563\n",
       "Name: gender, dtype: int64"
      ]
     },
     "execution_count": 94,
     "metadata": {},
     "output_type": "execute_result"
    }
   ],
   "source": [
    "val_set.gender.value_counts()"
   ]
  },
  {
   "cell_type": "code",
   "execution_count": 95,
   "metadata": {},
   "outputs": [
    {
     "ename": "ValueError",
     "evalue": "labels [  636  4895 19151  8575  3190  8354 12981 18578 17376  1136  4617 12412\n  7395 15560   304 19077  3417  3074  8688  7256 18126  6296 18372  9024\n  6779  1251 15985 16158  2176  3211  2707 11513  5205    88  4010  8293\n 19690 16992  2769 12143  6621  7106 16081  9985  9417 10492  7515  3692\n  3735  7252  2550  4922  7376 14663 19619  7537  8736 15744  2543  4138\n  4209 17986  4597  8783 11812 11012  2539 16729  7839 15106  6946 19418\n  4642 11465 10838  7195  9504  3424  8537 10585  4842  8894 18095  9804\n  9424 18190  9767 15094  6046  2793  7018  9256 13170  9228 11306  2761\n 14328 17596  5263  1467  4858 16660 19252 14420 16792  8105  9712 17828\n 10981 19659 11989  9813 18147  5839 17994 11024 11294    14 14044 14759\n 12979  8314 16979 13589 13825 14859   702 16521  9984 13357  2947 14340\n 10446 11571  2001  9368  1407 18321  3003  5077 14214 17595  7463 17850\n  2666 15153  4302  8136 16891 17496 18653 12558  2561  8480   383 15566\n   575 11409 18060   925   287 17667  7421 10106  7968 14600 10186 18798\n  5128 14964 17011 11941 19194 18000  2160 15325  2242 18883  9313   161\n 13052 17427 11527 14884  4511  4304 12008 16887  4054 12905 11173 19618\n 11938  5529  1815 11743  3162 11361 18050 11077 11110  7780 16345 13164\n  7385 16413 16896 13944 11759 19370 18418  8903 16038 15440  3048 12464\n 10571 16281  9092 15199  3550 18570  3057  9921 19574  2345 10055 10801\n  1023 19713 13216 16087  2520 16205  9242 10857  1088 17010  8870 11699\n 11343  4913 14014  5400 18156 15104  6278  1705  9081 17048  7365 10672\n   623  9295  5059  7228   558  3396  9467 11937  8449 15708  5247 17849\n 14162 11618  5032   128  9480 12325  5479 15048  3483 14377 19423  5294\n  5228 10151  5609  2808 15716 19082 17546  5759  5765  3407 14520  7765\n 12951 11996   862   147  8133  9032 10225 18938 16443  4483 13280  8490\n  8917   404  8913 15096 16155 19444 19473  3642 19145  8635  6498  1860\n 15476  5942  3451  5478 15214  4949  2559  3133 11492  3445 11582 13674\n  8660 15678  9944 18778] not contained in axis",
     "output_type": "error",
     "traceback": [
      "\u001b[0;31m---------------------------------------------------------------------------\u001b[0m",
      "\u001b[0;31mValueError\u001b[0m                                Traceback (most recent call last)",
      "\u001b[0;32m<ipython-input-95-38718e94a61c>\u001b[0m in \u001b[0;36m<module>\u001b[0;34m()\u001b[0m\n\u001b[0;32m----> 1\u001b[0;31m \u001b[0mtrain_set\u001b[0m \u001b[0;34m=\u001b[0m \u001b[0meq_df\u001b[0m\u001b[0;34m.\u001b[0m\u001b[0mdrop\u001b[0m\u001b[0;34m(\u001b[0m\u001b[0mval_set\u001b[0m\u001b[0;34m.\u001b[0m\u001b[0mindex\u001b[0m\u001b[0;34m)\u001b[0m\u001b[0;34m\u001b[0m\u001b[0m\n\u001b[0m\u001b[1;32m      2\u001b[0m \u001b[0mtrain_set\u001b[0m\u001b[0;34m.\u001b[0m\u001b[0mgender\u001b[0m\u001b[0;34m.\u001b[0m\u001b[0mvalue_counts\u001b[0m\u001b[0;34m(\u001b[0m\u001b[0;34m)\u001b[0m\u001b[0;34m\u001b[0m\u001b[0m\n",
      "\u001b[0;32m~/anaconda/envs/fairness/lib/python3.6/site-packages/pandas/core/generic.py\u001b[0m in \u001b[0;36mdrop\u001b[0;34m(self, labels, axis, index, columns, level, inplace, errors)\u001b[0m\n\u001b[1;32m   2528\u001b[0m         \u001b[0;32mfor\u001b[0m \u001b[0maxis\u001b[0m\u001b[0;34m,\u001b[0m \u001b[0mlabels\u001b[0m \u001b[0;32min\u001b[0m \u001b[0maxes\u001b[0m\u001b[0;34m.\u001b[0m\u001b[0mitems\u001b[0m\u001b[0;34m(\u001b[0m\u001b[0;34m)\u001b[0m\u001b[0;34m:\u001b[0m\u001b[0;34m\u001b[0m\u001b[0m\n\u001b[1;32m   2529\u001b[0m             \u001b[0;32mif\u001b[0m \u001b[0mlabels\u001b[0m \u001b[0;32mis\u001b[0m \u001b[0;32mnot\u001b[0m \u001b[0;32mNone\u001b[0m\u001b[0;34m:\u001b[0m\u001b[0;34m\u001b[0m\u001b[0m\n\u001b[0;32m-> 2530\u001b[0;31m                 \u001b[0mobj\u001b[0m \u001b[0;34m=\u001b[0m \u001b[0mobj\u001b[0m\u001b[0;34m.\u001b[0m\u001b[0m_drop_axis\u001b[0m\u001b[0;34m(\u001b[0m\u001b[0mlabels\u001b[0m\u001b[0;34m,\u001b[0m \u001b[0maxis\u001b[0m\u001b[0;34m,\u001b[0m \u001b[0mlevel\u001b[0m\u001b[0;34m=\u001b[0m\u001b[0mlevel\u001b[0m\u001b[0;34m,\u001b[0m \u001b[0merrors\u001b[0m\u001b[0;34m=\u001b[0m\u001b[0merrors\u001b[0m\u001b[0;34m)\u001b[0m\u001b[0;34m\u001b[0m\u001b[0m\n\u001b[0m\u001b[1;32m   2531\u001b[0m \u001b[0;34m\u001b[0m\u001b[0m\n\u001b[1;32m   2532\u001b[0m         \u001b[0;32mif\u001b[0m \u001b[0minplace\u001b[0m\u001b[0;34m:\u001b[0m\u001b[0;34m\u001b[0m\u001b[0m\n",
      "\u001b[0;32m~/anaconda/envs/fairness/lib/python3.6/site-packages/pandas/core/generic.py\u001b[0m in \u001b[0;36m_drop_axis\u001b[0;34m(self, labels, axis, level, errors)\u001b[0m\n\u001b[1;32m   2560\u001b[0m                 \u001b[0mnew_axis\u001b[0m \u001b[0;34m=\u001b[0m \u001b[0maxis\u001b[0m\u001b[0;34m.\u001b[0m\u001b[0mdrop\u001b[0m\u001b[0;34m(\u001b[0m\u001b[0mlabels\u001b[0m\u001b[0;34m,\u001b[0m \u001b[0mlevel\u001b[0m\u001b[0;34m=\u001b[0m\u001b[0mlevel\u001b[0m\u001b[0;34m,\u001b[0m \u001b[0merrors\u001b[0m\u001b[0;34m=\u001b[0m\u001b[0merrors\u001b[0m\u001b[0;34m)\u001b[0m\u001b[0;34m\u001b[0m\u001b[0m\n\u001b[1;32m   2561\u001b[0m             \u001b[0;32melse\u001b[0m\u001b[0;34m:\u001b[0m\u001b[0;34m\u001b[0m\u001b[0m\n\u001b[0;32m-> 2562\u001b[0;31m                 \u001b[0mnew_axis\u001b[0m \u001b[0;34m=\u001b[0m \u001b[0maxis\u001b[0m\u001b[0;34m.\u001b[0m\u001b[0mdrop\u001b[0m\u001b[0;34m(\u001b[0m\u001b[0mlabels\u001b[0m\u001b[0;34m,\u001b[0m \u001b[0merrors\u001b[0m\u001b[0;34m=\u001b[0m\u001b[0merrors\u001b[0m\u001b[0;34m)\u001b[0m\u001b[0;34m\u001b[0m\u001b[0m\n\u001b[0m\u001b[1;32m   2563\u001b[0m             \u001b[0mdropped\u001b[0m \u001b[0;34m=\u001b[0m \u001b[0mself\u001b[0m\u001b[0;34m.\u001b[0m\u001b[0mreindex\u001b[0m\u001b[0;34m(\u001b[0m\u001b[0;34m**\u001b[0m\u001b[0;34m{\u001b[0m\u001b[0maxis_name\u001b[0m\u001b[0;34m:\u001b[0m \u001b[0mnew_axis\u001b[0m\u001b[0;34m}\u001b[0m\u001b[0;34m)\u001b[0m\u001b[0;34m\u001b[0m\u001b[0m\n\u001b[1;32m   2564\u001b[0m             \u001b[0;32mtry\u001b[0m\u001b[0;34m:\u001b[0m\u001b[0;34m\u001b[0m\u001b[0m\n",
      "\u001b[0;32m~/anaconda/envs/fairness/lib/python3.6/site-packages/pandas/core/indexes/base.py\u001b[0m in \u001b[0;36mdrop\u001b[0;34m(self, labels, errors)\u001b[0m\n\u001b[1;32m   3742\u001b[0m             \u001b[0;32mif\u001b[0m \u001b[0merrors\u001b[0m \u001b[0;34m!=\u001b[0m \u001b[0;34m'ignore'\u001b[0m\u001b[0;34m:\u001b[0m\u001b[0;34m\u001b[0m\u001b[0m\n\u001b[1;32m   3743\u001b[0m                 raise ValueError('labels %s not contained in axis' %\n\u001b[0;32m-> 3744\u001b[0;31m                                  labels[mask])\n\u001b[0m\u001b[1;32m   3745\u001b[0m             \u001b[0mindexer\u001b[0m \u001b[0;34m=\u001b[0m \u001b[0mindexer\u001b[0m\u001b[0;34m[\u001b[0m\u001b[0;34m~\u001b[0m\u001b[0mmask\u001b[0m\u001b[0;34m]\u001b[0m\u001b[0;34m\u001b[0m\u001b[0m\n\u001b[1;32m   3746\u001b[0m         \u001b[0;32mreturn\u001b[0m \u001b[0mself\u001b[0m\u001b[0;34m.\u001b[0m\u001b[0mdelete\u001b[0m\u001b[0;34m(\u001b[0m\u001b[0mindexer\u001b[0m\u001b[0;34m)\u001b[0m\u001b[0;34m\u001b[0m\u001b[0m\n",
      "\u001b[0;31mValueError\u001b[0m: labels [  636  4895 19151  8575  3190  8354 12981 18578 17376  1136  4617 12412\n  7395 15560   304 19077  3417  3074  8688  7256 18126  6296 18372  9024\n  6779  1251 15985 16158  2176  3211  2707 11513  5205    88  4010  8293\n 19690 16992  2769 12143  6621  7106 16081  9985  9417 10492  7515  3692\n  3735  7252  2550  4922  7376 14663 19619  7537  8736 15744  2543  4138\n  4209 17986  4597  8783 11812 11012  2539 16729  7839 15106  6946 19418\n  4642 11465 10838  7195  9504  3424  8537 10585  4842  8894 18095  9804\n  9424 18190  9767 15094  6046  2793  7018  9256 13170  9228 11306  2761\n 14328 17596  5263  1467  4858 16660 19252 14420 16792  8105  9712 17828\n 10981 19659 11989  9813 18147  5839 17994 11024 11294    14 14044 14759\n 12979  8314 16979 13589 13825 14859   702 16521  9984 13357  2947 14340\n 10446 11571  2001  9368  1407 18321  3003  5077 14214 17595  7463 17850\n  2666 15153  4302  8136 16891 17496 18653 12558  2561  8480   383 15566\n   575 11409 18060   925   287 17667  7421 10106  7968 14600 10186 18798\n  5128 14964 17011 11941 19194 18000  2160 15325  2242 18883  9313   161\n 13052 17427 11527 14884  4511  4304 12008 16887  4054 12905 11173 19618\n 11938  5529  1815 11743  3162 11361 18050 11077 11110  7780 16345 13164\n  7385 16413 16896 13944 11759 19370 18418  8903 16038 15440  3048 12464\n 10571 16281  9092 15199  3550 18570  3057  9921 19574  2345 10055 10801\n  1023 19713 13216 16087  2520 16205  9242 10857  1088 17010  8870 11699\n 11343  4913 14014  5400 18156 15104  6278  1705  9081 17048  7365 10672\n   623  9295  5059  7228   558  3396  9467 11937  8449 15708  5247 17849\n 14162 11618  5032   128  9480 12325  5479 15048  3483 14377 19423  5294\n  5228 10151  5609  2808 15716 19082 17546  5759  5765  3407 14520  7765\n 12951 11996   862   147  8133  9032 10225 18938 16443  4483 13280  8490\n  8917   404  8913 15096 16155 19444 19473  3642 19145  8635  6498  1860\n 15476  5942  3451  5478 15214  4949  2559  3133 11492  3445 11582 13674\n  8660 15678  9944 18778] not contained in axis"
     ]
    }
   ],
   "source": [
    "train_set = eq_df.drop(val_set.index)\n",
    "train_set.gender.value_counts()"
   ]
  },
  {
   "cell_type": "code",
   "execution_count": null,
   "metadata": {},
   "outputs": [],
   "source": []
  }
 ],
 "metadata": {
  "kernelspec": {
   "display_name": "Python 3",
   "language": "python",
   "name": "python3"
  },
  "language_info": {
   "codemirror_mode": {
    "name": "ipython",
    "version": 3
   },
   "file_extension": ".py",
   "mimetype": "text/x-python",
   "name": "python",
   "nbconvert_exporter": "python",
   "pygments_lexer": "ipython3",
   "version": "3.6.5"
  }
 },
 "nbformat": 4,
 "nbformat_minor": 2
}
