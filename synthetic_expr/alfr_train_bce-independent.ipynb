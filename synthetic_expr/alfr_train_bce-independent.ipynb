{
 "cells": [
  {
   "cell_type": "code",
   "execution_count": 1,
   "metadata": {},
   "outputs": [],
   "source": [
    "%matplotlib inline\n",
    "%load_ext autoreload\n",
    "%autoreload 2"
   ]
  },
  {
   "cell_type": "code",
   "execution_count": 2,
   "metadata": {},
   "outputs": [],
   "source": [
    "import pickle\n",
    "import pandas as pd\n",
    "import numpy as np\n",
    "import matplotlib.pyplot as plt\n",
    "import matplotlib"
   ]
  },
  {
   "cell_type": "code",
   "execution_count": 3,
   "metadata": {},
   "outputs": [],
   "source": [
    "import torch\n",
    "import torch.nn as nn\n",
    "import torch.backends.cudnn as cudnn\n",
    "import torch.optim as optim\n",
    "import torch.nn.functional as F\n",
    "import torch.optim.lr_scheduler as lr_scheduler\n",
    "from torchvision import transforms, utils, models, datasets\n",
    "from torch.utils.data import Dataset, DataLoader"
   ]
  },
  {
   "cell_type": "code",
   "execution_count": 4,
   "metadata": {},
   "outputs": [],
   "source": [
    "from synthetic_utils import *"
   ]
  },
  {
   "cell_type": "code",
   "execution_count": 5,
   "metadata": {},
   "outputs": [],
   "source": [
    "from trainer_dataloader import *\n",
    "from networks import *\n",
    "from losses import *"
   ]
  },
  {
   "cell_type": "code",
   "execution_count": 6,
   "metadata": {},
   "outputs": [],
   "source": [
    "input_size = 96\n",
    "batch_size = 64\n",
    "num_workers = 4\n",
    "num_epochs = 20"
   ]
  },
  {
   "cell_type": "code",
   "execution_count": 7,
   "metadata": {},
   "outputs": [
    {
     "name": "stdout",
     "output_type": "stream",
     "text": [
      "Device set: cuda\n"
     ]
    }
   ],
   "source": [
    "cuda = False\n",
    "pin_memory = False\n",
    "if torch.cuda.is_available():\n",
    "    device = torch.device(\"cuda\")\n",
    "    torch.set_default_tensor_type('torch.cuda.FloatTensor')\n",
    "    cuda = True\n",
    "    cudnn.benchmark = True\n",
    "    pin_memory = True\n",
    "else:\n",
    "    device = torch.device(\"cpu\")\n",
    "\n",
    "print('Device set: {}'.format(device))"
   ]
  },
  {
   "cell_type": "code",
   "execution_count": 8,
   "metadata": {},
   "outputs": [],
   "source": [
    "data_transforms = {\n",
    "        'train': transforms.Compose([\n",
    "            transforms.Resize((input_size, input_size)),\n",
    "#             transforms.RandomRotation(10),\n",
    "            transforms.ToTensor(),\n",
    "            transforms.Normalize((0.5, 0.5, 0.5), (0.5, 0.5, 0.5))\n",
    "        ]),\n",
    "        'val': transforms.Compose([\n",
    "            transforms.Resize((input_size, input_size)),\n",
    "            transforms.ToTensor(),\n",
    "            transforms.Normalize((0.5, 0.5, 0.5), (0.5, 0.5, 0.5))\n",
    "        ])\n",
    "}"
   ]
  },
  {
   "cell_type": "code",
   "execution_count": 9,
   "metadata": {},
   "outputs": [],
   "source": [
    "DATA_PATH = '../gen_shapes/'\n",
    "TRAIN_PATH = os.path.join(DATA_PATH, 'train')\n",
    "VAL_PATH = os.path.join(DATA_PATH, 'valid')\n",
    "TEST_PATH = os.path.join(DATA_PATH, 'test')"
   ]
  },
  {
   "cell_type": "code",
   "execution_count": 10,
   "metadata": {},
   "outputs": [],
   "source": [
    "train_df = datasets.ImageFolder(root=TRAIN_PATH, transform=data_transforms['train'])\n",
    "val_df = datasets.ImageFolder(root=VAL_PATH, transform=data_transforms['val'])\n",
    "test_df = datasets.ImageFolder(root=TEST_PATH, transform=data_transforms['val'])"
   ]
  },
  {
   "cell_type": "code",
   "execution_count": 11,
   "metadata": {},
   "outputs": [],
   "source": [
    "train_loader = DataLoader(train_df, batch_size=batch_size, shuffle=True, num_workers=num_workers, pin_memory=pin_memory)\n",
    "val_loader = DataLoader(val_df, batch_size=batch_size, shuffle=True, num_workers=num_workers, pin_memory=pin_memory)\n",
    "test_loader = DataLoader(test_df, batch_size=batch_size, shuffle=True, num_workers=num_workers, pin_memory=pin_memory)"
   ]
  },
  {
   "cell_type": "markdown",
   "metadata": {},
   "source": [
    "## LAFTR Training"
   ]
  },
  {
   "cell_type": "code",
   "execution_count": null,
   "metadata": {},
   "outputs": [],
   "source": [
    "num_epochs = 1000"
   ]
  },
  {
   "cell_type": "code",
   "execution_count": null,
   "metadata": {},
   "outputs": [],
   "source": [
    "from synthetic_dataloader import *\n",
    "shapegender_train = ShapeGenderDataset(train_df)\n",
    "shapegender_valid = ShapeGenderDataset(val_df)"
   ]
  },
  {
   "cell_type": "code",
   "execution_count": null,
   "metadata": {},
   "outputs": [],
   "source": [
    "laftrtrain_loader = DataLoader(shapegender_train, batch_size=batch_size, shuffle=True, num_workers=num_workers, pin_memory=pin_memory)\n",
    "laftrval_loader = DataLoader(shapegender_valid, batch_size=batch_size, shuffle=True, num_workers=num_workers, pin_memory=pin_memory)"
   ]
  },
  {
   "cell_type": "code",
   "execution_count": null,
   "metadata": {},
   "outputs": [],
   "source": [
    "laftr_encoder = LeNet()\n",
    "laftr_adversary = ClassNet()\n",
    "laftr_classifier = ClassNet()"
   ]
  },
  {
   "cell_type": "code",
   "execution_count": null,
   "metadata": {},
   "outputs": [],
   "source": [
    "# laftr_adv_criterion = AdvDemographicParityLoss()\n",
    "laftr_adv_criterion = nn.BCELoss()\n",
    "laftr_cls_criterion = nn.BCELoss()"
   ]
  },
  {
   "cell_type": "code",
   "execution_count": 17,
   "metadata": {},
   "outputs": [],
   "source": [
    "laftr_opt_adv = optim.Adam(laftr_adversary.parameters(), lr=0.001, betas=(0.9, 0.999))\n",
    "# laftr_opt_cls = optim.Adam(laftr_classifier.parameters(), lr=0.0001, betas=(0.9, 0.999))\n",
    "# laftr_opt_enc = optim.Adam(laftr_encoder.parameters(), lr=0.0001, betas=(0.9, 0.999))\n",
    "\n",
    "# laftr_opt_adv = optim.SGD(laftr_adversary.parameters(), lr=0.001, momentum=0.9)\n",
    "laftr_opt_cls = optim.SGD(laftr_classifier.parameters(), lr=0.001, momentum=0.9)\n",
    "laftr_opt_enc = optim.SGD(laftr_encoder.parameters(), lr=0.001, momentum=0.9)\n",
    "\n",
    "laftr_scheduler_adv = lr_scheduler.StepLR(optimizer=laftr_opt_adv, gamma=0.99, step_size=1)\n",
    "laftr_scheduler_cls = lr_scheduler.StepLR(optimizer=laftr_opt_cls, gamma=0.99, step_size=1)\n",
    "laftr_scheduler_enc = lr_scheduler.StepLR(optimizer=laftr_opt_enc, gamma=0.99, step_size=1)"
   ]
  },
  {
   "cell_type": "code",
   "execution_count": 18,
   "metadata": {},
   "outputs": [],
   "source": [
    "clsTrain_losses = []\n",
    "clsTrain_accs = []\n",
    "# trainCombined_losses = []\n",
    "clsTrainCombined_losses = []\n",
    "advTrain_losses = []\n",
    "advTrain_accs = []\n",
    "advTrainCombined_losses = []\n",
    "\n",
    "combinedVal_losses = []\n",
    "clsVal_losses = []\n",
    "clsVal_accs = []\n",
    "advVal_losses = []\n",
    "advVal_accs = []\n",
    "\n",
    "best_acc = 0.7\n",
    "epoch_time = AverageMeter()\n"
   ]
  },
  {
   "cell_type": "code",
   "execution_count": null,
   "metadata": {},
   "outputs": [],
   "source": [
    "ep_end = time.time()\n",
    "for epoch in range(0, num_epochs):\n",
    "#         print('-'*80)\n",
    "        print('Epoch: {}/{}'.format(epoch, num_epochs))\n",
    "\n",
    "        laftr_scheduler_adv.step()\n",
    "        laftr_scheduler_cls.step()\n",
    "        laftr_scheduler_enc.step()\n",
    "        \n",
    "        cls_loss, cls_en_acc, adv_loss, adv_acc, cls_en_combinedLoss, adv_combinedLoss = alfr_train(laftrtrain_loader,\n",
    "                                                        laftr_encoder, laftr_classifier, laftr_adversary, laftr_opt_enc,\n",
    "                                                        laftr_opt_cls, laftr_opt_adv, \n",
    "                                                        laftr_cls_criterion, laftr_adv_criterion, device)\n",
    "        \n",
    "        clsTrain_losses.append(cls_loss)\n",
    "        clsTrain_accs.append(cls_en_acc)\n",
    "        clsTrainCombined_losses.append(cls_en_combinedLoss)\n",
    "        advTrain_losses.append(adv_loss)\n",
    "        advTrain_accs.append(adv_acc)\n",
    "#         trainCombined_losses.append(combined_loss)\n",
    "        advTrainCombined_losses.append(adv_combinedLoss)\n",
    "        \n",
    "        print('\\nClassifier accuracy: {}\\t Adversary Accuracy: {}'.format(cls_en_acc, adv_acc))\n",
    "        # validate\n",
    "        print('-'*10)\n",
    "        \n",
    "        combinedVal_loss, clsVal_loss, clsVal_acc, advVal_loss, advVal_acc = laftr_validate_dp(laftrval_loader,\n",
    "                                                        laftr_encoder, laftr_classifier, laftr_adversary, \n",
    "                                                        laftr_cls_criterion, laftr_adv_criterion, device)\n",
    "        \n",
    "        combinedVal_losses.append(combinedVal_loss)\n",
    "        clsVal_losses.append(clsVal_loss)\n",
    "        clsVal_accs.append(clsVal_acc)\n",
    "        advVal_losses.append(advVal_loss)\n",
    "        advVal_accs.append(advVal_acc)\n",
    "        \n",
    "        print('%'*20)\n",
    "        print('Classifier validation acc: {:.4f} \\t Adv validation acc: {:.4f}'.format(clsVal_acc, advVal_acc))\n",
    "        \n",
    "        if clsVal_acc > best_acc:\n",
    "            best_acc = clsVal_acc\n",
    "            torch.save(laftr_encoder, './weights/encoder_{}_{}.pth'.format(epoch, clsVal_acc))\n",
    "            torch.save(laftr_classifier, './weights/cls_{}_{}.pth'.format(epoch, clsVal_acc))\n",
    "            torch.save(laftr_adversary, './weights/adv_{}_{}.pth'.format(epoch, advVal_acc))\n",
    "\n",
    "        print('-' * 20)\n",
    "        epoch_time.update(time.time() - ep_end)\n",
    "        ep_end = time.time()\n",
    "        print('Epoch {}/{}\\t'\n",
    "              'Time {epoch_time.val:.3f} sec ({epoch_time.avg:.3f} sec)'.format(epoch, num_epochs, epoch_time=epoch_time))\n",
    "        print('-'*20)"
   ]
  },
  {
   "cell_type": "code",
   "execution_count": null,
   "metadata": {},
   "outputs": [],
   "source": [
    "plt.figure(figsize=(20,20))\n",
    "plt.subplot(431)\n",
    "plt.title('Combined Val Loss')\n",
    "# plt.plot(trainCombined_losses, label='Train')\n",
    "plt.plot(combinedVal_losses, label='Validation')\n",
    "plt.legend()\n",
    "\n",
    "plt.subplot(432)\n",
    "plt.title('Cls-Enc Loss')\n",
    "plt.plot(clsTrain_losses, label='Train')\n",
    "plt.plot(clsVal_losses, label='Validation')\n",
    "plt.legend()\n",
    "\n",
    "plt.subplot(433)\n",
    "plt.title('Cls-Enc Accuracy')\n",
    "plt.plot(clsTrain_accs, label='Train')\n",
    "plt.plot(clsVal_accs, label='Validation')\n",
    "plt.legend()\n",
    "\n",
    "plt.subplot(434)\n",
    "plt.title('Adv Loss')\n",
    "plt.plot(advTrain_losses, label='Train')\n",
    "plt.plot(advVal_losses, label='Validation')\n",
    "plt.legend()\n",
    "\n",
    "plt.subplot(435)\n",
    "plt.title('Adv Accuracy')\n",
    "plt.plot(advTrain_accs, label='Train')\n",
    "plt.plot(advVal_accs, label='Validation')\n",
    "plt.legend()\n",
    "\n",
    "plt.subplot(436)\n",
    "plt.title('Step Loss')\n",
    "plt.plot(advTrainCombined_losses, label='Adversary')\n",
    "plt.plot(clsTrainCombined_losses, label='Classifier')\n",
    "plt.legend()\n",
    "\n",
    "plt.tight_layout()\n",
    "\n",
    "plt.savefig('./plots/laftr_train_{}{}.pdf'.format(time.localtime().tm_hour, time.localtime().tm_min))\n",
    "pkl_path = './plots/metrics_{}{}.pkl'.format(time.localtime().tm_hour, time.localtime().tm_min)\n",
    "with open(pkl_path, 'wb') as f:  # Python 3: open(..., 'wb')\n",
    "    pickle.dump([advTrainCombined_losses, clsTrainCombined_losses, combinedVal_losses, clsTrain_losses,\n",
    "                 clsVal_losses, clsTrain_accs, clsVal_accs, advTrain_losses, advVal_losses, advTrain_accs, advVal_accs], f)"
   ]
  },
  {
   "cell_type": "code",
   "execution_count": 12,
   "metadata": {},
   "outputs": [],
   "source": [
    "laftr_encoder = torch.load('bce_indep_2/weights/encoder_258_0.736.pth')"
   ]
  },
  {
   "cell_type": "code",
   "execution_count": 13,
   "metadata": {},
   "outputs": [],
   "source": [
    "from synthetic_dataloader import *\n",
    "gender_train = GenderDataset(train_df)\n",
    "gender_valid = GenderDataset(val_df)"
   ]
  },
  {
   "cell_type": "code",
   "execution_count": 14,
   "metadata": {},
   "outputs": [],
   "source": [
    "advtrain_loader = DataLoader(gender_train, batch_size=batch_size, shuffle=True, num_workers=num_workers, pin_memory=pin_memory)\n",
    "advval_loader = DataLoader(gender_valid, batch_size=batch_size, shuffle=False, num_workers=num_workers, pin_memory=pin_memory)"
   ]
  },
  {
   "cell_type": "code",
   "execution_count": 15,
   "metadata": {},
   "outputs": [],
   "source": [
    "adversary = ClassNet()"
   ]
  },
  {
   "cell_type": "code",
   "execution_count": 16,
   "metadata": {},
   "outputs": [],
   "source": [
    "adv_criterion = nn.BCELoss()\n",
    "# adv_criterion = AdvDemographicParityLoss()\n",
    "opt_adv = optim.Adam(adversary.parameters(), lr=0.001, betas=(0.9, 0.999))\n",
    "scheduler_adv = lr_scheduler.StepLR(optimizer=opt_adv, gamma=0.99, step_size=1)"
   ]
  },
  {
   "cell_type": "code",
   "execution_count": 19,
   "metadata": {},
   "outputs": [
    {
     "name": "stdout",
     "output_type": "stream",
     "text": [
      "Epoch: 0/100\n"
     ]
    },
    {
     "name": "stderr",
     "output_type": "stream",
     "text": [
      "/home/s1791387/miniconda3/envs/diss/lib/python3.6/site-packages/torch/nn/functional.py:1594: UserWarning: Using a target size (torch.Size([64])) that is different to the input size (torch.Size([64, 1])) is deprecated. Please ensure they have the same size.\n",
      "  \"Please ensure they have the same size.\".format(target.size(), input.size()))\n"
     ]
    },
    {
     "name": "stdout",
     "output_type": "stream",
     "text": [
      "Batch: [0/79]\tTime 1.661 (1.661)\tLoss 0.6265 (0.6265)\tAccuracy 0.6250 (0.6250)\n",
      "Batch: [10/79]\tTime 0.067 (0.410)\tLoss 0.6175 (0.5867)\tAccuracy 0.6875 (0.7017)\n",
      "Batch: [20/79]\tTime 1.278 (0.406)\tLoss 0.6191 (0.5866)\tAccuracy 0.6562 (0.6972)\n",
      "Batch: [30/79]\tTime 0.033 (0.367)\tLoss 0.5458 (0.5843)\tAccuracy 0.7812 (0.6981)\n",
      "Batch: [40/79]\tTime 1.196 (0.376)\tLoss 0.5540 (0.5850)\tAccuracy 0.7344 (0.7016)\n",
      "Batch: [50/79]\tTime 0.057 (0.359)\tLoss 0.5542 (0.5811)\tAccuracy 0.7812 (0.7071)\n",
      "Batch: [60/79]\tTime 1.170 (0.365)\tLoss 0.6172 (0.5839)\tAccuracy 0.6719 (0.7041)\n",
      "Batch: [70/79]\tTime 0.040 (0.353)\tLoss 0.4970 (0.5834)\tAccuracy 0.8125 (0.7053)\n",
      "----------\n"
     ]
    },
    {
     "name": "stderr",
     "output_type": "stream",
     "text": [
      "/home/s1791387/miniconda3/envs/diss/lib/python3.6/site-packages/torch/nn/functional.py:1594: UserWarning: Using a target size (torch.Size([8])) that is different to the input size (torch.Size([8, 1])) is deprecated. Please ensure they have the same size.\n",
      "  \"Please ensure they have the same size.\".format(target.size(), input.size()))\n"
     ]
    },
    {
     "name": "stdout",
     "output_type": "stream",
     "text": [
      "Avg validation loss: 0.5851135773658752 \t Accuracy: 0.704\n",
      "--------------------\n",
      "Epoch 0/100\tTime 30.418 sec (30.418 sec)\n",
      "--------------------\n",
      "Epoch: 1/100\n"
     ]
    },
    {
     "name": "stderr",
     "output_type": "stream",
     "text": [
      "/home/s1791387/miniconda3/envs/diss/lib/python3.6/site-packages/torch/nn/functional.py:1594: UserWarning: Using a target size (torch.Size([52])) that is different to the input size (torch.Size([52, 1])) is deprecated. Please ensure they have the same size.\n",
      "  \"Please ensure they have the same size.\".format(target.size(), input.size()))\n"
     ]
    },
    {
     "name": "stdout",
     "output_type": "stream",
     "text": [
      "Batch: [0/79]\tTime 1.766 (1.766)\tLoss 0.6274 (0.6274)\tAccuracy 0.5938 (0.5938)\n",
      "Batch: [10/79]\tTime 0.040 (0.432)\tLoss 0.6457 (0.5886)\tAccuracy 0.6094 (0.6960)\n",
      "Batch: [20/79]\tTime 1.195 (0.413)\tLoss 0.6445 (0.5847)\tAccuracy 0.5781 (0.7009)\n",
      "Batch: [30/79]\tTime 0.064 (0.371)\tLoss 0.5432 (0.5846)\tAccuracy 0.7500 (0.6951)\n",
      "Batch: [40/79]\tTime 1.318 (0.381)\tLoss 0.6720 (0.5874)\tAccuracy 0.5625 (0.6867)\n",
      "Batch: [50/79]\tTime 0.045 (0.361)\tLoss 0.5165 (0.5883)\tAccuracy 0.7344 (0.6829)\n",
      "Batch: [60/79]\tTime 1.235 (0.368)\tLoss 0.6340 (0.5878)\tAccuracy 0.6406 (0.6860)\n",
      "Batch: [70/79]\tTime 0.058 (0.356)\tLoss 0.5319 (0.5842)\tAccuracy 0.8125 (0.6967)\n",
      "----------\n",
      "Avg validation loss: 0.580982280254364 \t Accuracy: 0.718\n",
      "--------------------\n",
      "Epoch 1/100\tTime 30.523 sec (30.471 sec)\n",
      "--------------------\n",
      "Epoch: 2/100\n",
      "Batch: [0/79]\tTime 1.833 (1.833)\tLoss 0.5257 (0.5257)\tAccuracy 0.7812 (0.7812)\n",
      "Batch: [10/79]\tTime 0.042 (0.422)\tLoss 0.5917 (0.5633)\tAccuracy 0.7031 (0.7344)\n",
      "Batch: [20/79]\tTime 1.178 (0.409)\tLoss 0.5179 (0.5722)\tAccuracy 0.8281 (0.7210)\n",
      "Batch: [30/79]\tTime 0.051 (0.371)\tLoss 0.5968 (0.5755)\tAccuracy 0.7031 (0.7122)\n",
      "Batch: [40/79]\tTime 1.162 (0.379)\tLoss 0.5956 (0.5708)\tAccuracy 0.7031 (0.7172)\n",
      "Batch: [50/79]\tTime 0.057 (0.361)\tLoss 0.6185 (0.5744)\tAccuracy 0.6406 (0.7099)\n",
      "Batch: [60/79]\tTime 1.199 (0.368)\tLoss 0.5555 (0.5741)\tAccuracy 0.7812 (0.7121)\n",
      "Batch: [70/79]\tTime 0.052 (0.357)\tLoss 0.5742 (0.5757)\tAccuracy 0.7656 (0.7106)\n",
      "----------\n",
      "Avg validation loss: 0.5839302530288696 \t Accuracy: 0.688\n",
      "--------------------\n",
      "Epoch 2/100\tTime 30.550 sec (30.497 sec)\n",
      "--------------------\n",
      "Epoch: 3/100\n",
      "Batch: [0/79]\tTime 1.725 (1.725)\tLoss 0.5532 (0.5532)\tAccuracy 0.7969 (0.7969)\n",
      "Batch: [10/79]\tTime 0.062 (0.416)\tLoss 0.5755 (0.5885)\tAccuracy 0.6250 (0.6875)\n",
      "Batch: [20/79]\tTime 1.239 (0.408)\tLoss 0.5917 (0.5798)\tAccuracy 0.7500 (0.7024)\n",
      "Batch: [30/79]\tTime 0.061 (0.367)\tLoss 0.5273 (0.5816)\tAccuracy 0.7344 (0.7001)\n",
      "Batch: [40/79]\tTime 1.222 (0.377)\tLoss 0.5690 (0.5772)\tAccuracy 0.6875 (0.7058)\n",
      "Batch: [50/79]\tTime 0.047 (0.359)\tLoss 0.5944 (0.5765)\tAccuracy 0.7500 (0.7120)\n",
      "Batch: [60/79]\tTime 1.197 (0.366)\tLoss 0.5562 (0.5783)\tAccuracy 0.7188 (0.7108)\n",
      "Batch: [70/79]\tTime 0.048 (0.354)\tLoss 0.5461 (0.5753)\tAccuracy 0.7500 (0.7154)\n",
      "----------\n",
      "Avg validation loss: 0.5826074643135071 \t Accuracy: 0.71\n",
      "--------------------\n",
      "Epoch 3/100\tTime 30.380 sec (30.468 sec)\n",
      "--------------------\n",
      "Epoch: 4/100\n",
      "Batch: [0/79]\tTime 1.771 (1.771)\tLoss 0.5399 (0.5399)\tAccuracy 0.7344 (0.7344)\n",
      "Batch: [10/79]\tTime 0.026 (0.421)\tLoss 0.6343 (0.5871)\tAccuracy 0.6406 (0.7031)\n",
      "Batch: [20/79]\tTime 1.219 (0.413)\tLoss 0.5777 (0.5819)\tAccuracy 0.7031 (0.7061)\n",
      "Batch: [30/79]\tTime 0.042 (0.369)\tLoss 0.5162 (0.5769)\tAccuracy 0.7656 (0.7097)\n",
      "Batch: [40/79]\tTime 1.210 (0.378)\tLoss 0.5770 (0.5737)\tAccuracy 0.6719 (0.7123)\n",
      "Batch: [50/79]\tTime 0.060 (0.361)\tLoss 0.5422 (0.5745)\tAccuracy 0.8438 (0.7120)\n",
      "Batch: [60/79]\tTime 1.182 (0.367)\tLoss 0.5880 (0.5747)\tAccuracy 0.6250 (0.7136)\n",
      "Batch: [70/79]\tTime 0.030 (0.356)\tLoss 0.6238 (0.5734)\tAccuracy 0.6719 (0.7188)\n",
      "----------\n",
      "Avg validation loss: 0.575106026172638 \t Accuracy: 0.712\n",
      "--------------------\n",
      "Epoch 4/100\tTime 30.563 sec (30.487 sec)\n",
      "--------------------\n",
      "Epoch: 5/100\n",
      "Batch: [0/79]\tTime 1.780 (1.780)\tLoss 0.6049 (0.6049)\tAccuracy 0.6875 (0.6875)\n",
      "Batch: [10/79]\tTime 0.033 (0.430)\tLoss 0.5151 (0.5652)\tAccuracy 0.7812 (0.7344)\n",
      "Batch: [20/79]\tTime 1.254 (0.418)\tLoss 0.5588 (0.5611)\tAccuracy 0.7500 (0.7403)\n",
      "Batch: [30/79]\tTime 0.049 (0.374)\tLoss 0.6172 (0.5674)\tAccuracy 0.6875 (0.7243)\n",
      "Batch: [40/79]\tTime 1.305 (0.383)\tLoss 0.5680 (0.5704)\tAccuracy 0.7188 (0.7161)\n",
      "Batch: [50/79]\tTime 0.021 (0.363)\tLoss 0.5724 (0.5711)\tAccuracy 0.6875 (0.7145)\n",
      "Batch: [60/79]\tTime 1.272 (0.369)\tLoss 0.5345 (0.5704)\tAccuracy 0.7188 (0.7136)\n",
      "Batch: [70/79]\tTime 0.047 (0.357)\tLoss 0.6313 (0.5730)\tAccuracy 0.6094 (0.7071)\n",
      "----------\n",
      "Avg validation loss: 0.5935931377410889 \t Accuracy: 0.668\n",
      "--------------------\n",
      "Epoch 5/100\tTime 30.602 sec (30.506 sec)\n",
      "--------------------\n",
      "Epoch: 6/100\n",
      "Batch: [0/79]\tTime 1.817 (1.817)\tLoss 0.6094 (0.6094)\tAccuracy 0.6250 (0.6250)\n",
      "Batch: [10/79]\tTime 0.050 (0.425)\tLoss 0.5637 (0.5806)\tAccuracy 0.7500 (0.6932)\n",
      "Batch: [20/79]\tTime 1.176 (0.409)\tLoss 0.5891 (0.5753)\tAccuracy 0.6719 (0.7031)\n",
      "Batch: [30/79]\tTime 0.030 (0.370)\tLoss 0.5346 (0.5712)\tAccuracy 0.7656 (0.7117)\n",
      "Batch: [40/79]\tTime 1.245 (0.380)\tLoss 0.5500 (0.5728)\tAccuracy 0.7500 (0.7107)\n",
      "Batch: [50/79]\tTime 0.032 (0.360)\tLoss 0.6490 (0.5732)\tAccuracy 0.6406 (0.7117)\n",
      "Batch: [60/79]\tTime 1.202 (0.366)\tLoss 0.5709 (0.5727)\tAccuracy 0.7656 (0.7090)\n",
      "Batch: [70/79]\tTime 0.033 (0.355)\tLoss 0.5456 (0.5699)\tAccuracy 0.7500 (0.7154)\n",
      "----------\n",
      "Avg validation loss: 0.5755290546417237 \t Accuracy: 0.722\n",
      "--------------------\n",
      "Epoch 6/100\tTime 30.487 sec (30.503 sec)\n",
      "--------------------\n",
      "Epoch: 7/100\n",
      "Batch: [0/79]\tTime 1.891 (1.891)\tLoss 0.5397 (0.5397)\tAccuracy 0.6875 (0.6875)\n",
      "Batch: [10/79]\tTime 0.051 (0.424)\tLoss 0.5399 (0.5455)\tAccuracy 0.7812 (0.7358)\n",
      "Batch: [20/79]\tTime 1.204 (0.410)\tLoss 0.5730 (0.5563)\tAccuracy 0.6875 (0.7225)\n",
      "Batch: [30/79]\tTime 0.075 (0.370)\tLoss 0.5544 (0.5588)\tAccuracy 0.7344 (0.7248)\n",
      "Batch: [40/79]\tTime 1.195 (0.378)\tLoss 0.5944 (0.5628)\tAccuracy 0.7188 (0.7229)\n",
      "Batch: [50/79]\tTime 0.036 (0.361)\tLoss 0.5796 (0.5663)\tAccuracy 0.6719 (0.7166)\n",
      "Batch: [60/79]\tTime 1.186 (0.366)\tLoss 0.5725 (0.5670)\tAccuracy 0.7031 (0.7167)\n",
      "Batch: [70/79]\tTime 0.088 (0.356)\tLoss 0.5838 (0.5676)\tAccuracy 0.7031 (0.7165)\n",
      "----------\n",
      "Avg validation loss: 0.5707073383331299 \t Accuracy: 0.712\n",
      "--------------------\n",
      "Epoch 7/100\tTime 30.539 sec (30.508 sec)\n",
      "--------------------\n",
      "Epoch: 8/100\n",
      "Batch: [0/79]\tTime 1.750 (1.750)\tLoss 0.6485 (0.6485)\tAccuracy 0.6250 (0.6250)\n",
      "Batch: [10/79]\tTime 0.041 (0.419)\tLoss 0.5332 (0.5725)\tAccuracy 0.7656 (0.7145)\n",
      "Batch: [20/79]\tTime 1.174 (0.409)\tLoss 0.5256 (0.5771)\tAccuracy 0.7656 (0.7113)\n",
      "Batch: [30/79]\tTime 0.021 (0.368)\tLoss 0.5175 (0.5675)\tAccuracy 0.8281 (0.7248)\n",
      "Batch: [40/79]\tTime 1.169 (0.377)\tLoss 0.5546 (0.5662)\tAccuracy 0.7188 (0.7214)\n",
      "Batch: [50/79]\tTime 0.041 (0.360)\tLoss 0.5942 (0.5673)\tAccuracy 0.6406 (0.7184)\n",
      "Batch: [60/79]\tTime 1.216 (0.366)\tLoss 0.5454 (0.5652)\tAccuracy 0.7656 (0.7218)\n",
      "Batch: [70/79]\tTime 0.036 (0.355)\tLoss 0.5367 (0.5651)\tAccuracy 0.7188 (0.7214)\n"
     ]
    },
    {
     "name": "stderr",
     "output_type": "stream",
     "text": [
      "Process Process-468:\n",
      "Process Process-467:\n",
      "Process Process-466:\n",
      "Process Process-465:\n",
      "Traceback (most recent call last):\n",
      "Traceback (most recent call last):\n",
      "Traceback (most recent call last):\n",
      "  File \"/home/s1791387/miniconda3/envs/diss/lib/python3.6/multiprocessing/process.py\", line 258, in _bootstrap\n",
      "    self.run()\n",
      "  File \"/home/s1791387/miniconda3/envs/diss/lib/python3.6/multiprocessing/process.py\", line 258, in _bootstrap\n",
      "    self.run()\n",
      "  File \"/home/s1791387/miniconda3/envs/diss/lib/python3.6/multiprocessing/process.py\", line 258, in _bootstrap\n",
      "    self.run()\n",
      "Traceback (most recent call last):\n",
      "  File \"/home/s1791387/miniconda3/envs/diss/lib/python3.6/multiprocessing/process.py\", line 93, in run\n",
      "    self._target(*self._args, **self._kwargs)\n",
      "  File \"/home/s1791387/miniconda3/envs/diss/lib/python3.6/multiprocessing/process.py\", line 93, in run\n",
      "    self._target(*self._args, **self._kwargs)\n",
      "  File \"/home/s1791387/miniconda3/envs/diss/lib/python3.6/multiprocessing/process.py\", line 258, in _bootstrap\n",
      "    self.run()\n",
      "  File \"/home/s1791387/miniconda3/envs/diss/lib/python3.6/multiprocessing/process.py\", line 93, in run\n",
      "    self._target(*self._args, **self._kwargs)\n",
      "  File \"/home/s1791387/miniconda3/envs/diss/lib/python3.6/site-packages/torch/utils/data/dataloader.py\", line 96, in _worker_loop\n",
      "    r = index_queue.get(timeout=MANAGER_STATUS_CHECK_INTERVAL)\n",
      "  File \"/home/s1791387/miniconda3/envs/diss/lib/python3.6/site-packages/torch/utils/data/dataloader.py\", line 96, in _worker_loop\n",
      "    r = index_queue.get(timeout=MANAGER_STATUS_CHECK_INTERVAL)\n",
      "  File \"/home/s1791387/miniconda3/envs/diss/lib/python3.6/multiprocessing/process.py\", line 93, in run\n",
      "    self._target(*self._args, **self._kwargs)\n",
      "  File \"/home/s1791387/miniconda3/envs/diss/lib/python3.6/site-packages/torch/utils/data/dataloader.py\", line 106, in _worker_loop\n",
      "    samples = collate_fn([dataset[i] for i in batch_indices])\n",
      "  File \"/home/s1791387/miniconda3/envs/diss/lib/python3.6/multiprocessing/queues.py\", line 104, in get\n",
      "    if not self._poll(timeout):\n",
      "  File \"/home/s1791387/miniconda3/envs/diss/lib/python3.6/multiprocessing/queues.py\", line 104, in get\n",
      "    if not self._poll(timeout):\n",
      "  File \"/home/s1791387/miniconda3/envs/diss/lib/python3.6/site-packages/torch/utils/data/dataloader.py\", line 106, in _worker_loop\n",
      "    samples = collate_fn([dataset[i] for i in batch_indices])\n",
      "  File \"/home/s1791387/miniconda3/envs/diss/lib/python3.6/site-packages/torch/utils/data/dataloader.py\", line 106, in <listcomp>\n",
      "    samples = collate_fn([dataset[i] for i in batch_indices])\n",
      "  File \"/home/s1791387/miniconda3/envs/diss/lib/python3.6/multiprocessing/connection.py\", line 257, in poll\n",
      "    return self._poll(timeout)\n",
      "  File \"/home/s1791387/miniconda3/envs/diss/lib/python3.6/multiprocessing/connection.py\", line 257, in poll\n",
      "    return self._poll(timeout)\n",
      "  File \"/home/s1791387/miniconda3/envs/diss/lib/python3.6/site-packages/torch/utils/data/dataloader.py\", line 106, in <listcomp>\n",
      "    samples = collate_fn([dataset[i] for i in batch_indices])\n",
      "  File \"/mnt/mscteach_home/s1791387/diss/synthetic_expr/synthetic_dataloader.py\", line 25, in __getitem__\n",
      "    img, shape = self.dataset[idx]\n",
      "  File \"/home/s1791387/miniconda3/envs/diss/lib/python3.6/multiprocessing/connection.py\", line 414, in _poll\n",
      "    r = wait([self], timeout)\n",
      "  File \"/home/s1791387/miniconda3/envs/diss/lib/python3.6/multiprocessing/connection.py\", line 414, in _poll\n",
      "    r = wait([self], timeout)\n",
      "  File \"/mnt/mscteach_home/s1791387/diss/synthetic_expr/synthetic_dataloader.py\", line 25, in __getitem__\n",
      "    img, shape = self.dataset[idx]\n",
      "  File \"/home/s1791387/miniconda3/envs/diss/lib/python3.6/site-packages/torchvision-0.2.1-py3.6.egg/torchvision/datasets/folder.py\", line 101, in __getitem__\n",
      "    sample = self.loader(path)\n",
      "  File \"/home/s1791387/miniconda3/envs/diss/lib/python3.6/multiprocessing/connection.py\", line 911, in wait\n",
      "    ready = selector.select(timeout)\n",
      "  File \"/home/s1791387/miniconda3/envs/diss/lib/python3.6/multiprocessing/connection.py\", line 911, in wait\n",
      "    ready = selector.select(timeout)\n",
      "  File \"/home/s1791387/miniconda3/envs/diss/lib/python3.6/site-packages/torchvision-0.2.1-py3.6.egg/torchvision/datasets/folder.py\", line 103, in __getitem__\n",
      "    sample = self.transform(sample)\n",
      "  File \"/home/s1791387/miniconda3/envs/diss/lib/python3.6/site-packages/torchvision-0.2.1-py3.6.egg/torchvision/datasets/folder.py\", line 147, in default_loader\n",
      "    return pil_loader(path)\n",
      "  File \"/home/s1791387/miniconda3/envs/diss/lib/python3.6/selectors.py\", line 376, in select\n",
      "    fd_event_list = self._poll.poll(timeout)\n",
      "  File \"/home/s1791387/miniconda3/envs/diss/lib/python3.6/selectors.py\", line 376, in select\n",
      "    fd_event_list = self._poll.poll(timeout)\n",
      "  File \"/home/s1791387/miniconda3/envs/diss/lib/python3.6/site-packages/torchvision-0.2.1-py3.6.egg/torchvision/transforms/transforms.py\", line 49, in __call__\n",
      "    img = t(img)\n",
      "  File \"/home/s1791387/miniconda3/envs/diss/lib/python3.6/site-packages/torchvision-0.2.1-py3.6.egg/torchvision/datasets/folder.py\", line 128, in pil_loader\n",
      "    with open(path, 'rb') as f:\n",
      "KeyboardInterrupt\n",
      "KeyboardInterrupt\n",
      "  File \"/home/s1791387/miniconda3/envs/diss/lib/python3.6/site-packages/torchvision-0.2.1-py3.6.egg/torchvision/transforms/transforms.py\", line 175, in __call__\n",
      "    return F.resize(img, self.size, self.interpolation)\n",
      "KeyboardInterrupt\n",
      "  File \"/home/s1791387/miniconda3/envs/diss/lib/python3.6/site-packages/torchvision-0.2.1-py3.6.egg/torchvision/transforms/functional.py\", line 206, in resize\n",
      "    return img.resize(size[::-1], interpolation)\n",
      "  File \"/home/s1791387/miniconda3/envs/diss/lib/python3.6/site-packages/PIL/Image.py\", line 1765, in resize\n",
      "    return self._new(self.im.resize(size, resample, box))\n",
      "KeyboardInterrupt\n",
      "ERROR:root:Internal Python error in the inspect module.\n",
      "Below is the traceback from this internal error.\n",
      "\n"
     ]
    },
    {
     "name": "stdout",
     "output_type": "stream",
     "text": [
      "Traceback (most recent call last):\n",
      "  File \"/home/s1791387/miniconda3/envs/diss/lib/python3.6/site-packages/IPython/core/interactiveshell.py\", line 2961, in run_code\n",
      "    exec(code_obj, self.user_global_ns, self.user_ns)\n",
      "  File \"<ipython-input-19-5d93558c7122>\", line 13, in <module>\n",
      "    adversary, opt_adv, adv_criterion, device)\n",
      "  File \"/mnt/mscteach_home/s1791387/diss/synthetic_expr/trainer_dataloader.py\", line 495, in train_classifier_epoch\n",
      "    for batch_idx, (imgs, labels) in enumerate(dataloader):\n",
      "  File \"/home/s1791387/miniconda3/envs/diss/lib/python3.6/site-packages/torch/utils/data/dataloader.py\", line 330, in __next__\n",
      "    idx, batch = self._get_batch()\n",
      "  File \"/home/s1791387/miniconda3/envs/diss/lib/python3.6/site-packages/torch/utils/data/dataloader.py\", line 309, in _get_batch\n",
      "    return self.data_queue.get()\n",
      "  File \"/home/s1791387/miniconda3/envs/diss/lib/python3.6/queue.py\", line 164, in get\n",
      "    self.not_empty.wait()\n",
      "  File \"/home/s1791387/miniconda3/envs/diss/lib/python3.6/threading.py\", line 295, in wait\n",
      "    waiter.acquire()\n",
      "KeyboardInterrupt\n",
      "\n",
      "During handling of the above exception, another exception occurred:\n",
      "\n",
      "Traceback (most recent call last):\n",
      "  File \"/home/s1791387/miniconda3/envs/diss/lib/python3.6/site-packages/IPython/core/interactiveshell.py\", line 1863, in showtraceback\n",
      "    stb = value._render_traceback_()\n",
      "AttributeError: 'KeyboardInterrupt' object has no attribute '_render_traceback_'\n",
      "\n",
      "During handling of the above exception, another exception occurred:\n",
      "\n",
      "Traceback (most recent call last):\n",
      "  File \"/home/s1791387/miniconda3/envs/diss/lib/python3.6/site-packages/IPython/core/ultratb.py\", line 1095, in get_records\n",
      "    return _fixed_getinnerframes(etb, number_of_lines_of_context, tb_offset)\n",
      "  File \"/home/s1791387/miniconda3/envs/diss/lib/python3.6/site-packages/IPython/core/ultratb.py\", line 311, in wrapped\n",
      "    return f(*args, **kwargs)\n",
      "  File \"/home/s1791387/miniconda3/envs/diss/lib/python3.6/site-packages/IPython/core/ultratb.py\", line 345, in _fixed_getinnerframes\n",
      "    records = fix_frame_records_filenames(inspect.getinnerframes(etb, context))\n",
      "  File \"/home/s1791387/miniconda3/envs/diss/lib/python3.6/inspect.py\", line 1483, in getinnerframes\n",
      "    frameinfo = (tb.tb_frame,) + getframeinfo(tb, context)\n",
      "  File \"/home/s1791387/miniconda3/envs/diss/lib/python3.6/inspect.py\", line 1441, in getframeinfo\n",
      "    filename = getsourcefile(frame) or getfile(frame)\n",
      "  File \"/home/s1791387/miniconda3/envs/diss/lib/python3.6/inspect.py\", line 696, in getsourcefile\n",
      "    if getattr(getmodule(object, filename), '__loader__', None) is not None:\n",
      "  File \"/home/s1791387/miniconda3/envs/diss/lib/python3.6/inspect.py\", line 739, in getmodule\n",
      "    f = getabsfile(module)\n",
      "  File \"/home/s1791387/miniconda3/envs/diss/lib/python3.6/inspect.py\", line 708, in getabsfile\n",
      "    _filename = getsourcefile(object) or getfile(object)\n",
      "  File \"/home/s1791387/miniconda3/envs/diss/lib/python3.6/inspect.py\", line 693, in getsourcefile\n",
      "    if os.path.exists(filename):\n",
      "  File \"/home/s1791387/miniconda3/envs/diss/lib/python3.6/genericpath.py\", line 19, in exists\n",
      "    os.stat(path)\n",
      "  File \"/home/s1791387/miniconda3/envs/diss/lib/python3.6/site-packages/torch/utils/data/dataloader.py\", line 227, in handler\n",
      "    _error_if_any_worker_fails()\n",
      "RuntimeError: DataLoader worker (pid 10833) exited unexpectedly with exit code 1. Details are lost due to multiprocessing. Rerunning with num_workers=0 may give better error trace.\n"
     ]
    },
    {
     "ename": "KeyboardInterrupt",
     "evalue": "",
     "output_type": "error",
     "traceback": [
      "\u001b[0;31m---------------------------------------------------------------------------\u001b[0m"
     ]
    }
   ],
   "source": [
    "num_epochs = 100\n",
    "train_losses = []\n",
    "train_accs = []\n",
    "val_losses = []\n",
    "val_accs = []\n",
    "epoch_time = AverageMeter()\n",
    "ep_end = time.time()\n",
    "for epoch in range(0, num_epochs):\n",
    "        print('Epoch: {}/{}'.format(epoch, num_epochs))\n",
    "        scheduler_adv.step()\n",
    "        # train\n",
    "        train_loss, train_acc = train_classifier_epoch(advtrain_loader, laftr_encoder,\n",
    "                                adversary, opt_adv, adv_criterion, device)\n",
    "        train_losses.append(train_loss)\n",
    "        train_accs.append(train_acc)\n",
    "        # validate\n",
    "        print('-'*10)\n",
    "        val_loss, val_acc = validate_classifier_epoch(advval_loader, laftr_encoder, adversary,\n",
    "                                 adv_criterion, device)\n",
    "\n",
    "        print('Avg validation loss: {} \\t Accuracy: {}'.format(val_loss, val_acc))\n",
    "        val_losses.append(val_loss)\n",
    "        val_accs.append(val_acc)\n",
    "        \n",
    "        print('-' * 20)\n",
    "        epoch_time.update(time.time() - ep_end)\n",
    "        ep_end = time.time()\n",
    "        print('Epoch {}/{}\\t'\n",
    "              'Time {epoch_time.val:.3f} sec ({epoch_time.avg:.3f} sec)'.format(epoch, num_epochs, epoch_time=epoch_time))\n",
    "        print('-'*20)"
   ]
  },
  {
   "cell_type": "code",
   "execution_count": 18,
   "metadata": {},
   "outputs": [
    {
     "data": {
      "text/plain": [
       "[<matplotlib.lines.Line2D at 0x7f175d9fe630>]"
      ]
     },
     "execution_count": 18,
     "metadata": {},
     "output_type": "execute_result"
    },
    {
     "data": {
      "image/png": "[encoded data removed]",
      "text/plain": [
       "<Figure size 432x288 with 4 Axes>"
      ]
     },
     "metadata": {},
     "output_type": "display_data"
    }
   ],
   "source": [
    "plt.subplot(221)\n",
    "plt.title('training classification loss')\n",
    "plt.plot(train_losses)\n",
    "plt.subplot(222)\n",
    "plt.title('training accuracy')\n",
    "plt.plot(train_accs)\n",
    "plt.subplot(223)\n",
    "plt.title('validation loss')\n",
    "plt.plot(val_losses)\n",
    "plt.subplot(224)\n",
    "plt.title('validation accuracy')\n",
    "plt.plot(val_accs)"
   ]
  },
  {
   "cell_type": "code",
   "execution_count": null,
   "metadata": {},
   "outputs": [],
   "source": []
  }
 ],
 "metadata": {
  "kernelspec": {
   "display_name": "Python 3",
   "language": "python",
   "name": "python3"
  },
  "language_info": {
   "codemirror_mode": {
    "name": "ipython",
    "version": 3
   },
   "file_extension": ".py",
   "mimetype": "text/x-python",
   "name": "python",
   "nbconvert_exporter": "python",
   "pygments_lexer": "ipython3",
   "version": "3.6.6"
  }
 },
 "nbformat": 4,
 "nbformat_minor": 2
}
