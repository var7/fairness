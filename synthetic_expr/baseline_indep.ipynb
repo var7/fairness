{
 "cells": [
  {
   "cell_type": "code",
   "execution_count": 1,
   "metadata": {},
   "outputs": [],
   "source": [
    "%matplotlib inline\n",
    "%load_ext autoreload\n",
    "%autoreload 2"
   ]
  },
  {
   "cell_type": "code",
   "execution_count": 2,
   "metadata": {},
   "outputs": [],
   "source": [
    "import pickle\n",
    "import pandas as pd\n",
    "import numpy as np\n",
    "import matplotlib.pyplot as plt\n",
    "import matplotlib"
   ]
  },
  {
   "cell_type": "code",
   "execution_count": 3,
   "metadata": {},
   "outputs": [],
   "source": [
    "import torch\n",
    "import torch.nn as nn\n",
    "import torch.backends.cudnn as cudnn\n",
    "import torch.optim as optim\n",
    "import torch.nn.functional as F\n",
    "import torch.optim.lr_scheduler as lr_scheduler\n",
    "from torchvision import transforms, utils, models, datasets\n",
    "from torch.utils.data import Dataset, DataLoader"
   ]
  },
  {
   "cell_type": "code",
   "execution_count": 4,
   "metadata": {},
   "outputs": [],
   "source": [
    "from synthetic_utils import *"
   ]
  },
  {
   "cell_type": "code",
   "execution_count": 5,
   "metadata": {},
   "outputs": [],
   "source": [
    "from trainer_dataloader import *\n",
    "from networks import *\n",
    "from losses import *"
   ]
  },
  {
   "cell_type": "code",
   "execution_count": 6,
   "metadata": {},
   "outputs": [],
   "source": [
    "input_size = 96\n",
    "batch_size = 128\n",
    "num_workers = 4\n",
    "num_epochs = 20"
   ]
  },
  {
   "cell_type": "code",
   "execution_count": 7,
   "metadata": {},
   "outputs": [
    {
     "name": "stdout",
     "output_type": "stream",
     "text": [
      "Device set: cuda\n"
     ]
    }
   ],
   "source": [
    "cuda = False\n",
    "pin_memory = False\n",
    "if torch.cuda.is_available():\n",
    "    device = torch.device(\"cuda\")\n",
    "    torch.set_default_tensor_type('torch.cuda.FloatTensor')\n",
    "    cuda = True\n",
    "    cudnn.benchmark = True\n",
    "    pin_memory = True\n",
    "else:\n",
    "    device = torch.device(\"cpu\")\n",
    "\n",
    "print('Device set: {}'.format(device))"
   ]
  },
  {
   "cell_type": "code",
   "execution_count": 8,
   "metadata": {},
   "outputs": [],
   "source": [
    "data_transforms = {\n",
    "        'train': transforms.Compose([\n",
    "            transforms.Resize((input_size, input_size)),\n",
    "#             transforms.RandomRotation(10),\n",
    "            transforms.ToTensor(),\n",
    "            transforms.Normalize((0.5, 0.5, 0.5), (0.5, 0.5, 0.5))\n",
    "        ]),\n",
    "        'val': transforms.Compose([\n",
    "            transforms.Resize((input_size, input_size)),\n",
    "            transforms.ToTensor(),\n",
    "            transforms.Normalize((0.5, 0.5, 0.5), (0.5, 0.5, 0.5))])\n",
    "}"
   ]
  },
  {
   "cell_type": "code",
   "execution_count": 9,
   "metadata": {},
   "outputs": [],
   "source": [
    "# DATA_PATH = '/home/s1791387/diss/gen_shapes/'\n",
    "DATA_PATH = '/home/var/synthetic_data/gen_shapes/'\n",
    "TRAIN_PATH = os.path.join(DATA_PATH, 'train')\n",
    "VAL_PATH = os.path.join(DATA_PATH, 'valid')\n",
    "TEST_PATH = os.path.join(DATA_PATH, 'test')"
   ]
  },
  {
   "cell_type": "code",
   "execution_count": 10,
   "metadata": {},
   "outputs": [],
   "source": [
    "train_df = datasets.ImageFolder(root=TRAIN_PATH, transform=data_transforms['train'])\n",
    "val_df = datasets.ImageFolder(root=VAL_PATH, transform=data_transforms['val'])\n",
    "test_df = datasets.ImageFolder(root=TEST_PATH, transform=data_transforms['val'])"
   ]
  },
  {
   "cell_type": "code",
   "execution_count": 11,
   "metadata": {},
   "outputs": [],
   "source": [
    "train_loader = DataLoader(train_df, batch_size=batch_size, shuffle=True, num_workers=num_workers, pin_memory=pin_memory)\n",
    "val_loader = DataLoader(val_df, batch_size=batch_size, shuffle=False, num_workers=num_workers, pin_memory=pin_memory)\n",
    "test_loader = DataLoader(test_df, batch_size=batch_size, shuffle=False, num_workers=num_workers, pin_memory=pin_memory)"
   ]
  },
  {
   "cell_type": "code",
   "execution_count": null,
   "metadata": {},
   "outputs": [],
   "source": []
  },
  {
   "cell_type": "markdown",
   "metadata": {},
   "source": [
    "## Train only encoder first\n"
   ]
  },
  {
   "cell_type": "code",
   "execution_count": 12,
   "metadata": {},
   "outputs": [],
   "source": [
    "encoder = LeNet()\n",
    "classifier = ClassNet()"
   ]
  },
  {
   "cell_type": "code",
   "execution_count": 13,
   "metadata": {},
   "outputs": [
    {
     "data": {
      "text/plain": [
       "ClassNet(\n",
       "  (fc1): Linear(in_features=128, out_features=8, bias=True)\n",
       "  (fc2): Linear(in_features=8, out_features=1, bias=True)\n",
       "  (out_acc): Sigmoid()\n",
       ")"
      ]
     },
     "execution_count": 13,
     "metadata": {},
     "output_type": "execute_result"
    }
   ],
   "source": [
    "encoder.to(device)\n",
    "classifier.to(device)"
   ]
  },
  {
   "cell_type": "code",
   "execution_count": 14,
   "metadata": {},
   "outputs": [],
   "source": [
    "criterion = nn.BCELoss()\n",
    "opt_cls = optim.Adam(classifier.parameters(), lr=0.001, betas=(0.9, 0.999))\n",
    "opt_enc = optim.Adam(encoder.parameters(), lr=0.001, betas=(0.9, 0.999))\n",
    "scheduler_cls = lr_scheduler.StepLR(optimizer=opt_cls, gamma=0.99, step_size=1)\n",
    "scheduler_enc = lr_scheduler.StepLR(optimizer=opt_enc, gamma=0.99, step_size=1)"
   ]
  },
  {
   "cell_type": "code",
   "execution_count": 15,
   "metadata": {},
   "outputs": [
    {
     "name": "stdout",
     "output_type": "stream",
     "text": [
      "Epoch: 0/20\n"
     ]
    },
    {
     "name": "stderr",
     "output_type": "stream",
     "text": [
      "/home/var/anaconda3/envs/diss/lib/python3.6/site-packages/torch/nn/functional.py:1594: UserWarning: Using a target size (torch.Size([128])) that is different to the input size (torch.Size([128, 1])) is deprecated. Please ensure they have the same size.\n",
      "  \"Please ensure they have the same size.\".format(target.size(), input.size()))\n"
     ]
    },
    {
     "name": "stdout",
     "output_type": "stream",
     "text": [
      "Batch: [0/40]\tTime 2.126 (2.126)\tLoss 0.6952 (0.6952)\tAccuracy 0.4531 (0.4531)\n",
      "Batch: [10/40]\tTime 0.046 (0.413)\tLoss 0.5715 (0.6668)\tAccuracy 0.7266 (0.5959)\n",
      "Batch: [20/40]\tTime 1.147 (0.411)\tLoss 0.5240 (0.6312)\tAccuracy 0.7500 (0.6332)\n",
      "Batch: [30/40]\tTime 0.288 (0.356)\tLoss 0.5057 (0.6084)\tAccuracy 0.7500 (0.6552)\n",
      "----------\n"
     ]
    },
    {
     "name": "stderr",
     "output_type": "stream",
     "text": [
      "/home/var/anaconda3/envs/diss/lib/python3.6/site-packages/torch/nn/functional.py:1594: UserWarning: Using a target size (torch.Size([8])) that is different to the input size (torch.Size([8, 1])) is deprecated. Please ensure they have the same size.\n",
      "  \"Please ensure they have the same size.\".format(target.size(), input.size()))\n"
     ]
    },
    {
     "name": "stdout",
     "output_type": "stream",
     "text": [
      "Test: [0/4]\tTime 1.751 (1.751)\tLoss 0.5868 (0.5868)\tAccuracy 0.7266 (0.7266)\n",
      "Avg validation loss: 0.5125922796726227 \t Accuracy: 0.744\n",
      "--------------------\n",
      "Epoch 0/20\tTime 15.258 sec (15.258 sec)\n",
      "--------------------\n",
      "Epoch: 1/20\n"
     ]
    },
    {
     "name": "stderr",
     "output_type": "stream",
     "text": [
      "/home/var/anaconda3/envs/diss/lib/python3.6/site-packages/torch/nn/functional.py:1594: UserWarning: Using a target size (torch.Size([116])) that is different to the input size (torch.Size([116, 1])) is deprecated. Please ensure they have the same size.\n",
      "  \"Please ensure they have the same size.\".format(target.size(), input.size()))\n"
     ]
    },
    {
     "name": "stdout",
     "output_type": "stream",
     "text": [
      "Batch: [0/40]\tTime 1.715 (1.715)\tLoss 0.4196 (0.4196)\tAccuracy 0.7969 (0.7969)\n",
      "Batch: [10/40]\tTime 0.055 (0.420)\tLoss 0.4971 (0.4779)\tAccuracy 0.7109 (0.7479)\n",
      "Batch: [20/40]\tTime 1.188 (0.413)\tLoss 0.4826 (0.4559)\tAccuracy 0.7500 (0.7697)\n",
      "Batch: [30/40]\tTime 0.056 (0.366)\tLoss 0.4372 (0.4499)\tAccuracy 0.7734 (0.7734)\n",
      "----------\n",
      "Test: [0/4]\tTime 1.694 (1.694)\tLoss 0.4242 (0.4242)\tAccuracy 0.8516 (0.8516)\n",
      "Avg validation loss: 0.4064861171245575 \t Accuracy: 0.804\n",
      "--------------------\n",
      "Epoch 1/20\tTime 15.414 sec (15.336 sec)\n",
      "--------------------\n",
      "Epoch: 2/20\n",
      "Batch: [0/40]\tTime 1.697 (1.697)\tLoss 0.4115 (0.4115)\tAccuracy 0.7891 (0.7891)\n",
      "Batch: [10/40]\tTime 0.165 (0.445)\tLoss 0.3537 (0.3486)\tAccuracy 0.8594 (0.8551)\n",
      "Batch: [20/40]\tTime 1.076 (0.421)\tLoss 0.2096 (0.3247)\tAccuracy 0.9062 (0.8597)\n",
      "Batch: [30/40]\tTime 0.073 (0.369)\tLoss 0.2489 (0.3174)\tAccuracy 0.9141 (0.8614)\n",
      "----------\n",
      "Test: [0/4]\tTime 1.659 (1.659)\tLoss 0.6089 (0.6089)\tAccuracy 0.7578 (0.7578)\n",
      "Avg validation loss: 0.33471478056907655 \t Accuracy: 0.854\n",
      "--------------------\n",
      "Epoch 2/20\tTime 15.491 sec (15.387 sec)\n",
      "--------------------\n",
      "Epoch: 3/20\n",
      "Batch: [0/40]\tTime 1.627 (1.627)\tLoss 0.2329 (0.2329)\tAccuracy 0.8906 (0.8906)\n",
      "Batch: [10/40]\tTime 0.080 (0.426)\tLoss 0.0797 (0.1380)\tAccuracy 0.9766 (0.9418)\n",
      "Batch: [20/40]\tTime 1.328 (0.422)\tLoss 0.0833 (0.1214)\tAccuracy 0.9766 (0.9524)\n",
      "Batch: [30/40]\tTime 0.051 (0.378)\tLoss 0.0779 (0.1138)\tAccuracy 0.9609 (0.9564)\n",
      "----------\n",
      "Test: [0/4]\tTime 1.638 (1.638)\tLoss 0.1230 (0.1230)\tAccuracy 0.9609 (0.9609)\n",
      "Avg validation loss: 0.08835677227377892 \t Accuracy: 0.964\n",
      "--------------------\n",
      "Epoch 3/20\tTime 15.838 sec (15.500 sec)\n",
      "--------------------\n",
      "Epoch: 4/20\n",
      "Batch: [0/40]\tTime 1.767 (1.767)\tLoss 0.0448 (0.0448)\tAccuracy 0.9766 (0.9766)\n",
      "Batch: [10/40]\tTime 0.052 (0.428)\tLoss 0.0772 (0.0527)\tAccuracy 0.9688 (0.9808)\n",
      "Batch: [20/40]\tTime 1.145 (0.419)\tLoss 0.0240 (0.0442)\tAccuracy 0.9922 (0.9847)\n",
      "Batch: [30/40]\tTime 0.056 (0.361)\tLoss 0.0583 (0.0436)\tAccuracy 0.9688 (0.9841)\n",
      "----------\n",
      "Test: [0/4]\tTime 1.805 (1.805)\tLoss 0.1408 (0.1408)\tAccuracy 0.9531 (0.9531)\n",
      "Avg validation loss: 0.08206725254654884 \t Accuracy: 0.966\n",
      "--------------------\n",
      "Epoch 4/20\tTime 15.292 sec (15.459 sec)\n",
      "--------------------\n",
      "Epoch: 5/20\n",
      "Batch: [0/40]\tTime 1.761 (1.761)\tLoss 0.0135 (0.0135)\tAccuracy 1.0000 (1.0000)\n",
      "Batch: [10/40]\tTime 0.068 (0.436)\tLoss 0.0088 (0.0141)\tAccuracy 1.0000 (0.9979)\n",
      "Batch: [20/40]\tTime 1.175 (0.425)\tLoss 0.0033 (0.0121)\tAccuracy 1.0000 (0.9978)\n",
      "Batch: [30/40]\tTime 0.056 (0.365)\tLoss 0.0298 (0.0121)\tAccuracy 0.9844 (0.9965)\n",
      "----------\n",
      "Test: [0/4]\tTime 1.883 (1.883)\tLoss 0.1725 (0.1725)\tAccuracy 0.9453 (0.9453)\n",
      "Avg validation loss: 0.09776017272472382 \t Accuracy: 0.962\n",
      "--------------------\n",
      "Epoch 5/20\tTime 15.748 sec (15.507 sec)\n",
      "--------------------\n",
      "Epoch: 6/20\n",
      "Batch: [0/40]\tTime 1.620 (1.620)\tLoss 0.0045 (0.0045)\tAccuracy 1.0000 (1.0000)\n",
      "Batch: [10/40]\tTime 0.061 (0.438)\tLoss 0.0017 (0.0072)\tAccuracy 1.0000 (0.9972)\n",
      "Batch: [20/40]\tTime 0.841 (0.417)\tLoss 0.0026 (0.0052)\tAccuracy 1.0000 (0.9985)\n",
      "Batch: [30/40]\tTime 0.268 (0.377)\tLoss 0.0009 (0.0053)\tAccuracy 1.0000 (0.9985)\n",
      "----------\n",
      "Test: [0/4]\tTime 1.842 (1.842)\tLoss 0.1670 (0.1670)\tAccuracy 0.9531 (0.9531)\n",
      "Avg validation loss: 0.09883102580904961 \t Accuracy: 0.972\n",
      "--------------------\n",
      "Epoch 6/20\tTime 15.632 sec (15.525 sec)\n",
      "--------------------\n",
      "Epoch: 7/20\n",
      "Batch: [0/40]\tTime 1.987 (1.987)\tLoss 0.0008 (0.0008)\tAccuracy 1.0000 (1.0000)\n",
      "Batch: [10/40]\tTime 0.068 (0.471)\tLoss 0.0009 (0.0024)\tAccuracy 1.0000 (0.9993)\n",
      "Batch: [20/40]\tTime 1.191 (0.442)\tLoss 0.0093 (0.0027)\tAccuracy 0.9922 (0.9993)\n",
      "Batch: [30/40]\tTime 0.048 (0.389)\tLoss 0.0012 (0.0024)\tAccuracy 1.0000 (0.9995)\n",
      "----------\n",
      "Test: [0/4]\tTime 1.488 (1.488)\tLoss 0.1592 (0.1592)\tAccuracy 0.9688 (0.9688)\n",
      "Avg validation loss: 0.09935565474629403 \t Accuracy: 0.98\n",
      "--------------------\n",
      "Epoch 7/20\tTime 15.820 sec (15.562 sec)\n",
      "--------------------\n",
      "Epoch: 8/20\n",
      "Batch: [0/40]\tTime 1.523 (1.523)\tLoss 0.0006 (0.0006)\tAccuracy 1.0000 (1.0000)\n",
      "Batch: [10/40]\tTime 0.234 (0.439)\tLoss 0.0006 (0.0022)\tAccuracy 1.0000 (0.9993)\n",
      "Batch: [20/40]\tTime 0.388 (0.378)\tLoss 0.0019 (0.0020)\tAccuracy 1.0000 (0.9996)\n",
      "Batch: [30/40]\tTime 0.384 (0.366)\tLoss 0.0001 (0.0018)\tAccuracy 1.0000 (0.9997)\n",
      "----------\n",
      "Test: [0/4]\tTime 1.720 (1.720)\tLoss 0.2065 (0.2065)\tAccuracy 0.9609 (0.9609)\n",
      "Avg validation loss: 0.10015023176372051 \t Accuracy: 0.976\n",
      "--------------------\n",
      "Epoch 8/20\tTime 15.241 sec (15.526 sec)\n",
      "--------------------\n",
      "Epoch: 9/20\n",
      "Batch: [0/40]\tTime 1.600 (1.600)\tLoss 0.0005 (0.0005)\tAccuracy 1.0000 (1.0000)\n",
      "Batch: [10/40]\tTime 0.048 (0.416)\tLoss 0.0001 (0.0005)\tAccuracy 1.0000 (1.0000)\n",
      "Batch: [20/40]\tTime 1.221 (0.426)\tLoss 0.0001 (0.0004)\tAccuracy 1.0000 (1.0000)\n",
      "Batch: [30/40]\tTime 0.080 (0.363)\tLoss 0.0007 (0.0004)\tAccuracy 1.0000 (1.0000)\n",
      "----------\n",
      "Test: [0/4]\tTime 1.743 (1.743)\tLoss 0.1952 (0.1952)\tAccuracy 0.9609 (0.9609)\n",
      "Avg validation loss: 0.10662302187085151 \t Accuracy: 0.976\n",
      "--------------------\n",
      "Epoch 9/20\tTime 15.376 sec (15.511 sec)\n",
      "--------------------\n",
      "Epoch: 10/20\n",
      "Batch: [0/40]\tTime 1.803 (1.803)\tLoss 0.0001 (0.0001)\tAccuracy 1.0000 (1.0000)\n",
      "Batch: [10/40]\tTime 0.060 (0.438)\tLoss 0.0002 (0.0002)\tAccuracy 1.0000 (1.0000)\n",
      "Batch: [20/40]\tTime 1.057 (0.422)\tLoss 0.0002 (0.0002)\tAccuracy 1.0000 (1.0000)\n",
      "Batch: [30/40]\tTime 0.052 (0.370)\tLoss 0.0002 (0.0002)\tAccuracy 1.0000 (1.0000)\n",
      "----------\n",
      "Test: [0/4]\tTime 1.680 (1.680)\tLoss 0.2027 (0.2027)\tAccuracy 0.9531 (0.9531)\n",
      "Avg validation loss: 0.11223539027571679 \t Accuracy: 0.974\n",
      "--------------------\n",
      "Epoch 10/20\tTime 15.419 sec (15.503 sec)\n",
      "--------------------\n",
      "Epoch: 11/20\n",
      "Batch: [0/40]\tTime 2.058 (2.058)\tLoss 0.0003 (0.0003)\tAccuracy 1.0000 (1.0000)\n",
      "Batch: [10/40]\tTime 0.070 (0.441)\tLoss 0.0001 (0.0002)\tAccuracy 1.0000 (1.0000)\n",
      "Batch: [20/40]\tTime 1.159 (0.422)\tLoss 0.0001 (0.0001)\tAccuracy 1.0000 (1.0000)\n",
      "Batch: [30/40]\tTime 0.059 (0.377)\tLoss 0.0001 (0.0002)\tAccuracy 1.0000 (1.0000)\n",
      "----------\n",
      "Test: [0/4]\tTime 1.776 (1.776)\tLoss 0.2093 (0.2093)\tAccuracy 0.9531 (0.9531)\n",
      "Avg validation loss: 0.11656820008158683 \t Accuracy: 0.974\n",
      "--------------------\n",
      "Epoch 11/20\tTime 15.725 sec (15.521 sec)\n",
      "--------------------\n",
      "Epoch: 12/20\n",
      "Batch: [0/40]\tTime 1.774 (1.774)\tLoss 0.0001 (0.0001)\tAccuracy 1.0000 (1.0000)\n",
      "Batch: [10/40]\tTime 0.051 (0.436)\tLoss 0.0001 (0.0001)\tAccuracy 1.0000 (1.0000)\n",
      "Batch: [20/40]\tTime 0.453 (0.386)\tLoss 0.0000 (0.0001)\tAccuracy 1.0000 (1.0000)\n",
      "Batch: [30/40]\tTime 0.048 (0.378)\tLoss 0.0001 (0.0001)\tAccuracy 1.0000 (1.0000)\n",
      "----------\n",
      "Test: [0/4]\tTime 1.685 (1.685)\tLoss 0.2172 (0.2172)\tAccuracy 0.9531 (0.9531)\n",
      "Avg validation loss: 0.12011567270755767 \t Accuracy: 0.974\n",
      "--------------------\n",
      "Epoch 12/20\tTime 15.484 sec (15.518 sec)\n",
      "--------------------\n",
      "Epoch: 13/20\n",
      "Batch: [0/40]\tTime 1.918 (1.918)\tLoss 0.0002 (0.0002)\tAccuracy 1.0000 (1.0000)\n",
      "Batch: [10/40]\tTime 0.044 (0.445)\tLoss 0.0000 (0.0001)\tAccuracy 1.0000 (1.0000)\n",
      "Batch: [20/40]\tTime 1.268 (0.428)\tLoss 0.0001 (0.0001)\tAccuracy 1.0000 (1.0000)\n",
      "Batch: [30/40]\tTime 0.044 (0.372)\tLoss 0.0002 (0.0001)\tAccuracy 1.0000 (1.0000)\n",
      "----------\n",
      "Test: [0/4]\tTime 1.746 (1.746)\tLoss 0.2209 (0.2209)\tAccuracy 0.9531 (0.9531)\n",
      "Avg validation loss: 0.12346656891703606 \t Accuracy: 0.974\n",
      "--------------------\n",
      "Epoch 13/20\tTime 15.430 sec (15.512 sec)\n",
      "--------------------\n",
      "Epoch: 14/20\n",
      "Batch: [0/40]\tTime 1.892 (1.892)\tLoss 0.0001 (0.0001)\tAccuracy 1.0000 (1.0000)\n",
      "Batch: [10/40]\tTime 0.045 (0.433)\tLoss 0.0001 (0.0001)\tAccuracy 1.0000 (1.0000)\n",
      "Batch: [20/40]\tTime 1.172 (0.422)\tLoss 0.0001 (0.0001)\tAccuracy 1.0000 (1.0000)\n",
      "Batch: [30/40]\tTime 0.076 (0.375)\tLoss 0.0001 (0.0001)\tAccuracy 1.0000 (1.0000)\n",
      "----------\n",
      "Test: [0/4]\tTime 1.673 (1.673)\tLoss 0.2262 (0.2262)\tAccuracy 0.9531 (0.9531)\n",
      "Avg validation loss: 0.12616133618354797 \t Accuracy: 0.974\n",
      "--------------------\n",
      "Epoch 14/20\tTime 15.825 sec (15.533 sec)\n",
      "--------------------\n",
      "Epoch: 15/20\n",
      "Batch: [0/40]\tTime 1.751 (1.751)\tLoss 0.0001 (0.0001)\tAccuracy 1.0000 (1.0000)\n",
      "Batch: [10/40]\tTime 0.053 (0.423)\tLoss 0.0001 (0.0001)\tAccuracy 1.0000 (1.0000)\n",
      "Batch: [20/40]\tTime 0.964 (0.401)\tLoss 0.0001 (0.0001)\tAccuracy 1.0000 (1.0000)\n",
      "Batch: [30/40]\tTime 0.049 (0.360)\tLoss 0.0001 (0.0001)\tAccuracy 1.0000 (1.0000)\n",
      "----------\n",
      "Test: [0/4]\tTime 1.650 (1.650)\tLoss 0.2307 (0.2307)\tAccuracy 0.9531 (0.9531)\n",
      "Avg validation loss: 0.12886661276221276 \t Accuracy: 0.974\n",
      "--------------------\n",
      "Epoch 15/20\tTime 15.104 sec (15.506 sec)\n",
      "--------------------\n",
      "Epoch: 16/20\n",
      "Batch: [0/40]\tTime 1.660 (1.660)\tLoss 0.0001 (0.0001)\tAccuracy 1.0000 (1.0000)\n",
      "Batch: [10/40]\tTime 0.062 (0.430)\tLoss 0.0000 (0.0001)\tAccuracy 1.0000 (1.0000)\n",
      "Batch: [20/40]\tTime 0.800 (0.398)\tLoss 0.0000 (0.0001)\tAccuracy 1.0000 (1.0000)\n",
      "Batch: [30/40]\tTime 0.060 (0.371)\tLoss 0.0000 (0.0001)\tAccuracy 1.0000 (1.0000)\n",
      "----------\n",
      "Test: [0/4]\tTime 1.778 (1.778)\tLoss 0.2363 (0.2363)\tAccuracy 0.9531 (0.9531)\n",
      "Avg validation loss: 0.1311847082078457 \t Accuracy: 0.974\n",
      "--------------------\n",
      "Epoch 16/20\tTime 15.434 sec (15.502 sec)\n",
      "--------------------\n",
      "Epoch: 17/20\n",
      "Batch: [0/40]\tTime 1.782 (1.782)\tLoss 0.0001 (0.0001)\tAccuracy 1.0000 (1.0000)\n",
      "Batch: [10/40]\tTime 0.066 (0.425)\tLoss 0.0000 (0.0000)\tAccuracy 1.0000 (1.0000)\n",
      "Batch: [20/40]\tTime 1.028 (0.403)\tLoss 0.0001 (0.0000)\tAccuracy 1.0000 (1.0000)\n",
      "Batch: [30/40]\tTime 0.187 (0.373)\tLoss 0.0000 (0.0001)\tAccuracy 1.0000 (1.0000)\n",
      "----------\n",
      "Test: [0/4]\tTime 1.564 (1.564)\tLoss 0.2395 (0.2395)\tAccuracy 0.9531 (0.9531)\n",
      "Avg validation loss: 0.13338277506828308 \t Accuracy: 0.974\n",
      "--------------------\n",
      "Epoch 17/20\tTime 15.411 sec (15.497 sec)\n",
      "--------------------\n",
      "Epoch: 18/20\n",
      "Batch: [0/40]\tTime 1.730 (1.730)\tLoss 0.0000 (0.0000)\tAccuracy 1.0000 (1.0000)\n",
      "Batch: [10/40]\tTime 0.088 (0.454)\tLoss 0.0000 (0.0000)\tAccuracy 1.0000 (1.0000)\n",
      "Batch: [20/40]\tTime 1.077 (0.436)\tLoss 0.0001 (0.0000)\tAccuracy 1.0000 (1.0000)\n",
      "Batch: [30/40]\tTime 0.064 (0.409)\tLoss 0.0001 (0.0000)\tAccuracy 1.0000 (1.0000)\n",
      "----------\n",
      "Test: [0/4]\tTime 1.640 (1.640)\tLoss 0.2429 (0.2429)\tAccuracy 0.9531 (0.9531)\n",
      "Avg validation loss: 0.1351021474301815 \t Accuracy: 0.974\n",
      "--------------------\n",
      "Epoch 18/20\tTime 17.140 sec (15.583 sec)\n",
      "--------------------\n",
      "Epoch: 19/20\n",
      "Batch: [0/40]\tTime 2.355 (2.355)\tLoss 0.0001 (0.0001)\tAccuracy 1.0000 (1.0000)\n",
      "Batch: [10/40]\tTime 0.076 (0.600)\tLoss 0.0000 (0.0000)\tAccuracy 1.0000 (1.0000)\n",
      "Batch: [20/40]\tTime 1.988 (0.621)\tLoss 0.0000 (0.0000)\tAccuracy 1.0000 (1.0000)\n",
      "Batch: [30/40]\tTime 0.076 (0.563)\tLoss 0.0000 (0.0000)\tAccuracy 1.0000 (1.0000)\n",
      "----------\n",
      "Test: [0/4]\tTime 2.124 (2.124)\tLoss 0.2462 (0.2462)\tAccuracy 0.9531 (0.9531)\n",
      "Avg validation loss: 0.1368388111591339 \t Accuracy: 0.974\n",
      "--------------------\n",
      "Epoch 19/20\tTime 23.471 sec (15.978 sec)\n",
      "--------------------\n"
     ]
    }
   ],
   "source": [
    "train_losses = []\n",
    "train_accs = []\n",
    "val_losses = []\n",
    "val_accs = []\n",
    "epoch_time = AverageMeter()\n",
    "ep_end = time.time()\n",
    "for epoch in range(0, num_epochs):\n",
    "        print('Epoch: {}/{}'.format(epoch, num_epochs))\n",
    "        scheduler_cls.step()\n",
    "        scheduler_enc.step()\n",
    "        # train\n",
    "        train_loss, train_acc = train_encoder_classifier_epoch(train_loader, encoder,\n",
    "                                classifier, opt_enc,\n",
    "                                opt_cls, criterion, device)\n",
    "        train_losses.append(train_loss)\n",
    "        train_accs.append(train_acc)\n",
    "        # validate\n",
    "        print('-'*10)\n",
    "        val_loss, val_acc = validate_encoder_classifier_epoch(val_loader, encoder, classifier,\n",
    "                                 criterion, device)\n",
    "\n",
    "        print('Avg validation loss: {} \\t Accuracy: {}'.format(val_loss, val_acc))\n",
    "        val_losses.append(val_loss)\n",
    "        val_accs.append(val_acc)\n",
    "        \n",
    "        print('-' * 20)\n",
    "        epoch_time.update(time.time() - ep_end)\n",
    "        ep_end = time.time()\n",
    "        print('Epoch {}/{}\\t'\n",
    "              'Time {epoch_time.val:.3f} sec ({epoch_time.avg:.3f} sec)'.format(epoch, num_epochs, epoch_time=epoch_time))\n",
    "        print('-'*20)"
   ]
  },
  {
   "cell_type": "code",
   "execution_count": 16,
   "metadata": {},
   "outputs": [
    {
     "name": "stdout",
     "output_type": "stream",
     "text": [
      "Test: [0/4]\tTime 2.234 (2.234)\tLoss 0.0951 (0.0951)\tAccuracy 0.9922 (0.9922)\n"
     ]
    },
    {
     "name": "stderr",
     "output_type": "stream",
     "text": [
      "/home/var/anaconda3/envs/diss/lib/python3.6/site-packages/torch/nn/functional.py:1594: UserWarning: Using a target size (torch.Size([128])) that is different to the input size (torch.Size([128, 1])) is deprecated. Please ensure they have the same size.\n",
      "  \"Please ensure they have the same size.\".format(target.size(), input.size()))\n",
      "/home/var/anaconda3/envs/diss/lib/python3.6/site-packages/torch/nn/functional.py:1594: UserWarning: Using a target size (torch.Size([116])) that is different to the input size (torch.Size([116, 1])) is deprecated. Please ensure they have the same size.\n",
      "  \"Please ensure they have the same size.\".format(target.size(), input.size()))\n"
     ]
    },
    {
     "data": {
      "text/plain": [
       "(0.1168217567205429, 0.974)"
      ]
     },
     "execution_count": 16,
     "metadata": {},
     "output_type": "execute_result"
    }
   ],
   "source": [
    "validate_encoder_classifier_epoch(test_loader, encoder, classifier,\n",
    "                                 criterion, device)"
   ]
  },
  {
   "cell_type": "code",
   "execution_count": 17,
   "metadata": {},
   "outputs": [],
   "source": [
    "import matplotlib.pyplot as plt"
   ]
  },
  {
   "cell_type": "code",
   "execution_count": 18,
   "metadata": {},
   "outputs": [
    {
     "data": {
      "text/plain": [
       "[<matplotlib.lines.Line2D at 0x7fb01824d518>]"
      ]
     },
     "execution_count": 18,
     "metadata": {},
     "output_type": "execute_result"
    },
    {
     "data": {
      "image/png": "[encoded data removed]",
      "text/plain": [
       "<Figure size 432x288 with 4 Axes>"
      ]
     },
     "metadata": {},
     "output_type": "display_data"
    }
   ],
   "source": [
    "plt.subplot(221)\n",
    "plt.title('training classification loss')\n",
    "plt.plot(train_losses)\n",
    "plt.subplot(222)\n",
    "plt.title('training accuracy')\n",
    "plt.plot(train_accs)\n",
    "plt.subplot(223)\n",
    "plt.title('validation loss')\n",
    "plt.plot(val_losses)\n",
    "plt.subplot(224)\n",
    "plt.title('validation accuracy')\n",
    "plt.plot(val_accs)"
   ]
  },
  {
   "cell_type": "code",
   "execution_count": 39,
   "metadata": {},
   "outputs": [],
   "source": [
    "from synthetic_dataloader import *"
   ]
  },
  {
   "cell_type": "code",
   "execution_count": 40,
   "metadata": {},
   "outputs": [],
   "source": [
    "gender_train = GenderDataset(train_df)\n",
    "gender_valid = GenderDataset(val_df)\n",
    "gender_test = GenderDataset(test_df)"
   ]
  },
  {
   "cell_type": "code",
   "execution_count": 41,
   "metadata": {},
   "outputs": [],
   "source": [
    "advtrain_loader = DataLoader(gender_train, batch_size=batch_size, shuffle=True, num_workers=num_workers, pin_memory=pin_memory)\n",
    "advval_loader = DataLoader(gender_valid, batch_size=batch_size, shuffle=False, num_workers=num_workers, pin_memory=pin_memory)\n",
    "advtest_loader = DataLoader(gender_test, batch_size=batch_size, shuffle=False, num_workers=num_workers, pin_memory=pin_memory)"
   ]
  },
  {
   "cell_type": "code",
   "execution_count": 42,
   "metadata": {},
   "outputs": [],
   "source": [
    "encoder = LeNet()\n",
    "adversary = ClassNet()"
   ]
  },
  {
   "cell_type": "code",
   "execution_count": 43,
   "metadata": {},
   "outputs": [
    {
     "data": {
      "text/plain": [
       "ClassNet(\n",
       "  (fc1): Linear(in_features=128, out_features=8, bias=True)\n",
       "  (fc2): Linear(in_features=8, out_features=1, bias=True)\n",
       "  (out_acc): Sigmoid()\n",
       ")"
      ]
     },
     "execution_count": 43,
     "metadata": {},
     "output_type": "execute_result"
    }
   ],
   "source": [
    "encoder.to(device)\n",
    "adversary.to(device)"
   ]
  },
  {
   "cell_type": "code",
   "execution_count": 44,
   "metadata": {},
   "outputs": [],
   "source": [
    "criterion = nn.BCELoss()\n",
    "opt_cls = optim.Adam(classifier.parameters(), lr=0.001, betas=(0.9, 0.999))\n",
    "opt_enc = optim.Adam(adversary.parameters(), lr=0.001, betas=(0.9, 0.999))\n",
    "scheduler_cls = lr_scheduler.StepLR(optimizer=opt_cls, gamma=0.99, step_size=1)\n",
    "scheduler_enc = lr_scheduler.StepLR(optimizer=opt_enc, gamma=0.99, step_size=1)"
   ]
  },
  {
   "cell_type": "code",
   "execution_count": 45,
   "metadata": {},
   "outputs": [
    {
     "name": "stdout",
     "output_type": "stream",
     "text": [
      "Epoch: 0/20\n"
     ]
    },
    {
     "name": "stderr",
     "output_type": "stream",
     "text": [
      "/home/var/anaconda3/envs/diss/lib/python3.6/site-packages/torch/nn/functional.py:1594: UserWarning: Using a target size (torch.Size([128])) that is different to the input size (torch.Size([128, 1])) is deprecated. Please ensure they have the same size.\n",
      "  \"Please ensure they have the same size.\".format(target.size(), input.size()))\n"
     ]
    },
    {
     "name": "stdout",
     "output_type": "stream",
     "text": [
      "Batch: [0/40]\tTime 0.808 (0.808)\tLoss 0.6995 (0.6995)\tAccuracy 0.4766 (0.4766)\n",
      "Batch: [10/40]\tTime 0.033 (0.199)\tLoss 0.6981 (0.6975)\tAccuracy 0.4688 (0.4808)\n",
      "Batch: [20/40]\tTime 0.483 (0.194)\tLoss 0.6936 (0.6953)\tAccuracy 0.4922 (0.4911)\n",
      "Batch: [30/40]\tTime 0.064 (0.175)\tLoss 0.6938 (0.6943)\tAccuracy 0.4766 (0.4927)\n",
      "----------\n"
     ]
    },
    {
     "name": "stderr",
     "output_type": "stream",
     "text": [
      "/home/var/anaconda3/envs/diss/lib/python3.6/site-packages/torch/nn/functional.py:1594: UserWarning: Using a target size (torch.Size([8])) that is different to the input size (torch.Size([8, 1])) is deprecated. Please ensure they have the same size.\n",
      "  \"Please ensure they have the same size.\".format(target.size(), input.size()))\n"
     ]
    },
    {
     "name": "stdout",
     "output_type": "stream",
     "text": [
      "Test: [0/4]\tTime 0.783 (0.783)\tLoss 0.6919 (0.6919)\tAccuracy 0.4688 (0.4688)\n",
      "Avg validation loss: 0.6912885127067566 \t Accuracy: 0.48\n",
      "--------------------\n",
      "Epoch 0/20\tTime 7.433 sec (7.433 sec)\n",
      "--------------------\n",
      "Epoch: 1/20\n"
     ]
    },
    {
     "name": "stderr",
     "output_type": "stream",
     "text": [
      "/home/var/anaconda3/envs/diss/lib/python3.6/site-packages/torch/nn/functional.py:1594: UserWarning: Using a target size (torch.Size([116])) that is different to the input size (torch.Size([116, 1])) is deprecated. Please ensure they have the same size.\n",
      "  \"Please ensure they have the same size.\".format(target.size(), input.size()))\n"
     ]
    },
    {
     "name": "stdout",
     "output_type": "stream",
     "text": [
      "Batch: [0/40]\tTime 0.874 (0.874)\tLoss 0.6876 (0.6876)\tAccuracy 0.5156 (0.5156)\n",
      "Batch: [10/40]\tTime 0.044 (0.201)\tLoss 0.6936 (0.6867)\tAccuracy 0.4453 (0.5199)\n",
      "Batch: [20/40]\tTime 0.534 (0.194)\tLoss 0.6859 (0.6870)\tAccuracy 0.5078 (0.5104)\n",
      "Batch: [30/40]\tTime 0.048 (0.176)\tLoss 0.6897 (0.6865)\tAccuracy 0.4375 (0.5033)\n",
      "----------\n",
      "Test: [0/4]\tTime 0.769 (0.769)\tLoss 0.6815 (0.6815)\tAccuracy 0.4688 (0.4688)\n",
      "Avg validation loss: 0.6819749927520752 \t Accuracy: 0.482\n",
      "--------------------\n",
      "Epoch 1/20\tTime 7.536 sec (7.485 sec)\n",
      "--------------------\n",
      "Epoch: 2/20\n",
      "Batch: [0/40]\tTime 0.854 (0.854)\tLoss 0.6831 (0.6831)\tAccuracy 0.4688 (0.4688)\n",
      "Batch: [10/40]\tTime 0.034 (0.200)\tLoss 0.6738 (0.6784)\tAccuracy 0.5391 (0.5320)\n",
      "Batch: [20/40]\tTime 0.300 (0.189)\tLoss 0.6786 (0.6777)\tAccuracy 0.5000 (0.5394)\n",
      "Batch: [30/40]\tTime 0.391 (0.183)\tLoss 0.6715 (0.6761)\tAccuracy 0.6328 (0.5660)\n",
      "----------\n",
      "Test: [0/4]\tTime 0.750 (0.750)\tLoss 0.6662 (0.6662)\tAccuracy 0.6484 (0.6484)\n",
      "Avg validation loss: 0.6682801518440247 \t Accuracy: 0.644\n",
      "--------------------\n",
      "Epoch 2/20\tTime 7.559 sec (7.510 sec)\n",
      "--------------------\n",
      "Epoch: 3/20\n",
      "Batch: [0/40]\tTime 0.790 (0.790)\tLoss 0.6646 (0.6646)\tAccuracy 0.6875 (0.6875)\n",
      "Batch: [10/40]\tTime 0.062 (0.200)\tLoss 0.6632 (0.6668)\tAccuracy 0.7109 (0.6903)\n",
      "Batch: [20/40]\tTime 0.548 (0.195)\tLoss 0.6645 (0.6640)\tAccuracy 0.7188 (0.7057)\n",
      "Batch: [30/40]\tTime 0.045 (0.178)\tLoss 0.6537 (0.6625)\tAccuracy 0.7500 (0.7132)\n",
      "----------\n",
      "Test: [0/4]\tTime 0.766 (0.766)\tLoss 0.6461 (0.6461)\tAccuracy 0.7578 (0.7578)\n",
      "Avg validation loss: 0.6501751904487609 \t Accuracy: 0.736\n",
      "--------------------\n",
      "Epoch 3/20\tTime 7.646 sec (7.544 sec)\n",
      "--------------------\n",
      "Epoch: 4/20\n",
      "Batch: [0/40]\tTime 0.849 (0.849)\tLoss 0.6510 (0.6510)\tAccuracy 0.7891 (0.7891)\n",
      "Batch: [10/40]\tTime 0.038 (0.208)\tLoss 0.6567 (0.6484)\tAccuracy 0.7266 (0.7692)\n",
      "Batch: [20/40]\tTime 0.467 (0.198)\tLoss 0.6498 (0.6468)\tAccuracy 0.7188 (0.7671)\n",
      "Batch: [30/40]\tTime 0.047 (0.177)\tLoss 0.6364 (0.6440)\tAccuracy 0.7891 (0.7724)\n",
      "----------\n",
      "Test: [0/4]\tTime 0.772 (0.772)\tLoss 0.6230 (0.6230)\tAccuracy 0.8203 (0.8203)\n",
      "Avg validation loss: 0.6294050755500793 \t Accuracy: 0.79\n",
      "--------------------\n",
      "Epoch 4/20\tTime 7.577 sec (7.550 sec)\n",
      "--------------------\n",
      "Epoch: 5/20\n",
      "Batch: [0/40]\tTime 0.835 (0.835)\tLoss 0.6256 (0.6256)\tAccuracy 0.8203 (0.8203)\n",
      "Batch: [10/40]\tTime 0.037 (0.200)\tLoss 0.6230 (0.6294)\tAccuracy 0.8203 (0.8004)\n",
      "Batch: [20/40]\tTime 0.547 (0.195)\tLoss 0.6137 (0.6259)\tAccuracy 0.8047 (0.7861)\n",
      "Batch: [30/40]\tTime 0.050 (0.179)\tLoss 0.6234 (0.6233)\tAccuracy 0.8125 (0.7868)\n",
      "----------\n",
      "Test: [0/4]\tTime 0.766 (0.766)\tLoss 0.5979 (0.5979)\tAccuracy 0.8281 (0.8281)\n",
      "Avg validation loss: 0.6067975172996521 \t Accuracy: 0.808\n",
      "--------------------\n",
      "Epoch 5/20\tTime 7.603 sec (7.559 sec)\n",
      "--------------------\n",
      "Epoch: 6/20\n",
      "Batch: [0/40]\tTime 0.749 (0.749)\tLoss 0.6182 (0.6182)\tAccuracy 0.8047 (0.8047)\n",
      "Batch: [10/40]\tTime 0.048 (0.199)\tLoss 0.6072 (0.6082)\tAccuracy 0.7656 (0.8026)\n",
      "Batch: [20/40]\tTime 0.460 (0.191)\tLoss 0.5990 (0.6061)\tAccuracy 0.7578 (0.7958)\n",
      "Batch: [30/40]\tTime 0.047 (0.176)\tLoss 0.5843 (0.6028)\tAccuracy 0.8594 (0.8022)\n",
      "----------\n",
      "Test: [0/4]\tTime 0.754 (0.754)\tLoss 0.5604 (0.5604)\tAccuracy 0.8516 (0.8516)\n",
      "Avg validation loss: 0.5725675778388977 \t Accuracy: 0.814\n",
      "--------------------\n",
      "Epoch 6/20\tTime 7.505 sec (7.551 sec)\n",
      "--------------------\n",
      "Epoch: 7/20\n",
      "Batch: [0/40]\tTime 0.892 (0.892)\tLoss 0.5591 (0.5591)\tAccuracy 0.8359 (0.8359)\n",
      "Batch: [10/40]\tTime 0.056 (0.206)\tLoss 0.5667 (0.5753)\tAccuracy 0.8125 (0.8040)\n",
      "Batch: [20/40]\tTime 0.507 (0.197)\tLoss 0.5410 (0.5702)\tAccuracy 0.8594 (0.8110)\n",
      "Batch: [30/40]\tTime 0.060 (0.183)\tLoss 0.5446 (0.5676)\tAccuracy 0.8047 (0.8067)\n",
      "----------\n",
      "Test: [0/4]\tTime 0.826 (0.826)\tLoss 0.5276 (0.5276)\tAccuracy 0.8438 (0.8438)\n",
      "Avg validation loss: 0.542483980178833 \t Accuracy: 0.814\n",
      "--------------------\n",
      "Epoch 7/20\tTime 7.775 sec (7.579 sec)\n",
      "--------------------\n",
      "Epoch: 8/20\n",
      "Batch: [0/40]\tTime 0.833 (0.833)\tLoss 0.5836 (0.5836)\tAccuracy 0.7656 (0.7656)\n",
      "Batch: [10/40]\tTime 0.033 (0.210)\tLoss 0.5391 (0.5479)\tAccuracy 0.8906 (0.8104)\n",
      "Batch: [20/40]\tTime 0.598 (0.209)\tLoss 0.5563 (0.5463)\tAccuracy 0.8047 (0.8088)\n",
      "Batch: [30/40]\tTime 0.047 (0.188)\tLoss 0.5400 (0.5437)\tAccuracy 0.8281 (0.8117)\n",
      "----------\n",
      "Test: [0/4]\tTime 0.806 (0.806)\tLoss 0.5016 (0.5016)\tAccuracy 0.8516 (0.8516)\n",
      "Avg validation loss: 0.5186620397567749 \t Accuracy: 0.816\n",
      "--------------------\n",
      "Epoch 8/20\tTime 8.036 sec (7.630 sec)\n",
      "--------------------\n",
      "Epoch: 9/20\n",
      "Batch: [0/40]\tTime 0.899 (0.899)\tLoss 0.5646 (0.5646)\tAccuracy 0.7344 (0.7344)\n",
      "Batch: [10/40]\tTime 0.033 (0.213)\tLoss 0.5182 (0.5302)\tAccuracy 0.8516 (0.8161)\n",
      "Batch: [20/40]\tTime 0.601 (0.208)\tLoss 0.5254 (0.5204)\tAccuracy 0.8281 (0.8229)\n",
      "Batch: [30/40]\tTime 0.049 (0.191)\tLoss 0.5546 (0.5208)\tAccuracy 0.7578 (0.8145)\n",
      "----------\n",
      "Test: [0/4]\tTime 0.776 (0.776)\tLoss 0.4755 (0.4755)\tAccuracy 0.8516 (0.8516)\n",
      "Avg validation loss: 0.4954251000881195 \t Accuracy: 0.828\n",
      "--------------------\n",
      "Epoch 9/20\tTime 7.946 sec (7.662 sec)\n",
      "--------------------\n",
      "Epoch: 10/20\n",
      "Batch: [0/40]\tTime 0.829 (0.829)\tLoss 0.5202 (0.5202)\tAccuracy 0.7734 (0.7734)\n",
      "Batch: [10/40]\tTime 0.044 (0.215)\tLoss 0.4986 (0.5107)\tAccuracy 0.8516 (0.8132)\n",
      "Batch: [20/40]\tTime 0.548 (0.204)\tLoss 0.5209 (0.5050)\tAccuracy 0.7969 (0.8170)\n",
      "Batch: [30/40]\tTime 0.046 (0.185)\tLoss 0.4641 (0.5005)\tAccuracy 0.8438 (0.8175)\n",
      "----------\n",
      "Test: [0/4]\tTime 0.779 (0.779)\tLoss 0.4539 (0.4539)\tAccuracy 0.8516 (0.8516)\n",
      "Avg validation loss: 0.4757279143333435 \t Accuracy: 0.828\n",
      "--------------------\n",
      "Epoch 10/20\tTime 7.799 sec (7.674 sec)\n",
      "--------------------\n",
      "Epoch: 11/20\n",
      "Batch: [0/40]\tTime 0.807 (0.807)\tLoss 0.4546 (0.4546)\tAccuracy 0.8516 (0.8516)\n",
      "Batch: [10/40]\tTime 0.033 (0.198)\tLoss 0.4967 (0.4953)\tAccuracy 0.8047 (0.8040)\n",
      "Batch: [20/40]\tTime 0.448 (0.191)\tLoss 0.4990 (0.4904)\tAccuracy 0.8125 (0.8092)\n",
      "Batch: [30/40]\tTime 0.032 (0.175)\tLoss 0.4763 (0.4855)\tAccuracy 0.8281 (0.8128)\n",
      "----------\n",
      "Test: [0/4]\tTime 0.767 (0.767)\tLoss 0.4351 (0.4351)\tAccuracy 0.8516 (0.8516)\n",
      "Avg validation loss: 0.4587203984260559 \t Accuracy: 0.826\n",
      "--------------------\n",
      "Epoch 11/20\tTime 7.497 sec (7.659 sec)\n",
      "--------------------\n",
      "Epoch: 12/20\n",
      "Batch: [0/40]\tTime 0.832 (0.832)\tLoss 0.4410 (0.4410)\tAccuracy 0.8281 (0.8281)\n",
      "Batch: [10/40]\tTime 0.033 (0.201)\tLoss 0.5029 (0.4712)\tAccuracy 0.8047 (0.8139)\n",
      "Batch: [20/40]\tTime 0.553 (0.197)\tLoss 0.4917 (0.4712)\tAccuracy 0.7734 (0.8185)\n",
      "Batch: [30/40]\tTime 0.048 (0.178)\tLoss 0.4639 (0.4695)\tAccuracy 0.8203 (0.8196)\n",
      "----------\n",
      "Test: [0/4]\tTime 0.741 (0.741)\tLoss 0.4179 (0.4179)\tAccuracy 0.8594 (0.8594)\n",
      "Avg validation loss: 0.4433194978237152 \t Accuracy: 0.83\n",
      "--------------------\n",
      "Epoch 12/20\tTime 7.483 sec (7.646 sec)\n",
      "--------------------\n",
      "Epoch: 13/20\n",
      "Batch: [0/40]\tTime 0.863 (0.863)\tLoss 0.4823 (0.4823)\tAccuracy 0.7656 (0.7656)\n",
      "Batch: [10/40]\tTime 0.048 (0.204)\tLoss 0.4565 (0.4581)\tAccuracy 0.8047 (0.8224)\n",
      "Batch: [20/40]\tTime 0.543 (0.195)\tLoss 0.4325 (0.4572)\tAccuracy 0.8594 (0.8207)\n",
      "Batch: [30/40]\tTime 0.052 (0.175)\tLoss 0.4497 (0.4567)\tAccuracy 0.8281 (0.8233)\n",
      "----------\n",
      "Test: [0/4]\tTime 0.750 (0.750)\tLoss 0.4029 (0.4029)\tAccuracy 0.8594 (0.8594)\n",
      "Avg validation loss: 0.42978584456443786 \t Accuracy: 0.83\n",
      "--------------------\n",
      "Epoch 13/20\tTime 7.278 sec (7.619 sec)\n",
      "--------------------\n",
      "Epoch: 14/20\n",
      "Batch: [0/40]\tTime 0.815 (0.815)\tLoss 0.4185 (0.4185)\tAccuracy 0.8750 (0.8750)\n",
      "Batch: [10/40]\tTime 0.048 (0.203)\tLoss 0.4298 (0.4409)\tAccuracy 0.8359 (0.8359)\n",
      "Batch: [20/40]\tTime 0.409 (0.189)\tLoss 0.4558 (0.4404)\tAccuracy 0.7969 (0.8292)\n",
      "Batch: [30/40]\tTime 0.037 (0.176)\tLoss 0.4010 (0.4440)\tAccuracy 0.8516 (0.8238)\n",
      "----------\n",
      "Test: [0/4]\tTime 0.771 (0.771)\tLoss 0.3899 (0.3899)\tAccuracy 0.8516 (0.8516)\n",
      "Avg validation loss: 0.41797041368484494 \t Accuracy: 0.832\n",
      "--------------------\n",
      "Epoch 14/20\tTime 7.429 sec (7.607 sec)\n",
      "--------------------\n",
      "Epoch: 15/20\n",
      "Batch: [0/40]\tTime 0.830 (0.830)\tLoss 0.4479 (0.4479)\tAccuracy 0.8047 (0.8047)\n",
      "Batch: [10/40]\tTime 0.052 (0.199)\tLoss 0.4141 (0.4351)\tAccuracy 0.8359 (0.8303)\n",
      "Batch: [20/40]\tTime 0.496 (0.196)\tLoss 0.4303 (0.4394)\tAccuracy 0.8125 (0.8263)\n",
      "Batch: [30/40]\tTime 0.032 (0.174)\tLoss 0.4565 (0.4353)\tAccuracy 0.8047 (0.8296)\n",
      "----------\n",
      "Test: [0/4]\tTime 0.764 (0.764)\tLoss 0.3783 (0.3783)\tAccuracy 0.8594 (0.8594)\n",
      "Avg validation loss: 0.40752006506919863 \t Accuracy: 0.836\n",
      "--------------------\n",
      "Epoch 15/20\tTime 7.458 sec (7.597 sec)\n",
      "--------------------\n",
      "Epoch: 16/20\n",
      "Batch: [0/40]\tTime 0.800 (0.800)\tLoss 0.4465 (0.4465)\tAccuracy 0.8125 (0.8125)\n",
      "Batch: [10/40]\tTime 0.049 (0.199)\tLoss 0.4660 (0.4202)\tAccuracy 0.7891 (0.8338)\n",
      "Batch: [20/40]\tTime 0.451 (0.190)\tLoss 0.3869 (0.4256)\tAccuracy 0.8672 (0.8278)\n",
      "Batch: [30/40]\tTime 0.033 (0.178)\tLoss 0.4239 (0.4272)\tAccuracy 0.8281 (0.8271)\n",
      "----------\n",
      "Test: [0/4]\tTime 0.773 (0.773)\tLoss 0.3680 (0.3680)\tAccuracy 0.8828 (0.8828)\n",
      "Avg validation loss: 0.3983376822471619 \t Accuracy: 0.846\n",
      "--------------------\n",
      "Epoch 16/20\tTime 7.513 sec (7.593 sec)\n",
      "--------------------\n",
      "Epoch: 17/20\n",
      "Batch: [0/40]\tTime 0.873 (0.873)\tLoss 0.4073 (0.4073)\tAccuracy 0.8750 (0.8750)\n",
      "Batch: [10/40]\tTime 0.035 (0.197)\tLoss 0.3752 (0.4041)\tAccuracy 0.8906 (0.8466)\n",
      "Batch: [20/40]\tTime 0.495 (0.194)\tLoss 0.3930 (0.4164)\tAccuracy 0.8281 (0.8337)\n",
      "Batch: [30/40]\tTime 0.060 (0.178)\tLoss 0.4616 (0.4200)\tAccuracy 0.7578 (0.8274)\n",
      "----------\n",
      "Test: [0/4]\tTime 0.777 (0.777)\tLoss 0.3616 (0.3616)\tAccuracy 0.8750 (0.8750)\n",
      "Avg validation loss: 0.391597065448761 \t Accuracy: 0.85\n",
      "--------------------\n",
      "Epoch 17/20\tTime 7.518 sec (7.588 sec)\n",
      "--------------------\n",
      "Epoch: 18/20\n",
      "Batch: [0/40]\tTime 0.845 (0.845)\tLoss 0.4541 (0.4541)\tAccuracy 0.8047 (0.8047)\n",
      "Batch: [10/40]\tTime 0.032 (0.196)\tLoss 0.4620 (0.4277)\tAccuracy 0.7422 (0.8089)\n",
      "Batch: [20/40]\tTime 0.320 (0.186)\tLoss 0.3863 (0.4163)\tAccuracy 0.8672 (0.8218)\n",
      "Batch: [30/40]\tTime 0.046 (0.179)\tLoss 0.4065 (0.4156)\tAccuracy 0.8516 (0.8259)\n",
      "----------\n",
      "Test: [0/4]\tTime 0.782 (0.782)\tLoss 0.3504 (0.3504)\tAccuracy 0.8828 (0.8828)\n",
      "Avg validation loss: 0.3826543154716492 \t Accuracy: 0.85\n",
      "--------------------\n",
      "Epoch 18/20\tTime 7.500 sec (7.584 sec)\n",
      "--------------------\n",
      "Epoch: 19/20\n",
      "Batch: [0/40]\tTime 0.845 (0.845)\tLoss 0.3870 (0.3870)\tAccuracy 0.8672 (0.8672)\n",
      "Batch: [10/40]\tTime 0.041 (0.198)\tLoss 0.3860 (0.4110)\tAccuracy 0.8672 (0.8338)\n",
      "Batch: [20/40]\tTime 0.400 (0.191)\tLoss 0.4447 (0.4109)\tAccuracy 0.8203 (0.8311)\n",
      "Batch: [30/40]\tTime 0.126 (0.182)\tLoss 0.3920 (0.4072)\tAccuracy 0.8203 (0.8317)\n",
      "----------\n",
      "Test: [0/4]\tTime 0.767 (0.767)\tLoss 0.3460 (0.3460)\tAccuracy 0.8750 (0.8750)\n",
      "Avg validation loss: 0.377626939535141 \t Accuracy: 0.854\n",
      "--------------------\n",
      "Epoch 19/20\tTime 7.612 sec (7.585 sec)\n",
      "--------------------\n",
      "Epoch: 20/20\n",
      "Batch: [0/40]\tTime 0.824 (0.824)\tLoss 0.3601 (0.3601)\tAccuracy 0.8750 (0.8750)\n",
      "Batch: [10/40]\tTime 0.032 (0.211)\tLoss 0.3947 (0.3882)\tAccuracy 0.8281 (0.8459)\n",
      "Batch: [20/40]\tTime 0.610 (0.204)\tLoss 0.4859 (0.4063)\tAccuracy 0.7188 (0.8266)\n",
      "Batch: [30/40]\tTime 0.060 (0.184)\tLoss 0.3622 (0.4019)\tAccuracy 0.8516 (0.8294)\n",
      "----------\n",
      "Test: [0/4]\tTime 0.751 (0.751)\tLoss 0.3355 (0.3355)\tAccuracy 0.8828 (0.8828)\n",
      "Avg validation loss: 0.36958100128173826 \t Accuracy: 0.856\n",
      "--------------------\n",
      "Epoch 20/20\tTime 7.645 sec (7.588 sec)\n",
      "--------------------\n",
      "Epoch: 21/20\n",
      "Batch: [0/40]\tTime 0.805 (0.805)\tLoss 0.4059 (0.4059)\tAccuracy 0.8516 (0.8516)\n",
      "Batch: [10/40]\tTime 0.033 (0.205)\tLoss 0.4270 (0.4058)\tAccuracy 0.8047 (0.8324)\n",
      "Batch: [20/40]\tTime 0.548 (0.202)\tLoss 0.3915 (0.3974)\tAccuracy 0.8516 (0.8326)\n",
      "Batch: [30/40]\tTime 0.032 (0.184)\tLoss 0.3983 (0.3927)\tAccuracy 0.8438 (0.8349)\n",
      "----------\n",
      "Test: [0/4]\tTime 0.810 (0.810)\tLoss 0.3326 (0.3326)\tAccuracy 0.8750 (0.8750)\n",
      "Avg validation loss: 0.36583728551864625 \t Accuracy: 0.854\n",
      "--------------------\n",
      "Epoch 21/20\tTime 7.707 sec (7.593 sec)\n",
      "--------------------\n",
      "Epoch: 22/20\n",
      "Batch: [0/40]\tTime 0.839 (0.839)\tLoss 0.4008 (0.4008)\tAccuracy 0.7656 (0.7656)\n",
      "Batch: [10/40]\tTime 0.052 (0.199)\tLoss 0.3821 (0.3817)\tAccuracy 0.8516 (0.8324)\n",
      "Batch: [20/40]\tTime 0.479 (0.194)\tLoss 0.4208 (0.3876)\tAccuracy 0.7969 (0.8367)\n",
      "Batch: [30/40]\tTime 0.085 (0.180)\tLoss 0.3354 (0.3894)\tAccuracy 0.8750 (0.8344)\n",
      "----------\n",
      "Test: [0/4]\tTime 0.770 (0.770)\tLoss 0.3277 (0.3277)\tAccuracy 0.8828 (0.8828)\n",
      "Avg validation loss: 0.361259437084198 \t Accuracy: 0.856\n",
      "--------------------\n",
      "Epoch 22/20\tTime 7.602 sec (7.594 sec)\n",
      "--------------------\n",
      "Epoch: 23/20\n",
      "Batch: [0/40]\tTime 0.853 (0.853)\tLoss 0.3524 (0.3524)\tAccuracy 0.8594 (0.8594)\n",
      "Batch: [10/40]\tTime 0.037 (0.202)\tLoss 0.3612 (0.3822)\tAccuracy 0.8594 (0.8381)\n",
      "Batch: [20/40]\tTime 0.617 (0.205)\tLoss 0.4008 (0.3875)\tAccuracy 0.8125 (0.8333)\n",
      "Batch: [30/40]\tTime 0.042 (0.186)\tLoss 0.3781 (0.3823)\tAccuracy 0.8281 (0.8372)\n",
      "----------\n",
      "Test: [0/4]\tTime 0.834 (0.834)\tLoss 0.3196 (0.3196)\tAccuracy 0.8984 (0.8984)\n",
      "Avg validation loss: 0.3550765373706818 \t Accuracy: 0.862\n",
      "--------------------\n",
      "Epoch 23/20\tTime 7.906 sec (7.607 sec)\n",
      "--------------------\n",
      "Epoch: 24/20\n",
      "Batch: [0/40]\tTime 0.856 (0.856)\tLoss 0.4182 (0.4182)\tAccuracy 0.8281 (0.8281)\n",
      "Batch: [10/40]\tTime 0.051 (0.216)\tLoss 0.3398 (0.3874)\tAccuracy 0.8984 (0.8438)\n",
      "Batch: [20/40]\tTime 0.478 (0.206)\tLoss 0.3758 (0.3881)\tAccuracy 0.8047 (0.8352)\n",
      "Batch: [30/40]\tTime 0.250 (0.193)\tLoss 0.4185 (0.3877)\tAccuracy 0.8281 (0.8344)\n",
      "----------\n",
      "Test: [0/4]\tTime 0.825 (0.825)\tLoss 0.3194 (0.3194)\tAccuracy 0.8828 (0.8828)\n",
      "Avg validation loss: 0.3535220293998718 \t Accuracy: 0.858\n",
      "--------------------\n",
      "Epoch 24/20\tTime 8.017 sec (7.623 sec)\n",
      "--------------------\n",
      "Epoch: 25/20\n",
      "Batch: [0/40]\tTime 0.821 (0.821)\tLoss 0.4145 (0.4145)\tAccuracy 0.8047 (0.8047)\n",
      "Batch: [10/40]\tTime 0.033 (0.208)\tLoss 0.3716 (0.3629)\tAccuracy 0.8906 (0.8509)\n",
      "Batch: [20/40]\tTime 0.626 (0.211)\tLoss 0.3613 (0.3684)\tAccuracy 0.8516 (0.8456)\n",
      "Batch: [30/40]\tTime 0.048 (0.190)\tLoss 0.3927 (0.3791)\tAccuracy 0.8359 (0.8380)\n",
      "----------\n",
      "Test: [0/4]\tTime 0.812 (0.812)\tLoss 0.3119 (0.3119)\tAccuracy 0.8984 (0.8984)\n",
      "Avg validation loss: 0.3477371921539307 \t Accuracy: 0.864\n",
      "--------------------\n",
      "Epoch 25/20\tTime 8.052 sec (7.640 sec)\n",
      "--------------------\n",
      "Epoch: 26/20\n",
      "Batch: [0/40]\tTime 0.915 (0.915)\tLoss 0.3475 (0.3475)\tAccuracy 0.8750 (0.8750)\n",
      "Batch: [10/40]\tTime 0.063 (0.207)\tLoss 0.3758 (0.3664)\tAccuracy 0.8594 (0.8445)\n",
      "Batch: [20/40]\tTime 0.542 (0.201)\tLoss 0.4111 (0.3731)\tAccuracy 0.8359 (0.8378)\n",
      "Batch: [30/40]\tTime 0.038 (0.180)\tLoss 0.3041 (0.3728)\tAccuracy 0.8984 (0.8387)\n",
      "----------\n",
      "Test: [0/4]\tTime 0.750 (0.750)\tLoss 0.3076 (0.3076)\tAccuracy 0.8984 (0.8984)\n",
      "Avg validation loss: 0.3439791407585144 \t Accuracy: 0.864\n",
      "--------------------\n",
      "Epoch 26/20\tTime 7.748 sec (7.644 sec)\n",
      "--------------------\n",
      "Epoch: 27/20\n",
      "Batch: [0/40]\tTime 0.792 (0.792)\tLoss 0.3536 (0.3536)\tAccuracy 0.8359 (0.8359)\n",
      "Batch: [10/40]\tTime 0.038 (0.206)\tLoss 0.3765 (0.3594)\tAccuracy 0.8359 (0.8402)\n",
      "Batch: [20/40]\tTime 0.500 (0.200)\tLoss 0.3037 (0.3755)\tAccuracy 0.8984 (0.8300)\n",
      "Batch: [30/40]\tTime 0.052 (0.179)\tLoss 0.3445 (0.3724)\tAccuracy 0.8516 (0.8364)\n",
      "----------\n",
      "Test: [0/4]\tTime 0.784 (0.784)\tLoss 0.3035 (0.3035)\tAccuracy 0.8984 (0.8984)\n",
      "Avg validation loss: 0.3404955315589905 \t Accuracy: 0.864\n",
      "--------------------\n",
      "Epoch 27/20\tTime 7.576 sec (7.641 sec)\n",
      "--------------------\n",
      "Epoch: 28/20\n",
      "Batch: [0/40]\tTime 0.866 (0.866)\tLoss 0.3916 (0.3916)\tAccuracy 0.8281 (0.8281)\n",
      "Batch: [10/40]\tTime 0.046 (0.217)\tLoss 0.3523 (0.3637)\tAccuracy 0.8516 (0.8423)\n",
      "Batch: [20/40]\tTime 0.463 (0.207)\tLoss 0.3624 (0.3674)\tAccuracy 0.8203 (0.8344)\n",
      "Batch: [30/40]\tTime 0.046 (0.192)\tLoss 0.3964 (0.3670)\tAccuracy 0.7969 (0.8380)\n",
      "----------\n",
      "Test: [0/4]\tTime 0.825 (0.825)\tLoss 0.3011 (0.3011)\tAccuracy 0.8984 (0.8984)\n",
      "Avg validation loss: 0.3379726700782776 \t Accuracy: 0.862\n",
      "--------------------\n",
      "Epoch 28/20\tTime 8.038 sec (7.655 sec)\n",
      "--------------------\n",
      "Epoch: 29/20\n",
      "Batch: [0/40]\tTime 0.870 (0.870)\tLoss 0.3303 (0.3303)\tAccuracy 0.8516 (0.8516)\n",
      "Batch: [10/40]\tTime 0.056 (0.217)\tLoss 0.3619 (0.3651)\tAccuracy 0.8516 (0.8430)\n",
      "Batch: [20/40]\tTime 0.542 (0.208)\tLoss 0.4068 (0.3689)\tAccuracy 0.7578 (0.8348)\n",
      "Batch: [30/40]\tTime 0.046 (0.189)\tLoss 0.3734 (0.3617)\tAccuracy 0.8203 (0.8430)\n",
      "----------\n",
      "Test: [0/4]\tTime 0.761 (0.761)\tLoss 0.2980 (0.2980)\tAccuracy 0.8906 (0.8906)\n",
      "Avg validation loss: 0.33507236433029175 \t Accuracy: 0.86\n",
      "--------------------\n",
      "Epoch 29/20\tTime 7.816 sec (7.660 sec)\n",
      "--------------------\n",
      "Epoch: 30/20\n",
      "Batch: [0/40]\tTime 0.782 (0.782)\tLoss 0.3288 (0.3288)\tAccuracy 0.8672 (0.8672)\n",
      "Batch: [10/40]\tTime 0.048 (0.200)\tLoss 0.3206 (0.3658)\tAccuracy 0.8672 (0.8395)\n",
      "Batch: [20/40]\tTime 0.585 (0.195)\tLoss 0.3444 (0.3597)\tAccuracy 0.8906 (0.8452)\n",
      "Batch: [30/40]\tTime 0.033 (0.176)\tLoss 0.3490 (0.3625)\tAccuracy 0.8516 (0.8422)\n",
      "----------\n",
      "Test: [0/4]\tTime 0.738 (0.738)\tLoss 0.2957 (0.2957)\tAccuracy 0.8906 (0.8906)\n",
      "Avg validation loss: 0.33284983015060426 \t Accuracy: 0.86\n",
      "--------------------\n",
      "Epoch 30/20\tTime 7.413 sec (7.652 sec)\n",
      "--------------------\n",
      "Epoch: 31/20\n",
      "Batch: [0/40]\tTime 0.812 (0.812)\tLoss 0.3240 (0.3240)\tAccuracy 0.8828 (0.8828)\n",
      "Batch: [10/40]\tTime 0.029 (0.199)\tLoss 0.3408 (0.3736)\tAccuracy 0.8125 (0.8409)\n",
      "Batch: [20/40]\tTime 0.579 (0.197)\tLoss 0.3677 (0.3651)\tAccuracy 0.8672 (0.8438)\n",
      "Batch: [30/40]\tTime 0.048 (0.177)\tLoss 0.3347 (0.3610)\tAccuracy 0.8672 (0.8443)\n",
      "----------\n",
      "Test: [0/4]\tTime 0.758 (0.758)\tLoss 0.2924 (0.2924)\tAccuracy 0.8906 (0.8906)\n",
      "Avg validation loss: 0.330057746887207 \t Accuracy: 0.858\n",
      "--------------------\n",
      "Epoch 31/20\tTime 7.467 sec (7.647 sec)\n",
      "--------------------\n",
      "Epoch: 32/20\n",
      "Batch: [0/40]\tTime 0.783 (0.783)\tLoss 0.3356 (0.3356)\tAccuracy 0.8594 (0.8594)\n",
      "Batch: [10/40]\tTime 0.040 (0.202)\tLoss 0.3044 (0.3407)\tAccuracy 0.8828 (0.8636)\n",
      "Batch: [20/40]\tTime 0.518 (0.199)\tLoss 0.4305 (0.3552)\tAccuracy 0.7500 (0.8456)\n",
      "Batch: [30/40]\tTime 0.033 (0.179)\tLoss 0.3267 (0.3559)\tAccuracy 0.8828 (0.8460)\n",
      "----------\n",
      "Test: [0/4]\tTime 0.751 (0.751)\tLoss 0.2915 (0.2915)\tAccuracy 0.8984 (0.8984)\n",
      "Avg validation loss: 0.3286682379245758 \t Accuracy: 0.862\n",
      "--------------------\n",
      "Epoch 32/20\tTime 7.573 sec (7.644 sec)\n",
      "--------------------\n",
      "Epoch: 33/20\n",
      "Batch: [0/40]\tTime 0.816 (0.816)\tLoss 0.3156 (0.3156)\tAccuracy 0.8750 (0.8750)\n",
      "Batch: [10/40]\tTime 0.050 (0.202)\tLoss 0.3374 (0.3409)\tAccuracy 0.8359 (0.8530)\n",
      "Batch: [20/40]\tTime 0.478 (0.191)\tLoss 0.3064 (0.3423)\tAccuracy 0.8828 (0.8504)\n",
      "Batch: [30/40]\tTime 0.224 (0.182)\tLoss 0.4474 (0.3538)\tAccuracy 0.7578 (0.8435)\n",
      "----------\n",
      "Test: [0/4]\tTime 0.719 (0.719)\tLoss 0.2859 (0.2859)\tAccuracy 0.8828 (0.8828)\n",
      "Avg validation loss: 0.3245374505519867 \t Accuracy: 0.858\n",
      "--------------------\n",
      "Epoch 33/20\tTime 7.487 sec (7.640 sec)\n",
      "--------------------\n",
      "Epoch: 34/20\n",
      "Batch: [0/40]\tTime 0.797 (0.797)\tLoss 0.2945 (0.2945)\tAccuracy 0.8516 (0.8516)\n",
      "Batch: [10/40]\tTime 0.046 (0.204)\tLoss 0.3297 (0.3522)\tAccuracy 0.8672 (0.8438)\n",
      "Batch: [20/40]\tTime 0.432 (0.192)\tLoss 0.4098 (0.3566)\tAccuracy 0.7969 (0.8449)\n",
      "Batch: [30/40]\tTime 0.048 (0.176)\tLoss 0.3312 (0.3526)\tAccuracy 0.8281 (0.8448)\n",
      "----------\n",
      "Test: [0/4]\tTime 0.756 (0.756)\tLoss 0.2826 (0.2826)\tAccuracy 0.8906 (0.8906)\n",
      "Avg validation loss: 0.32189849162101747 \t Accuracy: 0.862\n",
      "--------------------\n",
      "Epoch 34/20\tTime 7.398 sec (7.633 sec)\n",
      "--------------------\n",
      "Epoch: 35/20\n",
      "Batch: [0/40]\tTime 0.788 (0.788)\tLoss 0.3505 (0.3505)\tAccuracy 0.8750 (0.8750)\n",
      "Batch: [10/40]\tTime 0.051 (0.194)\tLoss 0.3718 (0.3464)\tAccuracy 0.8047 (0.8459)\n",
      "Batch: [20/40]\tTime 0.444 (0.188)\tLoss 0.3293 (0.3441)\tAccuracy 0.8594 (0.8508)\n",
      "Batch: [30/40]\tTime 0.192 (0.178)\tLoss 0.3248 (0.3462)\tAccuracy 0.8828 (0.8518)\n",
      "----------\n",
      "Test: [0/4]\tTime 0.713 (0.713)\tLoss 0.2821 (0.2821)\tAccuracy 0.8906 (0.8906)\n",
      "Avg validation loss: 0.3208246483802795 \t Accuracy: 0.864\n",
      "--------------------\n",
      "Epoch 35/20\tTime 7.454 sec (7.628 sec)\n",
      "--------------------\n",
      "Epoch: 36/20\n",
      "Batch: [0/40]\tTime 0.830 (0.830)\tLoss 0.3630 (0.3630)\tAccuracy 0.8359 (0.8359)\n",
      "Batch: [10/40]\tTime 0.081 (0.197)\tLoss 0.3605 (0.3424)\tAccuracy 0.8516 (0.8537)\n",
      "Batch: [20/40]\tTime 0.292 (0.185)\tLoss 0.3371 (0.3472)\tAccuracy 0.8359 (0.8497)\n",
      "Batch: [30/40]\tTime 0.386 (0.181)\tLoss 0.3619 (0.3480)\tAccuracy 0.8125 (0.8460)\n",
      "----------\n",
      "Test: [0/4]\tTime 0.737 (0.737)\tLoss 0.2771 (0.2771)\tAccuracy 0.8984 (0.8984)\n",
      "Avg validation loss: 0.31729011464118956 \t Accuracy: 0.866\n",
      "--------------------\n",
      "Epoch 36/20\tTime 7.424 sec (7.622 sec)\n",
      "--------------------\n",
      "Epoch: 37/20\n",
      "Batch: [0/40]\tTime 0.848 (0.848)\tLoss 0.2917 (0.2917)\tAccuracy 0.8984 (0.8984)\n",
      "Batch: [10/40]\tTime 0.054 (0.206)\tLoss 0.3265 (0.3246)\tAccuracy 0.8516 (0.8651)\n",
      "Batch: [20/40]\tTime 0.520 (0.197)\tLoss 0.3079 (0.3465)\tAccuracy 0.8828 (0.8471)\n",
      "Batch: [30/40]\tTime 0.033 (0.178)\tLoss 0.3380 (0.3509)\tAccuracy 0.8359 (0.8425)\n",
      "----------\n",
      "Test: [0/4]\tTime 0.728 (0.728)\tLoss 0.2797 (0.2797)\tAccuracy 0.8984 (0.8984)\n",
      "Avg validation loss: 0.3181441009044647 \t Accuracy: 0.866\n",
      "--------------------\n",
      "Epoch 37/20\tTime 7.482 sec (7.619 sec)\n",
      "--------------------\n",
      "Epoch: 38/20\n",
      "Batch: [0/40]\tTime 0.818 (0.818)\tLoss 0.3510 (0.3510)\tAccuracy 0.8750 (0.8750)\n",
      "Batch: [10/40]\tTime 0.051 (0.191)\tLoss 0.3400 (0.3505)\tAccuracy 0.8516 (0.8366)\n",
      "Batch: [20/40]\tTime 0.506 (0.188)\tLoss 0.2875 (0.3504)\tAccuracy 0.8906 (0.8404)\n",
      "Batch: [30/40]\tTime 0.056 (0.173)\tLoss 0.3103 (0.3462)\tAccuracy 0.8516 (0.8458)\n",
      "----------\n",
      "Test: [0/4]\tTime 0.737 (0.737)\tLoss 0.2750 (0.2750)\tAccuracy 0.8984 (0.8984)\n",
      "Avg validation loss: 0.31460962057113645 \t Accuracy: 0.866\n",
      "--------------------\n",
      "Epoch 38/20\tTime 7.322 sec (7.611 sec)\n",
      "--------------------\n",
      "Epoch: 39/20\n",
      "Batch: [0/40]\tTime 0.795 (0.795)\tLoss 0.3311 (0.3311)\tAccuracy 0.8594 (0.8594)\n",
      "Batch: [10/40]\tTime 0.065 (0.202)\tLoss 0.3508 (0.3490)\tAccuracy 0.8594 (0.8480)\n",
      "Batch: [20/40]\tTime 0.579 (0.198)\tLoss 0.3319 (0.3452)\tAccuracy 0.8516 (0.8508)\n",
      "Batch: [30/40]\tTime 0.032 (0.180)\tLoss 0.3365 (0.3430)\tAccuracy 0.8594 (0.8506)\n",
      "----------\n",
      "Test: [0/4]\tTime 0.781 (0.781)\tLoss 0.2754 (0.2754)\tAccuracy 0.8984 (0.8984)\n",
      "Avg validation loss: 0.31430369687080384 \t Accuracy: 0.866\n",
      "--------------------\n",
      "Epoch 39/20\tTime 7.562 sec (7.610 sec)\n",
      "--------------------\n"
     ]
    }
   ],
   "source": [
    "train_losses = []\n",
    "train_accs = []\n",
    "val_losses = []\n",
    "val_accs = []\n",
    "epoch_time = AverageMeter()\n",
    "ep_end = time.time()\n",
    "for epoch in range(0, 40):\n",
    "        print('Epoch: {}/{}'.format(epoch, num_epochs))\n",
    "        scheduler_cls.step()\n",
    "        scheduler_enc.step()\n",
    "        # train\n",
    "        train_loss, train_acc = train_encoder_classifier_epoch(advtrain_loader, encoder,\n",
    "                                adversary, opt_enc,\n",
    "                                opt_cls, criterion, device)\n",
    "        train_losses.append(train_loss)\n",
    "        train_accs.append(train_acc)\n",
    "        # validate\n",
    "        print('-'*10)\n",
    "        val_loss, val_acc = validate_encoder_classifier_epoch(advval_loader, encoder, adversary,\n",
    "                                 criterion, device)\n",
    "\n",
    "        print('Avg validation loss: {} \\t Accuracy: {}'.format(val_loss, val_acc))\n",
    "        val_losses.append(val_loss)\n",
    "        val_accs.append(val_acc)\n",
    "        \n",
    "        print('-' * 20)\n",
    "        epoch_time.update(time.time() - ep_end)\n",
    "        ep_end = time.time()\n",
    "        print('Epoch {}/{}\\t'\n",
    "              'Time {epoch_time.val:.3f} sec ({epoch_time.avg:.3f} sec)'.format(epoch, num_epochs, epoch_time=epoch_time))\n",
    "        print('-'*20)"
   ]
  },
  {
   "cell_type": "code",
   "execution_count": 46,
   "metadata": {},
   "outputs": [
    {
     "name": "stdout",
     "output_type": "stream",
     "text": [
      "Test: [0/4]\tTime 0.713 (0.713)\tLoss 0.2518 (0.2518)\tAccuracy 0.9297 (0.9297)\n"
     ]
    },
    {
     "name": "stderr",
     "output_type": "stream",
     "text": [
      "/home/var/anaconda3/envs/diss/lib/python3.6/site-packages/torch/nn/functional.py:1594: UserWarning: Using a target size (torch.Size([128])) that is different to the input size (torch.Size([128, 1])) is deprecated. Please ensure they have the same size.\n",
      "  \"Please ensure they have the same size.\".format(target.size(), input.size()))\n",
      "/home/var/anaconda3/envs/diss/lib/python3.6/site-packages/torch/nn/functional.py:1594: UserWarning: Using a target size (torch.Size([116])) that is different to the input size (torch.Size([116, 1])) is deprecated. Please ensure they have the same size.\n",
      "  \"Please ensure they have the same size.\".format(target.size(), input.size()))\n"
     ]
    },
    {
     "data": {
      "text/plain": [
       "(0.32469597864151, 0.864)"
      ]
     },
     "execution_count": 46,
     "metadata": {},
     "output_type": "execute_result"
    }
   ],
   "source": [
    "validate_encoder_classifier_epoch(advtest_loader, encoder, adversary, criterion, device)"
   ]
  },
  {
   "cell_type": "code",
   "execution_count": 47,
   "metadata": {},
   "outputs": [],
   "source": [
    "import matplotlib.pyplot as plt"
   ]
  },
  {
   "cell_type": "code",
   "execution_count": 48,
   "metadata": {},
   "outputs": [
    {
     "data": {
      "text/plain": [
       "[<matplotlib.lines.Line2D at 0x7fb018b02400>]"
      ]
     },
     "execution_count": 48,
     "metadata": {},
     "output_type": "execute_result"
    },
    {
     "data": {
      "image/png": "[encoded data removed]",
      "text/plain": [
       "<Figure size 432x288 with 4 Axes>"
      ]
     },
     "metadata": {},
     "output_type": "display_data"
    }
   ],
   "source": [
    "plt.subplot(221)\n",
    "plt.title('training classification loss')\n",
    "plt.plot(train_losses)\n",
    "plt.subplot(222)\n",
    "plt.title('training accuracy')\n",
    "plt.plot(train_accs)\n",
    "plt.subplot(223)\n",
    "plt.title('validation loss')\n",
    "plt.plot(val_losses)\n",
    "plt.subplot(224)\n",
    "plt.title('validation accuracy')\n",
    "plt.plot(val_accs)"
   ]
  },
  {
   "cell_type": "code",
   "execution_count": null,
   "metadata": {},
   "outputs": [],
   "source": []
  },
  {
   "cell_type": "code",
   "execution_count": null,
   "metadata": {},
   "outputs": [],
   "source": []
  },
  {
   "cell_type": "code",
   "execution_count": null,
   "metadata": {},
   "outputs": [],
   "source": []
  }
 ],
 "metadata": {
  "kernelspec": {
   "display_name": "Python 3",
   "language": "python",
   "name": "python3"
  },
  "language_info": {
   "codemirror_mode": {
    "name": "ipython",
    "version": 3
   },
   "file_extension": ".py",
   "mimetype": "text/x-python",
   "name": "python",
   "nbconvert_exporter": "python",
   "pygments_lexer": "ipython3",
   "version": "3.6.6"
  }
 },
 "nbformat": 4,
 "nbformat_minor": 2
}
