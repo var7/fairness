{
 "cells": [
  {
   "cell_type": "code",
   "execution_count": 1,
   "metadata": {},
   "outputs": [],
   "source": [
    "import pickle\n",
    "import pandas as pd\n",
    "import numpy as np\n",
    "import matplotlib.pyplot as plt\n",
    "import matplotlib\n",
    "import argparse\n",
    "\n",
    "plt.switch_backend('agg')\n",
    "# In[3]:\n",
    "font = {'weight' : 'bold',\n",
    "        'size'   : 22}\n",
    "\n",
    "matplotlib.rc('font', **font)\n",
    "\n",
    "import torch\n",
    "import torch.nn as nn\n",
    "import torch.backends.cudnn as cudnn\n",
    "import torch.optim as optim\n",
    "import torch.nn.functional as F\n",
    "import torch.optim.lr_scheduler as lr_scheduler\n",
    "from torchvision import transforms, utils, models, datasets\n",
    "from torch.utils.data import Dataset, DataLoader"
   ]
  },
  {
   "cell_type": "code",
   "execution_count": 2,
   "metadata": {},
   "outputs": [],
   "source": [
    "\n",
    "from synthetic_dataloader import *\n",
    "\n",
    "\n",
    "from synthetic_utils import *\n",
    "\n",
    "\n",
    "# In[5]:\n",
    "\n",
    "\n",
    "from trainer_dataloader import *\n",
    "from networks import *\n",
    "from losses import *\n",
    "\n",
    "\n",
    "# In[6]:"
   ]
  },
  {
   "cell_type": "code",
   "execution_count": 3,
   "metadata": {},
   "outputs": [
    {
     "name": "stdout",
     "output_type": "stream",
     "text": [
      "Device set: cuda\n"
     ]
    }
   ],
   "source": [
    "\n",
    "input_size = 96\n",
    "batch_size = 64\n",
    "num_workers = 4\n",
    "\n",
    "\n",
    "cuda = False\n",
    "pin_memory = False\n",
    "if torch.cuda.is_available():\n",
    "    device = torch.device(\"cuda\")\n",
    "    torch.set_default_tensor_type('torch.cuda.FloatTensor')\n",
    "    cuda = True\n",
    "    cudnn.benchmark = True\n",
    "    pin_memory = True\n",
    "else:\n",
    "    device = torch.device(\"cpu\")\n",
    "\n",
    "print('Device set: {}'.format(device))\n",
    "\n",
    "\n",
    "# In[8]:\n",
    "\n",
    "\n",
    "data_transforms = {\n",
    "        'train': transforms.Compose([\n",
    "            transforms.Resize((input_size, input_size)),\n",
    "            transforms.ToTensor(),\n",
    "            transforms.Normalize((0.5, 0.5, 0.5), (0.5, 0.5, 0.5))\n",
    "        ]),\n",
    "        'val': transforms.Compose([\n",
    "            transforms.Resize((input_size, input_size)),\n",
    "            transforms.ToTensor(),\n",
    "            transforms.Normalize((0.5, 0.5, 0.5), (0.5, 0.5, 0.5))\n",
    "        ])\n",
    "}\n",
    "\n"
   ]
  },
  {
   "cell_type": "code",
   "execution_count": 4,
   "metadata": {},
   "outputs": [
    {
     "name": "stdout",
     "output_type": "stream",
     "text": [
      "/home/s1791387/diss/gen_shapes/\n"
     ]
    }
   ],
   "source": [
    "# if independent:\n",
    "DATA_PATH = '/home/s1791387/diss/gen_shapes/'\n",
    "# else:\n",
    "#     DATA_PATH = '/home/s1791387/diss/dependent_gen/'\n",
    "print(DATA_PATH)\n",
    "TRAIN_PATH = os.path.join(DATA_PATH, 'train')\n",
    "VAL_PATH = os.path.join(DATA_PATH, 'valid')\n",
    "TEST_PATH = os.path.join(DATA_PATH, 'test')"
   ]
  },
  {
   "cell_type": "code",
   "execution_count": 5,
   "metadata": {},
   "outputs": [],
   "source": [
    "train_df = datasets.ImageFolder(root=TRAIN_PATH, transform=data_transforms['train'])\n",
    "val_df = datasets.ImageFolder(root=VAL_PATH, transform=data_transforms['val'])\n",
    "test_df = datasets.ImageFolder(root=TEST_PATH, transform=data_transforms['val'])"
   ]
  },
  {
   "cell_type": "code",
   "execution_count": 6,
   "metadata": {},
   "outputs": [],
   "source": [
    "LOAD_PATH = './bce_indep_2/weights/encoder_258_0.736.pth'"
   ]
  },
  {
   "cell_type": "code",
   "execution_count": 7,
   "metadata": {},
   "outputs": [],
   "source": [
    "laftr_encoder = torch.load(LOAD_PATH)"
   ]
  },
  {
   "cell_type": "code",
   "execution_count": 14,
   "metadata": {},
   "outputs": [],
   "source": [
    "gender_train = ShapeDataset(train_df)\n",
    "gender_valid = ShapeDataset(val_df)\n",
    "gender_test = ShapeDataset(test_df)"
   ]
  },
  {
   "cell_type": "code",
   "execution_count": 15,
   "metadata": {},
   "outputs": [],
   "source": [
    "advtrain_loader = DataLoader(gender_train, batch_size=batch_size, shuffle=True, num_workers=num_workers, pin_memory=pin_memory)\n",
    "advval_loader = DataLoader(gender_valid, batch_size=batch_size, shuffle=False, num_workers=num_workers, pin_memory=pin_memory)\n",
    "advtest_loader = DataLoader(gender_test, batch_size=batch_size, shuffle=False, num_workers=num_workers, pin_memory=pin_memory)"
   ]
  },
  {
   "cell_type": "code",
   "execution_count": 10,
   "metadata": {},
   "outputs": [],
   "source": [
    "classifier = ClassNet()\n",
    "\n",
    "adv_criterion = nn.BCELoss()\n",
    "opt_adv = optim.Adam(classifier.parameters(), lr=0.001, betas=(0.9, 0.999))\n",
    "scheduler_adv = lr_scheduler.StepLR(optimizer=opt_adv, gamma=0.99, step_size=1)"
   ]
  },
  {
   "cell_type": "code",
   "execution_count": 11,
   "metadata": {},
   "outputs": [
    {
     "name": "stdout",
     "output_type": "stream",
     "text": [
      "Epoch: 0/20\n"
     ]
    },
    {
     "name": "stderr",
     "output_type": "stream",
     "text": [
      "/home/s1791387/miniconda3/envs/diss/lib/python3.6/site-packages/torch/nn/functional.py:1594: UserWarning: Using a target size (torch.Size([64])) that is different to the input size (torch.Size([64, 1])) is deprecated. Please ensure they have the same size.\n",
      "  \"Please ensure they have the same size.\".format(target.size(), input.size()))\n"
     ]
    },
    {
     "name": "stdout",
     "output_type": "stream",
     "text": [
      "Batch: [0/79]\tTime 2.111 (2.111)\tLoss 0.6527 (0.6527)\tAccuracy 0.5938 (0.5938)\n",
      "Batch: [10/79]\tTime 0.034 (0.450)\tLoss 0.6352 (0.6633)\tAccuracy 0.6406 (0.5440)\n",
      "Batch: [20/79]\tTime 1.254 (0.435)\tLoss 0.6093 (0.6491)\tAccuracy 0.7031 (0.6146)\n",
      "Batch: [30/79]\tTime 0.058 (0.392)\tLoss 0.5721 (0.6347)\tAccuracy 0.8125 (0.6542)\n",
      "Batch: [40/79]\tTime 1.205 (0.401)\tLoss 0.5821 (0.6177)\tAccuracy 0.7344 (0.6814)\n",
      "Batch: [50/79]\tTime 0.029 (0.386)\tLoss 0.5828 (0.6069)\tAccuracy 0.6875 (0.6893)\n",
      "Batch: [60/79]\tTime 0.879 (0.387)\tLoss 0.5501 (0.5930)\tAccuracy 0.6875 (0.6980)\n",
      "Batch: [70/79]\tTime 0.032 (0.379)\tLoss 0.4838 (0.5839)\tAccuracy 0.7500 (0.7031)\n",
      "----------\n"
     ]
    },
    {
     "name": "stderr",
     "output_type": "stream",
     "text": [
      "/home/s1791387/miniconda3/envs/diss/lib/python3.6/site-packages/torch/nn/functional.py:1594: UserWarning: Using a target size (torch.Size([8])) that is different to the input size (torch.Size([8, 1])) is deprecated. Please ensure they have the same size.\n",
      "  \"Please ensure they have the same size.\".format(target.size(), input.size()))\n"
     ]
    },
    {
     "name": "stdout",
     "output_type": "stream",
     "text": [
      "Avg validation loss: 0.5238573751449584 \t Accuracy: 0.726\n",
      "--------------------\n",
      "Epoch 0/20\tTime 32.668 sec (32.668 sec)\n",
      "--------------------\n",
      "Epoch: 1/20\n"
     ]
    },
    {
     "name": "stderr",
     "output_type": "stream",
     "text": [
      "/home/s1791387/miniconda3/envs/diss/lib/python3.6/site-packages/torch/nn/functional.py:1594: UserWarning: Using a target size (torch.Size([52])) that is different to the input size (torch.Size([52, 1])) is deprecated. Please ensure they have the same size.\n",
      "  \"Please ensure they have the same size.\".format(target.size(), input.size()))\n"
     ]
    },
    {
     "name": "stdout",
     "output_type": "stream",
     "text": [
      "Batch: [0/79]\tTime 2.156 (2.156)\tLoss 0.4744 (0.4744)\tAccuracy 0.8125 (0.8125)\n",
      "Batch: [10/79]\tTime 0.032 (0.463)\tLoss 0.4427 (0.5044)\tAccuracy 0.8906 (0.7585)\n",
      "Batch: [20/79]\tTime 1.240 (0.442)\tLoss 0.4582 (0.5127)\tAccuracy 0.7812 (0.7493)\n",
      "Batch: [30/79]\tTime 0.021 (0.398)\tLoss 0.4792 (0.5103)\tAccuracy 0.7188 (0.7505)\n",
      "Batch: [40/79]\tTime 1.243 (0.405)\tLoss 0.4375 (0.5119)\tAccuracy 0.8125 (0.7470)\n",
      "Batch: [50/79]\tTime 0.032 (0.386)\tLoss 0.5122 (0.5103)\tAccuracy 0.7969 (0.7515)\n",
      "Batch: [60/79]\tTime 1.247 (0.392)\tLoss 0.4878 (0.5171)\tAccuracy 0.7500 (0.7428)\n",
      "Batch: [70/79]\tTime 0.036 (0.380)\tLoss 0.4829 (0.5179)\tAccuracy 0.7500 (0.7408)\n",
      "----------\n",
      "Avg validation loss: 0.5184384264945984 \t Accuracy: 0.724\n",
      "--------------------\n",
      "Epoch 1/20\tTime 32.645 sec (32.657 sec)\n",
      "--------------------\n",
      "Epoch: 2/20\n",
      "Batch: [0/79]\tTime 2.024 (2.024)\tLoss 0.5231 (0.5231)\tAccuracy 0.7500 (0.7500)\n",
      "Batch: [10/79]\tTime 0.077 (0.457)\tLoss 0.4056 (0.4817)\tAccuracy 0.8125 (0.7713)\n",
      "Batch: [20/79]\tTime 1.366 (0.441)\tLoss 0.5872 (0.4979)\tAccuracy 0.6875 (0.7522)\n",
      "Batch: [30/79]\tTime 0.056 (0.396)\tLoss 0.4832 (0.5062)\tAccuracy 0.7656 (0.7424)\n",
      "Batch: [40/79]\tTime 1.381 (0.404)\tLoss 0.5022 (0.5083)\tAccuracy 0.7812 (0.7435)\n",
      "Batch: [50/79]\tTime 0.049 (0.384)\tLoss 0.4730 (0.5096)\tAccuracy 0.7500 (0.7460)\n",
      "Batch: [60/79]\tTime 1.288 (0.391)\tLoss 0.5469 (0.5095)\tAccuracy 0.6875 (0.7477)\n",
      "Batch: [70/79]\tTime 0.070 (0.379)\tLoss 0.4490 (0.5136)\tAccuracy 0.7656 (0.7445)\n",
      "----------\n",
      "Avg validation loss: 0.5289511017799378 \t Accuracy: 0.7\n",
      "--------------------\n",
      "Epoch 2/20\tTime 32.621 sec (32.645 sec)\n",
      "--------------------\n",
      "Epoch: 3/20\n",
      "Batch: [0/79]\tTime 1.979 (1.979)\tLoss 0.4836 (0.4836)\tAccuracy 0.7969 (0.7969)\n",
      "Batch: [10/79]\tTime 0.052 (0.456)\tLoss 0.5156 (0.5179)\tAccuracy 0.7656 (0.7642)\n",
      "Batch: [20/79]\tTime 1.341 (0.442)\tLoss 0.5232 (0.5188)\tAccuracy 0.7500 (0.7478)\n",
      "Batch: [30/79]\tTime 0.025 (0.397)\tLoss 0.4914 (0.5068)\tAccuracy 0.7969 (0.7545)\n",
      "Batch: [40/79]\tTime 1.319 (0.405)\tLoss 0.4708 (0.5009)\tAccuracy 0.7344 (0.7534)\n",
      "Batch: [50/79]\tTime 0.042 (0.383)\tLoss 0.5401 (0.5089)\tAccuracy 0.7188 (0.7479)\n",
      "Batch: [60/79]\tTime 1.310 (0.390)\tLoss 0.5658 (0.5103)\tAccuracy 0.7031 (0.7441)\n",
      "Batch: [70/79]\tTime 0.055 (0.377)\tLoss 0.4711 (0.5143)\tAccuracy 0.8125 (0.7441)\n",
      "----------\n",
      "Avg validation loss: 0.5297365734577179 \t Accuracy: 0.702\n",
      "--------------------\n",
      "Epoch 3/20\tTime 32.478 sec (32.603 sec)\n",
      "--------------------\n",
      "Epoch: 4/20\n",
      "Batch: [0/79]\tTime 2.080 (2.080)\tLoss 0.5233 (0.5233)\tAccuracy 0.7656 (0.7656)\n",
      "Batch: [10/79]\tTime 0.038 (0.463)\tLoss 0.5349 (0.5163)\tAccuracy 0.7031 (0.7372)\n",
      "Batch: [20/79]\tTime 1.350 (0.445)\tLoss 0.4989 (0.5193)\tAccuracy 0.7188 (0.7351)\n",
      "Batch: [30/79]\tTime 0.052 (0.400)\tLoss 0.5632 (0.5150)\tAccuracy 0.6875 (0.7389)\n",
      "Batch: [40/79]\tTime 1.324 (0.408)\tLoss 0.5858 (0.5275)\tAccuracy 0.7031 (0.7256)\n",
      "Batch: [50/79]\tTime 0.029 (0.385)\tLoss 0.5941 (0.5269)\tAccuracy 0.6562 (0.7233)\n",
      "Batch: [60/79]\tTime 1.323 (0.394)\tLoss 0.5291 (0.5226)\tAccuracy 0.7500 (0.7272)\n",
      "Batch: [70/79]\tTime 0.034 (0.379)\tLoss 0.4642 (0.5202)\tAccuracy 0.7656 (0.7306)\n",
      "----------\n",
      "Avg validation loss: 0.5213231201171875 \t Accuracy: 0.732\n",
      "--------------------\n",
      "Epoch 4/20\tTime 32.647 sec (32.612 sec)\n",
      "--------------------\n",
      "Epoch: 5/20\n",
      "Batch: [0/79]\tTime 2.144 (2.144)\tLoss 0.5465 (0.5465)\tAccuracy 0.7500 (0.7500)\n",
      "Batch: [10/79]\tTime 0.050 (0.464)\tLoss 0.5192 (0.5197)\tAccuracy 0.7031 (0.7557)\n",
      "Batch: [20/79]\tTime 1.285 (0.444)\tLoss 0.5150 (0.5173)\tAccuracy 0.7344 (0.7433)\n",
      "Batch: [30/79]\tTime 0.052 (0.398)\tLoss 0.5490 (0.5149)\tAccuracy 0.7344 (0.7455)\n",
      "Batch: [40/79]\tTime 1.332 (0.405)\tLoss 0.5132 (0.5161)\tAccuracy 0.7500 (0.7416)\n",
      "Batch: [50/79]\tTime 0.035 (0.383)\tLoss 0.4400 (0.5144)\tAccuracy 0.7344 (0.7390)\n",
      "Batch: [60/79]\tTime 1.279 (0.391)\tLoss 0.6493 (0.5204)\tAccuracy 0.6406 (0.7344)\n",
      "Batch: [70/79]\tTime 0.050 (0.378)\tLoss 0.5492 (0.5163)\tAccuracy 0.7031 (0.7353)\n",
      "----------\n",
      "Avg validation loss: 0.5177870740890503 \t Accuracy: 0.724\n",
      "--------------------\n",
      "Epoch 5/20\tTime 32.534 sec (32.599 sec)\n",
      "--------------------\n",
      "Epoch: 6/20\n",
      "Batch: [0/79]\tTime 2.064 (2.064)\tLoss 0.5060 (0.5060)\tAccuracy 0.7188 (0.7188)\n",
      "Batch: [10/79]\tTime 0.052 (0.450)\tLoss 0.5667 (0.5227)\tAccuracy 0.6719 (0.7330)\n",
      "Batch: [20/79]\tTime 1.340 (0.440)\tLoss 0.5477 (0.5373)\tAccuracy 0.7812 (0.7254)\n",
      "Batch: [30/79]\tTime 0.021 (0.394)\tLoss 0.4915 (0.5328)\tAccuracy 0.7188 (0.7223)\n",
      "Batch: [40/79]\tTime 1.283 (0.401)\tLoss 0.5498 (0.5286)\tAccuracy 0.7656 (0.7252)\n",
      "Batch: [50/79]\tTime 0.043 (0.384)\tLoss 0.4307 (0.5226)\tAccuracy 0.8281 (0.7328)\n",
      "Batch: [60/79]\tTime 1.289 (0.390)\tLoss 0.5277 (0.5183)\tAccuracy 0.7188 (0.7351)\n",
      "Batch: [70/79]\tTime 0.022 (0.377)\tLoss 0.6118 (0.5169)\tAccuracy 0.6719 (0.7350)\n",
      "----------\n",
      "Avg validation loss: 0.5404603400230408 \t Accuracy: 0.688\n",
      "--------------------\n",
      "Epoch 6/20\tTime 32.493 sec (32.584 sec)\n",
      "--------------------\n",
      "Epoch: 7/20\n",
      "Batch: [0/79]\tTime 2.044 (2.044)\tLoss 0.6046 (0.6046)\tAccuracy 0.7656 (0.7656)\n",
      "Batch: [10/79]\tTime 0.060 (0.460)\tLoss 0.4958 (0.5352)\tAccuracy 0.7656 (0.7216)\n",
      "Batch: [20/79]\tTime 1.268 (0.441)\tLoss 0.5046 (0.5332)\tAccuracy 0.7500 (0.7247)\n",
      "Batch: [30/79]\tTime 0.048 (0.399)\tLoss 0.4511 (0.5231)\tAccuracy 0.7500 (0.7273)\n",
      "Batch: [40/79]\tTime 1.337 (0.407)\tLoss 0.5224 (0.5225)\tAccuracy 0.7500 (0.7248)\n",
      "Batch: [50/79]\tTime 0.054 (0.386)\tLoss 0.4531 (0.5198)\tAccuracy 0.8125 (0.7338)\n",
      "Batch: [60/79]\tTime 1.372 (0.394)\tLoss 0.4658 (0.5213)\tAccuracy 0.7812 (0.7310)\n",
      "Batch: [70/79]\tTime 0.029 (0.380)\tLoss 0.4196 (0.5187)\tAccuracy 0.8125 (0.7339)\n",
      "----------\n",
      "Avg validation loss: 0.5223974297046662 \t Accuracy: 0.714\n",
      "--------------------\n",
      "Epoch 7/20\tTime 32.659 sec (32.593 sec)\n",
      "--------------------\n",
      "Epoch: 8/20\n",
      "Batch: [0/79]\tTime 2.129 (2.129)\tLoss 0.5890 (0.5890)\tAccuracy 0.7031 (0.7031)\n",
      "Batch: [10/79]\tTime 0.111 (0.525)\tLoss 0.4995 (0.5191)\tAccuracy 0.7656 (0.7457)\n",
      "Batch: [20/79]\tTime 1.414 (0.509)\tLoss 0.5080 (0.5101)\tAccuracy 0.7969 (0.7485)\n",
      "Batch: [30/79]\tTime 0.034 (0.442)\tLoss 0.4931 (0.5154)\tAccuracy 0.7344 (0.7374)\n",
      "Batch: [40/79]\tTime 1.416 (0.444)\tLoss 0.5391 (0.5090)\tAccuracy 0.7188 (0.7431)\n",
      "Batch: [50/79]\tTime 0.028 (0.416)\tLoss 0.5733 (0.5150)\tAccuracy 0.6406 (0.7377)\n",
      "Batch: [60/79]\tTime 1.299 (0.420)\tLoss 0.4799 (0.5110)\tAccuracy 0.7812 (0.7436)\n",
      "Batch: [70/79]\tTime 0.061 (0.403)\tLoss 0.5322 (0.5098)\tAccuracy 0.6875 (0.7419)\n",
      "----------\n",
      "Avg validation loss: 0.5167773084640503 \t Accuracy: 0.722\n",
      "--------------------\n",
      "Epoch 8/20\tTime 34.301 sec (32.783 sec)\n",
      "--------------------\n",
      "Epoch: 9/20\n",
      "Batch: [0/79]\tTime 2.036 (2.036)\tLoss 0.4277 (0.4277)\tAccuracy 0.7656 (0.7656)\n",
      "Batch: [10/79]\tTime 0.031 (0.461)\tLoss 0.5956 (0.5108)\tAccuracy 0.6562 (0.7429)\n",
      "Batch: [20/79]\tTime 1.307 (0.443)\tLoss 0.4886 (0.5098)\tAccuracy 0.7656 (0.7403)\n",
      "Batch: [30/79]\tTime 0.073 (0.397)\tLoss 0.5743 (0.5090)\tAccuracy 0.6719 (0.7379)\n",
      "Batch: [40/79]\tTime 1.277 (0.405)\tLoss 0.5491 (0.5118)\tAccuracy 0.6562 (0.7313)\n",
      "Batch: [50/79]\tTime 0.058 (0.384)\tLoss 0.4467 (0.5090)\tAccuracy 0.7812 (0.7344)\n",
      "Batch: [60/79]\tTime 1.332 (0.391)\tLoss 0.5224 (0.5107)\tAccuracy 0.7031 (0.7349)\n",
      "Batch: [70/79]\tTime 0.065 (0.379)\tLoss 0.4901 (0.5114)\tAccuracy 0.7812 (0.7348)\n",
      "----------\n",
      "Avg validation loss: 0.5148916745185852 \t Accuracy: 0.728\n",
      "--------------------\n",
      "Epoch 9/20\tTime 32.555 sec (32.760 sec)\n",
      "--------------------\n",
      "Epoch: 10/20\n",
      "Batch: [0/79]\tTime 2.099 (2.099)\tLoss 0.5128 (0.5128)\tAccuracy 0.7812 (0.7812)\n",
      "Batch: [10/79]\tTime 0.026 (0.460)\tLoss 0.6325 (0.5159)\tAccuracy 0.6562 (0.7273)\n",
      "Batch: [20/79]\tTime 1.271 (0.441)\tLoss 0.4407 (0.5141)\tAccuracy 0.7812 (0.7321)\n",
      "Batch: [30/79]\tTime 0.034 (0.400)\tLoss 0.4547 (0.5076)\tAccuracy 0.8281 (0.7475)\n",
      "Batch: [40/79]\tTime 1.357 (0.422)\tLoss 0.4655 (0.5137)\tAccuracy 0.7969 (0.7401)\n",
      "Batch: [50/79]\tTime 0.024 (0.400)\tLoss 0.5866 (0.5098)\tAccuracy 0.7656 (0.7445)\n",
      "Batch: [60/79]\tTime 1.308 (0.407)\tLoss 0.4934 (0.5085)\tAccuracy 0.7500 (0.7449)\n",
      "Batch: [70/79]\tTime 0.046 (0.404)\tLoss 0.4814 (0.5124)\tAccuracy 0.7969 (0.7425)\n",
      "----------\n",
      "Avg validation loss: 0.5144033493995667 \t Accuracy: 0.724\n",
      "--------------------\n",
      "Epoch 10/20\tTime 34.965 sec (32.961 sec)\n",
      "--------------------\n",
      "Epoch: 11/20\n",
      "Batch: [0/79]\tTime 1.968 (1.968)\tLoss 0.5221 (0.5221)\tAccuracy 0.7500 (0.7500)\n",
      "Batch: [10/79]\tTime 0.031 (0.455)\tLoss 0.4974 (0.5282)\tAccuracy 0.7812 (0.7301)\n",
      "Batch: [20/79]\tTime 1.230 (0.436)\tLoss 0.4641 (0.5083)\tAccuracy 0.7500 (0.7321)\n",
      "Batch: [30/79]\tTime 0.035 (0.394)\tLoss 0.5266 (0.5132)\tAccuracy 0.7188 (0.7314)\n",
      "Batch: [40/79]\tTime 1.407 (0.405)\tLoss 0.4948 (0.5106)\tAccuracy 0.8281 (0.7363)\n",
      "Batch: [50/79]\tTime 0.047 (0.384)\tLoss 0.6009 (0.5127)\tAccuracy 0.6406 (0.7356)\n",
      "Batch: [60/79]\tTime 1.284 (0.391)\tLoss 0.5119 (0.5102)\tAccuracy 0.7031 (0.7385)\n",
      "Batch: [70/79]\tTime 0.055 (0.377)\tLoss 0.4462 (0.5135)\tAccuracy 0.8125 (0.7370)\n",
      "----------\n",
      "Avg validation loss: 0.5145777478218079 \t Accuracy: 0.728\n",
      "--------------------\n",
      "Epoch 11/20\tTime 32.454 sec (32.918 sec)\n",
      "--------------------\n",
      "Epoch: 12/20\n",
      "Batch: [0/79]\tTime 2.031 (2.031)\tLoss 0.4531 (0.4531)\tAccuracy 0.7969 (0.7969)\n",
      "Batch: [10/79]\tTime 0.044 (0.456)\tLoss 0.5067 (0.5157)\tAccuracy 0.7500 (0.7486)\n",
      "Batch: [20/79]\tTime 1.291 (0.444)\tLoss 0.4520 (0.5045)\tAccuracy 0.7812 (0.7552)\n",
      "Batch: [30/79]\tTime 0.055 (0.398)\tLoss 0.5933 (0.5147)\tAccuracy 0.6406 (0.7414)\n",
      "Batch: [40/79]\tTime 1.534 (0.413)\tLoss 0.4516 (0.5141)\tAccuracy 0.7500 (0.7431)\n",
      "Batch: [50/79]\tTime 0.032 (0.403)\tLoss 0.5767 (0.5110)\tAccuracy 0.7500 (0.7442)\n",
      "Batch: [60/79]\tTime 1.297 (0.418)\tLoss 0.4918 (0.5115)\tAccuracy 0.7188 (0.7462)\n",
      "Batch: [70/79]\tTime 0.057 (0.405)\tLoss 0.5334 (0.5091)\tAccuracy 0.7188 (0.7491)\n",
      "----------\n",
      "Avg validation loss: 0.5137630558013916 \t Accuracy: 0.728\n",
      "--------------------\n",
      "Epoch 12/20\tTime 34.647 sec (33.051 sec)\n",
      "--------------------\n",
      "Epoch: 13/20\n",
      "Batch: [0/79]\tTime 2.031 (2.031)\tLoss 0.6088 (0.6088)\tAccuracy 0.6562 (0.6562)\n",
      "Batch: [10/79]\tTime 0.048 (0.459)\tLoss 0.5702 (0.5193)\tAccuracy 0.7031 (0.7287)\n",
      "Batch: [20/79]\tTime 1.361 (0.454)\tLoss 0.5417 (0.5051)\tAccuracy 0.6719 (0.7411)\n",
      "Batch: [30/79]\tTime 0.045 (0.406)\tLoss 0.5914 (0.5103)\tAccuracy 0.6406 (0.7394)\n",
      "Batch: [40/79]\tTime 1.630 (0.422)\tLoss 0.4920 (0.5077)\tAccuracy 0.7031 (0.7416)\n",
      "Batch: [50/79]\tTime 0.034 (0.399)\tLoss 0.4700 (0.5063)\tAccuracy 0.8281 (0.7469)\n",
      "Batch: [60/79]\tTime 1.310 (0.404)\tLoss 0.5868 (0.5089)\tAccuracy 0.7031 (0.7433)\n",
      "Batch: [70/79]\tTime 0.035 (0.388)\tLoss 0.5043 (0.5097)\tAccuracy 0.7500 (0.7416)\n",
      "----------\n",
      "Avg validation loss: 0.5211378078460693 \t Accuracy: 0.716\n",
      "--------------------\n",
      "Epoch 13/20\tTime 34.085 sec (33.125 sec)\n",
      "--------------------\n",
      "Epoch: 14/20\n",
      "Batch: [0/79]\tTime 2.599 (2.599)\tLoss 0.5195 (0.5195)\tAccuracy 0.6875 (0.6875)\n",
      "Batch: [10/79]\tTime 0.047 (0.515)\tLoss 0.5857 (0.5045)\tAccuracy 0.6562 (0.7330)\n",
      "Batch: [20/79]\tTime 1.359 (0.473)\tLoss 0.4572 (0.5108)\tAccuracy 0.8125 (0.7359)\n",
      "Batch: [30/79]\tTime 0.062 (0.415)\tLoss 0.5124 (0.5132)\tAccuracy 0.6719 (0.7308)\n",
      "Batch: [40/79]\tTime 1.397 (0.419)\tLoss 0.5834 (0.5186)\tAccuracy 0.6875 (0.7325)\n",
      "Batch: [50/79]\tTime 0.069 (0.395)\tLoss 0.4462 (0.5165)\tAccuracy 0.7812 (0.7356)\n",
      "Batch: [60/79]\tTime 1.264 (0.401)\tLoss 0.5650 (0.5131)\tAccuracy 0.7031 (0.7387)\n",
      "Batch: [70/79]\tTime 0.070 (0.387)\tLoss 0.4587 (0.5124)\tAccuracy 0.7500 (0.7386)\n",
      "----------\n",
      "Avg validation loss: 0.5130290985107422 \t Accuracy: 0.732\n",
      "--------------------\n",
      "Epoch 14/20\tTime 33.228 sec (33.132 sec)\n",
      "--------------------\n",
      "Epoch: 15/20\n",
      "Batch: [0/79]\tTime 2.055 (2.055)\tLoss 0.5325 (0.5325)\tAccuracy 0.7500 (0.7500)\n",
      "Batch: [10/79]\tTime 0.064 (0.456)\tLoss 0.5402 (0.5208)\tAccuracy 0.7031 (0.7216)\n",
      "Batch: [20/79]\tTime 1.289 (0.441)\tLoss 0.5032 (0.5303)\tAccuracy 0.7344 (0.7247)\n",
      "Batch: [30/79]\tTime 0.055 (0.398)\tLoss 0.5777 (0.5244)\tAccuracy 0.7188 (0.7319)\n",
      "Batch: [40/79]\tTime 1.280 (0.404)\tLoss 0.4329 (0.5221)\tAccuracy 0.7812 (0.7294)\n",
      "Batch: [50/79]\tTime 0.036 (0.385)\tLoss 0.4421 (0.5197)\tAccuracy 0.7188 (0.7261)\n",
      "Batch: [60/79]\tTime 1.275 (0.393)\tLoss 0.4910 (0.5177)\tAccuracy 0.7344 (0.7269)\n",
      "Batch: [70/79]\tTime 0.047 (0.382)\tLoss 0.4312 (0.5176)\tAccuracy 0.8281 (0.7304)\n",
      "----------\n",
      "Avg validation loss: 0.5149481678009034 \t Accuracy: 0.732\n",
      "--------------------\n",
      "Epoch 15/20\tTime 33.854 sec (33.177 sec)\n",
      "--------------------\n",
      "Epoch: 16/20\n",
      "Batch: [0/79]\tTime 2.412 (2.412)\tLoss 0.5351 (0.5351)\tAccuracy 0.7344 (0.7344)\n",
      "Batch: [10/79]\tTime 0.052 (0.496)\tLoss 0.3922 (0.5254)\tAccuracy 0.8125 (0.7401)\n",
      "Batch: [20/79]\tTime 1.310 (0.457)\tLoss 0.5108 (0.5138)\tAccuracy 0.7812 (0.7485)\n",
      "Batch: [30/79]\tTime 0.058 (0.406)\tLoss 0.5620 (0.5159)\tAccuracy 0.6562 (0.7485)\n",
      "Batch: [40/79]\tTime 1.261 (0.412)\tLoss 0.4484 (0.5151)\tAccuracy 0.8438 (0.7470)\n",
      "Batch: [50/79]\tTime 0.025 (0.390)\tLoss 0.4503 (0.5139)\tAccuracy 0.7656 (0.7466)\n",
      "Batch: [60/79]\tTime 1.227 (0.395)\tLoss 0.4493 (0.5138)\tAccuracy 0.7812 (0.7451)\n",
      "Batch: [70/79]\tTime 0.037 (0.383)\tLoss 0.5030 (0.5158)\tAccuracy 0.7656 (0.7423)\n",
      "----------\n",
      "Avg validation loss: 0.514425930261612 \t Accuracy: 0.732\n",
      "--------------------\n",
      "Epoch 16/20\tTime 32.867 sec (33.159 sec)\n",
      "--------------------\n",
      "Epoch: 17/20\n",
      "Batch: [0/79]\tTime 2.159 (2.159)\tLoss 0.5553 (0.5553)\tAccuracy 0.6875 (0.6875)\n",
      "Batch: [10/79]\tTime 0.044 (0.463)\tLoss 0.4992 (0.5315)\tAccuracy 0.7656 (0.7429)\n",
      "Batch: [20/79]\tTime 1.752 (0.479)\tLoss 0.5656 (0.5377)\tAccuracy 0.6875 (0.7307)\n",
      "Batch: [30/79]\tTime 0.053 (0.448)\tLoss 0.5238 (0.5343)\tAccuracy 0.7656 (0.7303)\n",
      "Batch: [40/79]\tTime 1.357 (0.446)\tLoss 0.5699 (0.5253)\tAccuracy 0.6875 (0.7363)\n",
      "Batch: [50/79]\tTime 0.050 (0.418)\tLoss 0.5695 (0.5235)\tAccuracy 0.6719 (0.7365)\n",
      "Batch: [60/79]\tTime 1.310 (0.419)\tLoss 0.4910 (0.5208)\tAccuracy 0.7031 (0.7377)\n",
      "Batch: [70/79]\tTime 0.057 (0.427)\tLoss 0.5216 (0.5136)\tAccuracy 0.7344 (0.7427)\n",
      "----------\n",
      "Avg validation loss: 0.5126361112594604 \t Accuracy: 0.728\n",
      "--------------------\n",
      "Epoch 17/20\tTime 35.997 sec (33.317 sec)\n",
      "--------------------\n",
      "Epoch: 18/20\n",
      "Batch: [0/79]\tTime 2.101 (2.101)\tLoss 0.4434 (0.4434)\tAccuracy 0.7500 (0.7500)\n",
      "Batch: [10/79]\tTime 0.036 (0.475)\tLoss 0.4621 (0.4908)\tAccuracy 0.7500 (0.7528)\n",
      "Batch: [20/79]\tTime 1.309 (0.456)\tLoss 0.4371 (0.4912)\tAccuracy 0.7188 (0.7530)\n",
      "Batch: [30/79]\tTime 0.020 (0.410)\tLoss 0.6117 (0.4881)\tAccuracy 0.6562 (0.7586)\n",
      "Batch: [40/79]\tTime 1.362 (0.414)\tLoss 0.5705 (0.4973)\tAccuracy 0.7031 (0.7500)\n",
      "Batch: [50/79]\tTime 0.038 (0.391)\tLoss 0.5474 (0.5042)\tAccuracy 0.7344 (0.7485)\n",
      "Batch: [60/79]\tTime 1.303 (0.401)\tLoss 0.4901 (0.5079)\tAccuracy 0.7344 (0.7421)\n",
      "Batch: [70/79]\tTime 0.025 (0.393)\tLoss 0.5970 (0.5096)\tAccuracy 0.6562 (0.7425)\n",
      "----------\n",
      "Avg validation loss: 0.5126817626953125 \t Accuracy: 0.732\n",
      "--------------------\n",
      "Epoch 18/20\tTime 34.432 sec (33.375 sec)\n",
      "--------------------\n",
      "Epoch: 19/20\n",
      "Batch: [0/79]\tTime 2.079 (2.079)\tLoss 0.5052 (0.5052)\tAccuracy 0.7500 (0.7500)\n",
      "Batch: [10/79]\tTime 0.042 (0.459)\tLoss 0.4268 (0.5161)\tAccuracy 0.8281 (0.7528)\n",
      "Batch: [20/79]\tTime 1.288 (0.438)\tLoss 0.5638 (0.5189)\tAccuracy 0.6719 (0.7418)\n",
      "Batch: [30/79]\tTime 0.041 (0.396)\tLoss 0.5154 (0.5088)\tAccuracy 0.7344 (0.7500)\n",
      "Batch: [40/79]\tTime 1.264 (0.401)\tLoss 0.5268 (0.5092)\tAccuracy 0.7656 (0.7447)\n",
      "Batch: [50/79]\tTime 0.031 (0.383)\tLoss 0.5032 (0.5061)\tAccuracy 0.7344 (0.7472)\n",
      "Batch: [60/79]\tTime 1.242 (0.390)\tLoss 0.5364 (0.5120)\tAccuracy 0.7031 (0.7428)\n",
      "Batch: [70/79]\tTime 0.031 (0.378)\tLoss 0.4513 (0.5097)\tAccuracy 0.8125 (0.7447)\n",
      "----------\n",
      "Avg validation loss: 0.511704144001007 \t Accuracy: 0.73\n",
      "--------------------\n",
      "Epoch 19/20\tTime 32.618 sec (33.337 sec)\n",
      "--------------------\n"
     ]
    }
   ],
   "source": [
    "num_epochs = 20\n",
    "train_losses = []\n",
    "train_accs = []\n",
    "val_losses = []\n",
    "val_accs = []\n",
    "epoch_time = AverageMeter()\n",
    "ep_end = time.time()\n",
    "for epoch in range(0, num_epochs):\n",
    "        print('Epoch: {}/{}'.format(epoch, num_epochs))\n",
    "        scheduler_adv.step()\n",
    "        # train\n",
    "        train_loss, train_acc = train_classifier_epoch(advtrain_loader, laftr_encoder,\n",
    "                                classifier, opt_adv, adv_criterion, device)\n",
    "        train_losses.append(train_loss)\n",
    "        train_accs.append(train_acc)\n",
    "        # validate\n",
    "        print('-'*10)\n",
    "        val_loss, val_acc = validate_classifier_epoch(advval_loader, laftr_encoder, classifier,\n",
    "                                 adv_criterion, device)\n",
    "\n",
    "        print('Avg validation loss: {} \\t Accuracy: {}'.format(val_loss, val_acc))\n",
    "        val_losses.append(val_loss)\n",
    "        val_accs.append(val_acc)\n",
    "        \n",
    "        print('-' * 20)\n",
    "        epoch_time.update(time.time() - ep_end)\n",
    "        ep_end = time.time()\n",
    "        print('Epoch {}/{}\\t'\n",
    "              'Time {epoch_time.val:.3f} sec ({epoch_time.avg:.3f} sec)'.format(epoch, num_epochs, epoch_time=epoch_time))\n",
    "        print('-'*20)"
   ]
  },
  {
   "cell_type": "code",
   "execution_count": 12,
   "metadata": {},
   "outputs": [
    {
     "data": {
      "image/png": "[encoded data removed]",
      "text/plain": [
       "<Figure size 720x720 with 4 Axes>"
      ]
     },
     "metadata": {},
     "output_type": "display_data"
    }
   ],
   "source": [
    "plt.figure(figsize=(10,10))\n",
    "plt.subplot(221)\n",
    "plt.title('training classification loss')\n",
    "plt.plot(train_losses)\n",
    "plt.subplot(222)\n",
    "plt.title('training accuracy')\n",
    "plt.plot(train_accs)\n",
    "plt.subplot(223)\n",
    "plt.title('validation loss')\n",
    "plt.plot(val_losses)\n",
    "plt.subplot(224)\n",
    "plt.title('validation accuracy')\n",
    "plt.plot(val_accs)\n",
    "# plt.legend()\n",
    "plt.tight_layout()"
   ]
  },
  {
   "cell_type": "code",
   "execution_count": 16,
   "metadata": {},
   "outputs": [
    {
     "name": "stderr",
     "output_type": "stream",
     "text": [
      "/home/s1791387/miniconda3/envs/diss/lib/python3.6/site-packages/torch/nn/functional.py:1594: UserWarning: Using a target size (torch.Size([64])) that is different to the input size (torch.Size([64, 1])) is deprecated. Please ensure they have the same size.\n",
      "  \"Please ensure they have the same size.\".format(target.size(), input.size()))\n",
      "/home/s1791387/miniconda3/envs/diss/lib/python3.6/site-packages/torch/nn/functional.py:1594: UserWarning: Using a target size (torch.Size([52])) that is different to the input size (torch.Size([52, 1])) is deprecated. Please ensure they have the same size.\n",
      "  \"Please ensure they have the same size.\".format(target.size(), input.size()))\n"
     ]
    }
   ],
   "source": [
    "test_loss, test_acc = validate_classifier_epoch(advtest_loader, laftr_encoder, classifier,\n",
    "                                 adv_criterion, device)\n",
    "test_loss, test_acc"
   ]
  },
  {
   "cell_type": "code",
   "execution_count": 17,
   "metadata": {},
   "outputs": [
    {
     "data": {
      "text/plain": [
       "(0.5254635486602783, 0.718)"
      ]
     },
     "execution_count": 17,
     "metadata": {},
     "output_type": "execute_result"
    }
   ],
   "source": [
    "test_loss, test_acc"
   ]
  },
  {
   "cell_type": "code",
   "execution_count": null,
   "metadata": {},
   "outputs": [],
   "source": []
  }
 ],
 "metadata": {
  "kernelspec": {
   "display_name": "Python 3",
   "language": "python",
   "name": "python3"
  },
  "language_info": {
   "codemirror_mode": {
    "name": "ipython",
    "version": 3
   },
   "file_extension": ".py",
   "mimetype": "text/x-python",
   "name": "python",
   "nbconvert_exporter": "python",
   "pygments_lexer": "ipython3",
   "version": "3.6.6"
  }
 },
 "nbformat": 4,
 "nbformat_minor": 2
}
