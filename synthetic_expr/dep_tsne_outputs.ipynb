{
 "cells": [
  {
   "cell_type": "code",
   "execution_count": 1,
   "metadata": {},
   "outputs": [],
   "source": [
    "%matplotlib inline\n",
    "%load_ext autoreload\n",
    "%autoreload 2"
   ]
  },
  {
   "cell_type": "code",
   "execution_count": 2,
   "metadata": {},
   "outputs": [],
   "source": [
    "import pickle\n",
    "import pandas as pd\n",
    "import numpy as np\n",
    "import matplotlib.pyplot as plt\n",
    "import matplotlib"
   ]
  },
  {
   "cell_type": "code",
   "execution_count": 3,
   "metadata": {},
   "outputs": [],
   "source": [
    "import torch\n",
    "import torch.nn as nn\n",
    "import torch.backends.cudnn as cudnn\n",
    "import torch.optim as optim\n",
    "import torch.nn.functional as F\n",
    "import torch.optim.lr_scheduler as lr_scheduler\n",
    "from torchvision import transforms, utils, models, datasets\n",
    "from torch.utils.data import Dataset, DataLoader"
   ]
  },
  {
   "cell_type": "code",
   "execution_count": 4,
   "metadata": {},
   "outputs": [],
   "source": [
    "from synthetic_utils import *"
   ]
  },
  {
   "cell_type": "code",
   "execution_count": 5,
   "metadata": {},
   "outputs": [],
   "source": [
    "from trainer_dataloader import *\n",
    "from networks import *\n",
    "from losses import *"
   ]
  },
  {
   "cell_type": "code",
   "execution_count": 6,
   "metadata": {},
   "outputs": [],
   "source": [
    "input_size = 96\n",
    "batch_size = 128\n",
    "num_workers = 4\n",
    "num_epochs = 20"
   ]
  },
  {
   "cell_type": "code",
   "execution_count": 7,
   "metadata": {},
   "outputs": [
    {
     "name": "stdout",
     "output_type": "stream",
     "text": [
      "Device set: cuda\n"
     ]
    }
   ],
   "source": [
    "cuda = False\n",
    "pin_memory = False\n",
    "if torch.cuda.is_available():\n",
    "    device = torch.device(\"cuda\")\n",
    "    torch.set_default_tensor_type('torch.cuda.FloatTensor')\n",
    "    cuda = True\n",
    "    cudnn.benchmark = True\n",
    "    pin_memory = True\n",
    "else:\n",
    "    device = torch.device(\"cpu\")\n",
    "\n",
    "print('Device set: {}'.format(device))"
   ]
  },
  {
   "cell_type": "code",
   "execution_count": 8,
   "metadata": {},
   "outputs": [],
   "source": [
    "data_transforms = {\n",
    "        'train': transforms.Compose([\n",
    "            transforms.Resize((input_size, input_size)),\n",
    "#             transforms.RandomRotation(10),\n",
    "            transforms.ToTensor(),\n",
    "            transforms.Normalize((0.5, 0.5, 0.5), (0.5, 0.5, 0.5))\n",
    "        ]),\n",
    "        'val': transforms.Compose([\n",
    "            transforms.Resize((input_size, input_size)),\n",
    "            transforms.ToTensor(),\n",
    "            transforms.Normalize((0.5, 0.5, 0.5), (0.5, 0.5, 0.5))])\n",
    "}"
   ]
  },
  {
   "cell_type": "code",
   "execution_count": 9,
   "metadata": {},
   "outputs": [],
   "source": [
    "# DATA_PATH = '/home/s1791387/diss/gen_shapes/'\n",
    "DATA_PATH = '/home/var/synthetic_data/dependent_gen/'\n",
    "TRAIN_PATH = os.path.join(DATA_PATH, 'train')\n",
    "VAL_PATH = os.path.join(DATA_PATH, 'valid')\n",
    "TEST_PATH = os.path.join(DATA_PATH, 'test')"
   ]
  },
  {
   "cell_type": "code",
   "execution_count": 40,
   "metadata": {},
   "outputs": [],
   "source": [
    "train_df = datasets.ImageFolder(root=TRAIN_PATH, transform=data_transforms['train'])\n",
    "val_df = datasets.ImageFolder(root=VAL_PATH, transform=data_transforms['val'])\n",
    "test_df = datasets.ImageFolder(root=TEST_PATH, transform=data_transforms['val'])"
   ]
  },
  {
   "cell_type": "code",
   "execution_count": 41,
   "metadata": {},
   "outputs": [],
   "source": [
    "train_loader = DataLoader(train_df, batch_size=batch_size, shuffle=True, num_workers=num_workers, pin_memory=pin_memory)\n",
    "val_loader = DataLoader(val_df, batch_size=batch_size, shuffle=False, num_workers=num_workers, pin_memory=pin_memory)\n",
    "test_loader = DataLoader(test_df, batch_size=batch_size, shuffle=False, num_workers=num_workers, pin_memory=pin_memory)"
   ]
  },
  {
   "cell_type": "code",
   "execution_count": null,
   "metadata": {},
   "outputs": [],
   "source": []
  },
  {
   "cell_type": "markdown",
   "metadata": {},
   "source": [
    "## Train only encoder first\n"
   ]
  },
  {
   "cell_type": "code",
   "execution_count": 42,
   "metadata": {},
   "outputs": [],
   "source": [
    "encoder = LeNet()\n",
    "classifier = ClassNet()"
   ]
  },
  {
   "cell_type": "code",
   "execution_count": 43,
   "metadata": {},
   "outputs": [
    {
     "data": {
      "text/plain": [
       "ClassNet(\n",
       "  (fc1): Linear(in_features=128, out_features=8, bias=True)\n",
       "  (fc2): Linear(in_features=8, out_features=1, bias=True)\n",
       "  (out_acc): Sigmoid()\n",
       ")"
      ]
     },
     "execution_count": 43,
     "metadata": {},
     "output_type": "execute_result"
    }
   ],
   "source": [
    "encoder.to(device)\n",
    "classifier.to(device)"
   ]
  },
  {
   "cell_type": "code",
   "execution_count": 44,
   "metadata": {},
   "outputs": [],
   "source": [
    "criterion = nn.BCELoss()\n",
    "opt_cls = optim.Adam(classifier.parameters(), lr=0.001, betas=(0.9, 0.999))\n",
    "opt_enc = optim.Adam(encoder.parameters(), lr=0.001, betas=(0.9, 0.999))\n",
    "scheduler_cls = lr_scheduler.StepLR(optimizer=opt_cls, gamma=0.99, step_size=1)\n",
    "scheduler_enc = lr_scheduler.StepLR(optimizer=opt_enc, gamma=0.99, step_size=1)"
   ]
  },
  {
   "cell_type": "code",
   "execution_count": 45,
   "metadata": {},
   "outputs": [
    {
     "name": "stdout",
     "output_type": "stream",
     "text": [
      "Epoch: 0/20\n"
     ]
    },
    {
     "name": "stderr",
     "output_type": "stream",
     "text": [
      "/home/var/anaconda3/envs/diss/lib/python3.6/site-packages/torch/nn/functional.py:1594: UserWarning: Using a target size (torch.Size([128])) that is different to the input size (torch.Size([128, 1])) is deprecated. Please ensure they have the same size.\n",
      "  \"Please ensure they have the same size.\".format(target.size(), input.size()))\n"
     ]
    },
    {
     "name": "stdout",
     "output_type": "stream",
     "text": [
      "Batch: [0/40]\tTime 0.539 (0.539)\tLoss 0.6891 (0.6891)\tAccuracy 0.5469 (0.5469)\n",
      "Batch: [10/40]\tTime 0.043 (0.143)\tLoss 0.5118 (0.6062)\tAccuracy 0.7578 (0.6854)\n",
      "Batch: [20/40]\tTime 0.169 (0.147)\tLoss 0.5087 (0.5635)\tAccuracy 0.7500 (0.7236)\n",
      "Batch: [30/40]\tTime 0.071 (0.153)\tLoss 0.5109 (0.5348)\tAccuracy 0.7344 (0.7407)\n",
      "----------\n"
     ]
    },
    {
     "name": "stderr",
     "output_type": "stream",
     "text": [
      "/home/var/anaconda3/envs/diss/lib/python3.6/site-packages/torch/nn/functional.py:1594: UserWarning: Using a target size (torch.Size([8])) that is different to the input size (torch.Size([8, 1])) is deprecated. Please ensure they have the same size.\n",
      "  \"Please ensure they have the same size.\".format(target.size(), input.size()))\n"
     ]
    },
    {
     "name": "stdout",
     "output_type": "stream",
     "text": [
      "Test: [0/4]\tTime 0.707 (0.707)\tLoss 0.4030 (0.4030)\tAccuracy 0.8125 (0.8125)\n",
      "Avg validation loss: 0.46084820795059206 \t Accuracy: 0.812\n",
      "--------------------\n",
      "Epoch 0/20\tTime 6.529 sec (6.529 sec)\n",
      "--------------------\n",
      "Epoch: 1/20\n"
     ]
    },
    {
     "name": "stderr",
     "output_type": "stream",
     "text": [
      "/home/var/anaconda3/envs/diss/lib/python3.6/site-packages/torch/nn/functional.py:1594: UserWarning: Using a target size (torch.Size([116])) that is different to the input size (torch.Size([116, 1])) is deprecated. Please ensure they have the same size.\n",
      "  \"Please ensure they have the same size.\".format(target.size(), input.size()))\n"
     ]
    },
    {
     "name": "stdout",
     "output_type": "stream",
     "text": [
      "Batch: [0/40]\tTime 0.724 (0.724)\tLoss 0.4029 (0.4029)\tAccuracy 0.8594 (0.8594)\n",
      "Batch: [10/40]\tTime 0.058 (0.181)\tLoss 0.3867 (0.4149)\tAccuracy 0.8672 (0.8359)\n",
      "Batch: [20/40]\tTime 0.420 (0.177)\tLoss 0.3310 (0.3855)\tAccuracy 0.8750 (0.8397)\n",
      "Batch: [30/40]\tTime 0.251 (0.169)\tLoss 0.3453 (0.3725)\tAccuracy 0.8359 (0.8440)\n",
      "----------\n",
      "Test: [0/4]\tTime 0.719 (0.719)\tLoss 0.3099 (0.3099)\tAccuracy 0.8359 (0.8359)\n",
      "Avg validation loss: 0.37339866638183594 \t Accuracy: 0.84\n",
      "--------------------\n",
      "Epoch 1/20\tTime 6.991 sec (6.760 sec)\n",
      "--------------------\n",
      "Epoch: 2/20\n",
      "Batch: [0/40]\tTime 0.717 (0.717)\tLoss 0.3229 (0.3229)\tAccuracy 0.8438 (0.8438)\n",
      "Batch: [10/40]\tTime 0.058 (0.182)\tLoss 0.3115 (0.2854)\tAccuracy 0.8438 (0.8764)\n",
      "Batch: [20/40]\tTime 0.457 (0.179)\tLoss 0.2774 (0.2775)\tAccuracy 0.8906 (0.8787)\n",
      "Batch: [30/40]\tTime 0.164 (0.166)\tLoss 0.2379 (0.2590)\tAccuracy 0.8672 (0.8863)\n",
      "----------\n",
      "Test: [0/4]\tTime 0.684 (0.684)\tLoss 0.2310 (0.2310)\tAccuracy 0.9141 (0.9141)\n",
      "Avg validation loss: 0.2322065187692642 \t Accuracy: 0.904\n",
      "--------------------\n",
      "Epoch 2/20\tTime 6.983 sec (6.835 sec)\n",
      "--------------------\n",
      "Epoch: 3/20\n",
      "Batch: [0/40]\tTime 0.741 (0.741)\tLoss 0.1817 (0.1817)\tAccuracy 0.9453 (0.9453)\n",
      "Batch: [10/40]\tTime 0.088 (0.189)\tLoss 0.0921 (0.1647)\tAccuracy 0.9766 (0.9403)\n",
      "Batch: [20/40]\tTime 0.521 (0.185)\tLoss 0.1360 (0.1576)\tAccuracy 0.9453 (0.9401)\n",
      "Batch: [30/40]\tTime 0.048 (0.170)\tLoss 0.1306 (0.1455)\tAccuracy 0.9609 (0.9453)\n",
      "----------\n",
      "Test: [0/4]\tTime 0.679 (0.679)\tLoss 0.1782 (0.1782)\tAccuracy 0.8984 (0.8984)\n",
      "Avg validation loss: 0.14199171894788742 \t Accuracy: 0.934\n",
      "--------------------\n",
      "Epoch 3/20\tTime 7.089 sec (6.898 sec)\n",
      "--------------------\n",
      "Epoch: 4/20\n",
      "Batch: [0/40]\tTime 0.751 (0.751)\tLoss 0.1033 (0.1033)\tAccuracy 0.9609 (0.9609)\n",
      "Batch: [10/40]\tTime 0.124 (0.192)\tLoss 0.0424 (0.0721)\tAccuracy 0.9922 (0.9780)\n",
      "Batch: [20/40]\tTime 0.440 (0.185)\tLoss 0.0612 (0.0659)\tAccuracy 0.9844 (0.9810)\n",
      "Batch: [30/40]\tTime 0.108 (0.169)\tLoss 0.0767 (0.0609)\tAccuracy 0.9688 (0.9821)\n",
      "----------\n",
      "Test: [0/4]\tTime 0.684 (0.684)\tLoss 0.4409 (0.4409)\tAccuracy 0.8750 (0.8750)\n",
      "Avg validation loss: 0.2467337884530425 \t Accuracy: 0.924\n",
      "--------------------\n",
      "Epoch 4/20\tTime 7.024 sec (6.923 sec)\n",
      "--------------------\n",
      "Epoch: 5/20\n",
      "Batch: [0/40]\tTime 0.759 (0.759)\tLoss 0.1055 (0.1055)\tAccuracy 0.9609 (0.9609)\n",
      "Batch: [10/40]\tTime 0.048 (0.194)\tLoss 0.0249 (0.0721)\tAccuracy 1.0000 (0.9737)\n",
      "Batch: [20/40]\tTime 0.335 (0.178)\tLoss 0.0342 (0.0563)\tAccuracy 0.9922 (0.9795)\n",
      "Batch: [30/40]\tTime 0.044 (0.168)\tLoss 0.0416 (0.0469)\tAccuracy 0.9844 (0.9831)\n",
      "----------\n",
      "Test: [0/4]\tTime 0.700 (0.700)\tLoss 0.0465 (0.0465)\tAccuracy 0.9766 (0.9766)\n",
      "Avg validation loss: 0.06843794476985932 \t Accuracy: 0.978\n",
      "--------------------\n",
      "Epoch 5/20\tTime 7.115 sec (6.955 sec)\n",
      "--------------------\n",
      "Epoch: 6/20\n",
      "Batch: [0/40]\tTime 0.770 (0.770)\tLoss 0.0560 (0.0560)\tAccuracy 0.9844 (0.9844)\n",
      "Batch: [10/40]\tTime 0.061 (0.188)\tLoss 0.0179 (0.0449)\tAccuracy 0.9922 (0.9851)\n",
      "Batch: [20/40]\tTime 0.384 (0.180)\tLoss 0.0193 (0.0378)\tAccuracy 1.0000 (0.9900)\n",
      "Batch: [30/40]\tTime 0.050 (0.170)\tLoss 0.0386 (0.0323)\tAccuracy 0.9922 (0.9912)\n",
      "----------\n",
      "Test: [0/4]\tTime 0.745 (0.745)\tLoss 0.0731 (0.0731)\tAccuracy 0.9766 (0.9766)\n",
      "Avg validation loss: 0.059143690623342994 \t Accuracy: 0.98\n",
      "--------------------\n",
      "Epoch 6/20\tTime 7.204 sec (6.991 sec)\n",
      "--------------------\n",
      "Epoch: 7/20\n",
      "Batch: [0/40]\tTime 0.819 (0.819)\tLoss 0.0071 (0.0071)\tAccuracy 1.0000 (1.0000)\n",
      "Batch: [10/40]\tTime 0.040 (0.192)\tLoss 0.0045 (0.0061)\tAccuracy 1.0000 (0.9993)\n",
      "Batch: [20/40]\tTime 0.549 (0.191)\tLoss 0.0025 (0.0044)\tAccuracy 1.0000 (0.9996)\n",
      "Batch: [30/40]\tTime 0.036 (0.169)\tLoss 0.0008 (0.0068)\tAccuracy 1.0000 (0.9985)\n",
      "----------\n",
      "Test: [0/4]\tTime 0.701 (0.701)\tLoss 0.1079 (0.1079)\tAccuracy 0.9688 (0.9688)\n",
      "Avg validation loss: 0.06928784346906468 \t Accuracy: 0.984\n",
      "--------------------\n",
      "Epoch 7/20\tTime 7.094 sec (7.004 sec)\n",
      "--------------------\n",
      "Epoch: 8/20\n",
      "Batch: [0/40]\tTime 0.743 (0.743)\tLoss 0.0008 (0.0008)\tAccuracy 1.0000 (1.0000)\n",
      "Batch: [10/40]\tTime 0.055 (0.192)\tLoss 0.0048 (0.0020)\tAccuracy 1.0000 (1.0000)\n",
      "Batch: [20/40]\tTime 0.464 (0.181)\tLoss 0.0021 (0.0021)\tAccuracy 1.0000 (1.0000)\n",
      "Batch: [30/40]\tTime 0.048 (0.169)\tLoss 0.0007 (0.0031)\tAccuracy 1.0000 (0.9995)\n",
      "----------\n",
      "Test: [0/4]\tTime 0.670 (0.670)\tLoss 0.0402 (0.0402)\tAccuracy 0.9844 (0.9844)\n",
      "Avg validation loss: 0.05377739681303501 \t Accuracy: 0.986\n",
      "--------------------\n",
      "Epoch 8/20\tTime 7.056 sec (7.009 sec)\n",
      "--------------------\n",
      "Epoch: 9/20\n",
      "Batch: [0/40]\tTime 0.818 (0.818)\tLoss 0.0004 (0.0004)\tAccuracy 1.0000 (1.0000)\n",
      "Batch: [10/40]\tTime 0.058 (0.198)\tLoss 0.0008 (0.0012)\tAccuracy 1.0000 (1.0000)\n",
      "Batch: [20/40]\tTime 0.559 (0.187)\tLoss 0.0005 (0.0014)\tAccuracy 1.0000 (1.0000)\n",
      "Batch: [30/40]\tTime 0.045 (0.168)\tLoss 0.0003 (0.0014)\tAccuracy 1.0000 (1.0000)\n",
      "----------\n",
      "Test: [0/4]\tTime 0.714 (0.714)\tLoss 0.0718 (0.0718)\tAccuracy 0.9766 (0.9766)\n",
      "Avg validation loss: 0.07332305872021243 \t Accuracy: 0.984\n",
      "--------------------\n",
      "Epoch 9/20\tTime 7.083 sec (7.017 sec)\n",
      "--------------------\n"
     ]
    }
   ],
   "source": [
    "train_losses = []\n",
    "train_accs = []\n",
    "val_losses = []\n",
    "val_accs = []\n",
    "epoch_time = AverageMeter()\n",
    "ep_end = time.time()\n",
    "for epoch in range(0, 10):\n",
    "        print('Epoch: {}/{}'.format(epoch, num_epochs))\n",
    "        scheduler_cls.step()\n",
    "        scheduler_enc.step()\n",
    "        # train\n",
    "        train_loss, train_acc = train_encoder_classifier_epoch(train_loader, encoder,\n",
    "                                classifier, opt_enc,\n",
    "                                opt_cls, criterion, device)\n",
    "        train_losses.append(train_loss)\n",
    "        train_accs.append(train_acc)\n",
    "        # validate\n",
    "        print('-'*10)\n",
    "        val_loss, val_acc = validate_encoder_classifier_epoch(val_loader, encoder, classifier,\n",
    "                                 criterion, device)\n",
    "\n",
    "        print('Avg validation loss: {} \\t Accuracy: {}'.format(val_loss, val_acc))\n",
    "        val_losses.append(val_loss)\n",
    "        val_accs.append(val_acc)\n",
    "        \n",
    "        print('-' * 20)\n",
    "        epoch_time.update(time.time() - ep_end)\n",
    "        ep_end = time.time()\n",
    "        print('Epoch {}/{}\\t'\n",
    "              'Time {epoch_time.val:.3f} sec ({epoch_time.avg:.3f} sec)'.format(epoch, num_epochs, epoch_time=epoch_time))\n",
    "        print('-'*20)"
   ]
  },
  {
   "cell_type": "code",
   "execution_count": 46,
   "metadata": {},
   "outputs": [],
   "source": [
    "import matplotlib.pyplot as plt"
   ]
  },
  {
   "cell_type": "code",
   "execution_count": 47,
   "metadata": {},
   "outputs": [
    {
     "data": {
      "text/plain": [
       "[<matplotlib.lines.Line2D at 0x7f8b33b785f8>]"
      ]
     },
     "execution_count": 47,
     "metadata": {},
     "output_type": "execute_result"
    },
    {
     "data": {
      "image/png": "[encoded data removed]",
      "text/plain": [
       "<Figure size 432x288 with 4 Axes>"
      ]
     },
     "metadata": {},
     "output_type": "display_data"
    }
   ],
   "source": [
    "plt.subplot(221)\n",
    "plt.title('training classification loss')\n",
    "plt.plot(train_losses)\n",
    "plt.subplot(222)\n",
    "plt.title('training accuracy')\n",
    "plt.plot(train_accs)\n",
    "plt.subplot(223)\n",
    "plt.title('validation loss')\n",
    "plt.plot(val_losses)\n",
    "plt.subplot(224)\n",
    "plt.title('validation accuracy')\n",
    "plt.plot(val_accs)"
   ]
  },
  {
   "cell_type": "code",
   "execution_count": 48,
   "metadata": {},
   "outputs": [],
   "source": [
    "from synthetic_dataloader import *"
   ]
  },
  {
   "cell_type": "code",
   "execution_count": 103,
   "metadata": {},
   "outputs": [],
   "source": [
    "shape_gender_train = ShapeGenderDataset(train_df)\n",
    "shape_gender_val = ShapeGenderDataset(val_df)\n",
    "shape_gender_test = ShapeGenderDataset(test_df)"
   ]
  },
  {
   "cell_type": "code",
   "execution_count": null,
   "metadata": {},
   "outputs": [
    {
     "name": "stdout",
     "output_type": "stream",
     "text": [
      "0\n"
     ]
    }
   ],
   "source": [
    "reps = []\n",
    "shapes = []\n",
    "colors= []\n",
    "encoder.eval()\n",
    "with torch.no_grad():\n",
    "    for i in range(len(train_df)):\n",
    "        img, shape, color = shape_gender_train[i]\n",
    "        img = img.to(device).float()\n",
    "        img.unsqueeze_(0)\n",
    "        encoding = encoder(img)\n",
    "        reps.append(encoding[0].cpu().numpy())\n",
    "        shapes.append(shape)\n",
    "        colors.append(color)\n",
    "        if i == 0: \n",
    "            print(i)"
   ]
  },
  {
   "cell_type": "code",
   "execution_count": null,
   "metadata": {},
   "outputs": [],
   "source": [
    "y_num = pd.DataFrame(shapes)\n",
    "s = pd.DataFrame(colors)\n",
    "X = pd.DataFrame(reps)"
   ]
  },
  {
   "cell_type": "code",
   "execution_count": null,
   "metadata": {},
   "outputs": [],
   "source": [
    "import matplotlib.cm as cm\n",
    "plt.style.use('bmh')"
   ]
  },
  {
   "cell_type": "code",
   "execution_count": null,
   "metadata": {},
   "outputs": [],
   "source": [
    "colors = cm.Dark2(np.linspace(0, 1, len(train_df.classes)))"
   ]
  },
  {
   "cell_type": "code",
   "execution_count": null,
   "metadata": {},
   "outputs": [],
   "source": [
    "from sklearn.decomposition import PCA\n",
    "from sklearn.manifold import TSNE"
   ]
  },
  {
   "cell_type": "code",
   "execution_count": null,
   "metadata": {},
   "outputs": [],
   "source": [
    "X_pca = PCA(n_components=50).fit_transform(X, X)\n",
    "tsne = TSNE(n_components=2, init='random', random_state=0)\n",
    "# X_r = tsne.fit_transform(X)\n",
    "X_r = tsne.fit_transform(X_pca)"
   ]
  },
  {
   "cell_type": "code",
   "execution_count": null,
   "metadata": {},
   "outputs": [],
   "source": [
    "train_df.class_to_idx"
   ]
  },
  {
   "cell_type": "code",
   "execution_count": null,
   "metadata": {},
   "outputs": [],
   "source": [
    "plt.scatter(X_r[(y_num == 0)[0], 0], X_r[(y_num == 0)[0], 1], c=colors[0], label='circle')\n",
    "plt.scatter(X_r[(y_num == 1)[0], 0], X_r[(y_num == 1)[0], 1], c=colors[1], label='rectangle')\n",
    "plt.legend()\n",
    "out = \"dep_tsne_train_classifier_y.pdf\"\n",
    "plt.savefig(out)\n",
    "print(\"Saved to: {}\".format(out))\n",
    "# plt.show()"
   ]
  },
  {
   "cell_type": "code",
   "execution_count": null,
   "metadata": {},
   "outputs": [],
   "source": []
  },
  {
   "cell_type": "code",
   "execution_count": null,
   "metadata": {},
   "outputs": [],
   "source": [
    "plt.figure()\n",
    "plt.scatter(X_r[(s == 1)[0], 0], X_r[(s == 1)[0], 1], c='red', label='red')\n",
    "plt.scatter(X_r[(s == 0)[0], 0], X_r[(s == 0)[0], 1], c='green', label='green')\n",
    "plt.legend()\n",
    "out = \"dep_tsne_train_classifier_s.pdf\"\n",
    "plt.savefig(out)\n",
    "print(\"Saved to: {}\".format(out))\n",
    "# plt.show()"
   ]
  },
  {
   "cell_type": "code",
   "execution_count": null,
   "metadata": {},
   "outputs": [],
   "source": []
  },
  {
   "cell_type": "code",
   "execution_count": 78,
   "metadata": {},
   "outputs": [
    {
     "name": "stdout",
     "output_type": "stream",
     "text": [
      "0\n"
     ]
    }
   ],
   "source": [
    "reps = []\n",
    "shapes = []\n",
    "colors= []\n",
    "encoder.eval()\n",
    "with torch.no_grad():\n",
    "    for i in range(len(test_df)):\n",
    "        img, shape, color = shape_gender_test[i]\n",
    "        img = img.to(device).float()\n",
    "        img.unsqueeze_(0)\n",
    "        encoding = encoder(img)\n",
    "        reps.append(encoding[0].cpu().numpy())\n",
    "        shapes.append(shape)\n",
    "        colors.append(color)\n",
    "        if i == 0: \n",
    "            print(i)"
   ]
  },
  {
   "cell_type": "code",
   "execution_count": 79,
   "metadata": {},
   "outputs": [],
   "source": [
    "y_num = pd.DataFrame(shapes)\n",
    "s = pd.DataFrame(colors)\n",
    "X = pd.DataFrame(reps)"
   ]
  },
  {
   "cell_type": "code",
   "execution_count": 80,
   "metadata": {},
   "outputs": [],
   "source": [
    "X_pca = PCA(n_components=50).fit_transform(X, X)\n",
    "tsne = TSNE(n_components=2, init='random', random_state=0)\n",
    "# X_r = tsne.fit_transform(X)\n",
    "X_r = tsne.fit_transform(X_pca)"
   ]
  },
  {
   "cell_type": "code",
   "execution_count": 83,
   "metadata": {},
   "outputs": [],
   "source": [
    "colors = cm.Dark2(np.linspace(0, 1, len(train_df.classes)))"
   ]
  },
  {
   "cell_type": "code",
   "execution_count": 96,
   "metadata": {},
   "outputs": [
    {
     "name": "stdout",
     "output_type": "stream",
     "text": [
      "Saved to: dep_tsne_test_classifier_y.pdf\n"
     ]
    },
    {
     "data": {
      "image/png": "[encoded data removed]",
      "text/plain": [
       "<Figure size 432x288 with 1 Axes>"
      ]
     },
     "metadata": {},
     "output_type": "display_data"
    }
   ],
   "source": [
    "plt.scatter(X_r[(y_num == 0)[0], 0], X_r[(y_num == 0)[0], 1], c=colors[0], label='circle')\n",
    "plt.scatter(X_r[(y_num == 1)[0], 0], X_r[(y_num == 1)[0], 1], c=colors[1], label='rectangle')\n",
    "plt.legend()\n",
    "out = \"dep_tsne_test_classifier_y.pdf\"\n",
    "plt.savefig(out)\n",
    "print(\"Saved to: {}\".format(out))"
   ]
  },
  {
   "cell_type": "code",
   "execution_count": null,
   "metadata": {},
   "outputs": [],
   "source": []
  },
  {
   "cell_type": "code",
   "execution_count": 97,
   "metadata": {},
   "outputs": [
    {
     "name": "stdout",
     "output_type": "stream",
     "text": [
      "Saved to: dep_tsne_test_classifier_s.pdf\n"
     ]
    },
    {
     "data": {
      "image/png": "[encoded data removed]",
      "text/plain": [
       "<Figure size 432x288 with 1 Axes>"
      ]
     },
     "metadata": {},
     "output_type": "display_data"
    }
   ],
   "source": [
    "plt.figure()\n",
    "plt.scatter(X_r[(s == 1)[0], 0], X_r[(s == 1)[0], 1], c='red', label='red')\n",
    "plt.scatter(X_r[(s == 0)[0], 0], X_r[(s == 0)[0], 1], c='green', label='green')\n",
    "plt.legend()\n",
    "out = \"dep_tsne_test_classifier_s.pdf\"\n",
    "plt.savefig(out)\n",
    "print(\"Saved to: {}\".format(out))"
   ]
  },
  {
   "cell_type": "code",
   "execution_count": 94,
   "metadata": {},
   "outputs": [
    {
     "name": "stdout",
     "output_type": "stream",
     "text": [
      "Saved to: dep_tsne_test_classifier_s.pdf\n"
     ]
    },
    {
     "data": {
      "text/plain": [
       "<Figure size 432x288 with 0 Axes>"
      ]
     },
     "metadata": {},
     "output_type": "display_data"
    }
   ],
   "source": []
  },
  {
   "cell_type": "code",
   "execution_count": null,
   "metadata": {},
   "outputs": [],
   "source": []
  }
 ],
 "metadata": {
  "kernelspec": {
   "display_name": "Python 3",
   "language": "python",
   "name": "python3"
  },
  "language_info": {
   "codemirror_mode": {
    "name": "ipython",
    "version": 3
   },
   "file_extension": ".py",
   "mimetype": "text/x-python",
   "name": "python",
   "nbconvert_exporter": "python",
   "pygments_lexer": "ipython3",
   "version": "3.6.6"
  }
 },
 "nbformat": 4,
 "nbformat_minor": 2
}
