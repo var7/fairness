{
 "cells": [
  {
   "cell_type": "code",
   "execution_count": 1,
   "metadata": {},
   "outputs": [],
   "source": [
    "%matplotlib inline\n",
    "%load_ext autoreload\n",
    "%autoreload 2"
   ]
  },
  {
   "cell_type": "code",
   "execution_count": 2,
   "metadata": {},
   "outputs": [],
   "source": [
    "import pickle\n",
    "import pandas as pd\n",
    "import numpy as np\n",
    "import matplotlib.pyplot as plt\n",
    "import matplotlib"
   ]
  },
  {
   "cell_type": "code",
   "execution_count": 3,
   "metadata": {},
   "outputs": [],
   "source": [
    "import torch\n",
    "import torch.nn as nn\n",
    "import torch.backends.cudnn as cudnn\n",
    "import torch.optim as optim\n",
    "import torch.nn.functional as F\n",
    "import torch.optim.lr_scheduler as lr_scheduler\n",
    "from torchvision import transforms, utils, models, datasets\n",
    "from torch.utils.data import Dataset, DataLoader"
   ]
  },
  {
   "cell_type": "code",
   "execution_count": 4,
   "metadata": {},
   "outputs": [],
   "source": [
    "from synthetic_utils import *"
   ]
  },
  {
   "cell_type": "code",
   "execution_count": 5,
   "metadata": {},
   "outputs": [],
   "source": [
    "from trainer_dataloader import *\n",
    "from networks import *\n",
    "from losses import *\n",
    "from synthetic_dataloader import *"
   ]
  },
  {
   "cell_type": "code",
   "execution_count": 6,
   "metadata": {},
   "outputs": [],
   "source": [
    "input_size = 96\n",
    "batch_size = 128\n",
    "num_workers = 4\n",
    "num_epochs = 20"
   ]
  },
  {
   "cell_type": "code",
   "execution_count": 7,
   "metadata": {},
   "outputs": [
    {
     "name": "stdout",
     "output_type": "stream",
     "text": [
      "Device set: cuda\n"
     ]
    }
   ],
   "source": [
    "cuda = False\n",
    "pin_memory = False\n",
    "if torch.cuda.is_available():\n",
    "    device = torch.device(\"cuda\")\n",
    "    torch.set_default_tensor_type('torch.cuda.FloatTensor')\n",
    "    cuda = True\n",
    "    cudnn.benchmark = True\n",
    "    pin_memory = True\n",
    "else:\n",
    "    device = torch.device(\"cpu\")\n",
    "\n",
    "print('Device set: {}'.format(device))"
   ]
  },
  {
   "cell_type": "code",
   "execution_count": 8,
   "metadata": {},
   "outputs": [],
   "source": [
    "data_transforms = {\n",
    "        'train': transforms.Compose([\n",
    "            transforms.Resize((input_size, input_size)),\n",
    "#             transforms.RandomRotation(10),\n",
    "            transforms.ToTensor(),\n",
    "            transforms.Normalize((0.5, 0.5, 0.5), (0.5, 0.5, 0.5))\n",
    "        ]),\n",
    "        'val': transforms.Compose([\n",
    "            transforms.Resize((input_size, input_size)),\n",
    "            transforms.ToTensor(),\n",
    "            transforms.Normalize((0.5, 0.5, 0.5), (0.5, 0.5, 0.5))])\n",
    "}"
   ]
  },
  {
   "cell_type": "code",
   "execution_count": 9,
   "metadata": {},
   "outputs": [],
   "source": [
    "# DATA_PATH = '/home/s1791387/diss/gen_shapes/'\n",
    "DATA_PATH = '/home/var/synthetic_data/gen_shapes/'\n",
    "TRAIN_PATH = os.path.join(DATA_PATH, 'train')\n",
    "VAL_PATH = os.path.join(DATA_PATH, 'valid')\n",
    "TEST_PATH = os.path.join(DATA_PATH, 'test')"
   ]
  },
  {
   "cell_type": "code",
   "execution_count": 10,
   "metadata": {},
   "outputs": [],
   "source": [
    "train_df = datasets.ImageFolder(root=TRAIN_PATH, transform=data_transforms['train'])\n",
    "val_df = datasets.ImageFolder(root=VAL_PATH, transform=data_transforms['val'])\n",
    "test_df = datasets.ImageFolder(root=TEST_PATH, transform=data_transforms['val'])"
   ]
  },
  {
   "cell_type": "code",
   "execution_count": 11,
   "metadata": {},
   "outputs": [],
   "source": [
    "# train_loader = DataLoader(train_df, batch_size=batch_size, shuffle=True, num_workers=num_workers, pin_memory=pin_memory)\n",
    "# val_loader = DataLoader(val_df, batch_size=batch_size, shuffle=False, num_workers=num_workers, pin_memory=pin_memory)\n",
    "# test_loader = DataLoader(test_df, batch_size=batch_size, shuffle=False, num_workers=num_workers, pin_memory=pin_memory)"
   ]
  },
  {
   "cell_type": "code",
   "execution_count": 12,
   "metadata": {},
   "outputs": [],
   "source": [
    "gender_train = GenderDataset(train_df)\n",
    "gender_valid = GenderDataset(val_df)\n",
    "gender_test = GenderDataset(test_df)"
   ]
  },
  {
   "cell_type": "code",
   "execution_count": 13,
   "metadata": {},
   "outputs": [],
   "source": [
    "train_loader = DataLoader(gender_train, batch_size=batch_size, shuffle=True, num_workers=num_workers, pin_memory=pin_memory)\n",
    "val_loader = DataLoader(gender_valid, batch_size=batch_size, shuffle=False, num_workers=num_workers, pin_memory=pin_memory)\n",
    "test_loader = DataLoader(gender_test, batch_size=batch_size, shuffle=False, num_workers=num_workers, pin_memory=pin_memory)"
   ]
  },
  {
   "cell_type": "markdown",
   "metadata": {},
   "source": [
    "## Train only encoder first\n"
   ]
  },
  {
   "cell_type": "code",
   "execution_count": 14,
   "metadata": {},
   "outputs": [],
   "source": [
    "encoder = LeNet()\n",
    "classifier = ClassNet()"
   ]
  },
  {
   "cell_type": "code",
   "execution_count": 15,
   "metadata": {},
   "outputs": [
    {
     "data": {
      "text/plain": [
       "ClassNet(\n",
       "  (fc1): Linear(in_features=128, out_features=8, bias=True)\n",
       "  (fc2): Linear(in_features=8, out_features=1, bias=True)\n",
       "  (out_acc): Sigmoid()\n",
       ")"
      ]
     },
     "execution_count": 15,
     "metadata": {},
     "output_type": "execute_result"
    }
   ],
   "source": [
    "encoder.to(device)\n",
    "classifier.to(device)"
   ]
  },
  {
   "cell_type": "code",
   "execution_count": 16,
   "metadata": {},
   "outputs": [],
   "source": [
    "criterion = nn.BCELoss()\n",
    "opt_cls = optim.Adam(classifier.parameters(), lr=0.001, betas=(0.9, 0.999))\n",
    "opt_enc = optim.Adam(encoder.parameters(), lr=0.001, betas=(0.9, 0.999))\n",
    "scheduler_cls = lr_scheduler.StepLR(optimizer=opt_cls, gamma=0.99, step_size=1)\n",
    "scheduler_enc = lr_scheduler.StepLR(optimizer=opt_enc, gamma=0.99, step_size=1)"
   ]
  },
  {
   "cell_type": "code",
   "execution_count": 17,
   "metadata": {},
   "outputs": [
    {
     "name": "stdout",
     "output_type": "stream",
     "text": [
      "Epoch: 0/20\n"
     ]
    },
    {
     "name": "stderr",
     "output_type": "stream",
     "text": [
      "/home/var/anaconda3/envs/diss/lib/python3.6/site-packages/torch/nn/functional.py:1594: UserWarning: Using a target size (torch.Size([128])) that is different to the input size (torch.Size([128, 1])) is deprecated. Please ensure they have the same size.\n",
      "  \"Please ensure they have the same size.\".format(target.size(), input.size()))\n"
     ]
    },
    {
     "name": "stdout",
     "output_type": "stream",
     "text": [
      "Batch: [0/40]\tTime 2.063 (2.063)\tLoss 0.6980 (0.6980)\tAccuracy 0.5156 (0.5156)\n",
      "Batch: [10/40]\tTime 0.060 (0.421)\tLoss 0.4593 (0.5841)\tAccuracy 0.8750 (0.7330)\n",
      "Batch: [20/40]\tTime 0.761 (0.389)\tLoss 0.2894 (0.4814)\tAccuracy 0.9219 (0.8039)\n",
      "Batch: [30/40]\tTime 0.212 (0.342)\tLoss 0.1921 (0.4223)\tAccuracy 0.9141 (0.8332)\n",
      "----------\n"
     ]
    },
    {
     "name": "stderr",
     "output_type": "stream",
     "text": [
      "/home/var/anaconda3/envs/diss/lib/python3.6/site-packages/torch/nn/functional.py:1594: UserWarning: Using a target size (torch.Size([8])) that is different to the input size (torch.Size([8, 1])) is deprecated. Please ensure they have the same size.\n",
      "  \"Please ensure they have the same size.\".format(target.size(), input.size()))\n"
     ]
    },
    {
     "name": "stdout",
     "output_type": "stream",
     "text": [
      "Test: [0/4]\tTime 1.642 (1.642)\tLoss 0.0462 (0.0462)\tAccuracy 0.9922 (0.9922)\n",
      "Avg validation loss: 0.08865507093071938 \t Accuracy: 0.964\n",
      "--------------------\n",
      "Epoch 0/20\tTime 15.100 sec (15.100 sec)\n",
      "--------------------\n",
      "Epoch: 1/20\n"
     ]
    },
    {
     "name": "stderr",
     "output_type": "stream",
     "text": [
      "/home/var/anaconda3/envs/diss/lib/python3.6/site-packages/torch/nn/functional.py:1594: UserWarning: Using a target size (torch.Size([116])) that is different to the input size (torch.Size([116, 1])) is deprecated. Please ensure they have the same size.\n",
      "  \"Please ensure they have the same size.\".format(target.size(), input.size()))\n"
     ]
    },
    {
     "name": "stdout",
     "output_type": "stream",
     "text": [
      "Batch: [0/40]\tTime 1.724 (1.724)\tLoss 0.1462 (0.1462)\tAccuracy 0.9297 (0.9297)\n",
      "Batch: [10/40]\tTime 0.051 (0.442)\tLoss 0.0685 (0.0928)\tAccuracy 0.9688 (0.9652)\n",
      "Batch: [20/40]\tTime 0.886 (0.405)\tLoss 0.0094 (0.0665)\tAccuracy 1.0000 (0.9766)\n",
      "Batch: [30/40]\tTime 0.052 (0.359)\tLoss 0.0076 (0.0533)\tAccuracy 1.0000 (0.9816)\n",
      "----------\n",
      "Test: [0/4]\tTime 1.535 (1.535)\tLoss 0.0214 (0.0214)\tAccuracy 1.0000 (1.0000)\n",
      "Avg validation loss: 0.023540556512773037 \t Accuracy: 0.996\n",
      "--------------------\n",
      "Epoch 1/20\tTime 15.223 sec (15.162 sec)\n",
      "--------------------\n",
      "Epoch: 2/20\n",
      "Batch: [0/40]\tTime 1.735 (1.735)\tLoss 0.0078 (0.0078)\tAccuracy 1.0000 (1.0000)\n",
      "Batch: [10/40]\tTime 0.060 (0.402)\tLoss 0.0026 (0.0139)\tAccuracy 1.0000 (0.9986)\n",
      "Batch: [20/40]\tTime 0.352 (0.368)\tLoss 0.0086 (0.0134)\tAccuracy 1.0000 (0.9967)\n",
      "Batch: [30/40]\tTime 0.049 (0.338)\tLoss 0.0080 (0.0143)\tAccuracy 1.0000 (0.9967)\n",
      "----------\n",
      "Test: [0/4]\tTime 1.717 (1.717)\tLoss 0.0051 (0.0051)\tAccuracy 1.0000 (1.0000)\n",
      "Avg validation loss: 0.013633372027426958 \t Accuracy: 0.996\n",
      "--------------------\n",
      "Epoch 2/20\tTime 14.923 sec (15.082 sec)\n",
      "--------------------\n",
      "Epoch: 3/20\n",
      "Batch: [0/40]\tTime 1.722 (1.722)\tLoss 0.0094 (0.0094)\tAccuracy 1.0000 (1.0000)\n",
      "Batch: [10/40]\tTime 0.222 (0.419)\tLoss 0.0014 (0.0052)\tAccuracy 1.0000 (0.9993)\n",
      "Batch: [20/40]\tTime 0.508 (0.377)\tLoss 0.0004 (0.0040)\tAccuracy 1.0000 (0.9993)\n",
      "Batch: [30/40]\tTime 0.048 (0.352)\tLoss 0.0016 (0.0042)\tAccuracy 1.0000 (0.9992)\n",
      "----------\n",
      "Test: [0/4]\tTime 1.455 (1.455)\tLoss 0.0022 (0.0022)\tAccuracy 1.0000 (1.0000)\n",
      "Avg validation loss: 0.002641855776309967 \t Accuracy: 1.0\n",
      "--------------------\n",
      "Epoch 3/20\tTime 14.902 sec (15.037 sec)\n",
      "--------------------\n",
      "Epoch: 4/20\n",
      "Batch: [0/40]\tTime 1.538 (1.538)\tLoss 0.0005 (0.0005)\tAccuracy 1.0000 (1.0000)\n",
      "Batch: [10/40]\tTime 0.374 (0.410)\tLoss 0.0017 (0.0020)\tAccuracy 1.0000 (1.0000)\n",
      "Batch: [20/40]\tTime 0.781 (0.390)\tLoss 0.0006 (0.0030)\tAccuracy 1.0000 (0.9996)\n",
      "Batch: [30/40]\tTime 0.042 (0.342)\tLoss 0.0032 (0.0031)\tAccuracy 1.0000 (0.9995)\n",
      "----------\n",
      "Test: [0/4]\tTime 1.754 (1.754)\tLoss 0.0027 (0.0027)\tAccuracy 1.0000 (1.0000)\n",
      "Avg validation loss: 0.0016683933660387993 \t Accuracy: 1.0\n",
      "--------------------\n",
      "Epoch 4/20\tTime 14.799 sec (14.990 sec)\n",
      "--------------------\n",
      "Epoch: 5/20\n",
      "Batch: [0/40]\tTime 1.619 (1.619)\tLoss 0.0020 (0.0020)\tAccuracy 1.0000 (1.0000)\n",
      "Batch: [10/40]\tTime 0.057 (0.422)\tLoss 0.0008 (0.0016)\tAccuracy 1.0000 (0.9993)\n",
      "Batch: [20/40]\tTime 0.832 (0.391)\tLoss 0.0002 (0.0011)\tAccuracy 1.0000 (0.9996)\n",
      "Batch: [30/40]\tTime 0.064 (0.351)\tLoss 0.0002 (0.0023)\tAccuracy 1.0000 (0.9992)\n",
      "----------\n",
      "Test: [0/4]\tTime 1.716 (1.716)\tLoss 0.0009 (0.0009)\tAccuracy 1.0000 (1.0000)\n",
      "Avg validation loss: 0.0018831353541463613 \t Accuracy: 1.0\n",
      "--------------------\n",
      "Epoch 5/20\tTime 14.988 sec (14.989 sec)\n",
      "--------------------\n",
      "Epoch: 6/20\n",
      "Batch: [0/40]\tTime 1.574 (1.574)\tLoss 0.0048 (0.0048)\tAccuracy 1.0000 (1.0000)\n",
      "Batch: [10/40]\tTime 0.037 (0.402)\tLoss 0.0039 (0.0016)\tAccuracy 1.0000 (1.0000)\n",
      "Batch: [20/40]\tTime 0.917 (0.390)\tLoss 0.0002 (0.0011)\tAccuracy 1.0000 (1.0000)\n",
      "Batch: [30/40]\tTime 0.062 (0.350)\tLoss 0.0001 (0.0010)\tAccuracy 1.0000 (1.0000)\n",
      "----------\n",
      "Test: [0/4]\tTime 1.851 (1.851)\tLoss 0.0006 (0.0006)\tAccuracy 1.0000 (1.0000)\n",
      "Avg validation loss: 0.0014653130592778324 \t Accuracy: 1.0\n",
      "--------------------\n",
      "Epoch 6/20\tTime 14.942 sec (14.983 sec)\n",
      "--------------------\n",
      "Epoch: 7/20\n",
      "Batch: [0/40]\tTime 1.897 (1.897)\tLoss 0.0001 (0.0001)\tAccuracy 1.0000 (1.0000)\n",
      "Batch: [10/40]\tTime 0.175 (0.437)\tLoss 0.0002 (0.0027)\tAccuracy 1.0000 (0.9993)\n",
      "Batch: [20/40]\tTime 0.964 (0.411)\tLoss 0.0007 (0.0034)\tAccuracy 1.0000 (0.9989)\n",
      "Batch: [30/40]\tTime 0.044 (0.375)\tLoss 0.0162 (0.0039)\tAccuracy 0.9922 (0.9987)\n",
      "----------\n",
      "Test: [0/4]\tTime 1.534 (1.534)\tLoss 0.0013 (0.0013)\tAccuracy 1.0000 (1.0000)\n",
      "Avg validation loss: 0.004622496271738783 \t Accuracy: 0.998\n",
      "--------------------\n",
      "Epoch 7/20\tTime 15.521 sec (15.050 sec)\n",
      "--------------------\n",
      "Epoch: 8/20\n",
      "Batch: [0/40]\tTime 1.782 (1.782)\tLoss 0.0013 (0.0013)\tAccuracy 1.0000 (1.0000)\n",
      "Batch: [10/40]\tTime 0.076 (0.418)\tLoss 0.0011 (0.0012)\tAccuracy 1.0000 (1.0000)\n",
      "Batch: [20/40]\tTime 1.133 (0.412)\tLoss 0.0004 (0.0008)\tAccuracy 1.0000 (1.0000)\n",
      "Batch: [30/40]\tTime 0.306 (0.354)\tLoss 0.0000 (0.0006)\tAccuracy 1.0000 (1.0000)\n",
      "----------\n",
      "Test: [0/4]\tTime 1.755 (1.755)\tLoss 0.0003 (0.0003)\tAccuracy 1.0000 (1.0000)\n",
      "Avg validation loss: 0.005992506102542393 \t Accuracy: 0.998\n",
      "--------------------\n",
      "Epoch 8/20\tTime 14.996 sec (15.044 sec)\n",
      "--------------------\n",
      "Epoch: 9/20\n",
      "Batch: [0/40]\tTime 1.601 (1.601)\tLoss 0.0000 (0.0000)\tAccuracy 1.0000 (1.0000)\n",
      "Batch: [10/40]\tTime 0.083 (0.406)\tLoss 0.0012 (0.0006)\tAccuracy 1.0000 (1.0000)\n",
      "Batch: [20/40]\tTime 0.846 (0.386)\tLoss 0.0004 (0.0006)\tAccuracy 1.0000 (1.0000)\n",
      "Batch: [30/40]\tTime 0.112 (0.354)\tLoss 0.0002 (0.0004)\tAccuracy 1.0000 (1.0000)\n",
      "----------\n",
      "Test: [0/4]\tTime 1.772 (1.772)\tLoss 0.0002 (0.0002)\tAccuracy 1.0000 (1.0000)\n",
      "Avg validation loss: 0.0039801063453196546 \t Accuracy: 0.998\n",
      "--------------------\n",
      "Epoch 9/20\tTime 15.212 sec (15.061 sec)\n",
      "--------------------\n",
      "Epoch: 10/20\n",
      "Batch: [0/40]\tTime 1.573 (1.573)\tLoss 0.0002 (0.0002)\tAccuracy 1.0000 (1.0000)\n",
      "Batch: [10/40]\tTime 0.268 (0.406)\tLoss 0.0000 (0.0000)\tAccuracy 1.0000 (1.0000)\n",
      "Batch: [20/40]\tTime 0.979 (0.397)\tLoss 0.0000 (0.0000)\tAccuracy 1.0000 (1.0000)\n",
      "Batch: [30/40]\tTime 0.425 (0.356)\tLoss 0.0001 (0.0001)\tAccuracy 1.0000 (1.0000)\n",
      "----------\n",
      "Test: [0/4]\tTime 1.671 (1.671)\tLoss 0.0009 (0.0009)\tAccuracy 1.0000 (1.0000)\n",
      "Avg validation loss: 0.0005080665762070566 \t Accuracy: 1.0\n",
      "--------------------\n",
      "Epoch 10/20\tTime 14.689 sec (15.027 sec)\n",
      "--------------------\n",
      "Epoch: 11/20\n",
      "Batch: [0/40]\tTime 1.726 (1.726)\tLoss 0.0004 (0.0004)\tAccuracy 1.0000 (1.0000)\n",
      "Batch: [10/40]\tTime 0.052 (0.402)\tLoss 0.0002 (0.0002)\tAccuracy 1.0000 (1.0000)\n",
      "Batch: [20/40]\tTime 1.236 (0.396)\tLoss 0.0000 (0.0001)\tAccuracy 1.0000 (1.0000)\n",
      "Batch: [30/40]\tTime 0.310 (0.347)\tLoss 0.0000 (0.0001)\tAccuracy 1.0000 (1.0000)\n",
      "----------\n",
      "Test: [0/4]\tTime 1.688 (1.688)\tLoss 0.0000 (0.0000)\tAccuracy 1.0000 (1.0000)\n",
      "Avg validation loss: 0.0018359125833376311 \t Accuracy: 0.998\n",
      "--------------------\n",
      "Epoch 11/20\tTime 14.605 sec (14.992 sec)\n",
      "--------------------\n",
      "Epoch: 12/20\n",
      "Batch: [0/40]\tTime 1.653 (1.653)\tLoss 0.0000 (0.0000)\tAccuracy 1.0000 (1.0000)\n",
      "Batch: [10/40]\tTime 0.061 (0.416)\tLoss 0.0000 (0.0000)\tAccuracy 1.0000 (1.0000)\n",
      "Batch: [20/40]\tTime 1.185 (0.412)\tLoss 0.0000 (0.0000)\tAccuracy 1.0000 (1.0000)\n",
      "Batch: [30/40]\tTime 0.073 (0.362)\tLoss 0.0000 (0.0000)\tAccuracy 1.0000 (1.0000)\n",
      "----------\n",
      "Test: [0/4]\tTime 1.614 (1.614)\tLoss 0.0000 (0.0000)\tAccuracy 1.0000 (1.0000)\n",
      "Avg validation loss: 0.0023542845661868343 \t Accuracy: 0.998\n",
      "--------------------\n",
      "Epoch 12/20\tTime 15.217 sec (15.009 sec)\n",
      "--------------------\n",
      "Epoch: 13/20\n",
      "Batch: [0/40]\tTime 1.810 (1.810)\tLoss 0.0000 (0.0000)\tAccuracy 1.0000 (1.0000)\n",
      "Batch: [10/40]\tTime 0.061 (0.425)\tLoss 0.0000 (0.0000)\tAccuracy 1.0000 (1.0000)\n",
      "Batch: [20/40]\tTime 1.127 (0.416)\tLoss 0.0000 (0.0000)\tAccuracy 1.0000 (1.0000)\n",
      "Batch: [30/40]\tTime 0.302 (0.359)\tLoss 0.0000 (0.0000)\tAccuracy 1.0000 (1.0000)\n",
      "----------\n",
      "Test: [0/4]\tTime 1.601 (1.601)\tLoss 0.0000 (0.0000)\tAccuracy 1.0000 (1.0000)\n",
      "Avg validation loss: 0.002302310743420094 \t Accuracy: 0.998\n",
      "--------------------\n",
      "Epoch 13/20\tTime 15.086 sec (15.015 sec)\n",
      "--------------------\n",
      "Epoch: 14/20\n",
      "Batch: [0/40]\tTime 1.641 (1.641)\tLoss 0.0000 (0.0000)\tAccuracy 1.0000 (1.0000)\n",
      "Batch: [10/40]\tTime 0.051 (0.419)\tLoss 0.0000 (0.0000)\tAccuracy 1.0000 (1.0000)\n",
      "Batch: [20/40]\tTime 0.932 (0.397)\tLoss 0.0000 (0.0000)\tAccuracy 1.0000 (1.0000)\n",
      "Batch: [30/40]\tTime 0.048 (0.346)\tLoss 0.0000 (0.0000)\tAccuracy 1.0000 (1.0000)\n",
      "----------\n",
      "Test: [0/4]\tTime 1.589 (1.589)\tLoss 0.0000 (0.0000)\tAccuracy 1.0000 (1.0000)\n",
      "Avg validation loss: 0.0020968621517313294 \t Accuracy: 0.998\n",
      "--------------------\n",
      "Epoch 14/20\tTime 14.448 sec (14.977 sec)\n",
      "--------------------\n",
      "Epoch: 15/20\n",
      "Batch: [0/40]\tTime 1.737 (1.737)\tLoss 0.0000 (0.0000)\tAccuracy 1.0000 (1.0000)\n",
      "Batch: [10/40]\tTime 0.092 (0.410)\tLoss 0.0000 (0.0000)\tAccuracy 1.0000 (1.0000)\n",
      "Batch: [20/40]\tTime 1.220 (0.403)\tLoss 0.0000 (0.0000)\tAccuracy 1.0000 (1.0000)\n",
      "Batch: [30/40]\tTime 0.049 (0.363)\tLoss 0.0000 (0.0000)\tAccuracy 1.0000 (1.0000)\n",
      "----------\n",
      "Test: [0/4]\tTime 1.596 (1.596)\tLoss 0.0000 (0.0000)\tAccuracy 1.0000 (1.0000)\n",
      "Avg validation loss: 0.0021813094321551036 \t Accuracy: 0.998\n",
      "--------------------\n",
      "Epoch 15/20\tTime 14.972 sec (14.976 sec)\n",
      "--------------------\n",
      "Epoch: 16/20\n",
      "Batch: [0/40]\tTime 1.665 (1.665)\tLoss 0.0000 (0.0000)\tAccuracy 1.0000 (1.0000)\n",
      "Batch: [10/40]\tTime 0.060 (0.412)\tLoss 0.0000 (0.0000)\tAccuracy 1.0000 (1.0000)\n",
      "Batch: [20/40]\tTime 1.318 (0.410)\tLoss 0.0000 (0.0000)\tAccuracy 1.0000 (1.0000)\n",
      "Batch: [30/40]\tTime 0.039 (0.368)\tLoss 0.0000 (0.0000)\tAccuracy 1.0000 (1.0000)\n",
      "----------\n",
      "Test: [0/4]\tTime 1.540 (1.540)\tLoss 0.0000 (0.0000)\tAccuracy 1.0000 (1.0000)\n",
      "Avg validation loss: 0.0022533276486792603 \t Accuracy: 0.998\n",
      "--------------------\n",
      "Epoch 16/20\tTime 15.128 sec (14.985 sec)\n",
      "--------------------\n",
      "Epoch: 17/20\n",
      "Batch: [0/40]\tTime 1.531 (1.531)\tLoss 0.0000 (0.0000)\tAccuracy 1.0000 (1.0000)\n",
      "Batch: [10/40]\tTime 0.068 (0.449)\tLoss 0.0000 (0.0000)\tAccuracy 1.0000 (1.0000)\n",
      "Batch: [20/40]\tTime 0.684 (0.423)\tLoss 0.0000 (0.0000)\tAccuracy 1.0000 (1.0000)\n",
      "Batch: [30/40]\tTime 0.423 (0.401)\tLoss 0.0000 (0.0000)\tAccuracy 1.0000 (1.0000)\n",
      "----------\n",
      "Test: [0/4]\tTime 1.781 (1.781)\tLoss 0.0000 (0.0000)\tAccuracy 1.0000 (1.0000)\n",
      "Avg validation loss: 0.0024577698474095087 \t Accuracy: 0.998\n",
      "--------------------\n",
      "Epoch 17/20\tTime 16.405 sec (15.064 sec)\n",
      "--------------------\n",
      "Epoch: 18/20\n",
      "Batch: [0/40]\tTime 2.052 (2.052)\tLoss 0.0000 (0.0000)\tAccuracy 1.0000 (1.0000)\n",
      "Batch: [10/40]\tTime 0.065 (0.606)\tLoss 0.0000 (0.0000)\tAccuracy 1.0000 (1.0000)\n",
      "Batch: [20/40]\tTime 1.029 (0.571)\tLoss 0.0000 (0.0000)\tAccuracy 1.0000 (1.0000)\n",
      "Batch: [30/40]\tTime 0.054 (0.543)\tLoss 0.0000 (0.0000)\tAccuracy 1.0000 (1.0000)\n",
      "----------\n",
      "Test: [0/4]\tTime 1.811 (1.811)\tLoss 0.0000 (0.0000)\tAccuracy 1.0000 (1.0000)\n",
      "Avg validation loss: 0.002283611606362683 \t Accuracy: 0.998\n",
      "--------------------\n",
      "Epoch 18/20\tTime 22.036 sec (15.431 sec)\n",
      "--------------------\n",
      "Epoch: 19/20\n",
      "Batch: [0/40]\tTime 2.383 (2.383)\tLoss 0.0000 (0.0000)\tAccuracy 1.0000 (1.0000)\n",
      "Batch: [10/40]\tTime 0.077 (0.605)\tLoss 0.0000 (0.0000)\tAccuracy 1.0000 (1.0000)\n",
      "Batch: [20/40]\tTime 1.837 (0.598)\tLoss 0.0000 (0.0000)\tAccuracy 1.0000 (1.0000)\n",
      "Batch: [30/40]\tTime 0.084 (0.538)\tLoss 0.0000 (0.0000)\tAccuracy 1.0000 (1.0000)\n",
      "----------\n",
      "Test: [0/4]\tTime 1.935 (1.935)\tLoss 0.0000 (0.0000)\tAccuracy 1.0000 (1.0000)\n",
      "Avg validation loss: 0.0022874391653676866 \t Accuracy: 0.998\n",
      "--------------------\n",
      "Epoch 19/20\tTime 22.143 sec (15.767 sec)\n",
      "--------------------\n"
     ]
    }
   ],
   "source": [
    "train_losses = []\n",
    "train_accs = []\n",
    "val_losses = []\n",
    "val_accs = []\n",
    "epoch_time = AverageMeter()\n",
    "ep_end = time.time()\n",
    "for epoch in range(0, 20):\n",
    "        print('Epoch: {}/{}'.format(epoch, num_epochs))\n",
    "        scheduler_cls.step()\n",
    "        scheduler_enc.step()\n",
    "        # train\n",
    "        train_loss, train_acc = train_encoder_classifier_epoch(train_loader, encoder,\n",
    "                                classifier, opt_enc,\n",
    "                                opt_cls, criterion, device)\n",
    "        train_losses.append(train_loss)\n",
    "        train_accs.append(train_acc)\n",
    "        # validate\n",
    "        print('-'*10)\n",
    "        val_loss, val_acc = validate_encoder_classifier_epoch(val_loader, encoder, classifier,\n",
    "                                 criterion, device)\n",
    "\n",
    "        print('Avg validation loss: {} \\t Accuracy: {}'.format(val_loss, val_acc))\n",
    "        val_losses.append(val_loss)\n",
    "        val_accs.append(val_acc)\n",
    "        \n",
    "        print('-' * 20)\n",
    "        epoch_time.update(time.time() - ep_end)\n",
    "        ep_end = time.time()\n",
    "        print('Epoch {}/{}\\t'\n",
    "              'Time {epoch_time.val:.3f} sec ({epoch_time.avg:.3f} sec)'.format(epoch, num_epochs, epoch_time=epoch_time))\n",
    "        print('-'*20)"
   ]
  },
  {
   "cell_type": "code",
   "execution_count": 18,
   "metadata": {},
   "outputs": [
    {
     "name": "stdout",
     "output_type": "stream",
     "text": [
      "Test: [0/4]\tTime 2.283 (2.283)\tLoss 0.0003 (0.0003)\tAccuracy 1.0000 (1.0000)\n"
     ]
    },
    {
     "name": "stderr",
     "output_type": "stream",
     "text": [
      "/home/var/anaconda3/envs/diss/lib/python3.6/site-packages/torch/nn/functional.py:1594: UserWarning: Using a target size (torch.Size([128])) that is different to the input size (torch.Size([128, 1])) is deprecated. Please ensure they have the same size.\n",
      "  \"Please ensure they have the same size.\".format(target.size(), input.size()))\n",
      "/home/var/anaconda3/envs/diss/lib/python3.6/site-packages/torch/nn/functional.py:1594: UserWarning: Using a target size (torch.Size([116])) that is different to the input size (torch.Size([116, 1])) is deprecated. Please ensure they have the same size.\n",
      "  \"Please ensure they have the same size.\".format(target.size(), input.size()))\n"
     ]
    },
    {
     "data": {
      "text/plain": [
       "(0.016707477256190033, 0.996)"
      ]
     },
     "execution_count": 18,
     "metadata": {},
     "output_type": "execute_result"
    }
   ],
   "source": [
    "validate_encoder_classifier_epoch(test_loader, encoder, classifier,\n",
    "                                 criterion, device)"
   ]
  },
  {
   "cell_type": "code",
   "execution_count": 19,
   "metadata": {},
   "outputs": [],
   "source": [
    "import matplotlib.pyplot as plt"
   ]
  },
  {
   "cell_type": "code",
   "execution_count": 20,
   "metadata": {},
   "outputs": [
    {
     "data": {
      "text/plain": [
       "[<matplotlib.lines.Line2D at 0x7f177306b550>]"
      ]
     },
     "execution_count": 20,
     "metadata": {},
     "output_type": "execute_result"
    },
    {
     "data": {
      "image/png": "[encoded data removed]",
      "text/plain": [
       "<Figure size 432x288 with 4 Axes>"
      ]
     },
     "metadata": {},
     "output_type": "display_data"
    }
   ],
   "source": [
    "plt.subplot(221)\n",
    "plt.title('training classification loss')\n",
    "plt.plot(train_losses)\n",
    "plt.subplot(222)\n",
    "plt.title('training accuracy')\n",
    "plt.plot(train_accs)\n",
    "plt.subplot(223)\n",
    "plt.title('validation loss')\n",
    "plt.plot(val_losses)\n",
    "plt.subplot(224)\n",
    "plt.title('validation accuracy')\n",
    "plt.plot(val_accs)"
   ]
  },
  {
   "cell_type": "code",
   "execution_count": 21,
   "metadata": {},
   "outputs": [],
   "source": [
    "from synthetic_dataloader import *"
   ]
  },
  {
   "cell_type": "code",
   "execution_count": 22,
   "metadata": {},
   "outputs": [],
   "source": [
    "shape_gender_train = ShapeGenderDataset(train_df)\n",
    "shape_gender_val = ShapeGenderDataset(val_df)\n",
    "shape_gender_test = ShapeGenderDataset(test_df)"
   ]
  },
  {
   "cell_type": "code",
   "execution_count": 23,
   "metadata": {},
   "outputs": [
    {
     "name": "stdout",
     "output_type": "stream",
     "text": [
      "0\n"
     ]
    }
   ],
   "source": [
    "reps = []\n",
    "shapes = []\n",
    "colors= []\n",
    "encoder.eval()\n",
    "with torch.no_grad():\n",
    "    for i in range(len(train_df)):\n",
    "        img, shape, color = shape_gender_train[i]\n",
    "        img = img.to(device).float()\n",
    "        img.unsqueeze_(0)\n",
    "        encoding = encoder(img)\n",
    "        reps.append(encoding[0].cpu().numpy())\n",
    "        shapes.append(shape)\n",
    "        colors.append(color)\n",
    "        if i == 0: \n",
    "            print(i)"
   ]
  },
  {
   "cell_type": "code",
   "execution_count": 24,
   "metadata": {},
   "outputs": [],
   "source": [
    "y_num = pd.DataFrame(shapes)\n",
    "s = pd.DataFrame(colors)\n",
    "X = pd.DataFrame(reps)"
   ]
  },
  {
   "cell_type": "code",
   "execution_count": 25,
   "metadata": {},
   "outputs": [],
   "source": [
    "import matplotlib.cm as cm\n",
    "font = {'weight' : 'bold',\n",
    "        'size'   : 22}\n",
    "\n",
    "matplotlib.rc('font', **font)\n",
    "plt.style.use('bmh')"
   ]
  },
  {
   "cell_type": "code",
   "execution_count": 26,
   "metadata": {},
   "outputs": [],
   "source": [
    "colors = cm.Dark2(np.linspace(0, 1, len(train_df.classes)))"
   ]
  },
  {
   "cell_type": "code",
   "execution_count": 27,
   "metadata": {},
   "outputs": [],
   "source": [
    "from sklearn.decomposition import PCA\n",
    "from sklearn.manifold import TSNE"
   ]
  },
  {
   "cell_type": "code",
   "execution_count": 28,
   "metadata": {},
   "outputs": [],
   "source": [
    "X_pca = PCA(n_components=50).fit_transform(X, X)\n",
    "tsne = TSNE(n_components=2, init='random', random_state=0)\n",
    "# X_r = tsne.fit_transform(X)\n",
    "X_r = tsne.fit_transform(X_pca)"
   ]
  },
  {
   "cell_type": "code",
   "execution_count": 29,
   "metadata": {},
   "outputs": [
    {
     "data": {
      "text/plain": [
       "{'circle': 0, 'rectangle': 1}"
      ]
     },
     "execution_count": 29,
     "metadata": {},
     "output_type": "execute_result"
    }
   ],
   "source": [
    "train_df.class_to_idx"
   ]
  },
  {
   "cell_type": "code",
   "execution_count": 30,
   "metadata": {},
   "outputs": [
    {
     "name": "stdout",
     "output_type": "stream",
     "text": [
      "Saved to: indep_adv_tsne_train_y.pdf\n"
     ]
    },
    {
     "data": {
      "image/png": "[encoded data removed]",
      "text/plain": [
       "<Figure size 432x288 with 1 Axes>"
      ]
     },
     "metadata": {},
     "output_type": "display_data"
    }
   ],
   "source": [
    "plt.figure(figsize=(10,10))\n",
    "plt.scatter(X_r[(y_num == 0)[0], 0], X_r[(y_num == 0)[0], 1], c=colors[0], label='circle')\n",
    "plt.scatter(X_r[(y_num == 1)[0], 0], X_r[(y_num == 1)[0], 1], c=colors[1], label='rectangle')\n",
    "plt.legend()\n",
    "# plt.show()\n",
    "out = \"indep_adv_tsne_train_y.pdf\"\n",
    "plt.savefig(out)\n",
    "print(\"Saved to: {}\".format(out))"
   ]
  },
  {
   "cell_type": "code",
   "execution_count": null,
   "metadata": {},
   "outputs": [],
   "source": []
  },
  {
   "cell_type": "code",
   "execution_count": 31,
   "metadata": {},
   "outputs": [
    {
     "name": "stdout",
     "output_type": "stream",
     "text": [
      "Saved to: indep_adv_tsne_train_s.pdf\n"
     ]
    },
    {
     "data": {
      "image/png": "[encoded data removed]",
      "text/plain": [
       "<Figure size 432x288 with 1 Axes>"
      ]
     },
     "metadata": {},
     "output_type": "display_data"
    }
   ],
   "source": [
    "plt.figure(figsize=(10,10))\n",
    "plt.scatter(X_r[(s == 1)[0], 0], X_r[(s == 1)[0], 1], c='red', label='red')\n",
    "plt.scatter(X_r[(s == 0)[0], 0], X_r[(s == 0)[0], 1], c='green', label='green')\n",
    "plt.legend()\n",
    "out = \"indep_adv_tsne_train_s.pdf\"\n",
    "plt.savefig(out)\n",
    "print(\"Saved to: {}\".format(out))\n",
    "# plt.show()"
   ]
  },
  {
   "cell_type": "code",
   "execution_count": null,
   "metadata": {},
   "outputs": [],
   "source": []
  },
  {
   "cell_type": "code",
   "execution_count": 32,
   "metadata": {},
   "outputs": [
    {
     "name": "stdout",
     "output_type": "stream",
     "text": [
      "0\n"
     ]
    }
   ],
   "source": [
    "reps_test = []\n",
    "shapes_test = []\n",
    "colors_test = []\n",
    "encoder.eval()\n",
    "with torch.no_grad():\n",
    "    for i in range(len(test_df)):\n",
    "        img, shape, color = shape_gender_test[i]\n",
    "        img = img.to(device).float()\n",
    "        img.unsqueeze_(0)\n",
    "        encoding = encoder(img)\n",
    "        reps_test.append(encoding[0].cpu().numpy())\n",
    "        shapes_test.append(shape)\n",
    "        colors_test.append(color)\n",
    "        if i == 0: \n",
    "            print(i)"
   ]
  },
  {
   "cell_type": "code",
   "execution_count": 33,
   "metadata": {},
   "outputs": [],
   "source": [
    "y_num_test = pd.DataFrame(shapes_test)\n",
    "s_test = pd.DataFrame(colors_test)\n",
    "X_test = pd.DataFrame(reps_test)"
   ]
  },
  {
   "cell_type": "code",
   "execution_count": 34,
   "metadata": {},
   "outputs": [],
   "source": [
    "X_pca_test = PCA(n_components=50).fit_transform(X_test, X_test)\n",
    "tsne_test = TSNE(n_components=2, init='random', random_state=0)\n",
    "# X_r = tsne.fit_transform(X)\n",
    "X_r_test = tsne_test.fit_transform(X_pca_test)"
   ]
  },
  {
   "cell_type": "code",
   "execution_count": 35,
   "metadata": {},
   "outputs": [],
   "source": [
    "colors = cm.Dark2(np.linspace(0, 1, len(train_df.classes)))"
   ]
  },
  {
   "cell_type": "code",
   "execution_count": 36,
   "metadata": {},
   "outputs": [
    {
     "name": "stdout",
     "output_type": "stream",
     "text": [
      "Saved to: indep_adv_tsne_test_y.pdf\n"
     ]
    },
    {
     "data": {
      "image/png": "[encoded data removed]",
      "text/plain": [
       "<Figure size 432x288 with 1 Axes>"
      ]
     },
     "metadata": {},
     "output_type": "display_data"
    }
   ],
   "source": [
    "plt.figure(figsize=(10,10))\n",
    "plt.scatter(X_r_test[(y_num_test == 0)[0], 0], X_r_test[(y_num_test == 0)[0], 1], c=colors[0], label='circle')\n",
    "plt.scatter(X_r_test[(y_num_test == 1)[0], 0], X_r_test[(y_num_test == 1)[0], 1], c=colors[1], label='rectangle')\n",
    "plt.legend()\n",
    "out = \"indep_adv_tsne_test_y.pdf\"\n",
    "plt.savefig(out)\n",
    "print(\"Saved to: {}\".format(out))"
   ]
  },
  {
   "cell_type": "code",
   "execution_count": null,
   "metadata": {},
   "outputs": [],
   "source": []
  },
  {
   "cell_type": "code",
   "execution_count": 37,
   "metadata": {},
   "outputs": [
    {
     "name": "stdout",
     "output_type": "stream",
     "text": [
      "Saved to: indep_adv_tsne_test_s.pdf\n"
     ]
    },
    {
     "data": {
      "image/png": "[encoded data removed]",
      "text/plain": [
       "<Figure size 432x288 with 1 Axes>"
      ]
     },
     "metadata": {},
     "output_type": "display_data"
    }
   ],
   "source": [
    "plt.figure(figsize=(10,10))\n",
    "plt.scatter(X_r_test[(s_test == 1)[0], 0], X_r_test[(s_test == 1)[0], 1], c='red', label='red')\n",
    "plt.scatter(X_r_test[(s_test == 0)[0], 0], X_r_test[(s_test == 0)[0], 1], c='green', label='green')\n",
    "plt.legend()\n",
    "out = \"indep_adv_tsne_test_s.pdf\"\n",
    "plt.savefig(out)\n",
    "print(\"Saved to: {}\".format(out))"
   ]
  },
  {
   "cell_type": "code",
   "execution_count": null,
   "metadata": {},
   "outputs": [],
   "source": []
  },
  {
   "cell_type": "code",
   "execution_count": null,
   "metadata": {},
   "outputs": [],
   "source": []
  }
 ],
 "metadata": {
  "kernelspec": {
   "display_name": "Python 3",
   "language": "python",
   "name": "python3"
  },
  "language_info": {
   "codemirror_mode": {
    "name": "ipython",
    "version": 3
   },
   "file_extension": ".py",
   "mimetype": "text/x-python",
   "name": "python",
   "nbconvert_exporter": "python",
   "pygments_lexer": "ipython3",
   "version": "3.6.6"
  }
 },
 "nbformat": 4,
 "nbformat_minor": 2
}
