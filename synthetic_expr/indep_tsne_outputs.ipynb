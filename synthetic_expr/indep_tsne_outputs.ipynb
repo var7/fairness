{
 "cells": [
  {
   "cell_type": "code",
   "execution_count": 1,
   "metadata": {},
   "outputs": [],
   "source": [
    "%matplotlib inline\n",
    "%load_ext autoreload\n",
    "%autoreload 2"
   ]
  },
  {
   "cell_type": "code",
   "execution_count": 2,
   "metadata": {},
   "outputs": [],
   "source": [
    "import pickle\n",
    "import pandas as pd\n",
    "import numpy as np\n",
    "import matplotlib.pyplot as plt\n",
    "import matplotlib"
   ]
  },
  {
   "cell_type": "code",
   "execution_count": 3,
   "metadata": {},
   "outputs": [],
   "source": [
    "import torch\n",
    "import torch.nn as nn\n",
    "import torch.backends.cudnn as cudnn\n",
    "import torch.optim as optim\n",
    "import torch.nn.functional as F\n",
    "import torch.optim.lr_scheduler as lr_scheduler\n",
    "from torchvision import transforms, utils, models, datasets\n",
    "from torch.utils.data import Dataset, DataLoader"
   ]
  },
  {
   "cell_type": "code",
   "execution_count": 4,
   "metadata": {},
   "outputs": [],
   "source": [
    "from synthetic_utils import *"
   ]
  },
  {
   "cell_type": "code",
   "execution_count": 5,
   "metadata": {},
   "outputs": [],
   "source": [
    "from trainer_dataloader import *\n",
    "from networks import *\n",
    "from losses import *"
   ]
  },
  {
   "cell_type": "code",
   "execution_count": 6,
   "metadata": {},
   "outputs": [],
   "source": [
    "input_size = 96\n",
    "batch_size = 128\n",
    "num_workers = 4\n",
    "num_epochs = 20"
   ]
  },
  {
   "cell_type": "code",
   "execution_count": 7,
   "metadata": {},
   "outputs": [
    {
     "name": "stdout",
     "output_type": "stream",
     "text": [
      "Device set: cuda\n"
     ]
    }
   ],
   "source": [
    "cuda = False\n",
    "pin_memory = False\n",
    "if torch.cuda.is_available():\n",
    "    device = torch.device(\"cuda\")\n",
    "    torch.set_default_tensor_type('torch.cuda.FloatTensor')\n",
    "    cuda = True\n",
    "    cudnn.benchmark = True\n",
    "    pin_memory = True\n",
    "else:\n",
    "    device = torch.device(\"cpu\")\n",
    "\n",
    "print('Device set: {}'.format(device))"
   ]
  },
  {
   "cell_type": "code",
   "execution_count": 8,
   "metadata": {},
   "outputs": [],
   "source": [
    "data_transforms = {\n",
    "        'train': transforms.Compose([\n",
    "            transforms.Resize((input_size, input_size)),\n",
    "#             transforms.RandomRotation(10),\n",
    "            transforms.ToTensor(),\n",
    "            transforms.Normalize((0.5, 0.5, 0.5), (0.5, 0.5, 0.5))\n",
    "        ]),\n",
    "        'val': transforms.Compose([\n",
    "            transforms.Resize((input_size, input_size)),\n",
    "            transforms.ToTensor(),\n",
    "            transforms.Normalize((0.5, 0.5, 0.5), (0.5, 0.5, 0.5))])\n",
    "}"
   ]
  },
  {
   "cell_type": "code",
   "execution_count": 9,
   "metadata": {},
   "outputs": [],
   "source": [
    "# DATA_PATH = '/home/s1791387/diss/gen_shapes/'\n",
    "DATA_PATH = '/home/var/synthetic_data/gen_shapes/'\n",
    "TRAIN_PATH = os.path.join(DATA_PATH, 'train')\n",
    "VAL_PATH = os.path.join(DATA_PATH, 'valid')\n",
    "TEST_PATH = os.path.join(DATA_PATH, 'test')"
   ]
  },
  {
   "cell_type": "code",
   "execution_count": 10,
   "metadata": {},
   "outputs": [],
   "source": [
    "train_df = datasets.ImageFolder(root=TRAIN_PATH, transform=data_transforms['train'])\n",
    "val_df = datasets.ImageFolder(root=VAL_PATH, transform=data_transforms['val'])\n",
    "test_df = datasets.ImageFolder(root=TEST_PATH, transform=data_transforms['val'])"
   ]
  },
  {
   "cell_type": "code",
   "execution_count": 11,
   "metadata": {},
   "outputs": [],
   "source": [
    "train_loader = DataLoader(train_df, batch_size=batch_size, shuffle=True, num_workers=num_workers, pin_memory=pin_memory)\n",
    "val_loader = DataLoader(val_df, batch_size=batch_size, shuffle=False, num_workers=num_workers, pin_memory=pin_memory)\n",
    "test_loader = DataLoader(test_df, batch_size=batch_size, shuffle=False, num_workers=num_workers, pin_memory=pin_memory)"
   ]
  },
  {
   "cell_type": "code",
   "execution_count": null,
   "metadata": {},
   "outputs": [],
   "source": []
  },
  {
   "cell_type": "markdown",
   "metadata": {},
   "source": [
    "## Train only encoder first\n"
   ]
  },
  {
   "cell_type": "code",
   "execution_count": 12,
   "metadata": {},
   "outputs": [],
   "source": [
    "encoder = LeNet()\n",
    "classifier = ClassNet()"
   ]
  },
  {
   "cell_type": "code",
   "execution_count": 13,
   "metadata": {},
   "outputs": [
    {
     "data": {
      "text/plain": [
       "ClassNet(\n",
       "  (fc1): Linear(in_features=128, out_features=8, bias=True)\n",
       "  (fc2): Linear(in_features=8, out_features=1, bias=True)\n",
       "  (out_acc): Sigmoid()\n",
       ")"
      ]
     },
     "execution_count": 13,
     "metadata": {},
     "output_type": "execute_result"
    }
   ],
   "source": [
    "encoder.to(device)\n",
    "classifier.to(device)"
   ]
  },
  {
   "cell_type": "code",
   "execution_count": 14,
   "metadata": {},
   "outputs": [],
   "source": [
    "criterion = nn.BCELoss()\n",
    "opt_cls = optim.Adam(classifier.parameters(), lr=0.001, betas=(0.9, 0.999))\n",
    "opt_enc = optim.Adam(encoder.parameters(), lr=0.001, betas=(0.9, 0.999))\n",
    "scheduler_cls = lr_scheduler.StepLR(optimizer=opt_cls, gamma=0.99, step_size=1)\n",
    "scheduler_enc = lr_scheduler.StepLR(optimizer=opt_enc, gamma=0.99, step_size=1)"
   ]
  },
  {
   "cell_type": "code",
   "execution_count": 15,
   "metadata": {},
   "outputs": [
    {
     "name": "stdout",
     "output_type": "stream",
     "text": [
      "Epoch: 0/20\n"
     ]
    },
    {
     "name": "stderr",
     "output_type": "stream",
     "text": [
      "/home/var/anaconda3/envs/diss/lib/python3.6/site-packages/torch/nn/functional.py:1594: UserWarning: Using a target size (torch.Size([128])) that is different to the input size (torch.Size([128, 1])) is deprecated. Please ensure they have the same size.\n",
      "  \"Please ensure they have the same size.\".format(target.size(), input.size()))\n"
     ]
    },
    {
     "name": "stdout",
     "output_type": "stream",
     "text": [
      "Batch: [0/40]\tTime 0.971 (0.971)\tLoss 0.6915 (0.6915)\tAccuracy 0.5312 (0.5312)\n",
      "Batch: [10/40]\tTime 0.067 (0.152)\tLoss 0.6899 (0.6978)\tAccuracy 0.5156 (0.5192)\n",
      "Batch: [20/40]\tTime 0.448 (0.161)\tLoss 0.6376 (0.6865)\tAccuracy 0.6484 (0.5342)\n",
      "Batch: [30/40]\tTime 0.098 (0.152)\tLoss 0.6800 (0.6794)\tAccuracy 0.6484 (0.5650)\n",
      "----------\n"
     ]
    },
    {
     "name": "stderr",
     "output_type": "stream",
     "text": [
      "/home/var/anaconda3/envs/diss/lib/python3.6/site-packages/torch/nn/functional.py:1594: UserWarning: Using a target size (torch.Size([8])) that is different to the input size (torch.Size([8, 1])) is deprecated. Please ensure they have the same size.\n",
      "  \"Please ensure they have the same size.\".format(target.size(), input.size()))\n"
     ]
    },
    {
     "name": "stdout",
     "output_type": "stream",
     "text": [
      "Test: [0/4]\tTime 0.707 (0.707)\tLoss 0.5273 (0.5273)\tAccuracy 0.6250 (0.6250)\n",
      "Avg validation loss: 0.6178317985534668 \t Accuracy: 0.692\n",
      "--------------------\n",
      "Epoch 0/20\tTime 6.844 sec (6.844 sec)\n",
      "--------------------\n",
      "Epoch: 1/20\n"
     ]
    },
    {
     "name": "stderr",
     "output_type": "stream",
     "text": [
      "/home/var/anaconda3/envs/diss/lib/python3.6/site-packages/torch/nn/functional.py:1594: UserWarning: Using a target size (torch.Size([116])) that is different to the input size (torch.Size([116, 1])) is deprecated. Please ensure they have the same size.\n",
      "  \"Please ensure they have the same size.\".format(target.size(), input.size()))\n"
     ]
    },
    {
     "name": "stdout",
     "output_type": "stream",
     "text": [
      "Batch: [0/40]\tTime 0.776 (0.776)\tLoss 0.5995 (0.5995)\tAccuracy 0.7188 (0.7188)\n",
      "Batch: [10/40]\tTime 0.036 (0.186)\tLoss 0.5859 (0.6080)\tAccuracy 0.6875 (0.6946)\n",
      "Batch: [20/40]\tTime 0.328 (0.171)\tLoss 0.5556 (0.6017)\tAccuracy 0.7266 (0.6830)\n",
      "Batch: [30/40]\tTime 0.047 (0.165)\tLoss 0.5174 (0.5888)\tAccuracy 0.6797 (0.6845)\n",
      "----------\n",
      "Test: [0/4]\tTime 0.726 (0.726)\tLoss 0.5777 (0.5777)\tAccuracy 0.6172 (0.6172)\n",
      "Avg validation loss: 0.5403427040576935 \t Accuracy: 0.696\n",
      "--------------------\n",
      "Epoch 1/20\tTime 6.936 sec (6.890 sec)\n",
      "--------------------\n",
      "Epoch: 2/20\n",
      "Batch: [0/40]\tTime 0.748 (0.748)\tLoss 0.4851 (0.4851)\tAccuracy 0.7500 (0.7500)\n",
      "Batch: [10/40]\tTime 0.035 (0.185)\tLoss 0.5539 (0.5328)\tAccuracy 0.7031 (0.7102)\n",
      "Batch: [20/40]\tTime 0.481 (0.183)\tLoss 0.4883 (0.5194)\tAccuracy 0.7969 (0.7247)\n",
      "Batch: [30/40]\tTime 0.048 (0.168)\tLoss 0.4774 (0.5058)\tAccuracy 0.7656 (0.7377)\n",
      "----------\n",
      "Test: [0/4]\tTime 0.718 (0.718)\tLoss 0.4963 (0.4963)\tAccuracy 0.7188 (0.7188)\n",
      "Avg validation loss: 0.466739648103714 \t Accuracy: 0.748\n",
      "--------------------\n",
      "Epoch 2/20\tTime 7.047 sec (6.942 sec)\n",
      "--------------------\n",
      "Epoch: 3/20\n",
      "Batch: [0/40]\tTime 0.749 (0.749)\tLoss 0.3764 (0.3764)\tAccuracy 0.8594 (0.8594)\n",
      "Batch: [10/40]\tTime 0.030 (0.186)\tLoss 0.4228 (0.4457)\tAccuracy 0.7812 (0.7855)\n",
      "Batch: [20/40]\tTime 0.451 (0.179)\tLoss 0.4117 (0.4411)\tAccuracy 0.8281 (0.7876)\n",
      "Batch: [30/40]\tTime 0.048 (0.166)\tLoss 0.3849 (0.4283)\tAccuracy 0.8438 (0.7964)\n",
      "----------\n",
      "Test: [0/4]\tTime 0.725 (0.725)\tLoss 0.3342 (0.3342)\tAccuracy 0.8047 (0.8047)\n",
      "Avg validation loss: 0.3806596670150757 \t Accuracy: 0.81\n",
      "--------------------\n",
      "Epoch 3/20\tTime 7.102 sec (6.982 sec)\n",
      "--------------------\n",
      "Epoch: 4/20\n",
      "Batch: [0/40]\tTime 0.760 (0.760)\tLoss 0.3586 (0.3586)\tAccuracy 0.8125 (0.8125)\n",
      "Batch: [10/40]\tTime 0.042 (0.190)\tLoss 0.3349 (0.3448)\tAccuracy 0.8672 (0.8452)\n",
      "Batch: [20/40]\tTime 0.546 (0.188)\tLoss 0.3481 (0.3570)\tAccuracy 0.8438 (0.8374)\n",
      "Batch: [30/40]\tTime 0.048 (0.168)\tLoss 0.3234 (0.3457)\tAccuracy 0.8516 (0.8455)\n",
      "----------\n",
      "Test: [0/4]\tTime 0.732 (0.732)\tLoss 0.2839 (0.2839)\tAccuracy 0.8359 (0.8359)\n",
      "Avg validation loss: 0.323163476228714 \t Accuracy: 0.858\n",
      "--------------------\n",
      "Epoch 4/20\tTime 7.232 sec (7.032 sec)\n",
      "--------------------\n",
      "Epoch: 5/20\n",
      "Batch: [0/40]\tTime 0.772 (0.772)\tLoss 0.3313 (0.3313)\tAccuracy 0.8516 (0.8516)\n",
      "Batch: [10/40]\tTime 0.045 (0.191)\tLoss 0.2059 (0.2756)\tAccuracy 0.9297 (0.8842)\n",
      "Batch: [20/40]\tTime 0.503 (0.183)\tLoss 0.3008 (0.2689)\tAccuracy 0.8438 (0.8895)\n",
      "Batch: [30/40]\tTime 0.044 (0.169)\tLoss 0.1969 (0.2533)\tAccuracy 0.8906 (0.8944)\n",
      "----------\n",
      "Test: [0/4]\tTime 0.698 (0.698)\tLoss 0.3745 (0.3745)\tAccuracy 0.7578 (0.7578)\n",
      "Avg validation loss: 0.27653542351722715 \t Accuracy: 0.868\n",
      "--------------------\n",
      "Epoch 5/20\tTime 7.073 sec (7.039 sec)\n",
      "--------------------\n",
      "Epoch: 6/20\n",
      "Batch: [0/40]\tTime 0.776 (0.776)\tLoss 0.2096 (0.2096)\tAccuracy 0.9062 (0.9062)\n",
      "Batch: [10/40]\tTime 0.060 (0.186)\tLoss 0.1905 (0.1978)\tAccuracy 0.9141 (0.9176)\n",
      "Batch: [20/40]\tTime 0.384 (0.178)\tLoss 0.2000 (0.1897)\tAccuracy 0.9219 (0.9263)\n",
      "Batch: [30/40]\tTime 0.136 (0.166)\tLoss 0.1902 (0.1857)\tAccuracy 0.9219 (0.9252)\n",
      "----------\n",
      "Test: [0/4]\tTime 0.688 (0.688)\tLoss 0.3727 (0.3727)\tAccuracy 0.7891 (0.7891)\n",
      "Avg validation loss: 0.2642393901348114 \t Accuracy: 0.886\n",
      "--------------------\n",
      "Epoch 6/20\tTime 7.058 sec (7.041 sec)\n",
      "--------------------\n",
      "Epoch: 7/20\n",
      "Batch: [0/40]\tTime 0.776 (0.776)\tLoss 0.1359 (0.1359)\tAccuracy 0.9453 (0.9453)\n",
      "Batch: [10/40]\tTime 0.038 (0.189)\tLoss 0.1099 (0.1484)\tAccuracy 0.9766 (0.9453)\n",
      "Batch: [20/40]\tTime 0.396 (0.179)\tLoss 0.1063 (0.1322)\tAccuracy 0.9531 (0.9475)\n",
      "Batch: [30/40]\tTime 0.046 (0.167)\tLoss 0.2499 (0.1310)\tAccuracy 0.8984 (0.9473)\n",
      "----------\n",
      "Test: [0/4]\tTime 0.695 (0.695)\tLoss 0.2671 (0.2671)\tAccuracy 0.8672 (0.8672)\n",
      "Avg validation loss: 0.21360868418216705 \t Accuracy: 0.908\n",
      "--------------------\n",
      "Epoch 7/20\tTime 7.050 sec (7.043 sec)\n",
      "--------------------\n",
      "Epoch: 8/20\n",
      "Batch: [0/40]\tTime 0.743 (0.743)\tLoss 0.1264 (0.1264)\tAccuracy 0.9453 (0.9453)\n",
      "Batch: [10/40]\tTime 0.035 (0.184)\tLoss 0.1330 (0.1105)\tAccuracy 0.9531 (0.9567)\n",
      "Batch: [20/40]\tTime 0.507 (0.181)\tLoss 0.0912 (0.0976)\tAccuracy 0.9688 (0.9647)\n",
      "Batch: [30/40]\tTime 0.052 (0.163)\tLoss 0.0804 (0.0941)\tAccuracy 0.9688 (0.9662)\n",
      "----------\n",
      "Test: [0/4]\tTime 0.708 (0.708)\tLoss 0.2324 (0.2324)\tAccuracy 0.8984 (0.8984)\n",
      "Avg validation loss: 0.1753283056616783 \t Accuracy: 0.932\n",
      "--------------------\n",
      "Epoch 8/20\tTime 6.882 sec (7.025 sec)\n",
      "--------------------\n",
      "Epoch: 9/20\n",
      "Batch: [0/40]\tTime 0.745 (0.745)\tLoss 0.0988 (0.0988)\tAccuracy 0.9688 (0.9688)\n",
      "Batch: [10/40]\tTime 0.049 (0.194)\tLoss 0.1078 (0.0783)\tAccuracy 0.9688 (0.9759)\n",
      "Batch: [20/40]\tTime 0.522 (0.186)\tLoss 0.0453 (0.0698)\tAccuracy 0.9922 (0.9784)\n",
      "Batch: [30/40]\tTime 0.032 (0.166)\tLoss 0.0455 (0.0680)\tAccuracy 0.9922 (0.9791)\n",
      "----------\n",
      "Test: [0/4]\tTime 0.722 (0.722)\tLoss 0.1773 (0.1773)\tAccuracy 0.9219 (0.9219)\n",
      "Avg validation loss: 0.16381447196006774 \t Accuracy: 0.938\n",
      "--------------------\n",
      "Epoch 9/20\tTime 7.076 sec (7.030 sec)\n",
      "--------------------\n"
     ]
    }
   ],
   "source": [
    "train_losses = []\n",
    "train_accs = []\n",
    "val_losses = []\n",
    "val_accs = []\n",
    "epoch_time = AverageMeter()\n",
    "ep_end = time.time()\n",
    "for epoch in range(0, 10):\n",
    "        print('Epoch: {}/{}'.format(epoch, num_epochs))\n",
    "        scheduler_cls.step()\n",
    "        scheduler_enc.step()\n",
    "        # train\n",
    "        train_loss, train_acc = train_encoder_classifier_epoch(train_loader, encoder,\n",
    "                                classifier, opt_enc,\n",
    "                                opt_cls, criterion, device)\n",
    "        train_losses.append(train_loss)\n",
    "        train_accs.append(train_acc)\n",
    "        # validate\n",
    "        print('-'*10)\n",
    "        val_loss, val_acc = validate_encoder_classifier_epoch(val_loader, encoder, classifier,\n",
    "                                 criterion, device)\n",
    "\n",
    "        print('Avg validation loss: {} \\t Accuracy: {}'.format(val_loss, val_acc))\n",
    "        val_losses.append(val_loss)\n",
    "        val_accs.append(val_acc)\n",
    "        \n",
    "        print('-' * 20)\n",
    "        epoch_time.update(time.time() - ep_end)\n",
    "        ep_end = time.time()\n",
    "        print('Epoch {}/{}\\t'\n",
    "              'Time {epoch_time.val:.3f} sec ({epoch_time.avg:.3f} sec)'.format(epoch, num_epochs, epoch_time=epoch_time))\n",
    "        print('-'*20)"
   ]
  },
  {
   "cell_type": "code",
   "execution_count": 16,
   "metadata": {},
   "outputs": [],
   "source": [
    "import matplotlib.pyplot as plt"
   ]
  },
  {
   "cell_type": "code",
   "execution_count": 17,
   "metadata": {},
   "outputs": [
    {
     "data": {
      "text/plain": [
       "[<matplotlib.lines.Line2D at 0x7fbde92824e0>]"
      ]
     },
     "execution_count": 17,
     "metadata": {},
     "output_type": "execute_result"
    },
    {
     "data": {
      "image/png": "[encoded data removed]",
      "text/plain": [
       "<Figure size 432x288 with 4 Axes>"
      ]
     },
     "metadata": {},
     "output_type": "display_data"
    }
   ],
   "source": [
    "plt.subplot(221)\n",
    "plt.title('training classification loss')\n",
    "plt.plot(train_losses)\n",
    "plt.subplot(222)\n",
    "plt.title('training accuracy')\n",
    "plt.plot(train_accs)\n",
    "plt.subplot(223)\n",
    "plt.title('validation loss')\n",
    "plt.plot(val_losses)\n",
    "plt.subplot(224)\n",
    "plt.title('validation accuracy')\n",
    "plt.plot(val_accs)"
   ]
  },
  {
   "cell_type": "code",
   "execution_count": 18,
   "metadata": {},
   "outputs": [],
   "source": [
    "from synthetic_dataloader import *"
   ]
  },
  {
   "cell_type": "code",
   "execution_count": 45,
   "metadata": {},
   "outputs": [],
   "source": [
    "shape_gender_train = ShapeGenderDataset(train_df)\n",
    "shape_gender_val = ShapeGenderDataset(val_df)\n",
    "shape_gender_test = ShapeGenderDataset(test_df)"
   ]
  },
  {
   "cell_type": "code",
   "execution_count": 46,
   "metadata": {},
   "outputs": [
    {
     "name": "stdout",
     "output_type": "stream",
     "text": [
      "0\n"
     ]
    }
   ],
   "source": [
    "reps = []\n",
    "shapes = []\n",
    "colors= []\n",
    "encoder.eval()\n",
    "with torch.no_grad():\n",
    "    for i in range(len(train_df)):\n",
    "        img, shape, color = shape_gender_train[i]\n",
    "        img = img.to(device).float()\n",
    "        img.unsqueeze_(0)\n",
    "        encoding = encoder(img)\n",
    "        reps.append(encoding[0].cpu().numpy())\n",
    "        shapes.append(shape)\n",
    "        colors.append(color)\n",
    "        if i == 0: \n",
    "            print(i)"
   ]
  },
  {
   "cell_type": "code",
   "execution_count": 47,
   "metadata": {},
   "outputs": [],
   "source": [
    "y_num = pd.DataFrame(shapes)\n",
    "s = pd.DataFrame(colors)\n",
    "X = pd.DataFrame(reps)"
   ]
  },
  {
   "cell_type": "code",
   "execution_count": 48,
   "metadata": {},
   "outputs": [],
   "source": [
    "import matplotlib.cm as cm\n",
    "plt.style.use('bmh')"
   ]
  },
  {
   "cell_type": "code",
   "execution_count": 49,
   "metadata": {},
   "outputs": [],
   "source": [
    "colors = cm.Dark2(np.linspace(0, 1, len(train_df.classes)))"
   ]
  },
  {
   "cell_type": "code",
   "execution_count": 50,
   "metadata": {},
   "outputs": [],
   "source": [
    "from sklearn.decomposition import PCA\n",
    "from sklearn.manifold import TSNE"
   ]
  },
  {
   "cell_type": "code",
   "execution_count": null,
   "metadata": {},
   "outputs": [],
   "source": [
    "X_pca = PCA(n_components=50).fit_transform(X, X)\n",
    "tsne = TSNE(n_components=2, init='random', random_state=0)\n",
    "# X_r = tsne.fit_transform(X)\n",
    "X_r = tsne.fit_transform(X_pca)"
   ]
  },
  {
   "cell_type": "code",
   "execution_count": null,
   "metadata": {},
   "outputs": [],
   "source": [
    "train_df.class_to_idx"
   ]
  },
  {
   "cell_type": "code",
   "execution_count": null,
   "metadata": {},
   "outputs": [],
   "source": [
    "plt.scatter(X_r[(y_num == 0)[0], 0], X_r[(y_num == 0)[0], 1], c=colors[0], label='circle')\n",
    "plt.scatter(X_r[(y_num == 1)[0], 0], X_r[(y_num == 1)[0], 1], c=colors[1], label='rectangle')\n",
    "plt.legend()\n",
    "# plt.show()\n",
    "out = \"indep_tsne_train_classifier_y.pdf\"\n",
    "plt.savefig(out)\n",
    "print(\"Saved to: {}\".format(out))"
   ]
  },
  {
   "cell_type": "code",
   "execution_count": null,
   "metadata": {},
   "outputs": [],
   "source": []
  },
  {
   "cell_type": "code",
   "execution_count": null,
   "metadata": {},
   "outputs": [],
   "source": [
    "plt.figure()\n",
    "plt.scatter(X_r[(s == 1)[0], 0], X_r[(s == 1)[0], 1], c='red', label='red')\n",
    "plt.scatter(X_r[(s == 0)[0], 0], X_r[(s == 0)[0], 1], c='green', label='green')\n",
    "plt.legend()\n",
    "out = \"indep_tsne_train_classifier_s.pdf\"\n",
    "plt.savefig(out)\n",
    "print(\"Saved to: {}\".format(out))\n",
    "# plt.show()"
   ]
  },
  {
   "cell_type": "code",
   "execution_count": 30,
   "metadata": {},
   "outputs": [
    {
     "name": "stdout",
     "output_type": "stream",
     "text": [
      "Saved to: indep_tsne_train_classifier_s.pdf\n"
     ]
    },
    {
     "data": {
      "text/plain": [
       "<Figure size 432x288 with 0 Axes>"
      ]
     },
     "metadata": {},
     "output_type": "display_data"
    }
   ],
   "source": []
  },
  {
   "cell_type": "code",
   "execution_count": 31,
   "metadata": {},
   "outputs": [
    {
     "name": "stdout",
     "output_type": "stream",
     "text": [
      "0\n"
     ]
    }
   ],
   "source": [
    "reps = []\n",
    "shapes = []\n",
    "colors= []\n",
    "encoder.eval()\n",
    "with torch.no_grad():\n",
    "    for i in range(len(test_df)):\n",
    "        img, shape, color = shape_gender_test[i]\n",
    "        img = img.to(device).float()\n",
    "        img.unsqueeze_(0)\n",
    "        encoding = encoder(img)\n",
    "        reps.append(encoding[0].cpu().numpy())\n",
    "        shapes.append(shape)\n",
    "        colors.append(color)\n",
    "        if i == 0: \n",
    "            print(i)"
   ]
  },
  {
   "cell_type": "code",
   "execution_count": 32,
   "metadata": {},
   "outputs": [],
   "source": [
    "y_num = pd.DataFrame(shapes)\n",
    "s = pd.DataFrame(colors)\n",
    "X = pd.DataFrame(reps)"
   ]
  },
  {
   "cell_type": "code",
   "execution_count": 33,
   "metadata": {},
   "outputs": [],
   "source": [
    "X_pca = PCA(n_components=50).fit_transform(X, X)\n",
    "tsne = TSNE(n_components=2, init='random', random_state=0)\n",
    "# X_r = tsne.fit_transform(X)\n",
    "X_r = tsne.fit_transform(X_pca)"
   ]
  },
  {
   "cell_type": "code",
   "execution_count": 34,
   "metadata": {},
   "outputs": [],
   "source": [
    "colors = cm.Dark2(np.linspace(0, 1, len(train_df.classes)))"
   ]
  },
  {
   "cell_type": "code",
   "execution_count": 41,
   "metadata": {},
   "outputs": [
    {
     "name": "stdout",
     "output_type": "stream",
     "text": [
      "Saved to: indep_tsne_test_classifier_y.pdf\n"
     ]
    },
    {
     "data": {
      "image/png": "[encoded data removed]",
      "text/plain": [
       "<Figure size 432x288 with 1 Axes>"
      ]
     },
     "metadata": {},
     "output_type": "display_data"
    }
   ],
   "source": [
    "plt.scatter(X_r[(y_num == 0)[0], 0], X_r[(y_num == 0)[0], 1], c=colors[0], label='circle')\n",
    "plt.scatter(X_r[(y_num == 1)[0], 0], X_r[(y_num == 1)[0], 1], c=colors[1], label='rectangle')\n",
    "plt.legend()\n",
    "out = \"indep_tsne_test_classifier_y.pdf\"\n",
    "plt.savefig(out)\n",
    "print(\"Saved to: {}\".format(out))"
   ]
  },
  {
   "cell_type": "code",
   "execution_count": null,
   "metadata": {},
   "outputs": [],
   "source": []
  },
  {
   "cell_type": "code",
   "execution_count": 42,
   "metadata": {},
   "outputs": [
    {
     "name": "stdout",
     "output_type": "stream",
     "text": [
      "Saved to: dep_tsne_test_classifier_y.pdf\n"
     ]
    },
    {
     "data": {
      "image/png": "[encoded data removed]",
      "text/plain": [
       "<Figure size 432x288 with 1 Axes>"
      ]
     },
     "metadata": {},
     "output_type": "display_data"
    }
   ],
   "source": [
    "plt.figure()\n",
    "plt.scatter(X_r[(s == 1)[0], 0], X_r[(s == 1)[0], 1], c='red', label='red')\n",
    "plt.scatter(X_r[(s == 0)[0], 0], X_r[(s == 0)[0], 1], c='green', label='green')\n",
    "plt.legend()\n",
    "out = \"dep_tsne_test_classifier_y.pdf\"\n",
    "plt.savefig(out)\n",
    "print(\"Saved to: {}\".format(out))"
   ]
  },
  {
   "cell_type": "code",
   "execution_count": 38,
   "metadata": {},
   "outputs": [
    {
     "name": "stdout",
     "output_type": "stream",
     "text": [
      "Saved to: dep_tsne_test_classifier_y.pdf\n"
     ]
    },
    {
     "data": {
      "text/plain": [
       "<Figure size 432x288 with 0 Axes>"
      ]
     },
     "metadata": {},
     "output_type": "display_data"
    }
   ],
   "source": []
  },
  {
   "cell_type": "code",
   "execution_count": null,
   "metadata": {},
   "outputs": [],
   "source": []
  }
 ],
 "metadata": {
  "kernelspec": {
   "display_name": "Python 3",
   "language": "python",
   "name": "python3"
  },
  "language_info": {
   "codemirror_mode": {
    "name": "ipython",
    "version": 3
   },
   "file_extension": ".py",
   "mimetype": "text/x-python",
   "name": "python",
   "nbconvert_exporter": "python",
   "pygments_lexer": "ipython3",
   "version": "3.6.6"
  }
 },
 "nbformat": 4,
 "nbformat_minor": 2
}
